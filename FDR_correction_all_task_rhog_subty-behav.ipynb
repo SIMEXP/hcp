{
 "cells": [
  {
   "cell_type": "code",
   "execution_count": 273,
   "id": "marine-pressing",
   "metadata": {},
   "outputs": [],
   "source": [
    "import os\n",
    "import numpy as np\n",
    "import pandas as pd\n",
    "import seaborn as sns; sns.set(color_codes=True)"
   ]
  },
  {
   "cell_type": "code",
   "execution_count": 314,
   "id": "australian-consensus",
   "metadata": {},
   "outputs": [],
   "source": [
    "# Define FDR function\n",
    "from statsmodels.sandbox.stats import multicomp as smi\n",
    "def fdr_transf(mat,log10 = True):\n",
    "    '''compute fdr of a given matrix'''\n",
    "    \n",
    "    row = mat.shape[0]\n",
    "    col = mat.shape[1]\n",
    "    flatt = mat.flatten()\n",
    "    # replace 0's by 1\n",
    "    flatt[flatt == 0] =1\n",
    "    fdr_2d = smi.multipletests(flatt, alpha=0.05, method='fdr_bh')[1]\n",
    "    if log10 == True:\n",
    "        fdr_2d = [-np.log10(ii) for ii in fdr_2d] \n",
    "    fdr_3d = np.reshape(fdr_2d,(row,col))\n",
    "    return fdr_3d"
   ]
  },
  {
   "cell_type": "code",
   "execution_count": 315,
   "id": "urban-showcase",
   "metadata": {},
   "outputs": [],
   "source": [
    "# Set path \n",
    "path_pheno = '/data/cisl/yassinebha/data_disk/Drive/HCP2/subtypes_scores/26-10-2016/pheno/'\n",
    "path_root = '/data/cisl/yassinebha/scratch_pin/pleio/pleio_association/'\n",
    "# Set task-trial name dictionary\n",
    "task_trial = {'gambling':['win','loss','contrast_win_vs_loss'], \n",
    "              'motor':['rh', 't', 'lf', 'lh', 'rf'],\n",
    "              'relational':['relation', 'match','contrast_relation_vs_match'],\n",
    "              'language':['story'],\n",
    "              'wm':['2bk','0bk','contrast_2bk_vs_0bk'],\n",
    "              'emotion':['contrast_fear_vs_neut'],\n",
    "              'social':['mental','contrast_mental_vs_rnd']}\n"
   ]
  },
  {
   "cell_type": "code",
   "execution_count": 316,
   "id": "regional-collection",
   "metadata": {
    "scrolled": true
   },
   "outputs": [],
   "source": [
    "# Gather all p_values from 7 tasks\n",
    "all_pval_0 =dict()\n",
    "for ix_task, task in enumerate(task_trial.keys()):\n",
    "    for ix_trial, trial in enumerate(task_trial[task]):\n",
    "        if task == 'wm':\n",
    "            path_pleio = os.path.join(path_root,'pleio_{}_{}_tmp2'.format('2018-08-22',task))\n",
    "        else:\n",
    "            path_pleio = os.path.join(path_root,'pleio_{}_{}'.format('2018-08-22',task))\n",
    "        all_results = np.load(os.path.join(path_pleio,'pleio_all_resuts.npy'),allow_pickle=True).item()\n",
    "        all_pval_0.update({'{}'.format(trial):all_results[trial]['RhoG_pval_0']})\n",
    "    "
   ]
  },
  {
   "cell_type": "code",
   "execution_count": 317,
   "id": "capital-killer",
   "metadata": {},
   "outputs": [],
   "source": [
    "# calculate FDR for all 7 tasks\n",
    "resul_ = pd.DataFrame(fdr_transf(np.concatenate([v for k,v in all_pval_0.items()], 1)),\n",
    "                      columns= ['{}_{}'.format(task,trial)\n",
    "                                for task in task_trial.keys()\n",
    "                                for trial in task_trial[task]\n",
    "                                for i in np.arange(13)])\n"
   ]
  },
  {
   "cell_type": "code",
   "execution_count": 318,
   "id": "worth-stuart",
   "metadata": {},
   "outputs": [],
   "source": [
    "# save FDR to csv file\n",
    "for ix_task, task in enumerate(task_trial.keys()):\n",
    "    for ix_trial, trial in enumerate(task_trial[task]):\n",
    "        to_save_ = resul_.filter(regex='{}_{}'.format(task,trial), axis=1)\n",
    "        if task == 'wm':\n",
    "            path_pleio = os.path.join(path_root,'pleio_{}_{}_tmp2'.format('2018-08-22',task))\n",
    "        else:\n",
    "            path_pleio = os.path.join(path_root,'pleio_{}_{}'.format('2018-08-22',task))\n",
    "        to_save_.to_csv(os.path.join(path_pleio,'{}_FDR.csv'.format(trial)),index=False)"
   ]
  },
  {
   "cell_type": "code",
   "execution_count": 319,
   "id": "demographic-launch",
   "metadata": {},
   "outputs": [],
   "source": [
    "data = resul_.values"
   ]
  },
  {
   "cell_type": "code",
   "execution_count": 320,
   "id": "sapphire-recognition",
   "metadata": {},
   "outputs": [
    {
     "data": {
      "text/plain": [
       "<AxesSubplot:>"
      ]
     },
     "execution_count": 320,
     "metadata": {},
     "output_type": "execute_result"
    },
    {
     "data": {
      "image/png": "[encoded data removed]",
      "text/plain": [
       "<Figure size 432x288 with 2 Axes>"
      ]
     },
     "metadata": {},
     "output_type": "display_data"
    }
   ],
   "source": [
    "sns.heatmap(data)"
   ]
  },
  {
   "cell_type": "code",
   "execution_count": null,
   "id": "pregnant-vertex",
   "metadata": {},
   "outputs": [],
   "source": []
  }
 ],
 "metadata": {
  "kernelspec": {
   "display_name": "Python 3",
   "language": "python",
   "name": "python3"
  },
  "language_info": {
   "codemirror_mode": {
    "name": "ipython",
    "version": 3
   },
   "file_extension": ".py",
   "mimetype": "text/x-python",
   "name": "python",
   "nbconvert_exporter": "python",
   "pygments_lexer": "ipython3",
   "version": "3.7.9"
  }
 },
 "nbformat": 4,
 "nbformat_minor": 5
}
