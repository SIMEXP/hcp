{
 "cells": [
  {
   "cell_type": "markdown",
   "metadata": {
    "deletable": true,
    "editable": true
   },
   "source": [
    "Create a stack from of subtypes maps from all task and trial"
   ]
  },
  {
   "cell_type": "code",
   "execution_count": 1,
   "metadata": {
    "collapsed": true,
    "deletable": true,
    "editable": true
   },
   "outputs": [],
   "source": [
    "import seaborn as sns\n",
    "import os\n",
    "import numpy as np\n",
    "from scipy import stats, integrate\n",
    "import scipy.io as sio\n",
    "import pandas as pd\n",
    "from pandas.tools.plotting import scatter_matrix\n",
    "import seaborn as sns; sns.set(color_codes=True)\n",
    "import matplotlib.pyplot as plt\n",
    "import functools\n",
    "import seaborn as sns"
   ]
  },
  {
   "cell_type": "code",
   "execution_count": 2,
   "metadata": {
    "collapsed": false,
    "deletable": true,
    "editable": true
   },
   "outputs": [],
   "source": [
    "# load good stuff\n",
    "%matplotlib inline\n",
    "%load_ext rpy2.ipython\n",
    "%load_ext oct2py.ipython\n",
    "sns.set(color_codes=True)"
   ]
  },
  {
   "cell_type": "code",
   "execution_count": 3,
   "metadata": {
    "collapsed": true,
    "deletable": true,
    "editable": true
   },
   "outputs": [],
   "source": [
    "import warnings\n",
    "warnings.filterwarnings('ignore')"
   ]
  },
  {
   "cell_type": "code",
   "execution_count": 4,
   "metadata": {
    "collapsed": true,
    "deletable": true,
    "editable": true
   },
   "outputs": [],
   "source": [
    "#  Set path\n",
    "path_root = '/home/yassinebha/Drive/HCP/subtypes_scores/26-10-2016/'\n",
    "list_subtype_folder = ['subtype_5_spm_EMOTION_23-May-2017','subtype_5_spm_GAMBLING_19-Jun-2017','subtype_5_spm_LANGUAGE_18-Jun-2017',\n",
    "                      'subtype_5_spm_MOTOR_19-Jun-2017','subtype_5_spm_RELATIONAL_18-Jun-2017','subtype_5_spm_SOCIAL_18-Jun-2017',\n",
    "                       'subtype_5_spm_WM_18-Jun-2017']\n",
    "list_subtype = ['sub1','sub2','sub3','sub4','sub5']"
   ]
  },
  {
   "cell_type": "code",
   "execution_count": 5,
   "metadata": {
    "collapsed": false,
    "deletable": true,
    "editable": true
   },
   "outputs": [
    {
     "data": {
      "text/plain": [
       "Variables in the current scope:"
      ]
     },
     "metadata": {},
     "output_type": "display_data"
    },
    {
     "data": {
      "text/plain": []
     },
     "metadata": {},
     "output_type": "display_data"
    },
    {
     "data": {
      "text/plain": [
       "   Attr Name            Size                     Bytes  Class"
      ]
     },
     "metadata": {},
     "output_type": "display_data"
    },
    {
     "data": {
      "text/plain": [
       "   ==== ====            ====                     =====  ===== "
      ]
     },
     "metadata": {},
     "output_type": "display_data"
    },
    {
     "data": {
      "text/plain": [
       "        mat_weight      1x1                      99111  struct"
      ]
     },
     "metadata": {},
     "output_type": "display_data"
    },
    {
     "data": {
      "text/plain": []
     },
     "metadata": {},
     "output_type": "display_data"
    },
    {
     "data": {
      "text/plain": [
       "Total is 1 element using 99111 bytes"
      ]
     },
     "metadata": {},
     "output_type": "display_data"
    },
    {
     "data": {
      "text/plain": []
     },
     "metadata": {},
     "output_type": "display_data"
    }
   ],
   "source": [
    "%%octave -o mat_weight\n",
    "clear\n",
    "cd /home/yassinebha/Drive/HCP/subtypes_scores/26-10-2016/subtype_5_spm_RELATIONAL_18-Jun-2017\n",
    "mat_weight = load('subtype_weights.mat');\n",
    "whos"
   ]
  },
  {
   "cell_type": "code",
   "execution_count": 6,
   "metadata": {
    "collapsed": false,
    "deletable": true,
    "editable": true
   },
   "outputs": [
    {
     "data": {
      "image/png": "[encoded data removed]",
      "text/plain": [
       "<matplotlib.figure.Figure at 0x7fd764e12da0>"
      ]
     },
     "metadata": {},
     "output_type": "display_data"
    }
   ],
   "source": [
    "plt.pcolor(mat_weight.weight_mat[:,:,0], cmap='hot')\n",
    "plt.show()"
   ]
  },
  {
   "cell_type": "code",
   "execution_count": 11,
   "metadata": {
    "collapsed": false
   },
   "outputs": [
    {
     "data": {
      "text/plain": [
       "Cell(['0bk', '2bk', 'body', 'contrast_2bk_vs_0bk',\n",
       "       'contrast_body_vs_places', 'contrast_faces_vs_places',\n",
       "       'contrast_tools_vs_places', 'faces', 'places', 'tools'])"
      ]
     },
     "execution_count": 11,
     "metadata": {},
     "output_type": "execute_result"
    }
   ],
   "source": [
    "list_trial"
   ]
  },
  {
   "cell_type": "code",
   "execution_count": 12,
   "metadata": {
    "collapsed": false,
    "deletable": true,
    "editable": true
   },
   "outputs": [],
   "source": [
    "for cx,folder in enumerate(list_subtype_folder):\n",
    "    mat_file = os.path.join(path_root,folder,'subtype_weights.mat')\n",
    "    %octave_push mat_file\n",
    "    %octave mat_load = load(mat_file);\n",
    "    %octave_pull mat_load\n",
    "    #list_trial  = mat_load.list_network\n",
    "    path_network =  os.path.join(path_root,folder,'networks/')\n",
    "    list_trial  = [f for f in os.listdir(path_network)]\n",
    "    for ix,trial_name in enumerate(list_trial) :\n",
    "        if np.size(list_trial) == 1:\n",
    "            subtype = mat_load.weight_mat\n",
    "        else:\n",
    "            subtype = mat_load.weight_mat[:,:,ix]\n",
    "        subtype_name = ['{}_{}'.format(subt,trial_name) for subt in list_subtype ]\n",
    "        if ix == 0:\n",
    "            subtype_final = subtype\n",
    "            subtype_name_final = subtype_name\n",
    "        else:\n",
    "            subtype_final = [np.concatenate([subtype_final[x], subtype[x]]) for x in range(np.shape(subtype)[0])]\n",
    "            subtype_name_final = np.concatenate([subtype_name_final, subtype_name]) \n",
    "    # make dataframe\n",
    "    all_stack_df = pd.DataFrame(subtype_final,columns=subtype_name_final)\n",
    "    all_stack_df.insert(0, 'ID', mat_load.list_subject)\n",
    "    all_stack_df.to_csv(os.path.join(path_root,folder,'{}_subtype_stack.csv'.format(''.join(c for c in folder if c.isupper())[:-1]))\n",
    "                        ,index=False)\n",
    "    # Merge dataframes\n",
    "    if cx == 0:\n",
    "        dfs = all_stack_df\n",
    "    else:\n",
    "        dfs = [dfs,all_stack_df]\n",
    "        dfs = functools.reduce(lambda left,right: pd.merge(left,right,on='ID'), dfs)\n",
    "# Save final stack\n",
    "dfs.to_csv(os.path.join(path_root,'pheno/all_subtypes_weights_stack.csv'),index=False)"
   ]
  },
  {
   "cell_type": "code",
   "execution_count": 29,
   "metadata": {
    "collapsed": false
   },
   "outputs": [
    {
     "data": {
      "text/html": [
       "<div>\n",
       "<table border=\"1\" class=\"dataframe\">\n",
       "  <thead>\n",
       "    <tr style=\"text-align: right;\">\n",
       "      <th></th>\n",
       "      <th>ID</th>\n",
       "      <th>sub1_fear</th>\n",
       "      <th>sub2_fear</th>\n",
       "      <th>sub3_fear</th>\n",
       "      <th>sub4_fear</th>\n",
       "      <th>sub5_fear</th>\n",
       "      <th>sub1_win</th>\n",
       "      <th>sub2_win</th>\n",
       "      <th>sub3_win</th>\n",
       "      <th>sub4_win</th>\n",
       "      <th>...</th>\n",
       "      <th>sub1_tools</th>\n",
       "      <th>sub2_tools</th>\n",
       "      <th>sub3_tools</th>\n",
       "      <th>sub4_tools</th>\n",
       "      <th>sub5_tools</th>\n",
       "      <th>sub1_0bk</th>\n",
       "      <th>sub2_0bk</th>\n",
       "      <th>sub3_0bk</th>\n",
       "      <th>sub4_0bk</th>\n",
       "      <th>sub5_0bk</th>\n",
       "    </tr>\n",
       "  </thead>\n",
       "  <tbody>\n",
       "    <tr>\n",
       "      <th>0</th>\n",
       "      <td>HCP100307</td>\n",
       "      <td>-0.539191</td>\n",
       "      <td>-0.050346</td>\n",
       "      <td>0.543340</td>\n",
       "      <td>-0.515124</td>\n",
       "      <td>0.280902</td>\n",
       "      <td>-0.006883</td>\n",
       "      <td>-0.033195</td>\n",
       "      <td>0.217270</td>\n",
       "      <td>-0.037873</td>\n",
       "      <td>...</td>\n",
       "      <td>-0.022100</td>\n",
       "      <td>-0.617686</td>\n",
       "      <td>0.630615</td>\n",
       "      <td>0.475780</td>\n",
       "      <td>-0.649307</td>\n",
       "      <td>-0.180732</td>\n",
       "      <td>0.030449</td>\n",
       "      <td>-0.162491</td>\n",
       "      <td>0.340034</td>\n",
       "      <td>-0.353718</td>\n",
       "    </tr>\n",
       "    <tr>\n",
       "      <th>1</th>\n",
       "      <td>HCP100408</td>\n",
       "      <td>0.652690</td>\n",
       "      <td>0.270182</td>\n",
       "      <td>-0.553928</td>\n",
       "      <td>0.544952</td>\n",
       "      <td>-0.514009</td>\n",
       "      <td>0.098829</td>\n",
       "      <td>-0.181294</td>\n",
       "      <td>-0.039191</td>\n",
       "      <td>0.338578</td>\n",
       "      <td>...</td>\n",
       "      <td>-0.249429</td>\n",
       "      <td>0.710111</td>\n",
       "      <td>-0.676625</td>\n",
       "      <td>-0.333601</td>\n",
       "      <td>0.618380</td>\n",
       "      <td>0.284870</td>\n",
       "      <td>0.167466</td>\n",
       "      <td>-0.026191</td>\n",
       "      <td>-0.518541</td>\n",
       "      <td>0.548890</td>\n",
       "    </tr>\n",
       "    <tr>\n",
       "      <th>2</th>\n",
       "      <td>HCP100610</td>\n",
       "      <td>-0.162517</td>\n",
       "      <td>0.041254</td>\n",
       "      <td>0.231615</td>\n",
       "      <td>-0.223435</td>\n",
       "      <td>0.027874</td>\n",
       "      <td>-0.107612</td>\n",
       "      <td>0.020006</td>\n",
       "      <td>0.067681</td>\n",
       "      <td>0.037036</td>\n",
       "      <td>...</td>\n",
       "      <td>-0.099178</td>\n",
       "      <td>-0.091301</td>\n",
       "      <td>0.100565</td>\n",
       "      <td>0.122256</td>\n",
       "      <td>-0.103447</td>\n",
       "      <td>0.177411</td>\n",
       "      <td>0.019632</td>\n",
       "      <td>-0.103602</td>\n",
       "      <td>-0.019403</td>\n",
       "      <td>-0.007325</td>\n",
       "    </tr>\n",
       "    <tr>\n",
       "      <th>3</th>\n",
       "      <td>HCP101006</td>\n",
       "      <td>0.094900</td>\n",
       "      <td>0.056115</td>\n",
       "      <td>-0.087209</td>\n",
       "      <td>0.109729</td>\n",
       "      <td>-0.099172</td>\n",
       "      <td>-0.345533</td>\n",
       "      <td>0.242849</td>\n",
       "      <td>0.237494</td>\n",
       "      <td>0.193582</td>\n",
       "      <td>...</td>\n",
       "      <td>-0.168928</td>\n",
       "      <td>-0.096329</td>\n",
       "      <td>0.089120</td>\n",
       "      <td>0.221224</td>\n",
       "      <td>-0.136985</td>\n",
       "      <td>0.068738</td>\n",
       "      <td>-0.020197</td>\n",
       "      <td>0.025737</td>\n",
       "      <td>0.035850</td>\n",
       "      <td>-0.087892</td>\n",
       "    </tr>\n",
       "    <tr>\n",
       "      <th>4</th>\n",
       "      <td>HCP101309</td>\n",
       "      <td>0.195645</td>\n",
       "      <td>0.321060</td>\n",
       "      <td>-0.084602</td>\n",
       "      <td>0.097719</td>\n",
       "      <td>-0.329707</td>\n",
       "      <td>-0.123095</td>\n",
       "      <td>0.147064</td>\n",
       "      <td>-0.164810</td>\n",
       "      <td>0.006652</td>\n",
       "      <td>...</td>\n",
       "      <td>0.104298</td>\n",
       "      <td>0.270694</td>\n",
       "      <td>-0.275675</td>\n",
       "      <td>-0.281790</td>\n",
       "      <td>0.301439</td>\n",
       "      <td>-0.006631</td>\n",
       "      <td>-0.006952</td>\n",
       "      <td>0.090228</td>\n",
       "      <td>-0.117444</td>\n",
       "      <td>0.132384</td>\n",
       "    </tr>\n",
       "  </tbody>\n",
       "</table>\n",
       "<p>5 rows × 116 columns</p>\n",
       "</div>"
      ],
      "text/plain": [
       "          ID  sub1_fear  sub2_fear  sub3_fear  sub4_fear  sub5_fear  sub1_win  \\\n",
       "0  HCP100307  -0.539191  -0.050346   0.543340  -0.515124   0.280902 -0.006883   \n",
       "1  HCP100408   0.652690   0.270182  -0.553928   0.544952  -0.514009  0.098829   \n",
       "2  HCP100610  -0.162517   0.041254   0.231615  -0.223435   0.027874 -0.107612   \n",
       "3  HCP101006   0.094900   0.056115  -0.087209   0.109729  -0.099172 -0.345533   \n",
       "4  HCP101309   0.195645   0.321060  -0.084602   0.097719  -0.329707 -0.123095   \n",
       "\n",
       "   sub2_win  sub3_win  sub4_win    ...     sub1_tools  sub2_tools  sub3_tools  \\\n",
       "0 -0.033195  0.217270 -0.037873    ...      -0.022100   -0.617686    0.630615   \n",
       "1 -0.181294 -0.039191  0.338578    ...      -0.249429    0.710111   -0.676625   \n",
       "2  0.020006  0.067681  0.037036    ...      -0.099178   -0.091301    0.100565   \n",
       "3  0.242849  0.237494  0.193582    ...      -0.168928   -0.096329    0.089120   \n",
       "4  0.147064 -0.164810  0.006652    ...       0.104298    0.270694   -0.275675   \n",
       "\n",
       "   sub4_tools  sub5_tools  sub1_0bk  sub2_0bk  sub3_0bk  sub4_0bk  sub5_0bk  \n",
       "0    0.475780   -0.649307 -0.180732  0.030449 -0.162491  0.340034 -0.353718  \n",
       "1   -0.333601    0.618380  0.284870  0.167466 -0.026191 -0.518541  0.548890  \n",
       "2    0.122256   -0.103447  0.177411  0.019632 -0.103602 -0.019403 -0.007325  \n",
       "3    0.221224   -0.136985  0.068738 -0.020197  0.025737  0.035850 -0.087892  \n",
       "4   -0.281790    0.301439 -0.006631 -0.006952  0.090228 -0.117444  0.132384  \n",
       "\n",
       "[5 rows x 116 columns]"
      ]
     },
     "execution_count": 29,
     "metadata": {},
     "output_type": "execute_result"
    }
   ],
   "source": [
    "dfs.head()"
   ]
  },
  {
   "cell_type": "code",
   "execution_count": 36,
   "metadata": {
    "collapsed": true
   },
   "outputs": [],
   "source": [
    "# Make matrix out of the remaining guys except subject ID column\n",
    "stack_mat = dfs.ix[:,1:].as_matrix()\n",
    "# Normalize these guys by column\n",
    "stack_norm = (stack_mat - np.mean(stack_mat, 0))/np.std(stack_mat, 0)\n"
   ]
  },
  {
   "cell_type": "markdown",
   "metadata": {
    "deletable": true,
    "editable": true
   },
   "source": [
    "110\n",
    "down vote\n",
    "Assumed imports:\n",
    "\n",
    "import pandas as pd\n",
    "John Galt's answer is basically a reduce operation. If I have more than a handful of dataframes, I'd put them in a list like this (generated via list comprehensions or loops or whatnot):\n",
    "\n",
    "dfs = [df0, df1, df2, dfN]\n",
    "Assuming they have some common column, like name in your example, I'd do the following:\n",
    "\n",
    "df_final = reduce(lambda left,right: pd.merge(left,right,on='name'), dfs)\n",
    "That way, your code should work with whatever number of dataframes you want to merge.\n",
    "\n",
    "Edit August 1, 2016: For those using Python 3: reduce has been moved into functools. So to use this function, you'll first need to import that module."
   ]
  },
  {
   "cell_type": "code",
   "execution_count": 37,
   "metadata": {
    "collapsed": false,
    "deletable": true,
    "editable": true
   },
   "outputs": [],
   "source": [
    "# Save normalized stack\n",
    "ind = dfs.index\n",
    "stack_norm_df = pd.DataFrame(stack_norm, columns=dfs.ix[:,1:].columns.get_values(),index=ind)\n",
    "stack_norm_df.insert(0, 'IDs', dfs.ID)\n",
    "# save\n",
    "stack_norm_df.to_csv(os.path.join(path_root,'pheno/all_subtypes_weights_stack.csv'),index=False)"
   ]
  }
 ],
 "metadata": {
  "kernelspec": {
   "display_name": "Python 3",
   "language": "python",
   "name": "python3"
  },
  "language_info": {
   "codemirror_mode": {
    "name": "ipython",
    "version": 3
   },
   "file_extension": ".py",
   "mimetype": "text/x-python",
   "name": "python",
   "nbconvert_exporter": "python",
   "pygments_lexer": "ipython3",
   "version": "3.4.3"
  }
 },
 "nbformat": 4,
 "nbformat_minor": 2
}
