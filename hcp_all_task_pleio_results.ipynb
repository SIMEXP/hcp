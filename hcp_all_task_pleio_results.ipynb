{
 "cells": [
  {
   "cell_type": "code",
   "execution_count": null,
   "metadata": {},
   "outputs": [],
   "source": []
  },
  {
   "cell_type": "code",
   "execution_count": 4,
   "metadata": {},
   "outputs": [],
   "source": [
    "import os\n",
    "import pandas as pd\n",
    "import numpy as np\n",
    "import matplotlib.pyplot as plt"
   ]
  },
  {
   "cell_type": "code",
   "execution_count": 5,
   "metadata": {},
   "outputs": [],
   "source": [
    "%matplotlib inline"
   ]
  },
  {
   "cell_type": "code",
   "execution_count": 8,
   "metadata": {},
   "outputs": [],
   "source": [
    "# Set path\n",
    "path_root = '/scratch/yassinebha/pleio/pleio_all_tasks/'\n",
    "path_pleio = os.path.join(path_root,'pleio_2018-07-26')\n"
   ]
  },
  {
   "cell_type": "code",
   "execution_count": 9,
   "metadata": {},
   "outputs": [],
   "source": [
    "# Load variables\n",
    "## Spatial subtypes from all tasks (90 tasks)\n",
    "spatial_subt_df = pd.read_csv(os.path.join(path_root,'all_subtype_stack.csv'))\n",
    "\n",
    "## Subjects weigts from all subtypes tasks  (90 tasks)\n",
    "weight_subt_df = pd.read_csv(os.path.join(path_root,'subtype_weights_all_tasks.csv'))\n",
    "\n",
    "## Subject weights and covariates (age,gender,FD,BMI)\n",
    "weight_subt_cov_df = pd.read_csv(os.path.join(path_root,'pleio_all_pheno.csv'))\n",
    "\n",
    "## Genetic correlation matrix of subtypes weights\n",
    "Rho_G = np.load(os.path.join(path_pleio, 'RhoG.npy'))\n",
    "\n",
    "## FDR of genetic corrrelation matrix\n",
    "Rho_G_fdr =  np.load(os.path.join(path_pleio, 'RhoG_pval_0.npy'))\n"
   ]
  },
  {
   "cell_type": "code",
   "execution_count": null,
   "metadata": {},
   "outputs": [],
   "source": []
  }
 ],
 "metadata": {
  "kernelspec": {
   "display_name": "Python 3",
   "language": "python",
   "name": "python3"
  },
  "language_info": {
   "codemirror_mode": {
    "name": "ipython",
    "version": 3
   },
   "file_extension": ".py",
   "mimetype": "text/x-python",
   "name": "python",
   "nbconvert_exporter": "python",
   "pygments_lexer": "ipython3",
   "version": "3.5.2"
  }
 },
 "nbformat": 4,
 "nbformat_minor": 2
}
