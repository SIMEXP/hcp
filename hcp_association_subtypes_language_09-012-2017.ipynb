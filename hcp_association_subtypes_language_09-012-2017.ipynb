{
 "cells": [
  {
   "cell_type": "markdown",
   "metadata": {},
   "source": [
    "## Association subtypes language task"
   ]
  },
  {
   "cell_type": "code",
   "execution_count": 1,
   "metadata": {},
   "outputs": [],
   "source": [
    "import seaborn as sns\n",
    "import os\n",
    "import json\n",
    "import numpy as np\n",
    "from scipy import stats, integrate\n",
    "import scipy.io as sio\n",
    "import pandas as pd\n",
    "from pandas.tools.plotting import scatter_matrix\n",
    "import seaborn as sns; sns.set(color_codes=True)\n",
    "import matplotlib.pyplot as plt"
   ]
  },
  {
   "cell_type": "code",
   "execution_count": 2,
   "metadata": {},
   "outputs": [],
   "source": [
    "import scipy.io #read .mat files\n",
    "from sklearn.model_selection import KFold\n",
    "from sklearn.model_selection import GridSearchCV\n",
    "from sklearn.svm import SVC,SVR,LinearSVR\n",
    "from sklearn import preprocessing, linear_model\n",
    "from sklearn.ensemble import RandomForestRegressor , ExtraTreesRegressor\n",
    "from sklearn.metrics import roc_auc_score, mean_squared_error, r2_score\n",
    "from sklearn.preprocessing import StandardScaler,MinMaxScaler\n",
    "from sklearn.utils import shuffle"
   ]
  },
  {
   "cell_type": "code",
   "execution_count": 3,
   "metadata": {},
   "outputs": [],
   "source": [
    "# load good stuff\n",
    "%matplotlib inline\n",
    "%load_ext rpy2.ipython\n",
    "%load_ext oct2py.ipython\n",
    "sns.set(color_codes=True)"
   ]
  },
  {
   "cell_type": "code",
   "execution_count": 4,
   "metadata": {},
   "outputs": [],
   "source": [
    "import warnings\n",
    "warnings.filterwarnings('ignore')"
   ]
  },
  {
   "cell_type": "code",
   "execution_count": 5,
   "metadata": {},
   "outputs": [
    {
     "data": {
      "text/plain": [
       "Adding library hcp to the search path."
      ]
     },
     "metadata": {},
     "output_type": "display_data"
    },
    {
     "data": {
      "text/plain": []
     },
     "metadata": {},
     "output_type": "display_data"
    },
    {
     "data": {
      "text/plain": [
       "Adding library niak to the search path."
      ]
     },
     "metadata": {},
     "output_type": "display_data"
    },
    {
     "data": {
      "text/plain": []
     },
     "metadata": {},
     "output_type": "display_data"
    },
    {
     "data": {
      "text/plain": [
       "Adding library psom to the search path."
      ]
     },
     "metadata": {},
     "output_type": "display_data"
    },
    {
     "data": {
      "text/plain": []
     },
     "metadata": {},
     "output_type": "display_data"
    }
   ],
   "source": [
    "# Add niak hcp and psomm to oactve path\n",
    "%octave addpath(genpath('~/git/Misc'));\n",
    "%octave build_path hcp niak psom"
   ]
  },
  {
   "cell_type": "code",
   "execution_count": 6,
   "metadata": {
    "scrolled": true
   },
   "outputs": [],
   "source": [
    "#custom function for key sorting element\n",
    "import re\n",
    "\n",
    "def atoi(text):\n",
    "    return int(text) if text.isdigit() else text\n",
    "\n",
    "def natural_keys(text):\n",
    "    '''\n",
    "    alist.sort(key=natural_keys) sorts in human order\n",
    "    http://nedbatchelder.com/blog/200712/human_sorting.html\n",
    "    (See Toothy's implementation in the comments)\n",
    "    '''\n",
    "    return [ atoi(c) for c in re.split('(\\d+)', text) ]"
   ]
  },
  {
   "cell_type": "markdown",
   "metadata": {},
   "source": [
    "## Random forest and linear regressionn association "
   ]
  },
  {
   "cell_type": "code",
   "execution_count": 7,
   "metadata": {
    "scrolled": false
   },
   "outputs": [],
   "source": [
    "def RandomForest_apply(X, y,n_splits=3,flag_plot=True):\n",
    "    \"\"\"\n",
    "    X: predictor\n",
    "    y: variable to be predicted\n",
    "    n_splits: number of split data\n",
    "    \n",
    "    returns:\n",
    "    feimp:   mean feature importance\n",
    "    scores: Mean R-squared\n",
    "    std:    standar deviantion of R-squared\n",
    "    \"\"\"\n",
    "    # apply machine learning : Random forest regression\n",
    "    rfr = RandomForestRegressor(n_estimators=1000,oob_score=True,n_jobs=-1)\n",
    "    skf = KFold(n_splits)\n",
    "    feimp = np.zeros((skf.n_splits,X.shape[1]))\n",
    "    scores = np.zeros((skf.n_splits,1))\n",
    "    std =  np.zeros((skf.n_splits,X.shape[1]))\n",
    "    \n",
    "#     #scale Y\n",
    "#     scl = StandardScaler()\n",
    "#     y = scl.fit_transform(y.reshape(-1, 1))\n",
    "#     minmiax = MinMaxScaler(feature_range=(-1, 1))\n",
    "#     y = minmiax.fit_transform(y)[:,0]\n",
    "#     #scale x\n",
    "#     scl = StandardScaler()\n",
    "#     X = scl.fit_transform(X)\n",
    "#     X, y = shuffle(X, y, random_state=0)\n",
    "    \n",
    "    for c, (train_index, test_index) in enumerate(skf.split(X)):\n",
    "        x_train, x_test = X[train_index], X[test_index]\n",
    "        y_train, y_test = y[train_index], y[test_index]\n",
    "        \n",
    "        rfr.fit(x_train, y_train)\n",
    "        y_pred = rfr.predict(x_test)\n",
    "        \n",
    "        rsq = r2_score(y_test, y_pred)\n",
    "        scores[c,:] = rsq\n",
    "        \n",
    "        feimp[c,:] = rfr.feature_importances_[:]\n",
    "        \n",
    "        std[c,:] = np.std([tree.feature_importances_ for tree in rfr.estimators_],axis=0)\n",
    "        \n",
    "        if flag_plot :\n",
    "            # Plot outputs\n",
    "            plt.figure(figsize=(15,4))\n",
    "            s = 100\n",
    "            a = 0.7\n",
    "\n",
    "            fit_a = np.polyfit(x_test.reshape(-1), y_test, deg=1)\n",
    "            plt.plot(x_test.reshape(-1), fit_a[0] * x_test.reshape(-1) + fit_a[1], color='navy',alpha=a)\n",
    "\n",
    "            plt.scatter(x_test, y_test,  edgecolor='k',\n",
    "                c=\"navy\", s=s, marker=\"s\", alpha=a, label=\"Test Data\")\n",
    "\n",
    "            fit_b = np.polyfit(x_test.reshape(-1), y_pred, deg=1)\n",
    "            plt.plot(x_test.reshape(-1), fit_b[0] * x_test.reshape(-1) + fit_b[1], color='c',alpha=a)\n",
    "\n",
    "            plt.scatter(x_test, y_pred, edgecolor='k',\n",
    "                c=\"c\", s=s, marker=\"^\", alpha=a,label=\"Predicted data -- RSquared=%.2f\" % scores[c,:] )\n",
    "            plt.title(\"Prediction on subset number {}\".format(c))\n",
    "            plt.legend()\n",
    "            plt.show()\n",
    "        #     plt.figure()\n",
    "        #     plt.scatter(y_test, y_test, edgecolor='k',\n",
    "        #             c=\"navy\", s=s, marker=\"s\", alpha=a, label=\"Test Data\")\n",
    "        \n",
    "        #     plt.scatter(y_train, pred, edgecolor='k',\n",
    "        #             c=\"c\", s=s, marker=\"^\", alpha=a,\n",
    "        #             label=\"Prediction -- RF score=%.2f\" % rsq)\n",
    "        #     plt.title(\"Prediction on subset number {}\".format(c))\n",
    "        #     plt.legend()\n",
    "        #     plt.show()\n",
    "    print('Mean R-Squared score: %.3f' % scores.mean()) \n",
    "    return x_test, y_test,feimp, scores,std"
   ]
  },
  {
   "cell_type": "code",
   "execution_count": 8,
   "metadata": {
    "scrolled": false
   },
   "outputs": [],
   "source": [
    "def SVR_apply(X, y,n_splits=3,kern='linear',flag_plot=True):\n",
    "    \"\"\"\n",
    "    X: predictor\n",
    "    y: variable to be predicted\n",
    "    n_splits: number of split data\n",
    "    \n",
    "    returns:\n",
    "    feimp:   mean feature importance\n",
    "    scores: Mean R-squared\n",
    "    std:    standar deviantion of R-squared\n",
    "    \"\"\"\n",
    "    # apply machine learning : SVR\n",
    "    clf = SVR(kernel=kern)\n",
    "    # grid search cv\n",
    "    #clf = GridSearchCV(clf, cv=10,param_grid={\"C\": np.logspace(-2, 2, 10),\"gamma\": np.logspace(-2, 2, 10)})\n",
    "    clf = GridSearchCV(clf, cv=5,param_grid={\"C\": np.logspace(-2, 3, 10),\n",
    "                                             \"gamma\": np.logspace(-2, 2, 10)},n_jobs=-1)\n",
    "    #clf = GridSearchCV(clf, cv=5,param_grid={\"C\": np.logspace(-2, 3, 5),'degree':[3,4,5]},n_jobs=6)\n",
    "    \n",
    "    \n",
    "    skf = KFold(n_splits)\n",
    "    scores = np.zeros((skf.n_splits,1))\n",
    "    \n",
    "#     #scale Y\n",
    "#     scl = StandardScaler()\n",
    "#     y = scl.fit_transform(y.reshape(-1, 1))\n",
    "#     minmiax = MinMaxScaler(feature_range=(-1, 1))\n",
    "#     y = minmiax.fit_transform(y)[:,0]\n",
    "#     #scale x\n",
    "#     scl = StandardScaler()\n",
    "#     X = scl.fit_transform(X)\n",
    "#     X, y = shuffle(X, y, random_state=0)\n",
    "    \n",
    "    for c, (train_index, test_index) in enumerate(skf.split(X)):\n",
    "        x_train, x_test = X[train_index], X[test_index]\n",
    "        y_train, y_test = y[train_index], y[test_index]\n",
    "        \n",
    "        clf.fit(x_train, y_train)\n",
    "        y_pred = clf.predict(x_test)\n",
    "        \n",
    "        rsq = r2_score(y_test, y_pred)\n",
    "        scores[c,:] = rsq\n",
    "        \n",
    "        if flag_plot :\n",
    "            # Plot outputs\n",
    "            plt.figure(figsize=(15,4))\n",
    "            s = 100\n",
    "            a = 0.7\n",
    "\n",
    "            #fit_a = np.polyfit(x_test.reshape(-1), y_test, deg=1)\n",
    "            #plt.plot(x_test.reshape(-1), fit_a[0] * x_test.reshape(-1) + fit_a[1], color='navy',alpha=a)\n",
    "\n",
    "            plt.scatter(x_test, y_test,  edgecolor='k',\n",
    "                c=\"navy\", s=s, marker=\"s\", alpha=a, label=\"Test Data\")\n",
    "\n",
    "            #fit_b = np.polyfit(x_test.reshape(-1), y_pred, deg=1)\n",
    "            #plt.plot(x_test.reshape(-1), fit_b[0] * x_test.reshape(-1) + fit_b[1], color='c',alpha=a)\n",
    "\n",
    "            plt.scatter(x_test, y_pred, edgecolor='k',\n",
    "                c=\"c\", s=s, marker=\"^\", alpha=a,label=\"Predicted data -- RSquared=%.2f\" % scores[c,:] )\n",
    "            plt.title(\"Prediction on subset number {}\".format(c))\n",
    "            plt.legend()\n",
    "            plt.show()\n",
    "            \n",
    "    print('Mean R-Squared score: %.3f' % scores.mean()) \n",
    "    return x_test, y_test,scores"
   ]
  },
  {
   "cell_type": "code",
   "execution_count": 9,
   "metadata": {
    "scrolled": false
   },
   "outputs": [],
   "source": [
    "def Linear_SVR_apply(X, y,n_splits=3,flag_plot=True):\n",
    "    \"\"\"\n",
    "    X: predictor\n",
    "    y: variable to be predicted\n",
    "    n_splits: number of split data\n",
    "    \n",
    "    returns:\n",
    "    feimp:   mean feature importance\n",
    "    scores: Mean R-squared\n",
    "    std:    standar deviantion of R-squared\n",
    "    \"\"\"\n",
    "    skf = KFold(n_splits)\n",
    "    \n",
    "    # apply machine learning :  LinearSVR\n",
    "    clf = LinearSVR(random_state=0)\n",
    "    \n",
    "    Coeff = np.zeros((skf.n_splits,X.shape[1]))\n",
    "    SquaredError = np.zeros((skf.n_splits,1))\n",
    "    Rsquared =  np.zeros((skf.n_splits,1))\n",
    "    std =  np.zeros((skf.n_splits,X.shape[1]))\n",
    "    \n",
    "#     #scale Y\n",
    "#     scl = StandardScaler()\n",
    "#     y = scl.fit_transform(y.reshape(-1, 1))\n",
    "#     minmiax = MinMaxScaler(feature_range=(-1, 1))\n",
    "#     y = minmiax.fit_transform(y)[:,0]\n",
    "    \n",
    "#     #scale x\n",
    "#     scl = StandardScaler()\n",
    "#     X = scl.fit_transform(X)\n",
    "#     X, y = shuffle(X, y, random_state=0)\n",
    "    \n",
    "    for c, (train_index, test_index) in enumerate(skf.split(X)):\n",
    "        x_train, x_test = X[train_index], X[test_index]\n",
    "        y_train, y_test = y[train_index], y[test_index]\n",
    "        \n",
    "        clf.fit(x_train, y_train)\n",
    "        y_pred = clf.predict(x_test)\n",
    "        \n",
    "        Coeff[c,:] = clf.coef_[:]\n",
    "        SquaredError[c,:] = mean_squared_error(y_test, y_pred)\n",
    "        Rsquared[c,:] = r2_score(y_test,y_pred)\n",
    "        std[c,:] = np.std([coefi for coefi in clf.coef_],axis=0)\n",
    "        \n",
    "        # Plot outputs\n",
    "        if flag_plot :\n",
    "            \n",
    "            plt.figure(figsize=(15,4))\n",
    "            s = 100\n",
    "            a = 0.7\n",
    "\n",
    "            #fit_a = np.polyfit(x_test.reshape(-1), y_test, deg=1)\n",
    "            #plt.plot(x_test.reshape(-1), fit_a[0] * x_test.reshape(-1) + fit_a[1], color='navy',alpha=a)\n",
    "\n",
    "            plt.scatter(x_test, y_test,  edgecolor='k',\n",
    "                c=\"navy\", s=s, marker=\"s\", alpha=a, label=\"Test Data\")\n",
    "\n",
    "            #fit_b = np.polyfit(x_test.reshape(-1), y_pred, deg=1)\n",
    "            #plt.plot(x_test.reshape(-1), fit_b[0] * x_test.reshape(-1) + fit_b[1], color='c',alpha=a)\n",
    "\n",
    "            plt.scatter(x_test, y_pred, edgecolor='k',\n",
    "                c=\"c\", s=s, marker=\"^\", alpha=a,label=\"Predicted data -- RSquared=%.2f\" % Rsquared[c,:] )\n",
    "            plt.title(\"Prediction on subset number {}\".format(c))\n",
    "            plt.legend()\n",
    "            plt.show()\n",
    "            \n",
    "    print('Mean R-Squared score: %.3f' % Rsquared.mean()) \n",
    "    return Coeff,std, SquaredError,Rsquared"
   ]
  },
  {
   "cell_type": "code",
   "execution_count": 10,
   "metadata": {},
   "outputs": [],
   "source": [
    "def Grid_Search_CV_RFR(X_train, y_train):\n",
    "    from sklearn.model_selection import GridSearchCV\n",
    "    from sklearn.model_selection import ShuffleSplit\n",
    "    from sklearn.ensemble import RandomForestRegressor\n",
    "\n",
    "    estimator = RandomForestRegressor()\n",
    "    param_grid = { \n",
    "            \"n_estimators\"      : [10,20,30,40,50,100],\n",
    "            \"max_features\"      : [\"auto\", \"sqrt\", \"log2\"],\n",
    "            \"min_samples_split\" : [2,4,6,8,10,12,14],\n",
    "            \"bootstrap\": [True, False],\n",
    "            }\n",
    "\n",
    "    grid = GridSearchCV(estimator, param_grid, n_jobs=-1, cv=5)\n",
    "\n",
    "    grid.fit(X_train, y_train)\n",
    "\n",
    "    return grid.best_score_ , grid.best_params_"
   ]
  },
  {
   "cell_type": "code",
   "execution_count": 11,
   "metadata": {},
   "outputs": [],
   "source": [
    "def RFR(X_train, X_test, y_train, y_test, best_params):\n",
    "    from sklearn.ensemble import RandomForestRegressor\n",
    "    rfr = RandomForestRegressor(n_jobs=-1).set_params(**best_params)\n",
    "    rfr.fit(X_train,y_train)\n",
    "    \n",
    "    y_pred = rfr.predict(X_test)\n",
    "    \n",
    "    rsq = r2_score(y_test, y_pred)\n",
    "    feimp = rfr.feature_importances_[:]\n",
    "    std_feimp = np.std([tree.feature_importances_ for tree in rfr.estimators_],axis=0)\n",
    "        \n",
    "    print (\"R2 score: %.3f\" % rsq)\n",
    "    return y_pred,rsq,feimp,std_feimp"
   ]
  },
  {
   "cell_type": "code",
   "execution_count": 12,
   "metadata": {
    "scrolled": false
   },
   "outputs": [],
   "source": [
    "def RandomForestOptim_apply(X, y,n_splits=3,flag_plot=True):\n",
    "    \"\"\"\n",
    "    X: predictor\n",
    "    y: variable to be predicted\n",
    "    n_splits: number of split data\n",
    "    \n",
    "    returns:\n",
    "    feimp:   mean feature importance\n",
    "    scores: Mean R-squared\n",
    "    std:    standar deviantion of R-squared\n",
    "    \"\"\"\n",
    "    # apply machine learning : Random forest regression\n",
    "    rfr = RandomForestRegressor(n_estimators=4000,oob_score=True,n_jobs=-1)\n",
    "    skf = KFold(n_splits)\n",
    "    feimp_c = np.zeros((skf.n_splits,X.shape[1]))\n",
    "    scores_c = np.zeros((skf.n_splits,1))\n",
    "    std_c =  np.zeros((skf.n_splits,X.shape[1]))\n",
    "    \n",
    "#     #scale Y\n",
    "#     scl = StandardScaler()\n",
    "#     y = scl.fit_transform(y.reshape(-1, 1))\n",
    "#     minmiax = MinMaxScaler(feature_range=(-1, 1))\n",
    "#     y = minmiax.fit_transform(y)[:,0]\n",
    "#     #scale x\n",
    "#     scl = StandardScaler()\n",
    "#     X = scl.fit_transform(X)\n",
    "#     X, y = shuffle(X, y, random_state=0)\n",
    "    \n",
    "    for c, (train_index, test_index) in enumerate(skf.split(X)):\n",
    "        x_train, x_test = X[train_index], X[test_index]\n",
    "        y_train, y_test = y[train_index], y[test_index]\n",
    "        \n",
    "        #Grid search\n",
    "        best_score, best_params = Grid_Search_CV_RFR(x_train, y_train)\n",
    "        #Best params\n",
    "        y_pred,rsq,feimp,std_feimp = RFR(x_train, x_test, y_train, y_test, best_params)\n",
    "        print (\"Best Score:%.03f\" % best_score)\n",
    "        print (\"Best params:%s\" % best_params)\n",
    "        #stack results\n",
    "        feimp_c[c,:] = feimp\n",
    "        scores_c[c,:] = rsq\n",
    "        std_c[c,:] = std_feimp\n",
    "        \n",
    "        if flag_plot :\n",
    "            # Plot outputs\n",
    "            plt.figure(figsize=(15,4))\n",
    "            s = 100\n",
    "            a = 0.7\n",
    "\n",
    "            fit_a = np.polyfit(x_test.reshape(-1), y_test, deg=1)\n",
    "            plt.plot(x_test.reshape(-1), fit_a[0] * x_test.reshape(-1) + fit_a[1], color='navy',alpha=a)\n",
    "\n",
    "            plt.scatter(x_test, y_test,  edgecolor='k',\n",
    "                c=\"navy\", s=s, marker=\"s\", alpha=a, label=\"Test Data\")\n",
    "\n",
    "            fit_b = np.polyfit(x_test.reshape(-1), y_pred, deg=1)\n",
    "            plt.plot(x_test.reshape(-1), fit_b[0] * x_test.reshape(-1) + fit_b[1], color='c',alpha=a)\n",
    "\n",
    "            plt.scatter(x_test, y_pred, edgecolor='k',\n",
    "                c=\"c\", s=s, marker=\"^\", alpha=a,label=\"Predicted data -- RSquared=%.2f\" % scores[c,:] )\n",
    "            plt.title(\"Prediction on subset number {}\".format(c))\n",
    "            plt.legend()\n",
    "            plt.show()\n",
    "            \n",
    "            \n",
    "    print('Mean R-Squared score: %.3f' % scores_c.mean()) \n",
    "    return x_test, y_test,feimp_c, scores_c,std_c"
   ]
  },
  {
   "cell_type": "code",
   "execution_count": 28,
   "metadata": {
    "scrolled": false
   },
   "outputs": [],
   "source": [
    "def LinearRegression_apply(X, y,n_splits=3,flag_plot = True):\n",
    "    \"\"\"\n",
    "    X: predictor\n",
    "    y: variable to be predicted\n",
    "    n_splits: number of split data\n",
    "    \n",
    "    returns:\n",
    "    Coeff:   Mean Estimated coefficients for the linear regression problem\n",
    "    SquaredError: Mean Squared Error\n",
    "    Rsquared:     Mean coefficient of determination\n",
    "    \"\"\"\n",
    "    # apply machine learning : Linear Regression\n",
    "    regr = linear_model.LinearRegression(n_jobs=-1)\n",
    "    skf = KFold(n_splits)\n",
    "    Coeff = np.zeros((skf.n_splits,X.shape[1]))\n",
    "    SquaredError = np.zeros((skf.n_splits,1))\n",
    "    Rsquared =  np.zeros((skf.n_splits,1))\n",
    "    std =  np.zeros((skf.n_splits,X.shape[1]))\n",
    "    feimp = np.zeros((skf.n_splits,X.shape[1]))\n",
    "    \n",
    "    #scale Y\n",
    "#     scl = StandardScaler()\n",
    "#     y = scl.fit_transform(y.reshape(-1, 1))\n",
    "#     minmiax = MinMaxScaler(feature_range=(-1, 1))\n",
    "#     y = minmiax.fit_transform(y)[:,0]\n",
    "#     #scale x\n",
    "#     scl = StandardScaler()\n",
    "#     X = scl.fit_transform(X)\n",
    "#     X, y = shuffle(X, y, random_state=0)\n",
    "    \n",
    "    for c, (train_index, test_index) in enumerate(skf.split(X)):\n",
    "        x_train, x_test = X[train_index], X[test_index]\n",
    "        y_train, y_test = y[train_index], y[test_index]\n",
    "        \n",
    "        regr.fit(x_train, y_train)\n",
    "        y_pred = regr.predict(x_test)\n",
    "        \n",
    "        # fit an Extra Trees model to the data\n",
    "        forest = ExtraTreesRegressor(n_estimators=400,\n",
    "                                     random_state=0,n_jobs=-1)\n",
    "        forest.fit(x_train, y_train)\n",
    "        \n",
    "        Coeff[c,:] = regr.coef_[:]\n",
    "        SquaredError[c,:] = mean_squared_error(y_test, y_pred)\n",
    "        Rsquared[c,:] = r2_score(y_test,y_pred)\n",
    "        std[c,:] = np.std([coefi for coefi in forest.feature_importances_],axis=0)\n",
    "        feimp[c,:] = forest.feature_importances_\n",
    "        \n",
    "        if flag_plot:\n",
    "            # Plot outputs\n",
    "            plt.figure(figsize=(15,4))\n",
    "            s = 100\n",
    "            a = 0.7\n",
    "            plt.scatter(x_test, y_test,  edgecolor='k',\n",
    "                c=\"navy\", s=s, marker=\"s\", alpha=a, label=\"Test Data\")\n",
    "            plt.scatter(x_test, y_pred, edgecolor='k',\n",
    "                c=\"c\", s=s, marker=\"^\", alpha=a,\n",
    "                label=\"Predicted data -- RSquared=%.2f\" % Rsquared[c,:])\n",
    "            plt.title(\"Prediction on subset number {}\".format(c))\n",
    "            plt.legend()\n",
    "            plt.show()\n",
    "        \n",
    "    #print('Mean R-Squared score: %.3f' % Rsquared.mean())    \n",
    "    return Coeff,std, SquaredError,Rsquared,feimp"
   ]
  },
  {
   "cell_type": "code",
   "execution_count": 29,
   "metadata": {},
   "outputs": [],
   "source": [
    "#  Set path\n",
    "#path_root = '/home/yassinebha/Drive/HCP/subtypes_scores/26-10-2016/subtype_5_spm_LANGUAGE_03-Oct-2017/';\n",
    "path_root = '/media/yassine/data_disk/Drive/HCP2/subtypes_scores/26-10-2016/';\n",
    "path_subtype = os.path.join(path_root,'subtype_5_spm_LANGUAGE_18-Oct-2017/');\n",
    "path_association =  os.path.join(path_subtype,'associations/');\n",
    "path_networks =  os.path.join(path_subtype,'networks/');\n",
    "nb_sbt = natural_keys(path_subtype)[9]\n",
    "task_name = natural_keys(path_subtype)[10][5:-1]"
   ]
  },
  {
   "cell_type": "code",
   "execution_count": 30,
   "metadata": {},
   "outputs": [
    {
     "data": {
      "text/plain": [
       "['Cluster_1',\n",
       " 'Cluster_2',\n",
       " 'Cluster_3',\n",
       " 'Cluster_4',\n",
       " 'Cluster_5',\n",
       " 'Cluster_6',\n",
       " 'Cluster_7',\n",
       " 'Cluster_8',\n",
       " 'Cluster_9',\n",
       " 'Cluster_10']"
      ]
     },
     "execution_count": 30,
     "metadata": {},
     "output_type": "execute_result"
    }
   ],
   "source": [
    "# List phenotypes\n",
    "list_pheno  = [f for f in os.listdir(path_association)]\n",
    "list_pheno.sort(key=natural_keys)\n",
    "list_pheno"
   ]
  },
  {
   "cell_type": "code",
   "execution_count": 31,
   "metadata": {},
   "outputs": [
    {
     "data": {
      "text/plain": [
       "['story']"
      ]
     },
     "execution_count": 31,
     "metadata": {},
     "output_type": "execute_result"
    }
   ],
   "source": [
    "# List trials\n",
    "list_trial  = [f for f in os.listdir(path_networks)]\n",
    "list_trial "
   ]
  },
  {
   "cell_type": "code",
   "execution_count": 32,
   "metadata": {},
   "outputs": [
    {
     "data": {
      "text/plain": [
       "['sub1', 'sub2', 'sub3', 'sub4', 'sub5']"
      ]
     },
     "execution_count": 32,
     "metadata": {},
     "output_type": "execute_result"
    }
   ],
   "source": [
    "list_subtype = ['sub{}'.format(ii) for ii in range(1,nb_sbt+1)]\n",
    "list_subtype"
   ]
  },
  {
   "cell_type": "code",
   "execution_count": 55,
   "metadata": {},
   "outputs": [],
   "source": [
    "dict_clusters_names = {'Cluster_1' : 'Physio',\n",
    "                 'Cluster_2' : 'Neg_affec',\n",
    "                 'Cluster_3' : 'Speed',\n",
    "                 'Cluster_4' : 'Somatic',\n",
    "                 'Cluster_5' : 'Desord_ext',\n",
    "                 'Cluster_6' : 'Pos_affetc',\n",
    "                 'Cluster_7' : 'Desord_int',\n",
    "                 'Cluster_8' : 'Exec_mot',\n",
    "                 'Cluster_9' : 'Sens_mot_mem',\n",
    "                 'Cluster_10' : 'Exec_lang'}"
   ]
  },
  {
   "cell_type": "markdown",
   "metadata": {},
   "source": [
    "# R_squared radar map NIAK"
   ]
  },
  {
   "cell_type": "code",
   "execution_count": 56,
   "metadata": {},
   "outputs": [],
   "source": [
    "# Create R-squared table to be used in R\n",
    "for trial_name in list_trial :\n",
    "    # build R2 table for radar plot\n",
    "    for ix, pheno_name in enumerate(list_pheno):\n",
    "        mat_file = os.path.join(path_association,pheno_name,'association_stats_{}.mat'.format(pheno_name))\n",
    "        %octave_push mat_file\n",
    "        %octave mat_load = load(mat_file);\n",
    "        %octave_pull mat_load\n",
    "        pheno_r2 = mat_load['glm_results'][trial_name]['rsquare']\n",
    "        if ix == 0:\n",
    "            pheno_r2_final = pd.Series(pheno_r2.tolist()[0])\n",
    "        else:\n",
    "            pheno_r2_final =pd.concat([pheno_r2_final,pd.Series(pheno_r2.tolist()[0])],axis=1)\n",
    "            \n",
    "    pheno_r2_final.columns = list_pheno\n",
    "    pheno_r2_final.index = list_subtype\n",
    "    pheno_r2_final = pd.DataFrame(pheno_r2_final)\n",
    "    pheno_r2_final.rename(columns=dict_clusters_names).to_csv(os.path.join(path_subtype,'{}_r2.csv'.format(trial_name)))"
   ]
  },
  {
   "cell_type": "code",
   "execution_count": 57,
   "metadata": {},
   "outputs": [
    {
     "data": {
      "text/html": [
       "<div>\n",
       "<style>\n",
       "    .dataframe thead tr:only-child th {\n",
       "        text-align: right;\n",
       "    }\n",
       "\n",
       "    .dataframe thead th {\n",
       "        text-align: left;\n",
       "    }\n",
       "\n",
       "    .dataframe tbody tr th {\n",
       "        vertical-align: top;\n",
       "    }\n",
       "</style>\n",
       "<table border=\"1\" class=\"dataframe\">\n",
       "  <thead>\n",
       "    <tr style=\"text-align: right;\">\n",
       "      <th></th>\n",
       "      <th>Cluster_1</th>\n",
       "      <th>Cluster_2</th>\n",
       "      <th>Cluster_3</th>\n",
       "      <th>Cluster_4</th>\n",
       "      <th>Cluster_5</th>\n",
       "      <th>Cluster_6</th>\n",
       "      <th>Cluster_7</th>\n",
       "      <th>Cluster_8</th>\n",
       "      <th>Cluster_9</th>\n",
       "      <th>Cluster_10</th>\n",
       "    </tr>\n",
       "  </thead>\n",
       "  <tbody>\n",
       "    <tr>\n",
       "      <th>sub1</th>\n",
       "      <td>0.022735</td>\n",
       "      <td>0.027419</td>\n",
       "      <td>0.026915</td>\n",
       "      <td>0.028526</td>\n",
       "      <td>0.023553</td>\n",
       "      <td>0.027369</td>\n",
       "      <td>0.026543</td>\n",
       "      <td>0.031727</td>\n",
       "      <td>0.027224</td>\n",
       "      <td>0.038666</td>\n",
       "    </tr>\n",
       "    <tr>\n",
       "      <th>sub2</th>\n",
       "      <td>0.021469</td>\n",
       "      <td>0.025408</td>\n",
       "      <td>0.025630</td>\n",
       "      <td>0.027257</td>\n",
       "      <td>0.022023</td>\n",
       "      <td>0.024985</td>\n",
       "      <td>0.024838</td>\n",
       "      <td>0.029508</td>\n",
       "      <td>0.025212</td>\n",
       "      <td>0.037171</td>\n",
       "    </tr>\n",
       "    <tr>\n",
       "      <th>sub3</th>\n",
       "      <td>0.023339</td>\n",
       "      <td>0.027675</td>\n",
       "      <td>0.027447</td>\n",
       "      <td>0.028848</td>\n",
       "      <td>0.023792</td>\n",
       "      <td>0.026606</td>\n",
       "      <td>0.027097</td>\n",
       "      <td>0.029806</td>\n",
       "      <td>0.025509</td>\n",
       "      <td>0.032361</td>\n",
       "    </tr>\n",
       "    <tr>\n",
       "      <th>sub4</th>\n",
       "      <td>0.027852</td>\n",
       "      <td>0.029202</td>\n",
       "      <td>0.028166</td>\n",
       "      <td>0.031084</td>\n",
       "      <td>0.027713</td>\n",
       "      <td>0.030660</td>\n",
       "      <td>0.027493</td>\n",
       "      <td>0.040042</td>\n",
       "      <td>0.044201</td>\n",
       "      <td>0.095245</td>\n",
       "    </tr>\n",
       "    <tr>\n",
       "      <th>sub5</th>\n",
       "      <td>0.025650</td>\n",
       "      <td>0.031449</td>\n",
       "      <td>0.029488</td>\n",
       "      <td>0.031592</td>\n",
       "      <td>0.027415</td>\n",
       "      <td>0.031711</td>\n",
       "      <td>0.029717</td>\n",
       "      <td>0.036542</td>\n",
       "      <td>0.033761</td>\n",
       "      <td>0.050887</td>\n",
       "    </tr>\n",
       "  </tbody>\n",
       "</table>\n",
       "</div>"
      ],
      "text/plain": [
       "      Cluster_1  Cluster_2  Cluster_3  Cluster_4  Cluster_5  Cluster_6  \\\n",
       "sub1   0.022735   0.027419   0.026915   0.028526   0.023553   0.027369   \n",
       "sub2   0.021469   0.025408   0.025630   0.027257   0.022023   0.024985   \n",
       "sub3   0.023339   0.027675   0.027447   0.028848   0.023792   0.026606   \n",
       "sub4   0.027852   0.029202   0.028166   0.031084   0.027713   0.030660   \n",
       "sub5   0.025650   0.031449   0.029488   0.031592   0.027415   0.031711   \n",
       "\n",
       "      Cluster_7  Cluster_8  Cluster_9  Cluster_10  \n",
       "sub1   0.026543   0.031727   0.027224    0.038666  \n",
       "sub2   0.024838   0.029508   0.025212    0.037171  \n",
       "sub3   0.027097   0.029806   0.025509    0.032361  \n",
       "sub4   0.027493   0.040042   0.044201    0.095245  \n",
       "sub5   0.029717   0.036542   0.033761    0.050887  "
      ]
     },
     "execution_count": 57,
     "metadata": {},
     "output_type": "execute_result"
    }
   ],
   "source": [
    "pheno_r2_final"
   ]
  },
  {
   "cell_type": "markdown",
   "metadata": {},
   "source": [
    "### On first run in new machine do\n",
    "Step 1 — Installing System Dependencies for devtools\n",
    "\n",
    "`sudo apt-get install build-essential libcurl4-gnutls-dev libxml2-dev libssl-dev libcairo2-dev r-cran-stringr`\n",
    "\n",
    "Step 2 — Installing the Devtools Package\n",
    "\n",
    "```sudo -i R\n",
    "install.packages('devtools')\n",
    "devtools::install_github(\"hadley/svglite\")\n",
    "devtools::install_github(\"ricardo-bion/ggradar\", dependencies=TRUE)```"
   ]
  },
  {
   "cell_type": "code",
   "execution_count": 58,
   "metadata": {},
   "outputs": [],
   "source": [
    "%%R\n",
    "library(ggradar)\n",
    "library(svglite)\n",
    "suppressPackageStartupMessages(library(dplyr))\n",
    "library(scales)\n",
    "require(\"ggplot2\")"
   ]
  },
  {
   "cell_type": "code",
   "execution_count": 59,
   "metadata": {
    "scrolled": false
   },
   "outputs": [
    {
     "data": {
      "image/png": "[encoded data removed]"
     },
     "metadata": {},
     "output_type": "display_data"
    }
   ],
   "source": [
    "%%R -i path_subtype,path_association,list_trial,task_name\n",
    "for (ii in list_trial) {\n",
    "    MyData <- read.csv(file=paste(path_subtype,ii,\"_r2.csv\",sep = ''))\n",
    "    # plot R2 radar plot\n",
    "    image_radar=ggradar(MyData, \n",
    "                        grid.min = 0,\n",
    "                        grid.mid = 0.05, \n",
    "                        grid.max = 0.1, \n",
    "                        axis.label.size = 5, \n",
    "                        grid.label.size = 5 ,\n",
    "                        legend.text.size =5,\n",
    "                        group.line.width = 1,\n",
    "                        group.point.size = 4)  +\n",
    "    theme(legend.text = element_text(size = 12),plot.title = element_text( face=\"bold\",size = 12)) + \n",
    "    ggtitle(paste(task_name,' Task : \\n  ',toupper(ii),sep = ''))\n",
    "    print(image_radar)\n",
    "    ggsave(file=paste(path_subtype,ii,\"_R-squared.svg\",sep = ''), plot=image_radar, width=10, height=8)\n",
    "}"
   ]
  },
  {
   "cell_type": "markdown",
   "metadata": {},
   "source": [
    "# R_squared radar map Machine learning"
   ]
  },
  {
   "cell_type": "code",
   "execution_count": 64,
   "metadata": {},
   "outputs": [],
   "source": [
    "dict_clusters = json.load(open(os.path.join(path_root,'pheno/hcp_bootstraped_pheno_clusters.txt')))"
   ]
  },
  {
   "cell_type": "code",
   "execution_count": 39,
   "metadata": {},
   "outputs": [],
   "source": [
    "# import all pheno non clustered data\n",
    "all_pheno = pd.read_csv(os.path.join(path_root,'pheno/hcp_all_pheno_clean_nonan_norm.csv'))\n",
    "# set subject names with Prefix HCP\n",
    "all_pheno.rename(columns={'Unnamed: 0': 'ID'},inplace=True)\n",
    "all_pheno['ID'] = 'HCP'+ all_pheno['ID'].astype(str)"
   ]
  },
  {
   "cell_type": "code",
   "execution_count": 40,
   "metadata": {},
   "outputs": [],
   "source": [
    "# collect weight data\n",
    "dict_tmp = {}\n",
    "dict_tmp_json = {}\n",
    "for ind_t, trial_name in enumerate(list_trial) :\n",
    "    # collect all pheno data\n",
    "    all_pheno_clust = []\n",
    "    names_pheno = []\n",
    "    for ix, pheno_name in enumerate(list_pheno):\n",
    "        #from IPython.core.debugger import Tracer; Tracer()() \n",
    "        mat_file = os.path.join(path_association,pheno_name,'association_stats_{}.mat'.format(pheno_name))\n",
    "        %octave_push mat_file\n",
    "        %octave mat_load = load(mat_file);\n",
    "        %octave_pull mat_load\n",
    "        model_x_norm = mat_load['model_norm']['x']\n",
    "        model_labels_y_norm = mat_load['model_norm']['labels_y']\n",
    "        model_labels_x_norm = mat_load['model_norm']['labels_x']\n",
    "        \n",
    "        my_pheno = np.array(model_x_norm[:,1])\n",
    "        my_pheno_name= model_labels_y_norm[1]\n",
    "        all_pheno_clust.append(my_pheno)\n",
    "        names_pheno.append(my_pheno_name)\n",
    "        \n",
    "    # create pheno dataframe\n",
    "    all_pheno_clust = np.concatenate([model_labels_x_norm[...,None],np.transpose(all_pheno_clust)],axis=1)\n",
    "    all_pheno_clust_df = pd.DataFrame(all_pheno_clust,columns=np.append('ID',  list_pheno))\n",
    "    all_pheno_clust_df['ID'] = all_pheno_clust_df.ID.str.strip()\n",
    "    \n",
    "    #collect weight and create dataframe\n",
    "    weight_file = os.path.join(path_networks,'{}/sbt_weights_net_{}.csv'.format(trial_name,trial_name))\n",
    "    weight_df = pd.read_csv(weight_file)\n",
    "    column_names =np.append('ID',  list_subtype)\n",
    "    weight_df.columns= column_names\n",
    "    weight_df['ID'] = weight_df.ID.str.strip()\n",
    "    \n",
    "    # merge weight amd pheno dataframe\n",
    "    weight_pheno_clust_df=pd.merge(weight_df,all_pheno_clust_df,on='ID',how='left')\n",
    "    # save it csv\n",
    "    weight_pheno_clust_df.to_csv(os.path.join(path_subtype,'{}_weight_pheno_subtype.csv'.format(trial_name)))\n",
    "    \n",
    "    # stack to dictionary\n",
    "    dict_tmp[task_name + \"_\" + trial_name] = weight_pheno_clust_df\n",
    "    # stack to json to be saved later\n",
    "    dict_tmp_json[task_name + \"_\" + trial_name + \"_\" + str(nb_sbt) + '_subtypes'] = weight_pheno_clust_df.to_json(orient='split')\n",
    "    # Merge all pheno with subtype weights\n",
    "    all_pheno_pruned = pd.merge(weight_pheno_clust_df[['ID']+list_subtype],all_pheno,on='ID',how='left')\n",
    "    # Drop NaN\n",
    "    all_pheno_pruned.dropna(inplace=True)"
   ]
  },
  {
   "cell_type": "code",
   "execution_count": 41,
   "metadata": {},
   "outputs": [],
   "source": [
    "# Create estimated R-squared table to be used in R\n",
    "high_r2_dict= dict()\n",
    "for trial_name in list_trial :\n",
    "    # build R2 table for radar plot\n",
    "    for ix, pheno_name in enumerate(list_pheno):\n",
    "        #from IPython.core.debugger import Tracer; Tracer()() \n",
    "        # Set data X Y weight_pheno_clust_df\n",
    "        X = weight_pheno_clust_df[[pheno_name]]\n",
    "        x = X.values\n",
    "        Rsquared_c = np.zeros((np.shape(list_subtype)))\n",
    "        for iix, subtype_name in enumerate(list_subtype):\n",
    "            y = weight_pheno_clust_df[subtype_name]\n",
    "            y = y.values\n",
    "            Coeff,std, SquaredError,Rsquared,feimp = LinearRegression_apply(x,y, flag_plot=False)\n",
    "            Rsquared_c[iix] = Rsquared.mean()\n",
    "        if ix == 0:\n",
    "            pheno_clust_r2_final = pd.Series(Rsquared_c.tolist())\n",
    "        else:\n",
    "            pheno_clust_r2_final =pd.concat([pheno_clust_r2_final,pd.Series(Rsquared_c.tolist())],axis=1)\n",
    "    \n",
    "    # set R2 table        \n",
    "    pheno_clust_r2_final.columns = list_pheno\n",
    "    pheno_clust_r2_final.index = list_subtype\n",
    "    pheno_clust_r2_final = pd.DataFrame(pheno_clust_r2_final)\n",
    "    pheno_clust_r2_final.rename(columns=dict_clusters_names).to_csv(os.path.join(path_subtype,'{}_r2_SVR.csv'.format(trial_name)))\n",
    "    \n",
    "    \n",
    "    #look for the highest R2 and store feature importance\n",
    "    arr = pheno_clust_r2_final.values\n",
    "    index_names = pheno_clust_r2_final.index\n",
    "    col_names = pheno_clust_r2_final.columns\n",
    "    #  Get indices where such threshold is crossed; avoid diagonal elems\n",
    "    R,C = np.where(np.triu(arr,1)>0.05)\n",
    "    high_r2 = [[index_names[ind_r],col_names[ind_c]] for ind_r,ind_c in zip(R,C)]\n",
    "    high_r2_dict[trial_name]= high_r2"
   ]
  },
  {
   "cell_type": "code",
   "execution_count": 54,
   "metadata": {},
   "outputs": [
    {
     "data": {
      "text/html": [
       "<div>\n",
       "<style>\n",
       "    .dataframe thead tr:only-child th {\n",
       "        text-align: right;\n",
       "    }\n",
       "\n",
       "    .dataframe thead th {\n",
       "        text-align: left;\n",
       "    }\n",
       "\n",
       "    .dataframe tbody tr th {\n",
       "        vertical-align: top;\n",
       "    }\n",
       "</style>\n",
       "<table border=\"1\" class=\"dataframe\">\n",
       "  <thead>\n",
       "    <tr style=\"text-align: right;\">\n",
       "      <th></th>\n",
       "      <th>Cluster_1</th>\n",
       "      <th>Cluster_2</th>\n",
       "      <th>Cluster_3</th>\n",
       "      <th>Cluster_4</th>\n",
       "      <th>Cluster_5</th>\n",
       "      <th>Cluster_6</th>\n",
       "      <th>Cluster_7</th>\n",
       "      <th>Cluster_8</th>\n",
       "      <th>Cluster_9</th>\n",
       "      <th>Cluster_10</th>\n",
       "    </tr>\n",
       "  </thead>\n",
       "  <tbody>\n",
       "    <tr>\n",
       "      <th>sub1</th>\n",
       "      <td>-0.007538</td>\n",
       "      <td>-0.011777</td>\n",
       "      <td>0.003008</td>\n",
       "      <td>-0.003644</td>\n",
       "      <td>-0.001865</td>\n",
       "      <td>-0.000176</td>\n",
       "      <td>-0.005338</td>\n",
       "      <td>0.006533</td>\n",
       "      <td>-0.000142</td>\n",
       "      <td>0.014107</td>\n",
       "    </tr>\n",
       "    <tr>\n",
       "      <th>sub2</th>\n",
       "      <td>-0.007610</td>\n",
       "      <td>-0.012352</td>\n",
       "      <td>0.002400</td>\n",
       "      <td>-0.002900</td>\n",
       "      <td>-0.002179</td>\n",
       "      <td>-0.001720</td>\n",
       "      <td>-0.004615</td>\n",
       "      <td>0.005556</td>\n",
       "      <td>-0.000392</td>\n",
       "      <td>0.013331</td>\n",
       "    </tr>\n",
       "    <tr>\n",
       "      <th>sub3</th>\n",
       "      <td>-0.007232</td>\n",
       "      <td>-0.010720</td>\n",
       "      <td>0.004029</td>\n",
       "      <td>-0.003555</td>\n",
       "      <td>-0.001837</td>\n",
       "      <td>-0.000575</td>\n",
       "      <td>-0.004503</td>\n",
       "      <td>0.002851</td>\n",
       "      <td>-0.001383</td>\n",
       "      <td>0.007875</td>\n",
       "    </tr>\n",
       "    <tr>\n",
       "      <th>sub4</th>\n",
       "      <td>-0.004330</td>\n",
       "      <td>-0.011731</td>\n",
       "      <td>0.000860</td>\n",
       "      <td>-0.007953</td>\n",
       "      <td>-0.003431</td>\n",
       "      <td>-0.001297</td>\n",
       "      <td>-0.007884</td>\n",
       "      <td>0.023699</td>\n",
       "      <td>0.006902</td>\n",
       "      <td>0.067786</td>\n",
       "    </tr>\n",
       "    <tr>\n",
       "      <th>sub5</th>\n",
       "      <td>-0.006069</td>\n",
       "      <td>-0.010521</td>\n",
       "      <td>0.004166</td>\n",
       "      <td>-0.007202</td>\n",
       "      <td>-0.001020</td>\n",
       "      <td>0.001678</td>\n",
       "      <td>-0.007895</td>\n",
       "      <td>0.012072</td>\n",
       "      <td>0.001431</td>\n",
       "      <td>0.024159</td>\n",
       "    </tr>\n",
       "  </tbody>\n",
       "</table>\n",
       "</div>"
      ],
      "text/plain": [
       "      Cluster_1  Cluster_2  Cluster_3  Cluster_4  Cluster_5  Cluster_6  \\\n",
       "sub1  -0.007538  -0.011777   0.003008  -0.003644  -0.001865  -0.000176   \n",
       "sub2  -0.007610  -0.012352   0.002400  -0.002900  -0.002179  -0.001720   \n",
       "sub3  -0.007232  -0.010720   0.004029  -0.003555  -0.001837  -0.000575   \n",
       "sub4  -0.004330  -0.011731   0.000860  -0.007953  -0.003431  -0.001297   \n",
       "sub5  -0.006069  -0.010521   0.004166  -0.007202  -0.001020   0.001678   \n",
       "\n",
       "      Cluster_7  Cluster_8  Cluster_9  Cluster_10  \n",
       "sub1  -0.005338   0.006533  -0.000142    0.014107  \n",
       "sub2  -0.004615   0.005556  -0.000392    0.013331  \n",
       "sub3  -0.004503   0.002851  -0.001383    0.007875  \n",
       "sub4  -0.007884   0.023699   0.006902    0.067786  \n",
       "sub5  -0.007895   0.012072   0.001431    0.024159  "
      ]
     },
     "execution_count": 54,
     "metadata": {},
     "output_type": "execute_result"
    }
   ],
   "source": [
    "pheno_clust_r2_final"
   ]
  },
  {
   "cell_type": "code",
   "execution_count": 63,
   "metadata": {},
   "outputs": [
    {
     "data": {
      "text/plain": [
       "{'story': [['sub4', 'Cluster_10']]}"
      ]
     },
     "execution_count": 63,
     "metadata": {},
     "output_type": "execute_result"
    }
   ],
   "source": [
    "high_r2_dict"
   ]
  },
  {
   "cell_type": "code",
   "execution_count": 77,
   "metadata": {
    "scrolled": false
   },
   "outputs": [
    {
     "data": {
      "image/png": "[encoded data removed]"
     },
     "metadata": {},
     "output_type": "display_data"
    }
   ],
   "source": [
    "%%R -i path_subtype,path_association,list_trial,task_name\n",
    "for (ii in list_trial) {\n",
    "    MyData <- read.csv(file=paste(path_subtype,ii,\"_r2_SVR.csv\",sep = ''))\n",
    "    MyData[MyData < 0] <- 0 # put zero for negative R squared\n",
    "    # plot R2 radar plot\n",
    "    image_radar=ggradar(MyData, \n",
    "                        grid.min = -0.01,\n",
    "                        grid.mid = 0.05, \n",
    "                        grid.max = 0.1, \n",
    "                        axis.label.size = 4, \n",
    "                        grid.label.size = 5 ,\n",
    "                        legend.text.size =5,\n",
    "                        group.line.width = 1,\n",
    "                        group.point.size = 4)  +\n",
    "    theme(legend.text = element_text(size = 12),plot.title = element_text( face=\"bold\",size = 12)) + \n",
    "    ggtitle(paste(task_name,' Task : \\n  ',toupper(ii),sep = ''))\n",
    "    print(image_radar)\n",
    "    ggsave(file=paste(path_subtype,ii,\"_SVR_R-squared.svg\",sep = ''), plot=image_radar, width=10, height=8)\n",
    "}"
   ]
  },
  {
   "cell_type": "code",
   "execution_count": 65,
   "metadata": {
    "scrolled": false
   },
   "outputs": [
    {
     "name": "stdout",
     "output_type": "stream",
     "text": [
      "['sub4', 'Cluster_10']\n"
     ]
    },
    {
     "data": {
      "image/png": "[encoded data removed]",
      "text/plain": [
       "<matplotlib.figure.Figure at 0x7fc897621240>"
      ]
     },
     "metadata": {},
     "output_type": "display_data"
    },
    {
     "data": {
      "image/png": "[encoded data removed]",
      "text/plain": [
       "<matplotlib.figure.Figure at 0x7fc897621240>"
      ]
     },
     "metadata": {},
     "output_type": "display_data"
    }
   ],
   "source": [
    "# Plot and save feature importance\n",
    "fig, axs = plt.subplots()\n",
    "from IPython.display import display\n",
    "for hh in range(np.shape(high_r2)[0]):\n",
    "    X = all_pheno_pruned[dict_clusters[high_r2[:][hh][1]]]\n",
    "    x = X.values\n",
    "    Rsquared_c = np.zeros((np.shape(list_subtype)))\n",
    "    y = weight_pheno_clust_df[high_r2[:][hh][0]]\n",
    "    y = y.values\n",
    "    print(high_r2[:][hh])\n",
    "    Coeff,std, SquaredError,Rsquared,feimp = LinearRegression_apply(x,y, flag_plot=False)\n",
    "    Rsquared_c[iix] = Rsquared.mean()\n",
    "    \n",
    "    \n",
    "    # Threshold future importance\n",
    "    feimp_thresh =0 # Percentile of future to be removed\n",
    "    mean_feimp = np.mean(feimp, axis=0)\n",
    "    mean_std = np.mean(std, axis=0)\n",
    "    feature_importances = pd.Series(mean_feimp,index= X.columns)\n",
    "    feature_importances_select = feature_importances[feature_importances >= np.percentile(mean_feimp,feimp_thresh)]\n",
    "    std_select = mean_std[feature_importances >= np.percentile(mean_feimp,feimp_thresh)]\n",
    "    indices = np.argsort(mean_feimp[feature_importances >= np.percentile(mean_feimp,feimp_thresh)])[::-1]\n",
    "    \n",
    "    # Plot Future importance\n",
    "    axs.set_ylabel('Feature importance - {} '.format(high_r2[:][hh][0]))\n",
    "    feature_importances_select[indices].plot(kind='bar',yerr=std_select[indices],\n",
    "                                             figsize=(15,6),\n",
    "                                             title='{}'.format(high_r2[:][hh][1]),\n",
    "                                             ax=axs)\n",
    "    #fig.subplots_adjust(top=0.88)\n",
    "    fig.savefig(os.path.join(path_subtype,'fig_FeatImp_{}-{}.svg'.format(high_r2[:][hh][1],high_r2[:][hh][0])))\n",
    "    display(fig)"
   ]
  },
  {
   "cell_type": "code",
   "execution_count": null,
   "metadata": {},
   "outputs": [],
   "source": []
  },
  {
   "cell_type": "code",
   "execution_count": null,
   "metadata": {},
   "outputs": [],
   "source": [
    "# for trial_name in list_trial :\n",
    "#     # collect all clusters\n",
    "#     allClusters = []\n",
    "#     nameClusters = []\n",
    "#     for ix, pheno_name in enumerate(list_pheno):\n",
    "#         #from IPython.core.debugger import Tracer; Tracer()() \n",
    "#         mat_file = os.path.join(path_association,pheno_name,'association_stats_{}.mat'.format(pheno_name))\n",
    "#         %octave_push mat_file\n",
    "#         %octave mat_load = load(mat_file);\n",
    "#         %octave_pull mat_load\n",
    "#         model_x_norm = mat_load['model_norm']['x']\n",
    "#         model_labels_y_norm = mat_load['model_norm']['labels_y']\n",
    "#         myCluster = np.array(model_x_norm[:,1])\n",
    "#         myClusterName= model_labels_y_norm[1]\n",
    "#         allClusters.append(myCluster)\n",
    "#         nameClusters.append(myClusterName)\n",
    "        \n",
    "#     # create clusters\n",
    "#     allClusters = np.transpose(allClusters)\n",
    "#     model_y_norm =mat_load['model_norm']['y']\n",
    "#     model_labels_x_norm = mat_load['model_norm']['labels_x']\n",
    "    \n",
    "#     # concatenate clusters with subtype weight\n",
    "#     concat = [np.concatenate([model_y_norm[x], allClusters[x]]) for x in range(np.shape(model_y_norm)[0])]\n",
    "#     all_clusters_df = pd.DataFrame(concat)\n",
    "#     all_clusters_df.index = model_labels_x_norm\n",
    "#     colnames = np.concatenate([list_subtype,nameClusters])\n",
    "#     all_clusters_df.columns = colnames\n",
    "    \n",
    "#     # save as dataframe\n",
    "#     all_clusters_df.to_csv(os.path.join(path_subtype,'{}_pheno_subtype.csv'.format(trial_name)))"
   ]
  },
  {
   "cell_type": "code",
   "execution_count": null,
   "metadata": {},
   "outputs": [],
   "source": [
    "# # Create estimated R-squared from table to be used in R\n",
    "# dict_clusters = json.load(open(os.path.join(path_root,'pheno/hcp_bootstraped_pheno_clusters.txt')))\n",
    "# for trial_name in list_trial :\n",
    "#     # build R2 table for radar plot\n",
    "#     for ix, pheno_name in enumerate(list_pheno):\n",
    "#         #from IPython.core.debugger import Tracer; Tracer()() \n",
    "#         # Set data X Y\n",
    "#         X = all_pheno_pruned[dict_clusters[pheno_name]]\n",
    "#         x = X.values\n",
    "#         Rsquared_c = np.zeros((np.shape(list_subtype)))\n",
    "#         for iix, subtype_name in enumerate(list_subtype):\n",
    "#             y = all_pheno_pruned[subtype_name]\n",
    "#             y = y.values\n",
    "#             Coeff,std, SquaredError,Rsquared,feimp = LinearRegression_apply(x,y, flag_plot=False)\n",
    "#             Rsquared_c[iix] = Rsquared.mean()\n",
    "#         if ix == 0:\n",
    "#             pheno_r2_final = pd.Series(Rsquared_c.tolist())\n",
    "#         else:\n",
    "#             pheno_r2_final =pd.concat([pheno_r2_final,pd.Series(Rsquared_c.tolist())],axis=1)\n",
    "#     # set R2 table        \n",
    "#     pheno_r2_final.columns = list_pheno\n",
    "#     pheno_r2_final.index = list_subtype\n",
    "#     pheno_r2_final = pd.DataFrame(pheno_r2_final)\n",
    "#     pheno_r2_final.to_csv(os.path.join(path_subtype,'{}_pheno_r2_SVR.csv'.format(trial_name)))"
   ]
  },
  {
   "cell_type": "code",
   "execution_count": null,
   "metadata": {},
   "outputs": [],
   "source": []
  },
  {
   "cell_type": "code",
   "execution_count": null,
   "metadata": {
    "scrolled": true
   },
   "outputs": [],
   "source": [
    "from sklearn.ensemble import GradientBoostingRegressor\n",
    "X_train, X_test, y_train, y_test = train_test_split(X,y)\n",
    "\n",
    "clf = GradientBoostingRegressor( max_depth=6, learning_rate=0.04,\n",
    "                                loss='huber', random_state=0)\n",
    "clf.fit(X_train, y_train)\n",
    "\n",
    "predicted = clf.predict(X_test)\n",
    "expected = y_test\n",
    "\n",
    "plt.figure(figsize=(10, 4))\n",
    "plt.scatter(expected, predicted)\n",
    "plt.plot([expected.min(),expected.max()], [expected.min(),expected.max()],'--k')\n",
    "plt.axis('tight')\n",
    "plt.xlabel('True price ($1000s)')\n",
    "plt.ylabel('Predicted price ($1000s)')\n",
    "plt.tight_layout()"
   ]
  }
 ],
 "metadata": {
  "kernelspec": {
   "display_name": "Python 3",
   "language": "python",
   "name": "python3"
  },
  "language_info": {
   "codemirror_mode": {
    "name": "ipython",
    "version": 3
   },
   "file_extension": ".py",
   "mimetype": "text/x-python",
   "name": "python",
   "nbconvert_exporter": "python",
   "pygments_lexer": "ipython3",
   "version": "3.5.2"
  },
  "varInspector": {
   "cols": {
    "lenName": 16,
    "lenType": 16,
    "lenVar": 40
   },
   "kernels_config": {
    "python": {
     "delete_cmd_postfix": "",
     "delete_cmd_prefix": "del ",
     "library": "var_list.py",
     "varRefreshCmd": "print(var_dic_list())"
    },
    "r": {
     "delete_cmd_postfix": ") ",
     "delete_cmd_prefix": "rm(",
     "library": "var_list.r",
     "varRefreshCmd": "cat(var_dic_list()) "
    }
   },
   "types_to_exclude": [
    "module",
    "function",
    "builtin_function_or_method",
    "instance",
    "_Feature"
   ],
   "window_display": false
  },
  "widgets": {
   "state": {},
   "version": "1.1.2"
  }
 },
 "nbformat": 4,
 "nbformat_minor": 2
}
