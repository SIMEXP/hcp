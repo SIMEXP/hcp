{
 "cells": [
  {
   "cell_type": "markdown",
   "metadata": {},
   "source": [
    "## Association subtypes language task"
   ]
  },
  {
   "cell_type": "code",
   "execution_count": 15,
   "metadata": {},
   "outputs": [],
   "source": [
    "import seaborn as sns\n",
    "import os\n",
    "import numpy as np\n",
    "from scipy import stats, integrate\n",
    "import scipy.io as sio\n",
    "import pandas as pd\n",
    "from pandas.tools.plotting import scatter_matrix\n",
    "import seaborn as sns; sns.set(color_codes=True)\n",
    "import matplotlib.pyplot as plt"
   ]
  },
  {
   "cell_type": "code",
   "execution_count": 16,
   "metadata": {},
   "outputs": [],
   "source": [
    "import scipy.io #read .mat files\n",
    "from sklearn.model_selection import KFold\n",
    "from sklearn.model_selection import GridSearchCV\n",
    "from sklearn.svm import SVC,SVR,LinearSVC\n",
    "from sklearn import preprocessing\n",
    "from sklearn.linear_model import LinearRegression\n",
    "from sklearn.ensemble import RandomForestRegressor\n",
    "from sklearn.metrics import roc_auc_score\n",
    "from sklearn.preprocessing import StandardScaler,MinMaxScaler\n",
    "from sklearn.utils import shuffle"
   ]
  },
  {
   "cell_type": "code",
   "execution_count": 17,
   "metadata": {},
   "outputs": [
    {
     "name": "stdout",
     "output_type": "stream",
     "text": [
      "The rpy2.ipython extension is already loaded. To reload it, use:\n",
      "  %reload_ext rpy2.ipython\n",
      "The oct2py.ipython extension is already loaded. To reload it, use:\n",
      "  %reload_ext oct2py.ipython\n"
     ]
    }
   ],
   "source": [
    "# load good stuff\n",
    "%matplotlib inline\n",
    "%load_ext rpy2.ipython\n",
    "%load_ext oct2py.ipython\n",
    "sns.set(color_codes=True)"
   ]
  },
  {
   "cell_type": "code",
   "execution_count": 18,
   "metadata": {},
   "outputs": [],
   "source": [
    "import warnings\n",
    "warnings.filterwarnings('ignore')"
   ]
  },
  {
   "cell_type": "code",
   "execution_count": 19,
   "metadata": {},
   "outputs": [
    {
     "data": {
      "text/plain": [
       "Adding library hcp to the search path."
      ]
     },
     "metadata": {},
     "output_type": "display_data"
    },
    {
     "data": {
      "text/plain": []
     },
     "metadata": {},
     "output_type": "display_data"
    },
    {
     "data": {
      "text/plain": [
       "Adding library niak to the search path."
      ]
     },
     "metadata": {},
     "output_type": "display_data"
    },
    {
     "data": {
      "text/plain": []
     },
     "metadata": {},
     "output_type": "display_data"
    },
    {
     "data": {
      "text/plain": [
       "Adding library psom to the search path."
      ]
     },
     "metadata": {},
     "output_type": "display_data"
    },
    {
     "data": {
      "text/plain": []
     },
     "metadata": {},
     "output_type": "display_data"
    }
   ],
   "source": [
    "# Add niak hcp and psomm to oactve path\n",
    "%octave addpath(genpath('~/git/Misc'));\n",
    "%octave build_path hcp niak psom"
   ]
  },
  {
   "cell_type": "code",
   "execution_count": 31,
   "metadata": {},
   "outputs": [],
   "source": [
    "#  Set path\n",
    "#path_root = '/home/yassinebha/Drive/HCP/subtypes_scores/26-10-2016/subtype_5_spm_LANGUAGE_03-Oct-2017/';\n",
    "path_root = '/media/yassine/data_disk/Drive/HCP2/subtypes_scores/26-10-2016/';\n",
    "path_subtype = os.path.join(path_root,'subtype_5_spm_LANGUAGE_03-Oct-2017/');\n",
    "path_association =  os.path.join(path_subtype,'associations/');\n",
    "path_networks =  os.path.join(path_subtype,'networks/');\n",
    "nb_sbt = 5"
   ]
  },
  {
   "cell_type": "code",
   "execution_count": 32,
   "metadata": {},
   "outputs": [
    {
     "data": {
      "text/plain": [
       "['Cluster_1',\n",
       " 'Cluster_2',\n",
       " 'Cluster_3',\n",
       " 'Cluster_4',\n",
       " 'Cluster_5',\n",
       " 'Cluster_6',\n",
       " 'Cluster_7',\n",
       " 'Cluster_8',\n",
       " 'Cluster_9']"
      ]
     },
     "execution_count": 32,
     "metadata": {},
     "output_type": "execute_result"
    }
   ],
   "source": [
    "# List phenotypes\n",
    "list_pheno  = [f for f in os.listdir(path_association)]\n",
    "list_pheno = sorted(list_pheno)\n",
    "list_pheno"
   ]
  },
  {
   "cell_type": "code",
   "execution_count": 33,
   "metadata": {},
   "outputs": [
    {
     "data": {
      "text/plain": [
       "['story']"
      ]
     },
     "execution_count": 33,
     "metadata": {},
     "output_type": "execute_result"
    }
   ],
   "source": [
    "# List trials\n",
    "list_trial  = [f for f in os.listdir(path_networks)]\n",
    "list_trial "
   ]
  },
  {
   "cell_type": "code",
   "execution_count": 34,
   "metadata": {},
   "outputs": [
    {
     "data": {
      "text/plain": [
       "['sub1', 'sub2', 'sub3', 'sub4', 'sub5']"
      ]
     },
     "execution_count": 34,
     "metadata": {},
     "output_type": "execute_result"
    }
   ],
   "source": [
    "list_subtype = ['sub{}'.format(ii) for ii in range(1,nb_sbt+1)]\n",
    "list_subtype"
   ]
  },
  {
   "cell_type": "code",
   "execution_count": 35,
   "metadata": {},
   "outputs": [],
   "source": [
    "# Create R-squared table to be used in R\n",
    "for trial_name in list_trial :\n",
    "    # build R2 table for radar plot\n",
    "    for ix, pheno_name in enumerate(list_pheno):\n",
    "        mat_file = os.path.join(path_association,pheno_name,'association_stats_{}.mat'.format(pheno_name))\n",
    "        %octave_push mat_file\n",
    "        %octave mat_load = load(mat_file);\n",
    "        %octave_pull mat_load\n",
    "        pheno_r2 = mat_load['glm_results'][trial_name]['rsquare']\n",
    "        if ix == 0:\n",
    "            pheno_r2_final = pd.Series(pheno_r2.tolist()[0])\n",
    "        else:\n",
    "            pheno_r2_final =pd.concat([pheno_r2_final,pd.Series(pheno_r2.tolist()[0])],axis=1)\n",
    "            \n",
    "    pheno_r2_final.columns = list_pheno\n",
    "    pheno_r2_final.index = list_subtype\n",
    "    pheno_r2_final = pd.DataFrame(pheno_r2_final)\n",
    "    pheno_r2_final.to_csv(os.path.join(path_root,'{}_r2.csv'.format(trial_name)))"
   ]
  },
  {
   "cell_type": "code",
   "execution_count": 36,
   "metadata": {},
   "outputs": [
    {
     "data": {
      "text/html": [
       "<div>\n",
       "<style>\n",
       "    .dataframe thead tr:only-child th {\n",
       "        text-align: right;\n",
       "    }\n",
       "\n",
       "    .dataframe thead th {\n",
       "        text-align: left;\n",
       "    }\n",
       "\n",
       "    .dataframe tbody tr th {\n",
       "        vertical-align: top;\n",
       "    }\n",
       "</style>\n",
       "<table border=\"1\" class=\"dataframe\">\n",
       "  <thead>\n",
       "    <tr style=\"text-align: right;\">\n",
       "      <th></th>\n",
       "      <th>Cluster_1</th>\n",
       "      <th>Cluster_2</th>\n",
       "      <th>Cluster_3</th>\n",
       "      <th>Cluster_4</th>\n",
       "      <th>Cluster_5</th>\n",
       "      <th>Cluster_6</th>\n",
       "      <th>Cluster_7</th>\n",
       "      <th>Cluster_8</th>\n",
       "      <th>Cluster_9</th>\n",
       "    </tr>\n",
       "  </thead>\n",
       "  <tbody>\n",
       "    <tr>\n",
       "      <th>sub1</th>\n",
       "      <td>0.027419</td>\n",
       "      <td>0.026924</td>\n",
       "      <td>0.023546</td>\n",
       "      <td>0.028527</td>\n",
       "      <td>0.026545</td>\n",
       "      <td>0.027362</td>\n",
       "      <td>0.029579</td>\n",
       "      <td>0.031842</td>\n",
       "      <td>0.038620</td>\n",
       "    </tr>\n",
       "    <tr>\n",
       "      <th>sub2</th>\n",
       "      <td>0.025407</td>\n",
       "      <td>0.025638</td>\n",
       "      <td>0.022017</td>\n",
       "      <td>0.027258</td>\n",
       "      <td>0.024840</td>\n",
       "      <td>0.024979</td>\n",
       "      <td>0.027359</td>\n",
       "      <td>0.029861</td>\n",
       "      <td>0.037127</td>\n",
       "    </tr>\n",
       "    <tr>\n",
       "      <th>sub3</th>\n",
       "      <td>0.027674</td>\n",
       "      <td>0.027454</td>\n",
       "      <td>0.023785</td>\n",
       "      <td>0.028853</td>\n",
       "      <td>0.027099</td>\n",
       "      <td>0.026600</td>\n",
       "      <td>0.027699</td>\n",
       "      <td>0.029965</td>\n",
       "      <td>0.032323</td>\n",
       "    </tr>\n",
       "    <tr>\n",
       "      <th>sub4</th>\n",
       "      <td>0.029202</td>\n",
       "      <td>0.028180</td>\n",
       "      <td>0.027702</td>\n",
       "      <td>0.031081</td>\n",
       "      <td>0.027495</td>\n",
       "      <td>0.030648</td>\n",
       "      <td>0.040492</td>\n",
       "      <td>0.046320</td>\n",
       "      <td>0.095150</td>\n",
       "    </tr>\n",
       "    <tr>\n",
       "      <th>sub5</th>\n",
       "      <td>0.031448</td>\n",
       "      <td>0.029501</td>\n",
       "      <td>0.027404</td>\n",
       "      <td>0.031594</td>\n",
       "      <td>0.029719</td>\n",
       "      <td>0.031702</td>\n",
       "      <td>0.035077</td>\n",
       "      <td>0.038348</td>\n",
       "      <td>0.050820</td>\n",
       "    </tr>\n",
       "  </tbody>\n",
       "</table>\n",
       "</div>"
      ],
      "text/plain": [
       "      Cluster_1  Cluster_2  Cluster_3  Cluster_4  Cluster_5  Cluster_6  \\\n",
       "sub1   0.027419   0.026924   0.023546   0.028527   0.026545   0.027362   \n",
       "sub2   0.025407   0.025638   0.022017   0.027258   0.024840   0.024979   \n",
       "sub3   0.027674   0.027454   0.023785   0.028853   0.027099   0.026600   \n",
       "sub4   0.029202   0.028180   0.027702   0.031081   0.027495   0.030648   \n",
       "sub5   0.031448   0.029501   0.027404   0.031594   0.029719   0.031702   \n",
       "\n",
       "      Cluster_7  Cluster_8  Cluster_9  \n",
       "sub1   0.029579   0.031842   0.038620  \n",
       "sub2   0.027359   0.029861   0.037127  \n",
       "sub3   0.027699   0.029965   0.032323  \n",
       "sub4   0.040492   0.046320   0.095150  \n",
       "sub5   0.035077   0.038348   0.050820  "
      ]
     },
     "execution_count": 36,
     "metadata": {},
     "output_type": "execute_result"
    }
   ],
   "source": [
    "pheno_r2_final"
   ]
  },
  {
   "cell_type": "markdown",
   "metadata": {},
   "source": [
    "### On first run in new machine do\n",
    "Step 1 — Installing System Dependencies for devtools\n",
    "\n",
    "`sudo apt-get install build-essential libcurl4-gnutls-dev libxml2-dev libssl-dev libcairo2-dev r-cran-stringr`\n",
    "\n",
    "Step 2 — Installing the Devtools Package\n",
    "\n",
    "```sudo -i R\n",
    "install.packages('devtools')\n",
    "devtools::install_github(\"hadley/svglite\")\n",
    "devtools::install_github(\"ricardo-bion/ggradar\", dependencies=TRUE)```"
   ]
  },
  {
   "cell_type": "code",
   "execution_count": 37,
   "metadata": {},
   "outputs": [],
   "source": [
    "%%R\n",
    "library(ggradar)\n",
    "library(svglite)\n",
    "suppressPackageStartupMessages(library(dplyr))\n",
    "library(scales)\n",
    "require(\"ggplot2\")"
   ]
  },
  {
   "cell_type": "code",
   "execution_count": 38,
   "metadata": {
    "scrolled": false
   },
   "outputs": [
    {
     "data": {
      "image/png": "[encoded data removed]"
     },
     "metadata": {},
     "output_type": "display_data"
    }
   ],
   "source": [
    "%%R -i path_subtype,list_trial\n",
    "for (ii in list_trial) {\n",
    "    MyData <- read.csv(file=paste(path_subtype,ii,\"_r2.csv\",sep = ''))\n",
    "    # plot R2 radar plot\n",
    "    image_radar=ggradar(MyData, \n",
    "                        grid.min = 0,\n",
    "                        grid.mid = 0.05, \n",
    "                        grid.max = 0.1, \n",
    "                        axis.label.size = 5, \n",
    "                        grid.label.size = 5 ,\n",
    "                        legend.text.size =5,\n",
    "                        group.line.width = 1,\n",
    "                        group.point.size = 4)  +\n",
    "    theme(legend.text = element_text(size = 12),plot.title = element_text( face=\"bold\",size = 12)) + \n",
    "    ggtitle(paste(' Language Task : \\n  ',toupper(ii),sep = ''))\n",
    "    print(image_radar)\n",
    "    ggsave(file=paste(path_subtype,ii,\"_R-squared.svg\",sep = ''), plot=image_radar, width=10, height=8)\n",
    "}"
   ]
  },
  {
   "cell_type": "code",
   "execution_count": 45,
   "metadata": {},
   "outputs": [
    {
     "data": {
      "text/plain": [
       "['Cluster_1',\n",
       " 'Cluster_2',\n",
       " 'Cluster_3',\n",
       " 'Cluster_4',\n",
       " 'Cluster_5',\n",
       " 'Cluster_6',\n",
       " 'Cluster_7',\n",
       " 'Cluster_8',\n",
       " 'Cluster_9']"
      ]
     },
     "execution_count": 45,
     "metadata": {},
     "output_type": "execute_result"
    }
   ],
   "source": [
    "list_pheno"
   ]
  },
  {
   "cell_type": "code",
   "execution_count": 40,
   "metadata": {
    "scrolled": false
   },
   "outputs": [],
   "source": [
    "# plot association wieght and phenotypes\n",
    "for trial_name in list_trial :\n",
    "    # build R2 table for radar plot\n",
    "    for ix, pheno_name in enumerate(list_pheno):\n",
    "        mat_file = os.path.join(path_association,pheno_name,'association_stats_{}.mat'.format(pheno_name))\n",
    "        %octave_push mat_file\n",
    "        %octave mat_load = load(mat_file);\n",
    "        %octave_pull mat_load\n",
    "        model_y =mat_load['model_raw']['y']\n",
    "        model_x = mat_load['model_raw']['x']\n",
    "        model_labels_x = mat_load['model_raw']['labels_x']\n",
    "        model_labels_y = mat_load['model_raw']['labels_y']\n",
    "        concat = [np.concatenate([model_y[x], model_x[x]]) for x in range(np.shape(model_y)[0])]\n",
    "        model_df = pd.DataFrame(concat)\n",
    "        model_df.index = model_labels_x\n",
    "        colnames = np.concatenate([list_subtype,model_labels_y])\n",
    "        model_df.columns = colnames\n",
    "        model_df.to_csv(os.path.join(path_subtype,'{}_pheno_subtype.csv'.format(trial_name)))\n",
    "        \n",
    "        # plot association maps\n",
    "        #for subtype in list_subtype:\n",
    "        #    fig = plt.figure(figsize=(9,16))\n",
    "        #    ax1 = fig.add_subplot(511)\n",
    "        #    ax1 = sns.regplot(x=pheno_name, y=subtype, data=model_df,color=\"#BCB6FF\");\n",
    "        #    ax1.set_ylabel('{}_{}'.format(trial_name,subtype))\n",
    "        #    ax1.set_xlabel(pheno_name)\n",
    "        \n",
    "        \n",
    "    # calculate Rsquared with randomForst\n",
    "    model_df = model_df.reset_index().rename(columns={'index': 'Subject'})\n",
    "    # import all pheno data\n",
    "    all_pheno = pd.read_csv(os.path.join(path_root,'pheno/hcp_bootstraped_pheno_nonan_norm_python.csv'))\n",
    "    # Merge all pheno with subtype weights\n",
    "    all_pheno_pruned = pd.merge(model_df[['Subject','sub1','sub2','sub3','sub4','sub5']],all_pheno,on='Subject',how='left')\n",
    "    # Drop NaN\n",
    "    all_pheno_pruned.dropna(inplace=True)\n",
    "    # Set data X Y\n",
    "    data_X = all_pheno_pruned.drop(['Subject','sub1','sub2','sub3','sub4','sub5'],axis=1)\n",
    "    x = data_X.values\n",
    "    data_Y = all_pheno_pruned['sub4']\n",
    "    y = data_Y.values"
   ]
  },
  {
   "cell_type": "code",
   "execution_count": 46,
   "metadata": {},
   "outputs": [
    {
     "data": {
      "text/plain": [
       "'/media/yassine/data_disk/Drive/HCP2/subtypes_scores/26-10-2016/subtype_5_spm_LANGUAGE_03-Oct-2017/associations/Cluster_9/association_stats_Cluster_9.mat'"
      ]
     },
     "execution_count": 46,
     "metadata": {},
     "output_type": "execute_result"
    }
   ],
   "source": [
    "mat_file\n"
   ]
  },
  {
   "cell_type": "code",
   "execution_count": 44,
   "metadata": {},
   "outputs": [
    {
     "data": {
      "text/plain": [
       "Index(['Subject', 'sub1', 'sub2', 'sub3', 'sub4', 'sub5', 'FD_RL',\n",
       "       'FD_scrubbed_RL', 'FD_LR', 'FD_scrubbed_LR', 'FD_scrubbed_mean',\n",
       "       'FD_mean', 'Age_in_Yrs', 'Gender', 'Mother_ID', 'BMI', 'BPSystolic',\n",
       "       'BPDiastolic', 'Cluster_1', 'Cluster_2', 'Cluster_3', 'Cluster_4',\n",
       "       'Cluster_5', 'Cluster_6', 'Cluster_7', 'Cluster_8', 'Cluster_9'],\n",
       "      dtype='object')"
      ]
     },
     "execution_count": 44,
     "metadata": {},
     "output_type": "execute_result"
    }
   ],
   "source": [
    "model_df.columns"
   ]
  },
  {
   "cell_type": "markdown",
   "metadata": {},
   "source": [
    "## Random forest regressionn association "
   ]
  },
  {
   "cell_type": "code",
   "execution_count": 56,
   "metadata": {
    "scrolled": false
   },
   "outputs": [],
   "source": [
    "def RandomForest_apply(data_X, data_Y,n_splits=3):\n",
    "    \"\"\"\n",
    "    data_X: predictor\n",
    "    data_Y: variable to be predicted\n",
    "    n_splits: number of split data\n",
    "    \n",
    "    returns:\n",
    "    feimp:   mean feature importance\n",
    "    scores: Mean R-squared\n",
    "    std:    standar deviantion of R-squared\n",
    "    \"\"\"\n",
    "    # apply machine learning : Random forest regression\n",
    "    rfr = RandomForestRegressor(n_estimators=4000,oob_score=True,n_jobs=-1)\n",
    "    skf = KFold(n_splits)\n",
    "    feimp = np.zeros((skf.n_splits,x.shape[1]))\n",
    "    scores = np.zeros((skf.n_splits,1))\n",
    "    std =  np.zeros((skf.n_splits,x.shape[1]))\n",
    "    \n",
    "    #scale Y\n",
    "    scl = StandardScaler()\n",
    "    data_Y = scl.fit_transform(data_Y.reshape(-1, 1))\n",
    "    minmiax = MinMaxScaler(feature_range=(-1, 1))\n",
    "    data_Y = minmiax.fit_transform(data_Y)[:,0]\n",
    "    #scale x\n",
    "    scl = StandardScaler()\n",
    "    data_X = scl.fit_transform(data_X)\n",
    "    data_X, data_Y = shuffle(x, data_Y, random_state=0)\n",
    "    \n",
    "    for c, (train_index, test_index) in enumerate(skf.split(x)):\n",
    "        x_train, x_test = x[train_index], x[test_index]\n",
    "        y_train, y_test = y[train_index], y[test_index]\n",
    "\n",
    "        rfr.fit(x_train, y_train)\n",
    "        pred = rfr.predict(x_train)\n",
    "\n",
    "        rsq = rfr.score(x_test, y_test)\n",
    "        scores[c,:] = rsq\n",
    "        \n",
    "        feimp[c,:] = rfr.feature_importances_[:]\n",
    "        \n",
    "        std[c,:] = np.std([tree.feature_importances_ for tree in rfr.estimators_],axis=0)\n",
    "        \n",
    "        \n",
    "        #     plt.figure()\n",
    "        #     plt.scatter(y_test, y_test, edgecolor='k',\n",
    "        #             c=\"navy\", s=s, marker=\"s\", alpha=a, label=\"Test Data\")\n",
    "        \n",
    "        #     plt.scatter(y_train, pred, edgecolor='k',\n",
    "        #             c=\"c\", s=s, marker=\"^\", alpha=a,\n",
    "        #             label=\"Prediction -- RF score=%.2f\" % rsq)\n",
    "        #     plt.title(\"Prediction on subset number {}\".format(c))\n",
    "        #     plt.legend()\n",
    "        #     plt.show()\n",
    "    return feimp, scores,std"
   ]
  },
  {
   "cell_type": "code",
   "execution_count": 17,
   "metadata": {
    "scrolled": true
   },
   "outputs": [
    {
     "data": {
      "text/html": [
       "<div>\n",
       "<style>\n",
       "    .dataframe thead tr:only-child th {\n",
       "        text-align: right;\n",
       "    }\n",
       "\n",
       "    .dataframe thead th {\n",
       "        text-align: left;\n",
       "    }\n",
       "\n",
       "    .dataframe tbody tr th {\n",
       "        vertical-align: top;\n",
       "    }\n",
       "</style>\n",
       "<table border=\"1\" class=\"dataframe\">\n",
       "  <thead>\n",
       "    <tr style=\"text-align: right;\">\n",
       "      <th></th>\n",
       "      <th>Subject</th>\n",
       "      <th>sub1</th>\n",
       "      <th>sub2</th>\n",
       "      <th>sub3</th>\n",
       "      <th>sub4</th>\n",
       "      <th>sub5</th>\n",
       "      <th>FD_RL</th>\n",
       "      <th>FD_scrubbed_RL</th>\n",
       "      <th>FD_LR</th>\n",
       "      <th>FD_scrubbed_LR</th>\n",
       "      <th>...</th>\n",
       "      <th>BPDiastolic</th>\n",
       "      <th>Cluster_1</th>\n",
       "      <th>Cluster_2</th>\n",
       "      <th>Cluster_3</th>\n",
       "      <th>Cluster_4</th>\n",
       "      <th>Cluster_5</th>\n",
       "      <th>Cluster_6</th>\n",
       "      <th>Cluster_7</th>\n",
       "      <th>Cluster_8</th>\n",
       "      <th>Cluster_9</th>\n",
       "    </tr>\n",
       "  </thead>\n",
       "  <tbody>\n",
       "    <tr>\n",
       "      <th>0</th>\n",
       "      <td>HCP100206</td>\n",
       "      <td>0.048963</td>\n",
       "      <td>-0.063092</td>\n",
       "      <td>0.084046</td>\n",
       "      <td>-0.134382</td>\n",
       "      <td>0.040182</td>\n",
       "      <td>0.088456</td>\n",
       "      <td>0.088456</td>\n",
       "      <td>0.099963</td>\n",
       "      <td>0.099963</td>\n",
       "      <td>...</td>\n",
       "      <td>71.0</td>\n",
       "      <td>1.280542</td>\n",
       "      <td>0.043885</td>\n",
       "      <td>0.700018</td>\n",
       "      <td>1.442533</td>\n",
       "      <td>1.984574</td>\n",
       "      <td>-0.507155</td>\n",
       "      <td>1.013050</td>\n",
       "      <td>0.020879</td>\n",
       "      <td>-0.199146</td>\n",
       "    </tr>\n",
       "    <tr>\n",
       "      <th>1</th>\n",
       "      <td>HCP100307</td>\n",
       "      <td>-0.546856</td>\n",
       "      <td>0.570022</td>\n",
       "      <td>-0.522304</td>\n",
       "      <td>-0.196883</td>\n",
       "      <td>0.316588</td>\n",
       "      <td>0.101970</td>\n",
       "      <td>0.101970</td>\n",
       "      <td>0.119331</td>\n",
       "      <td>0.119331</td>\n",
       "      <td>...</td>\n",
       "      <td>70.0</td>\n",
       "      <td>0.518313</td>\n",
       "      <td>-0.959257</td>\n",
       "      <td>-0.558397</td>\n",
       "      <td>-0.716843</td>\n",
       "      <td>-0.703989</td>\n",
       "      <td>-0.136816</td>\n",
       "      <td>0.417536</td>\n",
       "      <td>-0.095940</td>\n",
       "      <td>-0.437668</td>\n",
       "    </tr>\n",
       "    <tr>\n",
       "      <th>2</th>\n",
       "      <td>HCP100408</td>\n",
       "      <td>0.060119</td>\n",
       "      <td>-0.037967</td>\n",
       "      <td>0.052511</td>\n",
       "      <td>-0.002537</td>\n",
       "      <td>-0.056484</td>\n",
       "      <td>0.128052</td>\n",
       "      <td>0.128052</td>\n",
       "      <td>0.140232</td>\n",
       "      <td>0.140232</td>\n",
       "      <td>...</td>\n",
       "      <td>94.0</td>\n",
       "      <td>0.087549</td>\n",
       "      <td>-0.529605</td>\n",
       "      <td>-0.113013</td>\n",
       "      <td>-0.036545</td>\n",
       "      <td>-0.589858</td>\n",
       "      <td>0.225417</td>\n",
       "      <td>0.462647</td>\n",
       "      <td>-0.123929</td>\n",
       "      <td>0.098199</td>\n",
       "    </tr>\n",
       "    <tr>\n",
       "      <th>3</th>\n",
       "      <td>HCP100610</td>\n",
       "      <td>-0.322992</td>\n",
       "      <td>0.289544</td>\n",
       "      <td>-0.300909</td>\n",
       "      <td>-0.223959</td>\n",
       "      <td>0.314264</td>\n",
       "      <td>0.189474</td>\n",
       "      <td>0.189474</td>\n",
       "      <td>0.179002</td>\n",
       "      <td>0.179002</td>\n",
       "      <td>...</td>\n",
       "      <td>75.0</td>\n",
       "      <td>-0.366816</td>\n",
       "      <td>-0.890299</td>\n",
       "      <td>-0.573586</td>\n",
       "      <td>-0.389725</td>\n",
       "      <td>0.205524</td>\n",
       "      <td>-0.195462</td>\n",
       "      <td>0.331794</td>\n",
       "      <td>0.683207</td>\n",
       "      <td>1.341814</td>\n",
       "    </tr>\n",
       "    <tr>\n",
       "      <th>4</th>\n",
       "      <td>HCP101006</td>\n",
       "      <td>-0.004455</td>\n",
       "      <td>-0.031612</td>\n",
       "      <td>0.025436</td>\n",
       "      <td>-0.041583</td>\n",
       "      <td>0.055254</td>\n",
       "      <td>0.156877</td>\n",
       "      <td>0.156877</td>\n",
       "      <td>0.131924</td>\n",
       "      <td>0.131924</td>\n",
       "      <td>...</td>\n",
       "      <td>87.0</td>\n",
       "      <td>0.032712</td>\n",
       "      <td>0.050956</td>\n",
       "      <td>-0.383481</td>\n",
       "      <td>-0.887668</td>\n",
       "      <td>-0.754858</td>\n",
       "      <td>-0.305792</td>\n",
       "      <td>-1.048404</td>\n",
       "      <td>0.028991</td>\n",
       "      <td>-0.487552</td>\n",
       "    </tr>\n",
       "  </tbody>\n",
       "</table>\n",
       "<p>5 rows × 27 columns</p>\n",
       "</div>"
      ],
      "text/plain": [
       "     Subject      sub1      sub2      sub3      sub4      sub5     FD_RL  \\\n",
       "0  HCP100206  0.048963 -0.063092  0.084046 -0.134382  0.040182  0.088456   \n",
       "1  HCP100307 -0.546856  0.570022 -0.522304 -0.196883  0.316588  0.101970   \n",
       "2  HCP100408  0.060119 -0.037967  0.052511 -0.002537 -0.056484  0.128052   \n",
       "3  HCP100610 -0.322992  0.289544 -0.300909 -0.223959  0.314264  0.189474   \n",
       "4  HCP101006 -0.004455 -0.031612  0.025436 -0.041583  0.055254  0.156877   \n",
       "\n",
       "   FD_scrubbed_RL     FD_LR  FD_scrubbed_LR    ...      BPDiastolic  \\\n",
       "0        0.088456  0.099963        0.099963    ...             71.0   \n",
       "1        0.101970  0.119331        0.119331    ...             70.0   \n",
       "2        0.128052  0.140232        0.140232    ...             94.0   \n",
       "3        0.189474  0.179002        0.179002    ...             75.0   \n",
       "4        0.156877  0.131924        0.131924    ...             87.0   \n",
       "\n",
       "   Cluster_1  Cluster_2  Cluster_3  Cluster_4  Cluster_5  Cluster_6  \\\n",
       "0   1.280542   0.043885   0.700018   1.442533   1.984574  -0.507155   \n",
       "1   0.518313  -0.959257  -0.558397  -0.716843  -0.703989  -0.136816   \n",
       "2   0.087549  -0.529605  -0.113013  -0.036545  -0.589858   0.225417   \n",
       "3  -0.366816  -0.890299  -0.573586  -0.389725   0.205524  -0.195462   \n",
       "4   0.032712   0.050956  -0.383481  -0.887668  -0.754858  -0.305792   \n",
       "\n",
       "   Cluster_7  Cluster_8  Cluster_9  \n",
       "0   1.013050   0.020879  -0.199146  \n",
       "1   0.417536  -0.095940  -0.437668  \n",
       "2   0.462647  -0.123929   0.098199  \n",
       "3   0.331794   0.683207   1.341814  \n",
       "4  -1.048404   0.028991  -0.487552  \n",
       "\n",
       "[5 rows x 27 columns]"
      ]
     },
     "execution_count": 17,
     "metadata": {},
     "output_type": "execute_result"
    }
   ],
   "source": [
    "model_df = model_df.reset_index().rename(columns={'index': 'Subject'})\n",
    "model_df.head()"
   ]
  },
  {
   "cell_type": "code",
   "execution_count": 20,
   "metadata": {},
   "outputs": [],
   "source": [
    "# import all pheno data\n",
    "all_pheno = pd.read_csv(os.path.join('/media/yassine/data_disk/Drive/HCP2/subtypes_scores/26-10-2016/pheno/hcp_bootstraped_pheno_nonan_norm_python.csv'))"
   ]
  },
  {
   "cell_type": "code",
   "execution_count": 21,
   "metadata": {
    "scrolled": true
   },
   "outputs": [
    {
     "data": {
      "text/html": [
       "<div>\n",
       "<style>\n",
       "    .dataframe thead tr:only-child th {\n",
       "        text-align: right;\n",
       "    }\n",
       "\n",
       "    .dataframe thead th {\n",
       "        text-align: left;\n",
       "    }\n",
       "\n",
       "    .dataframe tbody tr th {\n",
       "        vertical-align: top;\n",
       "    }\n",
       "</style>\n",
       "<table border=\"1\" class=\"dataframe\">\n",
       "  <thead>\n",
       "    <tr style=\"text-align: right;\">\n",
       "      <th></th>\n",
       "      <th>Subject</th>\n",
       "      <th>Cluster_1</th>\n",
       "      <th>Cluster_2</th>\n",
       "      <th>Cluster_3</th>\n",
       "      <th>Cluster_4</th>\n",
       "      <th>Cluster_5</th>\n",
       "      <th>Cluster_6</th>\n",
       "      <th>Cluster_7</th>\n",
       "      <th>Cluster_8</th>\n",
       "      <th>Cluster_9</th>\n",
       "      <th>Cluster_10</th>\n",
       "    </tr>\n",
       "  </thead>\n",
       "  <tbody>\n",
       "    <tr>\n",
       "      <th>0</th>\n",
       "      <td>HCP100004</td>\n",
       "      <td>0.134739</td>\n",
       "      <td>1.185358</td>\n",
       "      <td>-0.279920</td>\n",
       "      <td>0.085162</td>\n",
       "      <td>0.466965</td>\n",
       "      <td>-1.530547</td>\n",
       "      <td>0.398510</td>\n",
       "      <td>0.010144</td>\n",
       "      <td>-0.015847</td>\n",
       "      <td>-0.719794</td>\n",
       "    </tr>\n",
       "    <tr>\n",
       "      <th>1</th>\n",
       "      <td>HCP100206</td>\n",
       "      <td>-0.344595</td>\n",
       "      <td>1.283574</td>\n",
       "      <td>0.052662</td>\n",
       "      <td>1.436342</td>\n",
       "      <td>0.706008</td>\n",
       "      <td>-0.510366</td>\n",
       "      <td>1.975280</td>\n",
       "      <td>1.294323</td>\n",
       "      <td>-0.025888</td>\n",
       "      <td>-0.203825</td>\n",
       "    </tr>\n",
       "    <tr>\n",
       "      <th>2</th>\n",
       "      <td>HCP100307</td>\n",
       "      <td>-0.639736</td>\n",
       "      <td>0.522789</td>\n",
       "      <td>-0.952467</td>\n",
       "      <td>-0.713226</td>\n",
       "      <td>-0.559144</td>\n",
       "      <td>-0.140952</td>\n",
       "      <td>-0.703027</td>\n",
       "      <td>0.229112</td>\n",
       "      <td>0.097581</td>\n",
       "      <td>-0.444702</td>\n",
       "    </tr>\n",
       "    <tr>\n",
       "      <th>3</th>\n",
       "      <td>HCP100408</td>\n",
       "      <td>1.173656</td>\n",
       "      <td>0.092160</td>\n",
       "      <td>-0.521888</td>\n",
       "      <td>-0.034026</td>\n",
       "      <td>-0.109229</td>\n",
       "      <td>0.221359</td>\n",
       "      <td>-0.589268</td>\n",
       "      <td>0.357483</td>\n",
       "      <td>-0.039443</td>\n",
       "      <td>0.095913</td>\n",
       "    </tr>\n",
       "    <tr>\n",
       "      <th>4</th>\n",
       "      <td>HCP100610</td>\n",
       "      <td>0.891096</td>\n",
       "      <td>-0.361182</td>\n",
       "      <td>-0.881930</td>\n",
       "      <td>-0.386394</td>\n",
       "      <td>-0.575076</td>\n",
       "      <td>-0.197974</td>\n",
       "      <td>0.203063</td>\n",
       "      <td>0.618868</td>\n",
       "      <td>0.491618</td>\n",
       "      <td>1.343114</td>\n",
       "    </tr>\n",
       "  </tbody>\n",
       "</table>\n",
       "</div>"
      ],
      "text/plain": [
       "     Subject  Cluster_1  Cluster_2  Cluster_3  Cluster_4  Cluster_5  \\\n",
       "0  HCP100004   0.134739   1.185358  -0.279920   0.085162   0.466965   \n",
       "1  HCP100206  -0.344595   1.283574   0.052662   1.436342   0.706008   \n",
       "2  HCP100307  -0.639736   0.522789  -0.952467  -0.713226  -0.559144   \n",
       "3  HCP100408   1.173656   0.092160  -0.521888  -0.034026  -0.109229   \n",
       "4  HCP100610   0.891096  -0.361182  -0.881930  -0.386394  -0.575076   \n",
       "\n",
       "   Cluster_6  Cluster_7  Cluster_8  Cluster_9  Cluster_10  \n",
       "0  -1.530547   0.398510   0.010144  -0.015847   -0.719794  \n",
       "1  -0.510366   1.975280   1.294323  -0.025888   -0.203825  \n",
       "2  -0.140952  -0.703027   0.229112   0.097581   -0.444702  \n",
       "3   0.221359  -0.589268   0.357483  -0.039443    0.095913  \n",
       "4  -0.197974   0.203063   0.618868   0.491618    1.343114  "
      ]
     },
     "execution_count": 21,
     "metadata": {},
     "output_type": "execute_result"
    }
   ],
   "source": [
    "# set subject names with Prefix HCP\n",
    "all_pheno.rename(columns={'Unnamed: 0': 'Subject'},inplace=True)\n",
    "all_pheno['Subject'] = 'HCP'+ all_pheno['Subject'].astype(str)\n",
    "all_pheno.head()"
   ]
  },
  {
   "cell_type": "code",
   "execution_count": 22,
   "metadata": {},
   "outputs": [],
   "source": [
    "# Merge all pheno with subtype weights\n",
    "all_pheno_pruned = pd.merge(model_df[['Subject','sub1','sub2','sub3','sub4','sub5']],all_pheno,on='Subject',how='left')\n",
    "# Drop NaN\n",
    "all_pheno_pruned.dropna(inplace=True)"
   ]
  },
  {
   "cell_type": "code",
   "execution_count": 57,
   "metadata": {
    "scrolled": false
   },
   "outputs": [
    {
     "name": "stdout",
     "output_type": "stream",
     "text": [
      "y shape: (778,)\n",
      "x shape: (778, 10)\n"
     ]
    }
   ],
   "source": [
    "# Set data X Y\n",
    "data_X = all_pheno_pruned.drop(['Subject','sub1','sub2','sub3','sub4','sub5'],axis=1)\n",
    "x =data_X.values\n",
    "\n",
    "data_Y = all_pheno_pruned['sub4']\n",
    "y = data_Y.values\n",
    "\n",
    "# print shape\n",
    "print('y shape:',y.shape)\n",
    "print('x shape:',x.shape)"
   ]
  },
  {
   "cell_type": "code",
   "execution_count": null,
   "metadata": {},
   "outputs": [],
   "source": [
    "# Create estimated R-squared table to be used in R\n",
    "for trial_name in list_trial :\n",
    "    # build R2 table for radar plot\n",
    "    for ix, pheno_name in enumerate(list_pheno):\n",
    "        mat_file = os.path.join(path_association,pheno_name,'association_stats_{}.mat'.format(pheno_name))\n",
    "        %octave_push mat_file\n",
    "        %octave mat_load = load(mat_file);\n",
    "        %octave_pull mat_load\n",
    "        pheno_r2 = mat_load['glm_results'][trial_name]['rsquare']\n",
    "        if ix == 0:\n",
    "            pheno_r2_final = pd.Series(pheno_r2.tolist()[0])\n",
    "        else:\n",
    "            pheno_r2_final =pd.concat([pheno_r2_final,pd.Series(pheno_r2.tolist()[0])],axis=1)\n",
    "            \n",
    "    pheno_r2_final.columns = list_pheno\n",
    "    pheno_r2_final.index = list_subtype\n",
    "    pheno_r2_final = pd.DataFrame(pheno_r2_final)\n",
    "    pheno_r2_final.to_csv(os.path.join(path_root,'{}_r2.csv'.format(trial_name)))"
   ]
  },
  {
   "cell_type": "code",
   "execution_count": 58,
   "metadata": {},
   "outputs": [],
   "source": [
    "# Rfr prediction and future importance\n",
    "feimp, scores,std = RandomForest_apply(x,y)"
   ]
  },
  {
   "cell_type": "code",
   "execution_count": 59,
   "metadata": {},
   "outputs": [],
   "source": [
    "# Threshold future importance\n",
    "feimp_thresh =0 # Percentile of future to be removed\n",
    "mean_feimp = np.mean(feimp, axis=0)*100\n",
    "mean_std = np.mean(std, axis=0)*100\n",
    "feature_importances = pd.Series(mean_feimp,index= data_X.columns)\n",
    "feature_importances_select = feature_importances[feature_importances >= np.percentile(mean_feimp,feimp_thresh)]\n",
    "std_select = mean_std[feature_importances >= np.percentile(mean_feimp,feimp_thresh)]\n",
    "indices = np.argsort(mean_feimp[feature_importances >= np.percentile(mean_feimp,feimp_thresh)])[::-1]"
   ]
  },
  {
   "cell_type": "code",
   "execution_count": 60,
   "metadata": {
    "scrolled": false
   },
   "outputs": [
    {
     "data": {
      "text/plain": [
       "<matplotlib.axes._subplots.AxesSubplot at 0x7f7fdd4ba9b0>"
      ]
     },
     "execution_count": 60,
     "metadata": {},
     "output_type": "execute_result"
    },
    {
     "data": {
      "image/png": "[encoded data removed]",
      "text/plain": [
       "<matplotlib.figure.Figure at 0x7f7fdd4f79b0>"
      ]
     },
     "metadata": {},
     "output_type": "display_data"
    }
   ],
   "source": [
    "# Plot Future importance\n",
    "feature_importances_select[indices].plot(kind='bar',yerr=std_select[indices],figsize=(15,6),title='Future importace')"
   ]
  },
  {
   "cell_type": "code",
   "execution_count": 61,
   "metadata": {},
   "outputs": [
    {
     "data": {
      "text/plain": [
       "(10,)"
      ]
     },
     "execution_count": 61,
     "metadata": {},
     "output_type": "execute_result"
    }
   ],
   "source": [
    "feature_importances_select.shape"
   ]
  },
  {
   "cell_type": "code",
   "execution_count": 50,
   "metadata": {},
   "outputs": [
    {
     "ename": "TypeError",
     "evalue": "expected x and y to have same length",
     "output_type": "error",
     "traceback": [
      "\u001b[0;31m---------------------------------------------------------------------------\u001b[0m",
      "\u001b[0;31mTypeError\u001b[0m                                 Traceback (most recent call last)",
      "\u001b[0;32m<ipython-input-50-82a428765aaa>\u001b[0m in \u001b[0;36m<module>\u001b[0;34m()\u001b[0m\n\u001b[1;32m     11\u001b[0m \u001b[0;34m\u001b[0m\u001b[0m\n\u001b[1;32m     12\u001b[0m \u001b[0;34m\u001b[0m\u001b[0m\n\u001b[0;32m---> 13\u001b[0;31m \u001b[0mfit_b\u001b[0m \u001b[0;34m=\u001b[0m \u001b[0mnp\u001b[0m\u001b[0;34m.\u001b[0m\u001b[0mpolyfit\u001b[0m\u001b[0;34m(\u001b[0m\u001b[0mx_\u001b[0m\u001b[0;34m,\u001b[0m \u001b[0mpred\u001b[0m\u001b[0;34m,\u001b[0m \u001b[0mdeg\u001b[0m\u001b[0;34m=\u001b[0m\u001b[0;36m1\u001b[0m\u001b[0;34m)\u001b[0m\u001b[0;34m\u001b[0m\u001b[0m\n\u001b[0m\u001b[1;32m     14\u001b[0m \u001b[0mplt\u001b[0m\u001b[0;34m.\u001b[0m\u001b[0mplot\u001b[0m\u001b[0;34m(\u001b[0m\u001b[0mx_\u001b[0m\u001b[0;34m,\u001b[0m \u001b[0mfit_b\u001b[0m\u001b[0;34m[\u001b[0m\u001b[0;36m0\u001b[0m\u001b[0;34m]\u001b[0m \u001b[0;34m*\u001b[0m \u001b[0mx_\u001b[0m \u001b[0;34m+\u001b[0m \u001b[0mfit_b\u001b[0m\u001b[0;34m[\u001b[0m\u001b[0;36m1\u001b[0m\u001b[0;34m]\u001b[0m\u001b[0;34m,\u001b[0m \u001b[0mcolor\u001b[0m\u001b[0;34m=\u001b[0m\u001b[0;34m'g'\u001b[0m\u001b[0;34m,\u001b[0m\u001b[0malpha\u001b[0m\u001b[0;34m=\u001b[0m\u001b[0ma\u001b[0m\u001b[0;34m)\u001b[0m\u001b[0;34m\u001b[0m\u001b[0m\n\u001b[1;32m     15\u001b[0m plt.scatter(x_, pred, edgecolor='k',\n",
      "\u001b[0;32m/usr/local/lib/python3.4/dist-packages/numpy/lib/polynomial.py\u001b[0m in \u001b[0;36mpolyfit\u001b[0;34m(x, y, deg, rcond, full, w, cov)\u001b[0m\n\u001b[1;32m    557\u001b[0m         \u001b[0;32mraise\u001b[0m \u001b[0mTypeError\u001b[0m\u001b[0;34m(\u001b[0m\u001b[0;34m\"expected 1D or 2D array for y\"\u001b[0m\u001b[0;34m)\u001b[0m\u001b[0;34m\u001b[0m\u001b[0m\n\u001b[1;32m    558\u001b[0m     \u001b[0;32mif\u001b[0m \u001b[0mx\u001b[0m\u001b[0;34m.\u001b[0m\u001b[0mshape\u001b[0m\u001b[0;34m[\u001b[0m\u001b[0;36m0\u001b[0m\u001b[0;34m]\u001b[0m \u001b[0;34m!=\u001b[0m \u001b[0my\u001b[0m\u001b[0;34m.\u001b[0m\u001b[0mshape\u001b[0m\u001b[0;34m[\u001b[0m\u001b[0;36m0\u001b[0m\u001b[0;34m]\u001b[0m\u001b[0;34m:\u001b[0m\u001b[0;34m\u001b[0m\u001b[0m\n\u001b[0;32m--> 559\u001b[0;31m         \u001b[0;32mraise\u001b[0m \u001b[0mTypeError\u001b[0m\u001b[0;34m(\u001b[0m\u001b[0;34m\"expected x and y to have same length\"\u001b[0m\u001b[0;34m)\u001b[0m\u001b[0;34m\u001b[0m\u001b[0m\n\u001b[0m\u001b[1;32m    560\u001b[0m \u001b[0;34m\u001b[0m\u001b[0m\n\u001b[1;32m    561\u001b[0m     \u001b[0;31m# set rcond\u001b[0m\u001b[0;34m\u001b[0m\u001b[0;34m\u001b[0m\u001b[0m\n",
      "\u001b[0;31mTypeError\u001b[0m: expected x and y to have same length"
     ]
    },
    {
     "data": {
      "image/png": "[encoded data removed]",
      "text/plain": [
       "<matplotlib.figure.Figure at 0x7fb2e7951358>"
      ]
     },
     "metadata": {},
     "output_type": "display_data"
    }
   ],
   "source": [
    "plt.figure()\n",
    "s = 100\n",
    "a = 0.4\n",
    "x_ = x_test[:,np.argsort(mean_feimp)[::-1][0]]\n",
    "\n",
    "\n",
    "fit_a = np.polyfit(x_, y_test, deg=1)\n",
    "plt.plot(x_, fit_a[0] * x_ + fit_a[1], color='navy',alpha=a)\n",
    "plt.scatter(x_, y_test, edgecolor='k',\n",
    "            c=\"navy\", s=s, marker=\"s\", alpha=a, label=\"Test Data\")\n",
    "\n",
    "\n",
    "fit_b = np.polyfit(x_, pred, deg=1)\n",
    "plt.plot(x_, fit_b[0] * x_ + fit_b[1], color='g',alpha=a)\n",
    "plt.scatter(x_, pred, edgecolor='k',\n",
    "            c=\"g\", s=s, marker=\"^\", alpha=a,\n",
    "            label=\"RF score=%.4f\" % rfr.score(x_test, y_test))\n",
    "\n",
    "\n",
    "plt.xlabel(\"X-Test\")\n",
    "plt.ylabel(\"Y-Pred\")\n",
    "plt.title(\"Comparing test data and predicted dat and the multi-output meta estimator\")\n",
    "plt.legend()\n",
    "plt.show()"
   ]
  },
  {
   "cell_type": "code",
   "execution_count": 51,
   "metadata": {},
   "outputs": [
    {
     "data": {
      "text/plain": [
       "(9,)"
      ]
     },
     "execution_count": 51,
     "metadata": {},
     "output_type": "execute_result"
    }
   ],
   "source": [
    "std_select[indices].shape"
   ]
  },
  {
   "cell_type": "code",
   "execution_count": 52,
   "metadata": {},
   "outputs": [
    {
     "data": {
      "text/plain": [
       "array([ 4.84548658,  3.24477423,  2.86720442,  2.73040351,  2.86441353,\n",
       "        2.99368809,  2.3489003 ,  3.37855537,  2.87140772])"
      ]
     },
     "execution_count": 52,
     "metadata": {},
     "output_type": "execute_result"
    }
   ],
   "source": [
    "std_select[indices]"
   ]
  },
  {
   "cell_type": "code",
   "execution_count": 53,
   "metadata": {},
   "outputs": [
    {
     "data": {
      "text/plain": [
       "[<matplotlib.lines.Line2D at 0x7fb2e7a6b198>]"
      ]
     },
     "execution_count": 53,
     "metadata": {},
     "output_type": "execute_result"
    },
    {
     "data": {
      "image/png": "[encoded data removed]",
      "text/plain": [
       "<matplotlib.figure.Figure at 0x7fb2e78b7470>"
      ]
     },
     "metadata": {},
     "output_type": "display_data"
    }
   ],
   "source": [
    "plt.plot(feature_importances_select,std_select[indices])"
   ]
  },
  {
   "cell_type": "code",
   "execution_count": 55,
   "metadata": {},
   "outputs": [
    {
     "data": {
      "image/png": "[encoded data removed]",
      "text/plain": [
       "<matplotlib.figure.Figure at 0x7fb2e77970b8>"
      ]
     },
     "metadata": {},
     "output_type": "display_data"
    }
   ],
   "source": [
    "grid = sns.jointplot( y=\"sub5\", x=\"Cluster_9\", data=all_pheno_pruned,kind='reg');\n",
    "grid.fig.set_figwidth(15)\n",
    "grid.fig.set_figheight(4)"
   ]
  },
  {
   "cell_type": "code",
   "execution_count": 152,
   "metadata": {
    "collapsed": true
   },
   "outputs": [],
   "source": [
    "rng = np.random.RandomState(1)\n",
    "X = np.sort(200 * rng.rand(600, 1) - 100, axis=0)\n",
    "y = np.array([np.pi * np.sin(X).ravel(), np.pi * np.cos(X).ravel()]).T\n",
    "y += (0.5 - rng.rand(*y.shape))\n"
   ]
  },
  {
   "cell_type": "code",
   "execution_count": 186,
   "metadata": {},
   "outputs": [
    {
     "data": {
      "text/plain": [
       "array([12, 47, 15, 45, 13, 11,  4, 43, 14, 20, 22, 30,  1,  2,  3,  6, 16,\n",
       "        0, 26, 36,  8, 17, 44, 24, 31, 40, 48, 10, 32, 34, 49, 50,  7, 27,\n",
       "       41, 39, 33, 29,  5, 46, 65,  9, 42, 25, 38, 28, 18, 23, 19, 21, 35,\n",
       "       55, 37, 60, 58, 59, 57, 62, 56, 52, 53, 63, 64, 54, 66, 61, 51])"
      ]
     },
     "execution_count": 186,
     "metadata": {},
     "output_type": "execute_result"
    }
   ],
   "source": [
    "np.argsort(mean_feimp)[::-1]"
   ]
  },
  {
   "cell_type": "code",
   "execution_count": null,
   "metadata": {
    "collapsed": true
   },
   "outputs": [],
   "source": []
  },
  {
   "cell_type": "code",
   "execution_count": null,
   "metadata": {
    "collapsed": true
   },
   "outputs": [],
   "source": []
  },
  {
   "cell_type": "code",
   "execution_count": null,
   "metadata": {
    "collapsed": true
   },
   "outputs": [],
   "source": []
  },
  {
   "cell_type": "code",
   "execution_count": null,
   "metadata": {
    "collapsed": true
   },
   "outputs": [],
   "source": []
  },
  {
   "cell_type": "code",
   "execution_count": 24,
   "metadata": {},
   "outputs": [
    {
     "data": {
      "text/plain": [
       "LinearRegression(copy_X=True, fit_intercept=True, n_jobs=1, normalize=False)"
      ]
     },
     "execution_count": 24,
     "metadata": {},
     "output_type": "execute_result"
    }
   ],
   "source": [
    "log = LinearRegression()\n",
    "log.fit(x,y)"
   ]
  },
  {
   "cell_type": "code",
   "execution_count": 25,
   "metadata": {},
   "outputs": [],
   "source": [
    "predRfr = rfr.predict(x_test)\n",
    "predLog = log.predict(x_test)"
   ]
  },
  {
   "cell_type": "code",
   "execution_count": 149,
   "metadata": {},
   "outputs": [
    {
     "data": {
      "image/png": "[encoded data removed]",
      "text/plain": [
       "<matplotlib.figure.Figure at 0x7f4688d97c88>"
      ]
     },
     "metadata": {},
     "output_type": "display_data"
    }
   ],
   "source": [
    "plt.plot(y_test, x_test[:,np.argsort(mean_feimp)[::-1][0]],'ro', label='True data')\n",
    "plt.plot(y_test, predRfr, 'co', label='RFR')\n",
    "plt.plot(y_test, predLog, 'mo', label='LogReg')\n",
    "plt.legend()\n",
    "plt.show()plt.plot(y_test, x_test[:,np.argsort(mean_feimp)[::-1][0]],'ro', label='True data')\n",
    "plt.plot(y_test, predRfr, 'co', label='RFR')\n",
    "plt.plot(y_test, predLog, 'mo', label='LogReg')\n",
    "plt.legend()\n",
    "plt.show()"
   ]
  },
  {
   "cell_type": "code",
   "execution_count": 76,
   "metadata": {},
   "outputs": [],
   "source": [
    "scl = preprocessing.StandardScaler()\n",
    "y = scl.fit_transform(y.reshape(-1, 1))[:,0]\n",
    "#x = scl.fit_transform(x)"
   ]
  },
  {
   "cell_type": "code",
   "execution_count": 126,
   "metadata": {
    "scrolled": true
   },
   "outputs": [
    {
     "name": "stdout",
     "output_type": "stream",
     "text": [
      "0.0643228755385\n",
      "0.038372600127\n",
      "0.0508334175103\n",
      "Average R2:  0.0511762977253\n"
     ]
    }
   ],
   "source": [
    "# init CV\n",
    "scores = []\n",
    "skf = KFold(n_splits=3)\n",
    "for train_index, test_index in skf.split(x):\n",
    "    #print(\"TRAIN:\", train_index, \"TEST:\", test_index)\n",
    "    x_train, x_test = x[train_index], x[test_index]\n",
    "    y_train, y_test = y[train_index], y[test_index]\n",
    "    \n",
    "    # train model\n",
    "    clf = SVR(kernel='linear', C=1e3)\n",
    "    #clf = SVR(kernel='rbf', C=1e1, gamma=0.1)\n",
    "    \n",
    "    # grid search cv\n",
    "    #clf = GridSearchCV(clf, cv=10,param_grid={\"C\": [1e0, 1e1, 1e2, 1e3],\"gamma\": np.logspace(-2, 2, 5)},n_jobs=6)\n",
    "\n",
    "    clf.fit(x_train, y_train)\n",
    "    #sv_ratio = clf.best_estimator_.support_.shape[0] / (1.*len(y_train))\n",
    "    #print(\"Support vector ratio: %.3f\" % sv_ratio)\n",
    "    \n",
    "    # test\n",
    "    scores.append(clf.score(x_test,y_test))\n",
    "    #print(scl.inverse_transform(clf.predict(x_test)))\n",
    "    print(scores[-1])\n",
    "    \n",
    "print('Average R2: ', np.mean(scores))\n"
   ]
  },
  {
   "cell_type": "code",
   "execution_count": 156,
   "metadata": {},
   "outputs": [
    {
     "ename": "ValueError",
     "evalue": "Found input variables with inconsistent numbers of samples: [782, 506]",
     "output_type": "error",
     "traceback": [
      "\u001b[0;31m---------------------------------------------------------------------------\u001b[0m",
      "\u001b[0;31mValueError\u001b[0m                                Traceback (most recent call last)",
      "\u001b[0;32m<ipython-input-156-17944a325987>\u001b[0m in \u001b[0;36m<module>\u001b[0;34m()\u001b[0m\n\u001b[1;32m      5\u001b[0m \u001b[0;31m# grid search cv\u001b[0m\u001b[0;34m\u001b[0m\u001b[0;34m\u001b[0m\u001b[0m\n\u001b[1;32m      6\u001b[0m \u001b[0;31m#clf = GridSearchCV(clf, cv=10,param_grid={\"C\": [1e0, 1e1, 1e2, 1e3],\"gamma\": np.logspace(-2, 2, 5)},n_jobs=6)\u001b[0m\u001b[0;34m\u001b[0m\u001b[0;34m\u001b[0m\u001b[0m\n\u001b[0;32m----> 7\u001b[0;31m \u001b[0mlog\u001b[0m\u001b[0;34m.\u001b[0m\u001b[0mfit\u001b[0m\u001b[0;34m(\u001b[0m\u001b[0mx\u001b[0m\u001b[0;34m,\u001b[0m\u001b[0my\u001b[0m\u001b[0;34m)\u001b[0m\u001b[0;34m\u001b[0m\u001b[0m\n\u001b[0m\u001b[1;32m      8\u001b[0m \u001b[0mclf\u001b[0m\u001b[0;34m.\u001b[0m\u001b[0mfit\u001b[0m\u001b[0;34m(\u001b[0m\u001b[0mx\u001b[0m\u001b[0;34m,\u001b[0m\u001b[0my\u001b[0m\u001b[0;34m)\u001b[0m\u001b[0;34m\u001b[0m\u001b[0m\n",
      "\u001b[0;32m/usr/local/lib/python3.4/dist-packages/sklearn/linear_model/base.py\u001b[0m in \u001b[0;36mfit\u001b[0;34m(self, X, y, sample_weight)\u001b[0m\n\u001b[1;32m    510\u001b[0m         \u001b[0mn_jobs_\u001b[0m \u001b[0;34m=\u001b[0m \u001b[0mself\u001b[0m\u001b[0;34m.\u001b[0m\u001b[0mn_jobs\u001b[0m\u001b[0;34m\u001b[0m\u001b[0m\n\u001b[1;32m    511\u001b[0m         X, y = check_X_y(X, y, accept_sparse=['csr', 'csc', 'coo'],\n\u001b[0;32m--> 512\u001b[0;31m                          y_numeric=True, multi_output=True)\n\u001b[0m\u001b[1;32m    513\u001b[0m \u001b[0;34m\u001b[0m\u001b[0m\n\u001b[1;32m    514\u001b[0m         \u001b[0;32mif\u001b[0m \u001b[0msample_weight\u001b[0m \u001b[0;32mis\u001b[0m \u001b[0;32mnot\u001b[0m \u001b[0;32mNone\u001b[0m \u001b[0;32mand\u001b[0m \u001b[0mnp\u001b[0m\u001b[0;34m.\u001b[0m\u001b[0matleast_1d\u001b[0m\u001b[0;34m(\u001b[0m\u001b[0msample_weight\u001b[0m\u001b[0;34m)\u001b[0m\u001b[0;34m.\u001b[0m\u001b[0mndim\u001b[0m \u001b[0;34m>\u001b[0m \u001b[0;36m1\u001b[0m\u001b[0;34m:\u001b[0m\u001b[0;34m\u001b[0m\u001b[0m\n",
      "\u001b[0;32m/usr/local/lib/python3.4/dist-packages/sklearn/utils/validation.py\u001b[0m in \u001b[0;36mcheck_X_y\u001b[0;34m(X, y, accept_sparse, dtype, order, copy, force_all_finite, ensure_2d, allow_nd, multi_output, ensure_min_samples, ensure_min_features, y_numeric, warn_on_dtype, estimator)\u001b[0m\n\u001b[1;32m    529\u001b[0m         \u001b[0my\u001b[0m \u001b[0;34m=\u001b[0m \u001b[0my\u001b[0m\u001b[0;34m.\u001b[0m\u001b[0mastype\u001b[0m\u001b[0;34m(\u001b[0m\u001b[0mnp\u001b[0m\u001b[0;34m.\u001b[0m\u001b[0mfloat64\u001b[0m\u001b[0;34m)\u001b[0m\u001b[0;34m\u001b[0m\u001b[0m\n\u001b[1;32m    530\u001b[0m \u001b[0;34m\u001b[0m\u001b[0m\n\u001b[0;32m--> 531\u001b[0;31m     \u001b[0mcheck_consistent_length\u001b[0m\u001b[0;34m(\u001b[0m\u001b[0mX\u001b[0m\u001b[0;34m,\u001b[0m \u001b[0my\u001b[0m\u001b[0;34m)\u001b[0m\u001b[0;34m\u001b[0m\u001b[0m\n\u001b[0m\u001b[1;32m    532\u001b[0m \u001b[0;34m\u001b[0m\u001b[0m\n\u001b[1;32m    533\u001b[0m     \u001b[0;32mreturn\u001b[0m \u001b[0mX\u001b[0m\u001b[0;34m,\u001b[0m \u001b[0my\u001b[0m\u001b[0;34m\u001b[0m\u001b[0m\n",
      "\u001b[0;32m/usr/local/lib/python3.4/dist-packages/sklearn/utils/validation.py\u001b[0m in \u001b[0;36mcheck_consistent_length\u001b[0;34m(*arrays)\u001b[0m\n\u001b[1;32m    179\u001b[0m     \u001b[0;32mif\u001b[0m \u001b[0mlen\u001b[0m\u001b[0;34m(\u001b[0m\u001b[0muniques\u001b[0m\u001b[0;34m)\u001b[0m \u001b[0;34m>\u001b[0m \u001b[0;36m1\u001b[0m\u001b[0;34m:\u001b[0m\u001b[0;34m\u001b[0m\u001b[0m\n\u001b[1;32m    180\u001b[0m         raise ValueError(\"Found input variables with inconsistent numbers of\"\n\u001b[0;32m--> 181\u001b[0;31m                          \" samples: %r\" % [int(l) for l in lengths])\n\u001b[0m\u001b[1;32m    182\u001b[0m \u001b[0;34m\u001b[0m\u001b[0m\n\u001b[1;32m    183\u001b[0m \u001b[0;34m\u001b[0m\u001b[0m\n",
      "\u001b[0;31mValueError\u001b[0m: Found input variables with inconsistent numbers of samples: [782, 506]"
     ]
    }
   ],
   "source": [
    "# train model\n",
    "#clf = SVR(kernel='rbf', C=1.0, epsilon=0.2, gamma=.0001)\n",
    "clf = SVR(kernel='rbf', C=1e1, gamma=0.1)\n",
    "log = LinearRegression()\n",
    "# grid search cv\n",
    "#clf = GridSearchCV(clf, cv=10,param_grid={\"C\": [1e0, 1e1, 1e2, 1e3],\"gamma\": np.logspace(-2, 2, 5)},n_jobs=6)\n",
    "log.fit(x,y)\n",
    "clf.fit(x,y)"
   ]
  },
  {
   "cell_type": "code",
   "execution_count": 131,
   "metadata": {},
   "outputs": [],
   "source": [
    "predSvr = clf.predict(x_test)\n",
    "predLog = log.predict(x_test)"
   ]
  },
  {
   "cell_type": "code",
   "execution_count": 132,
   "metadata": {},
   "outputs": [
    {
     "data": {
      "image/png": "[encoded data removed]",
      "text/plain": [
       "<matplotlib.figure.Figure at 0x7fb2a613d438>"
      ]
     },
     "metadata": {},
     "output_type": "display_data"
    }
   ],
   "source": [
    "plt.plot(y_test, y_test, label='true data')\n",
    "plt.plot(y_test, predSvr, 'co', label='SVR')\n",
    "plt.plot(y_test, predLog, 'mo', label='LogReg')\n",
    "plt.legend()\n",
    "plt.show()"
   ]
  },
  {
   "cell_type": "code",
   "execution_count": 71,
   "metadata": {},
   "outputs": [
    {
     "ename": "NameError",
     "evalue": "name 'testY' is not defined",
     "output_type": "error",
     "traceback": [
      "\u001b[0;31m---------------------------------------------------------------------------\u001b[0m",
      "\u001b[0;31mNameError\u001b[0m                                 Traceback (most recent call last)",
      "\u001b[0;32m<ipython-input-71-8b2500942d65>\u001b[0m in \u001b[0;36m<module>\u001b[0;34m()\u001b[0m\n\u001b[0;32m----> 1\u001b[0;31m \u001b[0mplt\u001b[0m\u001b[0;34m.\u001b[0m\u001b[0mplot\u001b[0m\u001b[0;34m(\u001b[0m\u001b[0mtestY\u001b[0m\u001b[0;34m,\u001b[0m \u001b[0mpredLog\u001b[0m\u001b[0;34m,\u001b[0m \u001b[0;34m'mo'\u001b[0m\u001b[0;34m,\u001b[0m \u001b[0mlabel\u001b[0m\u001b[0;34m=\u001b[0m\u001b[0;34m'LogReg'\u001b[0m\u001b[0;34m)\u001b[0m\u001b[0;34m\u001b[0m\u001b[0m\n\u001b[0m\u001b[1;32m      2\u001b[0m \u001b[0mplt\u001b[0m\u001b[0;34m.\u001b[0m\u001b[0mlegend\u001b[0m\u001b[0;34m(\u001b[0m\u001b[0;34m)\u001b[0m\u001b[0;34m\u001b[0m\u001b[0m\n\u001b[1;32m      3\u001b[0m \u001b[0mplt\u001b[0m\u001b[0;34m.\u001b[0m\u001b[0mshow\u001b[0m\u001b[0;34m(\u001b[0m\u001b[0;34m)\u001b[0m\u001b[0;34m\u001b[0m\u001b[0m\n",
      "\u001b[0;31mNameError\u001b[0m: name 'testY' is not defined"
     ]
    }
   ],
   "source": [
    "plt.plot(testY, predLog, 'mo', label='LogReg')\n",
    "plt.legend()\n",
    "plt.show()"
   ]
  },
  {
   "cell_type": "code",
   "execution_count": null,
   "metadata": {
    "collapsed": true
   },
   "outputs": [],
   "source": []
  },
  {
   "cell_type": "code",
   "execution_count": 50,
   "metadata": {},
   "outputs": [],
   "source": [
    "clf = SVR(kernel='rbf', C=1e1, gamma=0.1)\n",
    "r = clf.fit(b, y_train)"
   ]
  },
  {
   "cell_type": "code",
   "execution_count": 53,
   "metadata": {},
   "outputs": [
    {
     "name": "stdout",
     "output_type": "stream",
     "text": [
      "SVR(C=10.0, cache_size=200, coef0=0.0, degree=3, epsilon=0.1, gamma=0.1,\n",
      "  kernel='rbf', max_iter=-1, shrinking=True, tol=0.001, verbose=False)\n"
     ]
    }
   ],
   "source": [
    "print(r)"
   ]
  },
  {
   "cell_type": "code",
   "execution_count": 47,
   "metadata": {},
   "outputs": [],
   "source": [
    "b = np.concatenate((np.ones(x_train.shape + (1,)), x_train[..., None]),1)"
   ]
  },
  {
   "cell_type": "code",
   "execution_count": 54,
   "metadata": {},
   "outputs": [
    {
     "data": {
      "text/plain": [
       "array([[ 1.        , -0.30849142],\n",
       "       [ 1.        , -0.02320696],\n",
       "       [ 1.        ,  0.08609446],\n",
       "       ..., \n",
       "       [ 1.        ,  0.0869828 ],\n",
       "       [ 1.        , -0.06180076],\n",
       "       [ 1.        ,  0.03654179]])"
      ]
     },
     "execution_count": 54,
     "metadata": {},
     "output_type": "execute_result"
    }
   ],
   "source": [
    "b"
   ]
  },
  {
   "cell_type": "code",
   "execution_count": 48,
   "metadata": {},
   "outputs": [
    {
     "data": {
      "text/plain": [
       "(521, 2)"
      ]
     },
     "execution_count": 48,
     "metadata": {},
     "output_type": "execute_result"
    }
   ],
   "source": [
    "b.shape"
   ]
  },
  {
   "cell_type": "code",
   "execution_count": 35,
   "metadata": {},
   "outputs": [
    {
     "data": {
      "text/plain": [
       "(521,)"
      ]
     },
     "execution_count": 35,
     "metadata": {},
     "output_type": "execute_result"
    }
   ],
   "source": [
    "x_train.shape"
   ]
  },
  {
   "cell_type": "code",
   "execution_count": 36,
   "metadata": {},
   "outputs": [
    {
     "data": {
      "text/plain": [
       "(521,)"
      ]
     },
     "execution_count": 36,
     "metadata": {},
     "output_type": "execute_result"
    }
   ],
   "source": [
    "y_train.shape"
   ]
  },
  {
   "cell_type": "code",
   "execution_count": 43,
   "metadata": {
    "collapsed": true
   },
   "outputs": [
    {
     "data": {
      "text/plain": [
       "array([  7.19714152e-01,  -6.16568569e-01,   7.51768143e-01,\n",
       "        -2.56341148e-01,  -2.08548321e-01,   1.65869777e+00,\n",
       "        -1.07640005e+00,  -7.56461032e-01,   1.39542587e+00,\n",
       "        -1.22367986e+00,   2.70661413e+00,   1.62839525e+00,\n",
       "        -1.33460468e+00,  -6.48535360e-01,  -3.56882679e-01,\n",
       "        -3.44448382e-01,  -7.45097222e-01,   1.42174704e+00,\n",
       "        -2.22163437e-01,  -9.20499026e-01,  -1.24371487e-01,\n",
       "         1.16767668e+00,   1.06133380e+00,  -1.02564102e+00,\n",
       "        -1.18123405e+00,  -4.89680258e-01,   2.24736959e-01,\n",
       "        -8.24886981e-01,   1.15202306e+00,  -5.01649091e-01,\n",
       "        -1.55980532e+00,  -9.39876426e-03,  -1.13018284e+00,\n",
       "        -7.59630933e-01,   1.67678220e+00,  -9.78152128e-01,\n",
       "         1.64552427e+00,   4.88957728e-02,  -5.34707072e-01,\n",
       "         1.05340894e+00,  -1.29770426e+00,  -1.43982040e+00,\n",
       "        -1.38773599e+00,   7.50200078e-01,  -3.53643982e-01,\n",
       "         1.19984200e+00,   2.91774550e+00,  -2.99774797e-01,\n",
       "         7.62898879e-01,   1.25568884e+00,  -8.46525361e-01,\n",
       "        -1.47924273e+00,  -6.56088592e-01,  -1.18979493e+00,\n",
       "        -1.10961899e+00,  -1.25555831e-01,  -9.94206056e-01,\n",
       "         3.97441532e-01,   2.50989960e-02,  -7.91314386e-01,\n",
       "        -6.98969241e-02,  -8.13824040e-02,   4.20342536e-01,\n",
       "        -5.72074558e-01,   3.40474717e-02,   2.12231045e-02,\n",
       "        -6.37422913e-01,  -1.02349403e+00,  -2.26353749e-01,\n",
       "        -9.02637617e-01,  -7.57461218e-01,  -7.24621857e-01,\n",
       "         7.04077474e-01,   4.33593836e-01,  -4.88257657e-01,\n",
       "         3.25173110e-01,   2.14073317e+00,  -4.03033037e-01,\n",
       "        -3.92442395e-01,  -1.53784363e+00,   2.60868350e-03,\n",
       "        -1.51564725e+00,  -9.27223475e-01,  -6.79954057e-01,\n",
       "        -1.81591406e-01,   3.68241550e-01,   2.60658383e-01,\n",
       "        -9.03010202e-01,   2.46257528e-01,  -6.72210415e-01,\n",
       "         1.26816484e-01,  -1.07231188e+00,  -5.05580825e-01,\n",
       "        -9.67003019e-01,   5.09024890e-01,   1.98742610e+00,\n",
       "         3.58526518e-01,  -1.29107335e+00,  -3.44698895e-01,\n",
       "        -7.52509708e-02,   6.63038736e-01,   2.53044533e-01,\n",
       "         2.81207832e+00,   1.74872410e+00,   9.45504485e-01,\n",
       "         4.39797396e-01,  -5.78848450e-01,  -5.89102517e-01,\n",
       "         4.20057688e-01,  -4.40787258e-01,   3.57797200e-01,\n",
       "         1.30020151e+00,  -3.85873055e-01,   1.24455283e+00,\n",
       "         1.96888791e-01,  -4.07499783e-01,   2.60879981e+00,\n",
       "        -1.09276785e+00,  -1.10158139e+00,  -4.54349767e-01,\n",
       "        -4.47342504e-01,  -5.25543009e-01,  -8.34290978e-01,\n",
       "         3.17400919e-01,  -2.15248201e-01,  -1.29606096e+00,\n",
       "        -1.44805360e-01,   6.72909005e-01,   1.15547349e+00,\n",
       "        -3.88554565e-01,  -1.02077461e+00,   1.47873172e+00,\n",
       "        -9.20607089e-01,   8.41721380e-01,  -2.99670903e-01,\n",
       "         7.58484032e-01,  -5.82046829e-02,  -8.92139019e-01,\n",
       "        -6.18926761e-01,   1.19178569e+00,   6.52289408e-01,\n",
       "        -1.19671644e+00,   1.35885054e+00,   3.66280943e-01,\n",
       "        -5.71782707e-01,   8.84074132e-01,   7.90241321e-01,\n",
       "        -1.15246891e+00,   2.39400511e-01,  -1.36389999e+00,\n",
       "        -7.56797005e-01,   3.68424916e-01,  -1.09381957e+00,\n",
       "        -8.95094491e-02,  -1.69228610e-01,  -2.01217130e-01,\n",
       "         1.46168562e+00,   1.28961322e+00,  -5.58943605e-01,\n",
       "        -1.40604897e+00,   7.18885253e-01,   2.98994979e-01,\n",
       "         8.89666021e-01,   9.99326897e-01,  -9.69506040e-01,\n",
       "         1.50567674e+00,   1.63951761e-01,   6.45897112e-01,\n",
       "        -4.46865492e-01,  -5.47437730e-01,  -1.60044724e+00,\n",
       "         4.59574327e-01,   2.79766646e-01,  -1.27242533e+00,\n",
       "         1.10671871e+00,  -1.36201387e+00,  -8.42824066e-01,\n",
       "        -7.60290147e-01,   1.39705936e+00,   6.00449389e-02,\n",
       "        -9.48488901e-01,   7.04932976e-02,  -6.03195168e-01,\n",
       "        -1.10664539e+00,  -3.60606348e-01,  -1.56388043e+00,\n",
       "        -1.63501337e-01,  -7.36765236e-01,  -3.84080285e-02,\n",
       "        -7.91982838e-01,   2.64471064e-01,   1.41907204e+00,\n",
       "        -1.65721605e-01,   1.54982882e+00,   8.19331392e-01,\n",
       "         2.44277813e+00,  -3.23211658e-01,   6.25951746e-01,\n",
       "         4.20226273e-01,   3.38050349e-01,   4.84614992e-01,\n",
       "        -4.94007602e-02,  -4.06531521e-01,   2.16206040e-01,\n",
       "         8.15481303e-01,   4.85585063e-01,  -4.18829015e-01,\n",
       "        -1.29738547e+00,   2.53761736e+00,   2.40028518e+00,\n",
       "        -3.42335716e-01,   1.14054513e+00,  -3.25853737e-01,\n",
       "         4.17807530e-01,  -6.89585211e-01,  -1.35508468e+00,\n",
       "         2.19217688e-01,   2.35374735e+00,  -9.26266300e-01,\n",
       "        -1.50853304e+00,   7.24292461e-01,   9.04551325e-01,\n",
       "         1.05973035e+00,   4.28039900e-01,  -3.41218143e-01,\n",
       "         8.95031151e-01,  -1.54298455e-01,   1.73155287e+00,\n",
       "        -1.18972755e+00,   7.93213012e-02,   7.48304757e-01,\n",
       "        -5.85542201e-03,  -6.96858570e-01,   1.81358939e+00,\n",
       "        -8.41933841e-01,   2.16423936e+00,  -1.30803253e+00,\n",
       "         4.76621332e-01,  -3.50069940e-01,   1.74919056e+00,\n",
       "         4.60866986e-01,  -1.40161530e+00,  -5.70783979e-01,\n",
       "         2.29238358e-01,  -7.82174938e-01,   1.95984013e-01,\n",
       "        -5.32801441e-01,  -1.42066176e+00,   6.17007154e-01,\n",
       "         5.48656871e-01,  -1.36049955e+00,   5.64582808e-02,\n",
       "        -4.63098119e-01,  -9.05816612e-01,   6.19589247e-01,\n",
       "         2.91459839e-01,  -5.06524928e-01,   1.13069580e+00,\n",
       "         4.02260516e-01,  -3.77872769e-01,  -1.88353128e-01,\n",
       "         1.12881804e+00,  -6.28990431e-02,  -5.67487257e-01,\n",
       "        -1.29702370e+00,   1.30171661e+00,  -4.36383051e-01,\n",
       "        -2.24675112e-01,   2.91774550e+00,   2.34298292e+00,\n",
       "        -6.11602720e-02,   2.19777434e-01,  -6.51147761e-01,\n",
       "        -6.58374902e-01,   1.20551640e+00,  -4.95577573e-01,\n",
       "         1.11759973e+00,  -6.24791852e-01,  -7.86215194e-01,\n",
       "        -6.95180047e-01,  -9.11757356e-01,   2.27760203e-01,\n",
       "         9.30353517e-02,   8.93829100e-01,  -1.79864306e-01,\n",
       "        -5.32446352e-02,   1.93754315e-01,  -1.18254507e+00,\n",
       "         1.40271330e+00,   1.25196889e+00,   1.55155884e+00,\n",
       "        -2.62297397e-01,  -1.45040922e+00,   6.28000904e-01,\n",
       "        -5.45088892e-01,   1.22296450e+00,   1.05167522e+00,\n",
       "         1.23933083e+00,  -1.18765555e+00,  -2.97541952e-01,\n",
       "        -8.62351782e-01,   1.47227203e+00,  -8.61416152e-01,\n",
       "         1.07969059e+00,   1.16409194e+00,  -4.44101903e-01,\n",
       "         1.64212168e-01,  -1.22530446e+00,  -6.24967602e-01,\n",
       "        -5.30059533e-01,  -1.07094361e+00,  -3.09774886e-01,\n",
       "         1.07977872e+00,   3.42128245e-01,   1.51268504e+00,\n",
       "        -1.40531103e+00,   2.40842954e-02,  -2.19533106e-01,\n",
       "        -6.30744587e-01,  -1.01695037e+00,  -6.42316130e-02,\n",
       "        -1.17315356e+00,  -5.54639285e-02,   9.40794061e-02,\n",
       "        -9.22099773e-01,   2.35604532e+00,  -3.60494744e-01,\n",
       "         2.10801841e-01,   9.29907193e-03,  -5.46027255e-02,\n",
       "         1.09743095e+00,  -3.61869401e-01,   3.75405799e-01,\n",
       "         8.26941860e-01,  -3.63726117e-01,  -1.09294151e+00,\n",
       "         1.31957423e-01,  -1.00146294e-01,   6.97066013e-01,\n",
       "        -1.09698251e+00,   1.33952653e+00,   1.43831871e+00,\n",
       "        -3.02790614e-01,  -1.51390905e+00,  -1.51658011e+00,\n",
       "        -1.33594866e+00,  -6.51727973e-01,   1.00977384e+00,\n",
       "        -1.34332105e+00,  -4.96279244e-01,   5.70365663e-01,\n",
       "         1.40460572e+00,  -9.22747256e-01,  -5.90427938e-01,\n",
       "        -1.19216614e+00,  -4.27196425e-01,  -4.51919045e-01,\n",
       "        -4.59625388e-02,  -1.41825937e+00,  -7.84476100e-01,\n",
       "        -1.75370784e-01,   2.91774550e+00,   7.96613301e-01,\n",
       "        -2.13275225e-01,  -1.31868285e+00,  -1.19328259e+00,\n",
       "         9.26801579e-01,   8.55522784e-01,  -8.00696911e-01,\n",
       "         1.76761428e+00,  -1.30957979e-01,  -3.84345675e-01,\n",
       "        -1.01484958e+00,  -1.36442092e-01,  -1.87086420e-01,\n",
       "        -1.10712067e+00,   4.52682016e-01,  -8.72361396e-01,\n",
       "        -6.32940511e-02,   2.89633907e+00,   1.07564794e-01,\n",
       "        -3.69112875e-01,   1.45081865e-01,  -9.88798350e-01,\n",
       "         1.45978639e+00,   1.66323676e+00,  -5.13249056e-01,\n",
       "        -1.20110176e+00,  -1.07405155e+00,  -9.91833849e-01,\n",
       "        -7.53537948e-01,   2.11840963e+00,  -6.68877250e-01,\n",
       "        -6.96307784e-01,  -8.09853957e-02,  -5.58413343e-02,\n",
       "        -3.89715456e-01,  -8.48373822e-01,   2.65669872e-01,\n",
       "        -1.35024712e+00,  -1.20673455e+00,   2.72444979e-01,\n",
       "         1.19355041e+00,  -4.41807482e-01,   1.33207210e+00,\n",
       "         7.36743095e-01,   8.98796784e-01,  -1.22804604e+00,\n",
       "         3.82124585e-01,   1.07533330e+00,   5.87524779e-01,\n",
       "         5.52788839e-01,  -1.47429947e+00,  -9.50212205e-01,\n",
       "        -5.05512125e-01,  -7.88157972e-02,   4.01265320e-02,\n",
       "        -4.72189701e-01,  -3.04804604e-01,   1.07760318e+00,\n",
       "        -1.28972403e+00,  -8.93401396e-01,   3.28378145e-01,\n",
       "        -1.05391481e+00,  -6.24533371e-01,  -1.01902106e+00,\n",
       "        -1.31415474e+00,  -3.49518718e-02,  -8.99563891e-01,\n",
       "         5.31899721e-02,  -1.53444108e-01,   4.95206974e-01,\n",
       "        -1.14142743e+00,  -1.48671827e+00,  -9.99614695e-01,\n",
       "         7.26519879e-01,   2.55746782e-01,   3.06341702e-01,\n",
       "        -1.28907763e-01,  -5.20808153e-01,   1.68051888e-01,\n",
       "         8.72355157e-01,  -5.47181605e-01,  -1.09943036e+00,\n",
       "         2.14209435e+00,  -9.29428725e-01,   1.02959812e-01,\n",
       "         1.28711176e+00,  -1.05632681e+00,  -1.35657682e+00,\n",
       "         2.44888921e+00,  -9.30120251e-01,   2.53510222e-02,\n",
       "        -1.39231702e+00,   2.66089561e-01,   1.01849302e-01,\n",
       "         1.61467616e+00,   8.16920164e-01,  -8.75923143e-01,\n",
       "         8.98408283e-01,   1.60848791e-01,  -6.54434133e-01,\n",
       "         2.34491083e+00,   1.82081692e+00,  -1.18459883e+00,\n",
       "         6.14018249e-01,   3.83094701e-01,  -1.06132287e+00,\n",
       "         2.47841732e-01,   6.51978811e-01,  -5.36375987e-01,\n",
       "        -3.96441687e-01,   1.52913593e+00,   1.21453626e+00,\n",
       "         9.41334109e-01,   9.36937625e-01,  -1.34373934e-01,\n",
       "        -5.90319903e-01,  -6.20855427e-02,  -3.65203782e-02,\n",
       "         6.07733429e-01,   1.28288066e+00,   2.50092765e-01,\n",
       "         1.48468628e+00,  -3.69062433e-01,  -4.61631166e-01,\n",
       "        -4.99389385e-01,   1.21519688e+00,   1.20404954e+00,\n",
       "         3.29737561e-02,   3.05751851e-01,   9.92681212e-01,\n",
       "        -1.16671948e+00,  -9.95819073e-01,  -9.73093381e-01,\n",
       "         1.58491075e-01,  -1.97958333e-01,  -1.04639763e+00,\n",
       "        -1.14657465e+00,   1.68161138e+00,  -1.10835309e-01,\n",
       "        -8.08413274e-01,  -5.21498495e-01,   1.15951567e+00,\n",
       "         2.30533742e+00,   4.29836153e-01,  -1.45362876e+00,\n",
       "        -5.97781752e-01,  -1.31282030e+00,   3.12667950e-01,\n",
       "        -1.33502659e+00,  -3.01972076e-01,   2.40119351e-01,\n",
       "        -8.23498640e-01,  -1.51354548e+00,  -5.50377817e-01,\n",
       "         7.69186807e-01,  -1.58900742e+00,   1.78407464e+00,\n",
       "        -4.88846955e-01,   4.20755802e-01])"
      ]
     },
     "execution_count": 43,
     "metadata": {},
     "output_type": "execute_result"
    }
   ],
   "source": [
    "y_train"
   ]
  },
  {
   "cell_type": "code",
   "execution_count": 42,
   "metadata": {
    "collapsed": true
   },
   "outputs": [
    {
     "data": {
      "text/plain": [
       "array([-0.30849142, -0.02320696,  0.08609446,  0.18430688, -0.21208545,\n",
       "       -0.58278535,  0.00305323, -0.77162255, -0.45663901,  0.05136636,\n",
       "        0.22729541, -0.16015158, -0.68875003, -0.43226511,  0.05376947,\n",
       "        0.22713237, -0.88893138, -0.37382915, -0.02761577, -0.4243101 ,\n",
       "        0.26484978, -0.54914459, -0.12306755,  0.45521993,  0.15100539,\n",
       "       -0.20144924, -0.17204038, -0.10768164, -0.15872905, -0.33746947,\n",
       "       -0.47054225,  0.08342435,  0.23408141,  0.13521806,  0.17529201,\n",
       "       -0.11546233,  0.12689403,  0.10487231,  0.24965284, -0.86906494,\n",
       "       -0.59365779,  0.03719171,  0.39182195, -0.0533519 ,  0.3295965 ,\n",
       "        0.12125083, -0.15920628,  0.08991829, -0.13515812,  0.02440385,\n",
       "        0.21928849,  0.01790158,  0.06929018,  0.15320444, -0.08628468,\n",
       "        0.20753865, -0.02964557,  0.04064956, -0.2006894 ,  0.33961272,\n",
       "        0.08358905, -0.38963218, -0.1998677 , -0.02621379, -0.18704808,\n",
       "       -0.22423859,  0.51361047, -0.46549336,  0.00626338, -0.83785768,\n",
       "       -0.38389471,  0.25289341, -0.2052155 , -0.28134543, -0.07832251,\n",
       "        0.29859249,  0.04271854, -0.73745766, -0.49076308, -0.14144983,\n",
       "       -0.58829532, -0.46681553, -0.1975904 ,  0.27404637, -0.17691509,\n",
       "        0.24675572,  0.10022365, -0.61519596,  0.47211954, -0.15393972,\n",
       "       -0.33082736,  0.09150553,  0.18398085,  0.20735533, -0.30172847,\n",
       "        0.08146854, -0.38723774, -0.37306231,  0.15780579,  0.22460495,\n",
       "        0.07775499,  0.11198653,  0.14035979,  0.34621682, -0.1946257 ,\n",
       "        0.17425681,  0.18344568, -0.05141728, -0.06353937,  0.41444726,\n",
       "        0.67189215, -0.54685177,  0.13770304, -0.27461416,  0.12171209,\n",
       "       -0.35074243, -0.40364121, -0.21852894,  0.21343895, -0.43816574,\n",
       "        0.26855231, -0.12883347, -0.30571499, -0.03321589, -0.29839685,\n",
       "       -0.78888522,  0.04659515, -0.04726692, -0.43353835, -0.0874788 ,\n",
       "       -0.59321684,  0.1127262 , -0.0982041 , -0.30106812, -0.66701085,\n",
       "       -0.00816291,  0.29084891,  0.16117771, -0.52423081, -0.46977649,\n",
       "       -0.39349815,  0.16871182,  0.12247344, -0.06994883,  0.17913923,\n",
       "       -0.30550309,  0.1965394 , -0.85249884, -0.09287809, -0.62730258,\n",
       "       -0.2811587 , -0.0095129 ,  0.08963468,  0.25607594,  0.39540127,\n",
       "       -0.71238139, -0.3293474 , -0.58935788, -0.42343949,  0.65617467,\n",
       "       -0.49945459, -0.14189951, -0.32284716, -0.60921141,  0.16962035,\n",
       "        0.38459858, -0.07513749,  0.35038712,  0.14827211, -0.0805822 ,\n",
       "        0.25095898, -0.44465401,  0.2236172 , -0.08608542, -0.03017126,\n",
       "       -0.1870289 , -0.24164216, -0.19635217,  0.29927306, -0.87048356,\n",
       "       -0.29412821, -0.2157941 , -0.23511769, -0.19059638,  0.05306385,\n",
       "        0.19699881, -0.11118445, -0.01193724,  0.23389979, -0.46084119,\n",
       "       -0.59636626,  0.18308202, -0.16574321,  0.04094061, -0.48214868,\n",
       "       -0.07050663,  0.03750723,  0.22915389,  0.05771448,  0.4340724 ,\n",
       "        0.18366148, -0.19069222, -0.70010078,  0.36844179, -0.13755289,\n",
       "        0.08400334, -0.07733003, -0.44016279, -0.02378609, -0.1049107 ,\n",
       "        0.08365753, -0.01793253, -0.7937649 ,  0.09629653, -0.06394693,\n",
       "       -0.14859263, -0.11010714,  0.0752011 , -0.02642774,  0.13201182,\n",
       "       -0.45410745, -0.02031804, -0.0338601 , -0.46415156, -0.44245006,\n",
       "       -0.00456548, -0.24484688, -0.2521138 ,  0.10063916, -0.23032567,\n",
       "        0.22964582,  0.22301291, -0.08087026, -0.06716486, -0.69646838,\n",
       "        0.21859386, -0.64347288,  0.13981256,  0.0081997 ,  0.32387126,\n",
       "       -0.41332874,  0.1859195 , -0.05600413, -0.363873  , -0.25433729,\n",
       "       -0.27781647, -0.03024916,  0.03371511, -0.30976731,  0.14653085,\n",
       "       -0.07798247,  0.24424938, -0.57643048,  0.23410096,  0.13446399,\n",
       "        0.14869039, -0.34654475, -0.27217143, -0.25764432, -0.06533616,\n",
       "       -0.14233   , -0.09328289,  0.46208084,  0.3652814 ,  0.22078813,\n",
       "        0.40178136, -0.25905171,  0.09620454, -0.1432642 ,  0.03613106,\n",
       "        0.08540907, -0.5044481 ,  0.18319153, -0.35166956, -0.22808974,\n",
       "        0.11009135, -0.38230571, -0.29927476,  0.23062262, -0.01316382,\n",
       "        0.01150675,  0.04300676,  0.25433623,  0.18952865,  0.19249083,\n",
       "        0.16073923,  0.46286863,  0.1733104 , -0.64471884, -0.33572247,\n",
       "        0.09825481, -0.48744295, -0.39483773, -0.37024939,  0.27292966,\n",
       "        0.01320378, -0.44502644,  0.1346136 , -0.05106586, -0.00861058,\n",
       "        0.08835246, -0.11689481, -0.42287915, -0.16685714,  0.25623409,\n",
       "        0.00553736,  0.11590985, -0.15511626,  0.18536094, -0.19582884,\n",
       "        0.05728741, -0.29006381,  0.05309909,  0.13712099,  0.02826454,\n",
       "       -0.60054934,  0.0471731 ,  0.16524656, -0.37266996, -0.04531973,\n",
       "        0.3995493 , -0.78437965, -0.08302463, -0.03946921, -0.56170338,\n",
       "        0.5392152 , -0.39652431, -0.30891951,  0.03025174, -0.16197188,\n",
       "       -0.08692571,  0.01268311, -0.63037386,  0.37620414,  0.12877459,\n",
       "       -0.19817871, -0.00713877, -0.06690013,  0.43502856,  0.11071097,\n",
       "        0.0322862 , -0.01588792,  0.27168844,  0.11860632, -0.10188233,\n",
       "        0.15888547, -0.00667279,  0.19963469, -0.39922204, -0.13085178,\n",
       "       -0.2312456 ,  0.13083096, -0.20844724, -0.7365795 , -0.42185586,\n",
       "       -0.3760359 , -0.24345699,  0.07008517, -0.66900363,  0.22976844,\n",
       "        0.00236662,  0.18020992,  0.01261689,  0.29019711, -0.51065031,\n",
       "        0.17875636, -0.19550029,  0.32186196, -0.47229091, -0.0365965 ,\n",
       "        0.0867578 , -0.71221526,  0.12273339, -0.35945363,  0.33087272,\n",
       "       -0.70682554,  0.00735778, -0.19705378,  0.15823909, -0.35690324,\n",
       "        0.34772237,  0.10615071,  0.06616036, -0.50314735, -0.6216069 ,\n",
       "       -0.3747752 ,  0.10709204, -0.04752365, -0.5438837 , -0.02015715,\n",
       "       -0.63345616, -0.07192068,  0.46259198,  0.00142946,  0.45292587,\n",
       "        0.32971457, -0.50237262,  0.29027   , -0.49745888, -0.66026092,\n",
       "       -0.11505083, -0.09048932, -0.1712239 , -0.10282855, -0.6570446 ,\n",
       "        0.05923795,  0.0023452 , -0.23696788, -0.30920511, -0.57244307,\n",
       "        0.19964319, -0.47957107, -0.53133126, -0.36798191, -0.59679532,\n",
       "        0.16442139,  0.26890586,  0.3179739 ,  0.24098939,  0.27932233,\n",
       "        0.35004796, -0.07301359,  0.26608658, -0.68431305, -0.22672899,\n",
       "        0.53459715,  0.03046191,  0.35811101,  0.43233511, -0.30627171,\n",
       "        0.15188329,  0.05723309,  0.11022287, -0.5055149 ,  0.04566571,\n",
       "        0.23584856, -0.30777462,  0.02385356, -0.3658893 ,  0.12808795,\n",
       "       -0.03163498, -0.19137917, -0.38250743, -0.09064315, -0.22661943,\n",
       "        0.03975514, -0.38332714,  0.06646092, -0.22965977, -0.38342836,\n",
       "        0.15884495, -0.17834092,  0.21451401, -0.5110482 , -0.05892128,\n",
       "       -0.61940222, -0.2229353 , -0.48014729, -0.70454438, -0.38370512,\n",
       "        0.31233278, -0.1597304 , -0.72711203, -0.31279384, -0.36050046,\n",
       "        0.10076419,  0.22375846,  0.08634276, -0.18035176, -0.28562909,\n",
       "       -0.01388525, -0.35829932, -0.66264892, -0.65817213,  0.10993379,\n",
       "       -0.15481766, -0.6076985 ,  0.37215185,  0.4757722 , -0.31219791,\n",
       "       -0.26043442, -0.5594071 , -0.75866066, -0.41311435, -0.03706145,\n",
       "       -0.5944027 ,  0.22450222,  0.00622468, -0.29329704, -0.49466881,\n",
       "       -0.4515189 ,  0.3923173 , -0.0260533 , -0.13833357,  0.09622294,\n",
       "       -0.12967607,  0.07620778, -0.61537322, -0.48614241, -0.20637218,\n",
       "        0.10362774,  0.05785439, -0.0864736 , -0.1261931 ,  0.09332747,\n",
       "       -0.30954021, -0.06873036, -0.09582428,  0.08121296,  0.34909885,\n",
       "       -0.1117221 ,  0.0327444 , -0.18101206,  0.1447828 ,  0.07157472,\n",
       "       -0.00282066, -0.30507707, -0.52717465,  0.0869828 , -0.06180076,\n",
       "        0.03654179])"
      ]
     },
     "execution_count": 42,
     "metadata": {},
     "output_type": "execute_result"
    }
   ],
   "source": [
    "x_train"
   ]
  },
  {
   "cell_type": "code",
   "execution_count": 37,
   "metadata": {},
   "outputs": [
    {
     "data": {
      "text/plain": [
       "numpy.ndarray"
      ]
     },
     "execution_count": 37,
     "metadata": {},
     "output_type": "execute_result"
    }
   ],
   "source": [
    "type(y_train)"
   ]
  },
  {
   "cell_type": "code",
   "execution_count": 38,
   "metadata": {},
   "outputs": [
    {
     "data": {
      "text/plain": [
       "numpy.ndarray"
      ]
     },
     "execution_count": 38,
     "metadata": {},
     "output_type": "execute_result"
    }
   ],
   "source": [
    "type(x_train)"
   ]
  },
  {
   "cell_type": "code",
   "execution_count": 40,
   "metadata": {},
   "outputs": [
    {
     "data": {
      "text/plain": [
       "0"
      ]
     },
     "execution_count": 40,
     "metadata": {},
     "output_type": "execute_result"
    }
   ],
   "source": [
    "np.sum(np.isnan(y_train))"
   ]
  },
  {
   "cell_type": "code",
   "execution_count": null,
   "metadata": {
    "collapsed": true
   },
   "outputs": [],
   "source": []
  }
 ],
 "metadata": {
  "kernelspec": {
   "display_name": "Python 3",
   "language": "python",
   "name": "python3"
  },
  "language_info": {
   "codemirror_mode": {
    "name": "ipython",
    "version": 3
   },
   "file_extension": ".py",
   "mimetype": "text/x-python",
   "name": "python",
   "nbconvert_exporter": "python",
   "pygments_lexer": "ipython3",
   "version": "3.5.2"
  },
  "varInspector": {
   "cols": {
    "lenName": 16,
    "lenType": 16,
    "lenVar": 40
   },
   "kernels_config": {
    "python": {
     "delete_cmd_postfix": "",
     "delete_cmd_prefix": "del ",
     "library": "var_list.py",
     "varRefreshCmd": "print(var_dic_list())"
    },
    "r": {
     "delete_cmd_postfix": ") ",
     "delete_cmd_prefix": "rm(",
     "library": "var_list.r",
     "varRefreshCmd": "cat(var_dic_list()) "
    }
   },
   "types_to_exclude": [
    "module",
    "function",
    "builtin_function_or_method",
    "instance",
    "_Feature"
   ],
   "window_display": false
  },
  "widgets": {
   "state": {},
   "version": "1.1.2"
  }
 },
 "nbformat": 4,
 "nbformat_minor": 2
}
