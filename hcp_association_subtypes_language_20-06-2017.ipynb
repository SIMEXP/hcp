{
 "cells": [
  {
   "cell_type": "markdown",
   "metadata": {
    "deletable": true,
    "editable": true
   },
   "source": [
    "## Association subtypes language task"
   ]
  },
  {
   "cell_type": "code",
   "execution_count": 1,
   "metadata": {
    "collapsed": false,
    "deletable": true,
    "editable": true
   },
   "outputs": [],
   "source": [
    "import seaborn as sns\n",
    "import os\n",
    "import numpy as np\n",
    "from scipy import stats, integrate\n",
    "import scipy.io as sio\n",
    "import pandas as pd\n",
    "from pandas.tools.plotting import scatter_matrix\n",
    "import seaborn as sns; sns.set(color_codes=True)\n",
    "import matplotlib.pyplot as plt"
   ]
  },
  {
   "cell_type": "code",
   "execution_count": 2,
   "metadata": {
    "collapsed": false,
    "deletable": true,
    "editable": true
   },
   "outputs": [],
   "source": [
    "# load good stuff\n",
    "%matplotlib inline\n",
    "%load_ext rpy2.ipython\n",
    "%load_ext oct2py.ipython\n",
    "sns.set(color_codes=True)"
   ]
  },
  {
   "cell_type": "code",
   "execution_count": 3,
   "metadata": {
    "collapsed": true,
    "deletable": true,
    "editable": true
   },
   "outputs": [],
   "source": [
    "import warnings\n",
    "warnings.filterwarnings('ignore')"
   ]
  },
  {
   "cell_type": "code",
   "execution_count": 4,
   "metadata": {
    "collapsed": false,
    "deletable": true,
    "editable": true
   },
   "outputs": [
    {
     "data": {
      "text/plain": [
       "Adding library hcp to the search path."
      ]
     },
     "metadata": {},
     "output_type": "display_data"
    },
    {
     "data": {
      "text/plain": []
     },
     "metadata": {},
     "output_type": "display_data"
    },
    {
     "data": {
      "text/plain": [
       "Adding library niak to the search path."
      ]
     },
     "metadata": {},
     "output_type": "display_data"
    },
    {
     "data": {
      "text/plain": []
     },
     "metadata": {},
     "output_type": "display_data"
    },
    {
     "data": {
      "text/plain": [
       "Adding library psom to the search path."
      ]
     },
     "metadata": {},
     "output_type": "display_data"
    },
    {
     "data": {
      "text/plain": []
     },
     "metadata": {},
     "output_type": "display_data"
    }
   ],
   "source": [
    "# Add niak hcp and psomm to oactve path\n",
    "%octave addpath(genpath('~/git/Misc'));\n",
    "%octave build_path hcp niak psom"
   ]
  },
  {
   "cell_type": "code",
   "execution_count": 7,
   "metadata": {
    "collapsed": false,
    "deletable": true,
    "editable": true
   },
   "outputs": [],
   "source": [
    "#  Set path\n",
    "path_root = '/home/yassinebha/Drive/HCP/subtypes_scores/26-10-2016/subtype_5_spm_LANGUAGE_18-Jun-2017/';\n",
    "path_association =  os.path.join(path_root,'associations/');\n",
    "path_networks =  os.path.join(path_root,'networks/');"
   ]
  },
  {
   "cell_type": "code",
   "execution_count": 8,
   "metadata": {
    "collapsed": false,
    "deletable": true,
    "editable": true
   },
   "outputs": [
    {
     "data": {
      "text/plain": [
       "['cluster_1',\n",
       " 'cluster_2',\n",
       " 'cluster_3',\n",
       " 'cluster_4',\n",
       " 'cluster_5',\n",
       " 'cluster_6',\n",
       " 'cluster_7',\n",
       " 'cluster_8',\n",
       " 'cluster_9']"
      ]
     },
     "execution_count": 8,
     "metadata": {},
     "output_type": "execute_result"
    }
   ],
   "source": [
    "# List phenotypes\n",
    "list_pheno  = [f for f in os.listdir(path_association)]\n",
    "list_pheno = sorted(list_pheno)\n",
    "list_pheno"
   ]
  },
  {
   "cell_type": "code",
   "execution_count": 9,
   "metadata": {
    "collapsed": false,
    "deletable": true,
    "editable": true
   },
   "outputs": [
    {
     "data": {
      "text/plain": [
       "['story']"
      ]
     },
     "execution_count": 9,
     "metadata": {},
     "output_type": "execute_result"
    }
   ],
   "source": [
    "# List trials\n",
    "list_trial  = [f for f in os.listdir(path_networks)]\n",
    "list_trial "
   ]
  },
  {
   "cell_type": "code",
   "execution_count": 10,
   "metadata": {
    "collapsed": true,
    "deletable": true,
    "editable": true
   },
   "outputs": [],
   "source": [
    "list_subtype = ['sub1','sub2','sub3','sub4','sub5']"
   ]
  },
  {
   "cell_type": "code",
   "execution_count": 11,
   "metadata": {
    "collapsed": false,
    "deletable": true,
    "editable": true
   },
   "outputs": [],
   "source": [
    "# Create R-squared table to be used in R\n",
    "for trial_name in list_trial :\n",
    "    # build R2 table for radar plot\n",
    "    for ix, pheno_name in enumerate(list_pheno):\n",
    "        mat_file = os.path.join(path_association,pheno_name,'association_stats_{}.mat'.format(pheno_name))\n",
    "        %octave_push mat_file\n",
    "        %octave mat_load = load(mat_file);\n",
    "        %octave_pull mat_load\n",
    "        pheno_r2 = mat_load['glm_results'][trial_name]['rsquare']\n",
    "        if ix == 0:\n",
    "            pheno_r2_final = pd.Series(pheno_r2.tolist()[0])\n",
    "        else:\n",
    "            pheno_r2_final =pd.concat([pheno_r2_final,pd.Series(pheno_r2.tolist()[0])],axis=1)\n",
    "            \n",
    "    pheno_r2_final.columns = list_pheno\n",
    "    pheno_r2_final.index = list_subtype\n",
    "    pheno_r2_final = pd.DataFrame(pheno_r2_final)\n",
    "    pheno_r2_final.to_csv(os.path.join(path_root,'{}_r2.csv'.format(trial_name)))"
   ]
  },
  {
   "cell_type": "code",
   "execution_count": 12,
   "metadata": {
    "collapsed": false,
    "deletable": true,
    "editable": true
   },
   "outputs": [
    {
     "data": {
      "text/html": [
       "<div>\n",
       "<table border=\"1\" class=\"dataframe\">\n",
       "  <thead>\n",
       "    <tr style=\"text-align: right;\">\n",
       "      <th></th>\n",
       "      <th>cluster_1</th>\n",
       "      <th>cluster_2</th>\n",
       "      <th>cluster_3</th>\n",
       "      <th>cluster_4</th>\n",
       "      <th>cluster_5</th>\n",
       "      <th>cluster_6</th>\n",
       "      <th>cluster_7</th>\n",
       "      <th>cluster_8</th>\n",
       "      <th>cluster_9</th>\n",
       "    </tr>\n",
       "  </thead>\n",
       "  <tbody>\n",
       "    <tr>\n",
       "      <th>sub1</th>\n",
       "      <td>0.031365</td>\n",
       "      <td>0.038060</td>\n",
       "      <td>0.029533</td>\n",
       "      <td>0.046171</td>\n",
       "      <td>0.036431</td>\n",
       "      <td>0.030244</td>\n",
       "      <td>0.030823</td>\n",
       "      <td>0.029535</td>\n",
       "      <td>0.051124</td>\n",
       "    </tr>\n",
       "    <tr>\n",
       "      <th>sub2</th>\n",
       "      <td>0.040732</td>\n",
       "      <td>0.029860</td>\n",
       "      <td>0.025771</td>\n",
       "      <td>0.085480</td>\n",
       "      <td>0.039803</td>\n",
       "      <td>0.025138</td>\n",
       "      <td>0.026600</td>\n",
       "      <td>0.027787</td>\n",
       "      <td>0.044652</td>\n",
       "    </tr>\n",
       "    <tr>\n",
       "      <th>sub3</th>\n",
       "      <td>0.031662</td>\n",
       "      <td>0.038123</td>\n",
       "      <td>0.031036</td>\n",
       "      <td>0.047346</td>\n",
       "      <td>0.037537</td>\n",
       "      <td>0.031003</td>\n",
       "      <td>0.031731</td>\n",
       "      <td>0.031316</td>\n",
       "      <td>0.053237</td>\n",
       "    </tr>\n",
       "    <tr>\n",
       "      <th>sub4</th>\n",
       "      <td>0.024919</td>\n",
       "      <td>0.033241</td>\n",
       "      <td>0.029702</td>\n",
       "      <td>0.029539</td>\n",
       "      <td>0.030472</td>\n",
       "      <td>0.029882</td>\n",
       "      <td>0.028140</td>\n",
       "      <td>0.028319</td>\n",
       "      <td>0.046491</td>\n",
       "    </tr>\n",
       "    <tr>\n",
       "      <th>sub5</th>\n",
       "      <td>0.031779</td>\n",
       "      <td>0.040206</td>\n",
       "      <td>0.032998</td>\n",
       "      <td>0.045240</td>\n",
       "      <td>0.038847</td>\n",
       "      <td>0.033831</td>\n",
       "      <td>0.033092</td>\n",
       "      <td>0.032289</td>\n",
       "      <td>0.054352</td>\n",
       "    </tr>\n",
       "  </tbody>\n",
       "</table>\n",
       "</div>"
      ],
      "text/plain": [
       "      cluster_1  cluster_2  cluster_3  cluster_4  cluster_5  cluster_6  \\\n",
       "sub1   0.031365   0.038060   0.029533   0.046171   0.036431   0.030244   \n",
       "sub2   0.040732   0.029860   0.025771   0.085480   0.039803   0.025138   \n",
       "sub3   0.031662   0.038123   0.031036   0.047346   0.037537   0.031003   \n",
       "sub4   0.024919   0.033241   0.029702   0.029539   0.030472   0.029882   \n",
       "sub5   0.031779   0.040206   0.032998   0.045240   0.038847   0.033831   \n",
       "\n",
       "      cluster_7  cluster_8  cluster_9  \n",
       "sub1   0.030823   0.029535   0.051124  \n",
       "sub2   0.026600   0.027787   0.044652  \n",
       "sub3   0.031731   0.031316   0.053237  \n",
       "sub4   0.028140   0.028319   0.046491  \n",
       "sub5   0.033092   0.032289   0.054352  "
      ]
     },
     "execution_count": 12,
     "metadata": {},
     "output_type": "execute_result"
    }
   ],
   "source": [
    "pheno_r2_final"
   ]
  },
  {
   "cell_type": "code",
   "execution_count": 13,
   "metadata": {
    "collapsed": false,
    "deletable": true,
    "editable": true
   },
   "outputs": [],
   "source": [
    "# first time on terminal install cairo : \"sudo apt install libcairo2-dev\" then \"sudo apt-get install r-cran-stringr\"\n",
    "#devtools::install_github(\"hadley/svglite\")\n",
    "#devtools::install_github(\"ricardo-bion/ggradar\", dependencies=TRUE)"
   ]
  },
  {
   "cell_type": "code",
   "execution_count": 14,
   "metadata": {
    "collapsed": false,
    "deletable": true,
    "editable": true
   },
   "outputs": [],
   "source": [
    "%%R\n",
    "library(ggradar)\n",
    "suppressPackageStartupMessages(library(dplyr))\n",
    "library(scales)\n",
    "require(\"ggplot2\")"
   ]
  },
  {
   "cell_type": "code",
   "execution_count": 15,
   "metadata": {
    "collapsed": false,
    "deletable": true,
    "editable": true,
    "scrolled": false
   },
   "outputs": [
    {
     "data": {
      "image/png": "[encoded data removed]"
     },
     "metadata": {},
     "output_type": "display_data"
    }
   ],
   "source": [
    "%%R -i path_root,list_trial\n",
    "for (ii in list_trial) {\n",
    "    MyData <- read.csv(file=paste(path_root,ii,\"_r2.csv\",sep = ''))\n",
    "    # plot R2 radar plot\n",
    "    image_radar=ggradar(MyData, \n",
    "                        grid.min = 0,\n",
    "                        grid.mid = 0.05, \n",
    "                        grid.max = 0.1, \n",
    "                        axis.label.size = 5, \n",
    "                        grid.label.size = 5 ,\n",
    "                        legend.text.size =5,\n",
    "                        group.line.width = 1,\n",
    "                        group.point.size = 4)  +\n",
    "    theme(legend.text = element_text(size = 12),plot.title = element_text( face=\"bold\",size = 12)) + \n",
    "    ggtitle(paste(' Language Task : \\n  ',toupper(ii),sep = ''))\n",
    "    print(image_radar)\n",
    "    ggsave(file=paste(path_root,ii,\"_R-squared.svg\",sep = ''), plot=image_radar, width=10, height=8)\n",
    "}"
   ]
  },
  {
   "cell_type": "code",
   "execution_count": null,
   "metadata": {
    "collapsed": false,
    "deletable": true,
    "editable": true,
    "scrolled": false
   },
   "outputs": [],
   "source": [
    "# plot association wieght and phenotypes\n",
    "for trial_name in list_trial :\n",
    "    # build R2 table for radar plot\n",
    "    for ix, pheno_name in enumerate(list_pheno):\n",
    "        mat_file = os.path.join(path_association,pheno_name,'association_stats_{}.mat'.format(pheno_name))\n",
    "        %octave_push mat_file\n",
    "        %octave mat_load = load(mat_file);\n",
    "        %octave_pull mat_load\n",
    "        model_y =mat_load['model_raw']['y']\n",
    "        model_x = mat_load['model_raw']['x']\n",
    "        model_labels_x = mat_load['model_raw']['labels_x']\n",
    "        model_labels_y = mat_load['model_raw']['labels_y']\n",
    "        concat = [np.concatenate([model_y[x], model_x[x]]) for x in range(np.shape(model_y)[0])]\n",
    "        model_df = pd.DataFrame(concat)\n",
    "        model_df.index = model_labels_x\n",
    "        colnames = np.concatenate([list_subtype,model_labels_y])\n",
    "        model_df.columns = colnames\n",
    "        model_df.to_csv(os.path.join(path_root,'{}_pheno_subtype.csv'.format(trial_name)))\n",
    "        \n",
    "        # plot association maps\n",
    "        for subtype in list_subtype:\n",
    "            fig = plt.figure(figsize=(9,16))\n",
    "            ax1 = fig.add_subplot(511)\n",
    "            ax1 = sns.regplot(x=pheno_name, y=subtype, data=model_df,color=\"#BCB6FF\");\n",
    "            ax1.set_ylabel('{}_{}'.format(trial_name,subtype))\n",
    "            ax1.set_xlabel(pheno_name)"
   ]
  },
  {
   "cell_type": "code",
   "execution_count": null,
   "metadata": {
    "collapsed": true,
    "deletable": true,
    "editable": true
   },
   "outputs": [],
   "source": []
  }
 ],
 "metadata": {
  "kernelspec": {
   "display_name": "Python 3",
   "language": "python",
   "name": "python3"
  },
  "language_info": {
   "codemirror_mode": {
    "name": "ipython",
    "version": 3
   },
   "file_extension": ".py",
   "mimetype": "text/x-python",
   "name": "python",
   "nbconvert_exporter": "python",
   "pygments_lexer": "ipython3",
   "version": "3.4.3"
  },
  "widgets": {
   "state": {},
   "version": "1.1.2"
  }
 },
 "nbformat": 4,
 "nbformat_minor": 2
}
