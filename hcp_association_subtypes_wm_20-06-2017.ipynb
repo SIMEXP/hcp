{
 "cells": [
  {
   "cell_type": "markdown",
   "metadata": {
    "deletable": true,
    "editable": true
   },
   "source": [
    "## Association subtypes working-memory task"
   ]
  },
  {
   "cell_type": "code",
   "execution_count": 16,
   "metadata": {
    "collapsed": false,
    "deletable": true,
    "editable": true
   },
   "outputs": [],
   "source": [
    "import seaborn as sns\n",
    "import os\n",
    "import numpy as np\n",
    "from scipy import stats, integrate\n",
    "import scipy.io as sio\n",
    "import pandas as pd\n",
    "from pandas.tools.plotting import scatter_matrix\n",
    "import seaborn as sns; sns.set(color_codes=True)\n",
    "import matplotlib.pyplot as plt"
   ]
  },
  {
   "cell_type": "code",
   "execution_count": 17,
   "metadata": {
    "collapsed": false,
    "deletable": true,
    "editable": true
   },
   "outputs": [
    {
     "name": "stdout",
     "output_type": "stream",
     "text": [
      "The rpy2.ipython extension is already loaded. To reload it, use:\n",
      "  %reload_ext rpy2.ipython\n",
      "The oct2py.ipython extension is already loaded. To reload it, use:\n",
      "  %reload_ext oct2py.ipython\n"
     ]
    }
   ],
   "source": [
    "# load good stuff\n",
    "%matplotlib inline\n",
    "%load_ext rpy2.ipython\n",
    "%load_ext oct2py.ipython\n",
    "sns.set(color_codes=True)"
   ]
  },
  {
   "cell_type": "code",
   "execution_count": 18,
   "metadata": {
    "collapsed": true,
    "deletable": true,
    "editable": true
   },
   "outputs": [],
   "source": [
    "import warnings\n",
    "warnings.filterwarnings('ignore')"
   ]
  },
  {
   "cell_type": "code",
   "execution_count": 19,
   "metadata": {
    "collapsed": false,
    "deletable": true,
    "editable": true
   },
   "outputs": [
    {
     "data": {
      "text/plain": [
       "Adding library hcp to the search path."
      ]
     },
     "metadata": {},
     "output_type": "display_data"
    },
    {
     "data": {
      "text/plain": []
     },
     "metadata": {},
     "output_type": "display_data"
    },
    {
     "data": {
      "text/plain": [
       "Adding library niak to the search path."
      ]
     },
     "metadata": {},
     "output_type": "display_data"
    },
    {
     "data": {
      "text/plain": []
     },
     "metadata": {},
     "output_type": "display_data"
    },
    {
     "data": {
      "text/plain": [
       "Adding library psom to the search path."
      ]
     },
     "metadata": {},
     "output_type": "display_data"
    },
    {
     "data": {
      "text/plain": []
     },
     "metadata": {},
     "output_type": "display_data"
    }
   ],
   "source": [
    "# Add niak hcp and psomm to oactve path\n",
    "%octave addpath(genpath('~/git/Misc'));\n",
    "%octave build_path hcp niak psom"
   ]
  },
  {
   "cell_type": "code",
   "execution_count": 20,
   "metadata": {
    "collapsed": false,
    "deletable": true,
    "editable": true
   },
   "outputs": [],
   "source": [
    "#  Set path\n",
    "path_root = '/home/yassinebha/Drive/HCP/subtypes_scores/26-10-2016/subtype_5_spm_WM_18-Jun-2017/';\n",
    "path_association =  os.path.join(path_root,'associations/');\n",
    "path_networks =  os.path.join(path_root,'networks/');"
   ]
  },
  {
   "cell_type": "code",
   "execution_count": 21,
   "metadata": {
    "collapsed": false,
    "deletable": true,
    "editable": true
   },
   "outputs": [
    {
     "data": {
      "text/plain": [
       "['cluster_1',\n",
       " 'cluster_2',\n",
       " 'cluster_3',\n",
       " 'cluster_4',\n",
       " 'cluster_5',\n",
       " 'cluster_6',\n",
       " 'cluster_7',\n",
       " 'cluster_8',\n",
       " 'cluster_9']"
      ]
     },
     "execution_count": 21,
     "metadata": {},
     "output_type": "execute_result"
    }
   ],
   "source": [
    "# List phenotypes\n",
    "list_pheno  = [f for f in os.listdir(path_association)]\n",
    "list_pheno = sorted(list_pheno)\n",
    "list_pheno"
   ]
  },
  {
   "cell_type": "code",
   "execution_count": 22,
   "metadata": {
    "collapsed": false,
    "deletable": true,
    "editable": true
   },
   "outputs": [
    {
     "data": {
      "text/plain": [
       "['tools',\n",
       " 'contrast_2bk_vs_0bk',\n",
       " 'contrast_faces_vs_places',\n",
       " 'contrast_tools_vs_places',\n",
       " '0bk',\n",
       " 'faces',\n",
       " 'body',\n",
       " 'contrast_body_vs_places',\n",
       " 'places',\n",
       " '2bk']"
      ]
     },
     "execution_count": 22,
     "metadata": {},
     "output_type": "execute_result"
    }
   ],
   "source": [
    "# List trials\n",
    "list_trial  = [f for f in os.listdir(path_networks)]\n",
    "list_trial "
   ]
  },
  {
   "cell_type": "code",
   "execution_count": 23,
   "metadata": {
    "collapsed": true,
    "deletable": true,
    "editable": true
   },
   "outputs": [],
   "source": [
    "list_subtype = ['sub1','sub2','sub3','sub4','sub5']"
   ]
  },
  {
   "cell_type": "code",
   "execution_count": 24,
   "metadata": {
    "collapsed": false,
    "deletable": true,
    "editable": true
   },
   "outputs": [],
   "source": [
    "# Create R-squared table to be used in R\n",
    "for trial_name in list_trial :\n",
    "    # build R2 table for radar plot\n",
    "    for ix, pheno_name in enumerate(list_pheno):\n",
    "        mat_file = os.path.join(path_association,pheno_name,'association_stats_{}.mat'.format(pheno_name))\n",
    "        %octave_push mat_file\n",
    "        %octave mat_load = load(mat_file);\n",
    "        %octave_pull mat_load\n",
    "        pheno_r2 = mat_load['glm_results'][trial_name]['rsquare']\n",
    "        if ix == 0:\n",
    "            pheno_r2_final = pd.Series(pheno_r2.tolist()[0])\n",
    "        else:\n",
    "            pheno_r2_final =pd.concat([pheno_r2_final,pd.Series(pheno_r2.tolist()[0])],axis=1)\n",
    "            \n",
    "    pheno_r2_final.columns = list_pheno\n",
    "    pheno_r2_final.index = list_subtype\n",
    "    pheno_r2_final = pd.DataFrame(pheno_r2_final)\n",
    "    pheno_r2_final.to_csv(os.path.join(path_root,'{}_r2.csv'.format(trial_name)))"
   ]
  },
  {
   "cell_type": "code",
   "execution_count": 25,
   "metadata": {
    "collapsed": false,
    "deletable": true,
    "editable": true
   },
   "outputs": [
    {
     "data": {
      "text/html": [
       "<div>\n",
       "<table border=\"1\" class=\"dataframe\">\n",
       "  <thead>\n",
       "    <tr style=\"text-align: right;\">\n",
       "      <th></th>\n",
       "      <th>cluster_1</th>\n",
       "      <th>cluster_2</th>\n",
       "      <th>cluster_3</th>\n",
       "      <th>cluster_4</th>\n",
       "      <th>cluster_5</th>\n",
       "      <th>cluster_6</th>\n",
       "      <th>cluster_7</th>\n",
       "      <th>cluster_8</th>\n",
       "      <th>cluster_9</th>\n",
       "    </tr>\n",
       "  </thead>\n",
       "  <tbody>\n",
       "    <tr>\n",
       "      <th>sub1</th>\n",
       "      <td>0.018980</td>\n",
       "      <td>0.026266</td>\n",
       "      <td>0.020098</td>\n",
       "      <td>0.029151</td>\n",
       "      <td>0.024777</td>\n",
       "      <td>0.018812</td>\n",
       "      <td>0.021801</td>\n",
       "      <td>0.021798</td>\n",
       "      <td>0.023655</td>\n",
       "    </tr>\n",
       "    <tr>\n",
       "      <th>sub2</th>\n",
       "      <td>0.011515</td>\n",
       "      <td>0.037321</td>\n",
       "      <td>0.018772</td>\n",
       "      <td>0.034323</td>\n",
       "      <td>0.022830</td>\n",
       "      <td>0.013471</td>\n",
       "      <td>0.019255</td>\n",
       "      <td>0.020166</td>\n",
       "      <td>0.012689</td>\n",
       "    </tr>\n",
       "    <tr>\n",
       "      <th>sub3</th>\n",
       "      <td>0.019187</td>\n",
       "      <td>0.026353</td>\n",
       "      <td>0.020498</td>\n",
       "      <td>0.029518</td>\n",
       "      <td>0.024863</td>\n",
       "      <td>0.019090</td>\n",
       "      <td>0.022354</td>\n",
       "      <td>0.022138</td>\n",
       "      <td>0.023755</td>\n",
       "    </tr>\n",
       "    <tr>\n",
       "      <th>sub4</th>\n",
       "      <td>0.019882</td>\n",
       "      <td>0.027069</td>\n",
       "      <td>0.020601</td>\n",
       "      <td>0.028370</td>\n",
       "      <td>0.025376</td>\n",
       "      <td>0.019285</td>\n",
       "      <td>0.021601</td>\n",
       "      <td>0.022039</td>\n",
       "      <td>0.024180</td>\n",
       "    </tr>\n",
       "    <tr>\n",
       "      <th>sub5</th>\n",
       "      <td>0.017722</td>\n",
       "      <td>0.027130</td>\n",
       "      <td>0.019742</td>\n",
       "      <td>0.032783</td>\n",
       "      <td>0.023912</td>\n",
       "      <td>0.017636</td>\n",
       "      <td>0.023177</td>\n",
       "      <td>0.021990</td>\n",
       "      <td>0.020877</td>\n",
       "    </tr>\n",
       "  </tbody>\n",
       "</table>\n",
       "</div>"
      ],
      "text/plain": [
       "      cluster_1  cluster_2  cluster_3  cluster_4  cluster_5  cluster_6  \\\n",
       "sub1   0.018980   0.026266   0.020098   0.029151   0.024777   0.018812   \n",
       "sub2   0.011515   0.037321   0.018772   0.034323   0.022830   0.013471   \n",
       "sub3   0.019187   0.026353   0.020498   0.029518   0.024863   0.019090   \n",
       "sub4   0.019882   0.027069   0.020601   0.028370   0.025376   0.019285   \n",
       "sub5   0.017722   0.027130   0.019742   0.032783   0.023912   0.017636   \n",
       "\n",
       "      cluster_7  cluster_8  cluster_9  \n",
       "sub1   0.021801   0.021798   0.023655  \n",
       "sub2   0.019255   0.020166   0.012689  \n",
       "sub3   0.022354   0.022138   0.023755  \n",
       "sub4   0.021601   0.022039   0.024180  \n",
       "sub5   0.023177   0.021990   0.020877  "
      ]
     },
     "execution_count": 25,
     "metadata": {},
     "output_type": "execute_result"
    }
   ],
   "source": [
    "pheno_r2_final"
   ]
  },
  {
   "cell_type": "code",
   "execution_count": 26,
   "metadata": {
    "collapsed": false,
    "deletable": true,
    "editable": true
   },
   "outputs": [],
   "source": [
    "# first time on terminal install cairo : \"sudo apt install libcairo2-dev\" then \"sudo apt-get install r-cran-stringr\"\n",
    "#devtools::install_github(\"hadley/svglite\")\n",
    "#devtools::install_github(\"ricardo-bion/ggradar\", dependencies=TRUE)"
   ]
  },
  {
   "cell_type": "code",
   "execution_count": 27,
   "metadata": {
    "collapsed": false,
    "deletable": true,
    "editable": true
   },
   "outputs": [],
   "source": [
    "%%R\n",
    "library(ggradar)\n",
    "suppressPackageStartupMessages(library(dplyr))\n",
    "library(scales)\n",
    "require(\"ggplot2\")"
   ]
  },
  {
   "cell_type": "code",
   "execution_count": 28,
   "metadata": {
    "collapsed": false,
    "deletable": true,
    "editable": true,
    "scrolled": false
   },
   "outputs": [
    {
     "name": "stdout",
     "output_type": "stream",
     "text": [
      "\n",
      "Error in ggradar(MyData, grid.min = 0, grid.mid = 0.05, grid.max = 0.1,  : \n",
      "  non-numeric argument to binary operator\n"
     ]
    }
   ],
   "source": [
    "%%R -i path_root,list_trial\n",
    "for (ii in list_trial) {\n",
    "    MyData <- read.csv(file=paste(path_root,ii,\"_r2.csv\",sep = ''))\n",
    "    # plot R2 radar plot\n",
    "    image_radar=ggradar(MyData, \n",
    "                        grid.min = 0,\n",
    "                        grid.mid = 0.05, \n",
    "                        grid.max = 0.1, \n",
    "                        axis.label.size = 5, \n",
    "                        grid.label.size = 5 ,\n",
    "                        legend.text.size =5,\n",
    "                        group.line.width = 1,\n",
    "                        group.point.size = 4)  +\n",
    "    theme(legend.text = element_text(size = 12),plot.title = element_text( face=\"bold\",size = 12)) + \n",
    "    ggtitle(paste(' Working-Memory Task : \\n  ',toupper(ii),sep = ''))\n",
    "    print(image_radar)\n",
    "    ggsave(file=paste(path_root,ii,\"_R-squared.svg\",sep = ''), plot=image_radar, width=10, height=8)\n",
    "}"
   ]
  },
  {
   "cell_type": "code",
   "execution_count": null,
   "metadata": {
    "collapsed": false,
    "deletable": true,
    "editable": true,
    "scrolled": false
   },
   "outputs": [],
   "source": [
    "# plot association wieght and phenotypes\n",
    "for trial_name in list_trial :\n",
    "    # build R2 table for radar plot\n",
    "    for ix, pheno_name in enumerate(list_pheno):\n",
    "        mat_file = os.path.join(path_association,pheno_name,'association_stats_{}.mat'.format(pheno_name))\n",
    "        %octave_push mat_file\n",
    "        %octave mat_load = load(mat_file);\n",
    "        %octave_pull mat_load\n",
    "        model_y =mat_load['model_raw']['y']\n",
    "        model_x = mat_load['model_raw']['x']\n",
    "        model_labels_x = mat_load['model_raw']['labels_x']\n",
    "        model_labels_y = mat_load['model_raw']['labels_y']\n",
    "        concat = [np.concatenate([model_y[x], model_x[x]]) for x in range(np.shape(model_y)[0])]\n",
    "        model_df = pd.DataFrame(concat)\n",
    "        model_df.index = model_labels_x\n",
    "        colnames = np.concatenate([list_subtype,model_labels_y])\n",
    "        model_df.columns = colnames\n",
    "        model_df.to_csv(os.path.join(path_root,'{}_pheno_subtype.csv'.format(trial_name)))\n",
    "        \n",
    "        # plot association maps\n",
    "        for subtype in list_subtype:\n",
    "            fig = plt.figure(figsize=(9,16))\n",
    "            ax1 = fig.add_subplot(511)\n",
    "            ax1 = sns.regplot(x=pheno_name, y=subtype, data=model_df,color=\"#BCB6FF\");\n",
    "            ax1.set_ylabel('{}_{}'.format(trial_name,subtype))\n",
    "            ax1.set_xlabel(pheno_name)"
   ]
  },
  {
   "cell_type": "code",
   "execution_count": null,
   "metadata": {
    "collapsed": true,
    "deletable": true,
    "editable": true
   },
   "outputs": [],
   "source": []
  }
 ],
 "metadata": {
  "kernelspec": {
   "display_name": "Python 3",
   "language": "python",
   "name": "python3"
  },
  "language_info": {
   "codemirror_mode": {
    "name": "ipython",
    "version": 3
   },
   "file_extension": ".py",
   "mimetype": "text/x-python",
   "name": "python",
   "nbconvert_exporter": "python",
   "pygments_lexer": "ipython3",
   "version": "3.4.3"
  },
  "widgets": {
   "state": {},
   "version": "1.1.2"
  }
 },
 "nbformat": 4,
 "nbformat_minor": 2
}
