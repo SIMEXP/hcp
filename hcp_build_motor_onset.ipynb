{
 "cells": [
  {
   "cell_type": "markdown",
   "metadata": {},
   "source": [
    "### Build onset file for motor task"
   ]
  },
  {
   "cell_type": "markdown",
   "metadata": {},
   "source": [
    "- this script read raw onset file and format them to be fed on the spm pipeline"
   ]
  },
  {
   "cell_type": "code",
   "execution_count": 1,
   "metadata": {
    "collapsed": true
   },
   "outputs": [],
   "source": [
    "# Import\n",
    "import os\n",
    "import pandas as pd"
   ]
  },
  {
   "cell_type": "code",
   "execution_count": 2,
   "metadata": {
    "collapsed": true
   },
   "outputs": [],
   "source": [
    "%matplotlib inline"
   ]
  },
  {
   "cell_type": "code",
   "execution_count": 48,
   "metadata": {
    "collapsed": false
   },
   "outputs": [
    {
     "data": {
      "text/plain": [
       "['lh.txt', 'rf.txt', 'rh.txt', 'lf.txt', 't.txt']"
      ]
     },
     "execution_count": 48,
     "metadata": {},
     "output_type": "execute_result"
    }
   ],
   "source": [
    "# Set path\n",
    "path_root = \"/media/yassinebha/database28/Drive/HCP/\"\n",
    "path_eprime = os.path.join(path_root,\"subtypes_scores/26-10-2016/pheno/tmp_motor_eprime/LINKED_DATA/EPRIME/EVs/\")\n",
    "# Get trial list\n",
    "trial_files = os.listdir(path_eprime)\n",
    "trial_files.remove('Sync.txt')\n",
    "trial_files.remove('cue.txt')\n",
    "trial_files"
   ]
  },
  {
   "cell_type": "code",
   "execution_count": 51,
   "metadata": {
    "collapsed": false
   },
   "outputs": [],
   "source": [
    "#Loop over trials and buid onset file\n",
    "eprime_final = pd.DataFrame()\n",
    "for trial_f in trial_files :\n",
    "    trial = trial_f[:-4] \n",
    "    eprime = pd.read_csv(os.path.join(path_eprime,trial_f), sep='\\t',header=None)\n",
    "\n",
    "    # Add onset_trial name\n",
    "    onset_list = [trial.format(row) for ind, row in eprime.iterrows()]\n",
    "    eprime.loc[:,''] = onset_list\n",
    "\n",
    "    # re-arrange colomns\n",
    "    cols = eprime.columns.tolist()\n",
    "    cols = cols[-1:] + cols[:-1]\n",
    "    eprime = eprime[cols]\n",
    "\n",
    "    # append to other trial\n",
    "    eprime_final = eprime_final.append(eprime)\n",
    "    eprime_final\n",
    "\n",
    "# Put header\n",
    "eprime_final.rename(columns={0:'start',1:'duration',2:'repetition'},inplace=True)\n",
    "\n",
    "# Save final onset file \n",
    "eprime_final.to_csv(os.path.join(path_root,'subtypes_scores/26-10-2016/pheno/tmp_motor_eprime/LINKED_DATA/EPRIME/motor_onset.csv'),index=False)"
   ]
  },
  {
   "cell_type": "code",
   "execution_count": 52,
   "metadata": {
    "collapsed": false
   },
   "outputs": [
    {
     "data": {
      "text/html": [
       "<div>\n",
       "<table border=\"1\" class=\"dataframe\">\n",
       "  <thead>\n",
       "    <tr style=\"text-align: right;\">\n",
       "      <th></th>\n",
       "      <th></th>\n",
       "      <th>start</th>\n",
       "      <th>duration</th>\n",
       "      <th>repetition</th>\n",
       "    </tr>\n",
       "  </thead>\n",
       "  <tbody>\n",
       "    <tr>\n",
       "      <th>0</th>\n",
       "      <td>lh</td>\n",
       "      <td>11.009</td>\n",
       "      <td>12</td>\n",
       "      <td>1</td>\n",
       "    </tr>\n",
       "    <tr>\n",
       "      <th>1</th>\n",
       "      <td>lh</td>\n",
       "      <td>116.633</td>\n",
       "      <td>12</td>\n",
       "      <td>1</td>\n",
       "    </tr>\n",
       "    <tr>\n",
       "      <th>0</th>\n",
       "      <td>rf</td>\n",
       "      <td>26.136</td>\n",
       "      <td>12</td>\n",
       "      <td>1</td>\n",
       "    </tr>\n",
       "    <tr>\n",
       "      <th>1</th>\n",
       "      <td>rf</td>\n",
       "      <td>146.888</td>\n",
       "      <td>12</td>\n",
       "      <td>1</td>\n",
       "    </tr>\n",
       "    <tr>\n",
       "      <th>0</th>\n",
       "      <td>rh</td>\n",
       "      <td>86.512</td>\n",
       "      <td>12</td>\n",
       "      <td>1</td>\n",
       "    </tr>\n",
       "    <tr>\n",
       "      <th>1</th>\n",
       "      <td>rh</td>\n",
       "      <td>162.015</td>\n",
       "      <td>12</td>\n",
       "      <td>1</td>\n",
       "    </tr>\n",
       "    <tr>\n",
       "      <th>0</th>\n",
       "      <td>lf</td>\n",
       "      <td>71.384</td>\n",
       "      <td>12</td>\n",
       "      <td>1</td>\n",
       "    </tr>\n",
       "    <tr>\n",
       "      <th>1</th>\n",
       "      <td>lf</td>\n",
       "      <td>177.142</td>\n",
       "      <td>12</td>\n",
       "      <td>1</td>\n",
       "    </tr>\n",
       "    <tr>\n",
       "      <th>0</th>\n",
       "      <td>t</td>\n",
       "      <td>56.257</td>\n",
       "      <td>12</td>\n",
       "      <td>1</td>\n",
       "    </tr>\n",
       "    <tr>\n",
       "      <th>1</th>\n",
       "      <td>t</td>\n",
       "      <td>131.760</td>\n",
       "      <td>12</td>\n",
       "      <td>1</td>\n",
       "    </tr>\n",
       "  </tbody>\n",
       "</table>\n",
       "</div>"
      ],
      "text/plain": [
       "         start  duration  repetition\n",
       "0  lh   11.009        12           1\n",
       "1  lh  116.633        12           1\n",
       "0  rf   26.136        12           1\n",
       "1  rf  146.888        12           1\n",
       "0  rh   86.512        12           1\n",
       "1  rh  162.015        12           1\n",
       "0  lf   71.384        12           1\n",
       "1  lf  177.142        12           1\n",
       "0   t   56.257        12           1\n",
       "1   t  131.760        12           1"
      ]
     },
     "execution_count": 52,
     "metadata": {},
     "output_type": "execute_result"
    }
   ],
   "source": [
    "eprime_final"
   ]
  }
 ],
 "metadata": {
  "kernelspec": {
   "display_name": "Python 3",
   "language": "python",
   "name": "python3"
  },
  "language_info": {
   "codemirror_mode": {
    "name": "ipython",
    "version": 3
   },
   "file_extension": ".py",
   "mimetype": "text/x-python",
   "name": "python",
   "nbconvert_exporter": "python",
   "pygments_lexer": "ipython3",
   "version": "3.4.3"
  },
  "widgets": {
   "state": {},
   "version": "1.1.2"
  }
 },
 "nbformat": 4,
 "nbformat_minor": 0
}
