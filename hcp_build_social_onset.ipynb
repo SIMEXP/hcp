{
 "cells": [
  {
   "cell_type": "markdown",
   "metadata": {
    "deletable": true,
    "editable": true
   },
   "source": [
    "### Build onset file for Social task"
   ]
  },
  {
   "cell_type": "markdown",
   "metadata": {
    "deletable": true,
    "editable": true
   },
   "source": [
    "- this script read raw onset file and format them to be fed on the spm pipeline"
   ]
  },
  {
   "cell_type": "code",
   "execution_count": 8,
   "metadata": {
    "collapsed": true,
    "deletable": true,
    "editable": true
   },
   "outputs": [],
   "source": [
    "# Import\n",
    "import os\n",
    "import pandas as pd"
   ]
  },
  {
   "cell_type": "code",
   "execution_count": 9,
   "metadata": {
    "collapsed": true,
    "deletable": true,
    "editable": true
   },
   "outputs": [],
   "source": [
    "%matplotlib inline"
   ]
  },
  {
   "cell_type": "code",
   "execution_count": 10,
   "metadata": {
    "collapsed": false
   },
   "outputs": [
    {
     "data": {
      "text/plain": [
       "['rnd', 'mental']"
      ]
     },
     "execution_count": 10,
     "metadata": {},
     "output_type": "execute_result"
    }
   ],
   "source": [
    "# Set path\n",
    "path_root = \"/home/yassinebha/Drive/HCP/subtypes_scores/26-10-2016/\"\n",
    "path_eprime = os.path.join(path_root,\"pheno/tmp_social_eprime/LINKED_DATA/EPRIME/EVs/\")\n",
    "trial_files = os.listdir(path_eprime)\n",
    "dump_tmp =[trial_files.remove(ii) for ii in ('SOCIAL_Stats.csv','Sync.txt','other_resp.txt','mental_resp.txt')]\n",
    "list_tmp = [x[:-4] for x in trial_files]\n",
    "list_tmp"
   ]
  },
  {
   "cell_type": "code",
   "execution_count": 11,
   "metadata": {
    "collapsed": true
   },
   "outputs": [],
   "source": [
    "#Loop over trials and buid onset file\n",
    "eprime_final = pd.DataFrame()\n",
    "for trial_f in trial_files :\n",
    "    trial = trial_f[:-4] \n",
    "    eprime = pd.read_csv(os.path.join(path_eprime,trial_f), sep='\\t',header=None)\n",
    "\n",
    "    # Add onset_trial name\n",
    "    onset_list = [trial.format(row) for ind, row in eprime.iterrows()]\n",
    "    eprime.loc[:,''] = onset_list\n",
    "\n",
    "    # re-arrange colomns\n",
    "    cols = eprime.columns.tolist()\n",
    "    cols = cols[-1:] + cols[:-1]\n",
    "    eprime = eprime[cols]\n",
    "\n",
    "    # append to other trial\n",
    "    eprime_final = eprime_final.append(eprime)\n",
    "    eprime_final\n",
    "\n",
    "# Put header\n",
    "eprime_final.rename(columns={0:'start',1:'duration',2:'repetition'},inplace=True)\n",
    "\n",
    "# Save final onset file \n",
    "eprime_final.to_csv(os.path.join(path_root,'pheno/tmp_social_eprime/LINKED_DATA/EPRIME/social_onset.csv'),index=False)"
   ]
  },
  {
   "cell_type": "code",
   "execution_count": 12,
   "metadata": {
    "collapsed": false
   },
   "outputs": [
    {
     "data": {
      "text/html": [
       "<div>\n",
       "<table border=\"1\" class=\"dataframe\">\n",
       "  <thead>\n",
       "    <tr style=\"text-align: right;\">\n",
       "      <th></th>\n",
       "      <th></th>\n",
       "      <th>start</th>\n",
       "      <th>duration</th>\n",
       "      <th>repetition</th>\n",
       "    </tr>\n",
       "  </thead>\n",
       "  <tbody>\n",
       "    <tr>\n",
       "      <th>0</th>\n",
       "      <td>rnd</td>\n",
       "      <td>84.032</td>\n",
       "      <td>23</td>\n",
       "      <td>1</td>\n",
       "    </tr>\n",
       "    <tr>\n",
       "      <th>1</th>\n",
       "      <td>rnd</td>\n",
       "      <td>160.081</td>\n",
       "      <td>23</td>\n",
       "      <td>1</td>\n",
       "    </tr>\n",
       "    <tr>\n",
       "      <th>0</th>\n",
       "      <td>mental</td>\n",
       "      <td>8.197</td>\n",
       "      <td>23</td>\n",
       "      <td>1</td>\n",
       "    </tr>\n",
       "    <tr>\n",
       "      <th>1</th>\n",
       "      <td>mental</td>\n",
       "      <td>46.008</td>\n",
       "      <td>23</td>\n",
       "      <td>1</td>\n",
       "    </tr>\n",
       "    <tr>\n",
       "      <th>2</th>\n",
       "      <td>mental</td>\n",
       "      <td>122.056</td>\n",
       "      <td>23</td>\n",
       "      <td>1</td>\n",
       "    </tr>\n",
       "  </tbody>\n",
       "</table>\n",
       "</div>"
      ],
      "text/plain": [
       "             start  duration  repetition\n",
       "0     rnd   84.032        23           1\n",
       "1     rnd  160.081        23           1\n",
       "0  mental    8.197        23           1\n",
       "1  mental   46.008        23           1\n",
       "2  mental  122.056        23           1"
      ]
     },
     "execution_count": 12,
     "metadata": {},
     "output_type": "execute_result"
    }
   ],
   "source": [
    "eprime_final"
   ]
  }
 ],
 "metadata": {
  "kernelspec": {
   "display_name": "Python 3",
   "language": "python",
   "name": "python3"
  },
  "language_info": {
   "codemirror_mode": {
    "name": "ipython",
    "version": 3
   },
   "file_extension": ".py",
   "mimetype": "text/x-python",
   "name": "python",
   "nbconvert_exporter": "python",
   "pygments_lexer": "ipython3",
   "version": "3.4.3"
  },
  "widgets": {
   "state": {},
   "version": "1.1.2"
  }
 },
 "nbformat": 4,
 "nbformat_minor": 0
}
