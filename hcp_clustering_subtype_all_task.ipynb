{
 "cells": [
  {
   "cell_type": "markdown",
   "metadata": {
    "deletable": true,
    "editable": true
   },
   "source": [
    "# Bootstrap analysis of all task's subtypes"
   ]
  },
  {
   "cell_type": "code",
   "execution_count": 62,
   "metadata": {
    "collapsed": true,
    "deletable": true,
    "editable": true
   },
   "outputs": [],
   "source": [
    "import os\n",
    "import numpy as np\n",
    "import pandas as pd\n",
    "import nibabel as nib"
   ]
  },
  {
   "cell_type": "code",
   "execution_count": 2,
   "metadata": {
    "collapsed": false,
    "deletable": true,
    "editable": true
   },
   "outputs": [],
   "source": [
    "# load good stuff\n",
    "%matplotlib inline\n",
    "%load_ext rpy2.ipython\n",
    "%load_ext oct2py.ipython"
   ]
  },
  {
   "cell_type": "code",
   "execution_count": 3,
   "metadata": {
    "collapsed": true,
    "deletable": true,
    "editable": true
   },
   "outputs": [],
   "source": [
    "import warnings\n",
    "warnings.filterwarnings('ignore')"
   ]
  },
  {
   "cell_type": "code",
   "execution_count": 4,
   "metadata": {
    "collapsed": false,
    "deletable": true,
    "editable": true
   },
   "outputs": [
    {
     "data": {
      "text/plain": [
       "Adding library hcp to the search path."
      ]
     },
     "metadata": {},
     "output_type": "display_data"
    },
    {
     "data": {
      "text/plain": []
     },
     "metadata": {},
     "output_type": "display_data"
    },
    {
     "data": {
      "text/plain": [
       "Adding library niak to the search path."
      ]
     },
     "metadata": {},
     "output_type": "display_data"
    },
    {
     "data": {
      "text/plain": []
     },
     "metadata": {},
     "output_type": "display_data"
    },
    {
     "data": {
      "text/plain": [
       "Adding library psom to the search path."
      ]
     },
     "metadata": {},
     "output_type": "display_data"
    },
    {
     "data": {
      "text/plain": []
     },
     "metadata": {},
     "output_type": "display_data"
    }
   ],
   "source": [
    "# Add niak hcp and psomm to oactve path\n",
    "%octave addpath(genpath('~/git/Misc'));\n",
    "%octave build_path hcp niak psom"
   ]
  },
  {
   "cell_type": "code",
   "execution_count": 61,
   "metadata": {
    "collapsed": true,
    "deletable": true,
    "editable": true
   },
   "outputs": [],
   "source": [
    "#  Set path\n",
    "path_root = '/home/yassinebha/Drive/HCP/subtypes_scores/26-10-2016/pheno'\n",
    "mask_path = '/home/yassinebha/Drive/HCP/subtypes_scores/26-10-2016/mask_roi_resample.nii.gz'"
   ]
  },
  {
   "cell_type": "code",
   "execution_count": 6,
   "metadata": {
    "collapsed": false,
    "deletable": true,
    "editable": true
   },
   "outputs": [],
   "source": [
    "df_stack = pd.read_csv(os.path.join(path_root,'all_subtype_stack.csv'))"
   ]
  },
  {
   "cell_type": "code",
   "execution_count": 7,
   "metadata": {
    "collapsed": false,
    "deletable": true,
    "editable": true
   },
   "outputs": [
    {
     "data": {
      "text/html": [
       "<div>\n",
       "<table border=\"1\" class=\"dataframe\">\n",
       "  <thead>\n",
       "    <tr style=\"text-align: right;\">\n",
       "      <th></th>\n",
       "      <th>sub1_fear</th>\n",
       "      <th>sub2_fear</th>\n",
       "      <th>sub3_fear</th>\n",
       "      <th>sub4_fear</th>\n",
       "      <th>sub5_fear</th>\n",
       "      <th>sub1_contrast_loss_event_vs_neut_event</th>\n",
       "      <th>sub2_contrast_loss_event_vs_neut_event</th>\n",
       "      <th>sub3_contrast_loss_event_vs_neut_event</th>\n",
       "      <th>sub4_contrast_loss_event_vs_neut_event</th>\n",
       "      <th>sub5_contrast_loss_event_vs_neut_event</th>\n",
       "      <th>...</th>\n",
       "      <th>sub1_places</th>\n",
       "      <th>sub2_places</th>\n",
       "      <th>sub3_places</th>\n",
       "      <th>sub4_places</th>\n",
       "      <th>sub5_places</th>\n",
       "      <th>sub1_2bk</th>\n",
       "      <th>sub2_2bk</th>\n",
       "      <th>sub3_2bk</th>\n",
       "      <th>sub4_2bk</th>\n",
       "      <th>sub5_2bk</th>\n",
       "    </tr>\n",
       "  </thead>\n",
       "  <tbody>\n",
       "    <tr>\n",
       "      <th>0</th>\n",
       "      <td>-0.000026</td>\n",
       "      <td>-0.000010</td>\n",
       "      <td>3.400174e-06</td>\n",
       "      <td>1.969976e-05</td>\n",
       "      <td>0.000001</td>\n",
       "      <td>-2.722667e-04</td>\n",
       "      <td>0.000034</td>\n",
       "      <td>3.307610e-05</td>\n",
       "      <td>0.000092</td>\n",
       "      <td>-0.000035</td>\n",
       "      <td>...</td>\n",
       "      <td>7.089784e-05</td>\n",
       "      <td>0.000071</td>\n",
       "      <td>2.997301e-06</td>\n",
       "      <td>-0.000042</td>\n",
       "      <td>-0.000037</td>\n",
       "      <td>0.000049</td>\n",
       "      <td>-0.000026</td>\n",
       "      <td>0.000066</td>\n",
       "      <td>-0.000129</td>\n",
       "      <td>3.228139e-06</td>\n",
       "    </tr>\n",
       "    <tr>\n",
       "      <th>1</th>\n",
       "      <td>-0.000030</td>\n",
       "      <td>-0.000050</td>\n",
       "      <td>7.557251e-05</td>\n",
       "      <td>1.935898e-05</td>\n",
       "      <td>-0.000020</td>\n",
       "      <td>-2.416968e-05</td>\n",
       "      <td>-0.000024</td>\n",
       "      <td>-9.189761e-05</td>\n",
       "      <td>0.000128</td>\n",
       "      <td>-0.000043</td>\n",
       "      <td>...</td>\n",
       "      <td>5.864750e-05</td>\n",
       "      <td>-0.000017</td>\n",
       "      <td>3.228650e-05</td>\n",
       "      <td>-0.000051</td>\n",
       "      <td>-0.000006</td>\n",
       "      <td>0.000039</td>\n",
       "      <td>-0.000018</td>\n",
       "      <td>0.000081</td>\n",
       "      <td>-0.000160</td>\n",
       "      <td>8.092133e-06</td>\n",
       "    </tr>\n",
       "    <tr>\n",
       "      <th>2</th>\n",
       "      <td>-0.000037</td>\n",
       "      <td>-0.000062</td>\n",
       "      <td>2.097875e-04</td>\n",
       "      <td>-5.504649e-05</td>\n",
       "      <td>-0.000034</td>\n",
       "      <td>7.750296e-05</td>\n",
       "      <td>0.000105</td>\n",
       "      <td>-1.515700e-04</td>\n",
       "      <td>0.000077</td>\n",
       "      <td>-0.000081</td>\n",
       "      <td>...</td>\n",
       "      <td>3.866714e-05</td>\n",
       "      <td>0.000037</td>\n",
       "      <td>-2.390819e-06</td>\n",
       "      <td>0.000006</td>\n",
       "      <td>-0.000032</td>\n",
       "      <td>-0.000008</td>\n",
       "      <td>-0.000013</td>\n",
       "      <td>0.000030</td>\n",
       "      <td>-0.000075</td>\n",
       "      <td>3.030099e-05</td>\n",
       "    </tr>\n",
       "    <tr>\n",
       "      <th>3</th>\n",
       "      <td>0.000001</td>\n",
       "      <td>0.000018</td>\n",
       "      <td>-1.056633e-05</td>\n",
       "      <td>2.286825e-06</td>\n",
       "      <td>-0.000005</td>\n",
       "      <td>-8.490994e-06</td>\n",
       "      <td>0.000001</td>\n",
       "      <td>6.710994e-06</td>\n",
       "      <td>0.000010</td>\n",
       "      <td>-0.000013</td>\n",
       "      <td>...</td>\n",
       "      <td>-2.469192e-07</td>\n",
       "      <td>0.000003</td>\n",
       "      <td>-6.788072e-07</td>\n",
       "      <td>-0.000007</td>\n",
       "      <td>0.000003</td>\n",
       "      <td>0.000010</td>\n",
       "      <td>-0.000011</td>\n",
       "      <td>-0.000003</td>\n",
       "      <td>0.000002</td>\n",
       "      <td>2.005255e-06</td>\n",
       "    </tr>\n",
       "    <tr>\n",
       "      <th>4</th>\n",
       "      <td>-0.000007</td>\n",
       "      <td>0.000009</td>\n",
       "      <td>5.834449e-07</td>\n",
       "      <td>7.194440e-07</td>\n",
       "      <td>-0.000002</td>\n",
       "      <td>8.046937e-07</td>\n",
       "      <td>0.000002</td>\n",
       "      <td>5.579041e-07</td>\n",
       "      <td>-0.000009</td>\n",
       "      <td>0.000007</td>\n",
       "      <td>...</td>\n",
       "      <td>9.066289e-07</td>\n",
       "      <td>0.000009</td>\n",
       "      <td>-9.413969e-07</td>\n",
       "      <td>-0.000012</td>\n",
       "      <td>0.000003</td>\n",
       "      <td>0.000006</td>\n",
       "      <td>-0.000010</td>\n",
       "      <td>-0.000004</td>\n",
       "      <td>0.000011</td>\n",
       "      <td>4.487713e-07</td>\n",
       "    </tr>\n",
       "  </tbody>\n",
       "</table>\n",
       "<p>5 rows × 170 columns</p>\n",
       "</div>"
      ],
      "text/plain": [
       "   sub1_fear  sub2_fear     sub3_fear     sub4_fear  sub5_fear  \\\n",
       "0  -0.000026  -0.000010  3.400174e-06  1.969976e-05   0.000001   \n",
       "1  -0.000030  -0.000050  7.557251e-05  1.935898e-05  -0.000020   \n",
       "2  -0.000037  -0.000062  2.097875e-04 -5.504649e-05  -0.000034   \n",
       "3   0.000001   0.000018 -1.056633e-05  2.286825e-06  -0.000005   \n",
       "4  -0.000007   0.000009  5.834449e-07  7.194440e-07  -0.000002   \n",
       "\n",
       "   sub1_contrast_loss_event_vs_neut_event  \\\n",
       "0                           -2.722667e-04   \n",
       "1                           -2.416968e-05   \n",
       "2                            7.750296e-05   \n",
       "3                           -8.490994e-06   \n",
       "4                            8.046937e-07   \n",
       "\n",
       "   sub2_contrast_loss_event_vs_neut_event  \\\n",
       "0                                0.000034   \n",
       "1                               -0.000024   \n",
       "2                                0.000105   \n",
       "3                                0.000001   \n",
       "4                                0.000002   \n",
       "\n",
       "   sub3_contrast_loss_event_vs_neut_event  \\\n",
       "0                            3.307610e-05   \n",
       "1                           -9.189761e-05   \n",
       "2                           -1.515700e-04   \n",
       "3                            6.710994e-06   \n",
       "4                            5.579041e-07   \n",
       "\n",
       "   sub4_contrast_loss_event_vs_neut_event  \\\n",
       "0                                0.000092   \n",
       "1                                0.000128   \n",
       "2                                0.000077   \n",
       "3                                0.000010   \n",
       "4                               -0.000009   \n",
       "\n",
       "   sub5_contrast_loss_event_vs_neut_event      ...        sub1_places  \\\n",
       "0                               -0.000035      ...       7.089784e-05   \n",
       "1                               -0.000043      ...       5.864750e-05   \n",
       "2                               -0.000081      ...       3.866714e-05   \n",
       "3                               -0.000013      ...      -2.469192e-07   \n",
       "4                                0.000007      ...       9.066289e-07   \n",
       "\n",
       "   sub2_places   sub3_places  sub4_places  sub5_places  sub1_2bk  sub2_2bk  \\\n",
       "0     0.000071  2.997301e-06    -0.000042    -0.000037  0.000049 -0.000026   \n",
       "1    -0.000017  3.228650e-05    -0.000051    -0.000006  0.000039 -0.000018   \n",
       "2     0.000037 -2.390819e-06     0.000006    -0.000032 -0.000008 -0.000013   \n",
       "3     0.000003 -6.788072e-07    -0.000007     0.000003  0.000010 -0.000011   \n",
       "4     0.000009 -9.413969e-07    -0.000012     0.000003  0.000006 -0.000010   \n",
       "\n",
       "   sub3_2bk  sub4_2bk      sub5_2bk  \n",
       "0  0.000066 -0.000129  3.228139e-06  \n",
       "1  0.000081 -0.000160  8.092133e-06  \n",
       "2  0.000030 -0.000075  3.030099e-05  \n",
       "3 -0.000003  0.000002  2.005255e-06  \n",
       "4 -0.000004  0.000011  4.487713e-07  \n",
       "\n",
       "[5 rows x 170 columns]"
      ]
     },
     "execution_count": 7,
     "metadata": {},
     "output_type": "execute_result"
    }
   ],
   "source": [
    "df_stack.head()"
   ]
  },
  {
   "cell_type": "code",
   "execution_count": 8,
   "metadata": {
    "collapsed": false,
    "deletable": true,
    "editable": true
   },
   "outputs": [],
   "source": [
    "# extract all table value\n",
    "y = df_stack.loc[:].values\n",
    "LABELS_Y = list(df_stack.columns.values)"
   ]
  },
  {
   "cell_type": "code",
   "execution_count": 9,
   "metadata": {
    "collapsed": false,
    "deletable": true,
    "editable": true
   },
   "outputs": [],
   "source": [
    "# push it to octave\n",
    "%octave_push y\n",
    "%octave_push LABELS_Y\n",
    "%octave LABELS_Y = LABELS_Y';"
   ]
  },
  {
   "cell_type": "markdown",
   "metadata": {
    "deletable": true,
    "editable": true
   },
   "source": [
    "We compute the spatial correlation matrix (across subjects) to see how the cluster structure looks.  "
   ]
  },
  {
   "cell_type": "code",
   "execution_count": 10,
   "metadata": {
    "collapsed": false,
    "deletable": true,
    "editable": true
   },
   "outputs": [
    {
     "data": {
      "text/plain": [
       "ans =  1"
      ]
     },
     "metadata": {},
     "output_type": "display_data"
    },
    {
     "data": {
      "image/png": "[encoded data removed]",
      "text/plain": [
       "<IPython.core.display.Image object>"
      ]
     },
     "metadata": {},
     "output_type": "display_data"
    }
   ],
   "source": [
    "%%octave\n",
    "nb_cluster =8;   %# of clusters \n",
    "R = corr(y);\n",
    "title('Spatial correlation matrix')\n",
    "niak_visu_matrix(R), axis square"
   ]
  },
  {
   "cell_type": "markdown",
   "metadata": {
    "deletable": true,
    "editable": true
   },
   "source": [
    "the cluster structure is clear, but noisy. Let's run a hierarchical clustering and see if we can recover it. "
   ]
  },
  {
   "cell_type": "code",
   "execution_count": 11,
   "metadata": {
    "collapsed": false,
    "deletable": true,
    "editable": true
   },
   "outputs": [
    {
     "data": {
      "text/plain": [
       "     Percentage done : 0 5 10 15 20 25 30 36 40 46 50 55 60 65 70 75 80 85 91 95 100 Done ! "
      ]
     },
     "metadata": {},
     "output_type": "display_data"
    },
    {
     "data": {
      "image/png": "[encoded data removed]",
      "text/plain": [
       "<IPython.core.display.Image object>"
      ]
     },
     "metadata": {},
     "output_type": "display_data"
    }
   ],
   "source": [
    "%%octave\n",
    "hier = niak_hierarchical_clustering(R); % The similarity-based hierarchical clustering\n",
    "part = niak_threshold_hierarchy(hier,struct('thresh',nb_cluster)); % threshold the hierarchy to get 3 clusters\n",
    "niak_visu_part(part) % visualize the partition"
   ]
  },
  {
   "cell_type": "markdown",
   "metadata": {
    "deletable": true,
    "editable": true
   },
   "source": [
    "If the clustering had done a perfect job, we would have squares on the diagonal.let's odre it"
   ]
  },
  {
   "cell_type": "code",
   "execution_count": 12,
   "metadata": {
    "collapsed": false,
    "deletable": true,
    "editable": true
   },
   "outputs": [
    {
     "data": {
      "image/png": "[encoded data removed]",
      "text/plain": [
       "<IPython.core.display.Image object>"
      ]
     },
     "metadata": {},
     "output_type": "display_data"
    }
   ],
   "source": [
    "%%octave\n",
    "order = niak_hier2order(hier); % order the regions based on the hierarchy\n",
    "subplot(1,2,1)\n",
    "% Re-order the correlation matrix\n",
    "title('re-ordered correlation matrix')\n",
    "imagesc(R(order,order)), axis square, colorbar\n",
    "subplot(1,2,2)\n",
    "% Show the re-ordered partition\n",
    "title('re-ordered partition')\n",
    "niak_visu_part(part(order)), axis square"
   ]
  },
  {
   "cell_type": "code",
   "execution_count": 13,
   "metadata": {
    "collapsed": false,
    "deletable": true,
    "editable": true
   },
   "outputs": [
    {
     "data": {
      "image/png": "[encoded data removed]",
      "text/plain": [
       "<IPython.core.display.Image object>"
      ]
     },
     "metadata": {},
     "output_type": "display_data"
    }
   ],
   "source": [
    "%octave niak_visu_dendrogram(hier)"
   ]
  },
  {
   "cell_type": "markdown",
   "metadata": {
    "deletable": true,
    "editable": true
   },
   "source": [
    "## boostrap analysis of stable clusters\n",
    " "
   ]
  },
  {
   "cell_type": "code",
   "execution_count": 14,
   "metadata": {
    "collapsed": false,
    "deletable": true,
    "editable": true
   },
   "outputs": [
    {
     "data": {
      "text/plain": [
       "    Percentage done: 5 10 15 20 25 30 35 40 45 50 55 60 65 70 75 80 85 90 95 100"
      ]
     },
     "metadata": {},
     "output_type": "display_data"
    }
   ],
   "source": [
    "%%octave\n",
    "nb_samp = 100;\n",
    "opt_b.block_length = 1; % That's a parameter for the bootstrap. We treat the subjects as independent observations. \n",
    "for ss = 1:nb_samp\n",
    "    niak_progress(ss,nb_samp)\n",
    "    y_s = niak_bootstrap_tseries(y,opt_b); % Bootstrap the subjects\n",
    "    R_s = corr(y_s); % compute the correlation matrix for the bootstrap sample\n",
    "    hier = niak_hierarchical_clustering(R_s,struct('flag_verbose',false)); % replication the hierarchical clustering\n",
    "    part = niak_threshold_hierarchy(hier,struct('thresh',nb_cluster)); % Cut the hierarchy to get clusters\n",
    "    mat = niak_part2mat(part,true); % convert the partition into an adjacency matrix\n",
    "    if ss == 1; stab = mat; else stab = stab+mat; end; % Add all adjacency matrices\n",
    "end\n",
    "stab = stab / nb_samp; % Divide by the number of replications to get the stability matrix"
   ]
  },
  {
   "cell_type": "markdown",
   "metadata": {
    "deletable": true,
    "editable": true
   },
   "source": [
    "Let's have a look at the stability matrix:"
   ]
  },
  {
   "cell_type": "code",
   "execution_count": 15,
   "metadata": {
    "collapsed": false,
    "deletable": true,
    "editable": true
   },
   "outputs": [
    {
     "data": {
      "image/png": "[encoded data removed]",
      "text/plain": [
       "<IPython.core.display.Image object>"
      ]
     },
     "metadata": {},
     "output_type": "display_data"
    }
   ],
   "source": [
    "%octave imagesc(stab), axis square, colormap(jet), colorbar"
   ]
  },
  {
   "cell_type": "code",
   "execution_count": 16,
   "metadata": {
    "collapsed": false,
    "deletable": true,
    "editable": true
   },
   "outputs": [
    {
     "data": {
      "text/plain": [
       "     Percentage done : 0 5 10 15 20 25 30 36 40 46 50 55 60 65 70 75 80 85 91 95 100 Done ! "
      ]
     },
     "metadata": {},
     "output_type": "display_data"
    },
    {
     "data": {
      "image/png": "[encoded data removed]",
      "text/plain": [
       "<IPython.core.display.Image object>"
      ]
     },
     "metadata": {},
     "output_type": "display_data"
    }
   ],
   "source": [
    "%%octave\n",
    "nb_cluster =7;   % # of clusters \n",
    "hier_consensus = niak_hierarchical_clustering(stab); % run a hierarchical clustering on the stability matrix\n",
    "part_consensus = niak_threshold_hierarchy(hier_consensus,struct('thresh',nb_cluster)); % cut the consensus hierarchy\n",
    "niak_visu_part(part_consensus), axis square, colormap(jet) % visualize the consensus partition"
   ]
  },
  {
   "cell_type": "code",
   "execution_count": 17,
   "metadata": {
    "collapsed": false,
    "deletable": true,
    "editable": true
   },
   "outputs": [
    {
     "data": {
      "image/png": "[encoded data removed]",
      "text/plain": [
       "<IPython.core.display.Image object>"
      ]
     },
     "metadata": {},
     "output_type": "display_data"
    }
   ],
   "source": [
    "%%octave\n",
    "order_consensus = niak_hier2order(hier_consensus); % order the regions based on the hierarchy\n",
    "subplot(1,2,1)\n",
    "% Re-order the correlation matrix\n",
    "title('re-ordered consensus matrix')\n",
    "imagesc(stab(order_consensus,order_consensus)), axis square, colorbar\n",
    "subplot(1,2,2)\n",
    "% Show the re-ordered partition\n",
    "title('re-ordered partition')\n",
    "niak_visu_part(part_consensus(order_consensus)), axis square"
   ]
  },
  {
   "cell_type": "code",
   "execution_count": 18,
   "metadata": {
    "collapsed": false,
    "deletable": true,
    "editable": true
   },
   "outputs": [],
   "source": [
    "#niak_visu_dendrogram(hier_consensus)"
   ]
  },
  {
   "cell_type": "code",
   "execution_count": 19,
   "metadata": {
    "collapsed": false,
    "deletable": true,
    "editable": true
   },
   "outputs": [
    {
     "data": {
      "text/plain": [
       "ans =  1"
      ]
     },
     "metadata": {},
     "output_type": "display_data"
    },
    {
     "data": {
      "image/png": "[encoded data removed]",
      "text/plain": [
       "<IPython.core.display.Image object>"
      ]
     },
     "metadata": {},
     "output_type": "display_data"
    }
   ],
   "source": [
    "%%octave\n",
    "% Re-order the correlation matrix\n",
    "title('re-ordered correlation matrix')\n",
    "niak_visu_matrix(R(order_consensus,order_consensus)), axis square, colorbar\n"
   ]
  },
  {
   "cell_type": "code",
   "execution_count": 74,
   "metadata": {
    "collapsed": false,
    "scrolled": false
   },
   "outputs": [
    {
     "data": {
      "text/plain": [
       "Cluster 1: "
      ]
     },
     "metadata": {},
     "output_type": "display_data"
    },
    {
     "data": {
      "text/plain": [
       "     sub4_contrast_loss_event_vs_neut_event "
      ]
     },
     "metadata": {},
     "output_type": "display_data"
    },
    {
     "data": {
      "text/plain": [
       "     sub3_win_event "
      ]
     },
     "metadata": {},
     "output_type": "display_data"
    },
    {
     "data": {
      "text/plain": [
       "     sub1_contrast_win_vs_loss "
      ]
     },
     "metadata": {},
     "output_type": "display_data"
    },
    {
     "data": {
      "text/plain": [
       "     sub2_loss "
      ]
     },
     "metadata": {},
     "output_type": "display_data"
    },
    {
     "data": {
      "text/plain": [
       "     sub4_neut_event "
      ]
     },
     "metadata": {},
     "output_type": "display_data"
    },
    {
     "data": {
      "text/plain": [
       "     sub3_t "
      ]
     },
     "metadata": {},
     "output_type": "display_data"
    },
    {
     "data": {
      "text/plain": [
       "     sub1_lh "
      ]
     },
     "metadata": {},
     "output_type": "display_data"
    },
    {
     "data": {
      "text/plain": [
       "     sub3_contrast_win_event_vs_neut_event "
      ]
     },
     "metadata": {},
     "output_type": "display_data"
    },
    {
     "data": {
      "text/plain": [
       "     sub3_loss_event "
      ]
     },
     "metadata": {},
     "output_type": "display_data"
    },
    {
     "data": {
      "text/plain": [
       "     sub4_contrast_rh_vs_lh "
      ]
     },
     "metadata": {},
     "output_type": "display_data"
    },
    {
     "data": {
      "text/plain": [
       "     sub1_win "
      ]
     },
     "metadata": {},
     "output_type": "display_data"
    },
    {
     "data": {
      "text/plain": [
       "     sub5_rf "
      ]
     },
     "metadata": {},
     "output_type": "display_data"
    },
    {
     "data": {
      "text/plain": [
       "     sub5_mental "
      ]
     },
     "metadata": {},
     "output_type": "display_data"
    },
    {
     "data": {
      "text/plain": [
       "     sub2_rh "
      ]
     },
     "metadata": {},
     "output_type": "display_data"
    },
    {
     "data": {
      "text/plain": [
       "     sub3_rnd "
      ]
     },
     "metadata": {},
     "output_type": "display_data"
    },
    {
     "data": {
      "text/plain": [
       "     sub3_contrast_win_event_vs_loss_event "
      ]
     },
     "metadata": {},
     "output_type": "display_data"
    },
    {
     "data": {
      "text/plain": [
       "     sub3_lf "
      ]
     },
     "metadata": {},
     "output_type": "display_data"
    },
    {
     "data": {
      "text/plain": [
       "     sub4_mental "
      ]
     },
     "metadata": {},
     "output_type": "display_data"
    },
    {
     "data": {
      "text/plain": [
       "     sub1_contrast_rf_vs_lf "
      ]
     },
     "metadata": {},
     "output_type": "display_data"
    },
    {
     "data": {
      "text/plain": [
       "     sub4_contrast_mental_vs_rnd "
      ]
     },
     "metadata": {},
     "output_type": "display_data"
    },
    {
     "data": {
      "text/plain": [
       "Cluster 2: "
      ]
     },
     "metadata": {},
     "output_type": "display_data"
    },
    {
     "data": {
      "text/plain": [
       "     sub1_fear "
      ]
     },
     "metadata": {},
     "output_type": "display_data"
    },
    {
     "data": {
      "text/plain": [
       "     sub5_body "
      ]
     },
     "metadata": {},
     "output_type": "display_data"
    },
    {
     "data": {
      "text/plain": [
       "     sub4_contrast_tools_vs_places "
      ]
     },
     "metadata": {},
     "output_type": "display_data"
    },
    {
     "data": {
      "text/plain": [
       "     sub3_relation "
      ]
     },
     "metadata": {},
     "output_type": "display_data"
    },
    {
     "data": {
      "text/plain": [
       "     sub3_contrast_2bk_vs_0bk "
      ]
     },
     "metadata": {},
     "output_type": "display_data"
    },
    {
     "data": {
      "text/plain": [
       "     sub3_places "
      ]
     },
     "metadata": {},
     "output_type": "display_data"
    },
    {
     "data": {
      "text/plain": [
       "     sub1_places "
      ]
     },
     "metadata": {},
     "output_type": "display_data"
    },
    {
     "data": {
      "text/plain": [
       "     sub5_contrast_relation_vs_match "
      ]
     },
     "metadata": {},
     "output_type": "display_data"
    },
    {
     "data": {
      "text/plain": [
       "     sub1_2bk "
      ]
     },
     "metadata": {},
     "output_type": "display_data"
    },
    {
     "data": {
      "text/plain": [
       "     sub5_places "
      ]
     },
     "metadata": {},
     "output_type": "display_data"
    },
    {
     "data": {
      "text/plain": [
       "     sub4_relation "
      ]
     },
     "metadata": {},
     "output_type": "display_data"
    },
    {
     "data": {
      "text/plain": [
       "     sub2_tools "
      ]
     },
     "metadata": {},
     "output_type": "display_data"
    },
    {
     "data": {
      "text/plain": [
       "     sub3_2bk "
      ]
     },
     "metadata": {},
     "output_type": "display_data"
    },
    {
     "data": {
      "text/plain": [
       "     sub1_faces "
      ]
     },
     "metadata": {},
     "output_type": "display_data"
    },
    {
     "data": {
      "text/plain": [
       "     sub4_fear "
      ]
     },
     "metadata": {},
     "output_type": "display_data"
    },
    {
     "data": {
      "text/plain": [
       "     sub3_tools "
      ]
     },
     "metadata": {},
     "output_type": "display_data"
    },
    {
     "data": {
      "text/plain": [
       "     sub2_0bk "
      ]
     },
     "metadata": {},
     "output_type": "display_data"
    },
    {
     "data": {
      "text/plain": [
       "     sub2_body "
      ]
     },
     "metadata": {},
     "output_type": "display_data"
    },
    {
     "data": {
      "text/plain": [
       "     sub5_match "
      ]
     },
     "metadata": {},
     "output_type": "display_data"
    },
    {
     "data": {
      "text/plain": [
       "     sub4_contrast_faces_vs_places "
      ]
     },
     "metadata": {},
     "output_type": "display_data"
    },
    {
     "data": {
      "text/plain": [
       "     sub4_0bk "
      ]
     },
     "metadata": {},
     "output_type": "display_data"
    },
    {
     "data": {
      "text/plain": [
       "     sub3_faces "
      ]
     },
     "metadata": {},
     "output_type": "display_data"
    },
    {
     "data": {
      "text/plain": [
       "     sub3_contrast_faces_vs_places "
      ]
     },
     "metadata": {},
     "output_type": "display_data"
    },
    {
     "data": {
      "text/plain": [
       "     sub5_contrast_body_vs_places "
      ]
     },
     "metadata": {},
     "output_type": "display_data"
    },
    {
     "data": {
      "text/plain": [
       "Cluster 3: "
      ]
     },
     "metadata": {},
     "output_type": "display_data"
    },
    {
     "data": {
      "text/plain": [
       "     sub3_fear "
      ]
     },
     "metadata": {},
     "output_type": "display_data"
    },
    {
     "data": {
      "text/plain": [
       "     sub1_tools "
      ]
     },
     "metadata": {},
     "output_type": "display_data"
    },
    {
     "data": {
      "text/plain": [
       "     sub4_body "
      ]
     },
     "metadata": {},
     "output_type": "display_data"
    },
    {
     "data": {
      "text/plain": [
       "     sub2_contrast_relation_vs_match "
      ]
     },
     "metadata": {},
     "output_type": "display_data"
    },
    {
     "data": {
      "text/plain": [
       "     sub5_0bk "
      ]
     },
     "metadata": {},
     "output_type": "display_data"
    },
    {
     "data": {
      "text/plain": [
       "     sub5_2bk "
      ]
     },
     "metadata": {},
     "output_type": "display_data"
    },
    {
     "data": {
      "text/plain": [
       "     sub5_relation "
      ]
     },
     "metadata": {},
     "output_type": "display_data"
    },
    {
     "data": {
      "text/plain": [
       "     sub1_match "
      ]
     },
     "metadata": {},
     "output_type": "display_data"
    },
    {
     "data": {
      "text/plain": [
       "     sub2_places "
      ]
     },
     "metadata": {},
     "output_type": "display_data"
    },
    {
     "data": {
      "text/plain": [
       "     sub2_relation "
      ]
     },
     "metadata": {},
     "output_type": "display_data"
    },
    {
     "data": {
      "text/plain": [
       "     sub5_tools "
      ]
     },
     "metadata": {},
     "output_type": "display_data"
    },
    {
     "data": {
      "text/plain": [
       "     sub2_contrast_faces_vs_places "
      ]
     },
     "metadata": {},
     "output_type": "display_data"
    },
    {
     "data": {
      "text/plain": [
       "     sub1_contrast_body_vs_places "
      ]
     },
     "metadata": {},
     "output_type": "display_data"
    },
    {
     "data": {
      "text/plain": [
       "     sub4_places "
      ]
     },
     "metadata": {},
     "output_type": "display_data"
    },
    {
     "data": {
      "text/plain": [
       "     sub5_contrast_faces_vs_places "
      ]
     },
     "metadata": {},
     "output_type": "display_data"
    },
    {
     "data": {
      "text/plain": [
       "     sub2_contrast_body_vs_places "
      ]
     },
     "metadata": {},
     "output_type": "display_data"
    },
    {
     "data": {
      "text/plain": [
       "     sub5_contrast_tools_vs_places "
      ]
     },
     "metadata": {},
     "output_type": "display_data"
    },
    {
     "data": {
      "text/plain": [
       "     sub3_lh "
      ]
     },
     "metadata": {},
     "output_type": "display_data"
    },
    {
     "data": {
      "text/plain": [
       "     sub1_contrast_tools_vs_places "
      ]
     },
     "metadata": {},
     "output_type": "display_data"
    },
    {
     "data": {
      "text/plain": [
       "Cluster 4: "
      ]
     },
     "metadata": {},
     "output_type": "display_data"
    },
    {
     "data": {
      "text/plain": [
       "     sub1_contrast_loss_event_vs_neut_event "
      ]
     },
     "metadata": {},
     "output_type": "display_data"
    },
    {
     "data": {
      "text/plain": [
       "     sub3_contrast_rh_vs_lh "
      ]
     },
     "metadata": {},
     "output_type": "display_data"
    },
    {
     "data": {
      "text/plain": [
       "     sub2_contrast_mental_vs_rnd "
      ]
     },
     "metadata": {},
     "output_type": "display_data"
    },
    {
     "data": {
      "text/plain": [
       "     sub5_neut_event "
      ]
     },
     "metadata": {},
     "output_type": "display_data"
    },
    {
     "data": {
      "text/plain": [
       "     sub5_lf "
      ]
     },
     "metadata": {},
     "output_type": "display_data"
    },
    {
     "data": {
      "text/plain": [
       "     sub1_contrast_win_event_vs_neut_event "
      ]
     },
     "metadata": {},
     "output_type": "display_data"
    },
    {
     "data": {
      "text/plain": [
       "     sub5_loss "
      ]
     },
     "metadata": {},
     "output_type": "display_data"
    },
    {
     "data": {
      "text/plain": [
       "     sub4_loss_event "
      ]
     },
     "metadata": {},
     "output_type": "display_data"
    },
    {
     "data": {
      "text/plain": [
       "     sub2_loss_event "
      ]
     },
     "metadata": {},
     "output_type": "display_data"
    },
    {
     "data": {
      "text/plain": [
       "     sub3_win "
      ]
     },
     "metadata": {},
     "output_type": "display_data"
    },
    {
     "data": {
      "text/plain": [
       "     sub3_rf "
      ]
     },
     "metadata": {},
     "output_type": "display_data"
    },
    {
     "data": {
      "text/plain": [
       "     sub5_win_event "
      ]
     },
     "metadata": {},
     "output_type": "display_data"
    },
    {
     "data": {
      "text/plain": [
       "     sub2_lh "
      ]
     },
     "metadata": {},
     "output_type": "display_data"
    },
    {
     "data": {
      "text/plain": [
       "     sub4_contrast_rf_vs_lf "
      ]
     },
     "metadata": {},
     "output_type": "display_data"
    },
    {
     "data": {
      "text/plain": [
       "     sub5_rh "
      ]
     },
     "metadata": {},
     "output_type": "display_data"
    },
    {
     "data": {
      "text/plain": [
       "     sub1_win_event "
      ]
     },
     "metadata": {},
     "output_type": "display_data"
    },
    {
     "data": {
      "text/plain": [
       "     sub3_contrast_win_vs_loss "
      ]
     },
     "metadata": {},
     "output_type": "display_data"
    },
    {
     "data": {
      "text/plain": [
       "     sub2_t "
      ]
     },
     "metadata": {},
     "output_type": "display_data"
    },
    {
     "data": {
      "text/plain": [
       "     sub1_relation "
      ]
     },
     "metadata": {},
     "output_type": "display_data"
    },
    {
     "data": {
      "text/plain": [
       "     sub4_match "
      ]
     },
     "metadata": {},
     "output_type": "display_data"
    },
    {
     "data": {
      "text/plain": [
       "     sub1_rnd "
      ]
     },
     "metadata": {},
     "output_type": "display_data"
    },
    {
     "data": {
      "text/plain": [
       "     sub2_story "
      ]
     },
     "metadata": {},
     "output_type": "display_data"
    },
    {
     "data": {
      "text/plain": [
       "     sub3_0bk "
      ]
     },
     "metadata": {},
     "output_type": "display_data"
    },
    {
     "data": {
      "text/plain": [
       "     sub5_contrast_win_event_vs_loss_event "
      ]
     },
     "metadata": {},
     "output_type": "display_data"
    },
    {
     "data": {
      "text/plain": [
       "     sub2_faces "
      ]
     },
     "metadata": {},
     "output_type": "display_data"
    },
    {
     "data": {
      "text/plain": [
       "Cluster 5: "
      ]
     },
     "metadata": {},
     "output_type": "display_data"
    },
    {
     "data": {
      "text/plain": [
       "     sub5_fear "
      ]
     },
     "metadata": {},
     "output_type": "display_data"
    },
    {
     "data": {
      "text/plain": [
       "     sub2_contrast_rh_vs_lh "
      ]
     },
     "metadata": {},
     "output_type": "display_data"
    },
    {
     "data": {
      "text/plain": [
       "     sub5_contrast_rf_vs_lf "
      ]
     },
     "metadata": {},
     "output_type": "display_data"
    },
    {
     "data": {
      "text/plain": [
       "     sub4_t "
      ]
     },
     "metadata": {},
     "output_type": "display_data"
    },
    {
     "data": {
      "text/plain": [
       "     sub5_lh "
      ]
     },
     "metadata": {},
     "output_type": "display_data"
    },
    {
     "data": {
      "text/plain": [
       "     sub1_lf "
      ]
     },
     "metadata": {},
     "output_type": "display_data"
    },
    {
     "data": {
      "text/plain": [
       "     sub2_rf "
      ]
     },
     "metadata": {},
     "output_type": "display_data"
    },
    {
     "data": {
      "text/plain": [
       "     sub3_rh "
      ]
     },
     "metadata": {},
     "output_type": "display_data"
    },
    {
     "data": {
      "text/plain": [
       "     sub4_contrast_win_vs_loss "
      ]
     },
     "metadata": {},
     "output_type": "display_data"
    },
    {
     "data": {
      "text/plain": [
       "     sub2_contrast_win_event_vs_loss_event "
      ]
     },
     "metadata": {},
     "output_type": "display_data"
    },
    {
     "data": {
      "text/plain": [
       "     sub3_contrast_body_vs_places "
      ]
     },
     "metadata": {},
     "output_type": "display_data"
    },
    {
     "data": {
      "text/plain": [
       "     sub5_contrast_2bk_vs_0bk "
      ]
     },
     "metadata": {},
     "output_type": "display_data"
    },
    {
     "data": {
      "text/plain": [
       "     sub1_body "
      ]
     },
     "metadata": {},
     "output_type": "display_data"
    },
    {
     "data": {
      "text/plain": [
       "     sub1_0bk "
      ]
     },
     "metadata": {},
     "output_type": "display_data"
    },
    {
     "data": {
      "text/plain": [
       "     sub4_contrast_relation_vs_match "
      ]
     },
     "metadata": {},
     "output_type": "display_data"
    },
    {
     "data": {
      "text/plain": [
       "     sub2_contrast_tools_vs_places "
      ]
     },
     "metadata": {},
     "output_type": "display_data"
    },
    {
     "data": {
      "text/plain": [
       "     sub4_tools "
      ]
     },
     "metadata": {},
     "output_type": "display_data"
    },
    {
     "data": {
      "text/plain": [
       "     sub3_match "
      ]
     },
     "metadata": {},
     "output_type": "display_data"
    },
    {
     "data": {
      "text/plain": [
       "     sub1_contrast_faces_vs_places "
      ]
     },
     "metadata": {},
     "output_type": "display_data"
    },
    {
     "data": {
      "text/plain": [
       "     sub4_2bk "
      ]
     },
     "metadata": {},
     "output_type": "display_data"
    },
    {
     "data": {
      "text/plain": [
       "     sub5_faces "
      ]
     },
     "metadata": {},
     "output_type": "display_data"
    },
    {
     "data": {
      "text/plain": [
       "Cluster 6: "
      ]
     },
     "metadata": {},
     "output_type": "display_data"
    },
    {
     "data": {
      "text/plain": [
       "     sub2_fear "
      ]
     },
     "metadata": {},
     "output_type": "display_data"
    },
    {
     "data": {
      "text/plain": [
       "     sub1_neut_event "
      ]
     },
     "metadata": {},
     "output_type": "display_data"
    },
    {
     "data": {
      "text/plain": [
       "     sub1_contrast_relation_vs_match "
      ]
     },
     "metadata": {},
     "output_type": "display_data"
    },
    {
     "data": {
      "text/plain": [
       "     sub1_loss "
      ]
     },
     "metadata": {},
     "output_type": "display_data"
    },
    {
     "data": {
      "text/plain": [
       "     sub2_win_event "
      ]
     },
     "metadata": {},
     "output_type": "display_data"
    },
    {
     "data": {
      "text/plain": [
       "     sub2_match "
      ]
     },
     "metadata": {},
     "output_type": "display_data"
    },
    {
     "data": {
      "text/plain": [
       "     sub4_loss "
      ]
     },
     "metadata": {},
     "output_type": "display_data"
    },
    {
     "data": {
      "text/plain": [
       "     sub5_win "
      ]
     },
     "metadata": {},
     "output_type": "display_data"
    },
    {
     "data": {
      "text/plain": [
       "     sub4_faces "
      ]
     },
     "metadata": {},
     "output_type": "display_data"
    },
    {
     "data": {
      "text/plain": [
       "     sub1_loss_event "
      ]
     },
     "metadata": {},
     "output_type": "display_data"
    },
    {
     "data": {
      "text/plain": [
       "     sub5_t "
      ]
     },
     "metadata": {},
     "output_type": "display_data"
    },
    {
     "data": {
      "text/plain": [
       "     sub2_lf "
      ]
     },
     "metadata": {},
     "output_type": "display_data"
    },
    {
     "data": {
      "text/plain": [
       "     sub2_contrast_rf_vs_lf "
      ]
     },
     "metadata": {},
     "output_type": "display_data"
    },
    {
     "data": {
      "text/plain": [
       "     sub1_rf "
      ]
     },
     "metadata": {},
     "output_type": "display_data"
    },
    {
     "data": {
      "text/plain": [
       "     sub5_contrast_win_event_vs_neut_event "
      ]
     },
     "metadata": {},
     "output_type": "display_data"
    },
    {
     "data": {
      "text/plain": [
       "     sub4_contrast_win_event_vs_loss_event "
      ]
     },
     "metadata": {},
     "output_type": "display_data"
    },
    {
     "data": {
      "text/plain": [
       "     sub1_t "
      ]
     },
     "metadata": {},
     "output_type": "display_data"
    },
    {
     "data": {
      "text/plain": [
       "     sub1_contrast_mental_vs_rnd "
      ]
     },
     "metadata": {},
     "output_type": "display_data"
    },
    {
     "data": {
      "text/plain": [
       "     sub2_contrast_2bk_vs_0bk "
      ]
     },
     "metadata": {},
     "output_type": "display_data"
    },
    {
     "data": {
      "text/plain": [
       "     sub3_story "
      ]
     },
     "metadata": {},
     "output_type": "display_data"
    },
    {
     "data": {
      "text/plain": [
       "     sub5_story "
      ]
     },
     "metadata": {},
     "output_type": "display_data"
    },
    {
     "data": {
      "text/plain": [
       "     sub2_contrast_win_event_vs_neut_event "
      ]
     },
     "metadata": {},
     "output_type": "display_data"
    },
    {
     "data": {
      "text/plain": [
       "     sub1_rh "
      ]
     },
     "metadata": {},
     "output_type": "display_data"
    },
    {
     "data": {
      "text/plain": [
       "     sub1_mental "
      ]
     },
     "metadata": {},
     "output_type": "display_data"
    },
    {
     "data": {
      "text/plain": [
       "     sub2_rnd "
      ]
     },
     "metadata": {},
     "output_type": "display_data"
    },
    {
     "data": {
      "text/plain": [
       "     sub3_contrast_mental_vs_rnd "
      ]
     },
     "metadata": {},
     "output_type": "display_data"
    },
    {
     "data": {
      "text/plain": [
       "Cluster 7: "
      ]
     },
     "metadata": {},
     "output_type": "display_data"
    },
    {
     "data": {
      "text/plain": [
       "     sub2_contrast_loss_event_vs_neut_event "
      ]
     },
     "metadata": {},
     "output_type": "display_data"
    },
    {
     "data": {
      "text/plain": [
       "     sub4_win "
      ]
     },
     "metadata": {},
     "output_type": "display_data"
    },
    {
     "data": {
      "text/plain": [
       "     sub5_contrast_win_vs_loss "
      ]
     },
     "metadata": {},
     "output_type": "display_data"
    },
    {
     "data": {
      "text/plain": [
       "     sub3_loss "
      ]
     },
     "metadata": {},
     "output_type": "display_data"
    },
    {
     "data": {
      "text/plain": [
       "     sub3_contrast_tools_vs_places "
      ]
     },
     "metadata": {},
     "output_type": "display_data"
    },
    {
     "data": {
      "text/plain": [
       "     sub3_contrast_rf_vs_lf "
      ]
     },
     "metadata": {},
     "output_type": "display_data"
    },
    {
     "data": {
      "text/plain": [
       "     sub3_contrast_relation_vs_match "
      ]
     },
     "metadata": {},
     "output_type": "display_data"
    },
    {
     "data": {
      "text/plain": [
       "     sub3_body "
      ]
     },
     "metadata": {},
     "output_type": "display_data"
    },
    {
     "data": {
      "text/plain": [
       "     sub4_lf "
      ]
     },
     "metadata": {},
     "output_type": "display_data"
    },
    {
     "data": {
      "text/plain": [
       "     sub2_contrast_win_vs_loss "
      ]
     },
     "metadata": {},
     "output_type": "display_data"
    },
    {
     "data": {
      "text/plain": [
       "     sub1_story "
      ]
     },
     "metadata": {},
     "output_type": "display_data"
    },
    {
     "data": {
      "text/plain": [
       "     sub4_story "
      ]
     },
     "metadata": {},
     "output_type": "display_data"
    },
    {
     "data": {
      "text/plain": [
       "     sub1_contrast_2bk_vs_0bk "
      ]
     },
     "metadata": {},
     "output_type": "display_data"
    },
    {
     "data": {
      "text/plain": [
       "     sub4_contrast_2bk_vs_0bk "
      ]
     },
     "metadata": {},
     "output_type": "display_data"
    },
    {
     "data": {
      "text/plain": [
       "     sub3_contrast_loss_event_vs_neut_event "
      ]
     },
     "metadata": {},
     "output_type": "display_data"
    },
    {
     "data": {
      "text/plain": [
       "     sub1_contrast_rh_vs_lh "
      ]
     },
     "metadata": {},
     "output_type": "display_data"
    },
    {
     "data": {
      "text/plain": [
       "     sub4_rnd "
      ]
     },
     "metadata": {},
     "output_type": "display_data"
    },
    {
     "data": {
      "text/plain": [
       "     sub3_neut_event "
      ]
     },
     "metadata": {},
     "output_type": "display_data"
    },
    {
     "data": {
      "text/plain": [
       "     sub5_contrast_loss_event_vs_neut_event "
      ]
     },
     "metadata": {},
     "output_type": "display_data"
    },
    {
     "data": {
      "text/plain": [
       "     sub2_win "
      ]
     },
     "metadata": {},
     "output_type": "display_data"
    },
    {
     "data": {
      "text/plain": [
       "     sub4_contrast_win_event_vs_neut_event "
      ]
     },
     "metadata": {},
     "output_type": "display_data"
    },
    {
     "data": {
      "text/plain": [
       "     sub2_neut_event "
      ]
     },
     "metadata": {},
     "output_type": "display_data"
    },
    {
     "data": {
      "text/plain": [
       "     sub4_win_event "
      ]
     },
     "metadata": {},
     "output_type": "display_data"
    },
    {
     "data": {
      "text/plain": [
       "     sub1_contrast_win_event_vs_loss_event "
      ]
     },
     "metadata": {},
     "output_type": "display_data"
    },
    {
     "data": {
      "text/plain": [
       "     sub5_loss_event "
      ]
     },
     "metadata": {},
     "output_type": "display_data"
    },
    {
     "data": {
      "text/plain": [
       "     sub4_contrast_body_vs_places "
      ]
     },
     "metadata": {},
     "output_type": "display_data"
    },
    {
     "data": {
      "text/plain": [
       "     sub2_2bk "
      ]
     },
     "metadata": {},
     "output_type": "display_data"
    },
    {
     "data": {
      "text/plain": [
       "     sub5_contrast_rh_vs_lh "
      ]
     },
     "metadata": {},
     "output_type": "display_data"
    },
    {
     "data": {
      "text/plain": [
       "     sub4_rf "
      ]
     },
     "metadata": {},
     "output_type": "display_data"
    },
    {
     "data": {
      "text/plain": [
       "     sub4_lh "
      ]
     },
     "metadata": {},
     "output_type": "display_data"
    },
    {
     "data": {
      "text/plain": [
       "     sub4_rh "
      ]
     },
     "metadata": {},
     "output_type": "display_data"
    },
    {
     "data": {
      "text/plain": [
       "     sub5_contrast_mental_vs_rnd "
      ]
     },
     "metadata": {},
     "output_type": "display_data"
    },
    {
     "data": {
      "text/plain": [
       "     sub3_mental "
      ]
     },
     "metadata": {},
     "output_type": "display_data"
    },
    {
     "data": {
      "text/plain": [
       "     sub2_mental "
      ]
     },
     "metadata": {},
     "output_type": "display_data"
    },
    {
     "data": {
      "text/plain": [
       "     sub5_rnd "
      ]
     },
     "metadata": {},
     "output_type": "display_data"
    }
   ],
   "source": [
    "%%octave\n",
    "% calculate the mean cluster and save it\n",
    "stack = [];\n",
    "labels_y_order = LABELS_Y( order_consensus);\n",
    "part_consensus_order = part_consensus(order_consensus);\n",
    "y_order = y(:,order_consensus);\n",
    "for ii = 1:nb_cluster\n",
    "    fprintf('Cluster %i: \\n',ii);\n",
    "    label_y{ii} = sprintf('cluster_%i',ii);\n",
    "    mask = zeros(size(part_consensus_order));\n",
    "    mask = part_consensus_order == ii;\n",
    "    mean_clust = mean(y_order(:,mask),2);\n",
    "    stack = [stack mean_clust];\n",
    "    labels_pheno = labels_y_order(mask);\n",
    "    for ss = 1:size(labels_pheno)(1)\n",
    "        fprintf('     %s \\n',labels_pheno{ss})\n",
    "    end\n",
    "end"
   ]
  },
  {
   "cell_type": "code",
   "execution_count": 75,
   "metadata": {
    "collapsed": false,
    "deletable": true,
    "editable": true,
    "scrolled": false
   },
   "outputs": [
    {
     "data": {
      "text/plain": [
       "(59900,)"
      ]
     },
     "execution_count": 75,
     "metadata": {},
     "output_type": "execute_result"
    }
   ],
   "source": [
    "%octave_pull stack nb_cluster\n",
    "np.shape(stack[:,0])"
   ]
  },
  {
   "cell_type": "code",
   "execution_count": 76,
   "metadata": {
    "collapsed": false
   },
   "outputs": [
    {
     "name": "stdout",
     "output_type": "stream",
     "text": [
      "NVoxels = 59900\n"
     ]
    }
   ],
   "source": [
    "# Get the mask\n",
    "m_img = nib.load(mask_path)\n",
    "mask_data = m_img.get_data()\n",
    "mask = mask_data != 0\n",
    "print('NVoxels = {}'.format(np.sum(mask)))"
   ]
  },
  {
   "cell_type": "code",
   "execution_count": 79,
   "metadata": {
    "collapsed": false
   },
   "outputs": [
    {
     "name": "stdout",
     "output_type": "stream",
     "text": [
      "sbt vector shape = (59900,)\n",
      "sbt image shape = (53, 64, 52)\n"
     ]
    }
   ],
   "source": [
    "# Transform vector to vol\n",
    "sbt = stack[:,2]\n",
    "print('sbt vectorvacancevacance shape = {}'.format(np.shape(sbt)))\n",
    "tmp = np.zeros_like(mask, dtype=np.float)\n",
    "tmp[mask] = sbt\n",
    "sbt_img = nib.Nifti1Image(tmp, affine=m_img.get_affine(), header=m_img.get_header())\n",
    "print('sbt image shape = {}'.format(np.shape(sbt_img)))"
   ]
  },
  {
   "cell_type": "code",
   "execution_count": 71,
   "metadata": {
    "collapsed": false
   },
   "outputs": [
    {
     "data": {
      "image/png": "[encoded data removed]",
      "text/plain": [
       "<matplotlib.figure.Figure at 0x7f6de824fcf8>"
      ]
     },
     "metadata": {},
     "output_type": "display_data"
    }
   ],
   "source": [
    "from nilearn import plotting\n",
    "display = plotting.plot_stat_map(sbt_img)"
   ]
  },
  {
   "cell_type": "code",
   "execution_count": 50,
   "metadata": {
    "collapsed": true
   },
   "outputs": [],
   "source": [
    "data = np.arange(4*4*3)"
   ]
  },
  {
   "cell_type": "code",
   "execution_count": 51,
   "metadata": {
    "collapsed": false
   },
   "outputs": [
    {
     "data": {
      "text/plain": [
       "array([ 0,  1,  2,  3,  4,  5,  6,  7,  8,  9, 10, 11, 12, 13, 14, 15, 16,\n",
       "       17, 18, 19, 20, 21, 22, 23, 24, 25, 26, 27, 28, 29, 30, 31, 32, 33,\n",
       "       34, 35, 36, 37, 38, 39, 40, 41, 42, 43, 44, 45, 46, 47])"
      ]
     },
     "execution_count": 51,
     "metadata": {},
     "output_type": "execute_result"
    }
   ],
   "source": [
    "data"
   ]
  },
  {
   "cell_type": "code",
   "execution_count": null,
   "metadata": {
    "collapsed": true
   },
   "outputs": [],
   "source": []
  },
  {
   "cell_type": "code",
   "execution_count": 42,
   "metadata": {
    "collapsed": false,
    "deletable": true,
    "editable": true
   },
   "outputs": [
    {
     "data": {
      "text/plain": [
       "ans =  1"
      ]
     },
     "metadata": {},
     "output_type": "display_data"
    },
    {
     "data": {
      "image/png": "[encoded data removed]",
      "text/plain": [
       "<IPython.core.display.Image object>"
      ]
     },
     "metadata": {},
     "output_type": "display_data"
    }
   ],
   "source": [
    "%%octave\n",
    "Rc = corr(stack);\n",
    "title('Spatial correlation matrix of clustered pheno')\n",
    "niak_visu_matrix(Rc), axis square"
   ]
  },
  {
   "cell_type": "code",
   "execution_count": 22,
   "metadata": {
    "collapsed": false,
    "deletable": true,
    "editable": true
   },
   "outputs": [
    {
     "data": {
      "text/plain": [
       "Rc ="
      ]
     },
     "metadata": {},
     "output_type": "display_data"
    },
    {
     "data": {
      "text/plain": []
     },
     "metadata": {},
     "output_type": "display_data"
    },
    {
     "data": {
      "text/plain": [
       "   1.000000  -0.748700   0.759046  -0.638472   0.586761   0.468579  -0.804280"
      ]
     },
     "metadata": {},
     "output_type": "display_data"
    },
    {
     "data": {
      "text/plain": [
       "  -0.748700   1.000000  -0.967048   0.416789  -0.734478  -0.171422   0.549382"
      ]
     },
     "metadata": {},
     "output_type": "display_data"
    },
    {
     "data": {
      "text/plain": [
       "   0.759046  -0.967048   1.000000  -0.540324   0.585764   0.269798  -0.477886"
      ]
     },
     "metadata": {},
     "output_type": "display_data"
    },
    {
     "data": {
      "text/plain": [
       "  -0.638472   0.416789  -0.540324   1.000000   0.071575  -0.877766   0.187299"
      ]
     },
     "metadata": {},
     "output_type": "display_data"
    },
    {
     "data": {
      "text/plain": [
       "   0.586761  -0.734478   0.585764   0.071575   1.000000  -0.202765  -0.725174"
      ]
     },
     "metadata": {},
     "output_type": "display_data"
    },
    {
     "data": {
      "text/plain": [
       "   0.468579  -0.171422   0.269798  -0.877766  -0.202765   1.000000  -0.238230"
      ]
     },
     "metadata": {},
     "output_type": "display_data"
    },
    {
     "data": {
      "text/plain": [
       "  -0.804280   0.549382  -0.477886   0.187299  -0.725174  -0.238230   1.000000"
      ]
     },
     "metadata": {},
     "output_type": "display_data"
    },
    {
     "data": {
      "text/plain": []
     },
     "metadata": {},
     "output_type": "display_data"
    }
   ],
   "source": [
    "%octave Rc"
   ]
  },
  {
   "cell_type": "code",
   "execution_count": null,
   "metadata": {
    "collapsed": true,
    "deletable": true,
    "editable": true
   },
   "outputs": [],
   "source": []
  },
  {
   "cell_type": "code",
   "execution_count": null,
   "metadata": {
    "collapsed": true,
    "deletable": true,
    "editable": true
   },
   "outputs": [],
   "source": []
  },
  {
   "cell_type": "code",
   "execution_count": null,
   "metadata": {
    "collapsed": true
   },
   "outputs": [],
   "source": []
  },
  {
   "cell_type": "code",
   "execution_count": null,
   "metadata": {
    "collapsed": true
   },
   "outputs": [],
   "source": []
  },
  {
   "cell_type": "code",
   "execution_count": null,
   "metadata": {
    "collapsed": true
   },
   "outputs": [],
   "source": []
  }
 ],
 "metadata": {
  "kernelspec": {
   "display_name": "Python 3",
   "language": "python",
   "name": "python3"
  },
  "language_info": {
   "codemirror_mode": {
    "name": "ipython",
    "version": 3
   },
   "file_extension": ".py",
   "mimetype": "text/x-python",
   "name": "python",
   "nbconvert_exporter": "python",
   "pygments_lexer": "ipython3",
   "version": "3.4.3"
  },
  "widgets": {
   "state": {},
   "version": "1.1.2"
  }
 },
 "nbformat": 4,
 "nbformat_minor": 0
}
