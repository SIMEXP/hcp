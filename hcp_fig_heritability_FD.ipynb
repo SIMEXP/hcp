{
 "cells": [
  {
   "cell_type": "code",
   "execution_count": 1,
   "metadata": {},
   "outputs": [],
   "source": [
    "import os\n",
    "import pandas as pd\n",
    "import numpy as np\n",
    "import seaborn as sns\n",
    "import matplotlib.pyplot as plt"
   ]
  },
  {
   "cell_type": "code",
   "execution_count": 23,
   "metadata": {},
   "outputs": [],
   "source": [
    "%matplotlib inline"
   ]
  },
  {
   "cell_type": "code",
   "execution_count": 12,
   "metadata": {},
   "outputs": [],
   "source": [
    "# Path\n",
    "path_root = '/home/yassinebha/data/data_disk/Drive/HCP2/'\n",
    "path_solar_out = os.path.join(path_root,'Solar_heritability/HCP_subtype/')"
   ]
  },
  {
   "cell_type": "code",
   "execution_count": 13,
   "metadata": {},
   "outputs": [],
   "source": [
    "# list tasks folders\n",
    "list_fold = ['subtype_5_wm_23-01-2018',\n",
    "             'subtype_5_social_23-01-2018',\n",
    "             'subtype_5_relational_23-01-2018',\n",
    "             'subtype_5_motor_23-01-2018',\n",
    "             'subtype_5_language_23-01-2018',\n",
    "             'subtype_5_gambling_23-01-2018',\n",
    "             'subtype_5_emotion_23-01-2018']\n",
    "list_task = [task.split('_')[2] for task in list_fold]"
   ]
  },
  {
   "cell_type": "code",
   "execution_count": null,
   "metadata": {},
   "outputs": [],
   "source": [
    "df_all = pd.DataFrame()\n",
    "for folder in list_fold:\n",
    "    task_name = folder.split('_')[2]\n",
    "    df_ = pd.read_csv(os.path.join(folder,'{}_h2r_raw.csv'.format(task_name)))\n",
    "    df_all = df_all.append(df_)"
   ]
  },
  {
   "cell_type": "code",
   "execution_count": 24,
   "metadata": {
    "scrolled": true
   },
   "outputs": [],
   "source": [
    "a= pd.read_csv(os.path.join(path_solar_out,'subtype_5_emotion_23-01-2018/emotion_h2r_raw.csv'))[1:3]"
   ]
  },
  {
   "cell_type": "code",
   "execution_count": 26,
   "metadata": {},
   "outputs": [
    {
     "data": {
      "text/html": [
       "<div>\n",
       "<style scoped>\n",
       "    .dataframe tbody tr th:only-of-type {\n",
       "        vertical-align: middle;\n",
       "    }\n",
       "\n",
       "    .dataframe tbody tr th {\n",
       "        vertical-align: top;\n",
       "    }\n",
       "\n",
       "    .dataframe thead th {\n",
       "        text-align: right;\n",
       "    }\n",
       "</style>\n",
       "<table border=\"1\" class=\"dataframe\">\n",
       "  <thead>\n",
       "    <tr style=\"text-align: right;\">\n",
       "      <th></th>\n",
       "      <th>Trait</th>\n",
       "      <th>H2r</th>\n",
       "      <th>P</th>\n",
       "      <th>CovVarianceExpl</th>\n",
       "    </tr>\n",
       "  </thead>\n",
       "  <tbody>\n",
       "    <tr>\n",
       "      <th>1</th>\n",
       "      <td>EMO_FD_mean_norm</td>\n",
       "      <td>0.396228</td>\n",
       "      <td>0.000102</td>\n",
       "      <td>0.860339</td>\n",
       "    </tr>\n",
       "    <tr>\n",
       "      <th>2</th>\n",
       "      <td>EMO_FD_scrubbed_mean_norm</td>\n",
       "      <td>0.116068</td>\n",
       "      <td>0.065933</td>\n",
       "      <td>0.949396</td>\n",
       "    </tr>\n",
       "  </tbody>\n",
       "</table>\n",
       "</div>"
      ],
      "text/plain": [
       "                       Trait       H2r         P  CovVarianceExpl\n",
       "1       EMO_FD_mean_norm      0.396228  0.000102         0.860339\n",
       "2  EMO_FD_scrubbed_mean_norm  0.116068  0.065933         0.949396"
      ]
     },
     "execution_count": 26,
     "metadata": {},
     "output_type": "execute_result"
    }
   ],
   "source": [
    "a"
   ]
  },
  {
   "cell_type": "code",
   "execution_count": 30,
   "metadata": {},
   "outputs": [
    {
     "data": {
      "text/plain": [
       "['EMO', 'EMO']"
      ]
     },
     "execution_count": 30,
     "metadata": {},
     "output_type": "execute_result"
    }
   ],
   "source": [
    "[row.Trait.split('_')[0] for ind,row in a.iterrows()]"
   ]
  },
  {
   "cell_type": "code",
   "execution_count": 33,
   "metadata": {},
   "outputs": [],
   "source": [
    "fd_ = ['FD','FD_scrubbed']"
   ]
  },
  {
   "cell_type": "code",
   "execution_count": null,
   "metadata": {},
   "outputs": [],
   "source": []
  }
 ],
 "metadata": {
  "kernelspec": {
   "display_name": "Python 3",
   "language": "python",
   "name": "python3"
  },
  "language_info": {
   "codemirror_mode": {
    "name": "ipython",
    "version": 3
   },
   "file_extension": ".py",
   "mimetype": "text/x-python",
   "name": "python",
   "nbconvert_exporter": "python",
   "pygments_lexer": "ipython3",
   "version": "3.5.2"
  }
 },
 "nbformat": 4,
 "nbformat_minor": 2
}
