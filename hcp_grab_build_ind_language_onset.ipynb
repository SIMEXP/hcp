{
 "cells": [
  {
   "cell_type": "code",
   "execution_count": 71,
   "metadata": {
    "collapsed": true
   },
   "outputs": [],
   "source": [
    "# Build individual onset file for spm analysis and save it in fmri preprocess folder\n",
    "# Import\n",
    "import os\n",
    "import pandas as pd\n",
    "\n",
    "# Set path\n",
    "path_root = \"/gs/project/gsf-624-aa/HCP/HCP_raw_data_900R\"\n",
    "path_out = \"/gs/project/gsf-624-aa/HCP/fmri_preprocess_all_tasks_niak-fix-scrub_900R\"\n",
    "\n",
    "# Loop over subject and runs and create individual onset\n",
    "list_subj = os.listdir(path_root)\n",
    "# loop over runs\n",
    "for run in 'LR','RL':\n",
    "    for index, subj in enumerate(list_subj):\n",
    "        path_eprime = os.path.join(path_root,subj,\"unprocessed/3T/tfMRI_LANGUAGE_{}/LINKED_DATA/EPRIME/EVs\".format(run))\n",
    "        if not os.path.exists(path_eprime):\n",
    "            print('Subject %s has no Eprime folder for LANGUAGE_%s task' % (subj, run))\n",
    "            continue\n",
    "        \n",
    "        # Create subject EVs folder\n",
    "        eprime_out = os.path.join(path_out,'EVs','HCP{}'.format(subj),'LANGUAGE_{}'.format(run))\n",
    "        if not os.path.exists(eprime_out):\n",
    "            os.makedirs(eprime_out)\n",
    "        \n",
    "        # Read math eprime files\n",
    "        eprime_math = pd.read_csv(os.path.join(path_eprime,\"math.txt\"), sep='\\t',header=None)\n",
    "        \n",
    "        # Add onset_trial name\n",
    "        onset_list = [\"math\".format(row) for ind, row in eprime_math.iterrows()]\n",
    "        eprime_math.loc[:,'']=onset_list\n",
    "        \n",
    "        # re-arrange colomns\n",
    "        cols = eprime_math.columns.tolist()\n",
    "        cols = cols[-1:] + cols[:-1]\n",
    "        eprime_math = eprime_math[cols]\n",
    "        \n",
    "        # Read story eprime files\n",
    "        eprime_story = pd.read_csv(os.path.join(path_eprime,\"story.txt\"), sep='\\t',header=None)\n",
    "        \n",
    "        # Add onset_trial name\n",
    "        onset_list = [\"story\".format(row) for ind, row in eprime_story.iterrows()]\n",
    "        eprime_story.loc[:,'']=onset_list\n",
    "        \n",
    "        # re-arrange colomns\n",
    "        cols = eprime_story.columns.tolist()\n",
    "        cols = cols[-1:] + cols[:-1]\n",
    "        eprime_story = eprime_story[cols]\n",
    "        \n",
    "        # append story to math\n",
    "        eprime_final = eprime_math.append(eprime_story)\n",
    "        \n",
    "        # Put header\n",
    "        eprime_final.rename(columns={0:'start',1:'duration',2:'repetition'},inplace=True)\n",
    "        \n",
    "        # Save file \n",
    "        eprime_final.to_csv(os.path.join(eprime_out,\"LANGUAGE_{}_spm_onset.csv\".format(run)),index=False)\n"
   ]
  }
 ],
 "metadata": {
  "kernelspec": {
   "display_name": "Python 3",
   "language": "python",
   "name": "python3"
  },
  "language_info": {
   "codemirror_mode": {
    "name": "ipython",
    "version": 3
   },
   "file_extension": ".py",
   "mimetype": "text/x-python",
   "name": "python",
   "nbconvert_exporter": "python",
   "pygments_lexer": "ipython3",
   "version": "3.4.3"
  },
  "widgets": {
   "state": {},
   "version": "1.1.2"
  }
 },
 "nbformat": 4,
 "nbformat_minor": 0
}
