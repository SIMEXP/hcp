{
 "cells": [
  {
   "cell_type": "markdown",
   "metadata": {},
   "source": [
    "# Heritability estimate on subtype from LANGUAGE activation maps"
   ]
  },
  {
   "cell_type": "markdown",
   "metadata": {
    "collapsed": true
   },
   "source": [
    "##### Subtype:\n",
    "- Niak preprocessed LANGUAGE task (new scrub method)\n",
    "- 5 subtype\n",
    "- **FD_scrubbed_mean regressed out befor building subtypes**\n",
    "\n",
    "##### Heritability:\n",
    "- Regress \"FD_scrubbed_mean\" \"Age_in_Yrs\" \"Gender\" as covariate\n",
    "\n",
    "\n",
    "## Build Pheno file"
   ]
  },
  {
   "cell_type": "markdown",
   "metadata": {},
   "source": [
    "### Merge behavioral variables with subtypes weights"
   ]
  },
  {
   "cell_type": "code",
   "execution_count": 1,
   "metadata": {},
   "outputs": [],
   "source": [
    "# Import pandas\n",
    "import os\n",
    "import pandas as pd\n",
    "import numpy as np\n",
    "from IPython.display import display\n",
    "import matplotlib.pyplot as plt\n",
    "import time\n",
    "import seaborn as sns"
   ]
  },
  {
   "cell_type": "code",
   "execution_count": 2,
   "metadata": {},
   "outputs": [],
   "source": [
    "sns.set_style(\"whitegrid\")"
   ]
  },
  {
   "cell_type": "code",
   "execution_count": 3,
   "metadata": {},
   "outputs": [],
   "source": [
    "%matplotlib inline\n",
    "%load_ext rpy2.ipython"
   ]
  },
  {
   "cell_type": "code",
   "execution_count": 3,
   "metadata": {},
   "outputs": [],
   "source": [
    "#custom function for key sorting element\n",
    "import re\n",
    "\n",
    "def atoi(text):\n",
    "    return int(text) if text.isdigit() else text\n",
    "\n",
    "def natural_keys(text):\n",
    "    '''\n",
    "    alist.sort(key=natural_keys) sorts in human order\n",
    "    http://nedbatchelder.com/blog/200712/human_sorting.html\n",
    "    (See Toothy's implementation in the comments)\n",
    "    '''\n",
    "    return [ atoi(c) for c in re.split('(\\d+)', text) ]"
   ]
  },
  {
   "cell_type": "code",
   "execution_count": 4,
   "metadata": {},
   "outputs": [],
   "source": [
    "# Set up the paths \n",
    "#path_root = '/media/yassine/data_disk/Drive/HCP2/'\n",
    "path_root = '/home/yassinebha/data/data_disk/Drive/HCP2/'\n",
    "#path_root = \"/home/yassinebha/Drive/HCP/\"\n",
    "subt_path = os.path.join(path_root,\"subtypes_scores/26-10-2016/subtype_5_spm_LANGUAGE_18-Oct-2017/\")\n",
    "net_path = os.path.join(path_root,\"subtypes_scores/26-10-2016/subtype_5_spm_LANGUAGE_18-Oct-2017/networks/\")\n",
    "out_path = os.path.join(path_root,\"Solar_heritability/HCP_subtype/\")"
   ]
  },
  {
   "cell_type": "code",
   "execution_count": 5,
   "metadata": {},
   "outputs": [],
   "source": [
    "nb_sbt = natural_keys(subt_path)[9]\n",
    "# task name\n",
    "task_name = natural_keys(subt_path)[10][5:-1].lower()"
   ]
  },
  {
   "cell_type": "code",
   "execution_count": 6,
   "metadata": {},
   "outputs": [
    {
     "data": {
      "text/plain": [
       "'language'"
      ]
     },
     "execution_count": 6,
     "metadata": {},
     "output_type": "execute_result"
    }
   ],
   "source": [
    "task_name"
   ]
  },
  {
   "cell_type": "code",
   "execution_count": 8,
   "metadata": {},
   "outputs": [],
   "source": [
    "# Set up files name\n",
    "sbt_name_pattern = \"sbt_weights_net_{}.csv\"\n",
    "pheno_path = os.path.join(path_root,\"subtypes_scores/26-10-2016/pheno/hcp_pheno_{}_raw.csv\".format(task_name))\n",
    "solar_script = 'fcd_solar_h2r_test.sh'\n",
    "pheno_save = 'solar_{}_spm_{}_pheno.csv'.format(task_name.upper(),nb_sbt)\n",
    "pedig_save = 'solar_{}_spm_pedigre.csv'.format(task_name.upper())\n",
    "solar_out = 'subtype_{}_{}_{}'.format(nb_sbt,task_name,time.strftime(\"%d-%m-%Y\"))\n",
    "h2r_out_file = 'h2r_solar_{}_spm_{}.csv'\n",
    "## Solar covariates\n",
    "solar_cov = '    cov {}_FD_scrubbed_mean Gender'.format(task_name[:3].upper())"
   ]
  },
  {
   "cell_type": "code",
   "execution_count": 9,
   "metadata": {},
   "outputs": [
    {
     "data": {
      "text/plain": [
       "['story']"
      ]
     },
     "execution_count": 9,
     "metadata": {},
     "output_type": "execute_result"
    }
   ],
   "source": [
    "# List of network names\n",
    "list_trial = os.listdir(net_path)\n",
    "list_trial"
   ]
  },
  {
   "cell_type": "code",
   "execution_count": 18,
   "metadata": {},
   "outputs": [],
   "source": [
    "# Loop over each network and build weight file\n",
    "for index, trial_name in enumerate(list_trial):\n",
    "    file_path = os.path.join(net_path, trial_name, sbt_name_pattern.format(trial_name))\n",
    "    if not os.path.exists(file_path):\n",
    "        print(\"Hello, {} does not exist\".format(file_path))\n",
    "    \n",
    "    tmp_weights = pd.read_csv(file_path)\n",
    "    # Rename first column\n",
    "    tmp_weights.rename(columns={\" \":\"Subject\"}, inplace=True)\n",
    "    tmp_weights.Subject = tmp_weights.Subject.str.strip(\" \")\n",
    "    \n",
    "    rename_dict = dict()\n",
    "    for colname in tmp_weights.columns:\n",
    "        if colname == \"Subject\":\n",
    "            continue\n",
    "        else:\n",
    "            new_name = \"{}_{}_{}\".format(task_name[:3].upper(),trial_name, colname)\n",
    "            # Get rid of trailing whitespace\n",
    "            new_name = new_name.strip(\" \")\n",
    "            rename_dict[colname] = new_name\n",
    "\n",
    "    tmp_weights.rename(columns=rename_dict, inplace=True)\n",
    "    \n",
    "    if index==0:\n",
    "        dataframe = tmp_weights\n",
    "    else:\n",
    "        dataframe = pd.merge(dataframe, tmp_weights, on=\"Subject\", how=\"inner\")"
   ]
  },
  {
   "cell_type": "code",
   "execution_count": 19,
   "metadata": {},
   "outputs": [
    {
     "data": {
      "text/html": [
       "<div>\n",
       "<style>\n",
       "    .dataframe thead tr:only-child th {\n",
       "        text-align: right;\n",
       "    }\n",
       "\n",
       "    .dataframe thead th {\n",
       "        text-align: left;\n",
       "    }\n",
       "\n",
       "    .dataframe tbody tr th {\n",
       "        vertical-align: top;\n",
       "    }\n",
       "</style>\n",
       "<table border=\"1\" class=\"dataframe\">\n",
       "  <thead>\n",
       "    <tr style=\"text-align: right;\">\n",
       "      <th></th>\n",
       "      <th>Subject</th>\n",
       "      <th>LAN_story_sub1</th>\n",
       "      <th>LAN_story_sub2</th>\n",
       "      <th>LAN_story_sub3</th>\n",
       "      <th>LAN_story_sub4</th>\n",
       "      <th>LAN_story_sub5</th>\n",
       "    </tr>\n",
       "  </thead>\n",
       "  <tbody>\n",
       "    <tr>\n",
       "      <th>0</th>\n",
       "      <td>HCP100206</td>\n",
       "      <td>0.049</td>\n",
       "      <td>-0.063</td>\n",
       "      <td>0.084</td>\n",
       "      <td>-0.134</td>\n",
       "      <td>0.040</td>\n",
       "    </tr>\n",
       "    <tr>\n",
       "      <th>1</th>\n",
       "      <td>HCP100307</td>\n",
       "      <td>-0.547</td>\n",
       "      <td>0.570</td>\n",
       "      <td>-0.522</td>\n",
       "      <td>-0.197</td>\n",
       "      <td>0.317</td>\n",
       "    </tr>\n",
       "    <tr>\n",
       "      <th>2</th>\n",
       "      <td>HCP100408</td>\n",
       "      <td>0.060</td>\n",
       "      <td>-0.038</td>\n",
       "      <td>0.053</td>\n",
       "      <td>-0.003</td>\n",
       "      <td>-0.056</td>\n",
       "    </tr>\n",
       "    <tr>\n",
       "      <th>3</th>\n",
       "      <td>HCP100610</td>\n",
       "      <td>-0.323</td>\n",
       "      <td>0.290</td>\n",
       "      <td>-0.301</td>\n",
       "      <td>-0.224</td>\n",
       "      <td>0.314</td>\n",
       "    </tr>\n",
       "    <tr>\n",
       "      <th>4</th>\n",
       "      <td>HCP101006</td>\n",
       "      <td>-0.004</td>\n",
       "      <td>-0.032</td>\n",
       "      <td>0.025</td>\n",
       "      <td>-0.042</td>\n",
       "      <td>0.055</td>\n",
       "    </tr>\n",
       "  </tbody>\n",
       "</table>\n",
       "</div>"
      ],
      "text/plain": [
       "     Subject  LAN_story_sub1  LAN_story_sub2  LAN_story_sub3  LAN_story_sub4  \\\n",
       "0  HCP100206           0.049          -0.063           0.084          -0.134   \n",
       "1  HCP100307          -0.547           0.570          -0.522          -0.197   \n",
       "2  HCP100408           0.060          -0.038           0.053          -0.003   \n",
       "3  HCP100610          -0.323           0.290          -0.301          -0.224   \n",
       "4  HCP101006          -0.004          -0.032           0.025          -0.042   \n",
       "\n",
       "   LAN_story_sub5  \n",
       "0           0.040  \n",
       "1           0.317  \n",
       "2          -0.056  \n",
       "3           0.314  \n",
       "4           0.055  "
      ]
     },
     "execution_count": 19,
     "metadata": {},
     "output_type": "execute_result"
    }
   ],
   "source": [
    "dataframe.head()"
   ]
  },
  {
   "cell_type": "code",
   "execution_count": 20,
   "metadata": {
    "scrolled": true
   },
   "outputs": [
    {
     "data": {
      "text/plain": [
       "count           778\n",
       "unique          778\n",
       "top       HCP106319\n",
       "freq              1\n",
       "Name: Subject, dtype: object"
      ]
     },
     "execution_count": 20,
     "metadata": {},
     "output_type": "execute_result"
    }
   ],
   "source": [
    "dataframe.Subject.describe()"
   ]
  },
  {
   "cell_type": "code",
   "execution_count": 21,
   "metadata": {},
   "outputs": [],
   "source": [
    "# Load pheno file\n",
    "file_weight = dataframe\n",
    "file_pheno = pd.read_csv(pheno_path)"
   ]
  },
  {
   "cell_type": "code",
   "execution_count": 22,
   "metadata": {
    "scrolled": true
   },
   "outputs": [
    {
     "data": {
      "text/html": [
       "<div>\n",
       "<style>\n",
       "    .dataframe thead tr:only-child th {\n",
       "        text-align: right;\n",
       "    }\n",
       "\n",
       "    .dataframe thead th {\n",
       "        text-align: left;\n",
       "    }\n",
       "\n",
       "    .dataframe tbody tr th {\n",
       "        vertical-align: top;\n",
       "    }\n",
       "</style>\n",
       "<table border=\"1\" class=\"dataframe\">\n",
       "  <thead>\n",
       "    <tr style=\"text-align: right;\">\n",
       "      <th></th>\n",
       "      <th>Unnamed: 0</th>\n",
       "      <th>FD_RL</th>\n",
       "      <th>FD_scrubbed_RL</th>\n",
       "      <th>FD_LR</th>\n",
       "      <th>FD_scrubbed_LR</th>\n",
       "      <th>FD_scrubbed_mean</th>\n",
       "      <th>FD_mean</th>\n",
       "      <th>Subject</th>\n",
       "      <th>Age_in_Yrs</th>\n",
       "      <th>Gender</th>\n",
       "      <th>...</th>\n",
       "      <th>Cluster_1</th>\n",
       "      <th>Cluster_2</th>\n",
       "      <th>Cluster_3</th>\n",
       "      <th>Cluster_4</th>\n",
       "      <th>Cluster_5</th>\n",
       "      <th>Cluster_6</th>\n",
       "      <th>Cluster_7</th>\n",
       "      <th>Cluster_8</th>\n",
       "      <th>Cluster_9</th>\n",
       "      <th>Cluster_10</th>\n",
       "    </tr>\n",
       "  </thead>\n",
       "  <tbody>\n",
       "    <tr>\n",
       "      <th>0</th>\n",
       "      <td>HCP100206</td>\n",
       "      <td>0.088456</td>\n",
       "      <td>0.088456</td>\n",
       "      <td>0.099963</td>\n",
       "      <td>0.099963</td>\n",
       "      <td>0.094210</td>\n",
       "      <td>0.094210</td>\n",
       "      <td>HCP100206</td>\n",
       "      <td>27.0</td>\n",
       "      <td>1.0</td>\n",
       "      <td>...</td>\n",
       "      <td>-0.344595</td>\n",
       "      <td>1.283574</td>\n",
       "      <td>0.052662</td>\n",
       "      <td>1.436342</td>\n",
       "      <td>0.706008</td>\n",
       "      <td>-0.510366</td>\n",
       "      <td>1.975280</td>\n",
       "      <td>1.294323</td>\n",
       "      <td>-0.025888</td>\n",
       "      <td>-0.203825</td>\n",
       "    </tr>\n",
       "    <tr>\n",
       "      <th>1</th>\n",
       "      <td>HCP100307</td>\n",
       "      <td>0.101970</td>\n",
       "      <td>0.101970</td>\n",
       "      <td>0.119331</td>\n",
       "      <td>0.119331</td>\n",
       "      <td>0.110650</td>\n",
       "      <td>0.110650</td>\n",
       "      <td>HCP100307</td>\n",
       "      <td>27.0</td>\n",
       "      <td>2.0</td>\n",
       "      <td>...</td>\n",
       "      <td>-0.639736</td>\n",
       "      <td>0.522789</td>\n",
       "      <td>-0.952467</td>\n",
       "      <td>-0.713226</td>\n",
       "      <td>-0.559144</td>\n",
       "      <td>-0.140952</td>\n",
       "      <td>-0.703027</td>\n",
       "      <td>0.229112</td>\n",
       "      <td>0.097581</td>\n",
       "      <td>-0.444702</td>\n",
       "    </tr>\n",
       "    <tr>\n",
       "      <th>2</th>\n",
       "      <td>HCP100408</td>\n",
       "      <td>0.128052</td>\n",
       "      <td>0.128052</td>\n",
       "      <td>0.140232</td>\n",
       "      <td>0.140232</td>\n",
       "      <td>0.134142</td>\n",
       "      <td>0.134142</td>\n",
       "      <td>HCP100408</td>\n",
       "      <td>33.0</td>\n",
       "      <td>1.0</td>\n",
       "      <td>...</td>\n",
       "      <td>1.173656</td>\n",
       "      <td>0.092160</td>\n",
       "      <td>-0.521888</td>\n",
       "      <td>-0.034026</td>\n",
       "      <td>-0.109229</td>\n",
       "      <td>0.221359</td>\n",
       "      <td>-0.589268</td>\n",
       "      <td>0.357483</td>\n",
       "      <td>-0.039443</td>\n",
       "      <td>0.095913</td>\n",
       "    </tr>\n",
       "    <tr>\n",
       "      <th>3</th>\n",
       "      <td>HCP100610</td>\n",
       "      <td>0.189474</td>\n",
       "      <td>0.189474</td>\n",
       "      <td>0.179002</td>\n",
       "      <td>0.179002</td>\n",
       "      <td>0.184238</td>\n",
       "      <td>0.184238</td>\n",
       "      <td>HCP100610</td>\n",
       "      <td>27.0</td>\n",
       "      <td>1.0</td>\n",
       "      <td>...</td>\n",
       "      <td>0.891096</td>\n",
       "      <td>-0.361182</td>\n",
       "      <td>-0.881930</td>\n",
       "      <td>-0.386394</td>\n",
       "      <td>-0.575076</td>\n",
       "      <td>-0.197974</td>\n",
       "      <td>0.203063</td>\n",
       "      <td>0.618868</td>\n",
       "      <td>0.491618</td>\n",
       "      <td>1.343114</td>\n",
       "    </tr>\n",
       "    <tr>\n",
       "      <th>4</th>\n",
       "      <td>HCP101006</td>\n",
       "      <td>0.156877</td>\n",
       "      <td>0.156877</td>\n",
       "      <td>0.131924</td>\n",
       "      <td>0.131924</td>\n",
       "      <td>0.144401</td>\n",
       "      <td>0.144401</td>\n",
       "      <td>HCP101006</td>\n",
       "      <td>35.0</td>\n",
       "      <td>2.0</td>\n",
       "      <td>...</td>\n",
       "      <td>0.608381</td>\n",
       "      <td>0.037740</td>\n",
       "      <td>0.055531</td>\n",
       "      <td>-0.883482</td>\n",
       "      <td>-0.383174</td>\n",
       "      <td>-0.309221</td>\n",
       "      <td>-0.753780</td>\n",
       "      <td>-1.183212</td>\n",
       "      <td>0.031989</td>\n",
       "      <td>-0.494022</td>\n",
       "    </tr>\n",
       "  </tbody>\n",
       "</table>\n",
       "<p>5 rows × 26 columns</p>\n",
       "</div>"
      ],
      "text/plain": [
       "  Unnamed: 0     FD_RL  FD_scrubbed_RL     FD_LR  FD_scrubbed_LR  \\\n",
       "0  HCP100206  0.088456        0.088456  0.099963        0.099963   \n",
       "1  HCP100307  0.101970        0.101970  0.119331        0.119331   \n",
       "2  HCP100408  0.128052        0.128052  0.140232        0.140232   \n",
       "3  HCP100610  0.189474        0.189474  0.179002        0.179002   \n",
       "4  HCP101006  0.156877        0.156877  0.131924        0.131924   \n",
       "\n",
       "   FD_scrubbed_mean   FD_mean    Subject  Age_in_Yrs  Gender     ...      \\\n",
       "0          0.094210  0.094210  HCP100206        27.0     1.0     ...       \n",
       "1          0.110650  0.110650  HCP100307        27.0     2.0     ...       \n",
       "2          0.134142  0.134142  HCP100408        33.0     1.0     ...       \n",
       "3          0.184238  0.184238  HCP100610        27.0     1.0     ...       \n",
       "4          0.144401  0.144401  HCP101006        35.0     2.0     ...       \n",
       "\n",
       "  Cluster_1 Cluster_2  Cluster_3  Cluster_4  Cluster_5  Cluster_6  Cluster_7  \\\n",
       "0 -0.344595  1.283574   0.052662   1.436342   0.706008  -0.510366   1.975280   \n",
       "1 -0.639736  0.522789  -0.952467  -0.713226  -0.559144  -0.140952  -0.703027   \n",
       "2  1.173656  0.092160  -0.521888  -0.034026  -0.109229   0.221359  -0.589268   \n",
       "3  0.891096 -0.361182  -0.881930  -0.386394  -0.575076  -0.197974   0.203063   \n",
       "4  0.608381  0.037740   0.055531  -0.883482  -0.383174  -0.309221  -0.753780   \n",
       "\n",
       "   Cluster_8  Cluster_9  Cluster_10  \n",
       "0   1.294323  -0.025888   -0.203825  \n",
       "1   0.229112   0.097581   -0.444702  \n",
       "2   0.357483  -0.039443    0.095913  \n",
       "3   0.618868   0.491618    1.343114  \n",
       "4  -1.183212   0.031989   -0.494022  \n",
       "\n",
       "[5 rows x 26 columns]"
      ]
     },
     "execution_count": 22,
     "metadata": {},
     "output_type": "execute_result"
    }
   ],
   "source": [
    "file_pheno.head()"
   ]
  },
  {
   "cell_type": "code",
   "execution_count": 23,
   "metadata": {
    "scrolled": true
   },
   "outputs": [
    {
     "data": {
      "text/plain": [
       "count           801\n",
       "unique          801\n",
       "top       HCP112920\n",
       "freq              1\n",
       "Name: Subject, dtype: object"
      ]
     },
     "execution_count": 23,
     "metadata": {},
     "output_type": "execute_result"
    }
   ],
   "source": [
    "file_pheno.Subject.describe()"
   ]
  },
  {
   "cell_type": "code",
   "execution_count": 24,
   "metadata": {
    "scrolled": true
   },
   "outputs": [
    {
     "name": "stderr",
     "output_type": "stream",
     "text": [
      "/usr/local/lib/python3.5/dist-packages/pandas/core/frame.py:2746: SettingWithCopyWarning: \n",
      "A value is trying to be set on a copy of a slice from a DataFrame\n",
      "\n",
      "See the caveats in the documentation: http://pandas.pydata.org/pandas-docs/stable/indexing.html#indexing-view-versus-copy\n",
      "  **kwargs)\n"
     ]
    },
    {
     "data": {
      "text/html": [
       "<div>\n",
       "<style>\n",
       "    .dataframe thead tr:only-child th {\n",
       "        text-align: right;\n",
       "    }\n",
       "\n",
       "    .dataframe thead th {\n",
       "        text-align: left;\n",
       "    }\n",
       "\n",
       "    .dataframe tbody tr th {\n",
       "        vertical-align: top;\n",
       "    }\n",
       "</style>\n",
       "<table border=\"1\" class=\"dataframe\">\n",
       "  <thead>\n",
       "    <tr style=\"text-align: right;\">\n",
       "      <th></th>\n",
       "      <th>Subject</th>\n",
       "      <th>Age_in_Yrs</th>\n",
       "      <th>Gender</th>\n",
       "      <th>BMI</th>\n",
       "      <th>LAN_FD_mean</th>\n",
       "      <th>LAN_FD_scrubbed_mean</th>\n",
       "    </tr>\n",
       "  </thead>\n",
       "  <tbody>\n",
       "    <tr>\n",
       "      <th>0</th>\n",
       "      <td>HCP100206</td>\n",
       "      <td>27.0</td>\n",
       "      <td>1.0</td>\n",
       "      <td>26.64</td>\n",
       "      <td>0.094210</td>\n",
       "      <td>0.094210</td>\n",
       "    </tr>\n",
       "    <tr>\n",
       "      <th>1</th>\n",
       "      <td>HCP100307</td>\n",
       "      <td>27.0</td>\n",
       "      <td>2.0</td>\n",
       "      <td>22.96</td>\n",
       "      <td>0.110650</td>\n",
       "      <td>0.110650</td>\n",
       "    </tr>\n",
       "    <tr>\n",
       "      <th>2</th>\n",
       "      <td>HCP100408</td>\n",
       "      <td>33.0</td>\n",
       "      <td>1.0</td>\n",
       "      <td>27.75</td>\n",
       "      <td>0.134142</td>\n",
       "      <td>0.134142</td>\n",
       "    </tr>\n",
       "    <tr>\n",
       "      <th>3</th>\n",
       "      <td>HCP100610</td>\n",
       "      <td>27.0</td>\n",
       "      <td>1.0</td>\n",
       "      <td>36.91</td>\n",
       "      <td>0.184238</td>\n",
       "      <td>0.184238</td>\n",
       "    </tr>\n",
       "    <tr>\n",
       "      <th>4</th>\n",
       "      <td>HCP101006</td>\n",
       "      <td>35.0</td>\n",
       "      <td>2.0</td>\n",
       "      <td>30.27</td>\n",
       "      <td>0.144401</td>\n",
       "      <td>0.144401</td>\n",
       "    </tr>\n",
       "  </tbody>\n",
       "</table>\n",
       "</div>"
      ],
      "text/plain": [
       "     Subject  Age_in_Yrs  Gender    BMI  LAN_FD_mean  LAN_FD_scrubbed_mean\n",
       "0  HCP100206        27.0     1.0  26.64     0.094210              0.094210\n",
       "1  HCP100307        27.0     2.0  22.96     0.110650              0.110650\n",
       "2  HCP100408        33.0     1.0  27.75     0.134142              0.134142\n",
       "3  HCP100610        27.0     1.0  36.91     0.184238              0.184238\n",
       "4  HCP101006        35.0     2.0  30.27     0.144401              0.144401"
      ]
     },
     "execution_count": 24,
     "metadata": {},
     "output_type": "execute_result"
    }
   ],
   "source": [
    "# Select a subset of variable\n",
    "file_pheno_subset = file_pheno[[\"Subject\",\"Age_in_Yrs\",\"Gender\",\"BMI\",\"FD_mean\",\"FD_scrubbed_mean\"]]\n",
    "file_pheno_subset.rename(columns={'FD_mean': '{}_FD_mean'.format(task_name[:3].upper()),\n",
    "                                  'FD_scrubbed_mean': '{}_FD_scrubbed_mean'.format(task_name[:3].upper())},\n",
    "                         inplace=True)\n",
    "file_pheno_subset.head()"
   ]
  },
  {
   "cell_type": "code",
   "execution_count": 25,
   "metadata": {},
   "outputs": [],
   "source": [
    "# Replace gender M=1 and F=2\n",
    "#file_pheno_subset.Gender.replace({'M':1,'F':2}, inplace=True)\n",
    "#file_pheno_subset.head()"
   ]
  },
  {
   "cell_type": "code",
   "execution_count": 26,
   "metadata": {},
   "outputs": [
    {
     "data": {
      "text/html": [
       "<div>\n",
       "<style>\n",
       "    .dataframe thead tr:only-child th {\n",
       "        text-align: right;\n",
       "    }\n",
       "\n",
       "    .dataframe thead th {\n",
       "        text-align: left;\n",
       "    }\n",
       "\n",
       "    .dataframe tbody tr th {\n",
       "        vertical-align: top;\n",
       "    }\n",
       "</style>\n",
       "<table border=\"1\" class=\"dataframe\">\n",
       "  <thead>\n",
       "    <tr style=\"text-align: right;\">\n",
       "      <th></th>\n",
       "      <th>Subject</th>\n",
       "    </tr>\n",
       "  </thead>\n",
       "  <tbody>\n",
       "    <tr>\n",
       "      <th>count</th>\n",
       "      <td>801</td>\n",
       "    </tr>\n",
       "    <tr>\n",
       "      <th>unique</th>\n",
       "      <td>801</td>\n",
       "    </tr>\n",
       "    <tr>\n",
       "      <th>top</th>\n",
       "      <td>HCP112920</td>\n",
       "    </tr>\n",
       "    <tr>\n",
       "      <th>freq</th>\n",
       "      <td>1</td>\n",
       "    </tr>\n",
       "  </tbody>\n",
       "</table>\n",
       "</div>"
      ],
      "text/plain": [
       "          Subject\n",
       "count         801\n",
       "unique        801\n",
       "top     HCP112920\n",
       "freq            1"
      ]
     },
     "execution_count": 26,
     "metadata": {},
     "output_type": "execute_result"
    }
   ],
   "source": [
    "file_pheno_subset[[\"Subject\"]].describe()"
   ]
  },
  {
   "cell_type": "code",
   "execution_count": 27,
   "metadata": {},
   "outputs": [
    {
     "data": {
      "text/html": [
       "<div>\n",
       "<style>\n",
       "    .dataframe thead tr:only-child th {\n",
       "        text-align: right;\n",
       "    }\n",
       "\n",
       "    .dataframe thead th {\n",
       "        text-align: left;\n",
       "    }\n",
       "\n",
       "    .dataframe tbody tr th {\n",
       "        vertical-align: top;\n",
       "    }\n",
       "</style>\n",
       "<table border=\"1\" class=\"dataframe\">\n",
       "  <thead>\n",
       "    <tr style=\"text-align: right;\">\n",
       "      <th></th>\n",
       "      <th>Subject</th>\n",
       "    </tr>\n",
       "  </thead>\n",
       "  <tbody>\n",
       "    <tr>\n",
       "      <th>count</th>\n",
       "      <td>778</td>\n",
       "    </tr>\n",
       "    <tr>\n",
       "      <th>unique</th>\n",
       "      <td>778</td>\n",
       "    </tr>\n",
       "    <tr>\n",
       "      <th>top</th>\n",
       "      <td>HCP106319</td>\n",
       "    </tr>\n",
       "    <tr>\n",
       "      <th>freq</th>\n",
       "      <td>1</td>\n",
       "    </tr>\n",
       "  </tbody>\n",
       "</table>\n",
       "</div>"
      ],
      "text/plain": [
       "          Subject\n",
       "count         778\n",
       "unique        778\n",
       "top     HCP106319\n",
       "freq            1"
      ]
     },
     "execution_count": 27,
     "metadata": {},
     "output_type": "execute_result"
    }
   ],
   "source": [
    "file_weight[[\"Subject\"]].describe()"
   ]
  },
  {
   "cell_type": "code",
   "execution_count": 28,
   "metadata": {},
   "outputs": [
    {
     "data": {
      "text/html": [
       "<div>\n",
       "<style>\n",
       "    .dataframe thead tr:only-child th {\n",
       "        text-align: right;\n",
       "    }\n",
       "\n",
       "    .dataframe thead th {\n",
       "        text-align: left;\n",
       "    }\n",
       "\n",
       "    .dataframe tbody tr th {\n",
       "        vertical-align: top;\n",
       "    }\n",
       "</style>\n",
       "<table border=\"1\" class=\"dataframe\">\n",
       "  <thead>\n",
       "    <tr style=\"text-align: right;\">\n",
       "      <th></th>\n",
       "      <th>ID</th>\n",
       "      <th>LAN_story_sub1</th>\n",
       "      <th>LAN_story_sub2</th>\n",
       "      <th>LAN_story_sub3</th>\n",
       "      <th>LAN_story_sub4</th>\n",
       "      <th>LAN_story_sub5</th>\n",
       "      <th>Age_in_Yrs</th>\n",
       "      <th>Gender</th>\n",
       "      <th>BMI</th>\n",
       "      <th>LAN_FD_mean</th>\n",
       "      <th>LAN_FD_scrubbed_mean</th>\n",
       "    </tr>\n",
       "  </thead>\n",
       "  <tbody>\n",
       "    <tr>\n",
       "      <th>0</th>\n",
       "      <td>HCP100206</td>\n",
       "      <td>0.049</td>\n",
       "      <td>-0.063</td>\n",
       "      <td>0.084</td>\n",
       "      <td>-0.134</td>\n",
       "      <td>0.040</td>\n",
       "      <td>27.0</td>\n",
       "      <td>1.0</td>\n",
       "      <td>26.64</td>\n",
       "      <td>0.094210</td>\n",
       "      <td>0.094210</td>\n",
       "    </tr>\n",
       "    <tr>\n",
       "      <th>1</th>\n",
       "      <td>HCP100307</td>\n",
       "      <td>-0.547</td>\n",
       "      <td>0.570</td>\n",
       "      <td>-0.522</td>\n",
       "      <td>-0.197</td>\n",
       "      <td>0.317</td>\n",
       "      <td>27.0</td>\n",
       "      <td>2.0</td>\n",
       "      <td>22.96</td>\n",
       "      <td>0.110650</td>\n",
       "      <td>0.110650</td>\n",
       "    </tr>\n",
       "    <tr>\n",
       "      <th>2</th>\n",
       "      <td>HCP100408</td>\n",
       "      <td>0.060</td>\n",
       "      <td>-0.038</td>\n",
       "      <td>0.053</td>\n",
       "      <td>-0.003</td>\n",
       "      <td>-0.056</td>\n",
       "      <td>33.0</td>\n",
       "      <td>1.0</td>\n",
       "      <td>27.75</td>\n",
       "      <td>0.134142</td>\n",
       "      <td>0.134142</td>\n",
       "    </tr>\n",
       "    <tr>\n",
       "      <th>3</th>\n",
       "      <td>HCP100610</td>\n",
       "      <td>-0.323</td>\n",
       "      <td>0.290</td>\n",
       "      <td>-0.301</td>\n",
       "      <td>-0.224</td>\n",
       "      <td>0.314</td>\n",
       "      <td>27.0</td>\n",
       "      <td>1.0</td>\n",
       "      <td>36.91</td>\n",
       "      <td>0.184238</td>\n",
       "      <td>0.184238</td>\n",
       "    </tr>\n",
       "    <tr>\n",
       "      <th>4</th>\n",
       "      <td>HCP101006</td>\n",
       "      <td>-0.004</td>\n",
       "      <td>-0.032</td>\n",
       "      <td>0.025</td>\n",
       "      <td>-0.042</td>\n",
       "      <td>0.055</td>\n",
       "      <td>35.0</td>\n",
       "      <td>2.0</td>\n",
       "      <td>30.27</td>\n",
       "      <td>0.144401</td>\n",
       "      <td>0.144401</td>\n",
       "    </tr>\n",
       "  </tbody>\n",
       "</table>\n",
       "</div>"
      ],
      "text/plain": [
       "          ID  LAN_story_sub1  LAN_story_sub2  LAN_story_sub3  LAN_story_sub4  \\\n",
       "0  HCP100206           0.049          -0.063           0.084          -0.134   \n",
       "1  HCP100307          -0.547           0.570          -0.522          -0.197   \n",
       "2  HCP100408           0.060          -0.038           0.053          -0.003   \n",
       "3  HCP100610          -0.323           0.290          -0.301          -0.224   \n",
       "4  HCP101006          -0.004          -0.032           0.025          -0.042   \n",
       "\n",
       "   LAN_story_sub5  Age_in_Yrs  Gender    BMI  LAN_FD_mean  \\\n",
       "0           0.040        27.0     1.0  26.64     0.094210   \n",
       "1           0.317        27.0     2.0  22.96     0.110650   \n",
       "2          -0.056        33.0     1.0  27.75     0.134142   \n",
       "3           0.314        27.0     1.0  36.91     0.184238   \n",
       "4           0.055        35.0     2.0  30.27     0.144401   \n",
       "\n",
       "   LAN_FD_scrubbed_mean  \n",
       "0              0.094210  \n",
       "1              0.110650  \n",
       "2              0.134142  \n",
       "3              0.184238  \n",
       "4              0.144401  "
      ]
     },
     "execution_count": 28,
     "metadata": {},
     "output_type": "execute_result"
    }
   ],
   "source": [
    "# Merge weight with subset of pheno variables\n",
    "merged_weight_pheno = pd.merge(file_weight, file_pheno_subset, on='Subject', how='left')\n",
    "# Replace 'Subject' by 'ID'\n",
    "merged_weight_pheno.rename(columns={'Subject':'ID'},inplace=True)\n",
    "merged_weight_pheno.head()"
   ]
  },
  {
   "cell_type": "code",
   "execution_count": 29,
   "metadata": {},
   "outputs": [
    {
     "data": {
      "text/plain": [
       "count           778\n",
       "unique          778\n",
       "top       HCP106319\n",
       "freq              1\n",
       "Name: ID, dtype: object"
      ]
     },
     "execution_count": 29,
     "metadata": {},
     "output_type": "execute_result"
    }
   ],
   "source": [
    "merged_weight_pheno.ID.describe()"
   ]
  },
  {
   "cell_type": "code",
   "execution_count": 30,
   "metadata": {},
   "outputs": [
    {
     "data": {
      "text/plain": [
       "0"
      ]
     },
     "execution_count": 30,
     "metadata": {},
     "output_type": "execute_result"
    }
   ],
   "source": [
    "# Check if there is empty value in BMI\n",
    "sum(merged_weight_pheno.BMI.isnull())"
   ]
  },
  {
   "cell_type": "code",
   "execution_count": 31,
   "metadata": {},
   "outputs": [],
   "source": [
    "# Save the merged file\n",
    "merged_weight_pheno.to_csv(os.path.join(out_path,pheno_save), index=False)"
   ]
  },
  {
   "cell_type": "code",
   "execution_count": 32,
   "metadata": {},
   "outputs": [
    {
     "data": {
      "text/plain": [
       "'/media/yassine/data_disk/Drive/HCP2/Solar_heritability/HCP_subtype/solar_LANGUAGE_spm_5_pheno.csv'"
      ]
     },
     "execution_count": 32,
     "metadata": {},
     "output_type": "execute_result"
    }
   ],
   "source": [
    "os.path.join(out_path,pheno_save)"
   ]
  },
  {
   "cell_type": "markdown",
   "metadata": {},
   "source": [
    "## Build trait file"
   ]
  },
  {
   "cell_type": "code",
   "execution_count": 33,
   "metadata": {},
   "outputs": [
    {
     "data": {
      "text/plain": [
       "['LAN_story_sub1',\n",
       " 'LAN_story_sub2',\n",
       " 'LAN_story_sub3',\n",
       " 'LAN_story_sub4',\n",
       " 'LAN_story_sub5',\n",
       " 'BMI',\n",
       " 'LAN_FD_mean',\n",
       " 'LAN_FD_scrubbed_mean']"
      ]
     },
     "execution_count": 33,
     "metadata": {},
     "output_type": "execute_result"
    }
   ],
   "source": [
    "## build trait file\n",
    "# Remove not neaded traits\n",
    "list_trait = merged_weight_pheno.columns.tolist()\n",
    "new_list = [trait for trait in list_trait if trait not in ['ID','Age_in_Yrs','Gender']]\n",
    "new_list"
   ]
  },
  {
   "cell_type": "code",
   "execution_count": 34,
   "metadata": {},
   "outputs": [],
   "source": [
    "# Save trait file\n",
    "file_out = open(os.path.join(out_path,\"trait_file\"), 'w')\n",
    "for item in new_list:\n",
    "    file_out.write(\"%s\\n\" % item)\n",
    "file_out.close()"
   ]
  },
  {
   "cell_type": "markdown",
   "metadata": {},
   "source": [
    "## Build Pedigree file"
   ]
  },
  {
   "cell_type": "code",
   "execution_count": 35,
   "metadata": {},
   "outputs": [
    {
     "data": {
      "text/html": [
       "<div>\n",
       "<style>\n",
       "    .dataframe thead tr:only-child th {\n",
       "        text-align: right;\n",
       "    }\n",
       "\n",
       "    .dataframe thead th {\n",
       "        text-align: left;\n",
       "    }\n",
       "\n",
       "    .dataframe tbody tr th {\n",
       "        vertical-align: top;\n",
       "    }\n",
       "</style>\n",
       "<table border=\"1\" class=\"dataframe\">\n",
       "  <thead>\n",
       "    <tr style=\"text-align: right;\">\n",
       "      <th></th>\n",
       "      <th>Subject</th>\n",
       "      <th>Twin_Stat</th>\n",
       "      <th>Zygosity</th>\n",
       "      <th>Mother_ID</th>\n",
       "      <th>Gender</th>\n",
       "    </tr>\n",
       "  </thead>\n",
       "  <tbody>\n",
       "    <tr>\n",
       "      <th>0</th>\n",
       "      <td>HCP100206</td>\n",
       "      <td>NotTwin</td>\n",
       "      <td>NotTwin</td>\n",
       "      <td>56037.0</td>\n",
       "      <td>1.0</td>\n",
       "    </tr>\n",
       "    <tr>\n",
       "      <th>1</th>\n",
       "      <td>HCP100307</td>\n",
       "      <td>Twin</td>\n",
       "      <td>NotMZ</td>\n",
       "      <td>51488.0</td>\n",
       "      <td>2.0</td>\n",
       "    </tr>\n",
       "    <tr>\n",
       "      <th>2</th>\n",
       "      <td>HCP100408</td>\n",
       "      <td>Twin</td>\n",
       "      <td>MZ</td>\n",
       "      <td>51730.0</td>\n",
       "      <td>1.0</td>\n",
       "    </tr>\n",
       "    <tr>\n",
       "      <th>3</th>\n",
       "      <td>HCP100610</td>\n",
       "      <td>Twin</td>\n",
       "      <td>NotMZ</td>\n",
       "      <td>52813.0</td>\n",
       "      <td>1.0</td>\n",
       "    </tr>\n",
       "    <tr>\n",
       "      <th>4</th>\n",
       "      <td>HCP101006</td>\n",
       "      <td>Twin</td>\n",
       "      <td>MZ</td>\n",
       "      <td>51283.0</td>\n",
       "      <td>2.0</td>\n",
       "    </tr>\n",
       "  </tbody>\n",
       "</table>\n",
       "</div>"
      ],
      "text/plain": [
       "     Subject Twin_Stat Zygosity  Mother_ID  Gender\n",
       "0  HCP100206   NotTwin  NotTwin    56037.0     1.0\n",
       "1  HCP100307      Twin    NotMZ    51488.0     2.0\n",
       "2  HCP100408      Twin       MZ    51730.0     1.0\n",
       "3  HCP100610      Twin    NotMZ    52813.0     1.0\n",
       "4  HCP101006      Twin       MZ    51283.0     2.0"
      ]
     },
     "execution_count": 35,
     "metadata": {},
     "output_type": "execute_result"
    }
   ],
   "source": [
    "# Select a subset of variable from pheno file\n",
    "file_pheno_pedig = file_pheno[[\"Subject\",\"Twin_Stat\",\"Zygosity\",\"Mother_ID\",\"Gender\"]]\n",
    "file_pheno_pedig.head()"
   ]
  },
  {
   "cell_type": "code",
   "execution_count": 36,
   "metadata": {},
   "outputs": [
    {
     "data": {
      "text/plain": [
       "count           801\n",
       "unique          801\n",
       "top       HCP112920\n",
       "freq              1\n",
       "Name: Subject, dtype: object"
      ]
     },
     "execution_count": 36,
     "metadata": {},
     "output_type": "execute_result"
    }
   ],
   "source": [
    "file_pheno_pedig.Subject.describe()"
   ]
  },
  {
   "cell_type": "code",
   "execution_count": 37,
   "metadata": {},
   "outputs": [],
   "source": [
    "# Build pedigre : ID , mo, fo, hhID, mztwins,sex\n",
    "mother_id = [\"mo_{}\".format(row.Mother_ID) for ind, row in file_pheno_pedig.iterrows()]\n",
    "father_id = [\"fa_{}\".format(row.Mother_ID) for ind, row in file_pheno_pedig.iterrows()]\n",
    "household_id = [\"hh_{}\".format(row.Mother_ID) for ind, row in file_pheno_pedig.iterrows()]\n",
    "twin_id = [\"pair_{}\".format(row.Mother_ID) if row.Zygosity == \"MZ\" else \"\" for ind, row in file_pheno_pedig.iterrows()]"
   ]
  },
  {
   "cell_type": "code",
   "execution_count": 38,
   "metadata": {},
   "outputs": [
    {
     "name": "stdout",
     "output_type": "stream",
     "text": [
      "head\n"
     ]
    },
    {
     "data": {
      "text/html": [
       "<div>\n",
       "<style>\n",
       "    .dataframe thead tr:only-child th {\n",
       "        text-align: right;\n",
       "    }\n",
       "\n",
       "    .dataframe thead th {\n",
       "        text-align: left;\n",
       "    }\n",
       "\n",
       "    .dataframe tbody tr th {\n",
       "        vertical-align: top;\n",
       "    }\n",
       "</style>\n",
       "<table border=\"1\" class=\"dataframe\">\n",
       "  <thead>\n",
       "    <tr style=\"text-align: right;\">\n",
       "      <th></th>\n",
       "      <th>ID</th>\n",
       "      <th>fa</th>\n",
       "      <th>mo</th>\n",
       "      <th>sex</th>\n",
       "      <th>mztwin</th>\n",
       "      <th>hhID</th>\n",
       "    </tr>\n",
       "  </thead>\n",
       "  <tbody>\n",
       "    <tr>\n",
       "      <th>0</th>\n",
       "      <td>HCP100206</td>\n",
       "      <td>fa_56037.0</td>\n",
       "      <td>mo_56037.0</td>\n",
       "      <td>1</td>\n",
       "      <td></td>\n",
       "      <td>hh_56037.0</td>\n",
       "    </tr>\n",
       "    <tr>\n",
       "      <th>1</th>\n",
       "      <td>HCP100307</td>\n",
       "      <td>fa_51488.0</td>\n",
       "      <td>mo_51488.0</td>\n",
       "      <td>2</td>\n",
       "      <td></td>\n",
       "      <td>hh_51488.0</td>\n",
       "    </tr>\n",
       "    <tr>\n",
       "      <th>2</th>\n",
       "      <td>HCP100408</td>\n",
       "      <td>fa_51730.0</td>\n",
       "      <td>mo_51730.0</td>\n",
       "      <td>1</td>\n",
       "      <td>pair_51730.0</td>\n",
       "      <td>hh_51730.0</td>\n",
       "    </tr>\n",
       "    <tr>\n",
       "      <th>3</th>\n",
       "      <td>HCP100610</td>\n",
       "      <td>fa_52813.0</td>\n",
       "      <td>mo_52813.0</td>\n",
       "      <td>1</td>\n",
       "      <td></td>\n",
       "      <td>hh_52813.0</td>\n",
       "    </tr>\n",
       "    <tr>\n",
       "      <th>4</th>\n",
       "      <td>HCP101006</td>\n",
       "      <td>fa_51283.0</td>\n",
       "      <td>mo_51283.0</td>\n",
       "      <td>2</td>\n",
       "      <td>pair_51283.0</td>\n",
       "      <td>hh_51283.0</td>\n",
       "    </tr>\n",
       "  </tbody>\n",
       "</table>\n",
       "</div>"
      ],
      "text/plain": [
       "          ID          fa          mo  sex        mztwin        hhID\n",
       "0  HCP100206  fa_56037.0  mo_56037.0    1                hh_56037.0\n",
       "1  HCP100307  fa_51488.0  mo_51488.0    2                hh_51488.0\n",
       "2  HCP100408  fa_51730.0  mo_51730.0    1  pair_51730.0  hh_51730.0\n",
       "3  HCP100610  fa_52813.0  mo_52813.0    1                hh_52813.0\n",
       "4  HCP101006  fa_51283.0  mo_51283.0    2  pair_51283.0  hh_51283.0"
      ]
     },
     "metadata": {},
     "output_type": "display_data"
    },
    {
     "name": "stdout",
     "output_type": "stream",
     "text": [
      "tail\n"
     ]
    },
    {
     "data": {
      "text/html": [
       "<div>\n",
       "<style>\n",
       "    .dataframe thead tr:only-child th {\n",
       "        text-align: right;\n",
       "    }\n",
       "\n",
       "    .dataframe thead th {\n",
       "        text-align: left;\n",
       "    }\n",
       "\n",
       "    .dataframe tbody tr th {\n",
       "        vertical-align: top;\n",
       "    }\n",
       "</style>\n",
       "<table border=\"1\" class=\"dataframe\">\n",
       "  <thead>\n",
       "    <tr style=\"text-align: right;\">\n",
       "      <th></th>\n",
       "      <th>ID</th>\n",
       "      <th>fa</th>\n",
       "      <th>mo</th>\n",
       "      <th>sex</th>\n",
       "      <th>mztwin</th>\n",
       "      <th>hhID</th>\n",
       "    </tr>\n",
       "  </thead>\n",
       "  <tbody>\n",
       "    <tr>\n",
       "      <th>796</th>\n",
       "      <td>HCP992673</td>\n",
       "      <td>fa_56143.0</td>\n",
       "      <td>mo_56143.0</td>\n",
       "      <td>2</td>\n",
       "      <td></td>\n",
       "      <td>hh_56143.0</td>\n",
       "    </tr>\n",
       "    <tr>\n",
       "      <th>797</th>\n",
       "      <td>HCP992774</td>\n",
       "      <td>fa_51345.0</td>\n",
       "      <td>mo_51345.0</td>\n",
       "      <td>1</td>\n",
       "      <td></td>\n",
       "      <td>hh_51345.0</td>\n",
       "    </tr>\n",
       "    <tr>\n",
       "      <th>798</th>\n",
       "      <td>HCP993675</td>\n",
       "      <td>fa_55800.0</td>\n",
       "      <td>mo_55800.0</td>\n",
       "      <td>2</td>\n",
       "      <td></td>\n",
       "      <td>hh_55800.0</td>\n",
       "    </tr>\n",
       "    <tr>\n",
       "      <th>799</th>\n",
       "      <td>HCP994273</td>\n",
       "      <td>fa_52364.0</td>\n",
       "      <td>mo_52364.0</td>\n",
       "      <td>1</td>\n",
       "      <td></td>\n",
       "      <td>hh_52364.0</td>\n",
       "    </tr>\n",
       "    <tr>\n",
       "      <th>800</th>\n",
       "      <td>HCP996782</td>\n",
       "      <td>fa_51541.0</td>\n",
       "      <td>mo_51541.0</td>\n",
       "      <td>2</td>\n",
       "      <td></td>\n",
       "      <td>hh_51541.0</td>\n",
       "    </tr>\n",
       "  </tbody>\n",
       "</table>\n",
       "</div>"
      ],
      "text/plain": [
       "            ID          fa          mo  sex mztwin        hhID\n",
       "796  HCP992673  fa_56143.0  mo_56143.0    2         hh_56143.0\n",
       "797  HCP992774  fa_51345.0  mo_51345.0    1         hh_51345.0\n",
       "798  HCP993675  fa_55800.0  mo_55800.0    2         hh_55800.0\n",
       "799  HCP994273  fa_52364.0  mo_52364.0    1         hh_52364.0\n",
       "800  HCP996782  fa_51541.0  mo_51541.0    2         hh_51541.0"
      ]
     },
     "metadata": {},
     "output_type": "display_data"
    },
    {
     "data": {
      "text/plain": [
       "ID        801\n",
       "fa        801\n",
       "mo        801\n",
       "sex       801\n",
       "mztwin    801\n",
       "hhID      801\n",
       "dtype: int64"
      ]
     },
     "execution_count": 38,
     "metadata": {},
     "output_type": "execute_result"
    }
   ],
   "source": [
    "# write into new data frame\n",
    "df_pedig = pd.DataFrame()\n",
    "df_pedig[\"ID\"] = file_pheno_pedig.Subject\n",
    "df_pedig[\"fa\"] = father_id\n",
    "df_pedig[\"mo\"] = mother_id\n",
    "df_pedig[\"sex\"] = file_pheno_pedig.Gender.astype(int)\n",
    "df_pedig[\"mztwin\"] = twin_id\n",
    "df_pedig[\"hhID\"] = household_id\n",
    "\n",
    "\n",
    "print(\"head\")\n",
    "display(df_pedig.head())\n",
    "print(\"tail\")\n",
    "display(df_pedig.tail())\n",
    "df_pedig.count()"
   ]
  },
  {
   "cell_type": "code",
   "execution_count": 39,
   "metadata": {
    "scrolled": false
   },
   "outputs": [],
   "source": [
    "# Look for MZ twins missing their co-twin\n",
    "uniques = list(df_pedig.mztwin.unique())\n",
    "uniques.pop(0)\n",
    "twin_counts = [np.sum(df_pedig.mztwin==twin) for twin in uniques]\n",
    "#for idx, twin in enumerate(uniques):\n",
    "    #print(\"{} occurs {} times\".format(twin, twin_counts[idx]))"
   ]
  },
  {
   "cell_type": "code",
   "execution_count": 40,
   "metadata": {},
   "outputs": [],
   "source": [
    "# create a mask that will kepp only MZ twins missing their co-twin\n",
    "singles = [True if np.sum(df_pedig.mztwin==row.mztwin)==1 else False for ind, row in df_pedig.iterrows()]"
   ]
  },
  {
   "cell_type": "code",
   "execution_count": 41,
   "metadata": {},
   "outputs": [],
   "source": [
    "# Make a copy of the pedigre to avoid missing up with the original data\n",
    "copy_df_pedig = df_pedig.copy()"
   ]
  },
  {
   "cell_type": "code",
   "execution_count": 42,
   "metadata": {
    "scrolled": true
   },
   "outputs": [
    {
     "data": {
      "text/html": [
       "<div>\n",
       "<style>\n",
       "    .dataframe thead tr:only-child th {\n",
       "        text-align: right;\n",
       "    }\n",
       "\n",
       "    .dataframe thead th {\n",
       "        text-align: left;\n",
       "    }\n",
       "\n",
       "    .dataframe tbody tr th {\n",
       "        vertical-align: top;\n",
       "    }\n",
       "</style>\n",
       "<table border=\"1\" class=\"dataframe\">\n",
       "  <thead>\n",
       "    <tr style=\"text-align: right;\">\n",
       "      <th></th>\n",
       "      <th>ID</th>\n",
       "      <th>fa</th>\n",
       "      <th>mo</th>\n",
       "      <th>sex</th>\n",
       "      <th>mztwin</th>\n",
       "      <th>hhID</th>\n",
       "    </tr>\n",
       "  </thead>\n",
       "  <tbody>\n",
       "    <tr>\n",
       "      <th>37</th>\n",
       "      <td>M_HCP110007</td>\n",
       "      <td>fa_54572.0</td>\n",
       "      <td>mo_54572.0</td>\n",
       "      <td>2</td>\n",
       "      <td>pair_54572.0</td>\n",
       "      <td>hh_54572.0</td>\n",
       "    </tr>\n",
       "    <tr>\n",
       "      <th>55</th>\n",
       "      <td>M_HCP114823</td>\n",
       "      <td>fa_52925.0</td>\n",
       "      <td>mo_52925.0</td>\n",
       "      <td>2</td>\n",
       "      <td>pair_52925.0</td>\n",
       "      <td>hh_52925.0</td>\n",
       "    </tr>\n",
       "    <tr>\n",
       "      <th>82</th>\n",
       "      <td>M_HCP122317</td>\n",
       "      <td>fa_51802.0</td>\n",
       "      <td>mo_51802.0</td>\n",
       "      <td>1</td>\n",
       "      <td>pair_51802.0</td>\n",
       "      <td>hh_51802.0</td>\n",
       "    </tr>\n",
       "    <tr>\n",
       "      <th>87</th>\n",
       "      <td>M_HCP123824</td>\n",
       "      <td>fa_56022.0</td>\n",
       "      <td>mo_56022.0</td>\n",
       "      <td>1</td>\n",
       "      <td>pair_56022.0</td>\n",
       "      <td>hh_56022.0</td>\n",
       "    </tr>\n",
       "    <tr>\n",
       "      <th>90</th>\n",
       "      <td>M_HCP124422</td>\n",
       "      <td>fa_51529.0</td>\n",
       "      <td>mo_51529.0</td>\n",
       "      <td>2</td>\n",
       "      <td>pair_51529.0</td>\n",
       "      <td>hh_51529.0</td>\n",
       "    </tr>\n",
       "  </tbody>\n",
       "</table>\n",
       "</div>"
      ],
      "text/plain": [
       "             ID          fa          mo  sex        mztwin        hhID\n",
       "37  M_HCP110007  fa_54572.0  mo_54572.0    2  pair_54572.0  hh_54572.0\n",
       "55  M_HCP114823  fa_52925.0  mo_52925.0    2  pair_52925.0  hh_52925.0\n",
       "82  M_HCP122317  fa_51802.0  mo_51802.0    1  pair_51802.0  hh_51802.0\n",
       "87  M_HCP123824  fa_56022.0  mo_56022.0    1  pair_56022.0  hh_56022.0\n",
       "90  M_HCP124422  fa_51529.0  mo_51529.0    2  pair_51529.0  hh_51529.0"
      ]
     },
     "metadata": {},
     "output_type": "display_data"
    },
    {
     "data": {
      "text/plain": [
       "ID        42\n",
       "fa        42\n",
       "mo        42\n",
       "sex       42\n",
       "mztwin    42\n",
       "hhID      42\n",
       "dtype: int64"
      ]
     },
     "execution_count": 42,
     "metadata": {},
     "output_type": "execute_result"
    }
   ],
   "source": [
    "# Select only MZ twins missing their co-twin\n",
    "df_single_pedig = copy_df_pedig[singles]\n",
    "\n",
    "# Add \"M_\" (for missing) to a the single MZ twins\n",
    "for i, row in df_single_pedig.iterrows():\n",
    "    df_single_pedig.set_value(i,\"ID\",\"M_{}\".format(row.ID))\n",
    "display(df_single_pedig.head())\n",
    "df_single_pedig.count()"
   ]
  },
  {
   "cell_type": "code",
   "execution_count": 43,
   "metadata": {
    "scrolled": true
   },
   "outputs": [
    {
     "data": {
      "text/html": [
       "<div>\n",
       "<style>\n",
       "    .dataframe thead tr:only-child th {\n",
       "        text-align: right;\n",
       "    }\n",
       "\n",
       "    .dataframe thead th {\n",
       "        text-align: left;\n",
       "    }\n",
       "\n",
       "    .dataframe tbody tr th {\n",
       "        vertical-align: top;\n",
       "    }\n",
       "</style>\n",
       "<table border=\"1\" class=\"dataframe\">\n",
       "  <thead>\n",
       "    <tr style=\"text-align: right;\">\n",
       "      <th></th>\n",
       "      <th>ID</th>\n",
       "      <th>fa</th>\n",
       "      <th>mo</th>\n",
       "      <th>sex</th>\n",
       "      <th>mztwin</th>\n",
       "      <th>hhID</th>\n",
       "    </tr>\n",
       "  </thead>\n",
       "  <tbody>\n",
       "    <tr>\n",
       "      <th>0</th>\n",
       "      <td>HCP100206</td>\n",
       "      <td>fa_56037.0</td>\n",
       "      <td>mo_56037.0</td>\n",
       "      <td>1</td>\n",
       "      <td></td>\n",
       "      <td>hh_56037.0</td>\n",
       "    </tr>\n",
       "    <tr>\n",
       "      <th>1</th>\n",
       "      <td>HCP100307</td>\n",
       "      <td>fa_51488.0</td>\n",
       "      <td>mo_51488.0</td>\n",
       "      <td>2</td>\n",
       "      <td></td>\n",
       "      <td>hh_51488.0</td>\n",
       "    </tr>\n",
       "    <tr>\n",
       "      <th>2</th>\n",
       "      <td>HCP100408</td>\n",
       "      <td>fa_51730.0</td>\n",
       "      <td>mo_51730.0</td>\n",
       "      <td>1</td>\n",
       "      <td>pair_51730.0</td>\n",
       "      <td>hh_51730.0</td>\n",
       "    </tr>\n",
       "    <tr>\n",
       "      <th>3</th>\n",
       "      <td>HCP100610</td>\n",
       "      <td>fa_52813.0</td>\n",
       "      <td>mo_52813.0</td>\n",
       "      <td>1</td>\n",
       "      <td></td>\n",
       "      <td>hh_52813.0</td>\n",
       "    </tr>\n",
       "    <tr>\n",
       "      <th>4</th>\n",
       "      <td>HCP101006</td>\n",
       "      <td>fa_51283.0</td>\n",
       "      <td>mo_51283.0</td>\n",
       "      <td>2</td>\n",
       "      <td>pair_51283.0</td>\n",
       "      <td>hh_51283.0</td>\n",
       "    </tr>\n",
       "  </tbody>\n",
       "</table>\n",
       "</div>"
      ],
      "text/plain": [
       "          ID          fa          mo  sex        mztwin        hhID\n",
       "0  HCP100206  fa_56037.0  mo_56037.0    1                hh_56037.0\n",
       "1  HCP100307  fa_51488.0  mo_51488.0    2                hh_51488.0\n",
       "2  HCP100408  fa_51730.0  mo_51730.0    1  pair_51730.0  hh_51730.0\n",
       "3  HCP100610  fa_52813.0  mo_52813.0    1                hh_52813.0\n",
       "4  HCP101006  fa_51283.0  mo_51283.0    2  pair_51283.0  hh_51283.0"
      ]
     },
     "execution_count": 43,
     "metadata": {},
     "output_type": "execute_result"
    }
   ],
   "source": [
    "# Append pedgree with fake co-twin for the missing one\n",
    "df_pedig_final = copy_df_pedig.append(df_single_pedig)\n",
    "df_pedig_final.head()"
   ]
  },
  {
   "cell_type": "code",
   "execution_count": 44,
   "metadata": {
    "scrolled": true
   },
   "outputs": [
    {
     "data": {
      "text/html": [
       "<div>\n",
       "<style>\n",
       "    .dataframe thead tr:only-child th {\n",
       "        text-align: right;\n",
       "    }\n",
       "\n",
       "    .dataframe thead th {\n",
       "        text-align: left;\n",
       "    }\n",
       "\n",
       "    .dataframe tbody tr th {\n",
       "        vertical-align: top;\n",
       "    }\n",
       "</style>\n",
       "<table border=\"1\" class=\"dataframe\">\n",
       "  <thead>\n",
       "    <tr style=\"text-align: right;\">\n",
       "      <th></th>\n",
       "      <th>ID</th>\n",
       "      <th>fa</th>\n",
       "      <th>mo</th>\n",
       "      <th>sex</th>\n",
       "      <th>mztwin</th>\n",
       "      <th>hhID</th>\n",
       "    </tr>\n",
       "  </thead>\n",
       "  <tbody>\n",
       "    <tr>\n",
       "      <th>694</th>\n",
       "      <td>M_HCP769064</td>\n",
       "      <td>fa_52803.0</td>\n",
       "      <td>mo_52803.0</td>\n",
       "      <td>1</td>\n",
       "      <td>pair_52803.0</td>\n",
       "      <td>hh_52803.0</td>\n",
       "    </tr>\n",
       "    <tr>\n",
       "      <th>721</th>\n",
       "      <td>M_HCP835657</td>\n",
       "      <td>fa_52137.0</td>\n",
       "      <td>mo_52137.0</td>\n",
       "      <td>2</td>\n",
       "      <td>pair_52137.0</td>\n",
       "      <td>hh_52137.0</td>\n",
       "    </tr>\n",
       "    <tr>\n",
       "      <th>723</th>\n",
       "      <td>M_HCP837964</td>\n",
       "      <td>fa_52875.0</td>\n",
       "      <td>mo_52875.0</td>\n",
       "      <td>2</td>\n",
       "      <td>pair_52875.0</td>\n",
       "      <td>hh_52875.0</td>\n",
       "    </tr>\n",
       "    <tr>\n",
       "      <th>764</th>\n",
       "      <td>M_HCP904044</td>\n",
       "      <td>fa_51290.0</td>\n",
       "      <td>mo_51290.0</td>\n",
       "      <td>2</td>\n",
       "      <td>pair_51290.0</td>\n",
       "      <td>hh_51290.0</td>\n",
       "    </tr>\n",
       "    <tr>\n",
       "      <th>788</th>\n",
       "      <td>M_HCP972566</td>\n",
       "      <td>fa_56077.0</td>\n",
       "      <td>mo_56077.0</td>\n",
       "      <td>2</td>\n",
       "      <td>pair_56077.0</td>\n",
       "      <td>hh_56077.0</td>\n",
       "    </tr>\n",
       "  </tbody>\n",
       "</table>\n",
       "</div>"
      ],
      "text/plain": [
       "              ID          fa          mo  sex        mztwin        hhID\n",
       "694  M_HCP769064  fa_52803.0  mo_52803.0    1  pair_52803.0  hh_52803.0\n",
       "721  M_HCP835657  fa_52137.0  mo_52137.0    2  pair_52137.0  hh_52137.0\n",
       "723  M_HCP837964  fa_52875.0  mo_52875.0    2  pair_52875.0  hh_52875.0\n",
       "764  M_HCP904044  fa_51290.0  mo_51290.0    2  pair_51290.0  hh_51290.0\n",
       "788  M_HCP972566  fa_56077.0  mo_56077.0    2  pair_56077.0  hh_56077.0"
      ]
     },
     "execution_count": 44,
     "metadata": {},
     "output_type": "execute_result"
    }
   ],
   "source": [
    "df_pedig_final.tail()"
   ]
  },
  {
   "cell_type": "code",
   "execution_count": 45,
   "metadata": {},
   "outputs": [
    {
     "data": {
      "text/plain": [
       "ID        843\n",
       "fa        843\n",
       "mo        843\n",
       "sex       843\n",
       "mztwin    843\n",
       "hhID      843\n",
       "dtype: int64"
      ]
     },
     "execution_count": 45,
     "metadata": {},
     "output_type": "execute_result"
    }
   ],
   "source": [
    "df_pedig_final.count()"
   ]
  },
  {
   "cell_type": "code",
   "execution_count": 46,
   "metadata": {},
   "outputs": [],
   "source": [
    "# Save the pedigree file\n",
    "df_pedig_final.to_csv(os.path.join(out_path,pedig_save), index=False)"
   ]
  },
  {
   "cell_type": "markdown",
   "metadata": {},
   "source": [
    "## Run SOLAR heritability estimate "
   ]
  },
  {
   "cell_type": "code",
   "execution_count": 47,
   "metadata": {},
   "outputs": [],
   "source": [
    "%%bash -s \"$out_path\" \"$solar_cov\" \"$solar_script\" \n",
    "cd $1 #cd to out_path\n",
    "#sufix=$(echo $2 | sed -e 's/ /_/g') # add a suffix of covariate\n",
    "sed -i \"104s/.*/$2/\" $3 # feed the covariate to solar script\n",
    "sed -i \"52s~.*~$1phi2.gz~\" $3 # put the right path for the simlink\n",
    "sed -i \"53s~.*~$1pedindex.out~\" $3\n",
    "sed -i \"54s~.*~$1pedindex.cde~\" $3\n",
    "sed -i \"55s~.*~$1se_univ_polygen.tcl~\" $3"
   ]
  },
  {
   "cell_type": "code",
   "execution_count": 48,
   "metadata": {},
   "outputs": [
    {
     "name": "stdout",
     "output_type": "stream",
     "text": [
      "\n",
      "SOLAR Eclipse version 8.1.1 (General), last updated on December 12, 2017\n",
      "Copyright (c) 1995-2017 Texas Biomedical Research Institute\n",
      "Enter help for help, exit to exit, doc to browse documentation.\n",
      "\n",
      "Unloading current pedigree data ...\n",
      "Loading pedigree data from the file solar_LANGUAGE_spm_pedigre.csv ...\n",
      "Running mibd relate ...                                                 \r",
      "Reading classes.tab ...                                                 \r",
      "Reading mibdrel.ped ...                                                 \r",
      "Writing output file ...                                                 \r",
      "                                                                        \r",
      "::::::::::::::\n",
      "mibdrel.tab\n",
      "::::::::::::::\n",
      "\n",
      "    NPairs  Relationship\n",
      "  ========  ===========================================\n",
      "      1573  Self\n",
      "       117  Identical sib pair\n",
      "      1686  Parent-offspring\n",
      "       588  Siblings\n",
      "       365  Unrelated\n",
      "\n"
     ]
    }
   ],
   "source": [
    "%%bash -s \"$out_path\" \"$pedig_save\"\n",
    "cd $1\n",
    "solar <<INTERNAL_SOLAR_SCRIPT  \n",
    "load pedi $2\n",
    "pedigree classes -full\n",
    "INTERNAL_SOLAR_SCRIPT"
   ]
  },
  {
   "cell_type": "code",
   "execution_count": 49,
   "metadata": {},
   "outputs": [
    {
     "name": "stdout",
     "output_type": "stream",
     "text": [
      "\n",
      "SOLAR Eclipse version 8.1.1 (General), last updated on December 12, 2017\n",
      "Copyright (c) 1995-2017 Texas Biomedical Research Institute\n",
      "Enter help for help, exit to exit, doc to browse documentation.\n",
      "\n",
      "Creating output directories...\n",
      "00000 : Set-0 : LAN_story_sub1                                                  \r",
      "00001 : Set-1 : LAN_story_sub2                                                  \r",
      "00002 : Set-2 : LAN_story_sub3                                                  \r",
      "00003 : Set-3 : LAN_story_sub4                                                  \r",
      "00004 : Set-4 : LAN_story_sub5                                                  \r",
      "00005 : Set-5 : BMI                                                  \r",
      "00006 : Set-6 : LAN_FD_mean                                                  \r",
      "00007 : Set-7 : LAN_FD_scrubbed_mean                                                  \r\n",
      "All done.\n"
     ]
    }
   ],
   "source": [
    "%%bash -s \"$out_path\" \"$pheno_save\" \"$solar_out\"\n",
    "cd $1\n",
    "#if [ ! -d $3 ]; then\n",
    "#   mkdir $3\n",
    "#fi\n",
    "solar <<INTERNAL_SOLAR_SCRIPT \n",
    "load pheno $2\n",
    "INTERNAL_SOLAR_SCRIPT\n",
    "bash fcd_solar_h2r_test.sh trait_file $3 $1$2\n",
    "for i in $3/Set-*; do bash $i/run_all.sh ; done"
   ]
  },
  {
   "cell_type": "markdown",
   "metadata": {},
   "source": [
    "## Results"
   ]
  },
  {
   "cell_type": "code",
   "execution_count": 8,
   "metadata": {},
   "outputs": [
    {
     "data": {
      "text/html": [
       "<div>\n",
       "<style scoped>\n",
       "    .dataframe tbody tr th:only-of-type {\n",
       "        vertical-align: middle;\n",
       "    }\n",
       "\n",
       "    .dataframe tbody tr th {\n",
       "        vertical-align: top;\n",
       "    }\n",
       "\n",
       "    .dataframe thead th {\n",
       "        text-align: right;\n",
       "    }\n",
       "</style>\n",
       "<table border=\"1\" class=\"dataframe\">\n",
       "  <thead>\n",
       "    <tr style=\"text-align: right;\">\n",
       "      <th></th>\n",
       "      <th>Trait</th>\n",
       "      <th>H2r</th>\n",
       "      <th>P</th>\n",
       "      <th>CovVarianceExpl</th>\n",
       "    </tr>\n",
       "  </thead>\n",
       "  <tbody>\n",
       "    <tr>\n",
       "      <th>0</th>\n",
       "      <td>BMI_norm</td>\n",
       "      <td>0.508834</td>\n",
       "      <td>5.349089e-11</td>\n",
       "      <td>0.371345</td>\n",
       "    </tr>\n",
       "    <tr>\n",
       "      <th>1</th>\n",
       "      <td>LAN_FD_mean_norm</td>\n",
       "      <td>0.308855</td>\n",
       "      <td>8.680000e-05</td>\n",
       "      <td>0.831375</td>\n",
       "    </tr>\n",
       "    <tr>\n",
       "      <th>2</th>\n",
       "      <td>LAN_FD_scrubbed_mean_norm</td>\n",
       "      <td>0.044349</td>\n",
       "      <td>2.599000e-01</td>\n",
       "      <td>0.961540</td>\n",
       "    </tr>\n",
       "    <tr>\n",
       "      <th>3</th>\n",
       "      <td>LAN_story_sub1_norm</td>\n",
       "      <td>0.623924</td>\n",
       "      <td>7.212409e-20</td>\n",
       "      <td>0.000387</td>\n",
       "    </tr>\n",
       "    <tr>\n",
       "      <th>4</th>\n",
       "      <td>LAN_story_sub2_norm</td>\n",
       "      <td>0.625575</td>\n",
       "      <td>1.519570e-19</td>\n",
       "      <td>0.000113</td>\n",
       "    </tr>\n",
       "    <tr>\n",
       "      <th>5</th>\n",
       "      <td>LAN_story_sub3_norm</td>\n",
       "      <td>0.617065</td>\n",
       "      <td>4.149818e-19</td>\n",
       "      <td>0.000041</td>\n",
       "    </tr>\n",
       "    <tr>\n",
       "      <th>6</th>\n",
       "      <td>LAN_story_sub4_norm</td>\n",
       "      <td>0.616222</td>\n",
       "      <td>1.233233e-18</td>\n",
       "      <td>0.011030</td>\n",
       "    </tr>\n",
       "    <tr>\n",
       "      <th>7</th>\n",
       "      <td>LAN_story_sub5_norm</td>\n",
       "      <td>0.635130</td>\n",
       "      <td>4.557154e-21</td>\n",
       "      <td>0.001847</td>\n",
       "    </tr>\n",
       "  </tbody>\n",
       "</table>\n",
       "</div>"
      ],
      "text/plain": [
       "                       Trait       H2r             P  CovVarianceExpl\n",
       "0       BMI_norm              0.508834  5.349089e-11         0.371345\n",
       "1       LAN_FD_mean_norm      0.308855  8.680000e-05         0.831375\n",
       "2  LAN_FD_scrubbed_mean_norm  0.044349  2.599000e-01         0.961540\n",
       "3       LAN_story_sub1_norm   0.623924  7.212409e-20         0.000387\n",
       "4       LAN_story_sub2_norm   0.625575  1.519570e-19         0.000113\n",
       "5       LAN_story_sub3_norm   0.617065  4.149818e-19         0.000041\n",
       "6       LAN_story_sub4_norm   0.616222  1.233233e-18         0.011030\n",
       "7       LAN_story_sub5_norm   0.635130  4.557154e-21         0.001847"
      ]
     },
     "execution_count": 8,
     "metadata": {},
     "output_type": "execute_result"
    }
   ],
   "source": [
    "solar_out = 'subtype_5_language_23-01-2018'\n",
    "out_herit = pd.read_csv(os.path.join(out_path,solar_out,\"se_out.out\"),sep=\"\\t\",header=None)\n",
    "out_herit_df =  pd.DataFrame()\n",
    "\n",
    "data = pd.DataFrame({\"Trait\": out_herit[2],\"H2r\": out_herit[4],\"P\": out_herit[7],\"CovVarianceExpl\": out_herit[9]})\n",
    "out_herit_df = data[[\"Trait\",\"H2r\",\"P\",\"CovVarianceExpl\"]].sort_values(['Trait'], ascending=[True]).reset_index(drop=True)\n",
    "out_herit_df.to_csv(os.path.join(out_path,solar_out,'language_h2r_raw.csv'),index=False)\n",
    "out_herit_df"
   ]
  },
  {
   "cell_type": "code",
   "execution_count": 11,
   "metadata": {},
   "outputs": [],
   "source": [
    "# remove unwanted Variables\n",
    "out_herit_df_clean = out_herit_df[~out_herit_df['Trait'].str.strip().isin(['BMI_norm',\n",
    "                                                                           '{}_FD_mean_norm'.format(task_name[:3].upper()),\n",
    "                                                                           '{}_FD_scrubbed_mean_norm'.format(task_name[:3].upper())])]"
   ]
  },
  {
   "cell_type": "code",
   "execution_count": 12,
   "metadata": {},
   "outputs": [],
   "source": [
    "# FDR\n",
    "from statsmodels.sandbox.stats import multicomp as smi\n",
    "pcorr_vec = smi.multipletests(out_herit_df_clean['P'], alpha=0.05, method='fdr_bh')\n",
    "out_herit_df_clean.insert(3,'FDR',pcorr_vec[1])\n",
    "out_herit_df_clean.insert(4,'FDR_log10',-np.log10(pcorr_vec[1]))"
   ]
  },
  {
   "cell_type": "code",
   "execution_count": 13,
   "metadata": {},
   "outputs": [
    {
     "data": {
      "text/html": [
       "<div>\n",
       "<style>\n",
       "    .dataframe thead tr:only-child th {\n",
       "        text-align: right;\n",
       "    }\n",
       "\n",
       "    .dataframe thead th {\n",
       "        text-align: left;\n",
       "    }\n",
       "\n",
       "    .dataframe tbody tr th {\n",
       "        vertical-align: top;\n",
       "    }\n",
       "</style>\n",
       "<table border=\"1\" class=\"dataframe\">\n",
       "  <thead>\n",
       "    <tr style=\"text-align: right;\">\n",
       "      <th></th>\n",
       "      <th>Trait</th>\n",
       "      <th>H2r</th>\n",
       "      <th>P</th>\n",
       "      <th>FDR</th>\n",
       "      <th>FDR_log10</th>\n",
       "      <th>CovVarianceExpl</th>\n",
       "    </tr>\n",
       "  </thead>\n",
       "  <tbody>\n",
       "    <tr>\n",
       "      <th>3</th>\n",
       "      <td>LAN_story_sub1_norm</td>\n",
       "      <td>0.623924</td>\n",
       "      <td>7.212409e-20</td>\n",
       "      <td>1.803102e-19</td>\n",
       "      <td>18.743980</td>\n",
       "      <td>0.000387</td>\n",
       "    </tr>\n",
       "    <tr>\n",
       "      <th>4</th>\n",
       "      <td>LAN_story_sub2_norm</td>\n",
       "      <td>0.625575</td>\n",
       "      <td>1.519570e-19</td>\n",
       "      <td>2.532616e-19</td>\n",
       "      <td>18.596431</td>\n",
       "      <td>0.000113</td>\n",
       "    </tr>\n",
       "    <tr>\n",
       "      <th>5</th>\n",
       "      <td>LAN_story_sub3_norm</td>\n",
       "      <td>0.617065</td>\n",
       "      <td>4.149818e-19</td>\n",
       "      <td>5.187272e-19</td>\n",
       "      <td>18.285061</td>\n",
       "      <td>0.000041</td>\n",
       "    </tr>\n",
       "    <tr>\n",
       "      <th>6</th>\n",
       "      <td>LAN_story_sub4_norm</td>\n",
       "      <td>0.616222</td>\n",
       "      <td>1.233233e-18</td>\n",
       "      <td>1.233233e-18</td>\n",
       "      <td>17.908955</td>\n",
       "      <td>0.011030</td>\n",
       "    </tr>\n",
       "    <tr>\n",
       "      <th>7</th>\n",
       "      <td>LAN_story_sub5_norm</td>\n",
       "      <td>0.635130</td>\n",
       "      <td>4.557154e-21</td>\n",
       "      <td>2.278577e-20</td>\n",
       "      <td>19.642336</td>\n",
       "      <td>0.001847</td>\n",
       "    </tr>\n",
       "  </tbody>\n",
       "</table>\n",
       "</div>"
      ],
      "text/plain": [
       "                  Trait       H2r             P           FDR  FDR_log10  \\\n",
       "3  LAN_story_sub1_norm   0.623924  7.212409e-20  1.803102e-19  18.743980   \n",
       "4  LAN_story_sub2_norm   0.625575  1.519570e-19  2.532616e-19  18.596431   \n",
       "5  LAN_story_sub3_norm   0.617065  4.149818e-19  5.187272e-19  18.285061   \n",
       "6  LAN_story_sub4_norm   0.616222  1.233233e-18  1.233233e-18  17.908955   \n",
       "7  LAN_story_sub5_norm   0.635130  4.557154e-21  2.278577e-20  19.642336   \n",
       "\n",
       "   CovVarianceExpl  \n",
       "3         0.000387  \n",
       "4         0.000113  \n",
       "5         0.000041  \n",
       "6         0.011030  \n",
       "7         0.001847  "
      ]
     },
     "execution_count": 13,
     "metadata": {},
     "output_type": "execute_result"
    }
   ],
   "source": [
    "out_herit_df_clean"
   ]
  },
  {
   "cell_type": "code",
   "execution_count": 16,
   "metadata": {},
   "outputs": [],
   "source": [
    "out_herit_df_clean.to_csv(os.path.join(out_path,solar_out,'h2r_{}.csv'.format(task_name)),index=False)"
   ]
  },
  {
   "cell_type": "code",
   "execution_count": 14,
   "metadata": {},
   "outputs": [
    {
     "data": {
      "text/html": [
       "<div>\n",
       "<style>\n",
       "    .dataframe thead tr:only-child th {\n",
       "        text-align: right;\n",
       "    }\n",
       "\n",
       "    .dataframe thead th {\n",
       "        text-align: left;\n",
       "    }\n",
       "\n",
       "    .dataframe tbody tr th {\n",
       "        vertical-align: top;\n",
       "    }\n",
       "</style>\n",
       "<table border=\"1\" class=\"dataframe\">\n",
       "  <thead>\n",
       "    <tr style=\"text-align: right;\">\n",
       "      <th></th>\n",
       "      <th>Trial</th>\n",
       "      <th>Subt</th>\n",
       "      <th>H2r</th>\n",
       "    </tr>\n",
       "  </thead>\n",
       "  <tbody>\n",
       "    <tr>\n",
       "      <th>0</th>\n",
       "      <td>LAN story</td>\n",
       "      <td>sub1</td>\n",
       "      <td>0.623924</td>\n",
       "    </tr>\n",
       "    <tr>\n",
       "      <th>1</th>\n",
       "      <td>LAN story</td>\n",
       "      <td>sub2</td>\n",
       "      <td>0.625575</td>\n",
       "    </tr>\n",
       "    <tr>\n",
       "      <th>2</th>\n",
       "      <td>LAN story</td>\n",
       "      <td>sub3</td>\n",
       "      <td>0.617065</td>\n",
       "    </tr>\n",
       "    <tr>\n",
       "      <th>3</th>\n",
       "      <td>LAN story</td>\n",
       "      <td>sub4</td>\n",
       "      <td>0.616222</td>\n",
       "    </tr>\n",
       "    <tr>\n",
       "      <th>4</th>\n",
       "      <td>LAN story</td>\n",
       "      <td>sub5</td>\n",
       "      <td>0.635130</td>\n",
       "    </tr>\n",
       "  </tbody>\n",
       "</table>\n",
       "</div>"
      ],
      "text/plain": [
       "       Trial  Subt       H2r\n",
       "0  LAN story  sub1  0.623924\n",
       "1  LAN story  sub2  0.625575\n",
       "2  LAN story  sub3  0.617065\n",
       "3  LAN story  sub4  0.616222\n",
       "4  LAN story  sub5  0.635130"
      ]
     },
     "execution_count": 14,
     "metadata": {},
     "output_type": "execute_result"
    }
   ],
   "source": [
    "# create table for h2r figure\n",
    "list_sbt = ['sub1','sub2','sub3','sub4','sub5']\n",
    "df = pd.DataFrame()\n",
    "for trait_herit in list_trial:\n",
    "    mask_df = [x[4:-10] == trait_herit for x in out_herit_df_clean.Trait.str.strip()]\n",
    "    out_herit_select = out_herit_df_clean[['Trait','H2r']][mask_df]\n",
    "    # extract trial\n",
    "    column_net = [' '.join(row['Trait'].split('_')[0:-2]) for ind,row in out_herit_select[['Trait']].iterrows()]\n",
    "    out_herit_select.loc[:,'Trial'] = column_net\n",
    "    # extract subtype\n",
    "    column_subt = [row['Trait'].split('_')[-2].strip() for ind,row in out_herit_select[['Trait']].iterrows()]\n",
    "    out_herit_select.loc[:,'Subt'] = column_subt\n",
    "    out_herit_clean = out_herit_select[['Trial','Subt','H2r']]\n",
    "    out_herit_clean.reset_index(drop=True,inplace=True)\n",
    "    dicts = {}\n",
    "    for ii,sbt in enumerate(list_sbt):\n",
    "        if sbt not in out_herit_clean.Subt.get_values():\n",
    "            dicts[ii] = sbt\n",
    "    if bool(dicts):\n",
    "        tab_=[{\"Trial\": out_herit_clean.Trial[0], \"Subt\": dicts[ii],\"H2r\":0} for ii in dicts.keys()]\n",
    "        line = pd.DataFrame(tab_,index=dicts.keys())\n",
    "        df_ = out_herit_clean.append(line).sort_values('Subt').reset_index(drop=True)\n",
    "        df_ = df_[['Trial','Subt','H2r']]\n",
    "    else:\n",
    "        df_ = out_herit_clean.sort_values('Subt').reset_index(drop=True)\n",
    "        df_ = df_[['Trial','Subt','H2r']]\n",
    "    # append to final df\n",
    "    df = df.append(df_)\n",
    "# reset index\n",
    "df.reset_index(drop=True)\n",
    "# save to csv\n",
    "df.to_csv(os.path.join(out_path,solar_out,'h2r_{}.csv'.format(task_name)),index=False)\n",
    "df"
   ]
  },
  {
   "cell_type": "code",
   "execution_count": 14,
   "metadata": {},
   "outputs": [],
   "source": [
    "# Loop over trait and create heritability table for radar plot\n",
    "#drop_list = ['BMI','FD_mean','FD_scrubbed_mean','Handedness']\n",
    "#list_new = [x for x in new_list if x not in drop_list ]"
   ]
  },
  {
   "cell_type": "code",
   "execution_count": 15,
   "metadata": {},
   "outputs": [
    {
     "name": "stderr",
     "output_type": "stream",
     "text": [
      "/usr/local/lib/python3.5/dist-packages/ipykernel_launcher.py:27: DeprecationWarning: \n",
      ".ix is deprecated. Please use\n",
      ".loc for label based indexing or\n",
      ".iloc for positional indexing\n",
      "\n",
      "See the documentation here:\n",
      "http://pandas.pydata.org/pandas-docs/stable/indexing.html#ix-indexer-is-deprecated\n"
     ]
    },
    {
     "data": {
      "image/png": "[encoded data removed]",
      "text/plain": [
       "<matplotlib.figure.Figure at 0x7f8d59a8aac8>"
      ]
     },
     "metadata": {},
     "output_type": "display_data"
    },
    {
     "data": {
      "text/html": [
       "<div>\n",
       "<style>\n",
       "    .dataframe thead tr:only-child th {\n",
       "        text-align: right;\n",
       "    }\n",
       "\n",
       "    .dataframe thead th {\n",
       "        text-align: left;\n",
       "    }\n",
       "\n",
       "    .dataframe tbody tr th {\n",
       "        vertical-align: top;\n",
       "    }\n",
       "</style>\n",
       "<table border=\"1\" class=\"dataframe\">\n",
       "  <thead>\n",
       "    <tr style=\"text-align: right;\">\n",
       "      <th>Subt</th>\n",
       "      <th>sub1</th>\n",
       "      <th>sub2</th>\n",
       "      <th>sub3</th>\n",
       "      <th>sub4</th>\n",
       "      <th>sub5</th>\n",
       "    </tr>\n",
       "  </thead>\n",
       "  <tbody>\n",
       "    <tr>\n",
       "      <th>H2R</th>\n",
       "      <td>0.623924</td>\n",
       "      <td>0.625575</td>\n",
       "      <td>0.617065</td>\n",
       "      <td>0.616222</td>\n",
       "      <td>0.63513</td>\n",
       "    </tr>\n",
       "  </tbody>\n",
       "</table>\n",
       "</div>"
      ],
      "text/plain": [
       "Subt      sub1      sub2      sub3      sub4     sub5\n",
       "H2R   0.623924  0.625575  0.617065  0.616222  0.63513"
      ]
     },
     "metadata": {},
     "output_type": "display_data"
    }
   ],
   "source": [
    "## Loop over trait and create heritability table for radar plot\n",
    "#list_trial = [xx.replace('-','_') for xx in list_trial]\n",
    "list_sbt = ['sub1','sub2','sub3','sub4','sub5']\n",
    "for trait_herit in list_trial:\n",
    "    mask_df = [x[4:-10] == trait_herit for x in out_herit_df_clean.Trait.str.strip()]\n",
    "    out_herit_select = out_herit_df_clean[['Trait','H2r']][mask_df]\n",
    "    # extract trial\n",
    "    column_net = [' '.join(row['Trait'].split('_')[0:-2]) for ind,row in out_herit_select[['Trait']].iterrows()]\n",
    "    out_herit_select.loc[:,'Trial'] = column_net\n",
    "    # extract subtype\n",
    "    column_subt = [row['Trait'].split('_')[-2].strip() for ind,row in out_herit_select[['Trait']].iterrows()]\n",
    "    out_herit_select.loc[:,'Subt'] = column_subt\n",
    "    out_herit_clean = out_herit_select[['Trial','Subt','H2r']]\n",
    "    # Pivot table\n",
    "    out_herit_final = out_herit_clean.pivot(index='Trial',columns='Subt',values='H2r')\n",
    "    out_herit_final.index.name=None\n",
    "    out_herit_final.rename(index={column_net[1]: 'H2R'},inplace= True)\n",
    "    #put 0 for non for empty heritabity\n",
    "    for ii in list_sbt:\n",
    "        if ii not in out_herit_final.columns.get_values():\n",
    "            out_herit_final.loc[:,ii]=0\n",
    "    out_herit_final=out_herit_final[list_sbt]\n",
    "    out_herit_final.to_csv(os.path.join(out_path,solar_out,h2r_out_file.format(task_name,trait_herit)))\n",
    "    # H2R bar plot\n",
    "    fig,ax = plt.subplots(figsize=(5, 4))\n",
    "    y_pos = np.arange(len(out_herit_final.columns))\n",
    "    ax.bar(y_pos,out_herit_final.ix['H2R'],color=\"#6a7fce\",alpha=0.4,align = 'center',width=0.85)\n",
    "    ax.set_xticks(y_pos)\n",
    "    ax.set_xticklabels(list_sbt)\n",
    "    ax.set_ylim(0,1)\n",
    "    ax.set_ylabel('H2R')\n",
    "    #ax.grid(False)\n",
    "    plt.title('{} task {}'.format(task_name,trait_herit))\n",
    "    plt.show()\n",
    "    fig.savefig(os.path.join(subt_path,\"{}_barplot_heritability.svg\".format(trait_herit)))\n",
    "    display(out_herit_final)"
   ]
  },
  {
   "cell_type": "code",
   "execution_count": 62,
   "metadata": {},
   "outputs": [],
   "source": [
    "##### R section #########"
   ]
  },
  {
   "cell_type": "code",
   "execution_count": 63,
   "metadata": {},
   "outputs": [],
   "source": [
    "# first on terminal install cairo : \"sudo apt install libcairo2-dev\"\n",
    "# devtools::install_github(\"hadley/svglite\")\n",
    "# devtools::install_github(\"ricardo-bion/ggradar\", dependencies=TRUE)\n",
    "import warnings\n",
    "warnings.filterwarnings('ignore')"
   ]
  },
  {
   "cell_type": "code",
   "execution_count": 64,
   "metadata": {},
   "outputs": [],
   "source": [
    "%%R\n",
    "library(ggradar)\n",
    "suppressPackageStartupMessages(library(dplyr))\n",
    "library(scales)\n",
    "require(\"ggplot2\")"
   ]
  },
  {
   "cell_type": "code",
   "execution_count": 65,
   "metadata": {
    "scrolled": false
   },
   "outputs": [
    {
     "data": {
      "image/png": "[encoded data removed]"
     },
     "metadata": {},
     "output_type": "display_data"
    }
   ],
   "source": [
    "%%R -i out_path,solar_out,task_name,list_trial,path_root\n",
    "for (ii in list_trial) {\n",
    "    MyData <- read.csv(file=paste(out_path,solar_out,\"/h2r_solar_\",task_name,'_spm_',ii,'.csv',sep = ''))\n",
    "    # plot radar \n",
    "    image=ggradar(MyData, grid.min = 0,\n",
    "                  grid.mid = 0.5, \n",
    "                  grid.max = 1, \n",
    "                  axis.label.size = 4, \n",
    "                  grid.label.size = 5 ,\n",
    "                  legend.text.size =5) +\n",
    "    theme(legend.text = element_text(size = 12),plot.title = element_text( face=\"bold\",size = 12)) + \n",
    "    ggtitle(paste(' \\n  ',toupper(ii),sep = ''))\n",
    "    ggsave(file=paste(path_root,\"subtypes_scores/26-10-2016/subtype_5_spm_LANGUAGE_18-Oct-2017/\" ,ii,\"_heritability.svg\",sep = ''), plot=image, width=10, height=8)\n",
    "    print(image)\n",
    "     }"
   ]
  },
  {
   "cell_type": "code",
   "execution_count": null,
   "metadata": {
    "collapsed": true
   },
   "outputs": [],
   "source": []
  }
 ],
 "metadata": {
  "anaconda-cloud": {},
  "kernelspec": {
   "display_name": "Python 3",
   "language": "python",
   "name": "python3"
  },
  "language_info": {
   "codemirror_mode": {
    "name": "ipython",
    "version": 3
   },
   "file_extension": ".py",
   "mimetype": "text/x-python",
   "name": "python",
   "nbconvert_exporter": "python",
   "pygments_lexer": "ipython3",
   "version": "3.5.2"
  },
  "varInspector": {
   "cols": {
    "lenName": 16,
    "lenType": 16,
    "lenVar": 40
   },
   "kernels_config": {
    "python": {
     "delete_cmd_postfix": "",
     "delete_cmd_prefix": "del ",
     "library": "var_list.py",
     "varRefreshCmd": "print(var_dic_list())"
    },
    "r": {
     "delete_cmd_postfix": ") ",
     "delete_cmd_prefix": "rm(",
     "library": "var_list.r",
     "varRefreshCmd": "cat(var_dic_list()) "
    }
   },
   "types_to_exclude": [
    "module",
    "function",
    "builtin_function_or_method",
    "instance",
    "_Feature"
   ],
   "window_display": false
  },
  "widgets": {
   "state": {},
   "version": "1.1.2"
  }
 },
 "nbformat": 4,
 "nbformat_minor": 1
}
