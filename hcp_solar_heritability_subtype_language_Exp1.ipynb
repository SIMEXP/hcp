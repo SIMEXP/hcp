{
 "cells": [
  {
   "cell_type": "markdown",
   "metadata": {},
   "source": [
    "# EXP 1: LANGUAGE heritability subtype from r-maps"
   ]
  },
  {
   "cell_type": "markdown",
   "metadata": {
    "collapsed": true
   },
   "source": [
    "##### Subtype:\n",
    "- Niak preprocessed LANGUAGE task (new scrub method)\n",
    "- BASC partition scale 69\n",
    "- Connectome maps from:\n",
    "```\n",
    "   opt_csv.labels_x = { 'BROCA_L' , 'PSTG_L' , 'MTG_L','ANTERIOR_POLE_L' }; % network labels \n",
    "   opt_csv.labels_y = { 'index' };\n",
    "   tab = [2;30;38;34];\n",
    "```\n",
    "- 5 subtype\n",
    "- **FD_scrubbed run1 (LR) regressed out befor building subtypes**\n",
    "\n",
    "##### Heritability:\n",
    "- Regress \"FD_scrubbed\" \"Age_in_Yrs\" \"Gender\" as covariate\n"
   ]
  },
  {
   "cell_type": "markdown",
   "metadata": {},
   "source": [
    "## Build Pheno file"
   ]
  },
  {
   "cell_type": "markdown",
   "metadata": {},
   "source": [
    "### Merge behavioral variables with subtypes weights"
   ]
  },
  {
   "cell_type": "code",
   "execution_count": 1,
   "metadata": {
    "collapsed": false
   },
   "outputs": [],
   "source": [
    "# Import pandas\n",
    "import os\n",
    "import pandas as pd\n",
    "import numpy as np\n",
    "from IPython.display import display"
   ]
  },
  {
   "cell_type": "code",
   "execution_count": 4,
   "metadata": {
    "collapsed": true
   },
   "outputs": [],
   "source": [
    "# Set up the paths to the files we want to work with\n",
    "base_path = \"/media/yassinebha/database27/Drive/HCP/subtypes_scores/26-10-2016/subtype_5_LANGUAGE_RL-LR_19-Dec-2016/networks/\"\n",
    "sbt_name_pattern = \"sbt_weights_net_{}.csv\"\n",
    "pheno_path = '/media/yassinebha/database27/Drive/HCP/subtypes_scores/26-10-2016/pheno/language_RL-LR_pheno_scrub_raw_19-Dec-2016.csv'\n",
    "out_path = '/media/yassinebha/database27/Drive/HCP/Solar_heritability/HCP_subtype/'\n",
    "solar_script = 'fcd_solar_h2r.sh'\n",
    "pheno_save = 'solar_language_RL-LR_pheno.csv'\n",
    "pedig_save = 'solar_language_RL-LR_pedigre.csv'\n",
    "solar_out = 'subtype_5_language_EXP1'\n",
    "solar_cov = '    cov FD_scrubbed Gender'"
   ]
  },
  {
   "cell_type": "code",
   "execution_count": 5,
   "metadata": {
    "collapsed": false
   },
   "outputs": [
    {
     "data": {
      "text/plain": [
       "['MTG_L', 'BROCA_L', 'ANTERIOR_POLE_L', 'PSTG_L']"
      ]
     },
     "execution_count": 5,
     "metadata": {},
     "output_type": "execute_result"
    }
   ],
   "source": [
    "# List of network names\n",
    "net_names = os.listdir(base_path)\n",
    "net_names"
   ]
  },
  {
   "cell_type": "code",
   "execution_count": 6,
   "metadata": {
    "collapsed": false
   },
   "outputs": [],
   "source": [
    "# Loop over each network and build weight file\n",
    "for index, net in enumerate(net_names):\n",
    "    file_path = os.path.join(base_path, net, sbt_name_pattern.format(net))\n",
    "    if not os.path.exists(file_path):\n",
    "        print(\"Hello, {} does not exist\".format(file_path))\n",
    "    \n",
    "    tmp_weights = pd.read_csv(file_path)\n",
    "    # Rename first column\n",
    "    tmp_weights.rename(columns={\" \":\"Subject\"}, inplace=True)\n",
    "    tmp_weights.Subject = tmp_weights.Subject.str.strip(\" \")\n",
    "    \n",
    "    rename_dict = dict()\n",
    "    for colname in tmp_weights.columns:\n",
    "        if colname == \"Subject\":\n",
    "            continue\n",
    "        else:\n",
    "            new_name = \"{}_{}\".format(net, colname)\n",
    "            # Get rid of trailing whitespace\n",
    "            new_name = new_name.strip(\" \")\n",
    "            rename_dict[colname] = new_name\n",
    "\n",
    "    tmp_weights.rename(columns=rename_dict, inplace=True)\n",
    "    \n",
    "    if index==0:\n",
    "        dataframe = tmp_weights\n",
    "    else:\n",
    "        dataframe = pd.merge(dataframe, tmp_weights, on=\"Subject\", how=\"inner\")"
   ]
  },
  {
   "cell_type": "code",
   "execution_count": 7,
   "metadata": {
    "collapsed": false
   },
   "outputs": [
    {
     "data": {
      "text/html": [
       "<div>\n",
       "<table border=\"1\" class=\"dataframe\">\n",
       "  <thead>\n",
       "    <tr style=\"text-align: right;\">\n",
       "      <th></th>\n",
       "      <th>Subject</th>\n",
       "      <th>MTG_L_sub1</th>\n",
       "      <th>MTG_L_sub2</th>\n",
       "      <th>MTG_L_sub3</th>\n",
       "      <th>MTG_L_sub4</th>\n",
       "      <th>MTG_L_sub5</th>\n",
       "      <th>BROCA_L_sub1</th>\n",
       "      <th>BROCA_L_sub2</th>\n",
       "      <th>BROCA_L_sub3</th>\n",
       "      <th>BROCA_L_sub4</th>\n",
       "      <th>...</th>\n",
       "      <th>ANTERIOR_POLE_L_sub1</th>\n",
       "      <th>ANTERIOR_POLE_L_sub2</th>\n",
       "      <th>ANTERIOR_POLE_L_sub3</th>\n",
       "      <th>ANTERIOR_POLE_L_sub4</th>\n",
       "      <th>ANTERIOR_POLE_L_sub5</th>\n",
       "      <th>PSTG_L_sub1</th>\n",
       "      <th>PSTG_L_sub2</th>\n",
       "      <th>PSTG_L_sub3</th>\n",
       "      <th>PSTG_L_sub4</th>\n",
       "      <th>PSTG_L_sub5</th>\n",
       "    </tr>\n",
       "  </thead>\n",
       "  <tbody>\n",
       "    <tr>\n",
       "      <th>0</th>\n",
       "      <td>HCP100206</td>\n",
       "      <td>-0.165</td>\n",
       "      <td>-0.080</td>\n",
       "      <td>-0.431</td>\n",
       "      <td>0.130</td>\n",
       "      <td>0.445</td>\n",
       "      <td>-0.371</td>\n",
       "      <td>0.302</td>\n",
       "      <td>-0.464</td>\n",
       "      <td>-0.024</td>\n",
       "      <td>...</td>\n",
       "      <td>-0.109</td>\n",
       "      <td>0.043</td>\n",
       "      <td>-0.155</td>\n",
       "      <td>0.205</td>\n",
       "      <td>-0.079</td>\n",
       "      <td>0.061</td>\n",
       "      <td>0.573</td>\n",
       "      <td>-0.126</td>\n",
       "      <td>0.069</td>\n",
       "      <td>-0.515</td>\n",
       "    </tr>\n",
       "    <tr>\n",
       "      <th>1</th>\n",
       "      <td>HCP100307</td>\n",
       "      <td>0.033</td>\n",
       "      <td>-0.188</td>\n",
       "      <td>-0.007</td>\n",
       "      <td>0.116</td>\n",
       "      <td>0.009</td>\n",
       "      <td>-0.382</td>\n",
       "      <td>0.186</td>\n",
       "      <td>-0.208</td>\n",
       "      <td>0.207</td>\n",
       "      <td>...</td>\n",
       "      <td>-0.068</td>\n",
       "      <td>0.090</td>\n",
       "      <td>-0.087</td>\n",
       "      <td>0.033</td>\n",
       "      <td>0.081</td>\n",
       "      <td>0.211</td>\n",
       "      <td>0.058</td>\n",
       "      <td>0.045</td>\n",
       "      <td>-0.119</td>\n",
       "      <td>-0.200</td>\n",
       "    </tr>\n",
       "    <tr>\n",
       "      <th>2</th>\n",
       "      <td>HCP100408</td>\n",
       "      <td>0.194</td>\n",
       "      <td>0.013</td>\n",
       "      <td>0.216</td>\n",
       "      <td>-0.169</td>\n",
       "      <td>-0.212</td>\n",
       "      <td>-0.140</td>\n",
       "      <td>0.145</td>\n",
       "      <td>-0.002</td>\n",
       "      <td>-0.009</td>\n",
       "      <td>...</td>\n",
       "      <td>0.033</td>\n",
       "      <td>-0.064</td>\n",
       "      <td>0.144</td>\n",
       "      <td>-0.127</td>\n",
       "      <td>0.018</td>\n",
       "      <td>-0.125</td>\n",
       "      <td>-0.285</td>\n",
       "      <td>0.109</td>\n",
       "      <td>0.040</td>\n",
       "      <td>0.244</td>\n",
       "    </tr>\n",
       "    <tr>\n",
       "      <th>3</th>\n",
       "      <td>HCP100610</td>\n",
       "      <td>0.097</td>\n",
       "      <td>0.007</td>\n",
       "      <td>0.264</td>\n",
       "      <td>-0.059</td>\n",
       "      <td>-0.266</td>\n",
       "      <td>0.296</td>\n",
       "      <td>-0.032</td>\n",
       "      <td>0.232</td>\n",
       "      <td>-0.270</td>\n",
       "      <td>...</td>\n",
       "      <td>0.021</td>\n",
       "      <td>0.045</td>\n",
       "      <td>0.032</td>\n",
       "      <td>-0.150</td>\n",
       "      <td>0.208</td>\n",
       "      <td>0.009</td>\n",
       "      <td>-0.208</td>\n",
       "      <td>-0.026</td>\n",
       "      <td>0.043</td>\n",
       "      <td>0.162</td>\n",
       "    </tr>\n",
       "    <tr>\n",
       "      <th>4</th>\n",
       "      <td>HCP101006</td>\n",
       "      <td>-0.179</td>\n",
       "      <td>-0.201</td>\n",
       "      <td>-0.453</td>\n",
       "      <td>0.183</td>\n",
       "      <td>0.486</td>\n",
       "      <td>-0.254</td>\n",
       "      <td>0.145</td>\n",
       "      <td>-0.108</td>\n",
       "      <td>-0.035</td>\n",
       "      <td>...</td>\n",
       "      <td>-0.070</td>\n",
       "      <td>0.152</td>\n",
       "      <td>-0.207</td>\n",
       "      <td>0.166</td>\n",
       "      <td>-0.032</td>\n",
       "      <td>-0.113</td>\n",
       "      <td>-0.077</td>\n",
       "      <td>0.007</td>\n",
       "      <td>0.071</td>\n",
       "      <td>0.114</td>\n",
       "    </tr>\n",
       "  </tbody>\n",
       "</table>\n",
       "<p>5 rows × 21 columns</p>\n",
       "</div>"
      ],
      "text/plain": [
       "     Subject  MTG_L_sub1  MTG_L_sub2  MTG_L_sub3  MTG_L_sub4  MTG_L_sub5  \\\n",
       "0  HCP100206      -0.165      -0.080      -0.431       0.130       0.445   \n",
       "1  HCP100307       0.033      -0.188      -0.007       0.116       0.009   \n",
       "2  HCP100408       0.194       0.013       0.216      -0.169      -0.212   \n",
       "3  HCP100610       0.097       0.007       0.264      -0.059      -0.266   \n",
       "4  HCP101006      -0.179      -0.201      -0.453       0.183       0.486   \n",
       "\n",
       "   BROCA_L_sub1  BROCA_L_sub2  BROCA_L_sub3  BROCA_L_sub4     ...       \\\n",
       "0        -0.371         0.302        -0.464        -0.024     ...        \n",
       "1        -0.382         0.186        -0.208         0.207     ...        \n",
       "2        -0.140         0.145        -0.002        -0.009     ...        \n",
       "3         0.296        -0.032         0.232        -0.270     ...        \n",
       "4        -0.254         0.145        -0.108        -0.035     ...        \n",
       "\n",
       "   ANTERIOR_POLE_L_sub1  ANTERIOR_POLE_L_sub2  ANTERIOR_POLE_L_sub3  \\\n",
       "0                -0.109                 0.043                -0.155   \n",
       "1                -0.068                 0.090                -0.087   \n",
       "2                 0.033                -0.064                 0.144   \n",
       "3                 0.021                 0.045                 0.032   \n",
       "4                -0.070                 0.152                -0.207   \n",
       "\n",
       "   ANTERIOR_POLE_L_sub4  ANTERIOR_POLE_L_sub5  PSTG_L_sub1  PSTG_L_sub2  \\\n",
       "0                 0.205                -0.079        0.061        0.573   \n",
       "1                 0.033                 0.081        0.211        0.058   \n",
       "2                -0.127                 0.018       -0.125       -0.285   \n",
       "3                -0.150                 0.208        0.009       -0.208   \n",
       "4                 0.166                -0.032       -0.113       -0.077   \n",
       "\n",
       "   PSTG_L_sub3  PSTG_L_sub4  PSTG_L_sub5  \n",
       "0       -0.126        0.069       -0.515  \n",
       "1        0.045       -0.119       -0.200  \n",
       "2        0.109        0.040        0.244  \n",
       "3       -0.026        0.043        0.162  \n",
       "4        0.007        0.071        0.114  \n",
       "\n",
       "[5 rows x 21 columns]"
      ]
     },
     "execution_count": 7,
     "metadata": {},
     "output_type": "execute_result"
    }
   ],
   "source": [
    "dataframe.head()"
   ]
  },
  {
   "cell_type": "code",
   "execution_count": 8,
   "metadata": {
    "collapsed": false,
    "scrolled": true
   },
   "outputs": [
    {
     "data": {
      "text/plain": [
       "count           814\n",
       "unique          814\n",
       "top       HCP677968\n",
       "freq              1\n",
       "Name: Subject, dtype: object"
      ]
     },
     "execution_count": 8,
     "metadata": {},
     "output_type": "execute_result"
    }
   ],
   "source": [
    "dataframe.Subject.describe()"
   ]
  },
  {
   "cell_type": "code",
   "execution_count": 9,
   "metadata": {
    "collapsed": false
   },
   "outputs": [],
   "source": [
    "# Load pheno file\n",
    "file_weight = dataframe\n",
    "file_pheno = pd.read_csv(pheno_path)"
   ]
  },
  {
   "cell_type": "code",
   "execution_count": 10,
   "metadata": {
    "collapsed": false
   },
   "outputs": [
    {
     "data": {
      "text/html": [
       "<div>\n",
       "<table border=\"1\" class=\"dataframe\">\n",
       "  <thead>\n",
       "    <tr style=\"text-align: right;\">\n",
       "      <th></th>\n",
       "      <th>Subject</th>\n",
       "      <th>Age_in_Yrs</th>\n",
       "      <th>Twin_Stat</th>\n",
       "      <th>Zygosity</th>\n",
       "      <th>Mother_ID</th>\n",
       "      <th>Father_ID</th>\n",
       "      <th>Handedness</th>\n",
       "      <th>BMI</th>\n",
       "      <th>Gender</th>\n",
       "      <th>ReadEng_Unadj</th>\n",
       "      <th>PicVocab_Unadj</th>\n",
       "      <th>ListSort_Unadj</th>\n",
       "      <th>FD</th>\n",
       "      <th>FD_scrubbed</th>\n",
       "    </tr>\n",
       "  </thead>\n",
       "  <tbody>\n",
       "    <tr>\n",
       "      <th>0</th>\n",
       "      <td>HCP100206</td>\n",
       "      <td>27</td>\n",
       "      <td>NotTwin</td>\n",
       "      <td>NotTwin</td>\n",
       "      <td>56037</td>\n",
       "      <td>85858.0</td>\n",
       "      <td>65</td>\n",
       "      <td>26.64</td>\n",
       "      <td>M</td>\n",
       "      <td>113.5460</td>\n",
       "      <td>119.89140</td>\n",
       "      <td>112.89</td>\n",
       "      <td>0.088456</td>\n",
       "      <td>0.088456</td>\n",
       "    </tr>\n",
       "    <tr>\n",
       "      <th>1</th>\n",
       "      <td>HCP100307</td>\n",
       "      <td>27</td>\n",
       "      <td>Twin</td>\n",
       "      <td>NotMZ</td>\n",
       "      <td>51488</td>\n",
       "      <td>81352.0</td>\n",
       "      <td>95</td>\n",
       "      <td>22.96</td>\n",
       "      <td>F</td>\n",
       "      <td>111.0700</td>\n",
       "      <td>107.20000</td>\n",
       "      <td>108.06</td>\n",
       "      <td>0.101970</td>\n",
       "      <td>0.101970</td>\n",
       "    </tr>\n",
       "    <tr>\n",
       "      <th>2</th>\n",
       "      <td>HCP100408</td>\n",
       "      <td>33</td>\n",
       "      <td>Twin</td>\n",
       "      <td>MZ</td>\n",
       "      <td>51730</td>\n",
       "      <td>81594.0</td>\n",
       "      <td>55</td>\n",
       "      <td>27.75</td>\n",
       "      <td>M</td>\n",
       "      <td>131.8100</td>\n",
       "      <td>134.24000</td>\n",
       "      <td>108.06</td>\n",
       "      <td>0.128052</td>\n",
       "      <td>0.128052</td>\n",
       "    </tr>\n",
       "    <tr>\n",
       "      <th>3</th>\n",
       "      <td>HCP100610</td>\n",
       "      <td>27</td>\n",
       "      <td>Twin</td>\n",
       "      <td>NotMZ</td>\n",
       "      <td>52813</td>\n",
       "      <td>82634.0</td>\n",
       "      <td>85</td>\n",
       "      <td>36.91</td>\n",
       "      <td>M</td>\n",
       "      <td>141.3166</td>\n",
       "      <td>140.81510</td>\n",
       "      <td>117.39</td>\n",
       "      <td>0.189474</td>\n",
       "      <td>0.189474</td>\n",
       "    </tr>\n",
       "    <tr>\n",
       "      <th>4</th>\n",
       "      <td>HCP101006</td>\n",
       "      <td>35</td>\n",
       "      <td>Twin</td>\n",
       "      <td>MZ</td>\n",
       "      <td>51283</td>\n",
       "      <td>81149.0</td>\n",
       "      <td>90</td>\n",
       "      <td>30.27</td>\n",
       "      <td>F</td>\n",
       "      <td>113.5374</td>\n",
       "      <td>95.42348</td>\n",
       "      <td>93.90</td>\n",
       "      <td>0.156877</td>\n",
       "      <td>0.156877</td>\n",
       "    </tr>\n",
       "  </tbody>\n",
       "</table>\n",
       "</div>"
      ],
      "text/plain": [
       "     Subject  Age_in_Yrs Twin_Stat Zygosity  Mother_ID  Father_ID  Handedness  \\\n",
       "0  HCP100206          27   NotTwin  NotTwin      56037    85858.0          65   \n",
       "1  HCP100307          27      Twin    NotMZ      51488    81352.0          95   \n",
       "2  HCP100408          33      Twin       MZ      51730    81594.0          55   \n",
       "3  HCP100610          27      Twin    NotMZ      52813    82634.0          85   \n",
       "4  HCP101006          35      Twin       MZ      51283    81149.0          90   \n",
       "\n",
       "     BMI Gender  ReadEng_Unadj  PicVocab_Unadj  ListSort_Unadj        FD  \\\n",
       "0  26.64      M       113.5460       119.89140          112.89  0.088456   \n",
       "1  22.96      F       111.0700       107.20000          108.06  0.101970   \n",
       "2  27.75      M       131.8100       134.24000          108.06  0.128052   \n",
       "3  36.91      M       141.3166       140.81510          117.39  0.189474   \n",
       "4  30.27      F       113.5374        95.42348           93.90  0.156877   \n",
       "\n",
       "   FD_scrubbed  \n",
       "0     0.088456  \n",
       "1     0.101970  \n",
       "2     0.128052  \n",
       "3     0.189474  \n",
       "4     0.156877  "
      ]
     },
     "execution_count": 10,
     "metadata": {},
     "output_type": "execute_result"
    }
   ],
   "source": [
    "file_pheno.head()"
   ]
  },
  {
   "cell_type": "code",
   "execution_count": 11,
   "metadata": {
    "collapsed": false
   },
   "outputs": [
    {
     "data": {
      "text/plain": [
       "count           815\n",
       "unique          815\n",
       "top       HCP677968\n",
       "freq              1\n",
       "Name: Subject, dtype: object"
      ]
     },
     "execution_count": 11,
     "metadata": {},
     "output_type": "execute_result"
    }
   ],
   "source": [
    "file_pheno.Subject.describe()"
   ]
  },
  {
   "cell_type": "code",
   "execution_count": 12,
   "metadata": {
    "collapsed": false,
    "scrolled": true
   },
   "outputs": [
    {
     "data": {
      "text/html": [
       "<div>\n",
       "<table border=\"1\" class=\"dataframe\">\n",
       "  <thead>\n",
       "    <tr style=\"text-align: right;\">\n",
       "      <th></th>\n",
       "      <th>Subject</th>\n",
       "      <th>Age_in_Yrs</th>\n",
       "      <th>Handedness</th>\n",
       "      <th>Gender</th>\n",
       "      <th>BMI</th>\n",
       "      <th>FD</th>\n",
       "      <th>FD_scrubbed</th>\n",
       "    </tr>\n",
       "  </thead>\n",
       "  <tbody>\n",
       "    <tr>\n",
       "      <th>0</th>\n",
       "      <td>HCP100206</td>\n",
       "      <td>27</td>\n",
       "      <td>65</td>\n",
       "      <td>M</td>\n",
       "      <td>26.64</td>\n",
       "      <td>0.088456</td>\n",
       "      <td>0.088456</td>\n",
       "    </tr>\n",
       "    <tr>\n",
       "      <th>1</th>\n",
       "      <td>HCP100307</td>\n",
       "      <td>27</td>\n",
       "      <td>95</td>\n",
       "      <td>F</td>\n",
       "      <td>22.96</td>\n",
       "      <td>0.101970</td>\n",
       "      <td>0.101970</td>\n",
       "    </tr>\n",
       "    <tr>\n",
       "      <th>2</th>\n",
       "      <td>HCP100408</td>\n",
       "      <td>33</td>\n",
       "      <td>55</td>\n",
       "      <td>M</td>\n",
       "      <td>27.75</td>\n",
       "      <td>0.128052</td>\n",
       "      <td>0.128052</td>\n",
       "    </tr>\n",
       "    <tr>\n",
       "      <th>3</th>\n",
       "      <td>HCP100610</td>\n",
       "      <td>27</td>\n",
       "      <td>85</td>\n",
       "      <td>M</td>\n",
       "      <td>36.91</td>\n",
       "      <td>0.189474</td>\n",
       "      <td>0.189474</td>\n",
       "    </tr>\n",
       "    <tr>\n",
       "      <th>4</th>\n",
       "      <td>HCP101006</td>\n",
       "      <td>35</td>\n",
       "      <td>90</td>\n",
       "      <td>F</td>\n",
       "      <td>30.27</td>\n",
       "      <td>0.156877</td>\n",
       "      <td>0.156877</td>\n",
       "    </tr>\n",
       "  </tbody>\n",
       "</table>\n",
       "</div>"
      ],
      "text/plain": [
       "     Subject  Age_in_Yrs  Handedness Gender    BMI        FD  FD_scrubbed\n",
       "0  HCP100206          27          65      M  26.64  0.088456     0.088456\n",
       "1  HCP100307          27          95      F  22.96  0.101970     0.101970\n",
       "2  HCP100408          33          55      M  27.75  0.128052     0.128052\n",
       "3  HCP100610          27          85      M  36.91  0.189474     0.189474\n",
       "4  HCP101006          35          90      F  30.27  0.156877     0.156877"
      ]
     },
     "execution_count": 12,
     "metadata": {},
     "output_type": "execute_result"
    }
   ],
   "source": [
    "# Select a subset of variable\n",
    "file_pheno_subset = file_pheno[[\"Subject\",\"Age_in_Yrs\",\"Handedness\",\"Gender\",\"BMI\",\"FD\",\"FD_scrubbed\"]]\n",
    "file_pheno_subset.head()"
   ]
  },
  {
   "cell_type": "code",
   "execution_count": 13,
   "metadata": {
    "collapsed": false
   },
   "outputs": [
    {
     "name": "stderr",
     "output_type": "stream",
     "text": [
      "/usr/local/lib/python3.4/dist-packages/pandas/core/generic.py:3547: SettingWithCopyWarning: \n",
      "A value is trying to be set on a copy of a slice from a DataFrame\n",
      "\n",
      "See the caveats in the documentation: http://pandas.pydata.org/pandas-docs/stable/indexing.html#indexing-view-versus-copy\n",
      "  self._update_inplace(new_data)\n"
     ]
    },
    {
     "data": {
      "text/html": [
       "<div>\n",
       "<table border=\"1\" class=\"dataframe\">\n",
       "  <thead>\n",
       "    <tr style=\"text-align: right;\">\n",
       "      <th></th>\n",
       "      <th>Subject</th>\n",
       "      <th>Age_in_Yrs</th>\n",
       "      <th>Handedness</th>\n",
       "      <th>Gender</th>\n",
       "      <th>BMI</th>\n",
       "      <th>FD</th>\n",
       "      <th>FD_scrubbed</th>\n",
       "    </tr>\n",
       "  </thead>\n",
       "  <tbody>\n",
       "    <tr>\n",
       "      <th>0</th>\n",
       "      <td>HCP100206</td>\n",
       "      <td>27</td>\n",
       "      <td>65</td>\n",
       "      <td>1</td>\n",
       "      <td>26.64</td>\n",
       "      <td>0.088456</td>\n",
       "      <td>0.088456</td>\n",
       "    </tr>\n",
       "    <tr>\n",
       "      <th>1</th>\n",
       "      <td>HCP100307</td>\n",
       "      <td>27</td>\n",
       "      <td>95</td>\n",
       "      <td>2</td>\n",
       "      <td>22.96</td>\n",
       "      <td>0.101970</td>\n",
       "      <td>0.101970</td>\n",
       "    </tr>\n",
       "    <tr>\n",
       "      <th>2</th>\n",
       "      <td>HCP100408</td>\n",
       "      <td>33</td>\n",
       "      <td>55</td>\n",
       "      <td>1</td>\n",
       "      <td>27.75</td>\n",
       "      <td>0.128052</td>\n",
       "      <td>0.128052</td>\n",
       "    </tr>\n",
       "    <tr>\n",
       "      <th>3</th>\n",
       "      <td>HCP100610</td>\n",
       "      <td>27</td>\n",
       "      <td>85</td>\n",
       "      <td>1</td>\n",
       "      <td>36.91</td>\n",
       "      <td>0.189474</td>\n",
       "      <td>0.189474</td>\n",
       "    </tr>\n",
       "    <tr>\n",
       "      <th>4</th>\n",
       "      <td>HCP101006</td>\n",
       "      <td>35</td>\n",
       "      <td>90</td>\n",
       "      <td>2</td>\n",
       "      <td>30.27</td>\n",
       "      <td>0.156877</td>\n",
       "      <td>0.156877</td>\n",
       "    </tr>\n",
       "  </tbody>\n",
       "</table>\n",
       "</div>"
      ],
      "text/plain": [
       "     Subject  Age_in_Yrs  Handedness  Gender    BMI        FD  FD_scrubbed\n",
       "0  HCP100206          27          65       1  26.64  0.088456     0.088456\n",
       "1  HCP100307          27          95       2  22.96  0.101970     0.101970\n",
       "2  HCP100408          33          55       1  27.75  0.128052     0.128052\n",
       "3  HCP100610          27          85       1  36.91  0.189474     0.189474\n",
       "4  HCP101006          35          90       2  30.27  0.156877     0.156877"
      ]
     },
     "execution_count": 13,
     "metadata": {},
     "output_type": "execute_result"
    }
   ],
   "source": [
    "# Replace gender M=1 and F=2\n",
    "file_pheno_subset.Gender.replace({'M':1,'F':2}, inplace=True)\n",
    "file_pheno_subset.head()"
   ]
  },
  {
   "cell_type": "code",
   "execution_count": 14,
   "metadata": {
    "collapsed": false
   },
   "outputs": [
    {
     "data": {
      "text/html": [
       "<div>\n",
       "<table border=\"1\" class=\"dataframe\">\n",
       "  <thead>\n",
       "    <tr style=\"text-align: right;\">\n",
       "      <th></th>\n",
       "      <th>Subject</th>\n",
       "    </tr>\n",
       "  </thead>\n",
       "  <tbody>\n",
       "    <tr>\n",
       "      <th>count</th>\n",
       "      <td>815</td>\n",
       "    </tr>\n",
       "    <tr>\n",
       "      <th>unique</th>\n",
       "      <td>815</td>\n",
       "    </tr>\n",
       "    <tr>\n",
       "      <th>top</th>\n",
       "      <td>HCP677968</td>\n",
       "    </tr>\n",
       "    <tr>\n",
       "      <th>freq</th>\n",
       "      <td>1</td>\n",
       "    </tr>\n",
       "  </tbody>\n",
       "</table>\n",
       "</div>"
      ],
      "text/plain": [
       "          Subject\n",
       "count         815\n",
       "unique        815\n",
       "top     HCP677968\n",
       "freq            1"
      ]
     },
     "execution_count": 14,
     "metadata": {},
     "output_type": "execute_result"
    }
   ],
   "source": [
    "file_pheno_subset[[\"Subject\"]].describe()"
   ]
  },
  {
   "cell_type": "code",
   "execution_count": 15,
   "metadata": {
    "collapsed": false
   },
   "outputs": [
    {
     "data": {
      "text/html": [
       "<div>\n",
       "<table border=\"1\" class=\"dataframe\">\n",
       "  <thead>\n",
       "    <tr style=\"text-align: right;\">\n",
       "      <th></th>\n",
       "      <th>Subject</th>\n",
       "    </tr>\n",
       "  </thead>\n",
       "  <tbody>\n",
       "    <tr>\n",
       "      <th>count</th>\n",
       "      <td>814</td>\n",
       "    </tr>\n",
       "    <tr>\n",
       "      <th>unique</th>\n",
       "      <td>814</td>\n",
       "    </tr>\n",
       "    <tr>\n",
       "      <th>top</th>\n",
       "      <td>HCP677968</td>\n",
       "    </tr>\n",
       "    <tr>\n",
       "      <th>freq</th>\n",
       "      <td>1</td>\n",
       "    </tr>\n",
       "  </tbody>\n",
       "</table>\n",
       "</div>"
      ],
      "text/plain": [
       "          Subject\n",
       "count         814\n",
       "unique        814\n",
       "top     HCP677968\n",
       "freq            1"
      ]
     },
     "execution_count": 15,
     "metadata": {},
     "output_type": "execute_result"
    }
   ],
   "source": [
    "file_weight[[\"Subject\"]].describe()"
   ]
  },
  {
   "cell_type": "code",
   "execution_count": 16,
   "metadata": {
    "collapsed": false
   },
   "outputs": [
    {
     "data": {
      "text/html": [
       "<div>\n",
       "<table border=\"1\" class=\"dataframe\">\n",
       "  <thead>\n",
       "    <tr style=\"text-align: right;\">\n",
       "      <th></th>\n",
       "      <th>ID</th>\n",
       "      <th>MTG_L_sub1</th>\n",
       "      <th>MTG_L_sub2</th>\n",
       "      <th>MTG_L_sub3</th>\n",
       "      <th>MTG_L_sub4</th>\n",
       "      <th>MTG_L_sub5</th>\n",
       "      <th>BROCA_L_sub1</th>\n",
       "      <th>BROCA_L_sub2</th>\n",
       "      <th>BROCA_L_sub3</th>\n",
       "      <th>BROCA_L_sub4</th>\n",
       "      <th>...</th>\n",
       "      <th>PSTG_L_sub2</th>\n",
       "      <th>PSTG_L_sub3</th>\n",
       "      <th>PSTG_L_sub4</th>\n",
       "      <th>PSTG_L_sub5</th>\n",
       "      <th>Age_in_Yrs</th>\n",
       "      <th>Handedness</th>\n",
       "      <th>Gender</th>\n",
       "      <th>BMI</th>\n",
       "      <th>FD</th>\n",
       "      <th>FD_scrubbed</th>\n",
       "    </tr>\n",
       "  </thead>\n",
       "  <tbody>\n",
       "    <tr>\n",
       "      <th>0</th>\n",
       "      <td>HCP100206</td>\n",
       "      <td>-0.165</td>\n",
       "      <td>-0.080</td>\n",
       "      <td>-0.431</td>\n",
       "      <td>0.130</td>\n",
       "      <td>0.445</td>\n",
       "      <td>-0.371</td>\n",
       "      <td>0.302</td>\n",
       "      <td>-0.464</td>\n",
       "      <td>-0.024</td>\n",
       "      <td>...</td>\n",
       "      <td>0.573</td>\n",
       "      <td>-0.126</td>\n",
       "      <td>0.069</td>\n",
       "      <td>-0.515</td>\n",
       "      <td>27</td>\n",
       "      <td>65</td>\n",
       "      <td>1</td>\n",
       "      <td>26.64</td>\n",
       "      <td>0.088456</td>\n",
       "      <td>0.088456</td>\n",
       "    </tr>\n",
       "    <tr>\n",
       "      <th>1</th>\n",
       "      <td>HCP100307</td>\n",
       "      <td>0.033</td>\n",
       "      <td>-0.188</td>\n",
       "      <td>-0.007</td>\n",
       "      <td>0.116</td>\n",
       "      <td>0.009</td>\n",
       "      <td>-0.382</td>\n",
       "      <td>0.186</td>\n",
       "      <td>-0.208</td>\n",
       "      <td>0.207</td>\n",
       "      <td>...</td>\n",
       "      <td>0.058</td>\n",
       "      <td>0.045</td>\n",
       "      <td>-0.119</td>\n",
       "      <td>-0.200</td>\n",
       "      <td>27</td>\n",
       "      <td>95</td>\n",
       "      <td>2</td>\n",
       "      <td>22.96</td>\n",
       "      <td>0.101970</td>\n",
       "      <td>0.101970</td>\n",
       "    </tr>\n",
       "    <tr>\n",
       "      <th>2</th>\n",
       "      <td>HCP100408</td>\n",
       "      <td>0.194</td>\n",
       "      <td>0.013</td>\n",
       "      <td>0.216</td>\n",
       "      <td>-0.169</td>\n",
       "      <td>-0.212</td>\n",
       "      <td>-0.140</td>\n",
       "      <td>0.145</td>\n",
       "      <td>-0.002</td>\n",
       "      <td>-0.009</td>\n",
       "      <td>...</td>\n",
       "      <td>-0.285</td>\n",
       "      <td>0.109</td>\n",
       "      <td>0.040</td>\n",
       "      <td>0.244</td>\n",
       "      <td>33</td>\n",
       "      <td>55</td>\n",
       "      <td>1</td>\n",
       "      <td>27.75</td>\n",
       "      <td>0.128052</td>\n",
       "      <td>0.128052</td>\n",
       "    </tr>\n",
       "    <tr>\n",
       "      <th>3</th>\n",
       "      <td>HCP100610</td>\n",
       "      <td>0.097</td>\n",
       "      <td>0.007</td>\n",
       "      <td>0.264</td>\n",
       "      <td>-0.059</td>\n",
       "      <td>-0.266</td>\n",
       "      <td>0.296</td>\n",
       "      <td>-0.032</td>\n",
       "      <td>0.232</td>\n",
       "      <td>-0.270</td>\n",
       "      <td>...</td>\n",
       "      <td>-0.208</td>\n",
       "      <td>-0.026</td>\n",
       "      <td>0.043</td>\n",
       "      <td>0.162</td>\n",
       "      <td>27</td>\n",
       "      <td>85</td>\n",
       "      <td>1</td>\n",
       "      <td>36.91</td>\n",
       "      <td>0.189474</td>\n",
       "      <td>0.189474</td>\n",
       "    </tr>\n",
       "    <tr>\n",
       "      <th>4</th>\n",
       "      <td>HCP101006</td>\n",
       "      <td>-0.179</td>\n",
       "      <td>-0.201</td>\n",
       "      <td>-0.453</td>\n",
       "      <td>0.183</td>\n",
       "      <td>0.486</td>\n",
       "      <td>-0.254</td>\n",
       "      <td>0.145</td>\n",
       "      <td>-0.108</td>\n",
       "      <td>-0.035</td>\n",
       "      <td>...</td>\n",
       "      <td>-0.077</td>\n",
       "      <td>0.007</td>\n",
       "      <td>0.071</td>\n",
       "      <td>0.114</td>\n",
       "      <td>35</td>\n",
       "      <td>90</td>\n",
       "      <td>2</td>\n",
       "      <td>30.27</td>\n",
       "      <td>0.156877</td>\n",
       "      <td>0.156877</td>\n",
       "    </tr>\n",
       "  </tbody>\n",
       "</table>\n",
       "<p>5 rows × 27 columns</p>\n",
       "</div>"
      ],
      "text/plain": [
       "          ID  MTG_L_sub1  MTG_L_sub2  MTG_L_sub3  MTG_L_sub4  MTG_L_sub5  \\\n",
       "0  HCP100206      -0.165      -0.080      -0.431       0.130       0.445   \n",
       "1  HCP100307       0.033      -0.188      -0.007       0.116       0.009   \n",
       "2  HCP100408       0.194       0.013       0.216      -0.169      -0.212   \n",
       "3  HCP100610       0.097       0.007       0.264      -0.059      -0.266   \n",
       "4  HCP101006      -0.179      -0.201      -0.453       0.183       0.486   \n",
       "\n",
       "   BROCA_L_sub1  BROCA_L_sub2  BROCA_L_sub3  BROCA_L_sub4     ...       \\\n",
       "0        -0.371         0.302        -0.464        -0.024     ...        \n",
       "1        -0.382         0.186        -0.208         0.207     ...        \n",
       "2        -0.140         0.145        -0.002        -0.009     ...        \n",
       "3         0.296        -0.032         0.232        -0.270     ...        \n",
       "4        -0.254         0.145        -0.108        -0.035     ...        \n",
       "\n",
       "   PSTG_L_sub2  PSTG_L_sub3  PSTG_L_sub4  PSTG_L_sub5  Age_in_Yrs  Handedness  \\\n",
       "0        0.573       -0.126        0.069       -0.515          27          65   \n",
       "1        0.058        0.045       -0.119       -0.200          27          95   \n",
       "2       -0.285        0.109        0.040        0.244          33          55   \n",
       "3       -0.208       -0.026        0.043        0.162          27          85   \n",
       "4       -0.077        0.007        0.071        0.114          35          90   \n",
       "\n",
       "   Gender    BMI        FD  FD_scrubbed  \n",
       "0       1  26.64  0.088456     0.088456  \n",
       "1       2  22.96  0.101970     0.101970  \n",
       "2       1  27.75  0.128052     0.128052  \n",
       "3       1  36.91  0.189474     0.189474  \n",
       "4       2  30.27  0.156877     0.156877  \n",
       "\n",
       "[5 rows x 27 columns]"
      ]
     },
     "execution_count": 16,
     "metadata": {},
     "output_type": "execute_result"
    }
   ],
   "source": [
    "# Merge weight with subset of pheno variables\n",
    "merged_weight_pheno = pd.merge(file_weight, file_pheno_subset, on='Subject', how='left')\n",
    "# Replace 'Subject' by 'ID'\n",
    "merged_weight_pheno.rename(columns={'Subject':'ID'},inplace=True)\n",
    "merged_weight_pheno.head()"
   ]
  },
  {
   "cell_type": "code",
   "execution_count": 17,
   "metadata": {
    "collapsed": false
   },
   "outputs": [
    {
     "data": {
      "text/plain": [
       "count           814\n",
       "unique          814\n",
       "top       HCP677968\n",
       "freq              1\n",
       "Name: ID, dtype: object"
      ]
     },
     "execution_count": 17,
     "metadata": {},
     "output_type": "execute_result"
    }
   ],
   "source": [
    "merged_weight_pheno.ID.describe()"
   ]
  },
  {
   "cell_type": "code",
   "execution_count": 18,
   "metadata": {
    "collapsed": false
   },
   "outputs": [
    {
     "data": {
      "text/plain": [
       "1"
      ]
     },
     "execution_count": 18,
     "metadata": {},
     "output_type": "execute_result"
    }
   ],
   "source": [
    "# Check if there is empty value in BMI\n",
    "sum(merged_weight_pheno.BMI.isnull())"
   ]
  },
  {
   "cell_type": "code",
   "execution_count": 19,
   "metadata": {
    "collapsed": false
   },
   "outputs": [],
   "source": [
    "# Save the merged file\n",
    "merged_weight_pheno.to_csv(os.path.join(out_path,pheno_save), index=False)"
   ]
  },
  {
   "cell_type": "markdown",
   "metadata": {},
   "source": [
    "## Build trait file"
   ]
  },
  {
   "cell_type": "code",
   "execution_count": 20,
   "metadata": {
    "collapsed": false
   },
   "outputs": [
    {
     "data": {
      "text/plain": [
       "['MTG_L_sub1',\n",
       " 'MTG_L_sub2',\n",
       " 'MTG_L_sub3',\n",
       " 'MTG_L_sub4',\n",
       " 'MTG_L_sub5',\n",
       " 'BROCA_L_sub1',\n",
       " 'BROCA_L_sub2',\n",
       " 'BROCA_L_sub3',\n",
       " 'BROCA_L_sub4',\n",
       " 'BROCA_L_sub5',\n",
       " 'ANTERIOR_POLE_L_sub1',\n",
       " 'ANTERIOR_POLE_L_sub2',\n",
       " 'ANTERIOR_POLE_L_sub3',\n",
       " 'ANTERIOR_POLE_L_sub4',\n",
       " 'ANTERIOR_POLE_L_sub5',\n",
       " 'PSTG_L_sub1',\n",
       " 'PSTG_L_sub2',\n",
       " 'PSTG_L_sub3',\n",
       " 'PSTG_L_sub4',\n",
       " 'PSTG_L_sub5',\n",
       " 'Handedness',\n",
       " 'BMI',\n",
       " 'FD',\n",
       " 'FD_scrubbed']"
      ]
     },
     "execution_count": 20,
     "metadata": {},
     "output_type": "execute_result"
    }
   ],
   "source": [
    "## build trait file\n",
    "# Remove not neaded traits\n",
    "list_trait = merged_weight_pheno.columns.tolist()\n",
    "new_list = [trait for trait in list_trait if trait not in ['ID','Age_in_Yrs','Gender']]\n",
    "new_list"
   ]
  },
  {
   "cell_type": "code",
   "execution_count": 21,
   "metadata": {
    "collapsed": false
   },
   "outputs": [],
   "source": [
    "# Save trait file\n",
    "file_out = open(os.path.join(out_path,\"trait_file\"), 'w')\n",
    "for item in new_list:\n",
    "    file_out.write(\"%s\\n\" % item)\n",
    "file_out.close()"
   ]
  },
  {
   "cell_type": "markdown",
   "metadata": {
    "collapsed": false
   },
   "source": [
    "## Build Pedigree file"
   ]
  },
  {
   "cell_type": "code",
   "execution_count": 22,
   "metadata": {
    "collapsed": false
   },
   "outputs": [
    {
     "data": {
      "text/html": [
       "<div>\n",
       "<table border=\"1\" class=\"dataframe\">\n",
       "  <thead>\n",
       "    <tr style=\"text-align: right;\">\n",
       "      <th></th>\n",
       "      <th>Subject</th>\n",
       "      <th>Twin_Stat</th>\n",
       "      <th>Zygosity</th>\n",
       "      <th>Mother_ID</th>\n",
       "      <th>Gender</th>\n",
       "    </tr>\n",
       "  </thead>\n",
       "  <tbody>\n",
       "    <tr>\n",
       "      <th>0</th>\n",
       "      <td>HCP100206</td>\n",
       "      <td>NotTwin</td>\n",
       "      <td>NotTwin</td>\n",
       "      <td>56037</td>\n",
       "      <td>M</td>\n",
       "    </tr>\n",
       "    <tr>\n",
       "      <th>1</th>\n",
       "      <td>HCP100307</td>\n",
       "      <td>Twin</td>\n",
       "      <td>NotMZ</td>\n",
       "      <td>51488</td>\n",
       "      <td>F</td>\n",
       "    </tr>\n",
       "    <tr>\n",
       "      <th>2</th>\n",
       "      <td>HCP100408</td>\n",
       "      <td>Twin</td>\n",
       "      <td>MZ</td>\n",
       "      <td>51730</td>\n",
       "      <td>M</td>\n",
       "    </tr>\n",
       "    <tr>\n",
       "      <th>3</th>\n",
       "      <td>HCP100610</td>\n",
       "      <td>Twin</td>\n",
       "      <td>NotMZ</td>\n",
       "      <td>52813</td>\n",
       "      <td>M</td>\n",
       "    </tr>\n",
       "    <tr>\n",
       "      <th>4</th>\n",
       "      <td>HCP101006</td>\n",
       "      <td>Twin</td>\n",
       "      <td>MZ</td>\n",
       "      <td>51283</td>\n",
       "      <td>F</td>\n",
       "    </tr>\n",
       "  </tbody>\n",
       "</table>\n",
       "</div>"
      ],
      "text/plain": [
       "     Subject Twin_Stat Zygosity  Mother_ID Gender\n",
       "0  HCP100206   NotTwin  NotTwin      56037      M\n",
       "1  HCP100307      Twin    NotMZ      51488      F\n",
       "2  HCP100408      Twin       MZ      51730      M\n",
       "3  HCP100610      Twin    NotMZ      52813      M\n",
       "4  HCP101006      Twin       MZ      51283      F"
      ]
     },
     "execution_count": 22,
     "metadata": {},
     "output_type": "execute_result"
    }
   ],
   "source": [
    "# Select a subset of variable from pheno file\n",
    "file_pheno_pedig = file_pheno[[\"Subject\",\"Twin_Stat\",\"Zygosity\",\"Mother_ID\",\"Gender\"]]\n",
    "file_pheno_pedig.head()"
   ]
  },
  {
   "cell_type": "code",
   "execution_count": 23,
   "metadata": {
    "collapsed": false
   },
   "outputs": [
    {
     "data": {
      "text/plain": [
       "count           815\n",
       "unique          815\n",
       "top       HCP677968\n",
       "freq              1\n",
       "Name: Subject, dtype: object"
      ]
     },
     "execution_count": 23,
     "metadata": {},
     "output_type": "execute_result"
    }
   ],
   "source": [
    "file_pheno_pedig.Subject.describe()"
   ]
  },
  {
   "cell_type": "code",
   "execution_count": 24,
   "metadata": {
    "collapsed": false
   },
   "outputs": [],
   "source": [
    "# Build pedigre : ID , mo, fo, hhID, mztwins,sex\n",
    "mother_id = [\"mo_{}\".format(row.Mother_ID) for ind, row in file_pheno_pedig.iterrows()]\n",
    "father_id = [\"fa_{}\".format(row.Mother_ID) for ind, row in file_pheno_pedig.iterrows()]\n",
    "household_id = [\"hh_{}\".format(row.Mother_ID) for ind, row in file_pheno_pedig.iterrows()]\n",
    "twin_id = [\"pair_{}\".format(row.Mother_ID) if row.Zygosity == \"MZ\" else \"\" for ind, row in file_pheno_pedig.iterrows()]"
   ]
  },
  {
   "cell_type": "code",
   "execution_count": 25,
   "metadata": {
    "collapsed": false
   },
   "outputs": [
    {
     "name": "stdout",
     "output_type": "stream",
     "text": [
      "head\n"
     ]
    },
    {
     "data": {
      "text/html": [
       "<div>\n",
       "<table border=\"1\" class=\"dataframe\">\n",
       "  <thead>\n",
       "    <tr style=\"text-align: right;\">\n",
       "      <th></th>\n",
       "      <th>ID</th>\n",
       "      <th>fa</th>\n",
       "      <th>mo</th>\n",
       "      <th>sex</th>\n",
       "      <th>mztwin</th>\n",
       "      <th>hhID</th>\n",
       "    </tr>\n",
       "  </thead>\n",
       "  <tbody>\n",
       "    <tr>\n",
       "      <th>0</th>\n",
       "      <td>HCP100206</td>\n",
       "      <td>fa_56037</td>\n",
       "      <td>mo_56037</td>\n",
       "      <td>1</td>\n",
       "      <td></td>\n",
       "      <td>hh_56037</td>\n",
       "    </tr>\n",
       "    <tr>\n",
       "      <th>1</th>\n",
       "      <td>HCP100307</td>\n",
       "      <td>fa_51488</td>\n",
       "      <td>mo_51488</td>\n",
       "      <td>2</td>\n",
       "      <td></td>\n",
       "      <td>hh_51488</td>\n",
       "    </tr>\n",
       "    <tr>\n",
       "      <th>2</th>\n",
       "      <td>HCP100408</td>\n",
       "      <td>fa_51730</td>\n",
       "      <td>mo_51730</td>\n",
       "      <td>1</td>\n",
       "      <td>pair_51730</td>\n",
       "      <td>hh_51730</td>\n",
       "    </tr>\n",
       "    <tr>\n",
       "      <th>3</th>\n",
       "      <td>HCP100610</td>\n",
       "      <td>fa_52813</td>\n",
       "      <td>mo_52813</td>\n",
       "      <td>1</td>\n",
       "      <td></td>\n",
       "      <td>hh_52813</td>\n",
       "    </tr>\n",
       "    <tr>\n",
       "      <th>4</th>\n",
       "      <td>HCP101006</td>\n",
       "      <td>fa_51283</td>\n",
       "      <td>mo_51283</td>\n",
       "      <td>2</td>\n",
       "      <td>pair_51283</td>\n",
       "      <td>hh_51283</td>\n",
       "    </tr>\n",
       "  </tbody>\n",
       "</table>\n",
       "</div>"
      ],
      "text/plain": [
       "          ID        fa        mo  sex      mztwin      hhID\n",
       "0  HCP100206  fa_56037  mo_56037    1              hh_56037\n",
       "1  HCP100307  fa_51488  mo_51488    2              hh_51488\n",
       "2  HCP100408  fa_51730  mo_51730    1  pair_51730  hh_51730\n",
       "3  HCP100610  fa_52813  mo_52813    1              hh_52813\n",
       "4  HCP101006  fa_51283  mo_51283    2  pair_51283  hh_51283"
      ]
     },
     "metadata": {},
     "output_type": "display_data"
    },
    {
     "name": "stdout",
     "output_type": "stream",
     "text": [
      "tail\n"
     ]
    },
    {
     "data": {
      "text/html": [
       "<div>\n",
       "<table border=\"1\" class=\"dataframe\">\n",
       "  <thead>\n",
       "    <tr style=\"text-align: right;\">\n",
       "      <th></th>\n",
       "      <th>ID</th>\n",
       "      <th>fa</th>\n",
       "      <th>mo</th>\n",
       "      <th>sex</th>\n",
       "      <th>mztwin</th>\n",
       "      <th>hhID</th>\n",
       "    </tr>\n",
       "  </thead>\n",
       "  <tbody>\n",
       "    <tr>\n",
       "      <th>810</th>\n",
       "      <td>HCP992673</td>\n",
       "      <td>fa_56143</td>\n",
       "      <td>mo_56143</td>\n",
       "      <td>2</td>\n",
       "      <td></td>\n",
       "      <td>hh_56143</td>\n",
       "    </tr>\n",
       "    <tr>\n",
       "      <th>811</th>\n",
       "      <td>HCP992774</td>\n",
       "      <td>fa_51345</td>\n",
       "      <td>mo_51345</td>\n",
       "      <td>1</td>\n",
       "      <td></td>\n",
       "      <td>hh_51345</td>\n",
       "    </tr>\n",
       "    <tr>\n",
       "      <th>812</th>\n",
       "      <td>HCP993675</td>\n",
       "      <td>fa_55800</td>\n",
       "      <td>mo_55800</td>\n",
       "      <td>2</td>\n",
       "      <td></td>\n",
       "      <td>hh_55800</td>\n",
       "    </tr>\n",
       "    <tr>\n",
       "      <th>813</th>\n",
       "      <td>HCP994273</td>\n",
       "      <td>fa_52364</td>\n",
       "      <td>mo_52364</td>\n",
       "      <td>1</td>\n",
       "      <td></td>\n",
       "      <td>hh_52364</td>\n",
       "    </tr>\n",
       "    <tr>\n",
       "      <th>814</th>\n",
       "      <td>HCP996782</td>\n",
       "      <td>fa_51541</td>\n",
       "      <td>mo_51541</td>\n",
       "      <td>2</td>\n",
       "      <td></td>\n",
       "      <td>hh_51541</td>\n",
       "    </tr>\n",
       "  </tbody>\n",
       "</table>\n",
       "</div>"
      ],
      "text/plain": [
       "            ID        fa        mo  sex mztwin      hhID\n",
       "810  HCP992673  fa_56143  mo_56143    2         hh_56143\n",
       "811  HCP992774  fa_51345  mo_51345    1         hh_51345\n",
       "812  HCP993675  fa_55800  mo_55800    2         hh_55800\n",
       "813  HCP994273  fa_52364  mo_52364    1         hh_52364\n",
       "814  HCP996782  fa_51541  mo_51541    2         hh_51541"
      ]
     },
     "metadata": {},
     "output_type": "display_data"
    },
    {
     "data": {
      "text/plain": [
       "ID        815\n",
       "fa        815\n",
       "mo        815\n",
       "sex       815\n",
       "mztwin    815\n",
       "hhID      815\n",
       "dtype: int64"
      ]
     },
     "execution_count": 25,
     "metadata": {},
     "output_type": "execute_result"
    }
   ],
   "source": [
    "# write into new data frame\n",
    "df_pedig = pd.DataFrame()\n",
    "df_pedig[\"ID\"] = file_pheno_pedig.Subject\n",
    "df_pedig[\"fa\"] = father_id\n",
    "df_pedig[\"mo\"] = mother_id\n",
    "df_pedig[\"sex\"] = file_pheno_pedig.Gender.replace(to_replace={\"M\":1, \"F\":2})\n",
    "df_pedig[\"mztwin\"] = twin_id\n",
    "df_pedig[\"hhID\"] = household_id\n",
    "\n",
    "\n",
    "print(\"head\")\n",
    "display(df_pedig.head())\n",
    "print(\"tail\")\n",
    "display(df_pedig.tail())\n",
    "df_pedig.count()"
   ]
  },
  {
   "cell_type": "code",
   "execution_count": 26,
   "metadata": {
    "collapsed": false,
    "scrolled": false
   },
   "outputs": [],
   "source": [
    "# Look for MZ twins missing their co-twin\n",
    "uniques = list(df_pedig.mztwin.unique())\n",
    "uniques.pop(0)\n",
    "twin_counts = [np.sum(df_pedig.mztwin==twin) for twin in uniques]\n",
    "# for idx, twin in enumerate(uniques):\n",
    "#     print(\"{} occurs {} times\".format(twin, twin_counts[idx]))"
   ]
  },
  {
   "cell_type": "code",
   "execution_count": 27,
   "metadata": {
    "collapsed": true
   },
   "outputs": [],
   "source": [
    "# create a mask that will kepp only MZ twins missing their co-twin\n",
    "singles = [True if np.sum(df_pedig.mztwin==row.mztwin)==1 else False for ind, row in df_pedig.iterrows()]"
   ]
  },
  {
   "cell_type": "code",
   "execution_count": 28,
   "metadata": {
    "collapsed": true
   },
   "outputs": [],
   "source": [
    "# Make a copy of the pedigre to avoid missing up with the original data\n",
    "copy_df_pedig = df_pedig.copy()"
   ]
  },
  {
   "cell_type": "code",
   "execution_count": 29,
   "metadata": {
    "collapsed": false,
    "scrolled": true
   },
   "outputs": [
    {
     "data": {
      "text/html": [
       "<div>\n",
       "<table border=\"1\" class=\"dataframe\">\n",
       "  <thead>\n",
       "    <tr style=\"text-align: right;\">\n",
       "      <th></th>\n",
       "      <th>ID</th>\n",
       "      <th>fa</th>\n",
       "      <th>mo</th>\n",
       "      <th>sex</th>\n",
       "      <th>mztwin</th>\n",
       "      <th>hhID</th>\n",
       "    </tr>\n",
       "  </thead>\n",
       "  <tbody>\n",
       "    <tr>\n",
       "      <th>39</th>\n",
       "      <td>M_HCP110007</td>\n",
       "      <td>fa_54572</td>\n",
       "      <td>mo_54572</td>\n",
       "      <td>2</td>\n",
       "      <td>pair_54572</td>\n",
       "      <td>hh_54572</td>\n",
       "    </tr>\n",
       "    <tr>\n",
       "      <th>56</th>\n",
       "      <td>M_HCP114823</td>\n",
       "      <td>fa_52925</td>\n",
       "      <td>mo_52925</td>\n",
       "      <td>2</td>\n",
       "      <td>pair_52925</td>\n",
       "      <td>hh_52925</td>\n",
       "    </tr>\n",
       "    <tr>\n",
       "      <th>83</th>\n",
       "      <td>M_HCP122317</td>\n",
       "      <td>fa_51802</td>\n",
       "      <td>mo_51802</td>\n",
       "      <td>1</td>\n",
       "      <td>pair_51802</td>\n",
       "      <td>hh_51802</td>\n",
       "    </tr>\n",
       "    <tr>\n",
       "      <th>88</th>\n",
       "      <td>M_HCP123824</td>\n",
       "      <td>fa_56022</td>\n",
       "      <td>mo_56022</td>\n",
       "      <td>1</td>\n",
       "      <td>pair_56022</td>\n",
       "      <td>hh_56022</td>\n",
       "    </tr>\n",
       "    <tr>\n",
       "      <th>91</th>\n",
       "      <td>M_HCP124422</td>\n",
       "      <td>fa_51529</td>\n",
       "      <td>mo_51529</td>\n",
       "      <td>2</td>\n",
       "      <td>pair_51529</td>\n",
       "      <td>hh_51529</td>\n",
       "    </tr>\n",
       "  </tbody>\n",
       "</table>\n",
       "</div>"
      ],
      "text/plain": [
       "             ID        fa        mo  sex      mztwin      hhID\n",
       "39  M_HCP110007  fa_54572  mo_54572    2  pair_54572  hh_54572\n",
       "56  M_HCP114823  fa_52925  mo_52925    2  pair_52925  hh_52925\n",
       "83  M_HCP122317  fa_51802  mo_51802    1  pair_51802  hh_51802\n",
       "88  M_HCP123824  fa_56022  mo_56022    1  pair_56022  hh_56022\n",
       "91  M_HCP124422  fa_51529  mo_51529    2  pair_51529  hh_51529"
      ]
     },
     "metadata": {},
     "output_type": "display_data"
    },
    {
     "data": {
      "text/plain": [
       "ID        40\n",
       "fa        40\n",
       "mo        40\n",
       "sex       40\n",
       "mztwin    40\n",
       "hhID      40\n",
       "dtype: int64"
      ]
     },
     "execution_count": 29,
     "metadata": {},
     "output_type": "execute_result"
    }
   ],
   "source": [
    "# Select only MZ twins missing their co-twin\n",
    "df_single_pedig = copy_df_pedig[singles]\n",
    "\n",
    "# Add \"M_\" (for missing) to a the single MZ twins\n",
    "for i, row in df_single_pedig.iterrows():\n",
    "    df_single_pedig.set_value(i,\"ID\",\"M_{}\".format(row.ID))\n",
    "display(df_single_pedig.head())\n",
    "df_single_pedig.count()"
   ]
  },
  {
   "cell_type": "code",
   "execution_count": 30,
   "metadata": {
    "collapsed": false,
    "scrolled": true
   },
   "outputs": [
    {
     "data": {
      "text/html": [
       "<div>\n",
       "<table border=\"1\" class=\"dataframe\">\n",
       "  <thead>\n",
       "    <tr style=\"text-align: right;\">\n",
       "      <th></th>\n",
       "      <th>ID</th>\n",
       "      <th>fa</th>\n",
       "      <th>mo</th>\n",
       "      <th>sex</th>\n",
       "      <th>mztwin</th>\n",
       "      <th>hhID</th>\n",
       "    </tr>\n",
       "  </thead>\n",
       "  <tbody>\n",
       "    <tr>\n",
       "      <th>0</th>\n",
       "      <td>HCP100206</td>\n",
       "      <td>fa_56037</td>\n",
       "      <td>mo_56037</td>\n",
       "      <td>1</td>\n",
       "      <td></td>\n",
       "      <td>hh_56037</td>\n",
       "    </tr>\n",
       "    <tr>\n",
       "      <th>1</th>\n",
       "      <td>HCP100307</td>\n",
       "      <td>fa_51488</td>\n",
       "      <td>mo_51488</td>\n",
       "      <td>2</td>\n",
       "      <td></td>\n",
       "      <td>hh_51488</td>\n",
       "    </tr>\n",
       "    <tr>\n",
       "      <th>2</th>\n",
       "      <td>HCP100408</td>\n",
       "      <td>fa_51730</td>\n",
       "      <td>mo_51730</td>\n",
       "      <td>1</td>\n",
       "      <td>pair_51730</td>\n",
       "      <td>hh_51730</td>\n",
       "    </tr>\n",
       "    <tr>\n",
       "      <th>3</th>\n",
       "      <td>HCP100610</td>\n",
       "      <td>fa_52813</td>\n",
       "      <td>mo_52813</td>\n",
       "      <td>1</td>\n",
       "      <td></td>\n",
       "      <td>hh_52813</td>\n",
       "    </tr>\n",
       "    <tr>\n",
       "      <th>4</th>\n",
       "      <td>HCP101006</td>\n",
       "      <td>fa_51283</td>\n",
       "      <td>mo_51283</td>\n",
       "      <td>2</td>\n",
       "      <td>pair_51283</td>\n",
       "      <td>hh_51283</td>\n",
       "    </tr>\n",
       "  </tbody>\n",
       "</table>\n",
       "</div>"
      ],
      "text/plain": [
       "          ID        fa        mo  sex      mztwin      hhID\n",
       "0  HCP100206  fa_56037  mo_56037    1              hh_56037\n",
       "1  HCP100307  fa_51488  mo_51488    2              hh_51488\n",
       "2  HCP100408  fa_51730  mo_51730    1  pair_51730  hh_51730\n",
       "3  HCP100610  fa_52813  mo_52813    1              hh_52813\n",
       "4  HCP101006  fa_51283  mo_51283    2  pair_51283  hh_51283"
      ]
     },
     "execution_count": 30,
     "metadata": {},
     "output_type": "execute_result"
    }
   ],
   "source": [
    "# Append pedgree with fake co-twin for the missing one\n",
    "df_pedig_final = copy_df_pedig.append(df_single_pedig)\n",
    "df_pedig_final.head()"
   ]
  },
  {
   "cell_type": "code",
   "execution_count": 31,
   "metadata": {
    "collapsed": false,
    "scrolled": true
   },
   "outputs": [
    {
     "data": {
      "text/html": [
       "<div>\n",
       "<table border=\"1\" class=\"dataframe\">\n",
       "  <thead>\n",
       "    <tr style=\"text-align: right;\">\n",
       "      <th></th>\n",
       "      <th>ID</th>\n",
       "      <th>fa</th>\n",
       "      <th>mo</th>\n",
       "      <th>sex</th>\n",
       "      <th>mztwin</th>\n",
       "      <th>hhID</th>\n",
       "    </tr>\n",
       "  </thead>\n",
       "  <tbody>\n",
       "    <tr>\n",
       "      <th>707</th>\n",
       "      <td>M_HCP769064</td>\n",
       "      <td>fa_52803</td>\n",
       "      <td>mo_52803</td>\n",
       "      <td>1</td>\n",
       "      <td>pair_52803</td>\n",
       "      <td>hh_52803</td>\n",
       "    </tr>\n",
       "    <tr>\n",
       "      <th>734</th>\n",
       "      <td>M_HCP835657</td>\n",
       "      <td>fa_52137</td>\n",
       "      <td>mo_52137</td>\n",
       "      <td>2</td>\n",
       "      <td>pair_52137</td>\n",
       "      <td>hh_52137</td>\n",
       "    </tr>\n",
       "    <tr>\n",
       "      <th>736</th>\n",
       "      <td>M_HCP837964</td>\n",
       "      <td>fa_52875</td>\n",
       "      <td>mo_52875</td>\n",
       "      <td>2</td>\n",
       "      <td>pair_52875</td>\n",
       "      <td>hh_52875</td>\n",
       "    </tr>\n",
       "    <tr>\n",
       "      <th>777</th>\n",
       "      <td>M_HCP904044</td>\n",
       "      <td>fa_51290</td>\n",
       "      <td>mo_51290</td>\n",
       "      <td>2</td>\n",
       "      <td>pair_51290</td>\n",
       "      <td>hh_51290</td>\n",
       "    </tr>\n",
       "    <tr>\n",
       "      <th>802</th>\n",
       "      <td>M_HCP972566</td>\n",
       "      <td>fa_56077</td>\n",
       "      <td>mo_56077</td>\n",
       "      <td>2</td>\n",
       "      <td>pair_56077</td>\n",
       "      <td>hh_56077</td>\n",
       "    </tr>\n",
       "  </tbody>\n",
       "</table>\n",
       "</div>"
      ],
      "text/plain": [
       "              ID        fa        mo  sex      mztwin      hhID\n",
       "707  M_HCP769064  fa_52803  mo_52803    1  pair_52803  hh_52803\n",
       "734  M_HCP835657  fa_52137  mo_52137    2  pair_52137  hh_52137\n",
       "736  M_HCP837964  fa_52875  mo_52875    2  pair_52875  hh_52875\n",
       "777  M_HCP904044  fa_51290  mo_51290    2  pair_51290  hh_51290\n",
       "802  M_HCP972566  fa_56077  mo_56077    2  pair_56077  hh_56077"
      ]
     },
     "execution_count": 31,
     "metadata": {},
     "output_type": "execute_result"
    }
   ],
   "source": [
    "df_pedig_final.tail()"
   ]
  },
  {
   "cell_type": "code",
   "execution_count": 32,
   "metadata": {
    "collapsed": false
   },
   "outputs": [
    {
     "data": {
      "text/plain": [
       "ID        855\n",
       "fa        855\n",
       "mo        855\n",
       "sex       855\n",
       "mztwin    855\n",
       "hhID      855\n",
       "dtype: int64"
      ]
     },
     "execution_count": 32,
     "metadata": {},
     "output_type": "execute_result"
    }
   ],
   "source": [
    "df_pedig_final.count()"
   ]
  },
  {
   "cell_type": "code",
   "execution_count": 33,
   "metadata": {
    "collapsed": true
   },
   "outputs": [],
   "source": [
    "# Save the pedigree file\n",
    "df_pedig_final.to_csv(os.path.join(out_path,pedig_save), index=False)"
   ]
  },
  {
   "cell_type": "code",
   "execution_count": 34,
   "metadata": {
    "collapsed": true
   },
   "outputs": [],
   "source": [
    "import sys\n",
    "\n",
    "def query_yes_no(question, default=\"yes\"):\n",
    "    \"\"\"Ask a yes/no question via input() and return their answer.\n",
    "\n",
    "    \"question\" is a string that is presented to the user.\n",
    "    \"default\" is the presumed answer if the user just hits <Enter>.\n",
    "        It must be \"yes\" (the default), \"no\" or None (meaning\n",
    "        an answer is required of the user).\n",
    "\n",
    "    The \"answer\" return value is True for \"yes\" or False for \"no\".\n",
    "    \"\"\"\n",
    "    valid = {\"yes\": True, \"y\": True, \"ye\": True,\n",
    "             \"no\": False, \"n\": False}\n",
    "    if default is None:\n",
    "        prompt = \" [y/n] \"\n",
    "    elif default == \"yes\":\n",
    "        prompt = \" [Y/n] \"\n",
    "    elif default == \"no\":\n",
    "        prompt = \" [y/N] \"\n",
    "    else:\n",
    "        raise ValueError(\"invalid default answer: '%s'\" % default)\n",
    "\n",
    "    while True:\n",
    "        sys.stdout.write(question + prompt)\n",
    "        choice = input().lower()\n",
    "        if default is not None and choice == '':\n",
    "            return valid[default]\n",
    "        elif choice in valid:\n",
    "            return valid[choice]\n",
    "        else:\n",
    "            sys.stdout.write(\"Please respond with 'yes' or 'no' \"\n",
    "                             \"(or 'y' or 'n').\\n\")\n",
    "    return choice"
   ]
  },
  {
   "cell_type": "markdown",
   "metadata": {
    "collapsed": false
   },
   "source": [
    "## Run SOLAR heritability estimate "
   ]
  },
  {
   "cell_type": "code",
   "execution_count": 35,
   "metadata": {
    "collapsed": false,
    "scrolled": true
   },
   "outputs": [
    {
     "name": "stdout",
     "output_type": "stream",
     "text": [
      "HALT, you are about to run heritability pipline, would you like to continue? [Y/n] \n"
     ]
    },
    {
     "data": {
      "text/plain": [
       "True"
      ]
     },
     "execution_count": 35,
     "metadata": {},
     "output_type": "execute_result"
    }
   ],
   "source": [
    "query_yes_no('HALT, you are about to run heritability pipline, would you like to continue?')"
   ]
  },
  {
   "cell_type": "code",
   "execution_count": 36,
   "metadata": {
    "collapsed": false
   },
   "outputs": [],
   "source": [
    "%%bash -s \"$out_path\" \"$solar_cov\" \"$solar_script\"\n",
    "cd $1 #cd to out_path\n",
    "#sufix=$(echo $2 | sed -e 's/ /_/g') # add a suffix of covariate\n",
    "sed -i \"104s/.*/$2/\" $3 # feed the covariate to solar script\n",
    "sed -i \"52s~.*~$1phi2.gz~\" $3 # put the right path for the simlink\n",
    "sed -i \"53s~.*~$1pedindex.out~\" $3\n",
    "sed -i \"54s~.*~$1pedindex.cde~\" $3\n",
    "sed -i \"55s~.*~$1se_univ_polygen.tcl~\" $3"
   ]
  },
  {
   "cell_type": "code",
   "execution_count": 37,
   "metadata": {
    "collapsed": false
   },
   "outputs": [
    {
     "name": "stdout",
     "output_type": "stream",
     "text": [
      "\n",
      "SOLAR Eclipse version 8.1.1 (General), last updated on December 15, 2016\n",
      "Copyright (c) 1995-2016 Texas Biomedical Research Institute\n",
      "Enter help for help, exit to exit, doc to browse documentation.\n",
      "\n",
      "Unloading current pedigree data ...\n",
      "Loading pedigree data from the file solar_language_RL-LR_pedigre.csv ...\n",
      "Running mibd relate ...                                                 \r",
      "Reading classes.tab ...                                                 \r",
      "Reading mibdrel.ped ...                                                 \r",
      "Writing output file ...                                                 \r",
      "                                                                        \r",
      "::::::::::::::\n",
      "mibdrel.tab\n",
      "::::::::::::::\n",
      "\n",
      "    NPairs  Relationship\n",
      "  ========  ===========================================\n",
      "      1597  Self\n",
      "       118  Identical sib pair\n",
      "      1710  Parent-offspring\n",
      "       597  Siblings\n",
      "       371  Unrelated\n",
      "\n"
     ]
    }
   ],
   "source": [
    "%%bash -s \"$out_path\" \"$pedig_save\"\n",
    "cd $1\n",
    "solar <<INTERNAL_SOLAR_SCRIPT  \n",
    "load pedi $2\n",
    "pedigree classes -full\n",
    "INTERNAL_SOLAR_SCRIPT"
   ]
  },
  {
   "cell_type": "code",
   "execution_count": 38,
   "metadata": {
    "collapsed": false
   },
   "outputs": [
    {
     "name": "stdout",
     "output_type": "stream",
     "text": [
      "\n",
      "SOLAR Eclipse version 8.1.1 (General), last updated on December 15, 2016\n",
      "Copyright (c) 1995-2016 Texas Biomedical Research Institute\n",
      "Enter help for help, exit to exit, doc to browse documentation.\n",
      "\n",
      "Creating output directories...\n",
      "00000 : Set-0 : MTG_L_sub1                                                  \r",
      "00001 : Set-1 : MTG_L_sub2                                                  \r",
      "00002 : Set-2 : MTG_L_sub3                                                  \r",
      "00003 : Set-3 : MTG_L_sub4                                                  \r",
      "00004 : Set-4 : MTG_L_sub5                                                  \r",
      "00005 : Set-5 : BROCA_L_sub1                                                  \r",
      "00006 : Set-6 : BROCA_L_sub2                                                  \r",
      "00007 : Set-7 : BROCA_L_sub3                                                  \r",
      "00008 : Set-8 : BROCA_L_sub4                                                  \r",
      "00009 : Set-9 : BROCA_L_sub5                                                  \r",
      "00010 : Set-10 : ANTERIOR_POLE_L_sub1                                                  \r",
      "00011 : Set-11 : ANTERIOR_POLE_L_sub2                                                  \r",
      "00012 : Set-12 : ANTERIOR_POLE_L_sub3                                                  \r",
      "00013 : Set-13 : ANTERIOR_POLE_L_sub4                                                  \r",
      "00014 : Set-14 : ANTERIOR_POLE_L_sub5                                                  \r",
      "00015 : Set-15 : PSTG_L_sub1                                                  \r",
      "00016 : Set-16 : PSTG_L_sub2                                                  \r",
      "00017 : Set-17 : PSTG_L_sub3                                                  \r",
      "00018 : Set-18 : PSTG_L_sub4                                                  \r",
      "00019 : Set-19 : PSTG_L_sub5                                                  \r",
      "00020 : Set-20 : Handedness                                                  \r",
      "00021 : Set-21 : BMI                                                  \r",
      "00022 : Set-22 : FD                                                  \r",
      "00023 : Set-23 : FD_scrubbed                                                  \r\n",
      "All done.\n"
     ]
    }
   ],
   "source": [
    "%%bash -s \"$out_path\" \"$pheno_save\" \"$solar_out\"\n",
    "cd $1\n",
    "solar <<INTERNAL_SOLAR_SCRIPT \n",
    "load pheno $2\n",
    "INTERNAL_SOLAR_SCRIPT\n",
    "bash fcd_solar_h2r.sh trait_file $3 $1$2\n",
    "for i in $3/Set-*; do bash $i/run_all.sh ; done"
   ]
  },
  {
   "cell_type": "markdown",
   "metadata": {},
   "source": [
    "## Results"
   ]
  },
  {
   "cell_type": "code",
   "execution_count": 39,
   "metadata": {
    "collapsed": false
   },
   "outputs": [
    {
     "data": {
      "text/html": [
       "<div>\n",
       "<table border=\"1\" class=\"dataframe\">\n",
       "  <thead>\n",
       "    <tr style=\"text-align: right;\">\n",
       "      <th></th>\n",
       "      <th>Trait</th>\n",
       "      <th>H2r</th>\n",
       "      <th>P</th>\n",
       "      <th>CovVarianceExpl</th>\n",
       "    </tr>\n",
       "  </thead>\n",
       "  <tbody>\n",
       "    <tr>\n",
       "      <th>2</th>\n",
       "      <td>ANTERIOR_POLE_L_sub1_norm</td>\n",
       "      <td>0.522716</td>\n",
       "      <td>4.553741e-13</td>\n",
       "      <td>0.000525</td>\n",
       "    </tr>\n",
       "    <tr>\n",
       "      <th>3</th>\n",
       "      <td>ANTERIOR_POLE_L_sub2_norm</td>\n",
       "      <td>0.471996</td>\n",
       "      <td>2.402909e-10</td>\n",
       "      <td>0.000272</td>\n",
       "    </tr>\n",
       "    <tr>\n",
       "      <th>4</th>\n",
       "      <td>ANTERIOR_POLE_L_sub3_norm</td>\n",
       "      <td>0.435807</td>\n",
       "      <td>5.363340e-10</td>\n",
       "      <td>0.001720</td>\n",
       "    </tr>\n",
       "    <tr>\n",
       "      <th>5</th>\n",
       "      <td>ANTERIOR_POLE_L_sub4_norm</td>\n",
       "      <td>0.500207</td>\n",
       "      <td>9.595426e-13</td>\n",
       "      <td>0.002699</td>\n",
       "    </tr>\n",
       "    <tr>\n",
       "      <th>6</th>\n",
       "      <td>ANTERIOR_POLE_L_sub5_norm</td>\n",
       "      <td>0.575570</td>\n",
       "      <td>6.347466e-15</td>\n",
       "      <td>0.001924</td>\n",
       "    </tr>\n",
       "    <tr>\n",
       "      <th>13</th>\n",
       "      <td>BMI_norm</td>\n",
       "      <td>0.522282</td>\n",
       "      <td>4.396017e-12</td>\n",
       "      <td>0.359076</td>\n",
       "    </tr>\n",
       "    <tr>\n",
       "      <th>18</th>\n",
       "      <td>BROCA_L_sub1_norm</td>\n",
       "      <td>0.373100</td>\n",
       "      <td>1.000000e-07</td>\n",
       "      <td>-0.000191</td>\n",
       "    </tr>\n",
       "    <tr>\n",
       "      <th>19</th>\n",
       "      <td>BROCA_L_sub2_norm</td>\n",
       "      <td>0.366636</td>\n",
       "      <td>8.000000e-07</td>\n",
       "      <td>0.015838</td>\n",
       "    </tr>\n",
       "    <tr>\n",
       "      <th>20</th>\n",
       "      <td>BROCA_L_sub3_norm</td>\n",
       "      <td>0.449942</td>\n",
       "      <td>5.307934e-10</td>\n",
       "      <td>0.002149</td>\n",
       "    </tr>\n",
       "    <tr>\n",
       "      <th>21</th>\n",
       "      <td>BROCA_L_sub4_norm</td>\n",
       "      <td>0.370468</td>\n",
       "      <td>1.342880e-08</td>\n",
       "      <td>0.016318</td>\n",
       "    </tr>\n",
       "    <tr>\n",
       "      <th>22</th>\n",
       "      <td>BROCA_L_sub5_norm</td>\n",
       "      <td>0.409348</td>\n",
       "      <td>5.074741e-09</td>\n",
       "      <td>0.000289</td>\n",
       "    </tr>\n",
       "    <tr>\n",
       "      <th>14</th>\n",
       "      <td>FD_norm</td>\n",
       "      <td>0.273925</td>\n",
       "      <td>2.033000e-04</td>\n",
       "      <td>0.800122</td>\n",
       "    </tr>\n",
       "    <tr>\n",
       "      <th>15</th>\n",
       "      <td>FD_scrubbed_norm</td>\n",
       "      <td>0.106795</td>\n",
       "      <td>5.806010e-02</td>\n",
       "      <td>0.956332</td>\n",
       "    </tr>\n",
       "    <tr>\n",
       "      <th>0</th>\n",
       "      <td>MTG_L_sub1_norm</td>\n",
       "      <td>0.269162</td>\n",
       "      <td>2.970000e-05</td>\n",
       "      <td>0.001697</td>\n",
       "    </tr>\n",
       "    <tr>\n",
       "      <th>1</th>\n",
       "      <td>MTG_L_sub2_norm</td>\n",
       "      <td>0.445432</td>\n",
       "      <td>1.100153e-09</td>\n",
       "      <td>0.000133</td>\n",
       "    </tr>\n",
       "    <tr>\n",
       "      <th>12</th>\n",
       "      <td>MTG_L_sub3_norm</td>\n",
       "      <td>0.496754</td>\n",
       "      <td>2.785087e-14</td>\n",
       "      <td>0.000589</td>\n",
       "    </tr>\n",
       "    <tr>\n",
       "      <th>16</th>\n",
       "      <td>MTG_L_sub4_norm</td>\n",
       "      <td>0.256124</td>\n",
       "      <td>1.875000e-04</td>\n",
       "      <td>0.000387</td>\n",
       "    </tr>\n",
       "    <tr>\n",
       "      <th>17</th>\n",
       "      <td>MTG_L_sub5_norm</td>\n",
       "      <td>0.506416</td>\n",
       "      <td>1.719366e-14</td>\n",
       "      <td>0.001041</td>\n",
       "    </tr>\n",
       "    <tr>\n",
       "      <th>7</th>\n",
       "      <td>PSTG_L_sub1_norm</td>\n",
       "      <td>0.293584</td>\n",
       "      <td>1.920000e-05</td>\n",
       "      <td>0.013485</td>\n",
       "    </tr>\n",
       "    <tr>\n",
       "      <th>8</th>\n",
       "      <td>PSTG_L_sub2_norm</td>\n",
       "      <td>0.296697</td>\n",
       "      <td>1.440000e-05</td>\n",
       "      <td>0.001220</td>\n",
       "    </tr>\n",
       "    <tr>\n",
       "      <th>9</th>\n",
       "      <td>PSTG_L_sub3_norm</td>\n",
       "      <td>0.315248</td>\n",
       "      <td>3.200000e-06</td>\n",
       "      <td>0.003015</td>\n",
       "    </tr>\n",
       "    <tr>\n",
       "      <th>10</th>\n",
       "      <td>PSTG_L_sub4_norm</td>\n",
       "      <td>0.361173</td>\n",
       "      <td>2.100000e-06</td>\n",
       "      <td>0.018664</td>\n",
       "    </tr>\n",
       "    <tr>\n",
       "      <th>11</th>\n",
       "      <td>PSTG_L_sub5_norm</td>\n",
       "      <td>0.283615</td>\n",
       "      <td>5.760000e-05</td>\n",
       "      <td>0.000102</td>\n",
       "    </tr>\n",
       "  </tbody>\n",
       "</table>\n",
       "</div>"
      ],
      "text/plain": [
       "                        Trait       H2r             P  CovVarianceExpl\n",
       "2   ANTERIOR_POLE_L_sub1_norm  0.522716  4.553741e-13         0.000525\n",
       "3   ANTERIOR_POLE_L_sub2_norm  0.471996  2.402909e-10         0.000272\n",
       "4   ANTERIOR_POLE_L_sub3_norm  0.435807  5.363340e-10         0.001720\n",
       "5   ANTERIOR_POLE_L_sub4_norm  0.500207  9.595426e-13         0.002699\n",
       "6   ANTERIOR_POLE_L_sub5_norm  0.575570  6.347466e-15         0.001924\n",
       "13       BMI_norm              0.522282  4.396017e-12         0.359076\n",
       "18       BROCA_L_sub1_norm     0.373100  1.000000e-07        -0.000191\n",
       "19       BROCA_L_sub2_norm     0.366636  8.000000e-07         0.015838\n",
       "20       BROCA_L_sub3_norm     0.449942  5.307934e-10         0.002149\n",
       "21       BROCA_L_sub4_norm     0.370468  1.342880e-08         0.016318\n",
       "22       BROCA_L_sub5_norm     0.409348  5.074741e-09         0.000289\n",
       "14       FD_norm               0.273925  2.033000e-04         0.800122\n",
       "15       FD_scrubbed_norm      0.106795  5.806010e-02         0.956332\n",
       "0        MTG_L_sub1_norm       0.269162  2.970000e-05         0.001697\n",
       "1        MTG_L_sub2_norm       0.445432  1.100153e-09         0.000133\n",
       "12       MTG_L_sub3_norm       0.496754  2.785087e-14         0.000589\n",
       "16       MTG_L_sub4_norm       0.256124  1.875000e-04         0.000387\n",
       "17       MTG_L_sub5_norm       0.506416  1.719366e-14         0.001041\n",
       "7        PSTG_L_sub1_norm      0.293584  1.920000e-05         0.013485\n",
       "8        PSTG_L_sub2_norm      0.296697  1.440000e-05         0.001220\n",
       "9        PSTG_L_sub3_norm      0.315248  3.200000e-06         0.003015\n",
       "10       PSTG_L_sub4_norm      0.361173  2.100000e-06         0.018664\n",
       "11       PSTG_L_sub5_norm      0.283615  5.760000e-05         0.000102"
      ]
     },
     "execution_count": 39,
     "metadata": {},
     "output_type": "execute_result"
    }
   ],
   "source": [
    "out_herit = pd.read_csv(os.path.join(out_path,solar_out,\"se_out.out\"),sep=\"\\t\",header=None)\n",
    "out_herit_df =  pd.DataFrame()\n",
    "data = pd.DataFrame({\"Trait\": out_herit[2],\"H2r\": out_herit[4],\"P\": out_herit[7],\"CovVarianceExpl\": out_herit[9]})\n",
    "out_herit_df = data[[\"Trait\",\"H2r\",\"P\",\"CovVarianceExpl\"]].sort_values(['Trait'], ascending=[True])\n",
    "out_herit_df"
   ]
  },
  {
   "cell_type": "code",
   "execution_count": 43,
   "metadata": {
    "collapsed": false
   },
   "outputs": [
    {
     "ename": "TypeError",
     "evalue": "unhashable type: 'list'",
     "output_type": "error",
     "traceback": [
      "\u001b[1;31m---------------------------------------------------------------------------\u001b[0m",
      "\u001b[1;31mTypeError\u001b[0m                                 Traceback (most recent call last)",
      "\u001b[1;32m<ipython-input-43-f769378a4c34>\u001b[0m in \u001b[0;36m<module>\u001b[1;34m()\u001b[0m\n\u001b[1;32m----> 1\u001b[1;33m \u001b[0mout_herit_df\u001b[0m\u001b[1;33m.\u001b[0m\u001b[0mdrop\u001b[0m\u001b[1;33m(\u001b[0m\u001b[1;33m[\u001b[0m\u001b[1;33m[\u001b[0m\u001b[1;34m'BMI_norm'\u001b[0m\u001b[1;33m]\u001b[0m\u001b[1;33m]\u001b[0m\u001b[1;33m)\u001b[0m\u001b[1;33m\u001b[0m\u001b[0m\n\u001b[0m",
      "\u001b[1;32m/usr/local/lib/python3.4/dist-packages/pandas/core/generic.py\u001b[0m in \u001b[0;36mdrop\u001b[1;34m(self, labels, axis, level, inplace, errors)\u001b[0m\n\u001b[0;32m   1905\u001b[0m                 \u001b[0mnew_axis\u001b[0m \u001b[1;33m=\u001b[0m \u001b[0maxis\u001b[0m\u001b[1;33m.\u001b[0m\u001b[0mdrop\u001b[0m\u001b[1;33m(\u001b[0m\u001b[0mlabels\u001b[0m\u001b[1;33m,\u001b[0m \u001b[0mlevel\u001b[0m\u001b[1;33m=\u001b[0m\u001b[0mlevel\u001b[0m\u001b[1;33m,\u001b[0m \u001b[0merrors\u001b[0m\u001b[1;33m=\u001b[0m\u001b[0merrors\u001b[0m\u001b[1;33m)\u001b[0m\u001b[1;33m\u001b[0m\u001b[0m\n\u001b[0;32m   1906\u001b[0m             \u001b[1;32melse\u001b[0m\u001b[1;33m:\u001b[0m\u001b[1;33m\u001b[0m\u001b[0m\n\u001b[1;32m-> 1907\u001b[1;33m                 \u001b[0mnew_axis\u001b[0m \u001b[1;33m=\u001b[0m \u001b[0maxis\u001b[0m\u001b[1;33m.\u001b[0m\u001b[0mdrop\u001b[0m\u001b[1;33m(\u001b[0m\u001b[0mlabels\u001b[0m\u001b[1;33m,\u001b[0m \u001b[0merrors\u001b[0m\u001b[1;33m=\u001b[0m\u001b[0merrors\u001b[0m\u001b[1;33m)\u001b[0m\u001b[1;33m\u001b[0m\u001b[0m\n\u001b[0m\u001b[0;32m   1908\u001b[0m             \u001b[0mdropped\u001b[0m \u001b[1;33m=\u001b[0m \u001b[0mself\u001b[0m\u001b[1;33m.\u001b[0m\u001b[0mreindex\u001b[0m\u001b[1;33m(\u001b[0m\u001b[1;33m**\u001b[0m\u001b[1;33m{\u001b[0m\u001b[0maxis_name\u001b[0m\u001b[1;33m:\u001b[0m \u001b[0mnew_axis\u001b[0m\u001b[1;33m}\u001b[0m\u001b[1;33m)\u001b[0m\u001b[1;33m\u001b[0m\u001b[0m\n\u001b[0;32m   1909\u001b[0m             \u001b[1;32mtry\u001b[0m\u001b[1;33m:\u001b[0m\u001b[1;33m\u001b[0m\u001b[0m\n",
      "\u001b[1;32m/usr/local/lib/python3.4/dist-packages/pandas/indexes/base.py\u001b[0m in \u001b[0;36mdrop\u001b[1;34m(self, labels, errors)\u001b[0m\n\u001b[0;32m   3255\u001b[0m         \"\"\"\n\u001b[0;32m   3256\u001b[0m         \u001b[0mlabels\u001b[0m \u001b[1;33m=\u001b[0m \u001b[0mcom\u001b[0m\u001b[1;33m.\u001b[0m\u001b[0m_index_labels_to_array\u001b[0m\u001b[1;33m(\u001b[0m\u001b[0mlabels\u001b[0m\u001b[1;33m)\u001b[0m\u001b[1;33m\u001b[0m\u001b[0m\n\u001b[1;32m-> 3257\u001b[1;33m         \u001b[0mindexer\u001b[0m \u001b[1;33m=\u001b[0m \u001b[0mself\u001b[0m\u001b[1;33m.\u001b[0m\u001b[0mget_indexer\u001b[0m\u001b[1;33m(\u001b[0m\u001b[0mlabels\u001b[0m\u001b[1;33m)\u001b[0m\u001b[1;33m\u001b[0m\u001b[0m\n\u001b[0m\u001b[0;32m   3258\u001b[0m         \u001b[0mmask\u001b[0m \u001b[1;33m=\u001b[0m \u001b[0mindexer\u001b[0m \u001b[1;33m==\u001b[0m \u001b[1;33m-\u001b[0m\u001b[1;36m1\u001b[0m\u001b[1;33m\u001b[0m\u001b[0m\n\u001b[0;32m   3259\u001b[0m         \u001b[1;32mif\u001b[0m \u001b[0mmask\u001b[0m\u001b[1;33m.\u001b[0m\u001b[0many\u001b[0m\u001b[1;33m(\u001b[0m\u001b[1;33m)\u001b[0m\u001b[1;33m:\u001b[0m\u001b[1;33m\u001b[0m\u001b[0m\n",
      "\u001b[1;32m/usr/local/lib/python3.4/dist-packages/pandas/indexes/base.py\u001b[0m in \u001b[0;36mget_indexer\u001b[1;34m(self, target, method, limit, tolerance)\u001b[0m\n\u001b[0;32m   2266\u001b[0m             \u001b[0mtarget\u001b[0m \u001b[1;33m=\u001b[0m \u001b[0mtarget\u001b[0m\u001b[1;33m.\u001b[0m\u001b[0mastype\u001b[0m\u001b[1;33m(\u001b[0m\u001b[0mobject\u001b[0m\u001b[1;33m)\u001b[0m\u001b[1;33m\u001b[0m\u001b[0m\n\u001b[0;32m   2267\u001b[0m             return this.get_indexer(target, method=method, limit=limit,\n\u001b[1;32m-> 2268\u001b[1;33m                                     tolerance=tolerance)\n\u001b[0m\u001b[0;32m   2269\u001b[0m \u001b[1;33m\u001b[0m\u001b[0m\n\u001b[0;32m   2270\u001b[0m         \u001b[1;32mif\u001b[0m \u001b[1;32mnot\u001b[0m \u001b[0mself\u001b[0m\u001b[1;33m.\u001b[0m\u001b[0mis_unique\u001b[0m\u001b[1;33m:\u001b[0m\u001b[1;33m\u001b[0m\u001b[0m\n",
      "\u001b[1;32m/usr/local/lib/python3.4/dist-packages/pandas/indexes/base.py\u001b[0m in \u001b[0;36mget_indexer\u001b[1;34m(self, target, method, limit, tolerance)\u001b[0m\n\u001b[0;32m   2284\u001b[0m                                  'backfill or nearest reindexing')\n\u001b[0;32m   2285\u001b[0m \u001b[1;33m\u001b[0m\u001b[0m\n\u001b[1;32m-> 2286\u001b[1;33m             \u001b[0mindexer\u001b[0m \u001b[1;33m=\u001b[0m \u001b[0mself\u001b[0m\u001b[1;33m.\u001b[0m\u001b[0m_engine\u001b[0m\u001b[1;33m.\u001b[0m\u001b[0mget_indexer\u001b[0m\u001b[1;33m(\u001b[0m\u001b[0mtarget\u001b[0m\u001b[1;33m.\u001b[0m\u001b[0m_values\u001b[0m\u001b[1;33m)\u001b[0m\u001b[1;33m\u001b[0m\u001b[0m\n\u001b[0m\u001b[0;32m   2287\u001b[0m \u001b[1;33m\u001b[0m\u001b[0m\n\u001b[0;32m   2288\u001b[0m         \u001b[1;32mreturn\u001b[0m \u001b[0m_ensure_platform_int\u001b[0m\u001b[1;33m(\u001b[0m\u001b[0mindexer\u001b[0m\u001b[1;33m)\u001b[0m\u001b[1;33m\u001b[0m\u001b[0m\n",
      "\u001b[1;32mpandas/index.pyx\u001b[0m in \u001b[0;36mpandas.index.IndexEngine.get_indexer (pandas/index.c:6420)\u001b[1;34m()\u001b[0m\n",
      "\u001b[1;32mpandas/src/hashtable_class_helper.pxi\u001b[0m in \u001b[0;36mpandas.hashtable.PyObjectHashTable.lookup (pandas/hashtable.c:14637)\u001b[1;34m()\u001b[0m\n",
      "\u001b[1;31mTypeError\u001b[0m: unhashable type: 'list'"
     ]
    }
   ],
   "source": [
    "out_herit_df.drop([['BMI_norm']])"
   ]
  },
  {
   "cell_type": "code",
   "execution_count": null,
   "metadata": {
    "collapsed": true
   },
   "outputs": [],
   "source": []
  },
  {
   "cell_type": "code",
   "execution_count": null,
   "metadata": {
    "collapsed": true
   },
   "outputs": [],
   "source": []
  },
  {
   "cell_type": "code",
   "execution_count": null,
   "metadata": {
    "collapsed": true
   },
   "outputs": [],
   "source": []
  },
  {
   "cell_type": "code",
   "execution_count": 40,
   "metadata": {
    "collapsed": false
   },
   "outputs": [
    {
     "data": {
      "image/png": "[encoded data removed]",
      "text/plain": [
       "<matplotlib.figure.Figure at 0x7f9825691630>"
      ]
     },
     "metadata": {},
     "output_type": "display_data"
    }
   ],
   "source": [
    "import numpy as np\n",
    "import pandas as pd\n",
    "import seaborn as sns\n",
    "import matplotlib.pyplot as plt\n",
    "%matplotlib inline\n",
    "sns.set(style=\"ticks\")\n",
    "\n",
    "# Create a dataset with many short random walks\n",
    "rs = np.random.RandomState(4)\n",
    "pos = rs.randint(-1, 2, (20, 5)).cumsum(axis=1)\n",
    "pos -= pos[:, 0, np.newaxis]\n",
    "step = np.tile(range(5), 20)\n",
    "walk = np.repeat(range(20), 5)\n",
    "df = pd.DataFrame(np.c_[pos.flat, step, walk],\n",
    "                  columns=[\"position\", \"step\", \"walk\"])\n",
    "# Initialize a grid of plots with an Axes for each walk\n",
    "grid = sns.FacetGrid(out_herit_df, col=\"Trait\", hue=\"Trait\", col_wrap=7, size=3)\n",
    "\n",
    "# Draw a horizontal line to show the starting point\n",
    "grid.map(plt.axhline, y=0, ls=\":\", c=\".0005\")\n",
    "\n",
    "# Draw a line plot to show the trajectory of each random walk\n",
    "grid.map(plt.plot, \"H2r\", \"P\", marker=\"o\", ms=4)\n",
    "\n",
    "# Adjust the tick positions and labels\n",
    "grid.set(xticks=np.arange(5), yticks=[0.00001, 0.01],\n",
    "         xlim=(0, 0.8), ylim=(0.00001, 0.01))\n",
    "\n",
    "# Adjust the arrangement of the plots\n",
    "grid.fig.tight_layout(w_pad=1)"
   ]
  }
 ],
 "metadata": {
  "anaconda-cloud": {},
  "kernelspec": {
   "display_name": "Python 3",
   "language": "python",
   "name": "python3"
  },
  "language_info": {
   "codemirror_mode": {
    "name": "ipython",
    "version": 3
   },
   "file_extension": ".py",
   "mimetype": "text/x-python",
   "name": "python",
   "nbconvert_exporter": "python",
   "pygments_lexer": "ipython3",
   "version": "3.4.3"
  },
  "widgets": {
   "state": {},
   "version": "1.1.2"
  }
 },
 "nbformat": 4,
 "nbformat_minor": 1
}
