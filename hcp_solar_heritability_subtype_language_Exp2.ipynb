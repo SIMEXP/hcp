{
 "cells": [
  {
   "cell_type": "markdown",
   "metadata": {},
   "source": [
    "# EXP 1: LANGUAGE heritability subtype from activation maps"
   ]
  },
  {
   "cell_type": "markdown",
   "metadata": {
    "collapsed": true
   },
   "source": [
    "##### Subtype:\n",
    "- Niak preprocessed LANGUAGE task (new scrub method)\n",
    "- **SPM** from Math and Story trial for both LR and RL runs\n",
    "- 5 subtype\n",
    "- **FD_scrubbed_mean regressed out befor building subtypes**\n",
    "\n",
    "##### Heritability:\n",
    "- Regress \"FD_scrubbed_mean\" \"Age_in_Yrs\" \"Gender\" as covariate\n",
    "\n",
    "\n",
    "## Build Pheno file"
   ]
  },
  {
   "cell_type": "markdown",
   "metadata": {},
   "source": [
    "### Merge behavioral variables with subtypes weights"
   ]
  },
  {
   "cell_type": "code",
   "execution_count": 1,
   "metadata": {
    "collapsed": false
   },
   "outputs": [],
   "source": [
    "# Import pandas\n",
    "import os\n",
    "import pandas as pd\n",
    "import numpy as np\n",
    "from IPython.display import display"
   ]
  },
  {
   "cell_type": "code",
   "execution_count": 2,
   "metadata": {
    "collapsed": false
   },
   "outputs": [],
   "source": [
    "# Set up the paths to the files we want to work with\n",
    "path_root = \"/home/yassinebha/Drive/HCP\"\n",
    "net_path = os.path.join(path_root,\"subtypes_scores/26-10-2016/subtype_5_spm_LANGUAGE_01-Feb-2017/networks/\")\n",
    "sbt_name_pattern = \"sbt_weights_net_{}.csv\"\n",
    "pheno_path = os.path.join(path_root,\"subtypes_scores/26-10-2016/pheno/spm_language_pheno_scrub_raw_01-Feb-2017.csv\")\n",
    "out_path = os.path.join(path_root,\"Solar_heritability/HCP_subtype/\")\n",
    "solar_script = 'fcd_solar_h2r_test.sh'\n",
    "pheno_save = 'solar_language_spm_pheno.csv'\n",
    "pedig_save = 'solar_language_spm_pedigre.csv'\n",
    "solar_out = 'subtype_5_language_EXP2'\n",
    "solar_cov = '    cov FD_scrubbed_mean Gender'\n",
    "h2r_out_file = 'h2r_solar_language_spm_EXP2.csv'"
   ]
  },
  {
   "cell_type": "code",
   "execution_count": 14,
   "metadata": {
    "collapsed": false
   },
   "outputs": [
    {
     "data": {
      "text/plain": [
       "['story', 'math']"
      ]
     },
     "execution_count": 14,
     "metadata": {},
     "output_type": "execute_result"
    }
   ],
   "source": [
    "# List of network names\n",
    "net_names = os.listdir(net_path)\n",
    "net_names"
   ]
  },
  {
   "cell_type": "code",
   "execution_count": 15,
   "metadata": {
    "collapsed": false
   },
   "outputs": [],
   "source": [
    "# Loop over each network and build weight file\n",
    "for index, net in enumerate(net_names):\n",
    "    file_path = os.path.join(net_path, net, sbt_name_pattern.format(net))\n",
    "    if not os.path.exists(file_path):\n",
    "        print(\"Hello, {} does not exist\".format(file_path))\n",
    "    \n",
    "    tmp_weights = pd.read_csv(file_path)\n",
    "    # Rename first column\n",
    "    tmp_weights.rename(columns={\" \":\"Subject\"}, inplace=True)\n",
    "    tmp_weights.Subject = tmp_weights.Subject.str.strip(\" \")\n",
    "    \n",
    "    rename_dict = dict()\n",
    "    for colname in tmp_weights.columns:\n",
    "        if colname == \"Subject\":\n",
    "            continue\n",
    "        else:\n",
    "            new_name = \"{}_{}\".format(net, colname)\n",
    "            # Get rid of trailing whitespace\n",
    "            new_name = new_name.strip(\" \")\n",
    "            rename_dict[colname] = new_name\n",
    "\n",
    "    tmp_weights.rename(columns=rename_dict, inplace=True)\n",
    "    \n",
    "    if index==0:\n",
    "        dataframe = tmp_weights\n",
    "    else:\n",
    "        dataframe = pd.merge(dataframe, tmp_weights, on=\"Subject\", how=\"inner\")"
   ]
  },
  {
   "cell_type": "code",
   "execution_count": 16,
   "metadata": {
    "collapsed": false
   },
   "outputs": [
    {
     "data": {
      "text/html": [
       "<div>\n",
       "<table border=\"1\" class=\"dataframe\">\n",
       "  <thead>\n",
       "    <tr style=\"text-align: right;\">\n",
       "      <th></th>\n",
       "      <th>Subject</th>\n",
       "      <th>story_sub1</th>\n",
       "      <th>story_sub2</th>\n",
       "      <th>story_sub3</th>\n",
       "      <th>story_sub4</th>\n",
       "      <th>story_sub5</th>\n",
       "      <th>math_sub1</th>\n",
       "      <th>math_sub2</th>\n",
       "      <th>math_sub3</th>\n",
       "      <th>math_sub4</th>\n",
       "      <th>math_sub5</th>\n",
       "    </tr>\n",
       "  </thead>\n",
       "  <tbody>\n",
       "    <tr>\n",
       "      <th>0</th>\n",
       "      <td>HCP100206</td>\n",
       "      <td>0.270</td>\n",
       "      <td>-0.228</td>\n",
       "      <td>0.322</td>\n",
       "      <td>0.151</td>\n",
       "      <td>-0.170</td>\n",
       "      <td>0.153</td>\n",
       "      <td>-0.231</td>\n",
       "      <td>-0.173</td>\n",
       "      <td>0.117</td>\n",
       "      <td>0.244</td>\n",
       "    </tr>\n",
       "    <tr>\n",
       "      <th>1</th>\n",
       "      <td>HCP100307</td>\n",
       "      <td>-0.247</td>\n",
       "      <td>0.120</td>\n",
       "      <td>-0.360</td>\n",
       "      <td>-0.060</td>\n",
       "      <td>0.285</td>\n",
       "      <td>-0.406</td>\n",
       "      <td>0.274</td>\n",
       "      <td>-0.166</td>\n",
       "      <td>0.163</td>\n",
       "      <td>-0.016</td>\n",
       "    </tr>\n",
       "    <tr>\n",
       "      <th>2</th>\n",
       "      <td>HCP100408</td>\n",
       "      <td>0.087</td>\n",
       "      <td>0.036</td>\n",
       "      <td>0.239</td>\n",
       "      <td>0.070</td>\n",
       "      <td>-0.315</td>\n",
       "      <td>0.286</td>\n",
       "      <td>-0.165</td>\n",
       "      <td>0.330</td>\n",
       "      <td>-0.202</td>\n",
       "      <td>-0.140</td>\n",
       "    </tr>\n",
       "    <tr>\n",
       "      <th>3</th>\n",
       "      <td>HCP100610</td>\n",
       "      <td>-0.276</td>\n",
       "      <td>0.157</td>\n",
       "      <td>-0.367</td>\n",
       "      <td>-0.062</td>\n",
       "      <td>0.260</td>\n",
       "      <td>-0.329</td>\n",
       "      <td>0.281</td>\n",
       "      <td>-0.025</td>\n",
       "      <td>0.012</td>\n",
       "      <td>-0.085</td>\n",
       "    </tr>\n",
       "    <tr>\n",
       "      <th>4</th>\n",
       "      <td>HCP101006</td>\n",
       "      <td>-0.056</td>\n",
       "      <td>-0.124</td>\n",
       "      <td>-0.110</td>\n",
       "      <td>0.127</td>\n",
       "      <td>0.223</td>\n",
       "      <td>-0.292</td>\n",
       "      <td>0.152</td>\n",
       "      <td>-0.289</td>\n",
       "      <td>0.015</td>\n",
       "      <td>0.315</td>\n",
       "    </tr>\n",
       "  </tbody>\n",
       "</table>\n",
       "</div>"
      ],
      "text/plain": [
       "     Subject  story_sub1  story_sub2  story_sub3  story_sub4  story_sub5  \\\n",
       "0  HCP100206       0.270      -0.228       0.322       0.151      -0.170   \n",
       "1  HCP100307      -0.247       0.120      -0.360      -0.060       0.285   \n",
       "2  HCP100408       0.087       0.036       0.239       0.070      -0.315   \n",
       "3  HCP100610      -0.276       0.157      -0.367      -0.062       0.260   \n",
       "4  HCP101006      -0.056      -0.124      -0.110       0.127       0.223   \n",
       "\n",
       "   math_sub1  math_sub2  math_sub3  math_sub4  math_sub5  \n",
       "0      0.153     -0.231     -0.173      0.117      0.244  \n",
       "1     -0.406      0.274     -0.166      0.163     -0.016  \n",
       "2      0.286     -0.165      0.330     -0.202     -0.140  \n",
       "3     -0.329      0.281     -0.025      0.012     -0.085  \n",
       "4     -0.292      0.152     -0.289      0.015      0.315  "
      ]
     },
     "execution_count": 16,
     "metadata": {},
     "output_type": "execute_result"
    }
   ],
   "source": [
    "dataframe.head()"
   ]
  },
  {
   "cell_type": "code",
   "execution_count": 17,
   "metadata": {
    "collapsed": false,
    "scrolled": true
   },
   "outputs": [
    {
     "data": {
      "text/plain": [
       "count           803\n",
       "unique          803\n",
       "top       HCP133827\n",
       "freq              1\n",
       "Name: Subject, dtype: object"
      ]
     },
     "execution_count": 17,
     "metadata": {},
     "output_type": "execute_result"
    }
   ],
   "source": [
    "dataframe.Subject.describe()"
   ]
  },
  {
   "cell_type": "code",
   "execution_count": 18,
   "metadata": {
    "collapsed": false
   },
   "outputs": [],
   "source": [
    "# Load pheno file\n",
    "file_weight = dataframe\n",
    "file_pheno = pd.read_csv(pheno_path)"
   ]
  },
  {
   "cell_type": "code",
   "execution_count": 19,
   "metadata": {
    "collapsed": false
   },
   "outputs": [
    {
     "data": {
      "text/html": [
       "<div>\n",
       "<table border=\"1\" class=\"dataframe\">\n",
       "  <thead>\n",
       "    <tr style=\"text-align: right;\">\n",
       "      <th></th>\n",
       "      <th>Subject</th>\n",
       "      <th>Age_in_Yrs</th>\n",
       "      <th>Twin_Stat</th>\n",
       "      <th>Zygosity</th>\n",
       "      <th>Mother_ID</th>\n",
       "      <th>Father_ID</th>\n",
       "      <th>Handedness</th>\n",
       "      <th>BMI</th>\n",
       "      <th>Gender</th>\n",
       "      <th>ReadEng_Unadj</th>\n",
       "      <th>PicVocab_Unadj</th>\n",
       "      <th>ListSort_Unadj</th>\n",
       "      <th>FD_scrubbed_mean</th>\n",
       "      <th>FD_mean</th>\n",
       "    </tr>\n",
       "  </thead>\n",
       "  <tbody>\n",
       "    <tr>\n",
       "      <th>0</th>\n",
       "      <td>HCP100206</td>\n",
       "      <td>27</td>\n",
       "      <td>NotTwin</td>\n",
       "      <td>NotTwin</td>\n",
       "      <td>56037</td>\n",
       "      <td>85858.0</td>\n",
       "      <td>65</td>\n",
       "      <td>26.64</td>\n",
       "      <td>M</td>\n",
       "      <td>113.5460</td>\n",
       "      <td>119.89140</td>\n",
       "      <td>112.89</td>\n",
       "      <td>0.094210</td>\n",
       "      <td>0.094210</td>\n",
       "    </tr>\n",
       "    <tr>\n",
       "      <th>1</th>\n",
       "      <td>HCP100307</td>\n",
       "      <td>27</td>\n",
       "      <td>Twin</td>\n",
       "      <td>NotMZ</td>\n",
       "      <td>51488</td>\n",
       "      <td>81352.0</td>\n",
       "      <td>95</td>\n",
       "      <td>22.96</td>\n",
       "      <td>F</td>\n",
       "      <td>111.0700</td>\n",
       "      <td>107.20000</td>\n",
       "      <td>108.06</td>\n",
       "      <td>0.110650</td>\n",
       "      <td>0.110650</td>\n",
       "    </tr>\n",
       "    <tr>\n",
       "      <th>2</th>\n",
       "      <td>HCP100408</td>\n",
       "      <td>33</td>\n",
       "      <td>Twin</td>\n",
       "      <td>MZ</td>\n",
       "      <td>51730</td>\n",
       "      <td>81594.0</td>\n",
       "      <td>55</td>\n",
       "      <td>27.75</td>\n",
       "      <td>M</td>\n",
       "      <td>131.8100</td>\n",
       "      <td>134.24000</td>\n",
       "      <td>108.06</td>\n",
       "      <td>0.134142</td>\n",
       "      <td>0.134142</td>\n",
       "    </tr>\n",
       "    <tr>\n",
       "      <th>3</th>\n",
       "      <td>HCP100610</td>\n",
       "      <td>27</td>\n",
       "      <td>Twin</td>\n",
       "      <td>NotMZ</td>\n",
       "      <td>52813</td>\n",
       "      <td>82634.0</td>\n",
       "      <td>85</td>\n",
       "      <td>36.91</td>\n",
       "      <td>M</td>\n",
       "      <td>141.3166</td>\n",
       "      <td>140.81510</td>\n",
       "      <td>117.39</td>\n",
       "      <td>0.184238</td>\n",
       "      <td>0.184238</td>\n",
       "    </tr>\n",
       "    <tr>\n",
       "      <th>4</th>\n",
       "      <td>HCP101006</td>\n",
       "      <td>35</td>\n",
       "      <td>Twin</td>\n",
       "      <td>MZ</td>\n",
       "      <td>51283</td>\n",
       "      <td>81149.0</td>\n",
       "      <td>90</td>\n",
       "      <td>30.27</td>\n",
       "      <td>F</td>\n",
       "      <td>113.5374</td>\n",
       "      <td>95.42348</td>\n",
       "      <td>93.90</td>\n",
       "      <td>0.144401</td>\n",
       "      <td>0.144401</td>\n",
       "    </tr>\n",
       "  </tbody>\n",
       "</table>\n",
       "</div>"
      ],
      "text/plain": [
       "     Subject  Age_in_Yrs Twin_Stat Zygosity  Mother_ID  Father_ID  Handedness  \\\n",
       "0  HCP100206          27   NotTwin  NotTwin      56037    85858.0          65   \n",
       "1  HCP100307          27      Twin    NotMZ      51488    81352.0          95   \n",
       "2  HCP100408          33      Twin       MZ      51730    81594.0          55   \n",
       "3  HCP100610          27      Twin    NotMZ      52813    82634.0          85   \n",
       "4  HCP101006          35      Twin       MZ      51283    81149.0          90   \n",
       "\n",
       "     BMI Gender  ReadEng_Unadj  PicVocab_Unadj  ListSort_Unadj  \\\n",
       "0  26.64      M       113.5460       119.89140          112.89   \n",
       "1  22.96      F       111.0700       107.20000          108.06   \n",
       "2  27.75      M       131.8100       134.24000          108.06   \n",
       "3  36.91      M       141.3166       140.81510          117.39   \n",
       "4  30.27      F       113.5374        95.42348           93.90   \n",
       "\n",
       "   FD_scrubbed_mean   FD_mean  \n",
       "0          0.094210  0.094210  \n",
       "1          0.110650  0.110650  \n",
       "2          0.134142  0.134142  \n",
       "3          0.184238  0.184238  \n",
       "4          0.144401  0.144401  "
      ]
     },
     "execution_count": 19,
     "metadata": {},
     "output_type": "execute_result"
    }
   ],
   "source": [
    "file_pheno.head()"
   ]
  },
  {
   "cell_type": "code",
   "execution_count": 20,
   "metadata": {
    "collapsed": false
   },
   "outputs": [
    {
     "data": {
      "text/plain": [
       "count           803\n",
       "unique          803\n",
       "top       HCP133827\n",
       "freq              1\n",
       "Name: Subject, dtype: object"
      ]
     },
     "execution_count": 20,
     "metadata": {},
     "output_type": "execute_result"
    }
   ],
   "source": [
    "file_pheno.Subject.describe()"
   ]
  },
  {
   "cell_type": "code",
   "execution_count": 21,
   "metadata": {
    "collapsed": false,
    "scrolled": true
   },
   "outputs": [
    {
     "data": {
      "text/html": [
       "<div>\n",
       "<table border=\"1\" class=\"dataframe\">\n",
       "  <thead>\n",
       "    <tr style=\"text-align: right;\">\n",
       "      <th></th>\n",
       "      <th>Subject</th>\n",
       "      <th>Age_in_Yrs</th>\n",
       "      <th>Handedness</th>\n",
       "      <th>Gender</th>\n",
       "      <th>BMI</th>\n",
       "      <th>FD_mean</th>\n",
       "      <th>FD_scrubbed_mean</th>\n",
       "    </tr>\n",
       "  </thead>\n",
       "  <tbody>\n",
       "    <tr>\n",
       "      <th>0</th>\n",
       "      <td>HCP100206</td>\n",
       "      <td>27</td>\n",
       "      <td>65</td>\n",
       "      <td>M</td>\n",
       "      <td>26.64</td>\n",
       "      <td>0.094210</td>\n",
       "      <td>0.094210</td>\n",
       "    </tr>\n",
       "    <tr>\n",
       "      <th>1</th>\n",
       "      <td>HCP100307</td>\n",
       "      <td>27</td>\n",
       "      <td>95</td>\n",
       "      <td>F</td>\n",
       "      <td>22.96</td>\n",
       "      <td>0.110650</td>\n",
       "      <td>0.110650</td>\n",
       "    </tr>\n",
       "    <tr>\n",
       "      <th>2</th>\n",
       "      <td>HCP100408</td>\n",
       "      <td>33</td>\n",
       "      <td>55</td>\n",
       "      <td>M</td>\n",
       "      <td>27.75</td>\n",
       "      <td>0.134142</td>\n",
       "      <td>0.134142</td>\n",
       "    </tr>\n",
       "    <tr>\n",
       "      <th>3</th>\n",
       "      <td>HCP100610</td>\n",
       "      <td>27</td>\n",
       "      <td>85</td>\n",
       "      <td>M</td>\n",
       "      <td>36.91</td>\n",
       "      <td>0.184238</td>\n",
       "      <td>0.184238</td>\n",
       "    </tr>\n",
       "    <tr>\n",
       "      <th>4</th>\n",
       "      <td>HCP101006</td>\n",
       "      <td>35</td>\n",
       "      <td>90</td>\n",
       "      <td>F</td>\n",
       "      <td>30.27</td>\n",
       "      <td>0.144401</td>\n",
       "      <td>0.144401</td>\n",
       "    </tr>\n",
       "  </tbody>\n",
       "</table>\n",
       "</div>"
      ],
      "text/plain": [
       "     Subject  Age_in_Yrs  Handedness Gender    BMI   FD_mean  FD_scrubbed_mean\n",
       "0  HCP100206          27          65      M  26.64  0.094210          0.094210\n",
       "1  HCP100307          27          95      F  22.96  0.110650          0.110650\n",
       "2  HCP100408          33          55      M  27.75  0.134142          0.134142\n",
       "3  HCP100610          27          85      M  36.91  0.184238          0.184238\n",
       "4  HCP101006          35          90      F  30.27  0.144401          0.144401"
      ]
     },
     "execution_count": 21,
     "metadata": {},
     "output_type": "execute_result"
    }
   ],
   "source": [
    "# Select a subset of variable\n",
    "file_pheno_subset = file_pheno[[\"Subject\",\"Age_in_Yrs\",\"Handedness\",\"Gender\",\"BMI\",\"FD_mean\",\"FD_scrubbed_mean\"]]\n",
    "file_pheno_subset.head()"
   ]
  },
  {
   "cell_type": "code",
   "execution_count": 22,
   "metadata": {
    "collapsed": false
   },
   "outputs": [
    {
     "name": "stderr",
     "output_type": "stream",
     "text": [
      "/usr/local/lib/python3.4/dist-packages/pandas/core/generic.py:3554: SettingWithCopyWarning: \n",
      "A value is trying to be set on a copy of a slice from a DataFrame\n",
      "\n",
      "See the caveats in the documentation: http://pandas.pydata.org/pandas-docs/stable/indexing.html#indexing-view-versus-copy\n",
      "  self._update_inplace(new_data)\n"
     ]
    },
    {
     "data": {
      "text/html": [
       "<div>\n",
       "<table border=\"1\" class=\"dataframe\">\n",
       "  <thead>\n",
       "    <tr style=\"text-align: right;\">\n",
       "      <th></th>\n",
       "      <th>Subject</th>\n",
       "      <th>Age_in_Yrs</th>\n",
       "      <th>Handedness</th>\n",
       "      <th>Gender</th>\n",
       "      <th>BMI</th>\n",
       "      <th>FD_mean</th>\n",
       "      <th>FD_scrubbed_mean</th>\n",
       "    </tr>\n",
       "  </thead>\n",
       "  <tbody>\n",
       "    <tr>\n",
       "      <th>0</th>\n",
       "      <td>HCP100206</td>\n",
       "      <td>27</td>\n",
       "      <td>65</td>\n",
       "      <td>1</td>\n",
       "      <td>26.64</td>\n",
       "      <td>0.094210</td>\n",
       "      <td>0.094210</td>\n",
       "    </tr>\n",
       "    <tr>\n",
       "      <th>1</th>\n",
       "      <td>HCP100307</td>\n",
       "      <td>27</td>\n",
       "      <td>95</td>\n",
       "      <td>2</td>\n",
       "      <td>22.96</td>\n",
       "      <td>0.110650</td>\n",
       "      <td>0.110650</td>\n",
       "    </tr>\n",
       "    <tr>\n",
       "      <th>2</th>\n",
       "      <td>HCP100408</td>\n",
       "      <td>33</td>\n",
       "      <td>55</td>\n",
       "      <td>1</td>\n",
       "      <td>27.75</td>\n",
       "      <td>0.134142</td>\n",
       "      <td>0.134142</td>\n",
       "    </tr>\n",
       "    <tr>\n",
       "      <th>3</th>\n",
       "      <td>HCP100610</td>\n",
       "      <td>27</td>\n",
       "      <td>85</td>\n",
       "      <td>1</td>\n",
       "      <td>36.91</td>\n",
       "      <td>0.184238</td>\n",
       "      <td>0.184238</td>\n",
       "    </tr>\n",
       "    <tr>\n",
       "      <th>4</th>\n",
       "      <td>HCP101006</td>\n",
       "      <td>35</td>\n",
       "      <td>90</td>\n",
       "      <td>2</td>\n",
       "      <td>30.27</td>\n",
       "      <td>0.144401</td>\n",
       "      <td>0.144401</td>\n",
       "    </tr>\n",
       "  </tbody>\n",
       "</table>\n",
       "</div>"
      ],
      "text/plain": [
       "     Subject  Age_in_Yrs  Handedness  Gender    BMI   FD_mean  \\\n",
       "0  HCP100206          27          65       1  26.64  0.094210   \n",
       "1  HCP100307          27          95       2  22.96  0.110650   \n",
       "2  HCP100408          33          55       1  27.75  0.134142   \n",
       "3  HCP100610          27          85       1  36.91  0.184238   \n",
       "4  HCP101006          35          90       2  30.27  0.144401   \n",
       "\n",
       "   FD_scrubbed_mean  \n",
       "0          0.094210  \n",
       "1          0.110650  \n",
       "2          0.134142  \n",
       "3          0.184238  \n",
       "4          0.144401  "
      ]
     },
     "execution_count": 22,
     "metadata": {},
     "output_type": "execute_result"
    }
   ],
   "source": [
    "# Replace gender M=1 and F=2\n",
    "file_pheno_subset.Gender.replace({'M':1,'F':2}, inplace=True)\n",
    "file_pheno_subset.head()"
   ]
  },
  {
   "cell_type": "code",
   "execution_count": 23,
   "metadata": {
    "collapsed": false
   },
   "outputs": [
    {
     "data": {
      "text/html": [
       "<div>\n",
       "<table border=\"1\" class=\"dataframe\">\n",
       "  <thead>\n",
       "    <tr style=\"text-align: right;\">\n",
       "      <th></th>\n",
       "      <th>Subject</th>\n",
       "    </tr>\n",
       "  </thead>\n",
       "  <tbody>\n",
       "    <tr>\n",
       "      <th>count</th>\n",
       "      <td>803</td>\n",
       "    </tr>\n",
       "    <tr>\n",
       "      <th>unique</th>\n",
       "      <td>803</td>\n",
       "    </tr>\n",
       "    <tr>\n",
       "      <th>top</th>\n",
       "      <td>HCP133827</td>\n",
       "    </tr>\n",
       "    <tr>\n",
       "      <th>freq</th>\n",
       "      <td>1</td>\n",
       "    </tr>\n",
       "  </tbody>\n",
       "</table>\n",
       "</div>"
      ],
      "text/plain": [
       "          Subject\n",
       "count         803\n",
       "unique        803\n",
       "top     HCP133827\n",
       "freq            1"
      ]
     },
     "execution_count": 23,
     "metadata": {},
     "output_type": "execute_result"
    }
   ],
   "source": [
    "file_pheno_subset[[\"Subject\"]].describe()"
   ]
  },
  {
   "cell_type": "code",
   "execution_count": 24,
   "metadata": {
    "collapsed": false
   },
   "outputs": [
    {
     "data": {
      "text/html": [
       "<div>\n",
       "<table border=\"1\" class=\"dataframe\">\n",
       "  <thead>\n",
       "    <tr style=\"text-align: right;\">\n",
       "      <th></th>\n",
       "      <th>Subject</th>\n",
       "    </tr>\n",
       "  </thead>\n",
       "  <tbody>\n",
       "    <tr>\n",
       "      <th>count</th>\n",
       "      <td>803</td>\n",
       "    </tr>\n",
       "    <tr>\n",
       "      <th>unique</th>\n",
       "      <td>803</td>\n",
       "    </tr>\n",
       "    <tr>\n",
       "      <th>top</th>\n",
       "      <td>HCP133827</td>\n",
       "    </tr>\n",
       "    <tr>\n",
       "      <th>freq</th>\n",
       "      <td>1</td>\n",
       "    </tr>\n",
       "  </tbody>\n",
       "</table>\n",
       "</div>"
      ],
      "text/plain": [
       "          Subject\n",
       "count         803\n",
       "unique        803\n",
       "top     HCP133827\n",
       "freq            1"
      ]
     },
     "execution_count": 24,
     "metadata": {},
     "output_type": "execute_result"
    }
   ],
   "source": [
    "file_weight[[\"Subject\"]].describe()"
   ]
  },
  {
   "cell_type": "code",
   "execution_count": 25,
   "metadata": {
    "collapsed": false
   },
   "outputs": [
    {
     "data": {
      "text/html": [
       "<div>\n",
       "<table border=\"1\" class=\"dataframe\">\n",
       "  <thead>\n",
       "    <tr style=\"text-align: right;\">\n",
       "      <th></th>\n",
       "      <th>ID</th>\n",
       "      <th>story_sub1</th>\n",
       "      <th>story_sub2</th>\n",
       "      <th>story_sub3</th>\n",
       "      <th>story_sub4</th>\n",
       "      <th>story_sub5</th>\n",
       "      <th>math_sub1</th>\n",
       "      <th>math_sub2</th>\n",
       "      <th>math_sub3</th>\n",
       "      <th>math_sub4</th>\n",
       "      <th>math_sub5</th>\n",
       "      <th>Age_in_Yrs</th>\n",
       "      <th>Handedness</th>\n",
       "      <th>Gender</th>\n",
       "      <th>BMI</th>\n",
       "      <th>FD_mean</th>\n",
       "      <th>FD_scrubbed_mean</th>\n",
       "    </tr>\n",
       "  </thead>\n",
       "  <tbody>\n",
       "    <tr>\n",
       "      <th>0</th>\n",
       "      <td>HCP100206</td>\n",
       "      <td>0.270</td>\n",
       "      <td>-0.228</td>\n",
       "      <td>0.322</td>\n",
       "      <td>0.151</td>\n",
       "      <td>-0.170</td>\n",
       "      <td>0.153</td>\n",
       "      <td>-0.231</td>\n",
       "      <td>-0.173</td>\n",
       "      <td>0.117</td>\n",
       "      <td>0.244</td>\n",
       "      <td>27</td>\n",
       "      <td>65</td>\n",
       "      <td>1</td>\n",
       "      <td>26.64</td>\n",
       "      <td>0.094210</td>\n",
       "      <td>0.094210</td>\n",
       "    </tr>\n",
       "    <tr>\n",
       "      <th>1</th>\n",
       "      <td>HCP100307</td>\n",
       "      <td>-0.247</td>\n",
       "      <td>0.120</td>\n",
       "      <td>-0.360</td>\n",
       "      <td>-0.060</td>\n",
       "      <td>0.285</td>\n",
       "      <td>-0.406</td>\n",
       "      <td>0.274</td>\n",
       "      <td>-0.166</td>\n",
       "      <td>0.163</td>\n",
       "      <td>-0.016</td>\n",
       "      <td>27</td>\n",
       "      <td>95</td>\n",
       "      <td>2</td>\n",
       "      <td>22.96</td>\n",
       "      <td>0.110650</td>\n",
       "      <td>0.110650</td>\n",
       "    </tr>\n",
       "    <tr>\n",
       "      <th>2</th>\n",
       "      <td>HCP100408</td>\n",
       "      <td>0.087</td>\n",
       "      <td>0.036</td>\n",
       "      <td>0.239</td>\n",
       "      <td>0.070</td>\n",
       "      <td>-0.315</td>\n",
       "      <td>0.286</td>\n",
       "      <td>-0.165</td>\n",
       "      <td>0.330</td>\n",
       "      <td>-0.202</td>\n",
       "      <td>-0.140</td>\n",
       "      <td>33</td>\n",
       "      <td>55</td>\n",
       "      <td>1</td>\n",
       "      <td>27.75</td>\n",
       "      <td>0.134142</td>\n",
       "      <td>0.134142</td>\n",
       "    </tr>\n",
       "    <tr>\n",
       "      <th>3</th>\n",
       "      <td>HCP100610</td>\n",
       "      <td>-0.276</td>\n",
       "      <td>0.157</td>\n",
       "      <td>-0.367</td>\n",
       "      <td>-0.062</td>\n",
       "      <td>0.260</td>\n",
       "      <td>-0.329</td>\n",
       "      <td>0.281</td>\n",
       "      <td>-0.025</td>\n",
       "      <td>0.012</td>\n",
       "      <td>-0.085</td>\n",
       "      <td>27</td>\n",
       "      <td>85</td>\n",
       "      <td>1</td>\n",
       "      <td>36.91</td>\n",
       "      <td>0.184238</td>\n",
       "      <td>0.184238</td>\n",
       "    </tr>\n",
       "    <tr>\n",
       "      <th>4</th>\n",
       "      <td>HCP101006</td>\n",
       "      <td>-0.056</td>\n",
       "      <td>-0.124</td>\n",
       "      <td>-0.110</td>\n",
       "      <td>0.127</td>\n",
       "      <td>0.223</td>\n",
       "      <td>-0.292</td>\n",
       "      <td>0.152</td>\n",
       "      <td>-0.289</td>\n",
       "      <td>0.015</td>\n",
       "      <td>0.315</td>\n",
       "      <td>35</td>\n",
       "      <td>90</td>\n",
       "      <td>2</td>\n",
       "      <td>30.27</td>\n",
       "      <td>0.144401</td>\n",
       "      <td>0.144401</td>\n",
       "    </tr>\n",
       "  </tbody>\n",
       "</table>\n",
       "</div>"
      ],
      "text/plain": [
       "          ID  story_sub1  story_sub2  story_sub3  story_sub4  story_sub5  \\\n",
       "0  HCP100206       0.270      -0.228       0.322       0.151      -0.170   \n",
       "1  HCP100307      -0.247       0.120      -0.360      -0.060       0.285   \n",
       "2  HCP100408       0.087       0.036       0.239       0.070      -0.315   \n",
       "3  HCP100610      -0.276       0.157      -0.367      -0.062       0.260   \n",
       "4  HCP101006      -0.056      -0.124      -0.110       0.127       0.223   \n",
       "\n",
       "   math_sub1  math_sub2  math_sub3  math_sub4  math_sub5  Age_in_Yrs  \\\n",
       "0      0.153     -0.231     -0.173      0.117      0.244          27   \n",
       "1     -0.406      0.274     -0.166      0.163     -0.016          27   \n",
       "2      0.286     -0.165      0.330     -0.202     -0.140          33   \n",
       "3     -0.329      0.281     -0.025      0.012     -0.085          27   \n",
       "4     -0.292      0.152     -0.289      0.015      0.315          35   \n",
       "\n",
       "   Handedness  Gender    BMI   FD_mean  FD_scrubbed_mean  \n",
       "0          65       1  26.64  0.094210          0.094210  \n",
       "1          95       2  22.96  0.110650          0.110650  \n",
       "2          55       1  27.75  0.134142          0.134142  \n",
       "3          85       1  36.91  0.184238          0.184238  \n",
       "4          90       2  30.27  0.144401          0.144401  "
      ]
     },
     "execution_count": 25,
     "metadata": {},
     "output_type": "execute_result"
    }
   ],
   "source": [
    "# Merge weight with subset of pheno variables\n",
    "merged_weight_pheno = pd.merge(file_weight, file_pheno_subset, on='Subject', how='left')\n",
    "# Replace 'Subject' by 'ID'\n",
    "merged_weight_pheno.rename(columns={'Subject':'ID'},inplace=True)\n",
    "merged_weight_pheno.head()"
   ]
  },
  {
   "cell_type": "code",
   "execution_count": 26,
   "metadata": {
    "collapsed": false
   },
   "outputs": [
    {
     "data": {
      "text/plain": [
       "count           803\n",
       "unique          803\n",
       "top       HCP133827\n",
       "freq              1\n",
       "Name: ID, dtype: object"
      ]
     },
     "execution_count": 26,
     "metadata": {},
     "output_type": "execute_result"
    }
   ],
   "source": [
    "merged_weight_pheno.ID.describe()"
   ]
  },
  {
   "cell_type": "code",
   "execution_count": 27,
   "metadata": {
    "collapsed": false
   },
   "outputs": [
    {
     "data": {
      "text/plain": [
       "1"
      ]
     },
     "execution_count": 27,
     "metadata": {},
     "output_type": "execute_result"
    }
   ],
   "source": [
    "# Check if there is empty value in BMI\n",
    "sum(merged_weight_pheno.BMI.isnull())"
   ]
  },
  {
   "cell_type": "code",
   "execution_count": 28,
   "metadata": {
    "collapsed": false
   },
   "outputs": [],
   "source": [
    "# Save the merged file\n",
    "merged_weight_pheno.to_csv(os.path.join(out_path,pheno_save), index=False)"
   ]
  },
  {
   "cell_type": "markdown",
   "metadata": {},
   "source": [
    "## Build trait file"
   ]
  },
  {
   "cell_type": "code",
   "execution_count": 29,
   "metadata": {
    "collapsed": false
   },
   "outputs": [
    {
     "data": {
      "text/plain": [
       "['story_sub1',\n",
       " 'story_sub2',\n",
       " 'story_sub3',\n",
       " 'story_sub4',\n",
       " 'story_sub5',\n",
       " 'math_sub1',\n",
       " 'math_sub2',\n",
       " 'math_sub3',\n",
       " 'math_sub4',\n",
       " 'math_sub5',\n",
       " 'Handedness',\n",
       " 'BMI',\n",
       " 'FD_mean',\n",
       " 'FD_scrubbed_mean']"
      ]
     },
     "execution_count": 29,
     "metadata": {},
     "output_type": "execute_result"
    }
   ],
   "source": [
    "## build trait file\n",
    "# Remove not neaded traits\n",
    "list_trait = merged_weight_pheno.columns.tolist()\n",
    "new_list = [trait for trait in list_trait if trait not in ['ID','Age_in_Yrs','Gender']]\n",
    "new_list"
   ]
  },
  {
   "cell_type": "code",
   "execution_count": 30,
   "metadata": {
    "collapsed": false
   },
   "outputs": [],
   "source": [
    "# Save trait file\n",
    "file_out = open(os.path.join(out_path,\"trait_file\"), 'w')\n",
    "for item in new_list:\n",
    "    file_out.write(\"%s\\n\" % item)\n",
    "file_out.close()"
   ]
  },
  {
   "cell_type": "markdown",
   "metadata": {
    "collapsed": false
   },
   "source": [
    "## Build Pedigree file"
   ]
  },
  {
   "cell_type": "code",
   "execution_count": 31,
   "metadata": {
    "collapsed": false
   },
   "outputs": [
    {
     "data": {
      "text/html": [
       "<div>\n",
       "<table border=\"1\" class=\"dataframe\">\n",
       "  <thead>\n",
       "    <tr style=\"text-align: right;\">\n",
       "      <th></th>\n",
       "      <th>Subject</th>\n",
       "      <th>Twin_Stat</th>\n",
       "      <th>Zygosity</th>\n",
       "      <th>Mother_ID</th>\n",
       "      <th>Gender</th>\n",
       "    </tr>\n",
       "  </thead>\n",
       "  <tbody>\n",
       "    <tr>\n",
       "      <th>0</th>\n",
       "      <td>HCP100206</td>\n",
       "      <td>NotTwin</td>\n",
       "      <td>NotTwin</td>\n",
       "      <td>56037</td>\n",
       "      <td>M</td>\n",
       "    </tr>\n",
       "    <tr>\n",
       "      <th>1</th>\n",
       "      <td>HCP100307</td>\n",
       "      <td>Twin</td>\n",
       "      <td>NotMZ</td>\n",
       "      <td>51488</td>\n",
       "      <td>F</td>\n",
       "    </tr>\n",
       "    <tr>\n",
       "      <th>2</th>\n",
       "      <td>HCP100408</td>\n",
       "      <td>Twin</td>\n",
       "      <td>MZ</td>\n",
       "      <td>51730</td>\n",
       "      <td>M</td>\n",
       "    </tr>\n",
       "    <tr>\n",
       "      <th>3</th>\n",
       "      <td>HCP100610</td>\n",
       "      <td>Twin</td>\n",
       "      <td>NotMZ</td>\n",
       "      <td>52813</td>\n",
       "      <td>M</td>\n",
       "    </tr>\n",
       "    <tr>\n",
       "      <th>4</th>\n",
       "      <td>HCP101006</td>\n",
       "      <td>Twin</td>\n",
       "      <td>MZ</td>\n",
       "      <td>51283</td>\n",
       "      <td>F</td>\n",
       "    </tr>\n",
       "  </tbody>\n",
       "</table>\n",
       "</div>"
      ],
      "text/plain": [
       "     Subject Twin_Stat Zygosity  Mother_ID Gender\n",
       "0  HCP100206   NotTwin  NotTwin      56037      M\n",
       "1  HCP100307      Twin    NotMZ      51488      F\n",
       "2  HCP100408      Twin       MZ      51730      M\n",
       "3  HCP100610      Twin    NotMZ      52813      M\n",
       "4  HCP101006      Twin       MZ      51283      F"
      ]
     },
     "execution_count": 31,
     "metadata": {},
     "output_type": "execute_result"
    }
   ],
   "source": [
    "# Select a subset of variable from pheno file\n",
    "file_pheno_pedig = file_pheno[[\"Subject\",\"Twin_Stat\",\"Zygosity\",\"Mother_ID\",\"Gender\"]]\n",
    "file_pheno_pedig.head()"
   ]
  },
  {
   "cell_type": "code",
   "execution_count": 32,
   "metadata": {
    "collapsed": false
   },
   "outputs": [
    {
     "data": {
      "text/plain": [
       "count           803\n",
       "unique          803\n",
       "top       HCP133827\n",
       "freq              1\n",
       "Name: Subject, dtype: object"
      ]
     },
     "execution_count": 32,
     "metadata": {},
     "output_type": "execute_result"
    }
   ],
   "source": [
    "file_pheno_pedig.Subject.describe()"
   ]
  },
  {
   "cell_type": "code",
   "execution_count": 33,
   "metadata": {
    "collapsed": false
   },
   "outputs": [],
   "source": [
    "# Build pedigre : ID , mo, fo, hhID, mztwins,sex\n",
    "mother_id = [\"mo_{}\".format(row.Mother_ID) for ind, row in file_pheno_pedig.iterrows()]\n",
    "father_id = [\"fa_{}\".format(row.Mother_ID) for ind, row in file_pheno_pedig.iterrows()]\n",
    "household_id = [\"hh_{}\".format(row.Mother_ID) for ind, row in file_pheno_pedig.iterrows()]\n",
    "twin_id = [\"pair_{}\".format(row.Mother_ID) if row.Zygosity == \"MZ\" else \"\" for ind, row in file_pheno_pedig.iterrows()]"
   ]
  },
  {
   "cell_type": "code",
   "execution_count": 34,
   "metadata": {
    "collapsed": false
   },
   "outputs": [
    {
     "name": "stdout",
     "output_type": "stream",
     "text": [
      "head\n"
     ]
    },
    {
     "data": {
      "text/html": [
       "<div>\n",
       "<table border=\"1\" class=\"dataframe\">\n",
       "  <thead>\n",
       "    <tr style=\"text-align: right;\">\n",
       "      <th></th>\n",
       "      <th>ID</th>\n",
       "      <th>fa</th>\n",
       "      <th>mo</th>\n",
       "      <th>sex</th>\n",
       "      <th>mztwin</th>\n",
       "      <th>hhID</th>\n",
       "    </tr>\n",
       "  </thead>\n",
       "  <tbody>\n",
       "    <tr>\n",
       "      <th>0</th>\n",
       "      <td>HCP100206</td>\n",
       "      <td>fa_56037</td>\n",
       "      <td>mo_56037</td>\n",
       "      <td>1</td>\n",
       "      <td></td>\n",
       "      <td>hh_56037</td>\n",
       "    </tr>\n",
       "    <tr>\n",
       "      <th>1</th>\n",
       "      <td>HCP100307</td>\n",
       "      <td>fa_51488</td>\n",
       "      <td>mo_51488</td>\n",
       "      <td>2</td>\n",
       "      <td></td>\n",
       "      <td>hh_51488</td>\n",
       "    </tr>\n",
       "    <tr>\n",
       "      <th>2</th>\n",
       "      <td>HCP100408</td>\n",
       "      <td>fa_51730</td>\n",
       "      <td>mo_51730</td>\n",
       "      <td>1</td>\n",
       "      <td>pair_51730</td>\n",
       "      <td>hh_51730</td>\n",
       "    </tr>\n",
       "    <tr>\n",
       "      <th>3</th>\n",
       "      <td>HCP100610</td>\n",
       "      <td>fa_52813</td>\n",
       "      <td>mo_52813</td>\n",
       "      <td>1</td>\n",
       "      <td></td>\n",
       "      <td>hh_52813</td>\n",
       "    </tr>\n",
       "    <tr>\n",
       "      <th>4</th>\n",
       "      <td>HCP101006</td>\n",
       "      <td>fa_51283</td>\n",
       "      <td>mo_51283</td>\n",
       "      <td>2</td>\n",
       "      <td>pair_51283</td>\n",
       "      <td>hh_51283</td>\n",
       "    </tr>\n",
       "  </tbody>\n",
       "</table>\n",
       "</div>"
      ],
      "text/plain": [
       "          ID        fa        mo  sex      mztwin      hhID\n",
       "0  HCP100206  fa_56037  mo_56037    1              hh_56037\n",
       "1  HCP100307  fa_51488  mo_51488    2              hh_51488\n",
       "2  HCP100408  fa_51730  mo_51730    1  pair_51730  hh_51730\n",
       "3  HCP100610  fa_52813  mo_52813    1              hh_52813\n",
       "4  HCP101006  fa_51283  mo_51283    2  pair_51283  hh_51283"
      ]
     },
     "metadata": {},
     "output_type": "display_data"
    },
    {
     "name": "stdout",
     "output_type": "stream",
     "text": [
      "tail\n"
     ]
    },
    {
     "data": {
      "text/html": [
       "<div>\n",
       "<table border=\"1\" class=\"dataframe\">\n",
       "  <thead>\n",
       "    <tr style=\"text-align: right;\">\n",
       "      <th></th>\n",
       "      <th>ID</th>\n",
       "      <th>fa</th>\n",
       "      <th>mo</th>\n",
       "      <th>sex</th>\n",
       "      <th>mztwin</th>\n",
       "      <th>hhID</th>\n",
       "    </tr>\n",
       "  </thead>\n",
       "  <tbody>\n",
       "    <tr>\n",
       "      <th>798</th>\n",
       "      <td>HCP992673</td>\n",
       "      <td>fa_56143</td>\n",
       "      <td>mo_56143</td>\n",
       "      <td>2</td>\n",
       "      <td></td>\n",
       "      <td>hh_56143</td>\n",
       "    </tr>\n",
       "    <tr>\n",
       "      <th>799</th>\n",
       "      <td>HCP992774</td>\n",
       "      <td>fa_51345</td>\n",
       "      <td>mo_51345</td>\n",
       "      <td>1</td>\n",
       "      <td></td>\n",
       "      <td>hh_51345</td>\n",
       "    </tr>\n",
       "    <tr>\n",
       "      <th>800</th>\n",
       "      <td>HCP993675</td>\n",
       "      <td>fa_55800</td>\n",
       "      <td>mo_55800</td>\n",
       "      <td>2</td>\n",
       "      <td></td>\n",
       "      <td>hh_55800</td>\n",
       "    </tr>\n",
       "    <tr>\n",
       "      <th>801</th>\n",
       "      <td>HCP994273</td>\n",
       "      <td>fa_52364</td>\n",
       "      <td>mo_52364</td>\n",
       "      <td>1</td>\n",
       "      <td></td>\n",
       "      <td>hh_52364</td>\n",
       "    </tr>\n",
       "    <tr>\n",
       "      <th>802</th>\n",
       "      <td>HCP996782</td>\n",
       "      <td>fa_51541</td>\n",
       "      <td>mo_51541</td>\n",
       "      <td>2</td>\n",
       "      <td></td>\n",
       "      <td>hh_51541</td>\n",
       "    </tr>\n",
       "  </tbody>\n",
       "</table>\n",
       "</div>"
      ],
      "text/plain": [
       "            ID        fa        mo  sex mztwin      hhID\n",
       "798  HCP992673  fa_56143  mo_56143    2         hh_56143\n",
       "799  HCP992774  fa_51345  mo_51345    1         hh_51345\n",
       "800  HCP993675  fa_55800  mo_55800    2         hh_55800\n",
       "801  HCP994273  fa_52364  mo_52364    1         hh_52364\n",
       "802  HCP996782  fa_51541  mo_51541    2         hh_51541"
      ]
     },
     "metadata": {},
     "output_type": "display_data"
    },
    {
     "data": {
      "text/plain": [
       "ID        803\n",
       "fa        803\n",
       "mo        803\n",
       "sex       803\n",
       "mztwin    803\n",
       "hhID      803\n",
       "dtype: int64"
      ]
     },
     "execution_count": 34,
     "metadata": {},
     "output_type": "execute_result"
    }
   ],
   "source": [
    "# write into new data frame\n",
    "df_pedig = pd.DataFrame()\n",
    "df_pedig[\"ID\"] = file_pheno_pedig.Subject\n",
    "df_pedig[\"fa\"] = father_id\n",
    "df_pedig[\"mo\"] = mother_id\n",
    "df_pedig[\"sex\"] = file_pheno_pedig.Gender.replace(to_replace={\"M\":1, \"F\":2})\n",
    "df_pedig[\"mztwin\"] = twin_id\n",
    "df_pedig[\"hhID\"] = household_id\n",
    "\n",
    "\n",
    "print(\"head\")\n",
    "display(df_pedig.head())\n",
    "print(\"tail\")\n",
    "display(df_pedig.tail())\n",
    "df_pedig.count()"
   ]
  },
  {
   "cell_type": "code",
   "execution_count": 35,
   "metadata": {
    "collapsed": false,
    "scrolled": false
   },
   "outputs": [],
   "source": [
    "# Look for MZ twins missing their co-twin\n",
    "uniques = list(df_pedig.mztwin.unique())\n",
    "uniques.pop(0)\n",
    "twin_counts = [np.sum(df_pedig.mztwin==twin) for twin in uniques]\n",
    "# for idx, twin in enumerate(uniques):\n",
    "#     print(\"{} occurs {} times\".format(twin, twin_counts[idx]))"
   ]
  },
  {
   "cell_type": "code",
   "execution_count": 36,
   "metadata": {
    "collapsed": true
   },
   "outputs": [],
   "source": [
    "# create a mask that will kepp only MZ twins missing their co-twin\n",
    "singles = [True if np.sum(df_pedig.mztwin==row.mztwin)==1 else False for ind, row in df_pedig.iterrows()]"
   ]
  },
  {
   "cell_type": "code",
   "execution_count": 37,
   "metadata": {
    "collapsed": true
   },
   "outputs": [],
   "source": [
    "# Make a copy of the pedigre to avoid missing up with the original data\n",
    "copy_df_pedig = df_pedig.copy()"
   ]
  },
  {
   "cell_type": "code",
   "execution_count": 38,
   "metadata": {
    "collapsed": false,
    "scrolled": true
   },
   "outputs": [
    {
     "data": {
      "text/html": [
       "<div>\n",
       "<table border=\"1\" class=\"dataframe\">\n",
       "  <thead>\n",
       "    <tr style=\"text-align: right;\">\n",
       "      <th></th>\n",
       "      <th>ID</th>\n",
       "      <th>fa</th>\n",
       "      <th>mo</th>\n",
       "      <th>sex</th>\n",
       "      <th>mztwin</th>\n",
       "      <th>hhID</th>\n",
       "    </tr>\n",
       "  </thead>\n",
       "  <tbody>\n",
       "    <tr>\n",
       "      <th>38</th>\n",
       "      <td>M_HCP110007</td>\n",
       "      <td>fa_54572</td>\n",
       "      <td>mo_54572</td>\n",
       "      <td>2</td>\n",
       "      <td>pair_54572</td>\n",
       "      <td>hh_54572</td>\n",
       "    </tr>\n",
       "    <tr>\n",
       "      <th>54</th>\n",
       "      <td>M_HCP114823</td>\n",
       "      <td>fa_52925</td>\n",
       "      <td>mo_52925</td>\n",
       "      <td>2</td>\n",
       "      <td>pair_52925</td>\n",
       "      <td>hh_52925</td>\n",
       "    </tr>\n",
       "    <tr>\n",
       "      <th>81</th>\n",
       "      <td>M_HCP122317</td>\n",
       "      <td>fa_51802</td>\n",
       "      <td>mo_51802</td>\n",
       "      <td>1</td>\n",
       "      <td>pair_51802</td>\n",
       "      <td>hh_51802</td>\n",
       "    </tr>\n",
       "    <tr>\n",
       "      <th>86</th>\n",
       "      <td>M_HCP123824</td>\n",
       "      <td>fa_56022</td>\n",
       "      <td>mo_56022</td>\n",
       "      <td>1</td>\n",
       "      <td>pair_56022</td>\n",
       "      <td>hh_56022</td>\n",
       "    </tr>\n",
       "    <tr>\n",
       "      <th>89</th>\n",
       "      <td>M_HCP124422</td>\n",
       "      <td>fa_51529</td>\n",
       "      <td>mo_51529</td>\n",
       "      <td>2</td>\n",
       "      <td>pair_51529</td>\n",
       "      <td>hh_51529</td>\n",
       "    </tr>\n",
       "  </tbody>\n",
       "</table>\n",
       "</div>"
      ],
      "text/plain": [
       "             ID        fa        mo  sex      mztwin      hhID\n",
       "38  M_HCP110007  fa_54572  mo_54572    2  pair_54572  hh_54572\n",
       "54  M_HCP114823  fa_52925  mo_52925    2  pair_52925  hh_52925\n",
       "81  M_HCP122317  fa_51802  mo_51802    1  pair_51802  hh_51802\n",
       "86  M_HCP123824  fa_56022  mo_56022    1  pair_56022  hh_56022\n",
       "89  M_HCP124422  fa_51529  mo_51529    2  pair_51529  hh_51529"
      ]
     },
     "metadata": {},
     "output_type": "display_data"
    },
    {
     "data": {
      "text/plain": [
       "ID        42\n",
       "fa        42\n",
       "mo        42\n",
       "sex       42\n",
       "mztwin    42\n",
       "hhID      42\n",
       "dtype: int64"
      ]
     },
     "execution_count": 38,
     "metadata": {},
     "output_type": "execute_result"
    }
   ],
   "source": [
    "# Select only MZ twins missing their co-twin\n",
    "df_single_pedig = copy_df_pedig[singles]\n",
    "\n",
    "# Add \"M_\" (for missing) to a the single MZ twins\n",
    "for i, row in df_single_pedig.iterrows():\n",
    "    df_single_pedig.set_value(i,\"ID\",\"M_{}\".format(row.ID))\n",
    "display(df_single_pedig.head())\n",
    "df_single_pedig.count()"
   ]
  },
  {
   "cell_type": "code",
   "execution_count": 39,
   "metadata": {
    "collapsed": false,
    "scrolled": true
   },
   "outputs": [
    {
     "data": {
      "text/html": [
       "<div>\n",
       "<table border=\"1\" class=\"dataframe\">\n",
       "  <thead>\n",
       "    <tr style=\"text-align: right;\">\n",
       "      <th></th>\n",
       "      <th>ID</th>\n",
       "      <th>fa</th>\n",
       "      <th>mo</th>\n",
       "      <th>sex</th>\n",
       "      <th>mztwin</th>\n",
       "      <th>hhID</th>\n",
       "    </tr>\n",
       "  </thead>\n",
       "  <tbody>\n",
       "    <tr>\n",
       "      <th>0</th>\n",
       "      <td>HCP100206</td>\n",
       "      <td>fa_56037</td>\n",
       "      <td>mo_56037</td>\n",
       "      <td>1</td>\n",
       "      <td></td>\n",
       "      <td>hh_56037</td>\n",
       "    </tr>\n",
       "    <tr>\n",
       "      <th>1</th>\n",
       "      <td>HCP100307</td>\n",
       "      <td>fa_51488</td>\n",
       "      <td>mo_51488</td>\n",
       "      <td>2</td>\n",
       "      <td></td>\n",
       "      <td>hh_51488</td>\n",
       "    </tr>\n",
       "    <tr>\n",
       "      <th>2</th>\n",
       "      <td>HCP100408</td>\n",
       "      <td>fa_51730</td>\n",
       "      <td>mo_51730</td>\n",
       "      <td>1</td>\n",
       "      <td>pair_51730</td>\n",
       "      <td>hh_51730</td>\n",
       "    </tr>\n",
       "    <tr>\n",
       "      <th>3</th>\n",
       "      <td>HCP100610</td>\n",
       "      <td>fa_52813</td>\n",
       "      <td>mo_52813</td>\n",
       "      <td>1</td>\n",
       "      <td></td>\n",
       "      <td>hh_52813</td>\n",
       "    </tr>\n",
       "    <tr>\n",
       "      <th>4</th>\n",
       "      <td>HCP101006</td>\n",
       "      <td>fa_51283</td>\n",
       "      <td>mo_51283</td>\n",
       "      <td>2</td>\n",
       "      <td>pair_51283</td>\n",
       "      <td>hh_51283</td>\n",
       "    </tr>\n",
       "  </tbody>\n",
       "</table>\n",
       "</div>"
      ],
      "text/plain": [
       "          ID        fa        mo  sex      mztwin      hhID\n",
       "0  HCP100206  fa_56037  mo_56037    1              hh_56037\n",
       "1  HCP100307  fa_51488  mo_51488    2              hh_51488\n",
       "2  HCP100408  fa_51730  mo_51730    1  pair_51730  hh_51730\n",
       "3  HCP100610  fa_52813  mo_52813    1              hh_52813\n",
       "4  HCP101006  fa_51283  mo_51283    2  pair_51283  hh_51283"
      ]
     },
     "execution_count": 39,
     "metadata": {},
     "output_type": "execute_result"
    }
   ],
   "source": [
    "# Append pedgree with fake co-twin for the missing one\n",
    "df_pedig_final = copy_df_pedig.append(df_single_pedig)\n",
    "df_pedig_final.head()"
   ]
  },
  {
   "cell_type": "code",
   "execution_count": 40,
   "metadata": {
    "collapsed": false,
    "scrolled": true
   },
   "outputs": [
    {
     "data": {
      "text/html": [
       "<div>\n",
       "<table border=\"1\" class=\"dataframe\">\n",
       "  <thead>\n",
       "    <tr style=\"text-align: right;\">\n",
       "      <th></th>\n",
       "      <th>ID</th>\n",
       "      <th>fa</th>\n",
       "      <th>mo</th>\n",
       "      <th>sex</th>\n",
       "      <th>mztwin</th>\n",
       "      <th>hhID</th>\n",
       "    </tr>\n",
       "  </thead>\n",
       "  <tbody>\n",
       "    <tr>\n",
       "      <th>696</th>\n",
       "      <td>M_HCP769064</td>\n",
       "      <td>fa_52803</td>\n",
       "      <td>mo_52803</td>\n",
       "      <td>1</td>\n",
       "      <td>pair_52803</td>\n",
       "      <td>hh_52803</td>\n",
       "    </tr>\n",
       "    <tr>\n",
       "      <th>722</th>\n",
       "      <td>M_HCP835657</td>\n",
       "      <td>fa_52137</td>\n",
       "      <td>mo_52137</td>\n",
       "      <td>2</td>\n",
       "      <td>pair_52137</td>\n",
       "      <td>hh_52137</td>\n",
       "    </tr>\n",
       "    <tr>\n",
       "      <th>724</th>\n",
       "      <td>M_HCP837964</td>\n",
       "      <td>fa_52875</td>\n",
       "      <td>mo_52875</td>\n",
       "      <td>2</td>\n",
       "      <td>pair_52875</td>\n",
       "      <td>hh_52875</td>\n",
       "    </tr>\n",
       "    <tr>\n",
       "      <th>765</th>\n",
       "      <td>M_HCP904044</td>\n",
       "      <td>fa_51290</td>\n",
       "      <td>mo_51290</td>\n",
       "      <td>2</td>\n",
       "      <td>pair_51290</td>\n",
       "      <td>hh_51290</td>\n",
       "    </tr>\n",
       "    <tr>\n",
       "      <th>790</th>\n",
       "      <td>M_HCP972566</td>\n",
       "      <td>fa_56077</td>\n",
       "      <td>mo_56077</td>\n",
       "      <td>2</td>\n",
       "      <td>pair_56077</td>\n",
       "      <td>hh_56077</td>\n",
       "    </tr>\n",
       "  </tbody>\n",
       "</table>\n",
       "</div>"
      ],
      "text/plain": [
       "              ID        fa        mo  sex      mztwin      hhID\n",
       "696  M_HCP769064  fa_52803  mo_52803    1  pair_52803  hh_52803\n",
       "722  M_HCP835657  fa_52137  mo_52137    2  pair_52137  hh_52137\n",
       "724  M_HCP837964  fa_52875  mo_52875    2  pair_52875  hh_52875\n",
       "765  M_HCP904044  fa_51290  mo_51290    2  pair_51290  hh_51290\n",
       "790  M_HCP972566  fa_56077  mo_56077    2  pair_56077  hh_56077"
      ]
     },
     "execution_count": 40,
     "metadata": {},
     "output_type": "execute_result"
    }
   ],
   "source": [
    "df_pedig_final.tail()"
   ]
  },
  {
   "cell_type": "code",
   "execution_count": 42,
   "metadata": {
    "collapsed": false
   },
   "outputs": [
    {
     "data": {
      "text/plain": [
       "ID        845\n",
       "fa        845\n",
       "mo        845\n",
       "sex       845\n",
       "mztwin    845\n",
       "hhID      845\n",
       "dtype: int64"
      ]
     },
     "execution_count": 42,
     "metadata": {},
     "output_type": "execute_result"
    }
   ],
   "source": [
    "df_pedig_final.count()"
   ]
  },
  {
   "cell_type": "code",
   "execution_count": 43,
   "metadata": {
    "collapsed": true
   },
   "outputs": [],
   "source": [
    "# Save the pedigree file\n",
    "df_pedig_final.to_csv(os.path.join(out_path,pedig_save), index=False)"
   ]
  },
  {
   "cell_type": "code",
   "execution_count": 44,
   "metadata": {
    "collapsed": true
   },
   "outputs": [],
   "source": [
    "import sys\n",
    "\n",
    "def query_yes_no(question, default=\"yes\"):\n",
    "    \"\"\"Ask a yes/no question via input() and return their answer.\n",
    "\n",
    "    \"question\" is a string that is presented to the user.\n",
    "    \"default\" is the presumed answer if the user just hits <Enter>.\n",
    "        It must be \"yes\" (the default), \"no\" or None (meaning\n",
    "        an answer is required of the user).\n",
    "\n",
    "    The \"answer\" return value is True for \"yes\" or False for \"no\".\n",
    "    \"\"\"\n",
    "    valid = {\"yes\": True, \"y\": True, \"ye\": True,\n",
    "             \"no\": False, \"n\": False}\n",
    "    if default is None:\n",
    "        prompt = \" [y/n] \"\n",
    "    elif default == \"yes\":\n",
    "        prompt = \" [Y/n] \"\n",
    "    elif default == \"no\":\n",
    "        prompt = \" [y/N] \"\n",
    "    else:\n",
    "        raise ValueError(\"invalid default answer: '%s'\" % default)\n",
    "\n",
    "    while True:\n",
    "        sys.stdout.write(question + prompt)\n",
    "        choice = input().lower()\n",
    "        if default is not None and choice == '':\n",
    "            return valid[default]\n",
    "        elif choice in valid:\n",
    "            return valid[choice]\n",
    "        else:\n",
    "            sys.stdout.write(\"Please respond with 'yes' or 'no' \"\n",
    "                             \"(or 'y' or 'n').\\n\")\n",
    "    return choice"
   ]
  },
  {
   "cell_type": "markdown",
   "metadata": {
    "collapsed": false
   },
   "source": [
    "## Run SOLAR heritability estimate "
   ]
  },
  {
   "cell_type": "code",
   "execution_count": 45,
   "metadata": {
    "collapsed": false,
    "scrolled": true
   },
   "outputs": [
    {
     "name": "stdout",
     "output_type": "stream",
     "text": [
      "HALT, you are about to run heritability pipline, would you like to continue? [Y/n] \n"
     ]
    },
    {
     "data": {
      "text/plain": [
       "True"
      ]
     },
     "execution_count": 45,
     "metadata": {},
     "output_type": "execute_result"
    }
   ],
   "source": [
    "query_yes_no('HALT, you are about to run heritability pipline, would you like to continue?')"
   ]
  },
  {
   "cell_type": "code",
   "execution_count": 64,
   "metadata": {
    "collapsed": false
   },
   "outputs": [],
   "source": [
    "%%bash -s \"$out_path\" \"$solar_cov\" \"$solar_script\" \n",
    "cd $1 #cd to out_path\n",
    "#sufix=$(echo $2 | sed -e 's/ /_/g') # add a suffix of covariate\n",
    "sed -i \"104s/.*/$2/\" $3 # feed the covariate to solar script\n",
    "sed -i \"52s~.*~$1phi2.gz~\" $3 # put the right path for the simlink\n",
    "sed -i \"53s~.*~$1pedindex.out~\" $3\n",
    "sed -i \"54s~.*~$1pedindex.cde~\" $3\n",
    "sed -i \"55s~.*~$1se_univ_polygen.tcl~\" $3"
   ]
  },
  {
   "cell_type": "code",
   "execution_count": 65,
   "metadata": {
    "collapsed": false
   },
   "outputs": [
    {
     "name": "stdout",
     "output_type": "stream",
     "text": [
      "\n",
      "SOLAR Eclipse version 8.1.1 (General), last updated on January 12, 2017\n",
      "Copyright (c) 1995-2017 Texas Biomedical Research Institute\n",
      "Enter help for help, exit to exit, doc to browse documentation.\n",
      "\n",
      "Unloading current pedigree data ...\n",
      "Loading pedigree data from the file solar_language_spm_pedigre.csv ...\n",
      "Running mibd relate ...                                                 \r",
      "Reading classes.tab ...                                                 \r",
      "Reading mibdrel.ped ...                                                 \r",
      "Writing output file ...                                                 \r",
      "                                                                        \r",
      "::::::::::::::\n",
      "mibdrel.tab\n",
      "::::::::::::::\n",
      "\n",
      "    NPairs  Relationship\n",
      "  ========  ===========================================\n",
      "      1579  Self\n",
      "       118  Identical sib pair\n",
      "      1690  Parent-offspring\n",
      "       584  Siblings\n",
      "       367  Unrelated\n",
      "\n"
     ]
    }
   ],
   "source": [
    "%%bash -s \"$out_path\" \"$pedig_save\"\n",
    "cd $1\n",
    "solar <<INTERNAL_SOLAR_SCRIPT  \n",
    "load pedi $2\n",
    "pedigree classes -full\n",
    "INTERNAL_SOLAR_SCRIPT"
   ]
  },
  {
   "cell_type": "code",
   "execution_count": 67,
   "metadata": {
    "collapsed": false
   },
   "outputs": [
    {
     "name": "stdout",
     "output_type": "stream",
     "text": [
      "\n",
      "SOLAR Eclipse version 8.1.1 (General), last updated on January 12, 2017\n",
      "Copyright (c) 1995-2017 Texas Biomedical Research Institute\n",
      "Enter help for help, exit to exit, doc to browse documentation.\n",
      "\n",
      "Error: output location 'subtype_5_language_EXP2' already exists.\n"
     ]
    }
   ],
   "source": [
    "%%bash -s \"$out_path\" \"$pheno_save\" \"$solar_out\"\n",
    "cd $1\n",
    "#if [ ! -d $3 ]; then\n",
    "#   mkdir $3\n",
    "#fi\n",
    "solar <<INTERNAL_SOLAR_SCRIPT \n",
    "load pheno $2\n",
    "INTERNAL_SOLAR_SCRIPT\n",
    "bash fcd_solar_h2r_test.sh trait_file $3 $1$2\n",
    "for i in $3/Set-*; do bash $i/run_all.sh ; done"
   ]
  },
  {
   "cell_type": "markdown",
   "metadata": {},
   "source": [
    "## Results"
   ]
  },
  {
   "cell_type": "code",
   "execution_count": 3,
   "metadata": {
    "collapsed": false
   },
   "outputs": [
    {
     "data": {
      "text/html": [
       "<div>\n",
       "<table border=\"1\" class=\"dataframe\">\n",
       "  <thead>\n",
       "    <tr style=\"text-align: right;\">\n",
       "      <th></th>\n",
       "      <th>Trait</th>\n",
       "      <th>H2r</th>\n",
       "      <th>P</th>\n",
       "      <th>CovVarianceExpl</th>\n",
       "    </tr>\n",
       "  </thead>\n",
       "  <tbody>\n",
       "    <tr>\n",
       "      <th>0</th>\n",
       "      <td>BMI_norm</td>\n",
       "      <td>0.508996</td>\n",
       "      <td>2.068182e-11</td>\n",
       "      <td>0.384841</td>\n",
       "    </tr>\n",
       "    <tr>\n",
       "      <th>1</th>\n",
       "      <td>FD_mean_norm</td>\n",
       "      <td>0.303097</td>\n",
       "      <td>1.498000e-04</td>\n",
       "      <td>0.824366</td>\n",
       "    </tr>\n",
       "    <tr>\n",
       "      <th>2</th>\n",
       "      <td>FD_scrubbed_mean_norm</td>\n",
       "      <td>0.053358</td>\n",
       "      <td>2.222762e-01</td>\n",
       "      <td>0.960030</td>\n",
       "    </tr>\n",
       "    <tr>\n",
       "      <th>3</th>\n",
       "      <td>math_sub1_norm</td>\n",
       "      <td>0.650278</td>\n",
       "      <td>8.232903e-25</td>\n",
       "      <td>0.002409</td>\n",
       "    </tr>\n",
       "    <tr>\n",
       "      <th>4</th>\n",
       "      <td>math_sub2_norm</td>\n",
       "      <td>0.647865</td>\n",
       "      <td>2.715053e-23</td>\n",
       "      <td>0.013615</td>\n",
       "    </tr>\n",
       "    <tr>\n",
       "      <th>5</th>\n",
       "      <td>math_sub3_norm</td>\n",
       "      <td>0.273120</td>\n",
       "      <td>7.400000e-06</td>\n",
       "      <td>0.003856</td>\n",
       "    </tr>\n",
       "    <tr>\n",
       "      <th>6</th>\n",
       "      <td>math_sub4_norm</td>\n",
       "      <td>0.319037</td>\n",
       "      <td>7.300000e-06</td>\n",
       "      <td>0.026060</td>\n",
       "    </tr>\n",
       "    <tr>\n",
       "      <th>7</th>\n",
       "      <td>math_sub5_norm</td>\n",
       "      <td>0.339819</td>\n",
       "      <td>1.500000e-06</td>\n",
       "      <td>0.003860</td>\n",
       "    </tr>\n",
       "    <tr>\n",
       "      <th>8</th>\n",
       "      <td>story_sub1_norm</td>\n",
       "      <td>0.672267</td>\n",
       "      <td>1.516929e-24</td>\n",
       "      <td>0.001919</td>\n",
       "    </tr>\n",
       "    <tr>\n",
       "      <th>9</th>\n",
       "      <td>story_sub2_norm</td>\n",
       "      <td>0.616657</td>\n",
       "      <td>3.218857e-20</td>\n",
       "      <td>0.007615</td>\n",
       "    </tr>\n",
       "    <tr>\n",
       "      <th>10</th>\n",
       "      <td>story_sub3_norm</td>\n",
       "      <td>0.669885</td>\n",
       "      <td>6.425560e-24</td>\n",
       "      <td>-0.001098</td>\n",
       "    </tr>\n",
       "    <tr>\n",
       "      <th>11</th>\n",
       "      <td>story_sub4_norm</td>\n",
       "      <td>0.256162</td>\n",
       "      <td>1.734000e-04</td>\n",
       "      <td>0.017225</td>\n",
       "    </tr>\n",
       "    <tr>\n",
       "      <th>12</th>\n",
       "      <td>story_sub5_norm</td>\n",
       "      <td>0.334607</td>\n",
       "      <td>1.200000e-06</td>\n",
       "      <td>0.003235</td>\n",
       "    </tr>\n",
       "  </tbody>\n",
       "</table>\n",
       "</div>"
      ],
      "text/plain": [
       "                    Trait       H2r             P  CovVarianceExpl\n",
       "0    BMI_norm              0.508996  2.068182e-11         0.384841\n",
       "1    FD_mean_norm          0.303097  1.498000e-04         0.824366\n",
       "2   FD_scrubbed_mean_norm  0.053358  2.222762e-01         0.960030\n",
       "3    math_sub1_norm        0.650278  8.232903e-25         0.002409\n",
       "4    math_sub2_norm        0.647865  2.715053e-23         0.013615\n",
       "5    math_sub3_norm        0.273120  7.400000e-06         0.003856\n",
       "6    math_sub4_norm        0.319037  7.300000e-06         0.026060\n",
       "7    math_sub5_norm        0.339819  1.500000e-06         0.003860\n",
       "8    story_sub1_norm       0.672267  1.516929e-24         0.001919\n",
       "9    story_sub2_norm       0.616657  3.218857e-20         0.007615\n",
       "10   story_sub3_norm       0.669885  6.425560e-24        -0.001098\n",
       "11   story_sub4_norm       0.256162  1.734000e-04         0.017225\n",
       "12   story_sub5_norm       0.334607  1.200000e-06         0.003235"
      ]
     },
     "execution_count": 3,
     "metadata": {},
     "output_type": "execute_result"
    }
   ],
   "source": [
    "out_herit = pd.read_csv(os.path.join(out_path,solar_out,\"se_out.out\"),sep=\"\\t\",header=None)\n",
    "out_herit_df =  pd.DataFrame()\n",
    "data = pd.DataFrame({\"Trait\": out_herit[2],\"H2r\": out_herit[4],\"P\": out_herit[7],\"CovVarianceExpl\": out_herit[9]})\n",
    "out_herit_df = data[[\"Trait\",\"H2r\",\"P\",\"CovVarianceExpl\"]].sort_values(['Trait'], ascending=[True]).reset_index(drop=True)\n",
    "out_herit_df\n"
   ]
  },
  {
   "cell_type": "code",
   "execution_count": 5,
   "metadata": {
    "collapsed": false
   },
   "outputs": [],
   "source": [
    "# FDR\n",
    "from statsmodels.sandbox.stats import multicomp as smi\n",
    "pcorr_vec = smi.multipletests(out_herit_df['P'], alpha=0.05, method='fdr_bh')\n",
    "out_herit_df.insert(3,'FDR',pcorr_vec[1])\n",
    "out_herit_df.insert(4,'FDR_log10',-np.log10(pcorr_vec[1]))"
   ]
  },
  {
   "cell_type": "code",
   "execution_count": 6,
   "metadata": {
    "collapsed": false
   },
   "outputs": [
    {
     "data": {
      "text/html": [
       "<div>\n",
       "<table border=\"1\" class=\"dataframe\">\n",
       "  <thead>\n",
       "    <tr style=\"text-align: right;\">\n",
       "      <th></th>\n",
       "      <th>Trait</th>\n",
       "      <th>H2r</th>\n",
       "      <th>P</th>\n",
       "      <th>FDR</th>\n",
       "      <th>FDR_log10</th>\n",
       "      <th>CovVarianceExpl</th>\n",
       "    </tr>\n",
       "  </thead>\n",
       "  <tbody>\n",
       "    <tr>\n",
       "      <th>0</th>\n",
       "      <td>BMI_norm</td>\n",
       "      <td>0.508996</td>\n",
       "      <td>2.068182e-11</td>\n",
       "      <td>4.481062e-11</td>\n",
       "      <td>10.348619</td>\n",
       "      <td>0.384841</td>\n",
       "    </tr>\n",
       "    <tr>\n",
       "      <th>1</th>\n",
       "      <td>FD_mean_norm</td>\n",
       "      <td>0.303097</td>\n",
       "      <td>1.498000e-04</td>\n",
       "      <td>1.770364e-04</td>\n",
       "      <td>3.751938</td>\n",
       "      <td>0.824366</td>\n",
       "    </tr>\n",
       "    <tr>\n",
       "      <th>2</th>\n",
       "      <td>FD_scrubbed_mean_norm</td>\n",
       "      <td>0.053358</td>\n",
       "      <td>2.222762e-01</td>\n",
       "      <td>2.222762e-01</td>\n",
       "      <td>0.653107</td>\n",
       "      <td>0.960030</td>\n",
       "    </tr>\n",
       "    <tr>\n",
       "      <th>3</th>\n",
       "      <td>math_sub1_norm</td>\n",
       "      <td>0.650278</td>\n",
       "      <td>8.232903e-25</td>\n",
       "      <td>9.860036e-24</td>\n",
       "      <td>23.006122</td>\n",
       "      <td>0.002409</td>\n",
       "    </tr>\n",
       "    <tr>\n",
       "      <th>4</th>\n",
       "      <td>math_sub2_norm</td>\n",
       "      <td>0.647865</td>\n",
       "      <td>2.715053e-23</td>\n",
       "      <td>8.823922e-23</td>\n",
       "      <td>22.054338</td>\n",
       "      <td>0.013615</td>\n",
       "    </tr>\n",
       "    <tr>\n",
       "      <th>5</th>\n",
       "      <td>math_sub3_norm</td>\n",
       "      <td>0.273120</td>\n",
       "      <td>7.400000e-06</td>\n",
       "      <td>9.620000e-06</td>\n",
       "      <td>5.016825</td>\n",
       "      <td>0.003856</td>\n",
       "    </tr>\n",
       "    <tr>\n",
       "      <th>6</th>\n",
       "      <td>math_sub4_norm</td>\n",
       "      <td>0.319037</td>\n",
       "      <td>7.300000e-06</td>\n",
       "      <td>9.620000e-06</td>\n",
       "      <td>5.016825</td>\n",
       "      <td>0.026060</td>\n",
       "    </tr>\n",
       "    <tr>\n",
       "      <th>7</th>\n",
       "      <td>math_sub5_norm</td>\n",
       "      <td>0.339819</td>\n",
       "      <td>1.500000e-06</td>\n",
       "      <td>2.437500e-06</td>\n",
       "      <td>5.613055</td>\n",
       "      <td>0.003860</td>\n",
       "    </tr>\n",
       "    <tr>\n",
       "      <th>8</th>\n",
       "      <td>story_sub1_norm</td>\n",
       "      <td>0.672267</td>\n",
       "      <td>1.516929e-24</td>\n",
       "      <td>9.860036e-24</td>\n",
       "      <td>23.006122</td>\n",
       "      <td>0.001919</td>\n",
       "    </tr>\n",
       "    <tr>\n",
       "      <th>9</th>\n",
       "      <td>story_sub2_norm</td>\n",
       "      <td>0.616657</td>\n",
       "      <td>3.218857e-20</td>\n",
       "      <td>8.369029e-20</td>\n",
       "      <td>19.077325</td>\n",
       "      <td>0.007615</td>\n",
       "    </tr>\n",
       "    <tr>\n",
       "      <th>10</th>\n",
       "      <td>story_sub3_norm</td>\n",
       "      <td>0.669885</td>\n",
       "      <td>6.425560e-24</td>\n",
       "      <td>2.784409e-23</td>\n",
       "      <td>22.555267</td>\n",
       "      <td>-0.001098</td>\n",
       "    </tr>\n",
       "    <tr>\n",
       "      <th>11</th>\n",
       "      <td>story_sub4_norm</td>\n",
       "      <td>0.256162</td>\n",
       "      <td>1.734000e-04</td>\n",
       "      <td>1.878500e-04</td>\n",
       "      <td>3.726189</td>\n",
       "      <td>0.017225</td>\n",
       "    </tr>\n",
       "    <tr>\n",
       "      <th>12</th>\n",
       "      <td>story_sub5_norm</td>\n",
       "      <td>0.334607</td>\n",
       "      <td>1.200000e-06</td>\n",
       "      <td>2.228571e-06</td>\n",
       "      <td>5.651973</td>\n",
       "      <td>0.003235</td>\n",
       "    </tr>\n",
       "  </tbody>\n",
       "</table>\n",
       "</div>"
      ],
      "text/plain": [
       "                    Trait       H2r             P           FDR  FDR_log10  \\\n",
       "0    BMI_norm              0.508996  2.068182e-11  4.481062e-11  10.348619   \n",
       "1    FD_mean_norm          0.303097  1.498000e-04  1.770364e-04   3.751938   \n",
       "2   FD_scrubbed_mean_norm  0.053358  2.222762e-01  2.222762e-01   0.653107   \n",
       "3    math_sub1_norm        0.650278  8.232903e-25  9.860036e-24  23.006122   \n",
       "4    math_sub2_norm        0.647865  2.715053e-23  8.823922e-23  22.054338   \n",
       "5    math_sub3_norm        0.273120  7.400000e-06  9.620000e-06   5.016825   \n",
       "6    math_sub4_norm        0.319037  7.300000e-06  9.620000e-06   5.016825   \n",
       "7    math_sub5_norm        0.339819  1.500000e-06  2.437500e-06   5.613055   \n",
       "8    story_sub1_norm       0.672267  1.516929e-24  9.860036e-24  23.006122   \n",
       "9    story_sub2_norm       0.616657  3.218857e-20  8.369029e-20  19.077325   \n",
       "10   story_sub3_norm       0.669885  6.425560e-24  2.784409e-23  22.555267   \n",
       "11   story_sub4_norm       0.256162  1.734000e-04  1.878500e-04   3.726189   \n",
       "12   story_sub5_norm       0.334607  1.200000e-06  2.228571e-06   5.651973   \n",
       "\n",
       "    CovVarianceExpl  \n",
       "0          0.384841  \n",
       "1          0.824366  \n",
       "2          0.960030  \n",
       "3          0.002409  \n",
       "4          0.013615  \n",
       "5          0.003856  \n",
       "6          0.026060  \n",
       "7          0.003860  \n",
       "8          0.001919  \n",
       "9          0.007615  \n",
       "10        -0.001098  \n",
       "11         0.017225  \n",
       "12         0.003235  "
      ]
     },
     "execution_count": 6,
     "metadata": {},
     "output_type": "execute_result"
    }
   ],
   "source": [
    "out_herit_df"
   ]
  },
  {
   "cell_type": "code",
   "execution_count": 7,
   "metadata": {
    "collapsed": false
   },
   "outputs": [
    {
     "data": {
      "text/html": [
       "<div>\n",
       "<table border=\"1\" class=\"dataframe\">\n",
       "  <thead>\n",
       "    <tr style=\"text-align: right;\">\n",
       "      <th></th>\n",
       "      <th>Trait</th>\n",
       "      <th>H2r</th>\n",
       "    </tr>\n",
       "  </thead>\n",
       "  <tbody>\n",
       "    <tr>\n",
       "      <th>3</th>\n",
       "      <td>math_sub1_norm</td>\n",
       "      <td>0.650278</td>\n",
       "    </tr>\n",
       "    <tr>\n",
       "      <th>4</th>\n",
       "      <td>math_sub2_norm</td>\n",
       "      <td>0.647865</td>\n",
       "    </tr>\n",
       "    <tr>\n",
       "      <th>5</th>\n",
       "      <td>math_sub3_norm</td>\n",
       "      <td>0.273120</td>\n",
       "    </tr>\n",
       "    <tr>\n",
       "      <th>6</th>\n",
       "      <td>math_sub4_norm</td>\n",
       "      <td>0.319037</td>\n",
       "    </tr>\n",
       "    <tr>\n",
       "      <th>7</th>\n",
       "      <td>math_sub5_norm</td>\n",
       "      <td>0.339819</td>\n",
       "    </tr>\n",
       "  </tbody>\n",
       "</table>\n",
       "</div>"
      ],
      "text/plain": [
       "                  Trait       H2r\n",
       "3  math_sub1_norm        0.650278\n",
       "4  math_sub2_norm        0.647865\n",
       "5  math_sub3_norm        0.273120\n",
       "6  math_sub4_norm        0.319037\n",
       "7  math_sub5_norm        0.339819"
      ]
     },
     "metadata": {},
     "output_type": "display_data"
    },
    {
     "data": {
      "text/html": [
       "<div>\n",
       "<table border=\"1\" class=\"dataframe\">\n",
       "  <thead>\n",
       "    <tr style=\"text-align: right;\">\n",
       "      <th></th>\n",
       "      <th>Trait</th>\n",
       "      <th>H2r</th>\n",
       "    </tr>\n",
       "  </thead>\n",
       "  <tbody>\n",
       "    <tr>\n",
       "      <th>8</th>\n",
       "      <td>story_sub1_norm</td>\n",
       "      <td>0.672267</td>\n",
       "    </tr>\n",
       "    <tr>\n",
       "      <th>9</th>\n",
       "      <td>story_sub2_norm</td>\n",
       "      <td>0.616657</td>\n",
       "    </tr>\n",
       "    <tr>\n",
       "      <th>10</th>\n",
       "      <td>story_sub3_norm</td>\n",
       "      <td>0.669885</td>\n",
       "    </tr>\n",
       "    <tr>\n",
       "      <th>11</th>\n",
       "      <td>story_sub4_norm</td>\n",
       "      <td>0.256162</td>\n",
       "    </tr>\n",
       "    <tr>\n",
       "      <th>12</th>\n",
       "      <td>story_sub5_norm</td>\n",
       "      <td>0.334607</td>\n",
       "    </tr>\n",
       "  </tbody>\n",
       "</table>\n",
       "</div>"
      ],
      "text/plain": [
       "                   Trait       H2r\n",
       "8   story_sub1_norm       0.672267\n",
       "9   story_sub2_norm       0.616657\n",
       "10  story_sub3_norm       0.669885\n",
       "11  story_sub4_norm       0.256162\n",
       "12  story_sub5_norm       0.334607"
      ]
     },
     "execution_count": 7,
     "metadata": {},
     "output_type": "execute_result"
    }
   ],
   "source": [
    "out_herit_df_math = out_herit_df[['Trait','H2r']][out_herit_df.Trait.str[0:4] == 'math']\n",
    "out_herit_df_story = out_herit_df[['Trait','H2r']][out_herit_df.Trait.str[0:5] == 'story']\n",
    "\n",
    "display(out_herit_df_math)\n",
    "out_herit_df_story"
   ]
  },
  {
   "cell_type": "code",
   "execution_count": 8,
   "metadata": {
    "collapsed": false
   },
   "outputs": [
    {
     "data": {
      "text/html": [
       "<div>\n",
       "<table border=\"1\" class=\"dataframe\">\n",
       "  <thead>\n",
       "    <tr style=\"text-align: right;\">\n",
       "      <th></th>\n",
       "      <th>Trial</th>\n",
       "      <th>Subt</th>\n",
       "      <th>H2r</th>\n",
       "    </tr>\n",
       "  </thead>\n",
       "  <tbody>\n",
       "    <tr>\n",
       "      <th>3</th>\n",
       "      <td>math</td>\n",
       "      <td>sub1</td>\n",
       "      <td>0.650278</td>\n",
       "    </tr>\n",
       "    <tr>\n",
       "      <th>4</th>\n",
       "      <td>math</td>\n",
       "      <td>sub2</td>\n",
       "      <td>0.647865</td>\n",
       "    </tr>\n",
       "    <tr>\n",
       "      <th>5</th>\n",
       "      <td>math</td>\n",
       "      <td>sub3</td>\n",
       "      <td>0.273120</td>\n",
       "    </tr>\n",
       "    <tr>\n",
       "      <th>6</th>\n",
       "      <td>math</td>\n",
       "      <td>sub4</td>\n",
       "      <td>0.319037</td>\n",
       "    </tr>\n",
       "    <tr>\n",
       "      <th>7</th>\n",
       "      <td>math</td>\n",
       "      <td>sub5</td>\n",
       "      <td>0.339819</td>\n",
       "    </tr>\n",
       "  </tbody>\n",
       "</table>\n",
       "</div>"
      ],
      "text/plain": [
       "  Trial  Subt       H2r\n",
       "3  math  sub1  0.650278\n",
       "4  math  sub2  0.647865\n",
       "5  math  sub3  0.273120\n",
       "6  math  sub4  0.319037\n",
       "7  math  sub5  0.339819"
      ]
     },
     "execution_count": 8,
     "metadata": {},
     "output_type": "execute_result"
    }
   ],
   "source": [
    "# format math\n",
    "column_net = [row['Trait'].split('_')[0].strip() for ind,row in out_herit_df_math[['Trait']].iterrows()]\n",
    "out_herit_df_math.loc[:,'Trial'] = column_net\n",
    "column_subt = [row['Trait'].split('_')[1].strip() for ind,row in out_herit_df_math[['Trait']].iterrows()]\n",
    "out_herit_df_math.loc[:,'Subt'] = column_subt\n",
    "out_herit_df_math_select = out_herit_df_math[['Trial','Subt','H2r']]\n",
    "out_herit_df_math_select"
   ]
  },
  {
   "cell_type": "code",
   "execution_count": 9,
   "metadata": {
    "collapsed": false
   },
   "outputs": [
    {
     "data": {
      "text/html": [
       "<div>\n",
       "<table border=\"1\" class=\"dataframe\">\n",
       "  <thead>\n",
       "    <tr style=\"text-align: right;\">\n",
       "      <th></th>\n",
       "      <th>Trial</th>\n",
       "      <th>Subt</th>\n",
       "      <th>H2r</th>\n",
       "    </tr>\n",
       "  </thead>\n",
       "  <tbody>\n",
       "    <tr>\n",
       "      <th>8</th>\n",
       "      <td>story</td>\n",
       "      <td>sub1</td>\n",
       "      <td>0.672267</td>\n",
       "    </tr>\n",
       "    <tr>\n",
       "      <th>9</th>\n",
       "      <td>story</td>\n",
       "      <td>sub2</td>\n",
       "      <td>0.616657</td>\n",
       "    </tr>\n",
       "    <tr>\n",
       "      <th>10</th>\n",
       "      <td>story</td>\n",
       "      <td>sub3</td>\n",
       "      <td>0.669885</td>\n",
       "    </tr>\n",
       "    <tr>\n",
       "      <th>11</th>\n",
       "      <td>story</td>\n",
       "      <td>sub4</td>\n",
       "      <td>0.256162</td>\n",
       "    </tr>\n",
       "    <tr>\n",
       "      <th>12</th>\n",
       "      <td>story</td>\n",
       "      <td>sub5</td>\n",
       "      <td>0.334607</td>\n",
       "    </tr>\n",
       "  </tbody>\n",
       "</table>\n",
       "</div>"
      ],
      "text/plain": [
       "    Trial  Subt       H2r\n",
       "8   story  sub1  0.672267\n",
       "9   story  sub2  0.616657\n",
       "10  story  sub3  0.669885\n",
       "11  story  sub4  0.256162\n",
       "12  story  sub5  0.334607"
      ]
     },
     "execution_count": 9,
     "metadata": {},
     "output_type": "execute_result"
    }
   ],
   "source": [
    "# Format story\n",
    "column_net = [row['Trait'].split('_')[0].strip() for ind,row in out_herit_df_story[['Trait']].iterrows()]\n",
    "out_herit_df_story.loc[:,'Trial'] = column_net\n",
    "column_subt = [row['Trait'].split('_')[1].strip() for ind,row in out_herit_df_story[['Trait']].iterrows()]\n",
    "out_herit_df_story.loc[:,'Subt'] = column_subt\n",
    "out_herit_df_story_select = out_herit_df_story[['Trial','Subt','H2r']]\n",
    "out_herit_df_story_select"
   ]
  },
  {
   "cell_type": "code",
   "execution_count": 10,
   "metadata": {
    "collapsed": false
   },
   "outputs": [
    {
     "data": {
      "text/html": [
       "<div>\n",
       "<table border=\"1\" class=\"dataframe\">\n",
       "  <thead>\n",
       "    <tr style=\"text-align: right;\">\n",
       "      <th></th>\n",
       "      <th>Trial</th>\n",
       "      <th>Subt</th>\n",
       "      <th>H2r</th>\n",
       "    </tr>\n",
       "  </thead>\n",
       "  <tbody>\n",
       "    <tr>\n",
       "      <th>3</th>\n",
       "      <td>math</td>\n",
       "      <td>sub1</td>\n",
       "      <td>0.650278</td>\n",
       "    </tr>\n",
       "    <tr>\n",
       "      <th>4</th>\n",
       "      <td>math</td>\n",
       "      <td>sub2</td>\n",
       "      <td>0.647865</td>\n",
       "    </tr>\n",
       "    <tr>\n",
       "      <th>5</th>\n",
       "      <td>math</td>\n",
       "      <td>sub3</td>\n",
       "      <td>0.273120</td>\n",
       "    </tr>\n",
       "    <tr>\n",
       "      <th>6</th>\n",
       "      <td>math</td>\n",
       "      <td>sub4</td>\n",
       "      <td>0.319037</td>\n",
       "    </tr>\n",
       "    <tr>\n",
       "      <th>7</th>\n",
       "      <td>math</td>\n",
       "      <td>sub5</td>\n",
       "      <td>0.339819</td>\n",
       "    </tr>\n",
       "    <tr>\n",
       "      <th>8</th>\n",
       "      <td>story</td>\n",
       "      <td>sub1</td>\n",
       "      <td>0.672267</td>\n",
       "    </tr>\n",
       "    <tr>\n",
       "      <th>9</th>\n",
       "      <td>story</td>\n",
       "      <td>sub2</td>\n",
       "      <td>0.616657</td>\n",
       "    </tr>\n",
       "    <tr>\n",
       "      <th>10</th>\n",
       "      <td>story</td>\n",
       "      <td>sub3</td>\n",
       "      <td>0.669885</td>\n",
       "    </tr>\n",
       "    <tr>\n",
       "      <th>11</th>\n",
       "      <td>story</td>\n",
       "      <td>sub4</td>\n",
       "      <td>0.256162</td>\n",
       "    </tr>\n",
       "    <tr>\n",
       "      <th>12</th>\n",
       "      <td>story</td>\n",
       "      <td>sub5</td>\n",
       "      <td>0.334607</td>\n",
       "    </tr>\n",
       "  </tbody>\n",
       "</table>\n",
       "</div>"
      ],
      "text/plain": [
       "    Trial  Subt       H2r\n",
       "3    math  sub1  0.650278\n",
       "4    math  sub2  0.647865\n",
       "5    math  sub3  0.273120\n",
       "6    math  sub4  0.319037\n",
       "7    math  sub5  0.339819\n",
       "8   story  sub1  0.672267\n",
       "9   story  sub2  0.616657\n",
       "10  story  sub3  0.669885\n",
       "11  story  sub4  0.256162\n",
       "12  story  sub5  0.334607"
      ]
     },
     "execution_count": 10,
     "metadata": {},
     "output_type": "execute_result"
    }
   ],
   "source": [
    "# append math and story\n",
    "out_herit_df_tmp = out_herit_df_math_select.append(out_herit_df_story_select)\n",
    "out_herit_df_tmp"
   ]
  },
  {
   "cell_type": "code",
   "execution_count": 11,
   "metadata": {
    "collapsed": false
   },
   "outputs": [
    {
     "data": {
      "text/html": [
       "<div>\n",
       "<table border=\"1\" class=\"dataframe\">\n",
       "  <thead>\n",
       "    <tr style=\"text-align: right;\">\n",
       "      <th>Subt</th>\n",
       "      <th>sub1</th>\n",
       "      <th>sub2</th>\n",
       "      <th>sub3</th>\n",
       "      <th>sub4</th>\n",
       "      <th>sub5</th>\n",
       "    </tr>\n",
       "  </thead>\n",
       "  <tbody>\n",
       "    <tr>\n",
       "      <th>math</th>\n",
       "      <td>0.650278</td>\n",
       "      <td>0.647865</td>\n",
       "      <td>0.273120</td>\n",
       "      <td>0.319037</td>\n",
       "      <td>0.339819</td>\n",
       "    </tr>\n",
       "    <tr>\n",
       "      <th>story</th>\n",
       "      <td>0.672267</td>\n",
       "      <td>0.616657</td>\n",
       "      <td>0.669885</td>\n",
       "      <td>0.256162</td>\n",
       "      <td>0.334607</td>\n",
       "    </tr>\n",
       "  </tbody>\n",
       "</table>\n",
       "</div>"
      ],
      "text/plain": [
       "Subt       sub1      sub2      sub3      sub4      sub5\n",
       "math   0.650278  0.647865  0.273120  0.319037  0.339819\n",
       "story  0.672267  0.616657  0.669885  0.256162  0.334607"
      ]
     },
     "execution_count": 11,
     "metadata": {},
     "output_type": "execute_result"
    }
   ],
   "source": [
    "# pivot table\n",
    "out_herit_df_final = out_herit_df_tmp.pivot(index='Trial',columns='Subt',values='H2r')\n",
    "out_herit_df_final.index.name=None\n",
    "out_herit_df_final"
   ]
  },
  {
   "cell_type": "code",
   "execution_count": 12,
   "metadata": {
    "collapsed": false
   },
   "outputs": [
    {
     "name": "stdout",
     "output_type": "stream",
     "text": [
      "/home/yassinebha/Drive/HCP/Solar_heritability/HCP_subtype/subtype_5_language_EXP2/h2r_solar_language_spm_EXP2.csv\n"
     ]
    }
   ],
   "source": [
    "# save to csv\n",
    "out_herit_df_final.to_csv(os.path.join(out_path,solar_out,h2r_out_file))\n",
    "print(os.path.join(out_path,solar_out,h2r_out_file))"
   ]
  },
  {
   "cell_type": "code",
   "execution_count": 7,
   "metadata": {
    "collapsed": true
   },
   "outputs": [],
   "source": [
    "##### switch kernel to R #########"
   ]
  },
  {
   "cell_type": "code",
   "execution_count": 1,
   "metadata": {
    "collapsed": false
   },
   "outputs": [],
   "source": [
    "#devtools::install_github(\"ricardo-bion/ggradar\", dependencies=TRUE)\n",
    "MyData <- read.csv(file=\"/home/yassinebha/Drive/HCP/Solar_heritability/HCP_subtype/subtype_5_language_EXP2/h2r_solar_language_spm_EXP2.csv\", header=TRUE, sep=\",\")"
   ]
  },
  {
   "cell_type": "code",
   "execution_count": 2,
   "metadata": {
    "collapsed": false
   },
   "outputs": [
    {
     "data": {
      "text/html": [
       "<table>\n",
       "<thead><tr><th scope=col>X</th><th scope=col>sub1</th><th scope=col>sub2</th><th scope=col>sub3</th><th scope=col>sub4</th><th scope=col>sub5</th></tr></thead>\n",
       "<tbody>\n",
       "\t<tr><td>math     </td><td>0.6502776</td><td>0.6478650</td><td>0.2731202</td><td>0.3190375</td><td>0.3398195</td></tr>\n",
       "\t<tr><td>story    </td><td>0.6722669</td><td>0.6166567</td><td>0.6698850</td><td>0.2561624</td><td>0.3346073</td></tr>\n",
       "</tbody>\n",
       "</table>\n"
      ],
      "text/latex": [
       "\\begin{tabular}{r|llllll}\n",
       " X & sub1 & sub2 & sub3 & sub4 & sub5\\\\\n",
       "\\hline\n",
       "\t math      & 0.6502776 & 0.6478650 & 0.2731202 & 0.3190375 & 0.3398195\\\\\n",
       "\t story     & 0.6722669 & 0.6166567 & 0.6698850 & 0.2561624 & 0.3346073\\\\\n",
       "\\end{tabular}\n"
      ],
      "text/markdown": [
       "\n",
       "X | sub1 | sub2 | sub3 | sub4 | sub5 | \n",
       "|---|---|\n",
       "| math      | 0.6502776 | 0.6478650 | 0.2731202 | 0.3190375 | 0.3398195 | \n",
       "| story     | 0.6722669 | 0.6166567 | 0.6698850 | 0.2561624 | 0.3346073 | \n",
       "\n",
       "\n"
      ],
      "text/plain": [
       "  X     sub1      sub2      sub3      sub4      sub5     \n",
       "1 math  0.6502776 0.6478650 0.2731202 0.3190375 0.3398195\n",
       "2 story 0.6722669 0.6166567 0.6698850 0.2561624 0.3346073"
      ]
     },
     "metadata": {},
     "output_type": "display_data"
    }
   ],
   "source": [
    "MyData"
   ]
  },
  {
   "cell_type": "code",
   "execution_count": 4,
   "metadata": {
    "collapsed": false
   },
   "outputs": [],
   "source": [
    "library(ggradar)\n",
    "suppressPackageStartupMessages(library(dplyr))\n",
    "library(scales)\n",
    "require(\"ggplot2\")"
   ]
  },
  {
   "cell_type": "code",
   "execution_count": 5,
   "metadata": {
    "collapsed": false
   },
   "outputs": [],
   "source": [
    "# plot radar \n",
    "image=ggradar(MyData)"
   ]
  },
  {
   "cell_type": "code",
   "execution_count": 13,
   "metadata": {
    "collapsed": false
   },
   "outputs": [],
   "source": [
    "setwd(\"/home/yassinebha/Drive/HCP/subtypes_scores/26-10-2016/subtype_5_spm_LANGUAGE_01-Feb-2017/networks/\")"
   ]
  },
  {
   "cell_type": "code",
   "execution_count": 12,
   "metadata": {
    "collapsed": false
   },
   "outputs": [],
   "source": [
    "# first on terminal install cairo : \"sudo apt install libcairo2-dev\"\n",
    "# devtools::install_github(\"hadley/svglite\")"
   ]
  },
  {
   "cell_type": "code",
   "execution_count": 14,
   "metadata": {
    "collapsed": false
   },
   "outputs": [],
   "source": [
    "ggsave(file=\"test.svg\", plot=image, width=10, height=8)"
   ]
  },
  {
   "cell_type": "code",
   "execution_count": 10,
   "metadata": {
    "collapsed": false
   },
   "outputs": [
    {
     "name": "stderr",
     "output_type": "stream",
     "text": [
      "Downloading GitHub repo hadley/svglite@master\n",
      "from URL https://api.github.com/repos/hadley/svglite/zipball/master\n",
      "Installing svglite\n",
      "Installing gdtools\n",
      "'/usr/lib/R/bin/R' --no-site-file --no-environ --no-save --no-restore --quiet  \\\n",
      "  CMD INSTALL '/tmp/RtmppY4hYW/devtools33287417360f/gdtools'  \\\n",
      "  --library='/home/yassinebha/R/x86_64-pc-linux-gnu-library/3.3'  \\\n",
      "  --install-tests \n",
      "\n",
      "'/usr/lib/R/bin/R' --no-site-file --no-environ --no-save --no-restore --quiet  \\\n",
      "  CMD INSTALL '/tmp/RtmppY4hYW/devtools3328758e8604/hadley-svglite-970d67a'  \\\n",
      "  --library='/home/yassinebha/R/x86_64-pc-linux-gnu-library/3.3'  \\\n",
      "  --install-tests \n",
      "\n"
     ]
    }
   ],
   "source": [
    "devtools::install_github(\"hadley/svglite\")"
   ]
  },
  {
   "cell_type": "code",
   "execution_count": 12,
   "metadata": {
    "collapsed": false
   },
   "outputs": [
    {
     "ename": "ERROR",
     "evalue": "Error in library(fmsb): there is no package called ‘fmsb’\n",
     "output_type": "error",
     "traceback": [
      "Error in library(fmsb): there is no package called ‘fmsb’\nTraceback:\n",
      "1. library(fmsb)",
      "2. stop(txt, domain = NA)"
     ]
    }
   ],
   "source": [
    "# other solution\n",
    "# install.packages('fmsb')\n",
    "# Library\n",
    "library(fmsb)\n",
    "radarchart(MyData)"
   ]
  },
  {
   "cell_type": "code",
   "execution_count": 10,
   "metadata": {
    "collapsed": false
   },
   "outputs": [
    {
     "name": "stderr",
     "output_type": "stream",
     "text": [
      "Installing package into ‘/home/yassinebha/R/x86_64-pc-linux-gnu-library/3.3’\n",
      "(as ‘lib’ is unspecified)\n"
     ]
    }
   ],
   "source": []
  },
  {
   "cell_type": "code",
   "execution_count": 17,
   "metadata": {
    "collapsed": false
   },
   "outputs": [
    {
     "data": {
      "text/html": [
       "<table>\n",
       "<thead><tr><th scope=col>math</th><th scope=col>english</th><th scope=col>biology</th><th scope=col>music</th><th scope=col>R-coding</th><th scope=col>data-viz</th><th scope=col>french</th><th scope=col>physic</th><th scope=col>statistic</th><th scope=col>sport</th></tr></thead>\n",
       "<tbody>\n",
       "\t<tr><td>20</td><td>20</td><td>20</td><td>20</td><td>20</td><td>20</td><td>20</td><td>20</td><td>20</td><td>20</td></tr>\n",
       "\t<tr><td> 0</td><td> 0</td><td> 0</td><td> 0</td><td> 0</td><td> 0</td><td> 0</td><td> 0</td><td> 0</td><td> 0</td></tr>\n",
       "\t<tr><td> 9</td><td>16</td><td>11</td><td> 9</td><td>12</td><td> 9</td><td>18</td><td>16</td><td>18</td><td> 8</td></tr>\n",
       "</tbody>\n",
       "</table>\n"
      ],
      "text/latex": [
       "\\begin{tabular}{r|llllllllll}\n",
       " math & english & biology & music & R-coding & data-viz & french & physic & statistic & sport\\\\\n",
       "\\hline\n",
       "\t 20 & 20 & 20 & 20 & 20 & 20 & 20 & 20 & 20 & 20\\\\\n",
       "\t  0 &  0 &  0 &  0 &  0 &  0 &  0 &  0 &  0 &  0\\\\\n",
       "\t  9 & 16 & 11 &  9 & 12 &  9 & 18 & 16 & 18 &  8\\\\\n",
       "\\end{tabular}\n"
      ],
      "text/markdown": [
       "\n",
       "math | english | biology | music | R-coding | data-viz | french | physic | statistic | sport | \n",
       "|---|---|---|\n",
       "| 20 | 20 | 20 | 20 | 20 | 20 | 20 | 20 | 20 | 20 | \n",
       "|  0 |  0 |  0 |  0 |  0 |  0 |  0 |  0 |  0 |  0 | \n",
       "|  9 | 16 | 11 |  9 | 12 |  9 | 18 | 16 | 18 |  8 | \n",
       "\n",
       "\n"
      ],
      "text/plain": [
       "  math english biology music R-coding data-viz french physic statistic sport\n",
       "1 20   20      20      20    20       20       20     20     20        20   \n",
       "2  0    0       0       0     0        0        0      0      0         0   \n",
       "3  9   16      11       9    12        9       18     16     18         8   "
      ]
     },
     "metadata": {},
     "output_type": "display_data"
    }
   ],
   "source": [
    "# install.packages('fmsb')\n",
    "# Library\n",
    "library(fmsb)\n",
    " \n",
    "# Create data: note in High school for Jonathan:\n",
    "data=as.data.frame(matrix( sample( 2:20 , 10 , replace=T) , ncol=10))\n",
    "colnames(data)=c(\"math\" , \"english\" , \"biology\" , \"music\" , \"R-coding\", \"data-viz\" , \"french\" , \"physic\", \"statistic\", \"sport\" )\n",
    " \n",
    "# To use the fmsb package, I have to add 2 lines to the dataframe: the max and min of each topic to show on the plot!\n",
    "data=rbind(rep(20,10) , rep(0,10) , data)\n",
    "data"
   ]
  },
  {
   "cell_type": "code",
   "execution_count": 11,
   "metadata": {
    "collapsed": false
   },
   "outputs": [
    {
     "data": {
      "image/png": "[encoded data removed]",
      "text/plain": [
       "Plot with title “”"
      ]
     },
     "metadata": {},
     "output_type": "display_data"
    },
    {
     "data": {
      "image/png": "[encoded data removed]",
      "text/plain": [
       "Plot with title “”"
      ]
     },
     "metadata": {},
     "output_type": "display_data"
    }
   ],
   "source": [
    "# The default radar chart proposed by the library:\n",
    "radarchart(data)\n",
    " \n",
    "# Custom the radarChart !\n",
    "radarchart( data  , axistype=1 , \n",
    " \n",
    "    #custom polygon\n",
    "    pcol=rgb(0.2,0.5,0.5,0.9) , pfcol=rgb(0.2,0.5,0.5,0.5) , plwd=4 , \n",
    " \n",
    "    #custom the grid\n",
    "    cglcol=\"grey\", cglty=1, axislabcol=\"grey\", caxislabels=seq(0,20,5), cglwd=0.8,\n",
    " \n",
    "    #custom labels\n",
    "    vlcex=0.8 \n",
    "    )\n",
    " "
   ]
  },
  {
   "cell_type": "code",
   "execution_count": 12,
   "metadata": {
    "collapsed": false
   },
   "outputs": [
    {
     "data": {
      "text/html": [
       "<table>\n",
       "<thead><tr><th scope=col>math</th><th scope=col>english</th><th scope=col>biology</th><th scope=col>music</th><th scope=col>R-coding</th><th scope=col>data-viz</th><th scope=col>french</th><th scope=col>physic</th><th scope=col>statistic</th><th scope=col>sport</th></tr></thead>\n",
       "<tbody>\n",
       "\t<tr><td>20</td><td>20</td><td>20</td><td>20</td><td>20</td><td>20</td><td>20</td><td>20</td><td>20</td><td>20</td></tr>\n",
       "\t<tr><td> 0</td><td> 0</td><td> 0</td><td> 0</td><td> 0</td><td> 0</td><td> 0</td><td> 0</td><td> 0</td><td> 0</td></tr>\n",
       "\t<tr><td>13</td><td> 6</td><td>19</td><td>15</td><td> 3</td><td>13</td><td> 6</td><td>18</td><td>13</td><td>10</td></tr>\n",
       "</tbody>\n",
       "</table>\n"
      ],
      "text/latex": [
       "\\begin{tabular}{r|llllllllll}\n",
       " math & english & biology & music & R-coding & data-viz & french & physic & statistic & sport\\\\\n",
       "\\hline\n",
       "\t 20 & 20 & 20 & 20 & 20 & 20 & 20 & 20 & 20 & 20\\\\\n",
       "\t  0 &  0 &  0 &  0 &  0 &  0 &  0 &  0 &  0 &  0\\\\\n",
       "\t 13 &  6 & 19 & 15 &  3 & 13 &  6 & 18 & 13 & 10\\\\\n",
       "\\end{tabular}\n"
      ],
      "text/markdown": [
       "\n",
       "math | english | biology | music | R-coding | data-viz | french | physic | statistic | sport | \n",
       "|---|---|---|\n",
       "| 20 | 20 | 20 | 20 | 20 | 20 | 20 | 20 | 20 | 20 | \n",
       "|  0 |  0 |  0 |  0 |  0 |  0 |  0 |  0 |  0 |  0 | \n",
       "| 13 |  6 | 19 | 15 |  3 | 13 |  6 | 18 | 13 | 10 | \n",
       "\n",
       "\n"
      ],
      "text/plain": [
       "  math english biology music R-coding data-viz french physic statistic sport\n",
       "1 20   20      20      20    20       20       20     20     20        20   \n",
       "2  0    0       0       0     0        0        0      0      0         0   \n",
       "3 13    6      19      15     3       13        6     18     13        10   "
      ]
     },
     "metadata": {},
     "output_type": "display_data"
    }
   ],
   "source": [
    "data"
   ]
  },
  {
   "cell_type": "code",
   "execution_count": 14,
   "metadata": {
    "collapsed": false
   },
   "outputs": [
    {
     "name": "stderr",
     "output_type": "stream",
     "text": [
      "Downloading GitHub repo timelyportfolio/d3radarR@master\n",
      "from URL https://api.github.com/repos/timelyportfolio/d3radarR/zipball/master\n",
      "Installing d3radarR\n",
      "Installing htmltools\n",
      "'/usr/lib/R/bin/R' --no-site-file --no-environ --no-save --no-restore --quiet  \\\n",
      "  CMD INSTALL '/tmp/RtmpxVhKai/devtools3e1c5f7b0f17/htmltools'  \\\n",
      "  --library='/home/yassinebha/R/x86_64-pc-linux-gnu-library/3.3'  \\\n",
      "  --install-tests \n",
      "\n",
      "Installing htmlwidgets\n",
      "Installing yaml\n",
      "'/usr/lib/R/bin/R' --no-site-file --no-environ --no-save --no-restore --quiet  \\\n",
      "  CMD INSTALL '/tmp/RtmpxVhKai/devtools3e1c2bce06ce/yaml'  \\\n",
      "  --library='/home/yassinebha/R/x86_64-pc-linux-gnu-library/3.3'  \\\n",
      "  --install-tests \n",
      "\n",
      "'/usr/lib/R/bin/R' --no-site-file --no-environ --no-save --no-restore --quiet  \\\n",
      "  CMD INSTALL '/tmp/RtmpxVhKai/devtools3e1c12d4cc38/htmlwidgets'  \\\n",
      "  --library='/home/yassinebha/R/x86_64-pc-linux-gnu-library/3.3'  \\\n",
      "  --install-tests \n",
      "\n",
      "Installing markdown\n",
      "'/usr/lib/R/bin/R' --no-site-file --no-environ --no-save --no-restore --quiet  \\\n",
      "  CMD INSTALL '/tmp/RtmpxVhKai/devtools3e1c2643056f/markdown'  \\\n",
      "  --library='/home/yassinebha/R/x86_64-pc-linux-gnu-library/3.3'  \\\n",
      "  --install-tests \n",
      "\n",
      "'/usr/lib/R/bin/R' --no-site-file --no-environ --no-save --no-restore --quiet  \\\n",
      "  CMD INSTALL  \\\n",
      "  '/tmp/RtmpxVhKai/devtools3e1c13b090df/timelyportfolio-d3radarR-3f2c42d'  \\\n",
      "  --library='/home/yassinebha/R/x86_64-pc-linux-gnu-library/3.3'  \\\n",
      "  --install-tests \n",
      "\n"
     ]
    }
   ],
   "source": [
    "devtools::install_github(\"timelyportfolio/d3radarR\")\n",
    "\n",
    "library(d3radarR)"
   ]
  },
  {
   "cell_type": "code",
   "execution_count": 16,
   "metadata": {
    "collapsed": false
   },
   "outputs": [
    {
     "data": {
      "text/plain": [
       "HTML widgets cannot be represented in plain text (need html)"
      ]
     },
     "metadata": {},
     "output_type": "display_data"
    }
   ],
   "source": [
    "# use data from demo\n",
    "#   https://github.com/TennisVisuals/updating-radar-chart/blob/master/radarDemo.js\n",
    "json_data = jsonlite::fromJSON(\n",
    "'\n",
    "  [  \n",
    "    {  \n",
    "      \"key\":\"Nokia Smartphone\",\n",
    "      \"values\":[  \n",
    "        {  \"axis\":\"Battery Life\", \"value\":0.26 }, {  \"axis\":\"Brand\", \"value\":0.10 },\n",
    "        {  \"axis\":\"Contract Cost\", \"value\":0.30 }, {  \"axis\":\"Design And Quality\", \"value\":0.14 },\n",
    "        {  \"axis\":\"Have Internet Connectivity\", \"value\":0.22 }, {  \"axis\":\"Large Screen\", \"value\":0.04 },\n",
    "        {  \"axis\":\"Price Of Device\", \"value\":0.41 }, {  \"axis\":\"To Be A Smartphone\", \"value\":0.30 }\n",
    "        ]\n",
    "    },\n",
    "    {  \n",
    "      \"key\":\"Samsung\",\n",
    "      \"values\":[  \n",
    "        {  \"axis\":\"Battery Life\", \"value\":0.27 }, {  \"axis\":\"Brand\", \"value\":0.16 },\n",
    "        {  \"axis\":\"Contract Cost\", \"value\":0.35 }, {  \"axis\":\"Design And Quality\", \"value\":0.13 },\n",
    "        {  \"axis\":\"Have Internet Connectivity\", \"value\":0.20 }, {  \"axis\":\"Large Screen\", \"value\":0.13 },\n",
    "        {  \"axis\":\"Price Of Device\", \"value\":0.35 }, {  \"axis\":\"To Be A Smartphone\", \"value\":0.38 }\n",
    "        ]\n",
    "    },\n",
    "    {  \n",
    "      \"key\":\"iPhone\",\n",
    "      \"values\":[  \n",
    "        {  \"axis\":\"Battery Life\", \"value\":0.22 }, {  \"axis\":\"Brand\", \"value\":0.28 },\n",
    "        {  \"axis\":\"Contract Cost\", \"value\":0.29 }, {  \"axis\":\"Design And Quality\", \"value\":0.17 },\n",
    "        {  \"axis\":\"Have Internet Connectivity\", \"value\":0.22 }, {  \"axis\":\"Large Screen\", \"value\":0.02 },\n",
    "        {  \"axis\":\"Price Of Device\", \"value\":0.21 }, {  \"axis\":\"To Be A Smartphone\", \"value\":0.50 }\n",
    "        ]\n",
    "    }\n",
    "  ]\n",
    "',\n",
    "  simplifyDataFrame = FALSE\n",
    ")\n",
    "\n",
    "d3radar(json_data)"
   ]
  },
  {
   "cell_type": "code",
   "execution_count": 21,
   "metadata": {
    "collapsed": false,
    "scrolled": false
   },
   "outputs": [
    {
     "data": {
      "text/html": [
       "<ol>\n",
       "\t<li><dl>\n",
       "\t<dt>$key</dt>\n",
       "\t\t<dd>'Nokia Smartphone'</dd>\n",
       "\t<dt>$values</dt>\n",
       "\t\t<dd><ol>\n",
       "\t<li><dl>\n",
       "\t<dt>$axis</dt>\n",
       "\t\t<dd>'Battery Life'</dd>\n",
       "\t<dt>$value</dt>\n",
       "\t\t<dd>0.26</dd>\n",
       "</dl>\n",
       "</li>\n",
       "\t<li><dl>\n",
       "\t<dt>$axis</dt>\n",
       "\t\t<dd>'Brand'</dd>\n",
       "\t<dt>$value</dt>\n",
       "\t\t<dd>0.1</dd>\n",
       "</dl>\n",
       "</li>\n",
       "\t<li><dl>\n",
       "\t<dt>$axis</dt>\n",
       "\t\t<dd>'Contract Cost'</dd>\n",
       "\t<dt>$value</dt>\n",
       "\t\t<dd>0.3</dd>\n",
       "</dl>\n",
       "</li>\n",
       "\t<li><dl>\n",
       "\t<dt>$axis</dt>\n",
       "\t\t<dd>'Design And Quality'</dd>\n",
       "\t<dt>$value</dt>\n",
       "\t\t<dd>0.14</dd>\n",
       "</dl>\n",
       "</li>\n",
       "\t<li><dl>\n",
       "\t<dt>$axis</dt>\n",
       "\t\t<dd>'Have Internet Connectivity'</dd>\n",
       "\t<dt>$value</dt>\n",
       "\t\t<dd>0.22</dd>\n",
       "</dl>\n",
       "</li>\n",
       "\t<li><dl>\n",
       "\t<dt>$axis</dt>\n",
       "\t\t<dd>'Large Screen'</dd>\n",
       "\t<dt>$value</dt>\n",
       "\t\t<dd>0.04</dd>\n",
       "</dl>\n",
       "</li>\n",
       "\t<li><dl>\n",
       "\t<dt>$axis</dt>\n",
       "\t\t<dd>'Price Of Device'</dd>\n",
       "\t<dt>$value</dt>\n",
       "\t\t<dd>0.41</dd>\n",
       "</dl>\n",
       "</li>\n",
       "\t<li><dl>\n",
       "\t<dt>$axis</dt>\n",
       "\t\t<dd>'To Be A Smartphone'</dd>\n",
       "\t<dt>$value</dt>\n",
       "\t\t<dd>0.3</dd>\n",
       "</dl>\n",
       "</li>\n",
       "</ol>\n",
       "</dd>\n",
       "</dl>\n",
       "</li>\n",
       "\t<li><dl>\n",
       "\t<dt>$key</dt>\n",
       "\t\t<dd>'Samsung'</dd>\n",
       "\t<dt>$values</dt>\n",
       "\t\t<dd><ol>\n",
       "\t<li><dl>\n",
       "\t<dt>$axis</dt>\n",
       "\t\t<dd>'Battery Life'</dd>\n",
       "\t<dt>$value</dt>\n",
       "\t\t<dd>0.27</dd>\n",
       "</dl>\n",
       "</li>\n",
       "\t<li><dl>\n",
       "\t<dt>$axis</dt>\n",
       "\t\t<dd>'Brand'</dd>\n",
       "\t<dt>$value</dt>\n",
       "\t\t<dd>0.16</dd>\n",
       "</dl>\n",
       "</li>\n",
       "\t<li><dl>\n",
       "\t<dt>$axis</dt>\n",
       "\t\t<dd>'Contract Cost'</dd>\n",
       "\t<dt>$value</dt>\n",
       "\t\t<dd>0.35</dd>\n",
       "</dl>\n",
       "</li>\n",
       "\t<li><dl>\n",
       "\t<dt>$axis</dt>\n",
       "\t\t<dd>'Design And Quality'</dd>\n",
       "\t<dt>$value</dt>\n",
       "\t\t<dd>0.13</dd>\n",
       "</dl>\n",
       "</li>\n",
       "\t<li><dl>\n",
       "\t<dt>$axis</dt>\n",
       "\t\t<dd>'Have Internet Connectivity'</dd>\n",
       "\t<dt>$value</dt>\n",
       "\t\t<dd>0.2</dd>\n",
       "</dl>\n",
       "</li>\n",
       "\t<li><dl>\n",
       "\t<dt>$axis</dt>\n",
       "\t\t<dd>'Large Screen'</dd>\n",
       "\t<dt>$value</dt>\n",
       "\t\t<dd>0.13</dd>\n",
       "</dl>\n",
       "</li>\n",
       "\t<li><dl>\n",
       "\t<dt>$axis</dt>\n",
       "\t\t<dd>'Price Of Device'</dd>\n",
       "\t<dt>$value</dt>\n",
       "\t\t<dd>0.35</dd>\n",
       "</dl>\n",
       "</li>\n",
       "\t<li><dl>\n",
       "\t<dt>$axis</dt>\n",
       "\t\t<dd>'To Be A Smartphone'</dd>\n",
       "\t<dt>$value</dt>\n",
       "\t\t<dd>0.38</dd>\n",
       "</dl>\n",
       "</li>\n",
       "</ol>\n",
       "</dd>\n",
       "</dl>\n",
       "</li>\n",
       "\t<li><dl>\n",
       "\t<dt>$key</dt>\n",
       "\t\t<dd>'iPhone'</dd>\n",
       "\t<dt>$values</dt>\n",
       "\t\t<dd><ol>\n",
       "\t<li><dl>\n",
       "\t<dt>$axis</dt>\n",
       "\t\t<dd>'Battery Life'</dd>\n",
       "\t<dt>$value</dt>\n",
       "\t\t<dd>0.22</dd>\n",
       "</dl>\n",
       "</li>\n",
       "\t<li><dl>\n",
       "\t<dt>$axis</dt>\n",
       "\t\t<dd>'Brand'</dd>\n",
       "\t<dt>$value</dt>\n",
       "\t\t<dd>0.28</dd>\n",
       "</dl>\n",
       "</li>\n",
       "\t<li><dl>\n",
       "\t<dt>$axis</dt>\n",
       "\t\t<dd>'Contract Cost'</dd>\n",
       "\t<dt>$value</dt>\n",
       "\t\t<dd>0.29</dd>\n",
       "</dl>\n",
       "</li>\n",
       "\t<li><dl>\n",
       "\t<dt>$axis</dt>\n",
       "\t\t<dd>'Design And Quality'</dd>\n",
       "\t<dt>$value</dt>\n",
       "\t\t<dd>0.17</dd>\n",
       "</dl>\n",
       "</li>\n",
       "\t<li><dl>\n",
       "\t<dt>$axis</dt>\n",
       "\t\t<dd>'Have Internet Connectivity'</dd>\n",
       "\t<dt>$value</dt>\n",
       "\t\t<dd>0.22</dd>\n",
       "</dl>\n",
       "</li>\n",
       "\t<li><dl>\n",
       "\t<dt>$axis</dt>\n",
       "\t\t<dd>'Large Screen'</dd>\n",
       "\t<dt>$value</dt>\n",
       "\t\t<dd>0.02</dd>\n",
       "</dl>\n",
       "</li>\n",
       "\t<li><dl>\n",
       "\t<dt>$axis</dt>\n",
       "\t\t<dd>'Price Of Device'</dd>\n",
       "\t<dt>$value</dt>\n",
       "\t\t<dd>0.21</dd>\n",
       "</dl>\n",
       "</li>\n",
       "\t<li><dl>\n",
       "\t<dt>$axis</dt>\n",
       "\t\t<dd>'To Be A Smartphone'</dd>\n",
       "\t<dt>$value</dt>\n",
       "\t\t<dd>0.5</dd>\n",
       "</dl>\n",
       "</li>\n",
       "</ol>\n",
       "</dd>\n",
       "</dl>\n",
       "</li>\n",
       "</ol>\n"
      ],
      "text/latex": [
       "\\begin{enumerate}\n",
       "\\item \\begin{description}\n",
       "\\item[\\$key] 'Nokia Smartphone'\n",
       "\\item[\\$values] \\begin{enumerate}\n",
       "\\item \\begin{description}\n",
       "\\item[\\$axis] 'Battery Life'\n",
       "\\item[\\$value] 0.26\n",
       "\\end{description}\n",
       "\n",
       "\\item \\begin{description}\n",
       "\\item[\\$axis] 'Brand'\n",
       "\\item[\\$value] 0.1\n",
       "\\end{description}\n",
       "\n",
       "\\item \\begin{description}\n",
       "\\item[\\$axis] 'Contract Cost'\n",
       "\\item[\\$value] 0.3\n",
       "\\end{description}\n",
       "\n",
       "\\item \\begin{description}\n",
       "\\item[\\$axis] 'Design And Quality'\n",
       "\\item[\\$value] 0.14\n",
       "\\end{description}\n",
       "\n",
       "\\item \\begin{description}\n",
       "\\item[\\$axis] 'Have Internet Connectivity'\n",
       "\\item[\\$value] 0.22\n",
       "\\end{description}\n",
       "\n",
       "\\item \\begin{description}\n",
       "\\item[\\$axis] 'Large Screen'\n",
       "\\item[\\$value] 0.04\n",
       "\\end{description}\n",
       "\n",
       "\\item \\begin{description}\n",
       "\\item[\\$axis] 'Price Of Device'\n",
       "\\item[\\$value] 0.41\n",
       "\\end{description}\n",
       "\n",
       "\\item \\begin{description}\n",
       "\\item[\\$axis] 'To Be A Smartphone'\n",
       "\\item[\\$value] 0.3\n",
       "\\end{description}\n",
       "\n",
       "\\end{enumerate}\n",
       "\n",
       "\\end{description}\n",
       "\n",
       "\\item \\begin{description}\n",
       "\\item[\\$key] 'Samsung'\n",
       "\\item[\\$values] \\begin{enumerate}\n",
       "\\item \\begin{description}\n",
       "\\item[\\$axis] 'Battery Life'\n",
       "\\item[\\$value] 0.27\n",
       "\\end{description}\n",
       "\n",
       "\\item \\begin{description}\n",
       "\\item[\\$axis] 'Brand'\n",
       "\\item[\\$value] 0.16\n",
       "\\end{description}\n",
       "\n",
       "\\item \\begin{description}\n",
       "\\item[\\$axis] 'Contract Cost'\n",
       "\\item[\\$value] 0.35\n",
       "\\end{description}\n",
       "\n",
       "\\item \\begin{description}\n",
       "\\item[\\$axis] 'Design And Quality'\n",
       "\\item[\\$value] 0.13\n",
       "\\end{description}\n",
       "\n",
       "\\item \\begin{description}\n",
       "\\item[\\$axis] 'Have Internet Connectivity'\n",
       "\\item[\\$value] 0.2\n",
       "\\end{description}\n",
       "\n",
       "\\item \\begin{description}\n",
       "\\item[\\$axis] 'Large Screen'\n",
       "\\item[\\$value] 0.13\n",
       "\\end{description}\n",
       "\n",
       "\\item \\begin{description}\n",
       "\\item[\\$axis] 'Price Of Device'\n",
       "\\item[\\$value] 0.35\n",
       "\\end{description}\n",
       "\n",
       "\\item \\begin{description}\n",
       "\\item[\\$axis] 'To Be A Smartphone'\n",
       "\\item[\\$value] 0.38\n",
       "\\end{description}\n",
       "\n",
       "\\end{enumerate}\n",
       "\n",
       "\\end{description}\n",
       "\n",
       "\\item \\begin{description}\n",
       "\\item[\\$key] 'iPhone'\n",
       "\\item[\\$values] \\begin{enumerate}\n",
       "\\item \\begin{description}\n",
       "\\item[\\$axis] 'Battery Life'\n",
       "\\item[\\$value] 0.22\n",
       "\\end{description}\n",
       "\n",
       "\\item \\begin{description}\n",
       "\\item[\\$axis] 'Brand'\n",
       "\\item[\\$value] 0.28\n",
       "\\end{description}\n",
       "\n",
       "\\item \\begin{description}\n",
       "\\item[\\$axis] 'Contract Cost'\n",
       "\\item[\\$value] 0.29\n",
       "\\end{description}\n",
       "\n",
       "\\item \\begin{description}\n",
       "\\item[\\$axis] 'Design And Quality'\n",
       "\\item[\\$value] 0.17\n",
       "\\end{description}\n",
       "\n",
       "\\item \\begin{description}\n",
       "\\item[\\$axis] 'Have Internet Connectivity'\n",
       "\\item[\\$value] 0.22\n",
       "\\end{description}\n",
       "\n",
       "\\item \\begin{description}\n",
       "\\item[\\$axis] 'Large Screen'\n",
       "\\item[\\$value] 0.02\n",
       "\\end{description}\n",
       "\n",
       "\\item \\begin{description}\n",
       "\\item[\\$axis] 'Price Of Device'\n",
       "\\item[\\$value] 0.21\n",
       "\\end{description}\n",
       "\n",
       "\\item \\begin{description}\n",
       "\\item[\\$axis] 'To Be A Smartphone'\n",
       "\\item[\\$value] 0.5\n",
       "\\end{description}\n",
       "\n",
       "\\end{enumerate}\n",
       "\n",
       "\\end{description}\n",
       "\n",
       "\\end{enumerate}\n"
      ],
      "text/markdown": [
       "1. $key\n",
       ":   'Nokia Smartphone'\n",
       "$values\n",
       ":   1. $axis\n",
       ":   'Battery Life'\n",
       "$value\n",
       ":   0.26\n",
       "\n",
       "\n",
       "\n",
       "2. $axis\n",
       ":   'Brand'\n",
       "$value\n",
       ":   0.1\n",
       "\n",
       "\n",
       "\n",
       "3. $axis\n",
       ":   'Contract Cost'\n",
       "$value\n",
       ":   0.3\n",
       "\n",
       "\n",
       "\n",
       "4. $axis\n",
       ":   'Design And Quality'\n",
       "$value\n",
       ":   0.14\n",
       "\n",
       "\n",
       "\n",
       "5. $axis\n",
       ":   'Have Internet Connectivity'\n",
       "$value\n",
       ":   0.22\n",
       "\n",
       "\n",
       "\n",
       "6. $axis\n",
       ":   'Large Screen'\n",
       "$value\n",
       ":   0.04\n",
       "\n",
       "\n",
       "\n",
       "7. $axis\n",
       ":   'Price Of Device'\n",
       "$value\n",
       ":   0.41\n",
       "\n",
       "\n",
       "\n",
       "8. $axis\n",
       ":   'To Be A Smartphone'\n",
       "$value\n",
       ":   0.3\n",
       "\n",
       "\n",
       "\n",
       "\n",
       "\n",
       "\n",
       "\n",
       "\n",
       "\n",
       "2. $key\n",
       ":   'Samsung'\n",
       "$values\n",
       ":   1. $axis\n",
       ":   'Battery Life'\n",
       "$value\n",
       ":   0.27\n",
       "\n",
       "\n",
       "\n",
       "2. $axis\n",
       ":   'Brand'\n",
       "$value\n",
       ":   0.16\n",
       "\n",
       "\n",
       "\n",
       "3. $axis\n",
       ":   'Contract Cost'\n",
       "$value\n",
       ":   0.35\n",
       "\n",
       "\n",
       "\n",
       "4. $axis\n",
       ":   'Design And Quality'\n",
       "$value\n",
       ":   0.13\n",
       "\n",
       "\n",
       "\n",
       "5. $axis\n",
       ":   'Have Internet Connectivity'\n",
       "$value\n",
       ":   0.2\n",
       "\n",
       "\n",
       "\n",
       "6. $axis\n",
       ":   'Large Screen'\n",
       "$value\n",
       ":   0.13\n",
       "\n",
       "\n",
       "\n",
       "7. $axis\n",
       ":   'Price Of Device'\n",
       "$value\n",
       ":   0.35\n",
       "\n",
       "\n",
       "\n",
       "8. $axis\n",
       ":   'To Be A Smartphone'\n",
       "$value\n",
       ":   0.38\n",
       "\n",
       "\n",
       "\n",
       "\n",
       "\n",
       "\n",
       "\n",
       "\n",
       "\n",
       "3. $key\n",
       ":   'iPhone'\n",
       "$values\n",
       ":   1. $axis\n",
       ":   'Battery Life'\n",
       "$value\n",
       ":   0.22\n",
       "\n",
       "\n",
       "\n",
       "2. $axis\n",
       ":   'Brand'\n",
       "$value\n",
       ":   0.28\n",
       "\n",
       "\n",
       "\n",
       "3. $axis\n",
       ":   'Contract Cost'\n",
       "$value\n",
       ":   0.29\n",
       "\n",
       "\n",
       "\n",
       "4. $axis\n",
       ":   'Design And Quality'\n",
       "$value\n",
       ":   0.17\n",
       "\n",
       "\n",
       "\n",
       "5. $axis\n",
       ":   'Have Internet Connectivity'\n",
       "$value\n",
       ":   0.22\n",
       "\n",
       "\n",
       "\n",
       "6. $axis\n",
       ":   'Large Screen'\n",
       "$value\n",
       ":   0.02\n",
       "\n",
       "\n",
       "\n",
       "7. $axis\n",
       ":   'Price Of Device'\n",
       "$value\n",
       ":   0.21\n",
       "\n",
       "\n",
       "\n",
       "8. $axis\n",
       ":   'To Be A Smartphone'\n",
       "$value\n",
       ":   0.5\n",
       "\n",
       "\n",
       "\n",
       "\n",
       "\n",
       "\n",
       "\n",
       "\n",
       "\n",
       "\n",
       "\n"
      ],
      "text/plain": [
       "[[1]]\n",
       "[[1]]$key\n",
       "[1] \"Nokia Smartphone\"\n",
       "\n",
       "[[1]]$values\n",
       "[[1]]$values[[1]]\n",
       "[[1]]$values[[1]]$axis\n",
       "[1] \"Battery Life\"\n",
       "\n",
       "[[1]]$values[[1]]$value\n",
       "[1] 0.26\n",
       "\n",
       "\n",
       "[[1]]$values[[2]]\n",
       "[[1]]$values[[2]]$axis\n",
       "[1] \"Brand\"\n",
       "\n",
       "[[1]]$values[[2]]$value\n",
       "[1] 0.1\n",
       "\n",
       "\n",
       "[[1]]$values[[3]]\n",
       "[[1]]$values[[3]]$axis\n",
       "[1] \"Contract Cost\"\n",
       "\n",
       "[[1]]$values[[3]]$value\n",
       "[1] 0.3\n",
       "\n",
       "\n",
       "[[1]]$values[[4]]\n",
       "[[1]]$values[[4]]$axis\n",
       "[1] \"Design And Quality\"\n",
       "\n",
       "[[1]]$values[[4]]$value\n",
       "[1] 0.14\n",
       "\n",
       "\n",
       "[[1]]$values[[5]]\n",
       "[[1]]$values[[5]]$axis\n",
       "[1] \"Have Internet Connectivity\"\n",
       "\n",
       "[[1]]$values[[5]]$value\n",
       "[1] 0.22\n",
       "\n",
       "\n",
       "[[1]]$values[[6]]\n",
       "[[1]]$values[[6]]$axis\n",
       "[1] \"Large Screen\"\n",
       "\n",
       "[[1]]$values[[6]]$value\n",
       "[1] 0.04\n",
       "\n",
       "\n",
       "[[1]]$values[[7]]\n",
       "[[1]]$values[[7]]$axis\n",
       "[1] \"Price Of Device\"\n",
       "\n",
       "[[1]]$values[[7]]$value\n",
       "[1] 0.41\n",
       "\n",
       "\n",
       "[[1]]$values[[8]]\n",
       "[[1]]$values[[8]]$axis\n",
       "[1] \"To Be A Smartphone\"\n",
       "\n",
       "[[1]]$values[[8]]$value\n",
       "[1] 0.3\n",
       "\n",
       "\n",
       "\n",
       "\n",
       "[[2]]\n",
       "[[2]]$key\n",
       "[1] \"Samsung\"\n",
       "\n",
       "[[2]]$values\n",
       "[[2]]$values[[1]]\n",
       "[[2]]$values[[1]]$axis\n",
       "[1] \"Battery Life\"\n",
       "\n",
       "[[2]]$values[[1]]$value\n",
       "[1] 0.27\n",
       "\n",
       "\n",
       "[[2]]$values[[2]]\n",
       "[[2]]$values[[2]]$axis\n",
       "[1] \"Brand\"\n",
       "\n",
       "[[2]]$values[[2]]$value\n",
       "[1] 0.16\n",
       "\n",
       "\n",
       "[[2]]$values[[3]]\n",
       "[[2]]$values[[3]]$axis\n",
       "[1] \"Contract Cost\"\n",
       "\n",
       "[[2]]$values[[3]]$value\n",
       "[1] 0.35\n",
       "\n",
       "\n",
       "[[2]]$values[[4]]\n",
       "[[2]]$values[[4]]$axis\n",
       "[1] \"Design And Quality\"\n",
       "\n",
       "[[2]]$values[[4]]$value\n",
       "[1] 0.13\n",
       "\n",
       "\n",
       "[[2]]$values[[5]]\n",
       "[[2]]$values[[5]]$axis\n",
       "[1] \"Have Internet Connectivity\"\n",
       "\n",
       "[[2]]$values[[5]]$value\n",
       "[1] 0.2\n",
       "\n",
       "\n",
       "[[2]]$values[[6]]\n",
       "[[2]]$values[[6]]$axis\n",
       "[1] \"Large Screen\"\n",
       "\n",
       "[[2]]$values[[6]]$value\n",
       "[1] 0.13\n",
       "\n",
       "\n",
       "[[2]]$values[[7]]\n",
       "[[2]]$values[[7]]$axis\n",
       "[1] \"Price Of Device\"\n",
       "\n",
       "[[2]]$values[[7]]$value\n",
       "[1] 0.35\n",
       "\n",
       "\n",
       "[[2]]$values[[8]]\n",
       "[[2]]$values[[8]]$axis\n",
       "[1] \"To Be A Smartphone\"\n",
       "\n",
       "[[2]]$values[[8]]$value\n",
       "[1] 0.38\n",
       "\n",
       "\n",
       "\n",
       "\n",
       "[[3]]\n",
       "[[3]]$key\n",
       "[1] \"iPhone\"\n",
       "\n",
       "[[3]]$values\n",
       "[[3]]$values[[1]]\n",
       "[[3]]$values[[1]]$axis\n",
       "[1] \"Battery Life\"\n",
       "\n",
       "[[3]]$values[[1]]$value\n",
       "[1] 0.22\n",
       "\n",
       "\n",
       "[[3]]$values[[2]]\n",
       "[[3]]$values[[2]]$axis\n",
       "[1] \"Brand\"\n",
       "\n",
       "[[3]]$values[[2]]$value\n",
       "[1] 0.28\n",
       "\n",
       "\n",
       "[[3]]$values[[3]]\n",
       "[[3]]$values[[3]]$axis\n",
       "[1] \"Contract Cost\"\n",
       "\n",
       "[[3]]$values[[3]]$value\n",
       "[1] 0.29\n",
       "\n",
       "\n",
       "[[3]]$values[[4]]\n",
       "[[3]]$values[[4]]$axis\n",
       "[1] \"Design And Quality\"\n",
       "\n",
       "[[3]]$values[[4]]$value\n",
       "[1] 0.17\n",
       "\n",
       "\n",
       "[[3]]$values[[5]]\n",
       "[[3]]$values[[5]]$axis\n",
       "[1] \"Have Internet Connectivity\"\n",
       "\n",
       "[[3]]$values[[5]]$value\n",
       "[1] 0.22\n",
       "\n",
       "\n",
       "[[3]]$values[[6]]\n",
       "[[3]]$values[[6]]$axis\n",
       "[1] \"Large Screen\"\n",
       "\n",
       "[[3]]$values[[6]]$value\n",
       "[1] 0.02\n",
       "\n",
       "\n",
       "[[3]]$values[[7]]\n",
       "[[3]]$values[[7]]$axis\n",
       "[1] \"Price Of Device\"\n",
       "\n",
       "[[3]]$values[[7]]$value\n",
       "[1] 0.21\n",
       "\n",
       "\n",
       "[[3]]$values[[8]]\n",
       "[[3]]$values[[8]]$axis\n",
       "[1] \"To Be A Smartphone\"\n",
       "\n",
       "[[3]]$values[[8]]$value\n",
       "[1] 0.5\n",
       "\n",
       "\n",
       "\n"
      ]
     },
     "metadata": {},
     "output_type": "display_data"
    }
   ],
   "source": [
    "from ipywidgets import interact"
   ]
  }
 ],
 "metadata": {
  "anaconda-cloud": {},
  "kernelspec": {
   "display_name": "R",
   "language": "R",
   "name": "ir"
  },
  "language_info": {
   "codemirror_mode": "r",
   "file_extension": ".r",
   "mimetype": "text/x-r-source",
   "name": "R",
   "pygments_lexer": "r",
   "version": "3.3.2"
  },
  "widgets": {
   "state": {},
   "version": "1.1.2"
  }
 },
 "nbformat": 4,
 "nbformat_minor": 1
}
