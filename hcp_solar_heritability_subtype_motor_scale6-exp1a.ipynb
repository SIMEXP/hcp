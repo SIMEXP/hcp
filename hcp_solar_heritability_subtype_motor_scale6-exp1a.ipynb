{
 "cells": [
  {
   "cell_type": "markdown",
   "metadata": {},
   "source": [
    "# EXP 1a: MOTOR heritability subtype"
   ]
  },
  {
   "cell_type": "markdown",
   "metadata": {
    "collapsed": true
   },
   "source": [
    "##### Subtype:\n",
    "- Niak preprocessed MOTOR task (new scrub method)\n",
    "- BASC partion scale 6\n",
    "- Connectome maps from scale 6 hole brain\n",
    "- 5 subtype\n",
    "- **Only age regressed out befor building subtypes**\n",
    "\n",
    "##### Heritability:\n",
    "- Regress \"FD_scrubbed\" \"Gender\" as covariate"
   ]
  },
  {
   "cell_type": "markdown",
   "metadata": {},
   "source": [
    "## Build Pheno file"
   ]
  },
  {
   "cell_type": "markdown",
   "metadata": {},
   "source": [
    "### Merge behavioral variables with subtypes weights"
   ]
  },
  {
   "cell_type": "code",
   "execution_count": 2,
   "metadata": {
    "collapsed": false
   },
   "outputs": [],
   "source": [
    "# Import pandas\n",
    "import os\n",
    "import pandas as pd\n",
    "import numpy as np\n",
    "from IPython.display import display"
   ]
  },
  {
   "cell_type": "code",
   "execution_count": 3,
   "metadata": {
    "collapsed": true
   },
   "outputs": [],
   "source": [
    "# Set up the paths to the files we want to work with\n",
    "base_path = \"/home/yassinebha/Drive/HCP/subtypes_scores/26-10-2016/subtype_5_CovAge_MOTOR_RL_13-Dec-2016/networks/\"\n",
    "sbt_name_pattern = \"sbt_weights_net_{}.csv\"\n",
    "pheno_path = '/home/yassinebha/Drive/HCP/subtypes_scores/26-10-2016/pheno/'\n",
    "out_path = '/home/yassinebha/Drive/HCP/Solar_heritability/HCP_subtype/'\n",
    "solar_script = 'fcd_solar_h2r.sh'\n",
    "pheno_save = 'solar_motor_RL_pheno.csv'\n",
    "pedig_save = 'solar_motor_RL_pedigre.csv'\n",
    "solar_out = 'subtype_5_net6_motor_CovAge_EXP1a'\n",
    "solar_cov = '    cov FD_scrubbed Gender'"
   ]
  },
  {
   "cell_type": "code",
   "execution_count": 4,
   "metadata": {
    "collapsed": false
   },
   "outputs": [
    {
     "data": {
      "text/plain": [
       "['FRONTO_PARIETAL_RIGHT',\n",
       " 'MOTOR_AUDITORY',\n",
       " 'VISUAL',\n",
       " 'CEREBELLUM',\n",
       " 'LIMBIC',\n",
       " 'FRONTO_PARIETAL_LEFT']"
      ]
     },
     "execution_count": 4,
     "metadata": {},
     "output_type": "execute_result"
    }
   ],
   "source": [
    "# List of network names\n",
    "net_names = os.listdir(base_path)\n",
    "net_names"
   ]
  },
  {
   "cell_type": "code",
   "execution_count": 5,
   "metadata": {
    "collapsed": false
   },
   "outputs": [],
   "source": [
    "# Loop over each network and build weight file\n",
    "for index, net in enumerate(net_names):\n",
    "    file_path = os.path.join(base_path, net, sbt_name_pattern.format(net))\n",
    "    if not os.path.exists(file_path):\n",
    "        print(\"Hello, {} does not exist\".format(file_path))\n",
    "    \n",
    "    tmp_weights = pd.read_csv(file_path)\n",
    "    # Rename first column\n",
    "    tmp_weights.rename(columns={\" \":\"Subject\"}, inplace=True)\n",
    "    tmp_weights.Subject = tmp_weights.Subject.str.strip(\" \")\n",
    "    \n",
    "    rename_dict = dict()\n",
    "    for colname in tmp_weights.columns:\n",
    "        if colname == \"Subject\":\n",
    "            continue\n",
    "        else:\n",
    "            new_name = \"{}_{}\".format(net, colname)\n",
    "            # Get rid of trailing whitespace\n",
    "            new_name = new_name.strip(\" \")\n",
    "            rename_dict[colname] = new_name\n",
    "\n",
    "    tmp_weights.rename(columns=rename_dict, inplace=True)\n",
    "    \n",
    "    if index==0:\n",
    "        dataframe = tmp_weights\n",
    "    else:\n",
    "        dataframe = pd.merge(dataframe, tmp_weights, on=\"Subject\", how=\"inner\")"
   ]
  },
  {
   "cell_type": "code",
   "execution_count": 6,
   "metadata": {
    "collapsed": false
   },
   "outputs": [
    {
     "data": {
      "text/html": [
       "<div>\n",
       "<table border=\"1\" class=\"dataframe\">\n",
       "  <thead>\n",
       "    <tr style=\"text-align: right;\">\n",
       "      <th></th>\n",
       "      <th>Subject</th>\n",
       "      <th>FRONTO_PARIETAL_RIGHT_sub1</th>\n",
       "      <th>FRONTO_PARIETAL_RIGHT_sub2</th>\n",
       "      <th>FRONTO_PARIETAL_RIGHT_sub3</th>\n",
       "      <th>FRONTO_PARIETAL_RIGHT_sub4</th>\n",
       "      <th>FRONTO_PARIETAL_RIGHT_sub5</th>\n",
       "      <th>MOTOR_AUDITORY_sub1</th>\n",
       "      <th>MOTOR_AUDITORY_sub2</th>\n",
       "      <th>MOTOR_AUDITORY_sub3</th>\n",
       "      <th>MOTOR_AUDITORY_sub4</th>\n",
       "      <th>...</th>\n",
       "      <th>LIMBIC_sub1</th>\n",
       "      <th>LIMBIC_sub2</th>\n",
       "      <th>LIMBIC_sub3</th>\n",
       "      <th>LIMBIC_sub4</th>\n",
       "      <th>LIMBIC_sub5</th>\n",
       "      <th>FRONTO_PARIETAL_LEFT_sub1</th>\n",
       "      <th>FRONTO_PARIETAL_LEFT_sub2</th>\n",
       "      <th>FRONTO_PARIETAL_LEFT_sub3</th>\n",
       "      <th>FRONTO_PARIETAL_LEFT_sub4</th>\n",
       "      <th>FRONTO_PARIETAL_LEFT_sub5</th>\n",
       "    </tr>\n",
       "  </thead>\n",
       "  <tbody>\n",
       "    <tr>\n",
       "      <th>0</th>\n",
       "      <td>HCP100206</td>\n",
       "      <td>0.036</td>\n",
       "      <td>0.285</td>\n",
       "      <td>-0.048</td>\n",
       "      <td>0.137</td>\n",
       "      <td>-0.284</td>\n",
       "      <td>-0.058</td>\n",
       "      <td>-0.111</td>\n",
       "      <td>0.101</td>\n",
       "      <td>-0.031</td>\n",
       "      <td>...</td>\n",
       "      <td>-0.002</td>\n",
       "      <td>-0.064</td>\n",
       "      <td>-0.011</td>\n",
       "      <td>-0.004</td>\n",
       "      <td>0.061</td>\n",
       "      <td>-0.003</td>\n",
       "      <td>0.054</td>\n",
       "      <td>-0.190</td>\n",
       "      <td>-0.028</td>\n",
       "      <td>0.157</td>\n",
       "    </tr>\n",
       "    <tr>\n",
       "      <th>1</th>\n",
       "      <td>HCP100307</td>\n",
       "      <td>-0.305</td>\n",
       "      <td>-0.262</td>\n",
       "      <td>0.287</td>\n",
       "      <td>-0.054</td>\n",
       "      <td>0.150</td>\n",
       "      <td>0.042</td>\n",
       "      <td>0.277</td>\n",
       "      <td>-0.015</td>\n",
       "      <td>-0.127</td>\n",
       "      <td>...</td>\n",
       "      <td>-0.049</td>\n",
       "      <td>0.248</td>\n",
       "      <td>-0.154</td>\n",
       "      <td>-0.145</td>\n",
       "      <td>0.193</td>\n",
       "      <td>-0.307</td>\n",
       "      <td>0.123</td>\n",
       "      <td>0.160</td>\n",
       "      <td>-0.139</td>\n",
       "      <td>0.083</td>\n",
       "    </tr>\n",
       "    <tr>\n",
       "      <th>2</th>\n",
       "      <td>HCP100408</td>\n",
       "      <td>-0.176</td>\n",
       "      <td>-0.121</td>\n",
       "      <td>0.082</td>\n",
       "      <td>0.133</td>\n",
       "      <td>-0.005</td>\n",
       "      <td>-0.294</td>\n",
       "      <td>-0.134</td>\n",
       "      <td>0.495</td>\n",
       "      <td>-0.381</td>\n",
       "      <td>...</td>\n",
       "      <td>0.468</td>\n",
       "      <td>-0.133</td>\n",
       "      <td>0.159</td>\n",
       "      <td>-0.413</td>\n",
       "      <td>0.317</td>\n",
       "      <td>0.119</td>\n",
       "      <td>0.095</td>\n",
       "      <td>-0.142</td>\n",
       "      <td>-0.061</td>\n",
       "      <td>0.035</td>\n",
       "    </tr>\n",
       "    <tr>\n",
       "      <th>3</th>\n",
       "      <td>HCP100610</td>\n",
       "      <td>-0.343</td>\n",
       "      <td>-0.256</td>\n",
       "      <td>0.251</td>\n",
       "      <td>0.217</td>\n",
       "      <td>-0.025</td>\n",
       "      <td>-0.096</td>\n",
       "      <td>0.311</td>\n",
       "      <td>0.029</td>\n",
       "      <td>-0.117</td>\n",
       "      <td>...</td>\n",
       "      <td>-0.062</td>\n",
       "      <td>-0.028</td>\n",
       "      <td>-0.165</td>\n",
       "      <td>0.017</td>\n",
       "      <td>0.145</td>\n",
       "      <td>-0.247</td>\n",
       "      <td>0.261</td>\n",
       "      <td>-0.139</td>\n",
       "      <td>-0.346</td>\n",
       "      <td>0.432</td>\n",
       "    </tr>\n",
       "    <tr>\n",
       "      <th>4</th>\n",
       "      <td>HCP101006</td>\n",
       "      <td>0.310</td>\n",
       "      <td>0.112</td>\n",
       "      <td>-0.191</td>\n",
       "      <td>0.018</td>\n",
       "      <td>-0.086</td>\n",
       "      <td>0.137</td>\n",
       "      <td>-0.166</td>\n",
       "      <td>-0.023</td>\n",
       "      <td>0.038</td>\n",
       "      <td>...</td>\n",
       "      <td>-0.086</td>\n",
       "      <td>0.165</td>\n",
       "      <td>-0.048</td>\n",
       "      <td>-0.013</td>\n",
       "      <td>-0.003</td>\n",
       "      <td>-0.104</td>\n",
       "      <td>-0.153</td>\n",
       "      <td>0.120</td>\n",
       "      <td>0.067</td>\n",
       "      <td>0.028</td>\n",
       "    </tr>\n",
       "  </tbody>\n",
       "</table>\n",
       "<p>5 rows × 31 columns</p>\n",
       "</div>"
      ],
      "text/plain": [
       "     Subject  FRONTO_PARIETAL_RIGHT_sub1  FRONTO_PARIETAL_RIGHT_sub2  \\\n",
       "0  HCP100206                       0.036                       0.285   \n",
       "1  HCP100307                      -0.305                      -0.262   \n",
       "2  HCP100408                      -0.176                      -0.121   \n",
       "3  HCP100610                      -0.343                      -0.256   \n",
       "4  HCP101006                       0.310                       0.112   \n",
       "\n",
       "   FRONTO_PARIETAL_RIGHT_sub3  FRONTO_PARIETAL_RIGHT_sub4  \\\n",
       "0                      -0.048                       0.137   \n",
       "1                       0.287                      -0.054   \n",
       "2                       0.082                       0.133   \n",
       "3                       0.251                       0.217   \n",
       "4                      -0.191                       0.018   \n",
       "\n",
       "   FRONTO_PARIETAL_RIGHT_sub5  MOTOR_AUDITORY_sub1  MOTOR_AUDITORY_sub2  \\\n",
       "0                      -0.284               -0.058               -0.111   \n",
       "1                       0.150                0.042                0.277   \n",
       "2                      -0.005               -0.294               -0.134   \n",
       "3                      -0.025               -0.096                0.311   \n",
       "4                      -0.086                0.137               -0.166   \n",
       "\n",
       "   MOTOR_AUDITORY_sub3  MOTOR_AUDITORY_sub4            ...              \\\n",
       "0                0.101               -0.031            ...               \n",
       "1               -0.015               -0.127            ...               \n",
       "2                0.495               -0.381            ...               \n",
       "3                0.029               -0.117            ...               \n",
       "4               -0.023                0.038            ...               \n",
       "\n",
       "   LIMBIC_sub1  LIMBIC_sub2  LIMBIC_sub3  LIMBIC_sub4  LIMBIC_sub5  \\\n",
       "0       -0.002       -0.064       -0.011       -0.004        0.061   \n",
       "1       -0.049        0.248       -0.154       -0.145        0.193   \n",
       "2        0.468       -0.133        0.159       -0.413        0.317   \n",
       "3       -0.062       -0.028       -0.165        0.017        0.145   \n",
       "4       -0.086        0.165       -0.048       -0.013       -0.003   \n",
       "\n",
       "   FRONTO_PARIETAL_LEFT_sub1  FRONTO_PARIETAL_LEFT_sub2  \\\n",
       "0                     -0.003                      0.054   \n",
       "1                     -0.307                      0.123   \n",
       "2                      0.119                      0.095   \n",
       "3                     -0.247                      0.261   \n",
       "4                     -0.104                     -0.153   \n",
       "\n",
       "   FRONTO_PARIETAL_LEFT_sub3  FRONTO_PARIETAL_LEFT_sub4  \\\n",
       "0                     -0.190                     -0.028   \n",
       "1                      0.160                     -0.139   \n",
       "2                     -0.142                     -0.061   \n",
       "3                     -0.139                     -0.346   \n",
       "4                      0.120                      0.067   \n",
       "\n",
       "   FRONTO_PARIETAL_LEFT_sub5  \n",
       "0                      0.157  \n",
       "1                      0.083  \n",
       "2                      0.035  \n",
       "3                      0.432  \n",
       "4                      0.028  \n",
       "\n",
       "[5 rows x 31 columns]"
      ]
     },
     "execution_count": 6,
     "metadata": {},
     "output_type": "execute_result"
    }
   ],
   "source": [
    "dataframe.head()"
   ]
  },
  {
   "cell_type": "code",
   "execution_count": 7,
   "metadata": {
    "collapsed": false,
    "scrolled": true
   },
   "outputs": [
    {
     "data": {
      "text/plain": [
       "count           831\n",
       "unique          831\n",
       "top       HCP149539\n",
       "freq              1\n",
       "Name: Subject, dtype: object"
      ]
     },
     "execution_count": 7,
     "metadata": {},
     "output_type": "execute_result"
    }
   ],
   "source": [
    "dataframe.Subject.describe()"
   ]
  },
  {
   "cell_type": "code",
   "execution_count": 8,
   "metadata": {
    "collapsed": false
   },
   "outputs": [],
   "source": [
    "# Load pheno file\n",
    "file_weight = dataframe\n",
    "file_pheno = pd.read_csv(os.path.join(pheno_path,\"motor_RL_pheno_scrub_raw.csv\"))"
   ]
  },
  {
   "cell_type": "code",
   "execution_count": 9,
   "metadata": {
    "collapsed": false
   },
   "outputs": [
    {
     "data": {
      "text/html": [
       "<div>\n",
       "<table border=\"1\" class=\"dataframe\">\n",
       "  <thead>\n",
       "    <tr style=\"text-align: right;\">\n",
       "      <th></th>\n",
       "      <th>Subject</th>\n",
       "      <th>Age_in_Yrs</th>\n",
       "      <th>Twin_Stat</th>\n",
       "      <th>Zygosity</th>\n",
       "      <th>Mother_ID</th>\n",
       "      <th>Father_ID</th>\n",
       "      <th>Handedness</th>\n",
       "      <th>BMI</th>\n",
       "      <th>Gender</th>\n",
       "      <th>Endurance_Unadj</th>\n",
       "      <th>...</th>\n",
       "      <th>GaitSpeed_Comp</th>\n",
       "      <th>Dexterity_Unadj</th>\n",
       "      <th>Dexterity_AgeAdj</th>\n",
       "      <th>Strength_Unadj</th>\n",
       "      <th>Strength_AgeAdj</th>\n",
       "      <th>Odor_Unadj</th>\n",
       "      <th>PainInterf_Tscore</th>\n",
       "      <th>Taste_Unadj</th>\n",
       "      <th>FD</th>\n",
       "      <th>FD_scrubbed</th>\n",
       "    </tr>\n",
       "  </thead>\n",
       "  <tbody>\n",
       "    <tr>\n",
       "      <th>0</th>\n",
       "      <td>HCP100206</td>\n",
       "      <td>27</td>\n",
       "      <td>NotTwin</td>\n",
       "      <td>NotTwin</td>\n",
       "      <td>56037</td>\n",
       "      <td>85858.0</td>\n",
       "      <td>65</td>\n",
       "      <td>26.64</td>\n",
       "      <td>M</td>\n",
       "      <td>123.31</td>\n",
       "      <td>...</td>\n",
       "      <td>1.24</td>\n",
       "      <td>106.61</td>\n",
       "      <td>94.23</td>\n",
       "      <td>132.46</td>\n",
       "      <td>129.43</td>\n",
       "      <td>108.79</td>\n",
       "      <td>49.7</td>\n",
       "      <td>72.63</td>\n",
       "      <td>0.090883</td>\n",
       "      <td>0.090883</td>\n",
       "    </tr>\n",
       "    <tr>\n",
       "      <th>1</th>\n",
       "      <td>HCP100307</td>\n",
       "      <td>27</td>\n",
       "      <td>Twin</td>\n",
       "      <td>NotMZ</td>\n",
       "      <td>51488</td>\n",
       "      <td>81352.0</td>\n",
       "      <td>95</td>\n",
       "      <td>22.96</td>\n",
       "      <td>F</td>\n",
       "      <td>114.05</td>\n",
       "      <td>...</td>\n",
       "      <td>1.58</td>\n",
       "      <td>118.68</td>\n",
       "      <td>105.21</td>\n",
       "      <td>108.34</td>\n",
       "      <td>84.59</td>\n",
       "      <td>101.12</td>\n",
       "      <td>38.6</td>\n",
       "      <td>71.69</td>\n",
       "      <td>0.108998</td>\n",
       "      <td>0.108998</td>\n",
       "    </tr>\n",
       "    <tr>\n",
       "      <th>2</th>\n",
       "      <td>HCP100408</td>\n",
       "      <td>33</td>\n",
       "      <td>Twin</td>\n",
       "      <td>MZ</td>\n",
       "      <td>51730</td>\n",
       "      <td>81594.0</td>\n",
       "      <td>55</td>\n",
       "      <td>27.75</td>\n",
       "      <td>M</td>\n",
       "      <td>121.00</td>\n",
       "      <td>...</td>\n",
       "      <td>1.51</td>\n",
       "      <td>117.48</td>\n",
       "      <td>106.24</td>\n",
       "      <td>125.18</td>\n",
       "      <td>124.24</td>\n",
       "      <td>108.79</td>\n",
       "      <td>52.6</td>\n",
       "      <td>114.01</td>\n",
       "      <td>0.098323</td>\n",
       "      <td>0.098323</td>\n",
       "    </tr>\n",
       "    <tr>\n",
       "      <th>3</th>\n",
       "      <td>HCP100610</td>\n",
       "      <td>27</td>\n",
       "      <td>Twin</td>\n",
       "      <td>NotMZ</td>\n",
       "      <td>52813</td>\n",
       "      <td>82634.0</td>\n",
       "      <td>85</td>\n",
       "      <td>36.91</td>\n",
       "      <td>M</td>\n",
       "      <td>107.24</td>\n",
       "      <td>...</td>\n",
       "      <td>1.10</td>\n",
       "      <td>121.55</td>\n",
       "      <td>107.85</td>\n",
       "      <td>123.16</td>\n",
       "      <td>118.90</td>\n",
       "      <td>122.25</td>\n",
       "      <td>38.6</td>\n",
       "      <td>84.84</td>\n",
       "      <td>0.139763</td>\n",
       "      <td>0.137298</td>\n",
       "    </tr>\n",
       "    <tr>\n",
       "      <th>4</th>\n",
       "      <td>HCP101006</td>\n",
       "      <td>35</td>\n",
       "      <td>Twin</td>\n",
       "      <td>MZ</td>\n",
       "      <td>51283</td>\n",
       "      <td>81149.0</td>\n",
       "      <td>90</td>\n",
       "      <td>30.27</td>\n",
       "      <td>F</td>\n",
       "      <td>81.58</td>\n",
       "      <td>...</td>\n",
       "      <td>1.24</td>\n",
       "      <td>106.53</td>\n",
       "      <td>96.00</td>\n",
       "      <td>116.06</td>\n",
       "      <td>106.93</td>\n",
       "      <td>122.25</td>\n",
       "      <td>38.6</td>\n",
       "      <td>123.80</td>\n",
       "      <td>0.165364</td>\n",
       "      <td>0.138544</td>\n",
       "    </tr>\n",
       "  </tbody>\n",
       "</table>\n",
       "<p>5 rows × 21 columns</p>\n",
       "</div>"
      ],
      "text/plain": [
       "     Subject  Age_in_Yrs Twin_Stat Zygosity  Mother_ID  Father_ID  Handedness  \\\n",
       "0  HCP100206          27   NotTwin  NotTwin      56037    85858.0          65   \n",
       "1  HCP100307          27      Twin    NotMZ      51488    81352.0          95   \n",
       "2  HCP100408          33      Twin       MZ      51730    81594.0          55   \n",
       "3  HCP100610          27      Twin    NotMZ      52813    82634.0          85   \n",
       "4  HCP101006          35      Twin       MZ      51283    81149.0          90   \n",
       "\n",
       "     BMI Gender  Endurance_Unadj     ...       GaitSpeed_Comp  \\\n",
       "0  26.64      M           123.31     ...                 1.24   \n",
       "1  22.96      F           114.05     ...                 1.58   \n",
       "2  27.75      M           121.00     ...                 1.51   \n",
       "3  36.91      M           107.24     ...                 1.10   \n",
       "4  30.27      F            81.58     ...                 1.24   \n",
       "\n",
       "   Dexterity_Unadj  Dexterity_AgeAdj  Strength_Unadj  Strength_AgeAdj  \\\n",
       "0           106.61             94.23          132.46           129.43   \n",
       "1           118.68            105.21          108.34            84.59   \n",
       "2           117.48            106.24          125.18           124.24   \n",
       "3           121.55            107.85          123.16           118.90   \n",
       "4           106.53             96.00          116.06           106.93   \n",
       "\n",
       "   Odor_Unadj  PainInterf_Tscore  Taste_Unadj        FD  FD_scrubbed  \n",
       "0      108.79               49.7        72.63  0.090883     0.090883  \n",
       "1      101.12               38.6        71.69  0.108998     0.108998  \n",
       "2      108.79               52.6       114.01  0.098323     0.098323  \n",
       "3      122.25               38.6        84.84  0.139763     0.137298  \n",
       "4      122.25               38.6       123.80  0.165364     0.138544  \n",
       "\n",
       "[5 rows x 21 columns]"
      ]
     },
     "execution_count": 9,
     "metadata": {},
     "output_type": "execute_result"
    }
   ],
   "source": [
    "file_pheno.head()"
   ]
  },
  {
   "cell_type": "code",
   "execution_count": 10,
   "metadata": {
    "collapsed": false
   },
   "outputs": [
    {
     "data": {
      "text/plain": [
       "count           831\n",
       "unique          831\n",
       "top       HCP149539\n",
       "freq              1\n",
       "Name: Subject, dtype: object"
      ]
     },
     "execution_count": 10,
     "metadata": {},
     "output_type": "execute_result"
    }
   ],
   "source": [
    "file_pheno.Subject.describe()"
   ]
  },
  {
   "cell_type": "code",
   "execution_count": 11,
   "metadata": {
    "collapsed": false,
    "scrolled": true
   },
   "outputs": [
    {
     "data": {
      "text/html": [
       "<div>\n",
       "<table border=\"1\" class=\"dataframe\">\n",
       "  <thead>\n",
       "    <tr style=\"text-align: right;\">\n",
       "      <th></th>\n",
       "      <th>Subject</th>\n",
       "      <th>Age_in_Yrs</th>\n",
       "      <th>Handedness</th>\n",
       "      <th>Gender</th>\n",
       "      <th>BMI</th>\n",
       "      <th>FD</th>\n",
       "      <th>FD_scrubbed</th>\n",
       "    </tr>\n",
       "  </thead>\n",
       "  <tbody>\n",
       "    <tr>\n",
       "      <th>0</th>\n",
       "      <td>HCP100206</td>\n",
       "      <td>27</td>\n",
       "      <td>65</td>\n",
       "      <td>M</td>\n",
       "      <td>26.64</td>\n",
       "      <td>0.090883</td>\n",
       "      <td>0.090883</td>\n",
       "    </tr>\n",
       "    <tr>\n",
       "      <th>1</th>\n",
       "      <td>HCP100307</td>\n",
       "      <td>27</td>\n",
       "      <td>95</td>\n",
       "      <td>F</td>\n",
       "      <td>22.96</td>\n",
       "      <td>0.108998</td>\n",
       "      <td>0.108998</td>\n",
       "    </tr>\n",
       "    <tr>\n",
       "      <th>2</th>\n",
       "      <td>HCP100408</td>\n",
       "      <td>33</td>\n",
       "      <td>55</td>\n",
       "      <td>M</td>\n",
       "      <td>27.75</td>\n",
       "      <td>0.098323</td>\n",
       "      <td>0.098323</td>\n",
       "    </tr>\n",
       "    <tr>\n",
       "      <th>3</th>\n",
       "      <td>HCP100610</td>\n",
       "      <td>27</td>\n",
       "      <td>85</td>\n",
       "      <td>M</td>\n",
       "      <td>36.91</td>\n",
       "      <td>0.139763</td>\n",
       "      <td>0.137298</td>\n",
       "    </tr>\n",
       "    <tr>\n",
       "      <th>4</th>\n",
       "      <td>HCP101006</td>\n",
       "      <td>35</td>\n",
       "      <td>90</td>\n",
       "      <td>F</td>\n",
       "      <td>30.27</td>\n",
       "      <td>0.165364</td>\n",
       "      <td>0.138544</td>\n",
       "    </tr>\n",
       "  </tbody>\n",
       "</table>\n",
       "</div>"
      ],
      "text/plain": [
       "     Subject  Age_in_Yrs  Handedness Gender    BMI        FD  FD_scrubbed\n",
       "0  HCP100206          27          65      M  26.64  0.090883     0.090883\n",
       "1  HCP100307          27          95      F  22.96  0.108998     0.108998\n",
       "2  HCP100408          33          55      M  27.75  0.098323     0.098323\n",
       "3  HCP100610          27          85      M  36.91  0.139763     0.137298\n",
       "4  HCP101006          35          90      F  30.27  0.165364     0.138544"
      ]
     },
     "execution_count": 11,
     "metadata": {},
     "output_type": "execute_result"
    }
   ],
   "source": [
    "# Select a subset of variable\n",
    "file_pheno_subset = file_pheno[[\"Subject\",\"Age_in_Yrs\",\"Handedness\",\"Gender\",\"BMI\",\"FD\",\"FD_scrubbed\"]]\n",
    "file_pheno_subset.head()"
   ]
  },
  {
   "cell_type": "code",
   "execution_count": 12,
   "metadata": {
    "collapsed": false
   },
   "outputs": [
    {
     "name": "stderr",
     "output_type": "stream",
     "text": [
      "/usr/local/lib/python3.4/dist-packages/pandas/core/generic.py:3547: SettingWithCopyWarning: \n",
      "A value is trying to be set on a copy of a slice from a DataFrame\n",
      "\n",
      "See the caveats in the documentation: http://pandas.pydata.org/pandas-docs/stable/indexing.html#indexing-view-versus-copy\n",
      "  self._update_inplace(new_data)\n"
     ]
    },
    {
     "data": {
      "text/html": [
       "<div>\n",
       "<table border=\"1\" class=\"dataframe\">\n",
       "  <thead>\n",
       "    <tr style=\"text-align: right;\">\n",
       "      <th></th>\n",
       "      <th>Subject</th>\n",
       "      <th>Age_in_Yrs</th>\n",
       "      <th>Handedness</th>\n",
       "      <th>Gender</th>\n",
       "      <th>BMI</th>\n",
       "      <th>FD</th>\n",
       "      <th>FD_scrubbed</th>\n",
       "    </tr>\n",
       "  </thead>\n",
       "  <tbody>\n",
       "    <tr>\n",
       "      <th>0</th>\n",
       "      <td>HCP100206</td>\n",
       "      <td>27</td>\n",
       "      <td>65</td>\n",
       "      <td>1</td>\n",
       "      <td>26.64</td>\n",
       "      <td>0.090883</td>\n",
       "      <td>0.090883</td>\n",
       "    </tr>\n",
       "    <tr>\n",
       "      <th>1</th>\n",
       "      <td>HCP100307</td>\n",
       "      <td>27</td>\n",
       "      <td>95</td>\n",
       "      <td>2</td>\n",
       "      <td>22.96</td>\n",
       "      <td>0.108998</td>\n",
       "      <td>0.108998</td>\n",
       "    </tr>\n",
       "    <tr>\n",
       "      <th>2</th>\n",
       "      <td>HCP100408</td>\n",
       "      <td>33</td>\n",
       "      <td>55</td>\n",
       "      <td>1</td>\n",
       "      <td>27.75</td>\n",
       "      <td>0.098323</td>\n",
       "      <td>0.098323</td>\n",
       "    </tr>\n",
       "    <tr>\n",
       "      <th>3</th>\n",
       "      <td>HCP100610</td>\n",
       "      <td>27</td>\n",
       "      <td>85</td>\n",
       "      <td>1</td>\n",
       "      <td>36.91</td>\n",
       "      <td>0.139763</td>\n",
       "      <td>0.137298</td>\n",
       "    </tr>\n",
       "    <tr>\n",
       "      <th>4</th>\n",
       "      <td>HCP101006</td>\n",
       "      <td>35</td>\n",
       "      <td>90</td>\n",
       "      <td>2</td>\n",
       "      <td>30.27</td>\n",
       "      <td>0.165364</td>\n",
       "      <td>0.138544</td>\n",
       "    </tr>\n",
       "  </tbody>\n",
       "</table>\n",
       "</div>"
      ],
      "text/plain": [
       "     Subject  Age_in_Yrs  Handedness  Gender    BMI        FD  FD_scrubbed\n",
       "0  HCP100206          27          65       1  26.64  0.090883     0.090883\n",
       "1  HCP100307          27          95       2  22.96  0.108998     0.108998\n",
       "2  HCP100408          33          55       1  27.75  0.098323     0.098323\n",
       "3  HCP100610          27          85       1  36.91  0.139763     0.137298\n",
       "4  HCP101006          35          90       2  30.27  0.165364     0.138544"
      ]
     },
     "execution_count": 12,
     "metadata": {},
     "output_type": "execute_result"
    }
   ],
   "source": [
    "# Replace gender M=1 and F=2\n",
    "file_pheno_subset.Gender.replace({'M':1,'F':2}, inplace=True)\n",
    "file_pheno_subset.head()"
   ]
  },
  {
   "cell_type": "code",
   "execution_count": 13,
   "metadata": {
    "collapsed": false
   },
   "outputs": [
    {
     "data": {
      "text/html": [
       "<div>\n",
       "<table border=\"1\" class=\"dataframe\">\n",
       "  <thead>\n",
       "    <tr style=\"text-align: right;\">\n",
       "      <th></th>\n",
       "      <th>Subject</th>\n",
       "    </tr>\n",
       "  </thead>\n",
       "  <tbody>\n",
       "    <tr>\n",
       "      <th>count</th>\n",
       "      <td>831</td>\n",
       "    </tr>\n",
       "    <tr>\n",
       "      <th>unique</th>\n",
       "      <td>831</td>\n",
       "    </tr>\n",
       "    <tr>\n",
       "      <th>top</th>\n",
       "      <td>HCP149539</td>\n",
       "    </tr>\n",
       "    <tr>\n",
       "      <th>freq</th>\n",
       "      <td>1</td>\n",
       "    </tr>\n",
       "  </tbody>\n",
       "</table>\n",
       "</div>"
      ],
      "text/plain": [
       "          Subject\n",
       "count         831\n",
       "unique        831\n",
       "top     HCP149539\n",
       "freq            1"
      ]
     },
     "execution_count": 13,
     "metadata": {},
     "output_type": "execute_result"
    }
   ],
   "source": [
    "file_pheno_subset[[\"Subject\"]].describe()"
   ]
  },
  {
   "cell_type": "code",
   "execution_count": 14,
   "metadata": {
    "collapsed": false
   },
   "outputs": [
    {
     "data": {
      "text/html": [
       "<div>\n",
       "<table border=\"1\" class=\"dataframe\">\n",
       "  <thead>\n",
       "    <tr style=\"text-align: right;\">\n",
       "      <th></th>\n",
       "      <th>Subject</th>\n",
       "    </tr>\n",
       "  </thead>\n",
       "  <tbody>\n",
       "    <tr>\n",
       "      <th>count</th>\n",
       "      <td>831</td>\n",
       "    </tr>\n",
       "    <tr>\n",
       "      <th>unique</th>\n",
       "      <td>831</td>\n",
       "    </tr>\n",
       "    <tr>\n",
       "      <th>top</th>\n",
       "      <td>HCP149539</td>\n",
       "    </tr>\n",
       "    <tr>\n",
       "      <th>freq</th>\n",
       "      <td>1</td>\n",
       "    </tr>\n",
       "  </tbody>\n",
       "</table>\n",
       "</div>"
      ],
      "text/plain": [
       "          Subject\n",
       "count         831\n",
       "unique        831\n",
       "top     HCP149539\n",
       "freq            1"
      ]
     },
     "execution_count": 14,
     "metadata": {},
     "output_type": "execute_result"
    }
   ],
   "source": [
    "file_weight[[\"Subject\"]].describe()"
   ]
  },
  {
   "cell_type": "code",
   "execution_count": 15,
   "metadata": {
    "collapsed": false
   },
   "outputs": [
    {
     "data": {
      "text/html": [
       "<div>\n",
       "<table border=\"1\" class=\"dataframe\">\n",
       "  <thead>\n",
       "    <tr style=\"text-align: right;\">\n",
       "      <th></th>\n",
       "      <th>ID</th>\n",
       "      <th>FRONTO_PARIETAL_RIGHT_sub1</th>\n",
       "      <th>FRONTO_PARIETAL_RIGHT_sub2</th>\n",
       "      <th>FRONTO_PARIETAL_RIGHT_sub3</th>\n",
       "      <th>FRONTO_PARIETAL_RIGHT_sub4</th>\n",
       "      <th>FRONTO_PARIETAL_RIGHT_sub5</th>\n",
       "      <th>MOTOR_AUDITORY_sub1</th>\n",
       "      <th>MOTOR_AUDITORY_sub2</th>\n",
       "      <th>MOTOR_AUDITORY_sub3</th>\n",
       "      <th>MOTOR_AUDITORY_sub4</th>\n",
       "      <th>...</th>\n",
       "      <th>FRONTO_PARIETAL_LEFT_sub2</th>\n",
       "      <th>FRONTO_PARIETAL_LEFT_sub3</th>\n",
       "      <th>FRONTO_PARIETAL_LEFT_sub4</th>\n",
       "      <th>FRONTO_PARIETAL_LEFT_sub5</th>\n",
       "      <th>Age_in_Yrs</th>\n",
       "      <th>Handedness</th>\n",
       "      <th>Gender</th>\n",
       "      <th>BMI</th>\n",
       "      <th>FD</th>\n",
       "      <th>FD_scrubbed</th>\n",
       "    </tr>\n",
       "  </thead>\n",
       "  <tbody>\n",
       "    <tr>\n",
       "      <th>0</th>\n",
       "      <td>HCP100206</td>\n",
       "      <td>0.036</td>\n",
       "      <td>0.285</td>\n",
       "      <td>-0.048</td>\n",
       "      <td>0.137</td>\n",
       "      <td>-0.284</td>\n",
       "      <td>-0.058</td>\n",
       "      <td>-0.111</td>\n",
       "      <td>0.101</td>\n",
       "      <td>-0.031</td>\n",
       "      <td>...</td>\n",
       "      <td>0.054</td>\n",
       "      <td>-0.190</td>\n",
       "      <td>-0.028</td>\n",
       "      <td>0.157</td>\n",
       "      <td>27</td>\n",
       "      <td>65</td>\n",
       "      <td>1</td>\n",
       "      <td>26.64</td>\n",
       "      <td>0.090883</td>\n",
       "      <td>0.090883</td>\n",
       "    </tr>\n",
       "    <tr>\n",
       "      <th>1</th>\n",
       "      <td>HCP100307</td>\n",
       "      <td>-0.305</td>\n",
       "      <td>-0.262</td>\n",
       "      <td>0.287</td>\n",
       "      <td>-0.054</td>\n",
       "      <td>0.150</td>\n",
       "      <td>0.042</td>\n",
       "      <td>0.277</td>\n",
       "      <td>-0.015</td>\n",
       "      <td>-0.127</td>\n",
       "      <td>...</td>\n",
       "      <td>0.123</td>\n",
       "      <td>0.160</td>\n",
       "      <td>-0.139</td>\n",
       "      <td>0.083</td>\n",
       "      <td>27</td>\n",
       "      <td>95</td>\n",
       "      <td>2</td>\n",
       "      <td>22.96</td>\n",
       "      <td>0.108998</td>\n",
       "      <td>0.108998</td>\n",
       "    </tr>\n",
       "    <tr>\n",
       "      <th>2</th>\n",
       "      <td>HCP100408</td>\n",
       "      <td>-0.176</td>\n",
       "      <td>-0.121</td>\n",
       "      <td>0.082</td>\n",
       "      <td>0.133</td>\n",
       "      <td>-0.005</td>\n",
       "      <td>-0.294</td>\n",
       "      <td>-0.134</td>\n",
       "      <td>0.495</td>\n",
       "      <td>-0.381</td>\n",
       "      <td>...</td>\n",
       "      <td>0.095</td>\n",
       "      <td>-0.142</td>\n",
       "      <td>-0.061</td>\n",
       "      <td>0.035</td>\n",
       "      <td>33</td>\n",
       "      <td>55</td>\n",
       "      <td>1</td>\n",
       "      <td>27.75</td>\n",
       "      <td>0.098323</td>\n",
       "      <td>0.098323</td>\n",
       "    </tr>\n",
       "    <tr>\n",
       "      <th>3</th>\n",
       "      <td>HCP100610</td>\n",
       "      <td>-0.343</td>\n",
       "      <td>-0.256</td>\n",
       "      <td>0.251</td>\n",
       "      <td>0.217</td>\n",
       "      <td>-0.025</td>\n",
       "      <td>-0.096</td>\n",
       "      <td>0.311</td>\n",
       "      <td>0.029</td>\n",
       "      <td>-0.117</td>\n",
       "      <td>...</td>\n",
       "      <td>0.261</td>\n",
       "      <td>-0.139</td>\n",
       "      <td>-0.346</td>\n",
       "      <td>0.432</td>\n",
       "      <td>27</td>\n",
       "      <td>85</td>\n",
       "      <td>1</td>\n",
       "      <td>36.91</td>\n",
       "      <td>0.139763</td>\n",
       "      <td>0.137298</td>\n",
       "    </tr>\n",
       "    <tr>\n",
       "      <th>4</th>\n",
       "      <td>HCP101006</td>\n",
       "      <td>0.310</td>\n",
       "      <td>0.112</td>\n",
       "      <td>-0.191</td>\n",
       "      <td>0.018</td>\n",
       "      <td>-0.086</td>\n",
       "      <td>0.137</td>\n",
       "      <td>-0.166</td>\n",
       "      <td>-0.023</td>\n",
       "      <td>0.038</td>\n",
       "      <td>...</td>\n",
       "      <td>-0.153</td>\n",
       "      <td>0.120</td>\n",
       "      <td>0.067</td>\n",
       "      <td>0.028</td>\n",
       "      <td>35</td>\n",
       "      <td>90</td>\n",
       "      <td>2</td>\n",
       "      <td>30.27</td>\n",
       "      <td>0.165364</td>\n",
       "      <td>0.138544</td>\n",
       "    </tr>\n",
       "  </tbody>\n",
       "</table>\n",
       "<p>5 rows × 37 columns</p>\n",
       "</div>"
      ],
      "text/plain": [
       "          ID  FRONTO_PARIETAL_RIGHT_sub1  FRONTO_PARIETAL_RIGHT_sub2  \\\n",
       "0  HCP100206                       0.036                       0.285   \n",
       "1  HCP100307                      -0.305                      -0.262   \n",
       "2  HCP100408                      -0.176                      -0.121   \n",
       "3  HCP100610                      -0.343                      -0.256   \n",
       "4  HCP101006                       0.310                       0.112   \n",
       "\n",
       "   FRONTO_PARIETAL_RIGHT_sub3  FRONTO_PARIETAL_RIGHT_sub4  \\\n",
       "0                      -0.048                       0.137   \n",
       "1                       0.287                      -0.054   \n",
       "2                       0.082                       0.133   \n",
       "3                       0.251                       0.217   \n",
       "4                      -0.191                       0.018   \n",
       "\n",
       "   FRONTO_PARIETAL_RIGHT_sub5  MOTOR_AUDITORY_sub1  MOTOR_AUDITORY_sub2  \\\n",
       "0                      -0.284               -0.058               -0.111   \n",
       "1                       0.150                0.042                0.277   \n",
       "2                      -0.005               -0.294               -0.134   \n",
       "3                      -0.025               -0.096                0.311   \n",
       "4                      -0.086                0.137               -0.166   \n",
       "\n",
       "   MOTOR_AUDITORY_sub3  MOTOR_AUDITORY_sub4     ...       \\\n",
       "0                0.101               -0.031     ...        \n",
       "1               -0.015               -0.127     ...        \n",
       "2                0.495               -0.381     ...        \n",
       "3                0.029               -0.117     ...        \n",
       "4               -0.023                0.038     ...        \n",
       "\n",
       "   FRONTO_PARIETAL_LEFT_sub2  FRONTO_PARIETAL_LEFT_sub3  \\\n",
       "0                      0.054                     -0.190   \n",
       "1                      0.123                      0.160   \n",
       "2                      0.095                     -0.142   \n",
       "3                      0.261                     -0.139   \n",
       "4                     -0.153                      0.120   \n",
       "\n",
       "   FRONTO_PARIETAL_LEFT_sub4  FRONTO_PARIETAL_LEFT_sub5  Age_in_Yrs  \\\n",
       "0                     -0.028                      0.157          27   \n",
       "1                     -0.139                      0.083          27   \n",
       "2                     -0.061                      0.035          33   \n",
       "3                     -0.346                      0.432          27   \n",
       "4                      0.067                      0.028          35   \n",
       "\n",
       "   Handedness  Gender    BMI        FD  FD_scrubbed  \n",
       "0          65       1  26.64  0.090883     0.090883  \n",
       "1          95       2  22.96  0.108998     0.108998  \n",
       "2          55       1  27.75  0.098323     0.098323  \n",
       "3          85       1  36.91  0.139763     0.137298  \n",
       "4          90       2  30.27  0.165364     0.138544  \n",
       "\n",
       "[5 rows x 37 columns]"
      ]
     },
     "execution_count": 15,
     "metadata": {},
     "output_type": "execute_result"
    }
   ],
   "source": [
    "# Merge weight with subset of pheno variables\n",
    "merged_weight_pheno = pd.merge(file_weight, file_pheno_subset, on='Subject', how='left')\n",
    "# Replace 'Subject' by 'ID'\n",
    "merged_weight_pheno.rename(columns={'Subject':'ID'},inplace=True)\n",
    "merged_weight_pheno.head()"
   ]
  },
  {
   "cell_type": "code",
   "execution_count": 16,
   "metadata": {
    "collapsed": false
   },
   "outputs": [
    {
     "data": {
      "text/plain": [
       "count           831\n",
       "unique          831\n",
       "top       HCP149539\n",
       "freq              1\n",
       "Name: ID, dtype: object"
      ]
     },
     "execution_count": 16,
     "metadata": {},
     "output_type": "execute_result"
    }
   ],
   "source": [
    "merged_weight_pheno.ID.describe()"
   ]
  },
  {
   "cell_type": "code",
   "execution_count": 17,
   "metadata": {
    "collapsed": false
   },
   "outputs": [
    {
     "data": {
      "text/plain": [
       "1"
      ]
     },
     "execution_count": 17,
     "metadata": {},
     "output_type": "execute_result"
    }
   ],
   "source": [
    "# Check if there is empty value in BMI\n",
    "sum(merged_weight_pheno.BMI.isnull())"
   ]
  },
  {
   "cell_type": "code",
   "execution_count": 18,
   "metadata": {
    "collapsed": false
   },
   "outputs": [],
   "source": [
    "# Save the merged file\n",
    "merged_weight_pheno.to_csv(os.path.join(out_path,pheno_save), index=False)"
   ]
  },
  {
   "cell_type": "markdown",
   "metadata": {},
   "source": [
    "## Build trait file"
   ]
  },
  {
   "cell_type": "code",
   "execution_count": 19,
   "metadata": {
    "collapsed": false
   },
   "outputs": [
    {
     "data": {
      "text/plain": [
       "['FRONTO_PARIETAL_RIGHT_sub1',\n",
       " 'FRONTO_PARIETAL_RIGHT_sub2',\n",
       " 'FRONTO_PARIETAL_RIGHT_sub3',\n",
       " 'FRONTO_PARIETAL_RIGHT_sub4',\n",
       " 'FRONTO_PARIETAL_RIGHT_sub5',\n",
       " 'MOTOR_AUDITORY_sub1',\n",
       " 'MOTOR_AUDITORY_sub2',\n",
       " 'MOTOR_AUDITORY_sub3',\n",
       " 'MOTOR_AUDITORY_sub4',\n",
       " 'MOTOR_AUDITORY_sub5',\n",
       " 'VISUAL_sub1',\n",
       " 'VISUAL_sub2',\n",
       " 'VISUAL_sub3',\n",
       " 'VISUAL_sub4',\n",
       " 'VISUAL_sub5',\n",
       " 'CEREBELLUM_sub1',\n",
       " 'CEREBELLUM_sub2',\n",
       " 'CEREBELLUM_sub3',\n",
       " 'CEREBELLUM_sub4',\n",
       " 'CEREBELLUM_sub5',\n",
       " 'LIMBIC_sub1',\n",
       " 'LIMBIC_sub2',\n",
       " 'LIMBIC_sub3',\n",
       " 'LIMBIC_sub4',\n",
       " 'LIMBIC_sub5',\n",
       " 'FRONTO_PARIETAL_LEFT_sub1',\n",
       " 'FRONTO_PARIETAL_LEFT_sub2',\n",
       " 'FRONTO_PARIETAL_LEFT_sub3',\n",
       " 'FRONTO_PARIETAL_LEFT_sub4',\n",
       " 'FRONTO_PARIETAL_LEFT_sub5',\n",
       " 'Handedness',\n",
       " 'BMI',\n",
       " 'FD',\n",
       " 'FD_scrubbed']"
      ]
     },
     "execution_count": 19,
     "metadata": {},
     "output_type": "execute_result"
    }
   ],
   "source": [
    "## build trait file\n",
    "# Remove not neaded traits\n",
    "list_trait = merged_weight_pheno.columns.tolist()\n",
    "new_list = [trait for trait in list_trait if trait not in ['ID','Age_in_Yrs','Gender']]\n",
    "new_list"
   ]
  },
  {
   "cell_type": "code",
   "execution_count": 20,
   "metadata": {
    "collapsed": false
   },
   "outputs": [],
   "source": [
    "# Save trait file\n",
    "file_out = open(os.path.join(out_path,\"trait_file\"), 'w')\n",
    "for item in new_list:\n",
    "    file_out.write(\"%s\\n\" % item)\n",
    "file_out.close()"
   ]
  },
  {
   "cell_type": "markdown",
   "metadata": {
    "collapsed": false
   },
   "source": [
    "## Build Pedigree file"
   ]
  },
  {
   "cell_type": "code",
   "execution_count": 21,
   "metadata": {
    "collapsed": false
   },
   "outputs": [
    {
     "data": {
      "text/html": [
       "<div>\n",
       "<table border=\"1\" class=\"dataframe\">\n",
       "  <thead>\n",
       "    <tr style=\"text-align: right;\">\n",
       "      <th></th>\n",
       "      <th>Subject</th>\n",
       "      <th>Twin_Stat</th>\n",
       "      <th>Zygosity</th>\n",
       "      <th>Mother_ID</th>\n",
       "      <th>Gender</th>\n",
       "    </tr>\n",
       "  </thead>\n",
       "  <tbody>\n",
       "    <tr>\n",
       "      <th>0</th>\n",
       "      <td>HCP100206</td>\n",
       "      <td>NotTwin</td>\n",
       "      <td>NotTwin</td>\n",
       "      <td>56037</td>\n",
       "      <td>M</td>\n",
       "    </tr>\n",
       "    <tr>\n",
       "      <th>1</th>\n",
       "      <td>HCP100307</td>\n",
       "      <td>Twin</td>\n",
       "      <td>NotMZ</td>\n",
       "      <td>51488</td>\n",
       "      <td>F</td>\n",
       "    </tr>\n",
       "    <tr>\n",
       "      <th>2</th>\n",
       "      <td>HCP100408</td>\n",
       "      <td>Twin</td>\n",
       "      <td>MZ</td>\n",
       "      <td>51730</td>\n",
       "      <td>M</td>\n",
       "    </tr>\n",
       "    <tr>\n",
       "      <th>3</th>\n",
       "      <td>HCP100610</td>\n",
       "      <td>Twin</td>\n",
       "      <td>NotMZ</td>\n",
       "      <td>52813</td>\n",
       "      <td>M</td>\n",
       "    </tr>\n",
       "    <tr>\n",
       "      <th>4</th>\n",
       "      <td>HCP101006</td>\n",
       "      <td>Twin</td>\n",
       "      <td>MZ</td>\n",
       "      <td>51283</td>\n",
       "      <td>F</td>\n",
       "    </tr>\n",
       "  </tbody>\n",
       "</table>\n",
       "</div>"
      ],
      "text/plain": [
       "     Subject Twin_Stat Zygosity  Mother_ID Gender\n",
       "0  HCP100206   NotTwin  NotTwin      56037      M\n",
       "1  HCP100307      Twin    NotMZ      51488      F\n",
       "2  HCP100408      Twin       MZ      51730      M\n",
       "3  HCP100610      Twin    NotMZ      52813      M\n",
       "4  HCP101006      Twin       MZ      51283      F"
      ]
     },
     "execution_count": 21,
     "metadata": {},
     "output_type": "execute_result"
    }
   ],
   "source": [
    "# Select a subset of variable from pheno file\n",
    "file_pheno_pedig = file_pheno[[\"Subject\",\"Twin_Stat\",\"Zygosity\",\"Mother_ID\",\"Gender\"]]\n",
    "file_pheno_pedig.head()"
   ]
  },
  {
   "cell_type": "code",
   "execution_count": 22,
   "metadata": {
    "collapsed": false
   },
   "outputs": [
    {
     "data": {
      "text/plain": [
       "count           831\n",
       "unique          831\n",
       "top       HCP149539\n",
       "freq              1\n",
       "Name: Subject, dtype: object"
      ]
     },
     "execution_count": 22,
     "metadata": {},
     "output_type": "execute_result"
    }
   ],
   "source": [
    "file_pheno_pedig.Subject.describe()"
   ]
  },
  {
   "cell_type": "code",
   "execution_count": 23,
   "metadata": {
    "collapsed": false
   },
   "outputs": [],
   "source": [
    "# Build pedigre : ID , mo, fo, hhID, mztwins,sex\n",
    "mother_id = [\"mo_{}\".format(row.Mother_ID) for ind, row in file_pheno_pedig.iterrows()]\n",
    "father_id = [\"fa_{}\".format(row.Mother_ID) for ind, row in file_pheno_pedig.iterrows()]\n",
    "household_id = [\"hh_{}\".format(row.Mother_ID) for ind, row in file_pheno_pedig.iterrows()]\n",
    "twin_id = [\"pair_{}\".format(row.Mother_ID) if row.Zygosity == \"MZ\" else \"\" for ind, row in file_pheno_pedig.iterrows()]"
   ]
  },
  {
   "cell_type": "code",
   "execution_count": 24,
   "metadata": {
    "collapsed": false
   },
   "outputs": [
    {
     "name": "stdout",
     "output_type": "stream",
     "text": [
      "head\n"
     ]
    },
    {
     "data": {
      "text/html": [
       "<div>\n",
       "<table border=\"1\" class=\"dataframe\">\n",
       "  <thead>\n",
       "    <tr style=\"text-align: right;\">\n",
       "      <th></th>\n",
       "      <th>ID</th>\n",
       "      <th>fa</th>\n",
       "      <th>mo</th>\n",
       "      <th>sex</th>\n",
       "      <th>mztwin</th>\n",
       "      <th>hhID</th>\n",
       "    </tr>\n",
       "  </thead>\n",
       "  <tbody>\n",
       "    <tr>\n",
       "      <th>0</th>\n",
       "      <td>HCP100206</td>\n",
       "      <td>fa_56037</td>\n",
       "      <td>mo_56037</td>\n",
       "      <td>1</td>\n",
       "      <td></td>\n",
       "      <td>hh_56037</td>\n",
       "    </tr>\n",
       "    <tr>\n",
       "      <th>1</th>\n",
       "      <td>HCP100307</td>\n",
       "      <td>fa_51488</td>\n",
       "      <td>mo_51488</td>\n",
       "      <td>2</td>\n",
       "      <td></td>\n",
       "      <td>hh_51488</td>\n",
       "    </tr>\n",
       "    <tr>\n",
       "      <th>2</th>\n",
       "      <td>HCP100408</td>\n",
       "      <td>fa_51730</td>\n",
       "      <td>mo_51730</td>\n",
       "      <td>1</td>\n",
       "      <td>pair_51730</td>\n",
       "      <td>hh_51730</td>\n",
       "    </tr>\n",
       "    <tr>\n",
       "      <th>3</th>\n",
       "      <td>HCP100610</td>\n",
       "      <td>fa_52813</td>\n",
       "      <td>mo_52813</td>\n",
       "      <td>1</td>\n",
       "      <td></td>\n",
       "      <td>hh_52813</td>\n",
       "    </tr>\n",
       "    <tr>\n",
       "      <th>4</th>\n",
       "      <td>HCP101006</td>\n",
       "      <td>fa_51283</td>\n",
       "      <td>mo_51283</td>\n",
       "      <td>2</td>\n",
       "      <td>pair_51283</td>\n",
       "      <td>hh_51283</td>\n",
       "    </tr>\n",
       "  </tbody>\n",
       "</table>\n",
       "</div>"
      ],
      "text/plain": [
       "          ID        fa        mo  sex      mztwin      hhID\n",
       "0  HCP100206  fa_56037  mo_56037    1              hh_56037\n",
       "1  HCP100307  fa_51488  mo_51488    2              hh_51488\n",
       "2  HCP100408  fa_51730  mo_51730    1  pair_51730  hh_51730\n",
       "3  HCP100610  fa_52813  mo_52813    1              hh_52813\n",
       "4  HCP101006  fa_51283  mo_51283    2  pair_51283  hh_51283"
      ]
     },
     "metadata": {},
     "output_type": "display_data"
    },
    {
     "name": "stdout",
     "output_type": "stream",
     "text": [
      "tail\n"
     ]
    },
    {
     "data": {
      "text/html": [
       "<div>\n",
       "<table border=\"1\" class=\"dataframe\">\n",
       "  <thead>\n",
       "    <tr style=\"text-align: right;\">\n",
       "      <th></th>\n",
       "      <th>ID</th>\n",
       "      <th>fa</th>\n",
       "      <th>mo</th>\n",
       "      <th>sex</th>\n",
       "      <th>mztwin</th>\n",
       "      <th>hhID</th>\n",
       "    </tr>\n",
       "  </thead>\n",
       "  <tbody>\n",
       "    <tr>\n",
       "      <th>826</th>\n",
       "      <td>HCP992673</td>\n",
       "      <td>fa_56143</td>\n",
       "      <td>mo_56143</td>\n",
       "      <td>2</td>\n",
       "      <td></td>\n",
       "      <td>hh_56143</td>\n",
       "    </tr>\n",
       "    <tr>\n",
       "      <th>827</th>\n",
       "      <td>HCP992774</td>\n",
       "      <td>fa_51345</td>\n",
       "      <td>mo_51345</td>\n",
       "      <td>1</td>\n",
       "      <td></td>\n",
       "      <td>hh_51345</td>\n",
       "    </tr>\n",
       "    <tr>\n",
       "      <th>828</th>\n",
       "      <td>HCP993675</td>\n",
       "      <td>fa_55800</td>\n",
       "      <td>mo_55800</td>\n",
       "      <td>2</td>\n",
       "      <td></td>\n",
       "      <td>hh_55800</td>\n",
       "    </tr>\n",
       "    <tr>\n",
       "      <th>829</th>\n",
       "      <td>HCP994273</td>\n",
       "      <td>fa_52364</td>\n",
       "      <td>mo_52364</td>\n",
       "      <td>1</td>\n",
       "      <td></td>\n",
       "      <td>hh_52364</td>\n",
       "    </tr>\n",
       "    <tr>\n",
       "      <th>830</th>\n",
       "      <td>HCP996782</td>\n",
       "      <td>fa_51541</td>\n",
       "      <td>mo_51541</td>\n",
       "      <td>2</td>\n",
       "      <td></td>\n",
       "      <td>hh_51541</td>\n",
       "    </tr>\n",
       "  </tbody>\n",
       "</table>\n",
       "</div>"
      ],
      "text/plain": [
       "            ID        fa        mo  sex mztwin      hhID\n",
       "826  HCP992673  fa_56143  mo_56143    2         hh_56143\n",
       "827  HCP992774  fa_51345  mo_51345    1         hh_51345\n",
       "828  HCP993675  fa_55800  mo_55800    2         hh_55800\n",
       "829  HCP994273  fa_52364  mo_52364    1         hh_52364\n",
       "830  HCP996782  fa_51541  mo_51541    2         hh_51541"
      ]
     },
     "metadata": {},
     "output_type": "display_data"
    },
    {
     "data": {
      "text/plain": [
       "ID        831\n",
       "fa        831\n",
       "mo        831\n",
       "sex       831\n",
       "mztwin    831\n",
       "hhID      831\n",
       "dtype: int64"
      ]
     },
     "execution_count": 24,
     "metadata": {},
     "output_type": "execute_result"
    }
   ],
   "source": [
    "# write into new data frame\n",
    "df_pedig = pd.DataFrame()\n",
    "df_pedig[\"ID\"] = file_pheno_pedig.Subject\n",
    "df_pedig[\"fa\"] = father_id\n",
    "df_pedig[\"mo\"] = mother_id\n",
    "df_pedig[\"sex\"] = file_pheno_pedig.Gender.replace(to_replace={\"M\":1, \"F\":2})\n",
    "df_pedig[\"mztwin\"] = twin_id\n",
    "df_pedig[\"hhID\"] = household_id\n",
    "\n",
    "\n",
    "print(\"head\")\n",
    "display(df_pedig.head())\n",
    "print(\"tail\")\n",
    "display(df_pedig.tail())\n",
    "df_pedig.count()"
   ]
  },
  {
   "cell_type": "code",
   "execution_count": 25,
   "metadata": {
    "collapsed": false,
    "scrolled": false
   },
   "outputs": [],
   "source": [
    "# Look for MZ twins missing their co-twin\n",
    "uniques = list(df_pedig.mztwin.unique())\n",
    "uniques.pop(0)\n",
    "twin_counts = [np.sum(df_pedig.mztwin==twin) for twin in uniques]\n",
    "# for idx, twin in enumerate(uniques):\n",
    "#     print(\"{} occurs {} times\".format(twin, twin_counts[idx]))"
   ]
  },
  {
   "cell_type": "code",
   "execution_count": 26,
   "metadata": {
    "collapsed": true
   },
   "outputs": [],
   "source": [
    "# create a mask that will kepp only MZ twins missing their co-twin\n",
    "singles = [True if np.sum(df_pedig.mztwin==row.mztwin)==1 else False for ind, row in df_pedig.iterrows()]"
   ]
  },
  {
   "cell_type": "code",
   "execution_count": 27,
   "metadata": {
    "collapsed": true
   },
   "outputs": [],
   "source": [
    "# Make a copy of the pedigre to avoid missing up with the original data\n",
    "copy_df_pedig = df_pedig.copy()"
   ]
  },
  {
   "cell_type": "code",
   "execution_count": 28,
   "metadata": {
    "collapsed": false,
    "scrolled": true
   },
   "outputs": [
    {
     "data": {
      "text/html": [
       "<div>\n",
       "<table border=\"1\" class=\"dataframe\">\n",
       "  <thead>\n",
       "    <tr style=\"text-align: right;\">\n",
       "      <th></th>\n",
       "      <th>ID</th>\n",
       "      <th>fa</th>\n",
       "      <th>mo</th>\n",
       "      <th>sex</th>\n",
       "      <th>mztwin</th>\n",
       "      <th>hhID</th>\n",
       "    </tr>\n",
       "  </thead>\n",
       "  <tbody>\n",
       "    <tr>\n",
       "      <th>38</th>\n",
       "      <td>M_HCP110007</td>\n",
       "      <td>fa_54572</td>\n",
       "      <td>mo_54572</td>\n",
       "      <td>2</td>\n",
       "      <td>pair_54572</td>\n",
       "      <td>hh_54572</td>\n",
       "    </tr>\n",
       "    <tr>\n",
       "      <th>57</th>\n",
       "      <td>M_HCP114823</td>\n",
       "      <td>fa_52925</td>\n",
       "      <td>mo_52925</td>\n",
       "      <td>2</td>\n",
       "      <td>pair_52925</td>\n",
       "      <td>hh_52925</td>\n",
       "    </tr>\n",
       "    <tr>\n",
       "      <th>84</th>\n",
       "      <td>M_HCP121820</td>\n",
       "      <td>fa_51421</td>\n",
       "      <td>mo_51421</td>\n",
       "      <td>2</td>\n",
       "      <td>pair_51421</td>\n",
       "      <td>hh_51421</td>\n",
       "    </tr>\n",
       "    <tr>\n",
       "      <th>86</th>\n",
       "      <td>M_HCP122317</td>\n",
       "      <td>fa_51802</td>\n",
       "      <td>mo_51802</td>\n",
       "      <td>1</td>\n",
       "      <td>pair_51802</td>\n",
       "      <td>hh_51802</td>\n",
       "    </tr>\n",
       "    <tr>\n",
       "      <th>91</th>\n",
       "      <td>M_HCP123824</td>\n",
       "      <td>fa_56022</td>\n",
       "      <td>mo_56022</td>\n",
       "      <td>1</td>\n",
       "      <td>pair_56022</td>\n",
       "      <td>hh_56022</td>\n",
       "    </tr>\n",
       "  </tbody>\n",
       "</table>\n",
       "</div>"
      ],
      "text/plain": [
       "             ID        fa        mo  sex      mztwin      hhID\n",
       "38  M_HCP110007  fa_54572  mo_54572    2  pair_54572  hh_54572\n",
       "57  M_HCP114823  fa_52925  mo_52925    2  pair_52925  hh_52925\n",
       "84  M_HCP121820  fa_51421  mo_51421    2  pair_51421  hh_51421\n",
       "86  M_HCP122317  fa_51802  mo_51802    1  pair_51802  hh_51802\n",
       "91  M_HCP123824  fa_56022  mo_56022    1  pair_56022  hh_56022"
      ]
     },
     "metadata": {},
     "output_type": "display_data"
    },
    {
     "data": {
      "text/plain": [
       "ID        34\n",
       "fa        34\n",
       "mo        34\n",
       "sex       34\n",
       "mztwin    34\n",
       "hhID      34\n",
       "dtype: int64"
      ]
     },
     "execution_count": 28,
     "metadata": {},
     "output_type": "execute_result"
    }
   ],
   "source": [
    "# Select only MZ twins missing their co-twin\n",
    "df_single_pedig = copy_df_pedig[singles]\n",
    "\n",
    "# Add \"M_\" (for missing) to a the single MZ twins\n",
    "for i, row in df_single_pedig.iterrows():\n",
    "    df_single_pedig.set_value(i,\"ID\",\"M_{}\".format(row.ID))\n",
    "display(df_single_pedig.head())\n",
    "df_single_pedig.count()"
   ]
  },
  {
   "cell_type": "code",
   "execution_count": 29,
   "metadata": {
    "collapsed": false,
    "scrolled": true
   },
   "outputs": [
    {
     "data": {
      "text/html": [
       "<div>\n",
       "<table border=\"1\" class=\"dataframe\">\n",
       "  <thead>\n",
       "    <tr style=\"text-align: right;\">\n",
       "      <th></th>\n",
       "      <th>ID</th>\n",
       "      <th>fa</th>\n",
       "      <th>mo</th>\n",
       "      <th>sex</th>\n",
       "      <th>mztwin</th>\n",
       "      <th>hhID</th>\n",
       "    </tr>\n",
       "  </thead>\n",
       "  <tbody>\n",
       "    <tr>\n",
       "      <th>0</th>\n",
       "      <td>HCP100206</td>\n",
       "      <td>fa_56037</td>\n",
       "      <td>mo_56037</td>\n",
       "      <td>1</td>\n",
       "      <td></td>\n",
       "      <td>hh_56037</td>\n",
       "    </tr>\n",
       "    <tr>\n",
       "      <th>1</th>\n",
       "      <td>HCP100307</td>\n",
       "      <td>fa_51488</td>\n",
       "      <td>mo_51488</td>\n",
       "      <td>2</td>\n",
       "      <td></td>\n",
       "      <td>hh_51488</td>\n",
       "    </tr>\n",
       "    <tr>\n",
       "      <th>2</th>\n",
       "      <td>HCP100408</td>\n",
       "      <td>fa_51730</td>\n",
       "      <td>mo_51730</td>\n",
       "      <td>1</td>\n",
       "      <td>pair_51730</td>\n",
       "      <td>hh_51730</td>\n",
       "    </tr>\n",
       "    <tr>\n",
       "      <th>3</th>\n",
       "      <td>HCP100610</td>\n",
       "      <td>fa_52813</td>\n",
       "      <td>mo_52813</td>\n",
       "      <td>1</td>\n",
       "      <td></td>\n",
       "      <td>hh_52813</td>\n",
       "    </tr>\n",
       "    <tr>\n",
       "      <th>4</th>\n",
       "      <td>HCP101006</td>\n",
       "      <td>fa_51283</td>\n",
       "      <td>mo_51283</td>\n",
       "      <td>2</td>\n",
       "      <td>pair_51283</td>\n",
       "      <td>hh_51283</td>\n",
       "    </tr>\n",
       "  </tbody>\n",
       "</table>\n",
       "</div>"
      ],
      "text/plain": [
       "          ID        fa        mo  sex      mztwin      hhID\n",
       "0  HCP100206  fa_56037  mo_56037    1              hh_56037\n",
       "1  HCP100307  fa_51488  mo_51488    2              hh_51488\n",
       "2  HCP100408  fa_51730  mo_51730    1  pair_51730  hh_51730\n",
       "3  HCP100610  fa_52813  mo_52813    1              hh_52813\n",
       "4  HCP101006  fa_51283  mo_51283    2  pair_51283  hh_51283"
      ]
     },
     "execution_count": 29,
     "metadata": {},
     "output_type": "execute_result"
    }
   ],
   "source": [
    "# Append pedgree with fake co-twin for the missing one\n",
    "df_pedig_final = copy_df_pedig.append(df_single_pedig)\n",
    "df_pedig_final.head()"
   ]
  },
  {
   "cell_type": "code",
   "execution_count": 30,
   "metadata": {
    "collapsed": false,
    "scrolled": true
   },
   "outputs": [
    {
     "data": {
      "text/html": [
       "<div>\n",
       "<table border=\"1\" class=\"dataframe\">\n",
       "  <thead>\n",
       "    <tr style=\"text-align: right;\">\n",
       "      <th></th>\n",
       "      <th>ID</th>\n",
       "      <th>fa</th>\n",
       "      <th>mo</th>\n",
       "      <th>sex</th>\n",
       "      <th>mztwin</th>\n",
       "      <th>hhID</th>\n",
       "    </tr>\n",
       "  </thead>\n",
       "  <tbody>\n",
       "    <tr>\n",
       "      <th>696</th>\n",
       "      <td>M_HCP727553</td>\n",
       "      <td>fa_51561</td>\n",
       "      <td>mo_51561</td>\n",
       "      <td>2</td>\n",
       "      <td>pair_51561</td>\n",
       "      <td>hh_51561</td>\n",
       "    </tr>\n",
       "    <tr>\n",
       "      <th>722</th>\n",
       "      <td>M_HCP769064</td>\n",
       "      <td>fa_52803</td>\n",
       "      <td>mo_52803</td>\n",
       "      <td>1</td>\n",
       "      <td>pair_52803</td>\n",
       "      <td>hh_52803</td>\n",
       "    </tr>\n",
       "    <tr>\n",
       "      <th>748</th>\n",
       "      <td>M_HCP835657</td>\n",
       "      <td>fa_52137</td>\n",
       "      <td>mo_52137</td>\n",
       "      <td>2</td>\n",
       "      <td>pair_52137</td>\n",
       "      <td>hh_52137</td>\n",
       "    </tr>\n",
       "    <tr>\n",
       "      <th>792</th>\n",
       "      <td>M_HCP904044</td>\n",
       "      <td>fa_51290</td>\n",
       "      <td>mo_51290</td>\n",
       "      <td>2</td>\n",
       "      <td>pair_51290</td>\n",
       "      <td>hh_51290</td>\n",
       "    </tr>\n",
       "    <tr>\n",
       "      <th>818</th>\n",
       "      <td>M_HCP972566</td>\n",
       "      <td>fa_56077</td>\n",
       "      <td>mo_56077</td>\n",
       "      <td>2</td>\n",
       "      <td>pair_56077</td>\n",
       "      <td>hh_56077</td>\n",
       "    </tr>\n",
       "  </tbody>\n",
       "</table>\n",
       "</div>"
      ],
      "text/plain": [
       "              ID        fa        mo  sex      mztwin      hhID\n",
       "696  M_HCP727553  fa_51561  mo_51561    2  pair_51561  hh_51561\n",
       "722  M_HCP769064  fa_52803  mo_52803    1  pair_52803  hh_52803\n",
       "748  M_HCP835657  fa_52137  mo_52137    2  pair_52137  hh_52137\n",
       "792  M_HCP904044  fa_51290  mo_51290    2  pair_51290  hh_51290\n",
       "818  M_HCP972566  fa_56077  mo_56077    2  pair_56077  hh_56077"
      ]
     },
     "execution_count": 30,
     "metadata": {},
     "output_type": "execute_result"
    }
   ],
   "source": [
    "df_pedig_final.tail()"
   ]
  },
  {
   "cell_type": "code",
   "execution_count": 31,
   "metadata": {
    "collapsed": false
   },
   "outputs": [
    {
     "data": {
      "text/plain": [
       "ID        865\n",
       "fa        865\n",
       "mo        865\n",
       "sex       865\n",
       "mztwin    865\n",
       "hhID      865\n",
       "dtype: int64"
      ]
     },
     "execution_count": 31,
     "metadata": {},
     "output_type": "execute_result"
    }
   ],
   "source": [
    "df_pedig_final.count()"
   ]
  },
  {
   "cell_type": "code",
   "execution_count": 32,
   "metadata": {
    "collapsed": true
   },
   "outputs": [],
   "source": [
    "# Save the pedigree file\n",
    "df_pedig_final.to_csv(os.path.join(out_path,pedig_save), index=False)"
   ]
  },
  {
   "cell_type": "code",
   "execution_count": 33,
   "metadata": {
    "collapsed": true
   },
   "outputs": [],
   "source": [
    "import sys\n",
    "\n",
    "def query_yes_no(question, default=\"yes\"):\n",
    "    \"\"\"Ask a yes/no question via input() and return their answer.\n",
    "\n",
    "    \"question\" is a string that is presented to the user.\n",
    "    \"default\" is the presumed answer if the user just hits <Enter>.\n",
    "        It must be \"yes\" (the default), \"no\" or None (meaning\n",
    "        an answer is required of the user).\n",
    "\n",
    "    The \"answer\" return value is True for \"yes\" or False for \"no\".\n",
    "    \"\"\"\n",
    "    valid = {\"yes\": True, \"y\": True, \"ye\": True,\n",
    "             \"no\": False, \"n\": False}\n",
    "    if default is None:\n",
    "        prompt = \" [y/n] \"\n",
    "    elif default == \"yes\":\n",
    "        prompt = \" [Y/n] \"\n",
    "    elif default == \"no\":\n",
    "        prompt = \" [y/N] \"\n",
    "    else:\n",
    "        raise ValueError(\"invalid default answer: '%s'\" % default)\n",
    "\n",
    "    while True:\n",
    "        sys.stdout.write(question + prompt)\n",
    "        choice = input().lower()\n",
    "        if default is not None and choice == '':\n",
    "            return valid[default]\n",
    "        elif choice in valid:\n",
    "            return valid[choice]\n",
    "        else:\n",
    "            sys.stdout.write(\"Please respond with 'yes' or 'no' \"\n",
    "                             \"(or 'y' or 'n').\\n\")\n",
    "    return choice"
   ]
  },
  {
   "cell_type": "markdown",
   "metadata": {
    "collapsed": false
   },
   "source": [
    "## Run SOLAR heritability estimate "
   ]
  },
  {
   "cell_type": "code",
   "execution_count": 34,
   "metadata": {
    "collapsed": false,
    "scrolled": true
   },
   "outputs": [
    {
     "name": "stdout",
     "output_type": "stream",
     "text": [
      "HALT, you are about to run heritability pipline, would you like to continue? [Y/n] \n"
     ]
    },
    {
     "data": {
      "text/plain": [
       "True"
      ]
     },
     "execution_count": 34,
     "metadata": {},
     "output_type": "execute_result"
    }
   ],
   "source": [
    "query_yes_no('HALT, you are about to run heritability pipline, would you like to continue?')"
   ]
  },
  {
   "cell_type": "code",
   "execution_count": 35,
   "metadata": {
    "collapsed": false
   },
   "outputs": [],
   "source": [
    "%%bash -s \"$out_path\" \"$solar_cov\" \"$solar_script\"\n",
    "cd $1\n",
    "sufix=$(echo $2 | sed -e 's/ /_/g')\n",
    "sed -i \"104s/.*/$2/\" $3"
   ]
  },
  {
   "cell_type": "code",
   "execution_count": 36,
   "metadata": {
    "collapsed": false
   },
   "outputs": [
    {
     "name": "stdout",
     "output_type": "stream",
     "text": [
      "\n",
      "SOLAR Eclipse version 8.1.1 (General), last updated on December 10, 2016\n",
      "Copyright (c) 1995-2016 Texas Biomedical Research Institute\n",
      "Enter help for help, exit to exit, doc to browse documentation.\n",
      "\n",
      "Unloading current pedigree data ...\n",
      "Loading pedigree data from the file solar_motor_RL_pedigre.csv ...\n",
      "Running mibd relate ...                                                 \r",
      "Reading classes.tab ...                                                 \r",
      "Reading mibdrel.ped ...                                                 \r",
      "Writing output file ...                                                 \r",
      "                                                                        \r",
      "::::::::::::::\n",
      "mibdrel.tab\n",
      "::::::::::::::\n",
      "\n",
      "    NPairs  Relationship\n",
      "  ========  ===========================================\n",
      "      1611  Self\n",
      "       118  Identical sib pair\n",
      "      1730  Parent-offspring\n",
      "       618  Siblings\n",
      "       373  Unrelated\n",
      "\n"
     ]
    }
   ],
   "source": [
    "%%bash -s \"$out_path\" \"$pedig_save\"\n",
    "cd $1\n",
    "solar <<INTERNAL_SOLAR_SCRIPT  \n",
    "load pedi $2\n",
    "pedigree classes -full\n",
    "INTERNAL_SOLAR_SCRIPT"
   ]
  },
  {
   "cell_type": "code",
   "execution_count": 37,
   "metadata": {
    "collapsed": false
   },
   "outputs": [
    {
     "name": "stdout",
     "output_type": "stream",
     "text": [
      "\n",
      "SOLAR Eclipse version 8.1.1 (General), last updated on December 10, 2016\n",
      "Copyright (c) 1995-2016 Texas Biomedical Research Institute\n",
      "Enter help for help, exit to exit, doc to browse documentation.\n",
      "\n",
      "Creating output directories...\n",
      "00000 : Set-0 : FRONTO_PARIETAL_RIGHT_sub1                                                  \r",
      "00001 : Set-1 : FRONTO_PARIETAL_RIGHT_sub2                                                  \r",
      "00002 : Set-2 : FRONTO_PARIETAL_RIGHT_sub3                                                  \r",
      "00003 : Set-3 : FRONTO_PARIETAL_RIGHT_sub4                                                  \r",
      "00004 : Set-4 : FRONTO_PARIETAL_RIGHT_sub5                                                  \r",
      "00005 : Set-5 : MOTOR_AUDITORY_sub1                                                  \r",
      "00006 : Set-6 : MOTOR_AUDITORY_sub2                                                  \r",
      "00007 : Set-7 : MOTOR_AUDITORY_sub3                                                  \r",
      "00008 : Set-8 : MOTOR_AUDITORY_sub4                                                  \r",
      "00009 : Set-9 : MOTOR_AUDITORY_sub5                                                  \r",
      "00010 : Set-10 : VISUAL_sub1                                                  \r",
      "00011 : Set-11 : VISUAL_sub2                                                  \r",
      "00012 : Set-12 : VISUAL_sub3                                                  \r",
      "00013 : Set-13 : VISUAL_sub4                                                  \r",
      "00014 : Set-14 : VISUAL_sub5                                                  \r",
      "00015 : Set-15 : CEREBELLUM_sub1                                                  \r",
      "00016 : Set-16 : CEREBELLUM_sub2                                                  \r",
      "00017 : Set-17 : CEREBELLUM_sub3                                                  \r",
      "00018 : Set-18 : CEREBELLUM_sub4                                                  \r",
      "00019 : Set-19 : CEREBELLUM_sub5                                                  \r",
      "00020 : Set-20 : LIMBIC_sub1                                                  \r",
      "00021 : Set-21 : LIMBIC_sub2                                                  \r",
      "00022 : Set-22 : LIMBIC_sub3                                                  \r",
      "00023 : Set-23 : LIMBIC_sub4                                                  \r",
      "00024 : Set-24 : LIMBIC_sub5                                                  \r",
      "00025 : Set-25 : FRONTO_PARIETAL_LEFT_sub1                                                  \r",
      "00026 : Set-26 : FRONTO_PARIETAL_LEFT_sub2                                                  \r",
      "00027 : Set-27 : FRONTO_PARIETAL_LEFT_sub3                                                  \r",
      "00028 : Set-28 : FRONTO_PARIETAL_LEFT_sub4                                                  \r",
      "00029 : Set-29 : FRONTO_PARIETAL_LEFT_sub5                                                  \r",
      "00030 : Set-30 : Handedness                                                  \r",
      "00031 : Set-31 : BMI                                                  \r",
      "00032 : Set-32 : FD                                                  \r",
      "00033 : Set-33 : FD_scrubbed                                                  \r\n",
      "All done.\n"
     ]
    }
   ],
   "source": [
    "%%bash -s \"$out_path\" \"$pheno_save\" \"$solar_out\"\n",
    "cd $1\n",
    "solar <<INTERNAL_SOLAR_SCRIPT \n",
    "load pheno $2\n",
    "INTERNAL_SOLAR_SCRIPT\n",
    "bash fcd_solar_h2r.sh trait_file $3\n",
    "for i in $3/Set-*; do bash $i/run_all.sh ; done"
   ]
  },
  {
   "cell_type": "markdown",
   "metadata": {},
   "source": [
    "## Results"
   ]
  },
  {
   "cell_type": "code",
   "execution_count": 38,
   "metadata": {
    "collapsed": false
   },
   "outputs": [
    {
     "data": {
      "text/html": [
       "<div>\n",
       "<table border=\"1\" class=\"dataframe\">\n",
       "  <thead>\n",
       "    <tr style=\"text-align: right;\">\n",
       "      <th></th>\n",
       "      <th>Trait</th>\n",
       "      <th>H2r</th>\n",
       "      <th>P</th>\n",
       "      <th>CovVarianceExpl</th>\n",
       "    </tr>\n",
       "  </thead>\n",
       "  <tbody>\n",
       "    <tr>\n",
       "      <th>24</th>\n",
       "      <td>BMI_norm</td>\n",
       "      <td>0.566090</td>\n",
       "      <td>5.207304e-16</td>\n",
       "      <td>0.371124</td>\n",
       "    </tr>\n",
       "    <tr>\n",
       "      <th>7</th>\n",
       "      <td>CEREBELLUM_sub1_norm</td>\n",
       "      <td>0.181715</td>\n",
       "      <td>5.091200e-03</td>\n",
       "      <td>0.020837</td>\n",
       "    </tr>\n",
       "    <tr>\n",
       "      <th>8</th>\n",
       "      <td>CEREBELLUM_sub2_norm</td>\n",
       "      <td>0.185447</td>\n",
       "      <td>1.984200e-03</td>\n",
       "      <td>0.067195</td>\n",
       "    </tr>\n",
       "    <tr>\n",
       "      <th>9</th>\n",
       "      <td>CEREBELLUM_sub3_norm</td>\n",
       "      <td>0.192956</td>\n",
       "      <td>1.463600e-03</td>\n",
       "      <td>0.030970</td>\n",
       "    </tr>\n",
       "    <tr>\n",
       "      <th>10</th>\n",
       "      <td>CEREBELLUM_sub4_norm</td>\n",
       "      <td>0.208772</td>\n",
       "      <td>1.240000e-03</td>\n",
       "      <td>0.001985</td>\n",
       "    </tr>\n",
       "    <tr>\n",
       "      <th>11</th>\n",
       "      <td>CEREBELLUM_sub5_norm</td>\n",
       "      <td>0.189253</td>\n",
       "      <td>1.443800e-03</td>\n",
       "      <td>0.019238</td>\n",
       "    </tr>\n",
       "    <tr>\n",
       "      <th>25</th>\n",
       "      <td>FD_norm</td>\n",
       "      <td>0.223947</td>\n",
       "      <td>1.982000e-03</td>\n",
       "      <td>0.802927</td>\n",
       "    </tr>\n",
       "    <tr>\n",
       "      <th>26</th>\n",
       "      <td>FD_scrubbed_norm</td>\n",
       "      <td>0.074722</td>\n",
       "      <td>1.552013e-01</td>\n",
       "      <td>0.948921</td>\n",
       "    </tr>\n",
       "    <tr>\n",
       "      <th>18</th>\n",
       "      <td>FRONTO_PARIETAL_LEFT_sub1_norm</td>\n",
       "      <td>0.223331</td>\n",
       "      <td>4.638000e-04</td>\n",
       "      <td>0.064741</td>\n",
       "    </tr>\n",
       "    <tr>\n",
       "      <th>19</th>\n",
       "      <td>FRONTO_PARIETAL_LEFT_sub2_norm</td>\n",
       "      <td>0.203341</td>\n",
       "      <td>1.800000e-03</td>\n",
       "      <td>0.001521</td>\n",
       "    </tr>\n",
       "    <tr>\n",
       "      <th>20</th>\n",
       "      <td>FRONTO_PARIETAL_LEFT_sub3_norm</td>\n",
       "      <td>0.100018</td>\n",
       "      <td>7.779170e-02</td>\n",
       "      <td>0.113624</td>\n",
       "    </tr>\n",
       "    <tr>\n",
       "      <th>21</th>\n",
       "      <td>FRONTO_PARIETAL_LEFT_sub4_norm</td>\n",
       "      <td>0.226893</td>\n",
       "      <td>4.557000e-04</td>\n",
       "      <td>0.001519</td>\n",
       "    </tr>\n",
       "    <tr>\n",
       "      <th>22</th>\n",
       "      <td>FRONTO_PARIETAL_LEFT_sub5_norm</td>\n",
       "      <td>0.150871</td>\n",
       "      <td>1.383910e-02</td>\n",
       "      <td>0.043791</td>\n",
       "    </tr>\n",
       "    <tr>\n",
       "      <th>0</th>\n",
       "      <td>FRONTO_PARIETAL_RIGHT_sub1_norm</td>\n",
       "      <td>0.115130</td>\n",
       "      <td>4.413050e-02</td>\n",
       "      <td>0.003791</td>\n",
       "    </tr>\n",
       "    <tr>\n",
       "      <th>1</th>\n",
       "      <td>FRONTO_PARIETAL_RIGHT_sub2_norm</td>\n",
       "      <td>0.350960</td>\n",
       "      <td>3.100000e-06</td>\n",
       "      <td>0.039091</td>\n",
       "    </tr>\n",
       "    <tr>\n",
       "      <th>12</th>\n",
       "      <td>FRONTO_PARIETAL_RIGHT_sub3_norm</td>\n",
       "      <td>0.162879</td>\n",
       "      <td>7.761800e-03</td>\n",
       "      <td>0.003891</td>\n",
       "    </tr>\n",
       "    <tr>\n",
       "      <th>23</th>\n",
       "      <td>FRONTO_PARIETAL_RIGHT_sub4_norm</td>\n",
       "      <td>0.201562</td>\n",
       "      <td>1.436800e-03</td>\n",
       "      <td>0.127037</td>\n",
       "    </tr>\n",
       "    <tr>\n",
       "      <th>27</th>\n",
       "      <td>FRONTO_PARIETAL_RIGHT_sub5_norm</td>\n",
       "      <td>0.195319</td>\n",
       "      <td>1.733200e-03</td>\n",
       "      <td>0.152787</td>\n",
       "    </tr>\n",
       "    <tr>\n",
       "      <th>13</th>\n",
       "      <td>LIMBIC_sub1_norm</td>\n",
       "      <td>0.147040</td>\n",
       "      <td>1.256260e-02</td>\n",
       "      <td>0.001586</td>\n",
       "    </tr>\n",
       "    <tr>\n",
       "      <th>14</th>\n",
       "      <td>LIMBIC_sub2_norm</td>\n",
       "      <td>0.109266</td>\n",
       "      <td>5.408160e-02</td>\n",
       "      <td>0.050482</td>\n",
       "    </tr>\n",
       "    <tr>\n",
       "      <th>15</th>\n",
       "      <td>LIMBIC_sub3_norm</td>\n",
       "      <td>0.156777</td>\n",
       "      <td>6.084700e-03</td>\n",
       "      <td>0.025095</td>\n",
       "    </tr>\n",
       "    <tr>\n",
       "      <th>16</th>\n",
       "      <td>LIMBIC_sub4_norm</td>\n",
       "      <td>0.145009</td>\n",
       "      <td>1.823880e-02</td>\n",
       "      <td>0.000775</td>\n",
       "    </tr>\n",
       "    <tr>\n",
       "      <th>17</th>\n",
       "      <td>LIMBIC_sub5_norm</td>\n",
       "      <td>0.083387</td>\n",
       "      <td>1.191146e-01</td>\n",
       "      <td>0.005171</td>\n",
       "    </tr>\n",
       "    <tr>\n",
       "      <th>28</th>\n",
       "      <td>MOTOR_AUDITORY_sub1_norm</td>\n",
       "      <td>0.188514</td>\n",
       "      <td>2.789500e-03</td>\n",
       "      <td>0.002686</td>\n",
       "    </tr>\n",
       "    <tr>\n",
       "      <th>29</th>\n",
       "      <td>MOTOR_AUDITORY_sub2_norm</td>\n",
       "      <td>0.236572</td>\n",
       "      <td>2.219000e-04</td>\n",
       "      <td>0.037027</td>\n",
       "    </tr>\n",
       "    <tr>\n",
       "      <th>30</th>\n",
       "      <td>MOTOR_AUDITORY_sub3_norm</td>\n",
       "      <td>0.223864</td>\n",
       "      <td>6.794000e-04</td>\n",
       "      <td>0.020588</td>\n",
       "    </tr>\n",
       "    <tr>\n",
       "      <th>31</th>\n",
       "      <td>MOTOR_AUDITORY_sub4_norm</td>\n",
       "      <td>0.239202</td>\n",
       "      <td>3.830000e-04</td>\n",
       "      <td>0.023118</td>\n",
       "    </tr>\n",
       "    <tr>\n",
       "      <th>32</th>\n",
       "      <td>MOTOR_AUDITORY_sub5_norm</td>\n",
       "      <td>0.290312</td>\n",
       "      <td>1.610000e-05</td>\n",
       "      <td>0.028303</td>\n",
       "    </tr>\n",
       "    <tr>\n",
       "      <th>2</th>\n",
       "      <td>VISUAL_sub1_norm</td>\n",
       "      <td>0.194339</td>\n",
       "      <td>3.700100e-03</td>\n",
       "      <td>0.004531</td>\n",
       "    </tr>\n",
       "    <tr>\n",
       "      <th>3</th>\n",
       "      <td>VISUAL_sub2_norm</td>\n",
       "      <td>0.293107</td>\n",
       "      <td>1.580000e-05</td>\n",
       "      <td>0.064837</td>\n",
       "    </tr>\n",
       "    <tr>\n",
       "      <th>4</th>\n",
       "      <td>VISUAL_sub3_norm</td>\n",
       "      <td>0.215970</td>\n",
       "      <td>8.444000e-04</td>\n",
       "      <td>0.033826</td>\n",
       "    </tr>\n",
       "    <tr>\n",
       "      <th>5</th>\n",
       "      <td>VISUAL_sub4_norm</td>\n",
       "      <td>0.280579</td>\n",
       "      <td>3.880000e-05</td>\n",
       "      <td>0.020766</td>\n",
       "    </tr>\n",
       "    <tr>\n",
       "      <th>6</th>\n",
       "      <td>VISUAL_sub5_norm</td>\n",
       "      <td>0.200458</td>\n",
       "      <td>1.383000e-03</td>\n",
       "      <td>0.013976</td>\n",
       "    </tr>\n",
       "  </tbody>\n",
       "</table>\n",
       "</div>"
      ],
      "text/plain": [
       "                              Trait       H2r             P  CovVarianceExpl\n",
       "24             BMI_norm              0.566090  5.207304e-16         0.371124\n",
       "7              CEREBELLUM_sub1_norm  0.181715  5.091200e-03         0.020837\n",
       "8              CEREBELLUM_sub2_norm  0.185447  1.984200e-03         0.067195\n",
       "9              CEREBELLUM_sub3_norm  0.192956  1.463600e-03         0.030970\n",
       "10             CEREBELLUM_sub4_norm  0.208772  1.240000e-03         0.001985\n",
       "11             CEREBELLUM_sub5_norm  0.189253  1.443800e-03         0.019238\n",
       "25             FD_norm               0.223947  1.982000e-03         0.802927\n",
       "26             FD_scrubbed_norm      0.074722  1.552013e-01         0.948921\n",
       "18   FRONTO_PARIETAL_LEFT_sub1_norm  0.223331  4.638000e-04         0.064741\n",
       "19   FRONTO_PARIETAL_LEFT_sub2_norm  0.203341  1.800000e-03         0.001521\n",
       "20   FRONTO_PARIETAL_LEFT_sub3_norm  0.100018  7.779170e-02         0.113624\n",
       "21   FRONTO_PARIETAL_LEFT_sub4_norm  0.226893  4.557000e-04         0.001519\n",
       "22   FRONTO_PARIETAL_LEFT_sub5_norm  0.150871  1.383910e-02         0.043791\n",
       "0   FRONTO_PARIETAL_RIGHT_sub1_norm  0.115130  4.413050e-02         0.003791\n",
       "1   FRONTO_PARIETAL_RIGHT_sub2_norm  0.350960  3.100000e-06         0.039091\n",
       "12  FRONTO_PARIETAL_RIGHT_sub3_norm  0.162879  7.761800e-03         0.003891\n",
       "23  FRONTO_PARIETAL_RIGHT_sub4_norm  0.201562  1.436800e-03         0.127037\n",
       "27  FRONTO_PARIETAL_RIGHT_sub5_norm  0.195319  1.733200e-03         0.152787\n",
       "13             LIMBIC_sub1_norm      0.147040  1.256260e-02         0.001586\n",
       "14             LIMBIC_sub2_norm      0.109266  5.408160e-02         0.050482\n",
       "15             LIMBIC_sub3_norm      0.156777  6.084700e-03         0.025095\n",
       "16             LIMBIC_sub4_norm      0.145009  1.823880e-02         0.000775\n",
       "17             LIMBIC_sub5_norm      0.083387  1.191146e-01         0.005171\n",
       "28         MOTOR_AUDITORY_sub1_norm  0.188514  2.789500e-03         0.002686\n",
       "29         MOTOR_AUDITORY_sub2_norm  0.236572  2.219000e-04         0.037027\n",
       "30         MOTOR_AUDITORY_sub3_norm  0.223864  6.794000e-04         0.020588\n",
       "31         MOTOR_AUDITORY_sub4_norm  0.239202  3.830000e-04         0.023118\n",
       "32         MOTOR_AUDITORY_sub5_norm  0.290312  1.610000e-05         0.028303\n",
       "2              VISUAL_sub1_norm      0.194339  3.700100e-03         0.004531\n",
       "3              VISUAL_sub2_norm      0.293107  1.580000e-05         0.064837\n",
       "4              VISUAL_sub3_norm      0.215970  8.444000e-04         0.033826\n",
       "5              VISUAL_sub4_norm      0.280579  3.880000e-05         0.020766\n",
       "6              VISUAL_sub5_norm      0.200458  1.383000e-03         0.013976"
      ]
     },
     "execution_count": 38,
     "metadata": {},
     "output_type": "execute_result"
    }
   ],
   "source": [
    "out_herit = pd.read_csv(os.path.join(out_path,solar_out,\"se_out.out\"),sep=\"\\t\",header=None)\n",
    "out_herit_df =  pd.DataFrame()\n",
    "data = pd.DataFrame({\"Trait\": out_herit[2],\"H2r\": out_herit[4],\"P\": out_herit[7],\"CovVarianceExpl\": out_herit[9]})\n",
    "out_herit_df = data[[\"Trait\",\"H2r\",\"P\",\"CovVarianceExpl\"]].sort_values(['Trait'], ascending=[True])\n",
    "out_herit_df"
   ]
  },
  {
   "cell_type": "code",
   "execution_count": 39,
   "metadata": {
    "collapsed": false
   },
   "outputs": [
    {
     "data": {
      "image/png": "[encoded data removed]",
      "text/plain": [
       "<matplotlib.figure.Figure at 0x7fa019344898>"
      ]
     },
     "metadata": {},
     "output_type": "display_data"
    }
   ],
   "source": [
    "import numpy as np\n",
    "import pandas as pd\n",
    "import seaborn as sns\n",
    "import matplotlib.pyplot as plt\n",
    "%matplotlib inline\n",
    "sns.set(style=\"ticks\")\n",
    "\n",
    "# Create a dataset with many short random walks\n",
    "rs = np.random.RandomState(4)\n",
    "pos = rs.randint(-1, 2, (20, 5)).cumsum(axis=1)\n",
    "pos -= pos[:, 0, np.newaxis]\n",
    "step = np.tile(range(5), 20)\n",
    "walk = np.repeat(range(20), 5)\n",
    "df = pd.DataFrame(np.c_[pos.flat, step, walk],\n",
    "                  columns=[\"position\", \"step\", \"walk\"])\n",
    "# Initialize a grid of plots with an Axes for each walk\n",
    "grid = sns.FacetGrid(out_herit_df, col=\"Trait\", hue=\"Trait\", col_wrap=7, size=3)\n",
    "\n",
    "# Draw a horizontal line to show the starting point\n",
    "grid.map(plt.axhline, y=0, ls=\":\", c=\".0005\")\n",
    "\n",
    "# Draw a line plot to show the trajectory of each random walk\n",
    "grid.map(plt.plot, \"H2r\", \"P\", marker=\"o\", ms=4)\n",
    "\n",
    "# Adjust the tick positions and labels\n",
    "grid.set(xticks=np.arange(5), yticks=[0.00001, 0.01],\n",
    "         xlim=(0, 0.8), ylim=(0.00001, 0.01))\n",
    "\n",
    "# Adjust the arrangement of the plots\n",
    "grid.fig.tight_layout(w_pad=1)"
   ]
  }
 ],
 "metadata": {
  "anaconda-cloud": {},
  "kernelspec": {
   "display_name": "Python 3",
   "language": "python",
   "name": "python3"
  },
  "language_info": {
   "codemirror_mode": {
    "name": "ipython",
    "version": 3
   },
   "file_extension": ".py",
   "mimetype": "text/x-python",
   "name": "python",
   "nbconvert_exporter": "python",
   "pygments_lexer": "ipython3",
   "version": "3.4.3"
  },
  "widgets": {
   "state": {},
   "version": "1.1.2"
  }
 },
 "nbformat": 4,
 "nbformat_minor": 1
}
