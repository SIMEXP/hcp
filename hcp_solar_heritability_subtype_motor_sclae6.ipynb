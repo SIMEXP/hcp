{
 "cells": [
  {
   "cell_type": "markdown",
   "metadata": {},
   "source": [
    "# EXP 1: MOTOR heritability subtype"
   ]
  },
  {
   "cell_type": "markdown",
   "metadata": {
    "collapsed": true
   },
   "source": [
    "##### Subtype:\n",
    "- Niak preprocessed MOTOR task (new scrub method)\n",
    "- BASC partion scale 6\n",
    "- Connectome maps from scale 6 hole brain\n",
    "- FD regressed out befor building subtypes\n",
    "\n",
    "##### Heritability:\n",
    "- Regress \"FD_scrubbed\" \"Age_in_Yrs\" \"Gender\" as covariate"
   ]
  },
  {
   "cell_type": "markdown",
   "metadata": {},
   "source": [
    "## Build Pheno file"
   ]
  },
  {
   "cell_type": "markdown",
   "metadata": {},
   "source": [
    "### Merge behavioral variables with subtypes weights"
   ]
  },
  {
   "cell_type": "code",
   "execution_count": 1,
   "metadata": {
    "collapsed": false
   },
   "outputs": [],
   "source": [
    "# Import pandas\n",
    "import os\n",
    "import pandas as pd\n",
    "import numpy as np\n",
    "from IPython.display import display"
   ]
  },
  {
   "cell_type": "code",
   "execution_count": 2,
   "metadata": {
    "collapsed": false
   },
   "outputs": [],
   "source": [
    "# # Set up the paths to the files we want to work with\n",
    "# base_path = \"/home/yassinebha/Drive/HCP/subtypes_scores/26-10-2016/subtype_5_MOTOR_RL_08-Dec-2016/networks/\"\n",
    "# sbt_name_pattern = \"sbt_weights_net_{}.csv\"\n",
    "# pheno_path = '/home/yassinebha/Drive/HCP/subtypes_scores/26-10-2016/pheno/'\n",
    "# out_path = '/home/yassinebha/Drive/HCP/Solar_heritability/HCP_subtype/'"
   ]
  },
  {
   "cell_type": "code",
   "execution_count": 3,
   "metadata": {
    "collapsed": true
   },
   "outputs": [],
   "source": [
    "# Set up the paths to the files we want to work with\n",
    "base_path = \"/home/yassinebha/Drive/HCP/subtypes_scores/26-10-2016/subtype_MOTOR_RL_20161129/networks/\"\n",
    "sbt_name_pattern = \"sbt_weights_net_{}.csv\"\n",
    "pheno_path = '/home/yassinebha/Drive/HCP/subtypes_scores/26-10-2016/pheno/'\n",
    "out_path = '/home/yassinebha/Drive/HCP/Solar_heritability/HCP_subtype/'\n",
    "pheno_save = 'solar_motor_RL_pheno.csv'\n",
    "pedig_save = 'solar_motor_RL_pedigre.csv'"
   ]
  },
  {
   "cell_type": "code",
   "execution_count": 4,
   "metadata": {
    "collapsed": false
   },
   "outputs": [
    {
     "data": {
      "text/plain": [
       "['FRONTO_PARIETAL_RIGHT',\n",
       " 'MOTOR_AUDITORY',\n",
       " 'VISUAL',\n",
       " 'CEREBELLUM',\n",
       " 'LIMBIC',\n",
       " 'FRONTO_PARIETAL_LEFT']"
      ]
     },
     "execution_count": 4,
     "metadata": {},
     "output_type": "execute_result"
    }
   ],
   "source": [
    "# List of network names\n",
    "net_names = os.listdir(base_path)\n",
    "net_names"
   ]
  },
  {
   "cell_type": "code",
   "execution_count": 5,
   "metadata": {
    "collapsed": false
   },
   "outputs": [],
   "source": [
    "# Loop over each network and build weight file\n",
    "for index, net in enumerate(net_names):\n",
    "    file_path = os.path.join(base_path, net, sbt_name_pattern.format(net))\n",
    "    if not os.path.exists(file_path):\n",
    "        print(\"Hello, {} does not exist\".format(file_path))\n",
    "    \n",
    "    tmp_weights = pd.read_csv(file_path)\n",
    "    # Rename first column\n",
    "    tmp_weights.rename(columns={\" \":\"Subject\"}, inplace=True)\n",
    "    tmp_weights.Subject = tmp_weights.Subject.str.strip(\" \")\n",
    "    \n",
    "    rename_dict = dict()\n",
    "    for colname in tmp_weights.columns:\n",
    "        if colname == \"Subject\":\n",
    "            continue\n",
    "        else:\n",
    "            new_name = \"{}_{}\".format(net, colname)\n",
    "            # Get rid of trailing whitespace\n",
    "            new_name = new_name.strip(\" \")\n",
    "            rename_dict[colname] = new_name\n",
    "\n",
    "    tmp_weights.rename(columns=rename_dict, inplace=True)\n",
    "    \n",
    "    if index==0:\n",
    "        dataframe = tmp_weights\n",
    "    else:\n",
    "        dataframe = pd.merge(dataframe, tmp_weights, on=\"Subject\", how=\"inner\")"
   ]
  },
  {
   "cell_type": "code",
   "execution_count": 6,
   "metadata": {
    "collapsed": false
   },
   "outputs": [
    {
     "data": {
      "text/html": [
       "<div>\n",
       "<table border=\"1\" class=\"dataframe\">\n",
       "  <thead>\n",
       "    <tr style=\"text-align: right;\">\n",
       "      <th></th>\n",
       "      <th>Subject</th>\n",
       "      <th>FRONTO_PARIETAL_RIGHT_sub1</th>\n",
       "      <th>FRONTO_PARIETAL_RIGHT_sub2</th>\n",
       "      <th>FRONTO_PARIETAL_RIGHT_sub3</th>\n",
       "      <th>FRONTO_PARIETAL_RIGHT_sub4</th>\n",
       "      <th>FRONTO_PARIETAL_RIGHT_sub5</th>\n",
       "      <th>MOTOR_AUDITORY_sub1</th>\n",
       "      <th>MOTOR_AUDITORY_sub2</th>\n",
       "      <th>MOTOR_AUDITORY_sub3</th>\n",
       "      <th>MOTOR_AUDITORY_sub4</th>\n",
       "      <th>...</th>\n",
       "      <th>LIMBIC_sub1</th>\n",
       "      <th>LIMBIC_sub2</th>\n",
       "      <th>LIMBIC_sub3</th>\n",
       "      <th>LIMBIC_sub4</th>\n",
       "      <th>LIMBIC_sub5</th>\n",
       "      <th>FRONTO_PARIETAL_LEFT_sub1</th>\n",
       "      <th>FRONTO_PARIETAL_LEFT_sub2</th>\n",
       "      <th>FRONTO_PARIETAL_LEFT_sub3</th>\n",
       "      <th>FRONTO_PARIETAL_LEFT_sub4</th>\n",
       "      <th>FRONTO_PARIETAL_LEFT_sub5</th>\n",
       "    </tr>\n",
       "  </thead>\n",
       "  <tbody>\n",
       "    <tr>\n",
       "      <th>0</th>\n",
       "      <td>HCP100206</td>\n",
       "      <td>0.088</td>\n",
       "      <td>-0.115</td>\n",
       "      <td>-0.208</td>\n",
       "      <td>0.288</td>\n",
       "      <td>-0.077</td>\n",
       "      <td>-0.097</td>\n",
       "      <td>-0.086</td>\n",
       "      <td>0.108</td>\n",
       "      <td>-0.056</td>\n",
       "      <td>...</td>\n",
       "      <td>0.079</td>\n",
       "      <td>0.003</td>\n",
       "      <td>0.118</td>\n",
       "      <td>-0.084</td>\n",
       "      <td>-0.040</td>\n",
       "      <td>0.048</td>\n",
       "      <td>-0.064</td>\n",
       "      <td>0.130</td>\n",
       "      <td>-0.132</td>\n",
       "      <td>0.071</td>\n",
       "    </tr>\n",
       "    <tr>\n",
       "      <th>1</th>\n",
       "      <td>HCP100307</td>\n",
       "      <td>-0.347</td>\n",
       "      <td>0.093</td>\n",
       "      <td>0.139</td>\n",
       "      <td>-0.228</td>\n",
       "      <td>0.231</td>\n",
       "      <td>0.212</td>\n",
       "      <td>0.100</td>\n",
       "      <td>0.015</td>\n",
       "      <td>-0.102</td>\n",
       "      <td>...</td>\n",
       "      <td>-0.209</td>\n",
       "      <td>-0.001</td>\n",
       "      <td>0.191</td>\n",
       "      <td>0.020</td>\n",
       "      <td>-0.067</td>\n",
       "      <td>-0.040</td>\n",
       "      <td>0.305</td>\n",
       "      <td>-0.162</td>\n",
       "      <td>-0.136</td>\n",
       "      <td>0.073</td>\n",
       "    </tr>\n",
       "    <tr>\n",
       "      <th>2</th>\n",
       "      <td>HCP100408</td>\n",
       "      <td>-0.162</td>\n",
       "      <td>-0.056</td>\n",
       "      <td>0.115</td>\n",
       "      <td>-0.139</td>\n",
       "      <td>0.154</td>\n",
       "      <td>-0.156</td>\n",
       "      <td>-0.285</td>\n",
       "      <td>0.466</td>\n",
       "      <td>-0.417</td>\n",
       "      <td>...</td>\n",
       "      <td>0.155</td>\n",
       "      <td>0.460</td>\n",
       "      <td>-0.007</td>\n",
       "      <td>0.181</td>\n",
       "      <td>-0.448</td>\n",
       "      <td>0.158</td>\n",
       "      <td>-0.007</td>\n",
       "      <td>-0.061</td>\n",
       "      <td>-0.116</td>\n",
       "      <td>0.093</td>\n",
       "    </tr>\n",
       "    <tr>\n",
       "      <th>3</th>\n",
       "      <td>HCP100610</td>\n",
       "      <td>-0.316</td>\n",
       "      <td>-0.205</td>\n",
       "      <td>0.071</td>\n",
       "      <td>-0.140</td>\n",
       "      <td>0.359</td>\n",
       "      <td>0.202</td>\n",
       "      <td>0.028</td>\n",
       "      <td>0.159</td>\n",
       "      <td>-0.183</td>\n",
       "      <td>...</td>\n",
       "      <td>0.059</td>\n",
       "      <td>-0.093</td>\n",
       "      <td>0.130</td>\n",
       "      <td>-0.108</td>\n",
       "      <td>0.038</td>\n",
       "      <td>0.092</td>\n",
       "      <td>-0.069</td>\n",
       "      <td>-0.045</td>\n",
       "      <td>-0.418</td>\n",
       "      <td>0.431</td>\n",
       "    </tr>\n",
       "    <tr>\n",
       "      <th>4</th>\n",
       "      <td>HCP101006</td>\n",
       "      <td>0.327</td>\n",
       "      <td>-0.002</td>\n",
       "      <td>-0.036</td>\n",
       "      <td>0.097</td>\n",
       "      <td>-0.237</td>\n",
       "      <td>-0.123</td>\n",
       "      <td>0.167</td>\n",
       "      <td>-0.075</td>\n",
       "      <td>0.048</td>\n",
       "      <td>...</td>\n",
       "      <td>-0.056</td>\n",
       "      <td>-0.074</td>\n",
       "      <td>-0.021</td>\n",
       "      <td>-0.019</td>\n",
       "      <td>0.086</td>\n",
       "      <td>0.021</td>\n",
       "      <td>0.031</td>\n",
       "      <td>-0.099</td>\n",
       "      <td>0.140</td>\n",
       "      <td>-0.104</td>\n",
       "    </tr>\n",
       "  </tbody>\n",
       "</table>\n",
       "<p>5 rows × 31 columns</p>\n",
       "</div>"
      ],
      "text/plain": [
       "     Subject  FRONTO_PARIETAL_RIGHT_sub1  FRONTO_PARIETAL_RIGHT_sub2  \\\n",
       "0  HCP100206                       0.088                      -0.115   \n",
       "1  HCP100307                      -0.347                       0.093   \n",
       "2  HCP100408                      -0.162                      -0.056   \n",
       "3  HCP100610                      -0.316                      -0.205   \n",
       "4  HCP101006                       0.327                      -0.002   \n",
       "\n",
       "   FRONTO_PARIETAL_RIGHT_sub3  FRONTO_PARIETAL_RIGHT_sub4  \\\n",
       "0                      -0.208                       0.288   \n",
       "1                       0.139                      -0.228   \n",
       "2                       0.115                      -0.139   \n",
       "3                       0.071                      -0.140   \n",
       "4                      -0.036                       0.097   \n",
       "\n",
       "   FRONTO_PARIETAL_RIGHT_sub5  MOTOR_AUDITORY_sub1  MOTOR_AUDITORY_sub2  \\\n",
       "0                      -0.077               -0.097               -0.086   \n",
       "1                       0.231                0.212                0.100   \n",
       "2                       0.154               -0.156               -0.285   \n",
       "3                       0.359                0.202                0.028   \n",
       "4                      -0.237               -0.123                0.167   \n",
       "\n",
       "   MOTOR_AUDITORY_sub3  MOTOR_AUDITORY_sub4            ...              \\\n",
       "0                0.108               -0.056            ...               \n",
       "1                0.015               -0.102            ...               \n",
       "2                0.466               -0.417            ...               \n",
       "3                0.159               -0.183            ...               \n",
       "4               -0.075                0.048            ...               \n",
       "\n",
       "   LIMBIC_sub1  LIMBIC_sub2  LIMBIC_sub3  LIMBIC_sub4  LIMBIC_sub5  \\\n",
       "0        0.079        0.003        0.118       -0.084       -0.040   \n",
       "1       -0.209       -0.001        0.191        0.020       -0.067   \n",
       "2        0.155        0.460       -0.007        0.181       -0.448   \n",
       "3        0.059       -0.093        0.130       -0.108        0.038   \n",
       "4       -0.056       -0.074       -0.021       -0.019        0.086   \n",
       "\n",
       "   FRONTO_PARIETAL_LEFT_sub1  FRONTO_PARIETAL_LEFT_sub2  \\\n",
       "0                      0.048                     -0.064   \n",
       "1                     -0.040                      0.305   \n",
       "2                      0.158                     -0.007   \n",
       "3                      0.092                     -0.069   \n",
       "4                      0.021                      0.031   \n",
       "\n",
       "   FRONTO_PARIETAL_LEFT_sub3  FRONTO_PARIETAL_LEFT_sub4  \\\n",
       "0                      0.130                     -0.132   \n",
       "1                     -0.162                     -0.136   \n",
       "2                     -0.061                     -0.116   \n",
       "3                     -0.045                     -0.418   \n",
       "4                     -0.099                      0.140   \n",
       "\n",
       "   FRONTO_PARIETAL_LEFT_sub5  \n",
       "0                      0.071  \n",
       "1                      0.073  \n",
       "2                      0.093  \n",
       "3                      0.431  \n",
       "4                     -0.104  \n",
       "\n",
       "[5 rows x 31 columns]"
      ]
     },
     "execution_count": 6,
     "metadata": {},
     "output_type": "execute_result"
    }
   ],
   "source": [
    "dataframe.head()"
   ]
  },
  {
   "cell_type": "code",
   "execution_count": 7,
   "metadata": {
    "collapsed": false,
    "scrolled": true
   },
   "outputs": [
    {
     "data": {
      "text/plain": [
       "count           831\n",
       "unique          831\n",
       "top       HCP436845\n",
       "freq              1\n",
       "Name: Subject, dtype: object"
      ]
     },
     "execution_count": 7,
     "metadata": {},
     "output_type": "execute_result"
    }
   ],
   "source": [
    "dataframe.Subject.describe()"
   ]
  },
  {
   "cell_type": "code",
   "execution_count": 8,
   "metadata": {
    "collapsed": false
   },
   "outputs": [],
   "source": [
    "# Load pheno file\n",
    "file_weight = dataframe\n",
    "file_pheno = pd.read_csv(os.path.join(pheno_path,\"motor_RL_pheno_scrub_raw.csv\"))"
   ]
  },
  {
   "cell_type": "code",
   "execution_count": 9,
   "metadata": {
    "collapsed": false
   },
   "outputs": [
    {
     "data": {
      "text/html": [
       "<div>\n",
       "<table border=\"1\" class=\"dataframe\">\n",
       "  <thead>\n",
       "    <tr style=\"text-align: right;\">\n",
       "      <th></th>\n",
       "      <th>Subject</th>\n",
       "      <th>Age_in_Yrs</th>\n",
       "      <th>Twin_Stat</th>\n",
       "      <th>Zygosity</th>\n",
       "      <th>Mother_ID</th>\n",
       "      <th>Father_ID</th>\n",
       "      <th>Handedness</th>\n",
       "      <th>BMI</th>\n",
       "      <th>Gender</th>\n",
       "      <th>Endurance_Unadj</th>\n",
       "      <th>...</th>\n",
       "      <th>GaitSpeed_Comp</th>\n",
       "      <th>Dexterity_Unadj</th>\n",
       "      <th>Dexterity_AgeAdj</th>\n",
       "      <th>Strength_Unadj</th>\n",
       "      <th>Strength_AgeAdj</th>\n",
       "      <th>Odor_Unadj</th>\n",
       "      <th>PainInterf_Tscore</th>\n",
       "      <th>Taste_Unadj</th>\n",
       "      <th>FD</th>\n",
       "      <th>FD_scrubbed</th>\n",
       "    </tr>\n",
       "  </thead>\n",
       "  <tbody>\n",
       "    <tr>\n",
       "      <th>0</th>\n",
       "      <td>HCP100206</td>\n",
       "      <td>27</td>\n",
       "      <td>NotTwin</td>\n",
       "      <td>NotTwin</td>\n",
       "      <td>56037</td>\n",
       "      <td>85858.0</td>\n",
       "      <td>65</td>\n",
       "      <td>26.64</td>\n",
       "      <td>M</td>\n",
       "      <td>123.31</td>\n",
       "      <td>...</td>\n",
       "      <td>1.24</td>\n",
       "      <td>106.61</td>\n",
       "      <td>94.23</td>\n",
       "      <td>132.46</td>\n",
       "      <td>129.43</td>\n",
       "      <td>108.79</td>\n",
       "      <td>49.7</td>\n",
       "      <td>72.63</td>\n",
       "      <td>0.090883</td>\n",
       "      <td>0.090883</td>\n",
       "    </tr>\n",
       "    <tr>\n",
       "      <th>1</th>\n",
       "      <td>HCP100307</td>\n",
       "      <td>27</td>\n",
       "      <td>Twin</td>\n",
       "      <td>NotMZ</td>\n",
       "      <td>51488</td>\n",
       "      <td>81352.0</td>\n",
       "      <td>95</td>\n",
       "      <td>22.96</td>\n",
       "      <td>F</td>\n",
       "      <td>114.05</td>\n",
       "      <td>...</td>\n",
       "      <td>1.58</td>\n",
       "      <td>118.68</td>\n",
       "      <td>105.21</td>\n",
       "      <td>108.34</td>\n",
       "      <td>84.59</td>\n",
       "      <td>101.12</td>\n",
       "      <td>38.6</td>\n",
       "      <td>71.69</td>\n",
       "      <td>0.108998</td>\n",
       "      <td>0.108998</td>\n",
       "    </tr>\n",
       "    <tr>\n",
       "      <th>2</th>\n",
       "      <td>HCP100408</td>\n",
       "      <td>33</td>\n",
       "      <td>Twin</td>\n",
       "      <td>MZ</td>\n",
       "      <td>51730</td>\n",
       "      <td>81594.0</td>\n",
       "      <td>55</td>\n",
       "      <td>27.75</td>\n",
       "      <td>M</td>\n",
       "      <td>121.00</td>\n",
       "      <td>...</td>\n",
       "      <td>1.51</td>\n",
       "      <td>117.48</td>\n",
       "      <td>106.24</td>\n",
       "      <td>125.18</td>\n",
       "      <td>124.24</td>\n",
       "      <td>108.79</td>\n",
       "      <td>52.6</td>\n",
       "      <td>114.01</td>\n",
       "      <td>0.098323</td>\n",
       "      <td>0.098323</td>\n",
       "    </tr>\n",
       "    <tr>\n",
       "      <th>3</th>\n",
       "      <td>HCP100610</td>\n",
       "      <td>27</td>\n",
       "      <td>Twin</td>\n",
       "      <td>NotMZ</td>\n",
       "      <td>52813</td>\n",
       "      <td>82634.0</td>\n",
       "      <td>85</td>\n",
       "      <td>36.91</td>\n",
       "      <td>M</td>\n",
       "      <td>107.24</td>\n",
       "      <td>...</td>\n",
       "      <td>1.10</td>\n",
       "      <td>121.55</td>\n",
       "      <td>107.85</td>\n",
       "      <td>123.16</td>\n",
       "      <td>118.90</td>\n",
       "      <td>122.25</td>\n",
       "      <td>38.6</td>\n",
       "      <td>84.84</td>\n",
       "      <td>0.139763</td>\n",
       "      <td>0.137298</td>\n",
       "    </tr>\n",
       "    <tr>\n",
       "      <th>4</th>\n",
       "      <td>HCP101006</td>\n",
       "      <td>35</td>\n",
       "      <td>Twin</td>\n",
       "      <td>MZ</td>\n",
       "      <td>51283</td>\n",
       "      <td>81149.0</td>\n",
       "      <td>90</td>\n",
       "      <td>30.27</td>\n",
       "      <td>F</td>\n",
       "      <td>81.58</td>\n",
       "      <td>...</td>\n",
       "      <td>1.24</td>\n",
       "      <td>106.53</td>\n",
       "      <td>96.00</td>\n",
       "      <td>116.06</td>\n",
       "      <td>106.93</td>\n",
       "      <td>122.25</td>\n",
       "      <td>38.6</td>\n",
       "      <td>123.80</td>\n",
       "      <td>0.165364</td>\n",
       "      <td>0.138544</td>\n",
       "    </tr>\n",
       "  </tbody>\n",
       "</table>\n",
       "<p>5 rows × 21 columns</p>\n",
       "</div>"
      ],
      "text/plain": [
       "     Subject  Age_in_Yrs Twin_Stat Zygosity  Mother_ID  Father_ID  Handedness  \\\n",
       "0  HCP100206          27   NotTwin  NotTwin      56037    85858.0          65   \n",
       "1  HCP100307          27      Twin    NotMZ      51488    81352.0          95   \n",
       "2  HCP100408          33      Twin       MZ      51730    81594.0          55   \n",
       "3  HCP100610          27      Twin    NotMZ      52813    82634.0          85   \n",
       "4  HCP101006          35      Twin       MZ      51283    81149.0          90   \n",
       "\n",
       "     BMI Gender  Endurance_Unadj     ...       GaitSpeed_Comp  \\\n",
       "0  26.64      M           123.31     ...                 1.24   \n",
       "1  22.96      F           114.05     ...                 1.58   \n",
       "2  27.75      M           121.00     ...                 1.51   \n",
       "3  36.91      M           107.24     ...                 1.10   \n",
       "4  30.27      F            81.58     ...                 1.24   \n",
       "\n",
       "   Dexterity_Unadj  Dexterity_AgeAdj  Strength_Unadj  Strength_AgeAdj  \\\n",
       "0           106.61             94.23          132.46           129.43   \n",
       "1           118.68            105.21          108.34            84.59   \n",
       "2           117.48            106.24          125.18           124.24   \n",
       "3           121.55            107.85          123.16           118.90   \n",
       "4           106.53             96.00          116.06           106.93   \n",
       "\n",
       "   Odor_Unadj  PainInterf_Tscore  Taste_Unadj        FD  FD_scrubbed  \n",
       "0      108.79               49.7        72.63  0.090883     0.090883  \n",
       "1      101.12               38.6        71.69  0.108998     0.108998  \n",
       "2      108.79               52.6       114.01  0.098323     0.098323  \n",
       "3      122.25               38.6        84.84  0.139763     0.137298  \n",
       "4      122.25               38.6       123.80  0.165364     0.138544  \n",
       "\n",
       "[5 rows x 21 columns]"
      ]
     },
     "execution_count": 9,
     "metadata": {},
     "output_type": "execute_result"
    }
   ],
   "source": [
    "file_pheno.head()"
   ]
  },
  {
   "cell_type": "code",
   "execution_count": 10,
   "metadata": {
    "collapsed": false
   },
   "outputs": [
    {
     "data": {
      "text/plain": [
       "count           831\n",
       "unique          831\n",
       "top       HCP436845\n",
       "freq              1\n",
       "Name: Subject, dtype: object"
      ]
     },
     "execution_count": 10,
     "metadata": {},
     "output_type": "execute_result"
    }
   ],
   "source": [
    "file_pheno.Subject.describe()"
   ]
  },
  {
   "cell_type": "code",
   "execution_count": 11,
   "metadata": {
    "collapsed": false,
    "scrolled": true
   },
   "outputs": [
    {
     "data": {
      "text/html": [
       "<div>\n",
       "<table border=\"1\" class=\"dataframe\">\n",
       "  <thead>\n",
       "    <tr style=\"text-align: right;\">\n",
       "      <th></th>\n",
       "      <th>Subject</th>\n",
       "      <th>Age_in_Yrs</th>\n",
       "      <th>Handedness</th>\n",
       "      <th>Gender</th>\n",
       "      <th>BMI</th>\n",
       "      <th>FD</th>\n",
       "      <th>FD_scrubbed</th>\n",
       "    </tr>\n",
       "  </thead>\n",
       "  <tbody>\n",
       "    <tr>\n",
       "      <th>0</th>\n",
       "      <td>HCP100206</td>\n",
       "      <td>27</td>\n",
       "      <td>65</td>\n",
       "      <td>M</td>\n",
       "      <td>26.64</td>\n",
       "      <td>0.090883</td>\n",
       "      <td>0.090883</td>\n",
       "    </tr>\n",
       "    <tr>\n",
       "      <th>1</th>\n",
       "      <td>HCP100307</td>\n",
       "      <td>27</td>\n",
       "      <td>95</td>\n",
       "      <td>F</td>\n",
       "      <td>22.96</td>\n",
       "      <td>0.108998</td>\n",
       "      <td>0.108998</td>\n",
       "    </tr>\n",
       "    <tr>\n",
       "      <th>2</th>\n",
       "      <td>HCP100408</td>\n",
       "      <td>33</td>\n",
       "      <td>55</td>\n",
       "      <td>M</td>\n",
       "      <td>27.75</td>\n",
       "      <td>0.098323</td>\n",
       "      <td>0.098323</td>\n",
       "    </tr>\n",
       "    <tr>\n",
       "      <th>3</th>\n",
       "      <td>HCP100610</td>\n",
       "      <td>27</td>\n",
       "      <td>85</td>\n",
       "      <td>M</td>\n",
       "      <td>36.91</td>\n",
       "      <td>0.139763</td>\n",
       "      <td>0.137298</td>\n",
       "    </tr>\n",
       "    <tr>\n",
       "      <th>4</th>\n",
       "      <td>HCP101006</td>\n",
       "      <td>35</td>\n",
       "      <td>90</td>\n",
       "      <td>F</td>\n",
       "      <td>30.27</td>\n",
       "      <td>0.165364</td>\n",
       "      <td>0.138544</td>\n",
       "    </tr>\n",
       "  </tbody>\n",
       "</table>\n",
       "</div>"
      ],
      "text/plain": [
       "     Subject  Age_in_Yrs  Handedness Gender    BMI        FD  FD_scrubbed\n",
       "0  HCP100206          27          65      M  26.64  0.090883     0.090883\n",
       "1  HCP100307          27          95      F  22.96  0.108998     0.108998\n",
       "2  HCP100408          33          55      M  27.75  0.098323     0.098323\n",
       "3  HCP100610          27          85      M  36.91  0.139763     0.137298\n",
       "4  HCP101006          35          90      F  30.27  0.165364     0.138544"
      ]
     },
     "execution_count": 11,
     "metadata": {},
     "output_type": "execute_result"
    }
   ],
   "source": [
    "# Select a subset of variable\n",
    "file_pheno_subset = file_pheno[[\"Subject\",\"Age_in_Yrs\",\"Handedness\",\"Gender\",\"BMI\",\"FD\",\"FD_scrubbed\"]]\n",
    "file_pheno_subset.head()"
   ]
  },
  {
   "cell_type": "code",
   "execution_count": 12,
   "metadata": {
    "collapsed": false
   },
   "outputs": [
    {
     "name": "stderr",
     "output_type": "stream",
     "text": [
      "/usr/local/lib/python3.4/dist-packages/pandas/core/generic.py:3547: SettingWithCopyWarning: \n",
      "A value is trying to be set on a copy of a slice from a DataFrame\n",
      "\n",
      "See the caveats in the documentation: http://pandas.pydata.org/pandas-docs/stable/indexing.html#indexing-view-versus-copy\n",
      "  self._update_inplace(new_data)\n"
     ]
    },
    {
     "data": {
      "text/html": [
       "<div>\n",
       "<table border=\"1\" class=\"dataframe\">\n",
       "  <thead>\n",
       "    <tr style=\"text-align: right;\">\n",
       "      <th></th>\n",
       "      <th>Subject</th>\n",
       "      <th>Age_in_Yrs</th>\n",
       "      <th>Handedness</th>\n",
       "      <th>Gender</th>\n",
       "      <th>BMI</th>\n",
       "      <th>FD</th>\n",
       "      <th>FD_scrubbed</th>\n",
       "    </tr>\n",
       "  </thead>\n",
       "  <tbody>\n",
       "    <tr>\n",
       "      <th>0</th>\n",
       "      <td>HCP100206</td>\n",
       "      <td>27</td>\n",
       "      <td>65</td>\n",
       "      <td>1</td>\n",
       "      <td>26.64</td>\n",
       "      <td>0.090883</td>\n",
       "      <td>0.090883</td>\n",
       "    </tr>\n",
       "    <tr>\n",
       "      <th>1</th>\n",
       "      <td>HCP100307</td>\n",
       "      <td>27</td>\n",
       "      <td>95</td>\n",
       "      <td>2</td>\n",
       "      <td>22.96</td>\n",
       "      <td>0.108998</td>\n",
       "      <td>0.108998</td>\n",
       "    </tr>\n",
       "    <tr>\n",
       "      <th>2</th>\n",
       "      <td>HCP100408</td>\n",
       "      <td>33</td>\n",
       "      <td>55</td>\n",
       "      <td>1</td>\n",
       "      <td>27.75</td>\n",
       "      <td>0.098323</td>\n",
       "      <td>0.098323</td>\n",
       "    </tr>\n",
       "    <tr>\n",
       "      <th>3</th>\n",
       "      <td>HCP100610</td>\n",
       "      <td>27</td>\n",
       "      <td>85</td>\n",
       "      <td>1</td>\n",
       "      <td>36.91</td>\n",
       "      <td>0.139763</td>\n",
       "      <td>0.137298</td>\n",
       "    </tr>\n",
       "    <tr>\n",
       "      <th>4</th>\n",
       "      <td>HCP101006</td>\n",
       "      <td>35</td>\n",
       "      <td>90</td>\n",
       "      <td>2</td>\n",
       "      <td>30.27</td>\n",
       "      <td>0.165364</td>\n",
       "      <td>0.138544</td>\n",
       "    </tr>\n",
       "  </tbody>\n",
       "</table>\n",
       "</div>"
      ],
      "text/plain": [
       "     Subject  Age_in_Yrs  Handedness  Gender    BMI        FD  FD_scrubbed\n",
       "0  HCP100206          27          65       1  26.64  0.090883     0.090883\n",
       "1  HCP100307          27          95       2  22.96  0.108998     0.108998\n",
       "2  HCP100408          33          55       1  27.75  0.098323     0.098323\n",
       "3  HCP100610          27          85       1  36.91  0.139763     0.137298\n",
       "4  HCP101006          35          90       2  30.27  0.165364     0.138544"
      ]
     },
     "execution_count": 12,
     "metadata": {},
     "output_type": "execute_result"
    }
   ],
   "source": [
    "# Replace gender M=1 and F=2\n",
    "file_pheno_subset.Gender.replace({'M':1,'F':2}, inplace=True)\n",
    "file_pheno_subset.head()"
   ]
  },
  {
   "cell_type": "code",
   "execution_count": 13,
   "metadata": {
    "collapsed": false
   },
   "outputs": [
    {
     "data": {
      "text/html": [
       "<div>\n",
       "<table border=\"1\" class=\"dataframe\">\n",
       "  <thead>\n",
       "    <tr style=\"text-align: right;\">\n",
       "      <th></th>\n",
       "      <th>Subject</th>\n",
       "    </tr>\n",
       "  </thead>\n",
       "  <tbody>\n",
       "    <tr>\n",
       "      <th>count</th>\n",
       "      <td>831</td>\n",
       "    </tr>\n",
       "    <tr>\n",
       "      <th>unique</th>\n",
       "      <td>831</td>\n",
       "    </tr>\n",
       "    <tr>\n",
       "      <th>top</th>\n",
       "      <td>HCP436845</td>\n",
       "    </tr>\n",
       "    <tr>\n",
       "      <th>freq</th>\n",
       "      <td>1</td>\n",
       "    </tr>\n",
       "  </tbody>\n",
       "</table>\n",
       "</div>"
      ],
      "text/plain": [
       "          Subject\n",
       "count         831\n",
       "unique        831\n",
       "top     HCP436845\n",
       "freq            1"
      ]
     },
     "execution_count": 13,
     "metadata": {},
     "output_type": "execute_result"
    }
   ],
   "source": [
    "file_pheno_subset[[\"Subject\"]].describe()"
   ]
  },
  {
   "cell_type": "code",
   "execution_count": 14,
   "metadata": {
    "collapsed": false
   },
   "outputs": [
    {
     "data": {
      "text/html": [
       "<div>\n",
       "<table border=\"1\" class=\"dataframe\">\n",
       "  <thead>\n",
       "    <tr style=\"text-align: right;\">\n",
       "      <th></th>\n",
       "      <th>Subject</th>\n",
       "    </tr>\n",
       "  </thead>\n",
       "  <tbody>\n",
       "    <tr>\n",
       "      <th>count</th>\n",
       "      <td>831</td>\n",
       "    </tr>\n",
       "    <tr>\n",
       "      <th>unique</th>\n",
       "      <td>831</td>\n",
       "    </tr>\n",
       "    <tr>\n",
       "      <th>top</th>\n",
       "      <td>HCP436845</td>\n",
       "    </tr>\n",
       "    <tr>\n",
       "      <th>freq</th>\n",
       "      <td>1</td>\n",
       "    </tr>\n",
       "  </tbody>\n",
       "</table>\n",
       "</div>"
      ],
      "text/plain": [
       "          Subject\n",
       "count         831\n",
       "unique        831\n",
       "top     HCP436845\n",
       "freq            1"
      ]
     },
     "execution_count": 14,
     "metadata": {},
     "output_type": "execute_result"
    }
   ],
   "source": [
    "file_weight[[\"Subject\"]].describe()"
   ]
  },
  {
   "cell_type": "code",
   "execution_count": 15,
   "metadata": {
    "collapsed": false
   },
   "outputs": [
    {
     "data": {
      "text/html": [
       "<div>\n",
       "<table border=\"1\" class=\"dataframe\">\n",
       "  <thead>\n",
       "    <tr style=\"text-align: right;\">\n",
       "      <th></th>\n",
       "      <th>ID</th>\n",
       "      <th>FRONTO_PARIETAL_RIGHT_sub1</th>\n",
       "      <th>FRONTO_PARIETAL_RIGHT_sub2</th>\n",
       "      <th>FRONTO_PARIETAL_RIGHT_sub3</th>\n",
       "      <th>FRONTO_PARIETAL_RIGHT_sub4</th>\n",
       "      <th>FRONTO_PARIETAL_RIGHT_sub5</th>\n",
       "      <th>MOTOR_AUDITORY_sub1</th>\n",
       "      <th>MOTOR_AUDITORY_sub2</th>\n",
       "      <th>MOTOR_AUDITORY_sub3</th>\n",
       "      <th>MOTOR_AUDITORY_sub4</th>\n",
       "      <th>...</th>\n",
       "      <th>FRONTO_PARIETAL_LEFT_sub2</th>\n",
       "      <th>FRONTO_PARIETAL_LEFT_sub3</th>\n",
       "      <th>FRONTO_PARIETAL_LEFT_sub4</th>\n",
       "      <th>FRONTO_PARIETAL_LEFT_sub5</th>\n",
       "      <th>Age_in_Yrs</th>\n",
       "      <th>Handedness</th>\n",
       "      <th>Gender</th>\n",
       "      <th>BMI</th>\n",
       "      <th>FD</th>\n",
       "      <th>FD_scrubbed</th>\n",
       "    </tr>\n",
       "  </thead>\n",
       "  <tbody>\n",
       "    <tr>\n",
       "      <th>0</th>\n",
       "      <td>HCP100206</td>\n",
       "      <td>0.088</td>\n",
       "      <td>-0.115</td>\n",
       "      <td>-0.208</td>\n",
       "      <td>0.288</td>\n",
       "      <td>-0.077</td>\n",
       "      <td>-0.097</td>\n",
       "      <td>-0.086</td>\n",
       "      <td>0.108</td>\n",
       "      <td>-0.056</td>\n",
       "      <td>...</td>\n",
       "      <td>-0.064</td>\n",
       "      <td>0.130</td>\n",
       "      <td>-0.132</td>\n",
       "      <td>0.071</td>\n",
       "      <td>27</td>\n",
       "      <td>65</td>\n",
       "      <td>1</td>\n",
       "      <td>26.64</td>\n",
       "      <td>0.090883</td>\n",
       "      <td>0.090883</td>\n",
       "    </tr>\n",
       "    <tr>\n",
       "      <th>1</th>\n",
       "      <td>HCP100307</td>\n",
       "      <td>-0.347</td>\n",
       "      <td>0.093</td>\n",
       "      <td>0.139</td>\n",
       "      <td>-0.228</td>\n",
       "      <td>0.231</td>\n",
       "      <td>0.212</td>\n",
       "      <td>0.100</td>\n",
       "      <td>0.015</td>\n",
       "      <td>-0.102</td>\n",
       "      <td>...</td>\n",
       "      <td>0.305</td>\n",
       "      <td>-0.162</td>\n",
       "      <td>-0.136</td>\n",
       "      <td>0.073</td>\n",
       "      <td>27</td>\n",
       "      <td>95</td>\n",
       "      <td>2</td>\n",
       "      <td>22.96</td>\n",
       "      <td>0.108998</td>\n",
       "      <td>0.108998</td>\n",
       "    </tr>\n",
       "    <tr>\n",
       "      <th>2</th>\n",
       "      <td>HCP100408</td>\n",
       "      <td>-0.162</td>\n",
       "      <td>-0.056</td>\n",
       "      <td>0.115</td>\n",
       "      <td>-0.139</td>\n",
       "      <td>0.154</td>\n",
       "      <td>-0.156</td>\n",
       "      <td>-0.285</td>\n",
       "      <td>0.466</td>\n",
       "      <td>-0.417</td>\n",
       "      <td>...</td>\n",
       "      <td>-0.007</td>\n",
       "      <td>-0.061</td>\n",
       "      <td>-0.116</td>\n",
       "      <td>0.093</td>\n",
       "      <td>33</td>\n",
       "      <td>55</td>\n",
       "      <td>1</td>\n",
       "      <td>27.75</td>\n",
       "      <td>0.098323</td>\n",
       "      <td>0.098323</td>\n",
       "    </tr>\n",
       "    <tr>\n",
       "      <th>3</th>\n",
       "      <td>HCP100610</td>\n",
       "      <td>-0.316</td>\n",
       "      <td>-0.205</td>\n",
       "      <td>0.071</td>\n",
       "      <td>-0.140</td>\n",
       "      <td>0.359</td>\n",
       "      <td>0.202</td>\n",
       "      <td>0.028</td>\n",
       "      <td>0.159</td>\n",
       "      <td>-0.183</td>\n",
       "      <td>...</td>\n",
       "      <td>-0.069</td>\n",
       "      <td>-0.045</td>\n",
       "      <td>-0.418</td>\n",
       "      <td>0.431</td>\n",
       "      <td>27</td>\n",
       "      <td>85</td>\n",
       "      <td>1</td>\n",
       "      <td>36.91</td>\n",
       "      <td>0.139763</td>\n",
       "      <td>0.137298</td>\n",
       "    </tr>\n",
       "    <tr>\n",
       "      <th>4</th>\n",
       "      <td>HCP101006</td>\n",
       "      <td>0.327</td>\n",
       "      <td>-0.002</td>\n",
       "      <td>-0.036</td>\n",
       "      <td>0.097</td>\n",
       "      <td>-0.237</td>\n",
       "      <td>-0.123</td>\n",
       "      <td>0.167</td>\n",
       "      <td>-0.075</td>\n",
       "      <td>0.048</td>\n",
       "      <td>...</td>\n",
       "      <td>0.031</td>\n",
       "      <td>-0.099</td>\n",
       "      <td>0.140</td>\n",
       "      <td>-0.104</td>\n",
       "      <td>35</td>\n",
       "      <td>90</td>\n",
       "      <td>2</td>\n",
       "      <td>30.27</td>\n",
       "      <td>0.165364</td>\n",
       "      <td>0.138544</td>\n",
       "    </tr>\n",
       "  </tbody>\n",
       "</table>\n",
       "<p>5 rows × 37 columns</p>\n",
       "</div>"
      ],
      "text/plain": [
       "          ID  FRONTO_PARIETAL_RIGHT_sub1  FRONTO_PARIETAL_RIGHT_sub2  \\\n",
       "0  HCP100206                       0.088                      -0.115   \n",
       "1  HCP100307                      -0.347                       0.093   \n",
       "2  HCP100408                      -0.162                      -0.056   \n",
       "3  HCP100610                      -0.316                      -0.205   \n",
       "4  HCP101006                       0.327                      -0.002   \n",
       "\n",
       "   FRONTO_PARIETAL_RIGHT_sub3  FRONTO_PARIETAL_RIGHT_sub4  \\\n",
       "0                      -0.208                       0.288   \n",
       "1                       0.139                      -0.228   \n",
       "2                       0.115                      -0.139   \n",
       "3                       0.071                      -0.140   \n",
       "4                      -0.036                       0.097   \n",
       "\n",
       "   FRONTO_PARIETAL_RIGHT_sub5  MOTOR_AUDITORY_sub1  MOTOR_AUDITORY_sub2  \\\n",
       "0                      -0.077               -0.097               -0.086   \n",
       "1                       0.231                0.212                0.100   \n",
       "2                       0.154               -0.156               -0.285   \n",
       "3                       0.359                0.202                0.028   \n",
       "4                      -0.237               -0.123                0.167   \n",
       "\n",
       "   MOTOR_AUDITORY_sub3  MOTOR_AUDITORY_sub4     ...       \\\n",
       "0                0.108               -0.056     ...        \n",
       "1                0.015               -0.102     ...        \n",
       "2                0.466               -0.417     ...        \n",
       "3                0.159               -0.183     ...        \n",
       "4               -0.075                0.048     ...        \n",
       "\n",
       "   FRONTO_PARIETAL_LEFT_sub2  FRONTO_PARIETAL_LEFT_sub3  \\\n",
       "0                     -0.064                      0.130   \n",
       "1                      0.305                     -0.162   \n",
       "2                     -0.007                     -0.061   \n",
       "3                     -0.069                     -0.045   \n",
       "4                      0.031                     -0.099   \n",
       "\n",
       "   FRONTO_PARIETAL_LEFT_sub4  FRONTO_PARIETAL_LEFT_sub5  Age_in_Yrs  \\\n",
       "0                     -0.132                      0.071          27   \n",
       "1                     -0.136                      0.073          27   \n",
       "2                     -0.116                      0.093          33   \n",
       "3                     -0.418                      0.431          27   \n",
       "4                      0.140                     -0.104          35   \n",
       "\n",
       "   Handedness  Gender    BMI        FD  FD_scrubbed  \n",
       "0          65       1  26.64  0.090883     0.090883  \n",
       "1          95       2  22.96  0.108998     0.108998  \n",
       "2          55       1  27.75  0.098323     0.098323  \n",
       "3          85       1  36.91  0.139763     0.137298  \n",
       "4          90       2  30.27  0.165364     0.138544  \n",
       "\n",
       "[5 rows x 37 columns]"
      ]
     },
     "execution_count": 15,
     "metadata": {},
     "output_type": "execute_result"
    }
   ],
   "source": [
    "# Merge weight with subset of pheno variables\n",
    "merged_weight_pheno = pd.merge(file_weight, file_pheno_subset, on='Subject', how='left')\n",
    "# Replace 'Subject' by 'ID'\n",
    "merged_weight_pheno.rename(columns={'Subject':'ID'},inplace=True)\n",
    "merged_weight_pheno.head()"
   ]
  },
  {
   "cell_type": "code",
   "execution_count": 16,
   "metadata": {
    "collapsed": false
   },
   "outputs": [
    {
     "data": {
      "text/plain": [
       "count           831\n",
       "unique          831\n",
       "top       HCP436845\n",
       "freq              1\n",
       "Name: ID, dtype: object"
      ]
     },
     "execution_count": 16,
     "metadata": {},
     "output_type": "execute_result"
    }
   ],
   "source": [
    "merged_weight_pheno.ID.describe()"
   ]
  },
  {
   "cell_type": "code",
   "execution_count": 17,
   "metadata": {
    "collapsed": false
   },
   "outputs": [
    {
     "data": {
      "text/plain": [
       "1"
      ]
     },
     "execution_count": 17,
     "metadata": {},
     "output_type": "execute_result"
    }
   ],
   "source": [
    "# Check if there is empty value in BMI\n",
    "sum(merged_weight_pheno.BMI.isnull())"
   ]
  },
  {
   "cell_type": "code",
   "execution_count": 18,
   "metadata": {
    "collapsed": false
   },
   "outputs": [],
   "source": [
    "# Save the merged file\n",
    "merged_weight_pheno.to_csv(os.path.join(out_path,pheno_save), index=False)"
   ]
  },
  {
   "cell_type": "markdown",
   "metadata": {},
   "source": [
    "## Build trait file"
   ]
  },
  {
   "cell_type": "code",
   "execution_count": 19,
   "metadata": {
    "collapsed": false
   },
   "outputs": [
    {
     "data": {
      "text/plain": [
       "['FRONTO_PARIETAL_RIGHT_sub1',\n",
       " 'FRONTO_PARIETAL_RIGHT_sub2',\n",
       " 'FRONTO_PARIETAL_RIGHT_sub3',\n",
       " 'FRONTO_PARIETAL_RIGHT_sub4',\n",
       " 'FRONTO_PARIETAL_RIGHT_sub5',\n",
       " 'MOTOR_AUDITORY_sub1',\n",
       " 'MOTOR_AUDITORY_sub2',\n",
       " 'MOTOR_AUDITORY_sub3',\n",
       " 'MOTOR_AUDITORY_sub4',\n",
       " 'MOTOR_AUDITORY_sub5',\n",
       " 'VISUAL_sub1',\n",
       " 'VISUAL_sub2',\n",
       " 'VISUAL_sub3',\n",
       " 'VISUAL_sub4',\n",
       " 'VISUAL_sub5',\n",
       " 'CEREBELLUM_sub1',\n",
       " 'CEREBELLUM_sub2',\n",
       " 'CEREBELLUM_sub3',\n",
       " 'CEREBELLUM_sub4',\n",
       " 'CEREBELLUM_sub5',\n",
       " 'LIMBIC_sub1',\n",
       " 'LIMBIC_sub2',\n",
       " 'LIMBIC_sub3',\n",
       " 'LIMBIC_sub4',\n",
       " 'LIMBIC_sub5',\n",
       " 'FRONTO_PARIETAL_LEFT_sub1',\n",
       " 'FRONTO_PARIETAL_LEFT_sub2',\n",
       " 'FRONTO_PARIETAL_LEFT_sub3',\n",
       " 'FRONTO_PARIETAL_LEFT_sub4',\n",
       " 'FRONTO_PARIETAL_LEFT_sub5',\n",
       " 'Handedness',\n",
       " 'BMI',\n",
       " 'FD',\n",
       " 'FD_scrubbed']"
      ]
     },
     "execution_count": 19,
     "metadata": {},
     "output_type": "execute_result"
    }
   ],
   "source": [
    "## build trait file\n",
    "# Remove not neaded traits\n",
    "list_trait = merged_weight_pheno.columns.tolist()\n",
    "new_list = [trait for trait in list_trait if trait not in ['ID','Age_in_Yrs','Gender']]\n",
    "new_list"
   ]
  },
  {
   "cell_type": "code",
   "execution_count": 20,
   "metadata": {
    "collapsed": false
   },
   "outputs": [],
   "source": [
    "# Save trait file\n",
    "file_out = open(os.path.join(out_path,\"trait_file\"), 'w')\n",
    "for item in new_list:\n",
    "    file_out.write(\"%s\\n\" % item)\n",
    "file_out.close()"
   ]
  },
  {
   "cell_type": "markdown",
   "metadata": {
    "collapsed": false
   },
   "source": [
    "## Build Pedigree file"
   ]
  },
  {
   "cell_type": "code",
   "execution_count": 21,
   "metadata": {
    "collapsed": false
   },
   "outputs": [
    {
     "data": {
      "text/html": [
       "<div>\n",
       "<table border=\"1\" class=\"dataframe\">\n",
       "  <thead>\n",
       "    <tr style=\"text-align: right;\">\n",
       "      <th></th>\n",
       "      <th>Subject</th>\n",
       "      <th>Twin_Stat</th>\n",
       "      <th>Zygosity</th>\n",
       "      <th>Mother_ID</th>\n",
       "      <th>Gender</th>\n",
       "    </tr>\n",
       "  </thead>\n",
       "  <tbody>\n",
       "    <tr>\n",
       "      <th>0</th>\n",
       "      <td>HCP100206</td>\n",
       "      <td>NotTwin</td>\n",
       "      <td>NotTwin</td>\n",
       "      <td>56037</td>\n",
       "      <td>M</td>\n",
       "    </tr>\n",
       "    <tr>\n",
       "      <th>1</th>\n",
       "      <td>HCP100307</td>\n",
       "      <td>Twin</td>\n",
       "      <td>NotMZ</td>\n",
       "      <td>51488</td>\n",
       "      <td>F</td>\n",
       "    </tr>\n",
       "    <tr>\n",
       "      <th>2</th>\n",
       "      <td>HCP100408</td>\n",
       "      <td>Twin</td>\n",
       "      <td>MZ</td>\n",
       "      <td>51730</td>\n",
       "      <td>M</td>\n",
       "    </tr>\n",
       "    <tr>\n",
       "      <th>3</th>\n",
       "      <td>HCP100610</td>\n",
       "      <td>Twin</td>\n",
       "      <td>NotMZ</td>\n",
       "      <td>52813</td>\n",
       "      <td>M</td>\n",
       "    </tr>\n",
       "    <tr>\n",
       "      <th>4</th>\n",
       "      <td>HCP101006</td>\n",
       "      <td>Twin</td>\n",
       "      <td>MZ</td>\n",
       "      <td>51283</td>\n",
       "      <td>F</td>\n",
       "    </tr>\n",
       "  </tbody>\n",
       "</table>\n",
       "</div>"
      ],
      "text/plain": [
       "     Subject Twin_Stat Zygosity  Mother_ID Gender\n",
       "0  HCP100206   NotTwin  NotTwin      56037      M\n",
       "1  HCP100307      Twin    NotMZ      51488      F\n",
       "2  HCP100408      Twin       MZ      51730      M\n",
       "3  HCP100610      Twin    NotMZ      52813      M\n",
       "4  HCP101006      Twin       MZ      51283      F"
      ]
     },
     "execution_count": 21,
     "metadata": {},
     "output_type": "execute_result"
    }
   ],
   "source": [
    "# Select a subset of variable from pheno file\n",
    "file_pheno_pedig = file_pheno[[\"Subject\",\"Twin_Stat\",\"Zygosity\",\"Mother_ID\",\"Gender\"]]\n",
    "file_pheno_pedig.head()"
   ]
  },
  {
   "cell_type": "code",
   "execution_count": 22,
   "metadata": {
    "collapsed": false
   },
   "outputs": [
    {
     "data": {
      "text/plain": [
       "count           831\n",
       "unique          831\n",
       "top       HCP436845\n",
       "freq              1\n",
       "Name: Subject, dtype: object"
      ]
     },
     "execution_count": 22,
     "metadata": {},
     "output_type": "execute_result"
    }
   ],
   "source": [
    "file_pheno_pedig.Subject.describe()"
   ]
  },
  {
   "cell_type": "code",
   "execution_count": 23,
   "metadata": {
    "collapsed": false
   },
   "outputs": [],
   "source": [
    "# Build pedigre : ID , mo, fo, hhID, mztwins,sex\n",
    "mother_id = [\"mo_{}\".format(row.Mother_ID) for ind, row in file_pheno_pedig.iterrows()]\n",
    "father_id = [\"fa_{}\".format(row.Mother_ID) for ind, row in file_pheno_pedig.iterrows()]\n",
    "household_id = [\"hh_{}\".format(row.Mother_ID) for ind, row in file_pheno_pedig.iterrows()]\n",
    "twin_id = [\"pair_{}\".format(row.Mother_ID) if row.Zygosity == \"MZ\" else \"\" for ind, row in file_pheno_pedig.iterrows()]"
   ]
  },
  {
   "cell_type": "code",
   "execution_count": 24,
   "metadata": {
    "collapsed": false
   },
   "outputs": [
    {
     "name": "stdout",
     "output_type": "stream",
     "text": [
      "head\n"
     ]
    },
    {
     "data": {
      "text/html": [
       "<div>\n",
       "<table border=\"1\" class=\"dataframe\">\n",
       "  <thead>\n",
       "    <tr style=\"text-align: right;\">\n",
       "      <th></th>\n",
       "      <th>ID</th>\n",
       "      <th>fa</th>\n",
       "      <th>mo</th>\n",
       "      <th>sex</th>\n",
       "      <th>mztwin</th>\n",
       "      <th>hhID</th>\n",
       "    </tr>\n",
       "  </thead>\n",
       "  <tbody>\n",
       "    <tr>\n",
       "      <th>0</th>\n",
       "      <td>HCP100206</td>\n",
       "      <td>fa_56037</td>\n",
       "      <td>mo_56037</td>\n",
       "      <td>1</td>\n",
       "      <td></td>\n",
       "      <td>hh_56037</td>\n",
       "    </tr>\n",
       "    <tr>\n",
       "      <th>1</th>\n",
       "      <td>HCP100307</td>\n",
       "      <td>fa_51488</td>\n",
       "      <td>mo_51488</td>\n",
       "      <td>2</td>\n",
       "      <td></td>\n",
       "      <td>hh_51488</td>\n",
       "    </tr>\n",
       "    <tr>\n",
       "      <th>2</th>\n",
       "      <td>HCP100408</td>\n",
       "      <td>fa_51730</td>\n",
       "      <td>mo_51730</td>\n",
       "      <td>1</td>\n",
       "      <td>pair_51730</td>\n",
       "      <td>hh_51730</td>\n",
       "    </tr>\n",
       "    <tr>\n",
       "      <th>3</th>\n",
       "      <td>HCP100610</td>\n",
       "      <td>fa_52813</td>\n",
       "      <td>mo_52813</td>\n",
       "      <td>1</td>\n",
       "      <td></td>\n",
       "      <td>hh_52813</td>\n",
       "    </tr>\n",
       "    <tr>\n",
       "      <th>4</th>\n",
       "      <td>HCP101006</td>\n",
       "      <td>fa_51283</td>\n",
       "      <td>mo_51283</td>\n",
       "      <td>2</td>\n",
       "      <td>pair_51283</td>\n",
       "      <td>hh_51283</td>\n",
       "    </tr>\n",
       "  </tbody>\n",
       "</table>\n",
       "</div>"
      ],
      "text/plain": [
       "          ID        fa        mo  sex      mztwin      hhID\n",
       "0  HCP100206  fa_56037  mo_56037    1              hh_56037\n",
       "1  HCP100307  fa_51488  mo_51488    2              hh_51488\n",
       "2  HCP100408  fa_51730  mo_51730    1  pair_51730  hh_51730\n",
       "3  HCP100610  fa_52813  mo_52813    1              hh_52813\n",
       "4  HCP101006  fa_51283  mo_51283    2  pair_51283  hh_51283"
      ]
     },
     "metadata": {},
     "output_type": "display_data"
    },
    {
     "name": "stdout",
     "output_type": "stream",
     "text": [
      "tail\n"
     ]
    },
    {
     "data": {
      "text/html": [
       "<div>\n",
       "<table border=\"1\" class=\"dataframe\">\n",
       "  <thead>\n",
       "    <tr style=\"text-align: right;\">\n",
       "      <th></th>\n",
       "      <th>ID</th>\n",
       "      <th>fa</th>\n",
       "      <th>mo</th>\n",
       "      <th>sex</th>\n",
       "      <th>mztwin</th>\n",
       "      <th>hhID</th>\n",
       "    </tr>\n",
       "  </thead>\n",
       "  <tbody>\n",
       "    <tr>\n",
       "      <th>826</th>\n",
       "      <td>HCP992673</td>\n",
       "      <td>fa_56143</td>\n",
       "      <td>mo_56143</td>\n",
       "      <td>2</td>\n",
       "      <td></td>\n",
       "      <td>hh_56143</td>\n",
       "    </tr>\n",
       "    <tr>\n",
       "      <th>827</th>\n",
       "      <td>HCP992774</td>\n",
       "      <td>fa_51345</td>\n",
       "      <td>mo_51345</td>\n",
       "      <td>1</td>\n",
       "      <td></td>\n",
       "      <td>hh_51345</td>\n",
       "    </tr>\n",
       "    <tr>\n",
       "      <th>828</th>\n",
       "      <td>HCP993675</td>\n",
       "      <td>fa_55800</td>\n",
       "      <td>mo_55800</td>\n",
       "      <td>2</td>\n",
       "      <td></td>\n",
       "      <td>hh_55800</td>\n",
       "    </tr>\n",
       "    <tr>\n",
       "      <th>829</th>\n",
       "      <td>HCP994273</td>\n",
       "      <td>fa_52364</td>\n",
       "      <td>mo_52364</td>\n",
       "      <td>1</td>\n",
       "      <td></td>\n",
       "      <td>hh_52364</td>\n",
       "    </tr>\n",
       "    <tr>\n",
       "      <th>830</th>\n",
       "      <td>HCP996782</td>\n",
       "      <td>fa_51541</td>\n",
       "      <td>mo_51541</td>\n",
       "      <td>2</td>\n",
       "      <td></td>\n",
       "      <td>hh_51541</td>\n",
       "    </tr>\n",
       "  </tbody>\n",
       "</table>\n",
       "</div>"
      ],
      "text/plain": [
       "            ID        fa        mo  sex mztwin      hhID\n",
       "826  HCP992673  fa_56143  mo_56143    2         hh_56143\n",
       "827  HCP992774  fa_51345  mo_51345    1         hh_51345\n",
       "828  HCP993675  fa_55800  mo_55800    2         hh_55800\n",
       "829  HCP994273  fa_52364  mo_52364    1         hh_52364\n",
       "830  HCP996782  fa_51541  mo_51541    2         hh_51541"
      ]
     },
     "metadata": {},
     "output_type": "display_data"
    },
    {
     "data": {
      "text/plain": [
       "ID        831\n",
       "fa        831\n",
       "mo        831\n",
       "sex       831\n",
       "mztwin    831\n",
       "hhID      831\n",
       "dtype: int64"
      ]
     },
     "execution_count": 24,
     "metadata": {},
     "output_type": "execute_result"
    }
   ],
   "source": [
    "# write into new data frame\n",
    "df_pedig = pd.DataFrame()\n",
    "df_pedig[\"ID\"] = file_pheno_pedig.Subject\n",
    "df_pedig[\"fa\"] = father_id\n",
    "df_pedig[\"mo\"] = mother_id\n",
    "df_pedig[\"sex\"] = file_pheno_pedig.Gender.replace(to_replace={\"M\":1, \"F\":2})\n",
    "df_pedig[\"mztwin\"] = twin_id\n",
    "df_pedig[\"hhID\"] = household_id\n",
    "\n",
    "\n",
    "print(\"head\")\n",
    "display(df_pedig.head())\n",
    "print(\"tail\")\n",
    "display(df_pedig.tail())\n",
    "df_pedig.count()"
   ]
  },
  {
   "cell_type": "code",
   "execution_count": 25,
   "metadata": {
    "collapsed": false,
    "scrolled": false
   },
   "outputs": [],
   "source": [
    "# Look for MZ twins missing their co-twin\n",
    "uniques = list(df_pedig.mztwin.unique())\n",
    "uniques.pop(0)\n",
    "twin_counts = [np.sum(df_pedig.mztwin==twin) for twin in uniques]\n",
    "# for idx, twin in enumerate(uniques):\n",
    "#     print(\"{} occurs {} times\".format(twin, twin_counts[idx]))"
   ]
  },
  {
   "cell_type": "code",
   "execution_count": 26,
   "metadata": {
    "collapsed": true
   },
   "outputs": [],
   "source": [
    "# create a mask that will kepp only MZ twins missing their co-twin\n",
    "singles = [True if np.sum(df_pedig.mztwin==row.mztwin)==1 else False for ind, row in df_pedig.iterrows()]"
   ]
  },
  {
   "cell_type": "code",
   "execution_count": 27,
   "metadata": {
    "collapsed": true
   },
   "outputs": [],
   "source": [
    "# Make a copy of the pedigre to avoid missing up with the original data\n",
    "copy_df_pedig = df_pedig.copy()"
   ]
  },
  {
   "cell_type": "code",
   "execution_count": 28,
   "metadata": {
    "collapsed": false,
    "scrolled": true
   },
   "outputs": [
    {
     "data": {
      "text/html": [
       "<div>\n",
       "<table border=\"1\" class=\"dataframe\">\n",
       "  <thead>\n",
       "    <tr style=\"text-align: right;\">\n",
       "      <th></th>\n",
       "      <th>ID</th>\n",
       "      <th>fa</th>\n",
       "      <th>mo</th>\n",
       "      <th>sex</th>\n",
       "      <th>mztwin</th>\n",
       "      <th>hhID</th>\n",
       "    </tr>\n",
       "  </thead>\n",
       "  <tbody>\n",
       "    <tr>\n",
       "      <th>38</th>\n",
       "      <td>M_HCP110007</td>\n",
       "      <td>fa_54572</td>\n",
       "      <td>mo_54572</td>\n",
       "      <td>2</td>\n",
       "      <td>pair_54572</td>\n",
       "      <td>hh_54572</td>\n",
       "    </tr>\n",
       "    <tr>\n",
       "      <th>57</th>\n",
       "      <td>M_HCP114823</td>\n",
       "      <td>fa_52925</td>\n",
       "      <td>mo_52925</td>\n",
       "      <td>2</td>\n",
       "      <td>pair_52925</td>\n",
       "      <td>hh_52925</td>\n",
       "    </tr>\n",
       "    <tr>\n",
       "      <th>84</th>\n",
       "      <td>M_HCP121820</td>\n",
       "      <td>fa_51421</td>\n",
       "      <td>mo_51421</td>\n",
       "      <td>2</td>\n",
       "      <td>pair_51421</td>\n",
       "      <td>hh_51421</td>\n",
       "    </tr>\n",
       "    <tr>\n",
       "      <th>86</th>\n",
       "      <td>M_HCP122317</td>\n",
       "      <td>fa_51802</td>\n",
       "      <td>mo_51802</td>\n",
       "      <td>1</td>\n",
       "      <td>pair_51802</td>\n",
       "      <td>hh_51802</td>\n",
       "    </tr>\n",
       "    <tr>\n",
       "      <th>91</th>\n",
       "      <td>M_HCP123824</td>\n",
       "      <td>fa_56022</td>\n",
       "      <td>mo_56022</td>\n",
       "      <td>1</td>\n",
       "      <td>pair_56022</td>\n",
       "      <td>hh_56022</td>\n",
       "    </tr>\n",
       "  </tbody>\n",
       "</table>\n",
       "</div>"
      ],
      "text/plain": [
       "             ID        fa        mo  sex      mztwin      hhID\n",
       "38  M_HCP110007  fa_54572  mo_54572    2  pair_54572  hh_54572\n",
       "57  M_HCP114823  fa_52925  mo_52925    2  pair_52925  hh_52925\n",
       "84  M_HCP121820  fa_51421  mo_51421    2  pair_51421  hh_51421\n",
       "86  M_HCP122317  fa_51802  mo_51802    1  pair_51802  hh_51802\n",
       "91  M_HCP123824  fa_56022  mo_56022    1  pair_56022  hh_56022"
      ]
     },
     "metadata": {},
     "output_type": "display_data"
    },
    {
     "data": {
      "text/plain": [
       "ID        34\n",
       "fa        34\n",
       "mo        34\n",
       "sex       34\n",
       "mztwin    34\n",
       "hhID      34\n",
       "dtype: int64"
      ]
     },
     "execution_count": 28,
     "metadata": {},
     "output_type": "execute_result"
    }
   ],
   "source": [
    "# Select only MZ twins missing their co-twin\n",
    "df_single_pedig = copy_df_pedig[singles]\n",
    "\n",
    "# Add \"M_\" (for missing) to a the single MZ twins\n",
    "for i, row in df_single_pedig.iterrows():\n",
    "    df_single_pedig.set_value(i,\"ID\",\"M_{}\".format(row.ID))\n",
    "display(df_single_pedig.head())\n",
    "df_single_pedig.count()"
   ]
  },
  {
   "cell_type": "code",
   "execution_count": 29,
   "metadata": {
    "collapsed": false,
    "scrolled": true
   },
   "outputs": [
    {
     "data": {
      "text/html": [
       "<div>\n",
       "<table border=\"1\" class=\"dataframe\">\n",
       "  <thead>\n",
       "    <tr style=\"text-align: right;\">\n",
       "      <th></th>\n",
       "      <th>ID</th>\n",
       "      <th>fa</th>\n",
       "      <th>mo</th>\n",
       "      <th>sex</th>\n",
       "      <th>mztwin</th>\n",
       "      <th>hhID</th>\n",
       "    </tr>\n",
       "  </thead>\n",
       "  <tbody>\n",
       "    <tr>\n",
       "      <th>0</th>\n",
       "      <td>HCP100206</td>\n",
       "      <td>fa_56037</td>\n",
       "      <td>mo_56037</td>\n",
       "      <td>1</td>\n",
       "      <td></td>\n",
       "      <td>hh_56037</td>\n",
       "    </tr>\n",
       "    <tr>\n",
       "      <th>1</th>\n",
       "      <td>HCP100307</td>\n",
       "      <td>fa_51488</td>\n",
       "      <td>mo_51488</td>\n",
       "      <td>2</td>\n",
       "      <td></td>\n",
       "      <td>hh_51488</td>\n",
       "    </tr>\n",
       "    <tr>\n",
       "      <th>2</th>\n",
       "      <td>HCP100408</td>\n",
       "      <td>fa_51730</td>\n",
       "      <td>mo_51730</td>\n",
       "      <td>1</td>\n",
       "      <td>pair_51730</td>\n",
       "      <td>hh_51730</td>\n",
       "    </tr>\n",
       "    <tr>\n",
       "      <th>3</th>\n",
       "      <td>HCP100610</td>\n",
       "      <td>fa_52813</td>\n",
       "      <td>mo_52813</td>\n",
       "      <td>1</td>\n",
       "      <td></td>\n",
       "      <td>hh_52813</td>\n",
       "    </tr>\n",
       "    <tr>\n",
       "      <th>4</th>\n",
       "      <td>HCP101006</td>\n",
       "      <td>fa_51283</td>\n",
       "      <td>mo_51283</td>\n",
       "      <td>2</td>\n",
       "      <td>pair_51283</td>\n",
       "      <td>hh_51283</td>\n",
       "    </tr>\n",
       "  </tbody>\n",
       "</table>\n",
       "</div>"
      ],
      "text/plain": [
       "          ID        fa        mo  sex      mztwin      hhID\n",
       "0  HCP100206  fa_56037  mo_56037    1              hh_56037\n",
       "1  HCP100307  fa_51488  mo_51488    2              hh_51488\n",
       "2  HCP100408  fa_51730  mo_51730    1  pair_51730  hh_51730\n",
       "3  HCP100610  fa_52813  mo_52813    1              hh_52813\n",
       "4  HCP101006  fa_51283  mo_51283    2  pair_51283  hh_51283"
      ]
     },
     "execution_count": 29,
     "metadata": {},
     "output_type": "execute_result"
    }
   ],
   "source": [
    "# Append pedgree with fake co-twin for the missing one\n",
    "df_pedig_final = copy_df_pedig.append(df_single_pedig)\n",
    "df_pedig_final.head()"
   ]
  },
  {
   "cell_type": "code",
   "execution_count": 30,
   "metadata": {
    "collapsed": false,
    "scrolled": true
   },
   "outputs": [
    {
     "data": {
      "text/html": [
       "<div>\n",
       "<table border=\"1\" class=\"dataframe\">\n",
       "  <thead>\n",
       "    <tr style=\"text-align: right;\">\n",
       "      <th></th>\n",
       "      <th>ID</th>\n",
       "      <th>fa</th>\n",
       "      <th>mo</th>\n",
       "      <th>sex</th>\n",
       "      <th>mztwin</th>\n",
       "      <th>hhID</th>\n",
       "    </tr>\n",
       "  </thead>\n",
       "  <tbody>\n",
       "    <tr>\n",
       "      <th>696</th>\n",
       "      <td>M_HCP727553</td>\n",
       "      <td>fa_51561</td>\n",
       "      <td>mo_51561</td>\n",
       "      <td>2</td>\n",
       "      <td>pair_51561</td>\n",
       "      <td>hh_51561</td>\n",
       "    </tr>\n",
       "    <tr>\n",
       "      <th>722</th>\n",
       "      <td>M_HCP769064</td>\n",
       "      <td>fa_52803</td>\n",
       "      <td>mo_52803</td>\n",
       "      <td>1</td>\n",
       "      <td>pair_52803</td>\n",
       "      <td>hh_52803</td>\n",
       "    </tr>\n",
       "    <tr>\n",
       "      <th>748</th>\n",
       "      <td>M_HCP835657</td>\n",
       "      <td>fa_52137</td>\n",
       "      <td>mo_52137</td>\n",
       "      <td>2</td>\n",
       "      <td>pair_52137</td>\n",
       "      <td>hh_52137</td>\n",
       "    </tr>\n",
       "    <tr>\n",
       "      <th>792</th>\n",
       "      <td>M_HCP904044</td>\n",
       "      <td>fa_51290</td>\n",
       "      <td>mo_51290</td>\n",
       "      <td>2</td>\n",
       "      <td>pair_51290</td>\n",
       "      <td>hh_51290</td>\n",
       "    </tr>\n",
       "    <tr>\n",
       "      <th>818</th>\n",
       "      <td>M_HCP972566</td>\n",
       "      <td>fa_56077</td>\n",
       "      <td>mo_56077</td>\n",
       "      <td>2</td>\n",
       "      <td>pair_56077</td>\n",
       "      <td>hh_56077</td>\n",
       "    </tr>\n",
       "  </tbody>\n",
       "</table>\n",
       "</div>"
      ],
      "text/plain": [
       "              ID        fa        mo  sex      mztwin      hhID\n",
       "696  M_HCP727553  fa_51561  mo_51561    2  pair_51561  hh_51561\n",
       "722  M_HCP769064  fa_52803  mo_52803    1  pair_52803  hh_52803\n",
       "748  M_HCP835657  fa_52137  mo_52137    2  pair_52137  hh_52137\n",
       "792  M_HCP904044  fa_51290  mo_51290    2  pair_51290  hh_51290\n",
       "818  M_HCP972566  fa_56077  mo_56077    2  pair_56077  hh_56077"
      ]
     },
     "execution_count": 30,
     "metadata": {},
     "output_type": "execute_result"
    }
   ],
   "source": [
    "df_pedig_final.tail()"
   ]
  },
  {
   "cell_type": "code",
   "execution_count": 31,
   "metadata": {
    "collapsed": false
   },
   "outputs": [
    {
     "data": {
      "text/plain": [
       "ID        865\n",
       "fa        865\n",
       "mo        865\n",
       "sex       865\n",
       "mztwin    865\n",
       "hhID      865\n",
       "dtype: int64"
      ]
     },
     "execution_count": 31,
     "metadata": {},
     "output_type": "execute_result"
    }
   ],
   "source": [
    "df_pedig_final.count()"
   ]
  },
  {
   "cell_type": "code",
   "execution_count": 32,
   "metadata": {
    "collapsed": true
   },
   "outputs": [],
   "source": [
    "# Save the pedigree file\n",
    "df_pedig_final.to_csv(os.path.join(out_path,pedig_save), index=False)"
   ]
  },
  {
   "cell_type": "code",
   "execution_count": 33,
   "metadata": {
    "collapsed": true
   },
   "outputs": [],
   "source": [
    "import sys\n",
    "\n",
    "def query_yes_no(question, default=\"yes\"):\n",
    "    \"\"\"Ask a yes/no question via input() and return their answer.\n",
    "\n",
    "    \"question\" is a string that is presented to the user.\n",
    "    \"default\" is the presumed answer if the user just hits <Enter>.\n",
    "        It must be \"yes\" (the default), \"no\" or None (meaning\n",
    "        an answer is required of the user).\n",
    "\n",
    "    The \"answer\" return value is True for \"yes\" or False for \"no\".\n",
    "    \"\"\"\n",
    "    valid = {\"yes\": True, \"y\": True, \"ye\": True,\n",
    "             \"no\": False, \"n\": False}\n",
    "    if default is None:\n",
    "        prompt = \" [y/n] \"\n",
    "    elif default == \"yes\":\n",
    "        prompt = \" [Y/n] \"\n",
    "    elif default == \"no\":\n",
    "        prompt = \" [y/N] \"\n",
    "    else:\n",
    "        raise ValueError(\"invalid default answer: '%s'\" % default)\n",
    "\n",
    "    while True:\n",
    "        sys.stdout.write(question + prompt)\n",
    "        choice = input().lower()\n",
    "        if default is not None and choice == '':\n",
    "            return valid[default]\n",
    "        elif choice in valid:\n",
    "            return valid[choice]\n",
    "        else:\n",
    "            sys.stdout.write(\"Please respond with 'yes' or 'no' \"\n",
    "                             \"(or 'y' or 'n').\\n\")\n",
    "    return choice"
   ]
  },
  {
   "cell_type": "markdown",
   "metadata": {
    "collapsed": false
   },
   "source": [
    "## Run SOLAR heritability estimate "
   ]
  },
  {
   "cell_type": "code",
   "execution_count": 34,
   "metadata": {
    "collapsed": false,
    "scrolled": true
   },
   "outputs": [
    {
     "name": "stdout",
     "output_type": "stream",
     "text": [
      "HALT, you are about to run heritability pipline, would you like to continue? [Y/n] \n"
     ]
    },
    {
     "data": {
      "text/plain": [
       "True"
      ]
     },
     "execution_count": 34,
     "metadata": {},
     "output_type": "execute_result"
    }
   ],
   "source": [
    "query_yes_no('HALT, you are about to run heritability pipline, would you like to continue?')"
   ]
  },
  {
   "cell_type": "code",
   "execution_count": 35,
   "metadata": {
    "collapsed": false
   },
   "outputs": [
    {
     "name": "stdout",
     "output_type": "stream",
     "text": [
      "\n",
      "SOLAR Eclipse version 8.1.1 (General), last updated on December 10, 2016\n",
      "Copyright (c) 1995-2016 Texas Biomedical Research Institute\n",
      "Enter help for help, exit to exit, doc to browse documentation.\n",
      "\n",
      "Unloading current pedigree data ...\n",
      "Loading pedigree data from the file solar_motor_RL_pedigre.csv ...\n",
      "Running mibd relate ...                                                 \r",
      "Reading classes.tab ...                                                 \r",
      "Reading mibdrel.ped ...                                                 \r",
      "Writing output file ...                                                 \r",
      "                                                                        \r",
      "::::::::::::::\n",
      "mibdrel.tab\n",
      "::::::::::::::\n",
      "\n",
      "    NPairs  Relationship\n",
      "  ========  ===========================================\n",
      "      1611  Self\n",
      "       118  Identical sib pair\n",
      "      1730  Parent-offspring\n",
      "       618  Siblings\n",
      "       373  Unrelated\n",
      "\n"
     ]
    }
   ],
   "source": [
    "%%bash -s \"$out_path\" \"$pheno_save\" \"$pedig_save\"\n",
    "cd $1\n",
    "solar <<INTERNAL_SOLAR_SCRIPT  \n",
    "load pedi $3\n",
    "pedigree classes -full\n",
    "INTERNAL_SOLAR_SCRIPT"
   ]
  },
  {
   "cell_type": "code",
   "execution_count": 36,
   "metadata": {
    "collapsed": false
   },
   "outputs": [
    {
     "name": "stdout",
     "output_type": "stream",
     "text": [
      "\n",
      "SOLAR Eclipse version 8.1.1 (General), last updated on December 10, 2016\n",
      "Copyright (c) 1995-2016 Texas Biomedical Research Institute\n",
      "Enter help for help, exit to exit, doc to browse documentation.\n",
      "\n",
      "Creating output directories...\n",
      "00000 : Set-0 : FRONTO_PARIETAL_RIGHT_sub1                                                  \r",
      "00001 : Set-1 : FRONTO_PARIETAL_RIGHT_sub2                                                  \r",
      "00002 : Set-2 : FRONTO_PARIETAL_RIGHT_sub3                                                  \r",
      "00003 : Set-3 : FRONTO_PARIETAL_RIGHT_sub4                                                  \r",
      "00004 : Set-4 : FRONTO_PARIETAL_RIGHT_sub5                                                  \r",
      "00005 : Set-5 : MOTOR_AUDITORY_sub1                                                  \r",
      "00006 : Set-6 : MOTOR_AUDITORY_sub2                                                  \r",
      "00007 : Set-7 : MOTOR_AUDITORY_sub3                                                  \r",
      "00008 : Set-8 : MOTOR_AUDITORY_sub4                                                  \r",
      "00009 : Set-9 : MOTOR_AUDITORY_sub5                                                  \r",
      "00010 : Set-10 : VISUAL_sub1                                                  \r",
      "00011 : Set-11 : VISUAL_sub2                                                  \r",
      "00012 : Set-12 : VISUAL_sub3                                                  \r",
      "00013 : Set-13 : VISUAL_sub4                                                  \r",
      "00014 : Set-14 : VISUAL_sub5                                                  \r",
      "00015 : Set-15 : CEREBELLUM_sub1                                                  \r",
      "00016 : Set-16 : CEREBELLUM_sub2                                                  \r",
      "00017 : Set-17 : CEREBELLUM_sub3                                                  \r",
      "00018 : Set-18 : CEREBELLUM_sub4                                                  \r",
      "00019 : Set-19 : CEREBELLUM_sub5                                                  \r",
      "00020 : Set-20 : LIMBIC_sub1                                                  \r",
      "00021 : Set-21 : LIMBIC_sub2                                                  \r",
      "00022 : Set-22 : LIMBIC_sub3                                                  \r",
      "00023 : Set-23 : LIMBIC_sub4                                                  \r",
      "00024 : Set-24 : LIMBIC_sub5                                                  \r",
      "00025 : Set-25 : FRONTO_PARIETAL_LEFT_sub1                                                  \r",
      "00026 : Set-26 : FRONTO_PARIETAL_LEFT_sub2                                                  \r",
      "00027 : Set-27 : FRONTO_PARIETAL_LEFT_sub3                                                  \r",
      "00028 : Set-28 : FRONTO_PARIETAL_LEFT_sub4                                                  \r",
      "00029 : Set-29 : FRONTO_PARIETAL_LEFT_sub5                                                  \r",
      "00030 : Set-30 : Handedness                                                  \r",
      "00031 : Set-31 : BMI                                                  \r",
      "00032 : Set-32 : FD                                                  \r",
      "00033 : Set-33 : FD_scrubbed                                                  \r\n",
      "All done.\n"
     ]
    }
   ],
   "source": [
    "%%bash -s \"$out_path\" \"$pheno_save\" \"$pedig_save\"\n",
    "cd $1\n",
    "solar <<INTERNAL_SOLAR_SCRIPT \n",
    "load pheno $2\n",
    "INTERNAL_SOLAR_SCRIPT\n",
    "bash fcd_solar_h2r.sh trait_file subtype_5_net7_motor_covFD\n",
    "for i in subtype_5_net7_motor_covFD/Set-*; do bash $i/run_all.sh ; done"
   ]
  },
  {
   "cell_type": "markdown",
   "metadata": {},
   "source": [
    "## Results"
   ]
  },
  {
   "cell_type": "code",
   "execution_count": 37,
   "metadata": {
    "collapsed": false
   },
   "outputs": [
    {
     "data": {
      "text/html": [
       "<div>\n",
       "<table border=\"1\" class=\"dataframe\">\n",
       "  <thead>\n",
       "    <tr style=\"text-align: right;\">\n",
       "      <th></th>\n",
       "      <th>Trait</th>\n",
       "      <th>H2r</th>\n",
       "      <th>P</th>\n",
       "      <th>CovVarianceExpl</th>\n",
       "    </tr>\n",
       "  </thead>\n",
       "  <tbody>\n",
       "    <tr>\n",
       "      <th>24</th>\n",
       "      <td>BMI_norm</td>\n",
       "      <td>0.567292</td>\n",
       "      <td>4.187379e-16</td>\n",
       "      <td>0.372103</td>\n",
       "    </tr>\n",
       "    <tr>\n",
       "      <th>7</th>\n",
       "      <td>CEREBELLUM_sub1_norm</td>\n",
       "      <td>0.216100</td>\n",
       "      <td>9.289000e-04</td>\n",
       "      <td>-0.000047</td>\n",
       "    </tr>\n",
       "    <tr>\n",
       "      <th>8</th>\n",
       "      <td>CEREBELLUM_sub2_norm</td>\n",
       "      <td>0.207974</td>\n",
       "      <td>7.309000e-04</td>\n",
       "      <td>-0.000020</td>\n",
       "    </tr>\n",
       "    <tr>\n",
       "      <th>9</th>\n",
       "      <td>CEREBELLUM_sub3_norm</td>\n",
       "      <td>0.226536</td>\n",
       "      <td>2.025000e-04</td>\n",
       "      <td>0.000382</td>\n",
       "    </tr>\n",
       "    <tr>\n",
       "      <th>10</th>\n",
       "      <td>CEREBELLUM_sub4_norm</td>\n",
       "      <td>0.203172</td>\n",
       "      <td>2.535600e-03</td>\n",
       "      <td>0.000023</td>\n",
       "    </tr>\n",
       "    <tr>\n",
       "      <th>11</th>\n",
       "      <td>CEREBELLUM_sub5_norm</td>\n",
       "      <td>0.188949</td>\n",
       "      <td>1.437600e-03</td>\n",
       "      <td>0.000273</td>\n",
       "    </tr>\n",
       "    <tr>\n",
       "      <th>25</th>\n",
       "      <td>FD_norm</td>\n",
       "      <td>0.223370</td>\n",
       "      <td>2.048300e-03</td>\n",
       "      <td>0.802948</td>\n",
       "    </tr>\n",
       "    <tr>\n",
       "      <th>26</th>\n",
       "      <td>FD_scrubbed_norm</td>\n",
       "      <td>0.074704</td>\n",
       "      <td>1.552869e-01</td>\n",
       "      <td>0.948921</td>\n",
       "    </tr>\n",
       "    <tr>\n",
       "      <th>18</th>\n",
       "      <td>FRONTO_PARIETAL_LEFT_sub1_norm</td>\n",
       "      <td>0.200706</td>\n",
       "      <td>3.232500e-03</td>\n",
       "      <td>0.000081</td>\n",
       "    </tr>\n",
       "    <tr>\n",
       "      <th>19</th>\n",
       "      <td>FRONTO_PARIETAL_LEFT_sub2_norm</td>\n",
       "      <td>0.238434</td>\n",
       "      <td>5.599000e-04</td>\n",
       "      <td>0.003226</td>\n",
       "    </tr>\n",
       "    <tr>\n",
       "      <th>20</th>\n",
       "      <td>FRONTO_PARIETAL_LEFT_sub3_norm</td>\n",
       "      <td>0.218865</td>\n",
       "      <td>1.129400e-03</td>\n",
       "      <td>0.001318</td>\n",
       "    </tr>\n",
       "    <tr>\n",
       "      <th>21</th>\n",
       "      <td>FRONTO_PARIETAL_LEFT_sub4_norm</td>\n",
       "      <td>0.176919</td>\n",
       "      <td>3.867300e-03</td>\n",
       "      <td>0.000103</td>\n",
       "    </tr>\n",
       "    <tr>\n",
       "      <th>22</th>\n",
       "      <td>FRONTO_PARIETAL_LEFT_sub5_norm</td>\n",
       "      <td>0.201992</td>\n",
       "      <td>1.462400e-03</td>\n",
       "      <td>0.000206</td>\n",
       "    </tr>\n",
       "    <tr>\n",
       "      <th>0</th>\n",
       "      <td>FRONTO_PARIETAL_RIGHT_sub1_norm</td>\n",
       "      <td>0.143801</td>\n",
       "      <td>1.763430e-02</td>\n",
       "      <td>0.000161</td>\n",
       "    </tr>\n",
       "    <tr>\n",
       "      <th>1</th>\n",
       "      <td>FRONTO_PARIETAL_RIGHT_sub2_norm</td>\n",
       "      <td>0.174533</td>\n",
       "      <td>6.723700e-03</td>\n",
       "      <td>0.000076</td>\n",
       "    </tr>\n",
       "    <tr>\n",
       "      <th>12</th>\n",
       "      <td>FRONTO_PARIETAL_RIGHT_sub3_norm</td>\n",
       "      <td>0.261705</td>\n",
       "      <td>4.730000e-05</td>\n",
       "      <td>0.001228</td>\n",
       "    </tr>\n",
       "    <tr>\n",
       "      <th>23</th>\n",
       "      <td>FRONTO_PARIETAL_RIGHT_sub4_norm</td>\n",
       "      <td>0.287745</td>\n",
       "      <td>7.060000e-05</td>\n",
       "      <td>0.000108</td>\n",
       "    </tr>\n",
       "    <tr>\n",
       "      <th>27</th>\n",
       "      <td>FRONTO_PARIETAL_RIGHT_sub5_norm</td>\n",
       "      <td>0.119165</td>\n",
       "      <td>3.375290e-02</td>\n",
       "      <td>0.000203</td>\n",
       "    </tr>\n",
       "    <tr>\n",
       "      <th>13</th>\n",
       "      <td>LIMBIC_sub1_norm</td>\n",
       "      <td>0.098042</td>\n",
       "      <td>7.324030e-02</td>\n",
       "      <td>0.000146</td>\n",
       "    </tr>\n",
       "    <tr>\n",
       "      <th>14</th>\n",
       "      <td>LIMBIC_sub2_norm</td>\n",
       "      <td>0.146568</td>\n",
       "      <td>1.297230e-02</td>\n",
       "      <td>0.000005</td>\n",
       "    </tr>\n",
       "    <tr>\n",
       "      <th>15</th>\n",
       "      <td>LIMBIC_sub3_norm</td>\n",
       "      <td>0.180579</td>\n",
       "      <td>3.396000e-03</td>\n",
       "      <td>0.000042</td>\n",
       "    </tr>\n",
       "    <tr>\n",
       "      <th>16</th>\n",
       "      <td>LIMBIC_sub4_norm</td>\n",
       "      <td>0.195288</td>\n",
       "      <td>2.482200e-03</td>\n",
       "      <td>0.000228</td>\n",
       "    </tr>\n",
       "    <tr>\n",
       "      <th>17</th>\n",
       "      <td>LIMBIC_sub5_norm</td>\n",
       "      <td>0.150066</td>\n",
       "      <td>1.478100e-02</td>\n",
       "      <td>0.000089</td>\n",
       "    </tr>\n",
       "    <tr>\n",
       "      <th>28</th>\n",
       "      <td>MOTOR_AUDITORY_sub1_norm</td>\n",
       "      <td>0.279062</td>\n",
       "      <td>3.160000e-05</td>\n",
       "      <td>0.000110</td>\n",
       "    </tr>\n",
       "    <tr>\n",
       "      <th>29</th>\n",
       "      <td>MOTOR_AUDITORY_sub2_norm</td>\n",
       "      <td>0.228744</td>\n",
       "      <td>2.891000e-04</td>\n",
       "      <td>0.000094</td>\n",
       "    </tr>\n",
       "    <tr>\n",
       "      <th>30</th>\n",
       "      <td>MOTOR_AUDITORY_sub3_norm</td>\n",
       "      <td>0.236385</td>\n",
       "      <td>3.878000e-04</td>\n",
       "      <td>0.000271</td>\n",
       "    </tr>\n",
       "    <tr>\n",
       "      <th>31</th>\n",
       "      <td>MOTOR_AUDITORY_sub4_norm</td>\n",
       "      <td>0.248055</td>\n",
       "      <td>2.395000e-04</td>\n",
       "      <td>0.000119</td>\n",
       "    </tr>\n",
       "    <tr>\n",
       "      <th>32</th>\n",
       "      <td>MOTOR_AUDITORY_sub5_norm</td>\n",
       "      <td>0.217251</td>\n",
       "      <td>4.201000e-04</td>\n",
       "      <td>0.000102</td>\n",
       "    </tr>\n",
       "    <tr>\n",
       "      <th>2</th>\n",
       "      <td>VISUAL_sub1_norm</td>\n",
       "      <td>0.160188</td>\n",
       "      <td>1.210280e-02</td>\n",
       "      <td>0.002052</td>\n",
       "    </tr>\n",
       "    <tr>\n",
       "      <th>3</th>\n",
       "      <td>VISUAL_sub2_norm</td>\n",
       "      <td>0.284240</td>\n",
       "      <td>1.200000e-05</td>\n",
       "      <td>0.000128</td>\n",
       "    </tr>\n",
       "    <tr>\n",
       "      <th>4</th>\n",
       "      <td>VISUAL_sub3_norm</td>\n",
       "      <td>0.246619</td>\n",
       "      <td>1.724000e-04</td>\n",
       "      <td>0.000002</td>\n",
       "    </tr>\n",
       "    <tr>\n",
       "      <th>5</th>\n",
       "      <td>VISUAL_sub4_norm</td>\n",
       "      <td>0.215359</td>\n",
       "      <td>1.454500e-03</td>\n",
       "      <td>-0.000122</td>\n",
       "    </tr>\n",
       "    <tr>\n",
       "      <th>6</th>\n",
       "      <td>VISUAL_sub5_norm</td>\n",
       "      <td>0.235966</td>\n",
       "      <td>4.627000e-04</td>\n",
       "      <td>-0.000061</td>\n",
       "    </tr>\n",
       "  </tbody>\n",
       "</table>\n",
       "</div>"
      ],
      "text/plain": [
       "                              Trait       H2r             P  CovVarianceExpl\n",
       "24             BMI_norm              0.567292  4.187379e-16         0.372103\n",
       "7              CEREBELLUM_sub1_norm  0.216100  9.289000e-04        -0.000047\n",
       "8              CEREBELLUM_sub2_norm  0.207974  7.309000e-04        -0.000020\n",
       "9              CEREBELLUM_sub3_norm  0.226536  2.025000e-04         0.000382\n",
       "10             CEREBELLUM_sub4_norm  0.203172  2.535600e-03         0.000023\n",
       "11             CEREBELLUM_sub5_norm  0.188949  1.437600e-03         0.000273\n",
       "25             FD_norm               0.223370  2.048300e-03         0.802948\n",
       "26             FD_scrubbed_norm      0.074704  1.552869e-01         0.948921\n",
       "18   FRONTO_PARIETAL_LEFT_sub1_norm  0.200706  3.232500e-03         0.000081\n",
       "19   FRONTO_PARIETAL_LEFT_sub2_norm  0.238434  5.599000e-04         0.003226\n",
       "20   FRONTO_PARIETAL_LEFT_sub3_norm  0.218865  1.129400e-03         0.001318\n",
       "21   FRONTO_PARIETAL_LEFT_sub4_norm  0.176919  3.867300e-03         0.000103\n",
       "22   FRONTO_PARIETAL_LEFT_sub5_norm  0.201992  1.462400e-03         0.000206\n",
       "0   FRONTO_PARIETAL_RIGHT_sub1_norm  0.143801  1.763430e-02         0.000161\n",
       "1   FRONTO_PARIETAL_RIGHT_sub2_norm  0.174533  6.723700e-03         0.000076\n",
       "12  FRONTO_PARIETAL_RIGHT_sub3_norm  0.261705  4.730000e-05         0.001228\n",
       "23  FRONTO_PARIETAL_RIGHT_sub4_norm  0.287745  7.060000e-05         0.000108\n",
       "27  FRONTO_PARIETAL_RIGHT_sub5_norm  0.119165  3.375290e-02         0.000203\n",
       "13             LIMBIC_sub1_norm      0.098042  7.324030e-02         0.000146\n",
       "14             LIMBIC_sub2_norm      0.146568  1.297230e-02         0.000005\n",
       "15             LIMBIC_sub3_norm      0.180579  3.396000e-03         0.000042\n",
       "16             LIMBIC_sub4_norm      0.195288  2.482200e-03         0.000228\n",
       "17             LIMBIC_sub5_norm      0.150066  1.478100e-02         0.000089\n",
       "28         MOTOR_AUDITORY_sub1_norm  0.279062  3.160000e-05         0.000110\n",
       "29         MOTOR_AUDITORY_sub2_norm  0.228744  2.891000e-04         0.000094\n",
       "30         MOTOR_AUDITORY_sub3_norm  0.236385  3.878000e-04         0.000271\n",
       "31         MOTOR_AUDITORY_sub4_norm  0.248055  2.395000e-04         0.000119\n",
       "32         MOTOR_AUDITORY_sub5_norm  0.217251  4.201000e-04         0.000102\n",
       "2              VISUAL_sub1_norm      0.160188  1.210280e-02         0.002052\n",
       "3              VISUAL_sub2_norm      0.284240  1.200000e-05         0.000128\n",
       "4              VISUAL_sub3_norm      0.246619  1.724000e-04         0.000002\n",
       "5              VISUAL_sub4_norm      0.215359  1.454500e-03        -0.000122\n",
       "6              VISUAL_sub5_norm      0.235966  4.627000e-04        -0.000061"
      ]
     },
     "execution_count": 37,
     "metadata": {},
     "output_type": "execute_result"
    }
   ],
   "source": [
    "out_herit = pd.read_csv(os.path.join(out_path,\"subtype_5_net7_motor_covFD\",\"se_out.out\"),sep=\"\\t\",header=None)\n",
    "out_herit_df =  pd.DataFrame()\n",
    "data = pd.DataFrame({\"Trait\": out_herit[2],\"H2r\": out_herit[4],\"P\": out_herit[7],\"CovVarianceExpl\": out_herit[9]})\n",
    "out_herit_df = data[[\"Trait\",\"H2r\",\"P\",\"CovVarianceExpl\"]].sort_values(['Trait'], ascending=[True])\n",
    "out_herit_df"
   ]
  },
  {
   "cell_type": "code",
   "execution_count": 38,
   "metadata": {
    "collapsed": false
   },
   "outputs": [
    {
     "name": "stdout",
     "output_type": "stream",
     "text": [
      "Populating the interactive namespace from numpy and matplotlib\n"
     ]
    },
    {
     "data": {
      "image/png": "[encoded data removed]",
      "text/plain": [
       "<matplotlib.figure.Figure at 0x7f14cbe4cc18>"
      ]
     },
     "metadata": {},
     "output_type": "display_data"
    }
   ],
   "source": [
    "%pylab inline\n",
    "import numpy as np\n",
    "import pandas as pd\n",
    "import seaborn as sns\n",
    "import matplotlib.pyplot as plt\n",
    "sns.set(style=\"ticks\")\n",
    "\n",
    "# Create a dataset with many short random walks\n",
    "rs = np.random.RandomState(4)\n",
    "pos = rs.randint(-1, 2, (20, 5)).cumsum(axis=1)\n",
    "pos -= pos[:, 0, np.newaxis]\n",
    "step = np.tile(range(5), 20)\n",
    "walk = np.repeat(range(20), 5)\n",
    "df = pd.DataFrame(np.c_[pos.flat, step, walk],\n",
    "                  columns=[\"position\", \"step\", \"walk\"])\n",
    "# Initialize a grid of plots with an Axes for each walk\n",
    "grid = sns.FacetGrid(df, col=\"walk\", hue=\"walk\", col_wrap=5, size=1.5)\n",
    "\n",
    "# Draw a horizontal line to show the starting point\n",
    "grid.map(plt.axhline, y=0, ls=\":\", c=\".5\")\n",
    "\n",
    "# Draw a line plot to show the trajectory of each random walk\n",
    "grid.map(plt.plot, \"step\", \"position\", marker=\"o\", ms=4)\n",
    "\n",
    "# Adjust the tick positions and labels\n",
    "grid.set(xticks=np.arange(5), yticks=[-3, 3],\n",
    "         xlim=(-.5, 4.5), ylim=(-3.5, 3.5))\n",
    "\n",
    "# Adjust the arrangement of the plots\n",
    "grid.fig.tight_layout(w_pad=1)"
   ]
  },
  {
   "cell_type": "code",
   "execution_count": null,
   "metadata": {
    "collapsed": true
   },
   "outputs": [],
   "source": []
  }
 ],
 "metadata": {
  "anaconda-cloud": {},
  "kernelspec": {
   "display_name": "Python 3",
   "language": "python",
   "name": "python3"
  },
  "language_info": {
   "codemirror_mode": {
    "name": "ipython",
    "version": 3
   },
   "file_extension": ".py",
   "mimetype": "text/x-python",
   "name": "python",
   "nbconvert_exporter": "python",
   "pygments_lexer": "ipython3",
   "version": "3.4.3"
  },
  "widgets": {
   "state": {
    "0f85e1a0c7b842a4b94a93da01d870f5": {
     "views": []
    },
    "49eb17003aa048298a633981ba84d6ec": {
     "views": []
    },
    "4bf73ec1e3b44de68434b8dda4ea1569": {
     "views": []
    },
    "56aeb0fc9b234e498064c9dc318debd2": {
     "views": []
    },
    "66c1b1320c594b368c92e3eaedd75b53": {
     "views": []
    },
    "7a838bd4460942a097d37c7a7c2b3c38": {
     "views": []
    },
    "a9df9548a5da46bf940ad83d8698fd51": {
     "views": []
    },
    "cd20c663cce24b70a57faad7a8cb0127": {
     "views": []
    }
   },
   "version": "1.1.2"
  }
 },
 "nbformat": 4,
 "nbformat_minor": 1
}
