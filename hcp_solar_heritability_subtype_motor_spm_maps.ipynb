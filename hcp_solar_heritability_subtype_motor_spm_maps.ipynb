{
 "cells": [
  {
   "cell_type": "markdown",
   "metadata": {},
   "source": [
    "# EXP 1: MOTOR heritability subtype from SPM maps"
   ]
  },
  {
   "cell_type": "markdown",
   "metadata": {
    "collapsed": true
   },
   "source": [
    "##### Subtype:\n",
    "- Niak preprocessed MOTOR task (new scrub method)\n",
    "- Activation maps from SPM pipeline \n",
    "- SPM maps from all motor trial:\n",
    "```\n",
    ",start,duration ,repetition\n",
    "cue,8.05,3,1\n",
    "lh,11.009,12,1\n",
    "cue,23.164,3,1\n",
    "rf,26.136,12,1\n",
    "rest,38.291,15,1\n",
    "cue,53.298,3,1\n",
    "t,56.257,12,1\n",
    "cue,68.412,3,1\n",
    "lf,71.384,12,1\n",
    "cue,83.539,3,1\n",
    "rh,86.512,12,1\n",
    "rest,98.512,15,1\n",
    "cue,113.661,3,1\n",
    "lh,116.633,12,1\n",
    "cue,128.788,3,1\n",
    "t,131.76,12,1\n",
    "cue,143.915,3,1\n",
    "rf,146.887,12,1\n",
    "cue,159.042,3,1\n",
    "rh,162.014,12,1\n",
    "cue,174.169,3,1\n",
    "lf,177.141,12,1\n",
    "```\n",
    "- 5 subtype\n",
    "- FD regressed out befor building subtypes\n",
    "\n",
    "##### Heritability:\n",
    "- Regress \"FD_scrubbed\" \"Age_in_Yrs\" \"Gender\" as covariate\n"
   ]
  },
  {
   "cell_type": "markdown",
   "metadata": {},
   "source": [
    "## Build Pheno file"
   ]
  },
  {
   "cell_type": "markdown",
   "metadata": {},
   "source": [
    "### Merge behavioral variables with subtypes weights"
   ]
  },
  {
   "cell_type": "code",
   "execution_count": 6,
   "metadata": {
    "collapsed": false
   },
   "outputs": [],
   "source": [
    "# Import pandas\n",
    "import os\n",
    "import pandas as pd\n",
    "import numpy as np\n",
    "from IPython.display import display"
   ]
  },
  {
   "cell_type": "code",
   "execution_count": 7,
   "metadata": {
    "collapsed": true
   },
   "outputs": [],
   "source": [
    "# Set up the paths to the files we want to work with\n",
    "base_path = \"/media/yassinebha/database27/Drive/HCP/subtypes_scores/26-10-2016/spm_subtype_5_MOTOR_RL_15-Dec-2016/networks/\"\n",
    "sbt_name_pattern = \"sbt_weights_net_{}.csv\"\n",
    "pheno_path = '/media/yassinebha/database27/Drive/HCP/subtypes_scores/26-10-2016/pheno/motor_RL_pheno_scrub_raw_15-Dec-2016.csv'\n",
    "out_path = '/media/yassinebha/database27/Drive/HCP/Solar_heritability/HCP_subtype/'\n",
    "solar_script = 'fcd_solar_h2r.sh'\n",
    "pheno_save = 'solar_motor_RL_pheno.csv'\n",
    "pedig_save = 'solar_motor_RL_pedigre.csv'\n",
    "solar_out = 'subtype_5_spm_motor_EXP1'\n",
    "solar_cov = '    cov FD_scrubbed Age_in_Yrs'"
   ]
  },
  {
   "cell_type": "code",
   "execution_count": 8,
   "metadata": {
    "collapsed": false
   },
   "outputs": [
    {
     "data": {
      "text/plain": [
       "['lh', 'cue', 't', 'rh', 'rf', 'rest', 'lf']"
      ]
     },
     "execution_count": 8,
     "metadata": {},
     "output_type": "execute_result"
    }
   ],
   "source": [
    "# List of network names\n",
    "net_names = os.listdir(base_path)\n",
    "net_names"
   ]
  },
  {
   "cell_type": "code",
   "execution_count": 9,
   "metadata": {
    "collapsed": false
   },
   "outputs": [],
   "source": [
    "# Loop over each network and build weight file\n",
    "for index, net in enumerate(net_names):\n",
    "    file_path = os.path.join(base_path, net, sbt_name_pattern.format(net))\n",
    "    if not os.path.exists(file_path):\n",
    "        print(\"Hello, {} does not exist\".format(file_path))\n",
    "    \n",
    "    tmp_weights = pd.read_csv(file_path)\n",
    "    # Rename first column\n",
    "    tmp_weights.rename(columns={\" \":\"Subject\"}, inplace=True)\n",
    "    tmp_weights.Subject = tmp_weights.Subject.str.strip(\" \")\n",
    "    \n",
    "    rename_dict = dict()\n",
    "    for colname in tmp_weights.columns:\n",
    "        if colname == \"Subject\":\n",
    "            continue\n",
    "        else:\n",
    "            new_name = \"{}_{}\".format(net, colname)\n",
    "            # Get rid of trailing whitespace\n",
    "            new_name = new_name.strip(\" \")\n",
    "            rename_dict[colname] = new_name\n",
    "\n",
    "    tmp_weights.rename(columns=rename_dict, inplace=True)\n",
    "    \n",
    "    if index==0:\n",
    "        dataframe = tmp_weights\n",
    "    else:\n",
    "        dataframe = pd.merge(dataframe, tmp_weights, on=\"Subject\", how=\"inner\")"
   ]
  },
  {
   "cell_type": "code",
   "execution_count": 10,
   "metadata": {
    "collapsed": false
   },
   "outputs": [
    {
     "data": {
      "text/html": [
       "<div>\n",
       "<table border=\"1\" class=\"dataframe\">\n",
       "  <thead>\n",
       "    <tr style=\"text-align: right;\">\n",
       "      <th></th>\n",
       "      <th>Subject</th>\n",
       "      <th>lh_sub1</th>\n",
       "      <th>lh_sub2</th>\n",
       "      <th>lh_sub3</th>\n",
       "      <th>lh_sub4</th>\n",
       "      <th>lh_sub5</th>\n",
       "      <th>cue_sub1</th>\n",
       "      <th>cue_sub2</th>\n",
       "      <th>cue_sub3</th>\n",
       "      <th>cue_sub4</th>\n",
       "      <th>...</th>\n",
       "      <th>rest_sub1</th>\n",
       "      <th>rest_sub2</th>\n",
       "      <th>rest_sub3</th>\n",
       "      <th>rest_sub4</th>\n",
       "      <th>rest_sub5</th>\n",
       "      <th>lf_sub1</th>\n",
       "      <th>lf_sub2</th>\n",
       "      <th>lf_sub3</th>\n",
       "      <th>lf_sub4</th>\n",
       "      <th>lf_sub5</th>\n",
       "    </tr>\n",
       "  </thead>\n",
       "  <tbody>\n",
       "    <tr>\n",
       "      <th>0</th>\n",
       "      <td>HCP100206</td>\n",
       "      <td>-0.226</td>\n",
       "      <td>0.102</td>\n",
       "      <td>0.202</td>\n",
       "      <td>-0.135</td>\n",
       "      <td>-0.068</td>\n",
       "      <td>0.096</td>\n",
       "      <td>0.078</td>\n",
       "      <td>-0.008</td>\n",
       "      <td>-0.031</td>\n",
       "      <td>...</td>\n",
       "      <td>0.059</td>\n",
       "      <td>-0.078</td>\n",
       "      <td>0.142</td>\n",
       "      <td>-0.091</td>\n",
       "      <td>-0.071</td>\n",
       "      <td>-0.133</td>\n",
       "      <td>0.063</td>\n",
       "      <td>0.134</td>\n",
       "      <td>-0.084</td>\n",
       "      <td>-0.136</td>\n",
       "    </tr>\n",
       "    <tr>\n",
       "      <th>1</th>\n",
       "      <td>HCP100307</td>\n",
       "      <td>-0.311</td>\n",
       "      <td>0.402</td>\n",
       "      <td>0.114</td>\n",
       "      <td>-0.093</td>\n",
       "      <td>-0.253</td>\n",
       "      <td>0.020</td>\n",
       "      <td>-0.396</td>\n",
       "      <td>0.564</td>\n",
       "      <td>-0.507</td>\n",
       "      <td>...</td>\n",
       "      <td>-0.194</td>\n",
       "      <td>-0.163</td>\n",
       "      <td>0.088</td>\n",
       "      <td>-0.111</td>\n",
       "      <td>0.214</td>\n",
       "      <td>-0.518</td>\n",
       "      <td>0.161</td>\n",
       "      <td>0.527</td>\n",
       "      <td>-0.314</td>\n",
       "      <td>-0.454</td>\n",
       "    </tr>\n",
       "    <tr>\n",
       "      <th>2</th>\n",
       "      <td>HCP100408</td>\n",
       "      <td>0.548</td>\n",
       "      <td>-0.456</td>\n",
       "      <td>-0.267</td>\n",
       "      <td>0.225</td>\n",
       "      <td>0.202</td>\n",
       "      <td>-0.348</td>\n",
       "      <td>0.230</td>\n",
       "      <td>-0.552</td>\n",
       "      <td>0.623</td>\n",
       "      <td>...</td>\n",
       "      <td>0.039</td>\n",
       "      <td>0.112</td>\n",
       "      <td>-0.353</td>\n",
       "      <td>0.376</td>\n",
       "      <td>0.043</td>\n",
       "      <td>-0.059</td>\n",
       "      <td>0.113</td>\n",
       "      <td>-0.003</td>\n",
       "      <td>0.263</td>\n",
       "      <td>-0.266</td>\n",
       "    </tr>\n",
       "    <tr>\n",
       "      <th>3</th>\n",
       "      <td>HCP100610</td>\n",
       "      <td>0.102</td>\n",
       "      <td>-0.173</td>\n",
       "      <td>-0.054</td>\n",
       "      <td>-0.101</td>\n",
       "      <td>0.291</td>\n",
       "      <td>-0.105</td>\n",
       "      <td>-0.089</td>\n",
       "      <td>-0.028</td>\n",
       "      <td>0.064</td>\n",
       "      <td>...</td>\n",
       "      <td>0.162</td>\n",
       "      <td>-0.107</td>\n",
       "      <td>0.026</td>\n",
       "      <td>0.008</td>\n",
       "      <td>-0.024</td>\n",
       "      <td>-0.049</td>\n",
       "      <td>0.117</td>\n",
       "      <td>-0.016</td>\n",
       "      <td>-0.211</td>\n",
       "      <td>0.089</td>\n",
       "    </tr>\n",
       "    <tr>\n",
       "      <th>4</th>\n",
       "      <td>HCP101006</td>\n",
       "      <td>0.012</td>\n",
       "      <td>0.025</td>\n",
       "      <td>0.131</td>\n",
       "      <td>-0.063</td>\n",
       "      <td>-0.136</td>\n",
       "      <td>0.053</td>\n",
       "      <td>0.009</td>\n",
       "      <td>0.027</td>\n",
       "      <td>-0.027</td>\n",
       "      <td>...</td>\n",
       "      <td>-0.082</td>\n",
       "      <td>-0.048</td>\n",
       "      <td>-0.240</td>\n",
       "      <td>0.185</td>\n",
       "      <td>0.248</td>\n",
       "      <td>0.126</td>\n",
       "      <td>-0.118</td>\n",
       "      <td>-0.108</td>\n",
       "      <td>0.199</td>\n",
       "      <td>0.074</td>\n",
       "    </tr>\n",
       "  </tbody>\n",
       "</table>\n",
       "<p>5 rows × 36 columns</p>\n",
       "</div>"
      ],
      "text/plain": [
       "     Subject  lh_sub1  lh_sub2  lh_sub3  lh_sub4  lh_sub5  cue_sub1  cue_sub2  \\\n",
       "0  HCP100206   -0.226    0.102    0.202   -0.135   -0.068     0.096     0.078   \n",
       "1  HCP100307   -0.311    0.402    0.114   -0.093   -0.253     0.020    -0.396   \n",
       "2  HCP100408    0.548   -0.456   -0.267    0.225    0.202    -0.348     0.230   \n",
       "3  HCP100610    0.102   -0.173   -0.054   -0.101    0.291    -0.105    -0.089   \n",
       "4  HCP101006    0.012    0.025    0.131   -0.063   -0.136     0.053     0.009   \n",
       "\n",
       "   cue_sub3  cue_sub4   ...     rest_sub1  rest_sub2  rest_sub3  rest_sub4  \\\n",
       "0    -0.008    -0.031   ...         0.059     -0.078      0.142     -0.091   \n",
       "1     0.564    -0.507   ...        -0.194     -0.163      0.088     -0.111   \n",
       "2    -0.552     0.623   ...         0.039      0.112     -0.353      0.376   \n",
       "3    -0.028     0.064   ...         0.162     -0.107      0.026      0.008   \n",
       "4     0.027    -0.027   ...        -0.082     -0.048     -0.240      0.185   \n",
       "\n",
       "   rest_sub5  lf_sub1  lf_sub2  lf_sub3  lf_sub4  lf_sub5  \n",
       "0     -0.071   -0.133    0.063    0.134   -0.084   -0.136  \n",
       "1      0.214   -0.518    0.161    0.527   -0.314   -0.454  \n",
       "2      0.043   -0.059    0.113   -0.003    0.263   -0.266  \n",
       "3     -0.024   -0.049    0.117   -0.016   -0.211    0.089  \n",
       "4      0.248    0.126   -0.118   -0.108    0.199    0.074  \n",
       "\n",
       "[5 rows x 36 columns]"
      ]
     },
     "execution_count": 10,
     "metadata": {},
     "output_type": "execute_result"
    }
   ],
   "source": [
    "dataframe.head()"
   ]
  },
  {
   "cell_type": "code",
   "execution_count": 11,
   "metadata": {
    "collapsed": false,
    "scrolled": true
   },
   "outputs": [
    {
     "data": {
      "text/plain": [
       "count           831\n",
       "unique          831\n",
       "top       HCP979984\n",
       "freq              1\n",
       "Name: Subject, dtype: object"
      ]
     },
     "execution_count": 11,
     "metadata": {},
     "output_type": "execute_result"
    }
   ],
   "source": [
    "dataframe.Subject.describe()"
   ]
  },
  {
   "cell_type": "code",
   "execution_count": 12,
   "metadata": {
    "collapsed": false
   },
   "outputs": [],
   "source": [
    "# Load pheno file\n",
    "file_weight = dataframe\n",
    "file_pheno = pd.read_csv(pheno_path)"
   ]
  },
  {
   "cell_type": "code",
   "execution_count": 13,
   "metadata": {
    "collapsed": false
   },
   "outputs": [
    {
     "data": {
      "text/html": [
       "<div>\n",
       "<table border=\"1\" class=\"dataframe\">\n",
       "  <thead>\n",
       "    <tr style=\"text-align: right;\">\n",
       "      <th></th>\n",
       "      <th>Subject</th>\n",
       "      <th>Age_in_Yrs</th>\n",
       "      <th>Twin_Stat</th>\n",
       "      <th>Zygosity</th>\n",
       "      <th>Mother_ID</th>\n",
       "      <th>Father_ID</th>\n",
       "      <th>Handedness</th>\n",
       "      <th>BMI</th>\n",
       "      <th>Gender</th>\n",
       "      <th>Endurance_Unadj</th>\n",
       "      <th>...</th>\n",
       "      <th>GaitSpeed_Comp</th>\n",
       "      <th>Dexterity_Unadj</th>\n",
       "      <th>Dexterity_AgeAdj</th>\n",
       "      <th>Strength_Unadj</th>\n",
       "      <th>Strength_AgeAdj</th>\n",
       "      <th>Odor_Unadj</th>\n",
       "      <th>PainInterf_Tscore</th>\n",
       "      <th>Taste_Unadj</th>\n",
       "      <th>FD</th>\n",
       "      <th>FD_scrubbed</th>\n",
       "    </tr>\n",
       "  </thead>\n",
       "  <tbody>\n",
       "    <tr>\n",
       "      <th>0</th>\n",
       "      <td>HCP100206</td>\n",
       "      <td>27</td>\n",
       "      <td>NotTwin</td>\n",
       "      <td>NotTwin</td>\n",
       "      <td>56037</td>\n",
       "      <td>85858.0</td>\n",
       "      <td>65</td>\n",
       "      <td>26.64</td>\n",
       "      <td>M</td>\n",
       "      <td>123.31</td>\n",
       "      <td>...</td>\n",
       "      <td>1.24</td>\n",
       "      <td>106.61</td>\n",
       "      <td>94.23</td>\n",
       "      <td>132.46</td>\n",
       "      <td>129.43</td>\n",
       "      <td>108.79</td>\n",
       "      <td>49.7</td>\n",
       "      <td>72.63</td>\n",
       "      <td>0.090883</td>\n",
       "      <td>0.090883</td>\n",
       "    </tr>\n",
       "    <tr>\n",
       "      <th>1</th>\n",
       "      <td>HCP100307</td>\n",
       "      <td>27</td>\n",
       "      <td>Twin</td>\n",
       "      <td>NotMZ</td>\n",
       "      <td>51488</td>\n",
       "      <td>81352.0</td>\n",
       "      <td>95</td>\n",
       "      <td>22.96</td>\n",
       "      <td>F</td>\n",
       "      <td>114.05</td>\n",
       "      <td>...</td>\n",
       "      <td>1.58</td>\n",
       "      <td>118.68</td>\n",
       "      <td>105.21</td>\n",
       "      <td>108.34</td>\n",
       "      <td>84.59</td>\n",
       "      <td>101.12</td>\n",
       "      <td>38.6</td>\n",
       "      <td>71.69</td>\n",
       "      <td>0.108998</td>\n",
       "      <td>0.108998</td>\n",
       "    </tr>\n",
       "    <tr>\n",
       "      <th>2</th>\n",
       "      <td>HCP100408</td>\n",
       "      <td>33</td>\n",
       "      <td>Twin</td>\n",
       "      <td>MZ</td>\n",
       "      <td>51730</td>\n",
       "      <td>81594.0</td>\n",
       "      <td>55</td>\n",
       "      <td>27.75</td>\n",
       "      <td>M</td>\n",
       "      <td>121.00</td>\n",
       "      <td>...</td>\n",
       "      <td>1.51</td>\n",
       "      <td>117.48</td>\n",
       "      <td>106.24</td>\n",
       "      <td>125.18</td>\n",
       "      <td>124.24</td>\n",
       "      <td>108.79</td>\n",
       "      <td>52.6</td>\n",
       "      <td>114.01</td>\n",
       "      <td>0.098323</td>\n",
       "      <td>0.098323</td>\n",
       "    </tr>\n",
       "    <tr>\n",
       "      <th>3</th>\n",
       "      <td>HCP100610</td>\n",
       "      <td>27</td>\n",
       "      <td>Twin</td>\n",
       "      <td>NotMZ</td>\n",
       "      <td>52813</td>\n",
       "      <td>82634.0</td>\n",
       "      <td>85</td>\n",
       "      <td>36.91</td>\n",
       "      <td>M</td>\n",
       "      <td>107.24</td>\n",
       "      <td>...</td>\n",
       "      <td>1.10</td>\n",
       "      <td>121.55</td>\n",
       "      <td>107.85</td>\n",
       "      <td>123.16</td>\n",
       "      <td>118.90</td>\n",
       "      <td>122.25</td>\n",
       "      <td>38.6</td>\n",
       "      <td>84.84</td>\n",
       "      <td>0.139763</td>\n",
       "      <td>0.137298</td>\n",
       "    </tr>\n",
       "    <tr>\n",
       "      <th>4</th>\n",
       "      <td>HCP101006</td>\n",
       "      <td>35</td>\n",
       "      <td>Twin</td>\n",
       "      <td>MZ</td>\n",
       "      <td>51283</td>\n",
       "      <td>81149.0</td>\n",
       "      <td>90</td>\n",
       "      <td>30.27</td>\n",
       "      <td>F</td>\n",
       "      <td>81.58</td>\n",
       "      <td>...</td>\n",
       "      <td>1.24</td>\n",
       "      <td>106.53</td>\n",
       "      <td>96.00</td>\n",
       "      <td>116.06</td>\n",
       "      <td>106.93</td>\n",
       "      <td>122.25</td>\n",
       "      <td>38.6</td>\n",
       "      <td>123.80</td>\n",
       "      <td>0.165364</td>\n",
       "      <td>0.138544</td>\n",
       "    </tr>\n",
       "  </tbody>\n",
       "</table>\n",
       "<p>5 rows × 21 columns</p>\n",
       "</div>"
      ],
      "text/plain": [
       "     Subject  Age_in_Yrs Twin_Stat Zygosity  Mother_ID  Father_ID  Handedness  \\\n",
       "0  HCP100206          27   NotTwin  NotTwin      56037    85858.0          65   \n",
       "1  HCP100307          27      Twin    NotMZ      51488    81352.0          95   \n",
       "2  HCP100408          33      Twin       MZ      51730    81594.0          55   \n",
       "3  HCP100610          27      Twin    NotMZ      52813    82634.0          85   \n",
       "4  HCP101006          35      Twin       MZ      51283    81149.0          90   \n",
       "\n",
       "     BMI Gender  Endurance_Unadj     ...       GaitSpeed_Comp  \\\n",
       "0  26.64      M           123.31     ...                 1.24   \n",
       "1  22.96      F           114.05     ...                 1.58   \n",
       "2  27.75      M           121.00     ...                 1.51   \n",
       "3  36.91      M           107.24     ...                 1.10   \n",
       "4  30.27      F            81.58     ...                 1.24   \n",
       "\n",
       "   Dexterity_Unadj  Dexterity_AgeAdj  Strength_Unadj  Strength_AgeAdj  \\\n",
       "0           106.61             94.23          132.46           129.43   \n",
       "1           118.68            105.21          108.34            84.59   \n",
       "2           117.48            106.24          125.18           124.24   \n",
       "3           121.55            107.85          123.16           118.90   \n",
       "4           106.53             96.00          116.06           106.93   \n",
       "\n",
       "   Odor_Unadj  PainInterf_Tscore  Taste_Unadj        FD  FD_scrubbed  \n",
       "0      108.79               49.7        72.63  0.090883     0.090883  \n",
       "1      101.12               38.6        71.69  0.108998     0.108998  \n",
       "2      108.79               52.6       114.01  0.098323     0.098323  \n",
       "3      122.25               38.6        84.84  0.139763     0.137298  \n",
       "4      122.25               38.6       123.80  0.165364     0.138544  \n",
       "\n",
       "[5 rows x 21 columns]"
      ]
     },
     "execution_count": 13,
     "metadata": {},
     "output_type": "execute_result"
    }
   ],
   "source": [
    "file_pheno.head()"
   ]
  },
  {
   "cell_type": "code",
   "execution_count": 14,
   "metadata": {
    "collapsed": false
   },
   "outputs": [
    {
     "data": {
      "text/plain": [
       "count           831\n",
       "unique          831\n",
       "top       HCP979984\n",
       "freq              1\n",
       "Name: Subject, dtype: object"
      ]
     },
     "execution_count": 14,
     "metadata": {},
     "output_type": "execute_result"
    }
   ],
   "source": [
    "file_pheno.Subject.describe()"
   ]
  },
  {
   "cell_type": "code",
   "execution_count": 15,
   "metadata": {
    "collapsed": false,
    "scrolled": true
   },
   "outputs": [
    {
     "data": {
      "text/html": [
       "<div>\n",
       "<table border=\"1\" class=\"dataframe\">\n",
       "  <thead>\n",
       "    <tr style=\"text-align: right;\">\n",
       "      <th></th>\n",
       "      <th>Subject</th>\n",
       "      <th>Age_in_Yrs</th>\n",
       "      <th>Handedness</th>\n",
       "      <th>Gender</th>\n",
       "      <th>BMI</th>\n",
       "      <th>FD</th>\n",
       "      <th>FD_scrubbed</th>\n",
       "    </tr>\n",
       "  </thead>\n",
       "  <tbody>\n",
       "    <tr>\n",
       "      <th>0</th>\n",
       "      <td>HCP100206</td>\n",
       "      <td>27</td>\n",
       "      <td>65</td>\n",
       "      <td>M</td>\n",
       "      <td>26.64</td>\n",
       "      <td>0.090883</td>\n",
       "      <td>0.090883</td>\n",
       "    </tr>\n",
       "    <tr>\n",
       "      <th>1</th>\n",
       "      <td>HCP100307</td>\n",
       "      <td>27</td>\n",
       "      <td>95</td>\n",
       "      <td>F</td>\n",
       "      <td>22.96</td>\n",
       "      <td>0.108998</td>\n",
       "      <td>0.108998</td>\n",
       "    </tr>\n",
       "    <tr>\n",
       "      <th>2</th>\n",
       "      <td>HCP100408</td>\n",
       "      <td>33</td>\n",
       "      <td>55</td>\n",
       "      <td>M</td>\n",
       "      <td>27.75</td>\n",
       "      <td>0.098323</td>\n",
       "      <td>0.098323</td>\n",
       "    </tr>\n",
       "    <tr>\n",
       "      <th>3</th>\n",
       "      <td>HCP100610</td>\n",
       "      <td>27</td>\n",
       "      <td>85</td>\n",
       "      <td>M</td>\n",
       "      <td>36.91</td>\n",
       "      <td>0.139763</td>\n",
       "      <td>0.137298</td>\n",
       "    </tr>\n",
       "    <tr>\n",
       "      <th>4</th>\n",
       "      <td>HCP101006</td>\n",
       "      <td>35</td>\n",
       "      <td>90</td>\n",
       "      <td>F</td>\n",
       "      <td>30.27</td>\n",
       "      <td>0.165364</td>\n",
       "      <td>0.138544</td>\n",
       "    </tr>\n",
       "  </tbody>\n",
       "</table>\n",
       "</div>"
      ],
      "text/plain": [
       "     Subject  Age_in_Yrs  Handedness Gender    BMI        FD  FD_scrubbed\n",
       "0  HCP100206          27          65      M  26.64  0.090883     0.090883\n",
       "1  HCP100307          27          95      F  22.96  0.108998     0.108998\n",
       "2  HCP100408          33          55      M  27.75  0.098323     0.098323\n",
       "3  HCP100610          27          85      M  36.91  0.139763     0.137298\n",
       "4  HCP101006          35          90      F  30.27  0.165364     0.138544"
      ]
     },
     "execution_count": 15,
     "metadata": {},
     "output_type": "execute_result"
    }
   ],
   "source": [
    "# Select a subset of variable\n",
    "file_pheno_subset = file_pheno[[\"Subject\",\"Age_in_Yrs\",\"Handedness\",\"Gender\",\"BMI\",\"FD\",\"FD_scrubbed\"]]\n",
    "file_pheno_subset.head()"
   ]
  },
  {
   "cell_type": "code",
   "execution_count": 16,
   "metadata": {
    "collapsed": false
   },
   "outputs": [
    {
     "name": "stderr",
     "output_type": "stream",
     "text": [
      "/usr/local/lib/python3.4/dist-packages/pandas/core/generic.py:3547: SettingWithCopyWarning: \n",
      "A value is trying to be set on a copy of a slice from a DataFrame\n",
      "\n",
      "See the caveats in the documentation: http://pandas.pydata.org/pandas-docs/stable/indexing.html#indexing-view-versus-copy\n",
      "  self._update_inplace(new_data)\n"
     ]
    },
    {
     "data": {
      "text/html": [
       "<div>\n",
       "<table border=\"1\" class=\"dataframe\">\n",
       "  <thead>\n",
       "    <tr style=\"text-align: right;\">\n",
       "      <th></th>\n",
       "      <th>Subject</th>\n",
       "      <th>Age_in_Yrs</th>\n",
       "      <th>Handedness</th>\n",
       "      <th>Gender</th>\n",
       "      <th>BMI</th>\n",
       "      <th>FD</th>\n",
       "      <th>FD_scrubbed</th>\n",
       "    </tr>\n",
       "  </thead>\n",
       "  <tbody>\n",
       "    <tr>\n",
       "      <th>0</th>\n",
       "      <td>HCP100206</td>\n",
       "      <td>27</td>\n",
       "      <td>65</td>\n",
       "      <td>1</td>\n",
       "      <td>26.64</td>\n",
       "      <td>0.090883</td>\n",
       "      <td>0.090883</td>\n",
       "    </tr>\n",
       "    <tr>\n",
       "      <th>1</th>\n",
       "      <td>HCP100307</td>\n",
       "      <td>27</td>\n",
       "      <td>95</td>\n",
       "      <td>2</td>\n",
       "      <td>22.96</td>\n",
       "      <td>0.108998</td>\n",
       "      <td>0.108998</td>\n",
       "    </tr>\n",
       "    <tr>\n",
       "      <th>2</th>\n",
       "      <td>HCP100408</td>\n",
       "      <td>33</td>\n",
       "      <td>55</td>\n",
       "      <td>1</td>\n",
       "      <td>27.75</td>\n",
       "      <td>0.098323</td>\n",
       "      <td>0.098323</td>\n",
       "    </tr>\n",
       "    <tr>\n",
       "      <th>3</th>\n",
       "      <td>HCP100610</td>\n",
       "      <td>27</td>\n",
       "      <td>85</td>\n",
       "      <td>1</td>\n",
       "      <td>36.91</td>\n",
       "      <td>0.139763</td>\n",
       "      <td>0.137298</td>\n",
       "    </tr>\n",
       "    <tr>\n",
       "      <th>4</th>\n",
       "      <td>HCP101006</td>\n",
       "      <td>35</td>\n",
       "      <td>90</td>\n",
       "      <td>2</td>\n",
       "      <td>30.27</td>\n",
       "      <td>0.165364</td>\n",
       "      <td>0.138544</td>\n",
       "    </tr>\n",
       "  </tbody>\n",
       "</table>\n",
       "</div>"
      ],
      "text/plain": [
       "     Subject  Age_in_Yrs  Handedness  Gender    BMI        FD  FD_scrubbed\n",
       "0  HCP100206          27          65       1  26.64  0.090883     0.090883\n",
       "1  HCP100307          27          95       2  22.96  0.108998     0.108998\n",
       "2  HCP100408          33          55       1  27.75  0.098323     0.098323\n",
       "3  HCP100610          27          85       1  36.91  0.139763     0.137298\n",
       "4  HCP101006          35          90       2  30.27  0.165364     0.138544"
      ]
     },
     "execution_count": 16,
     "metadata": {},
     "output_type": "execute_result"
    }
   ],
   "source": [
    "# Replace gender M=1 and F=2\n",
    "file_pheno_subset.Gender.replace({'M':1,'F':2}, inplace=True)\n",
    "file_pheno_subset.head()"
   ]
  },
  {
   "cell_type": "code",
   "execution_count": 17,
   "metadata": {
    "collapsed": false
   },
   "outputs": [
    {
     "data": {
      "text/html": [
       "<div>\n",
       "<table border=\"1\" class=\"dataframe\">\n",
       "  <thead>\n",
       "    <tr style=\"text-align: right;\">\n",
       "      <th></th>\n",
       "      <th>Subject</th>\n",
       "    </tr>\n",
       "  </thead>\n",
       "  <tbody>\n",
       "    <tr>\n",
       "      <th>count</th>\n",
       "      <td>831</td>\n",
       "    </tr>\n",
       "    <tr>\n",
       "      <th>unique</th>\n",
       "      <td>831</td>\n",
       "    </tr>\n",
       "    <tr>\n",
       "      <th>top</th>\n",
       "      <td>HCP979984</td>\n",
       "    </tr>\n",
       "    <tr>\n",
       "      <th>freq</th>\n",
       "      <td>1</td>\n",
       "    </tr>\n",
       "  </tbody>\n",
       "</table>\n",
       "</div>"
      ],
      "text/plain": [
       "          Subject\n",
       "count         831\n",
       "unique        831\n",
       "top     HCP979984\n",
       "freq            1"
      ]
     },
     "execution_count": 17,
     "metadata": {},
     "output_type": "execute_result"
    }
   ],
   "source": [
    "file_pheno_subset[[\"Subject\"]].describe()"
   ]
  },
  {
   "cell_type": "code",
   "execution_count": 18,
   "metadata": {
    "collapsed": false
   },
   "outputs": [
    {
     "data": {
      "text/html": [
       "<div>\n",
       "<table border=\"1\" class=\"dataframe\">\n",
       "  <thead>\n",
       "    <tr style=\"text-align: right;\">\n",
       "      <th></th>\n",
       "      <th>Subject</th>\n",
       "    </tr>\n",
       "  </thead>\n",
       "  <tbody>\n",
       "    <tr>\n",
       "      <th>count</th>\n",
       "      <td>831</td>\n",
       "    </tr>\n",
       "    <tr>\n",
       "      <th>unique</th>\n",
       "      <td>831</td>\n",
       "    </tr>\n",
       "    <tr>\n",
       "      <th>top</th>\n",
       "      <td>HCP979984</td>\n",
       "    </tr>\n",
       "    <tr>\n",
       "      <th>freq</th>\n",
       "      <td>1</td>\n",
       "    </tr>\n",
       "  </tbody>\n",
       "</table>\n",
       "</div>"
      ],
      "text/plain": [
       "          Subject\n",
       "count         831\n",
       "unique        831\n",
       "top     HCP979984\n",
       "freq            1"
      ]
     },
     "execution_count": 18,
     "metadata": {},
     "output_type": "execute_result"
    }
   ],
   "source": [
    "file_weight[[\"Subject\"]].describe()"
   ]
  },
  {
   "cell_type": "code",
   "execution_count": 19,
   "metadata": {
    "collapsed": false
   },
   "outputs": [
    {
     "data": {
      "text/html": [
       "<div>\n",
       "<table border=\"1\" class=\"dataframe\">\n",
       "  <thead>\n",
       "    <tr style=\"text-align: right;\">\n",
       "      <th></th>\n",
       "      <th>ID</th>\n",
       "      <th>lh_sub1</th>\n",
       "      <th>lh_sub2</th>\n",
       "      <th>lh_sub3</th>\n",
       "      <th>lh_sub4</th>\n",
       "      <th>lh_sub5</th>\n",
       "      <th>cue_sub1</th>\n",
       "      <th>cue_sub2</th>\n",
       "      <th>cue_sub3</th>\n",
       "      <th>cue_sub4</th>\n",
       "      <th>...</th>\n",
       "      <th>lf_sub2</th>\n",
       "      <th>lf_sub3</th>\n",
       "      <th>lf_sub4</th>\n",
       "      <th>lf_sub5</th>\n",
       "      <th>Age_in_Yrs</th>\n",
       "      <th>Handedness</th>\n",
       "      <th>Gender</th>\n",
       "      <th>BMI</th>\n",
       "      <th>FD</th>\n",
       "      <th>FD_scrubbed</th>\n",
       "    </tr>\n",
       "  </thead>\n",
       "  <tbody>\n",
       "    <tr>\n",
       "      <th>0</th>\n",
       "      <td>HCP100206</td>\n",
       "      <td>-0.226</td>\n",
       "      <td>0.102</td>\n",
       "      <td>0.202</td>\n",
       "      <td>-0.135</td>\n",
       "      <td>-0.068</td>\n",
       "      <td>0.096</td>\n",
       "      <td>0.078</td>\n",
       "      <td>-0.008</td>\n",
       "      <td>-0.031</td>\n",
       "      <td>...</td>\n",
       "      <td>0.063</td>\n",
       "      <td>0.134</td>\n",
       "      <td>-0.084</td>\n",
       "      <td>-0.136</td>\n",
       "      <td>27</td>\n",
       "      <td>65</td>\n",
       "      <td>1</td>\n",
       "      <td>26.64</td>\n",
       "      <td>0.090883</td>\n",
       "      <td>0.090883</td>\n",
       "    </tr>\n",
       "    <tr>\n",
       "      <th>1</th>\n",
       "      <td>HCP100307</td>\n",
       "      <td>-0.311</td>\n",
       "      <td>0.402</td>\n",
       "      <td>0.114</td>\n",
       "      <td>-0.093</td>\n",
       "      <td>-0.253</td>\n",
       "      <td>0.020</td>\n",
       "      <td>-0.396</td>\n",
       "      <td>0.564</td>\n",
       "      <td>-0.507</td>\n",
       "      <td>...</td>\n",
       "      <td>0.161</td>\n",
       "      <td>0.527</td>\n",
       "      <td>-0.314</td>\n",
       "      <td>-0.454</td>\n",
       "      <td>27</td>\n",
       "      <td>95</td>\n",
       "      <td>2</td>\n",
       "      <td>22.96</td>\n",
       "      <td>0.108998</td>\n",
       "      <td>0.108998</td>\n",
       "    </tr>\n",
       "    <tr>\n",
       "      <th>2</th>\n",
       "      <td>HCP100408</td>\n",
       "      <td>0.548</td>\n",
       "      <td>-0.456</td>\n",
       "      <td>-0.267</td>\n",
       "      <td>0.225</td>\n",
       "      <td>0.202</td>\n",
       "      <td>-0.348</td>\n",
       "      <td>0.230</td>\n",
       "      <td>-0.552</td>\n",
       "      <td>0.623</td>\n",
       "      <td>...</td>\n",
       "      <td>0.113</td>\n",
       "      <td>-0.003</td>\n",
       "      <td>0.263</td>\n",
       "      <td>-0.266</td>\n",
       "      <td>33</td>\n",
       "      <td>55</td>\n",
       "      <td>1</td>\n",
       "      <td>27.75</td>\n",
       "      <td>0.098323</td>\n",
       "      <td>0.098323</td>\n",
       "    </tr>\n",
       "    <tr>\n",
       "      <th>3</th>\n",
       "      <td>HCP100610</td>\n",
       "      <td>0.102</td>\n",
       "      <td>-0.173</td>\n",
       "      <td>-0.054</td>\n",
       "      <td>-0.101</td>\n",
       "      <td>0.291</td>\n",
       "      <td>-0.105</td>\n",
       "      <td>-0.089</td>\n",
       "      <td>-0.028</td>\n",
       "      <td>0.064</td>\n",
       "      <td>...</td>\n",
       "      <td>0.117</td>\n",
       "      <td>-0.016</td>\n",
       "      <td>-0.211</td>\n",
       "      <td>0.089</td>\n",
       "      <td>27</td>\n",
       "      <td>85</td>\n",
       "      <td>1</td>\n",
       "      <td>36.91</td>\n",
       "      <td>0.139763</td>\n",
       "      <td>0.137298</td>\n",
       "    </tr>\n",
       "    <tr>\n",
       "      <th>4</th>\n",
       "      <td>HCP101006</td>\n",
       "      <td>0.012</td>\n",
       "      <td>0.025</td>\n",
       "      <td>0.131</td>\n",
       "      <td>-0.063</td>\n",
       "      <td>-0.136</td>\n",
       "      <td>0.053</td>\n",
       "      <td>0.009</td>\n",
       "      <td>0.027</td>\n",
       "      <td>-0.027</td>\n",
       "      <td>...</td>\n",
       "      <td>-0.118</td>\n",
       "      <td>-0.108</td>\n",
       "      <td>0.199</td>\n",
       "      <td>0.074</td>\n",
       "      <td>35</td>\n",
       "      <td>90</td>\n",
       "      <td>2</td>\n",
       "      <td>30.27</td>\n",
       "      <td>0.165364</td>\n",
       "      <td>0.138544</td>\n",
       "    </tr>\n",
       "  </tbody>\n",
       "</table>\n",
       "<p>5 rows × 42 columns</p>\n",
       "</div>"
      ],
      "text/plain": [
       "          ID  lh_sub1  lh_sub2  lh_sub3  lh_sub4  lh_sub5  cue_sub1  cue_sub2  \\\n",
       "0  HCP100206   -0.226    0.102    0.202   -0.135   -0.068     0.096     0.078   \n",
       "1  HCP100307   -0.311    0.402    0.114   -0.093   -0.253     0.020    -0.396   \n",
       "2  HCP100408    0.548   -0.456   -0.267    0.225    0.202    -0.348     0.230   \n",
       "3  HCP100610    0.102   -0.173   -0.054   -0.101    0.291    -0.105    -0.089   \n",
       "4  HCP101006    0.012    0.025    0.131   -0.063   -0.136     0.053     0.009   \n",
       "\n",
       "   cue_sub3  cue_sub4     ...       lf_sub2  lf_sub3  lf_sub4  lf_sub5  \\\n",
       "0    -0.008    -0.031     ...         0.063    0.134   -0.084   -0.136   \n",
       "1     0.564    -0.507     ...         0.161    0.527   -0.314   -0.454   \n",
       "2    -0.552     0.623     ...         0.113   -0.003    0.263   -0.266   \n",
       "3    -0.028     0.064     ...         0.117   -0.016   -0.211    0.089   \n",
       "4     0.027    -0.027     ...        -0.118   -0.108    0.199    0.074   \n",
       "\n",
       "   Age_in_Yrs  Handedness  Gender    BMI        FD  FD_scrubbed  \n",
       "0          27          65       1  26.64  0.090883     0.090883  \n",
       "1          27          95       2  22.96  0.108998     0.108998  \n",
       "2          33          55       1  27.75  0.098323     0.098323  \n",
       "3          27          85       1  36.91  0.139763     0.137298  \n",
       "4          35          90       2  30.27  0.165364     0.138544  \n",
       "\n",
       "[5 rows x 42 columns]"
      ]
     },
     "execution_count": 19,
     "metadata": {},
     "output_type": "execute_result"
    }
   ],
   "source": [
    "# Merge weight with subset of pheno variables\n",
    "merged_weight_pheno = pd.merge(file_weight, file_pheno_subset, on='Subject', how='left')\n",
    "# Replace 'Subject' by 'ID'\n",
    "merged_weight_pheno.rename(columns={'Subject':'ID'},inplace=True)\n",
    "merged_weight_pheno.head()"
   ]
  },
  {
   "cell_type": "code",
   "execution_count": 20,
   "metadata": {
    "collapsed": false
   },
   "outputs": [
    {
     "data": {
      "text/plain": [
       "count           831\n",
       "unique          831\n",
       "top       HCP979984\n",
       "freq              1\n",
       "Name: ID, dtype: object"
      ]
     },
     "execution_count": 20,
     "metadata": {},
     "output_type": "execute_result"
    }
   ],
   "source": [
    "merged_weight_pheno.ID.describe()"
   ]
  },
  {
   "cell_type": "code",
   "execution_count": 21,
   "metadata": {
    "collapsed": false
   },
   "outputs": [
    {
     "data": {
      "text/plain": [
       "1"
      ]
     },
     "execution_count": 21,
     "metadata": {},
     "output_type": "execute_result"
    }
   ],
   "source": [
    "# Check if there is empty value in BMI\n",
    "sum(merged_weight_pheno.BMI.isnull())"
   ]
  },
  {
   "cell_type": "code",
   "execution_count": 22,
   "metadata": {
    "collapsed": false
   },
   "outputs": [],
   "source": [
    "# Save the merged file\n",
    "merged_weight_pheno.to_csv(os.path.join(out_path,pheno_save), index=False)"
   ]
  },
  {
   "cell_type": "markdown",
   "metadata": {},
   "source": [
    "## Build trait file"
   ]
  },
  {
   "cell_type": "code",
   "execution_count": 23,
   "metadata": {
    "collapsed": false
   },
   "outputs": [
    {
     "data": {
      "text/plain": [
       "['lh_sub1',\n",
       " 'lh_sub2',\n",
       " 'lh_sub3',\n",
       " 'lh_sub4',\n",
       " 'lh_sub5',\n",
       " 'cue_sub1',\n",
       " 'cue_sub2',\n",
       " 'cue_sub3',\n",
       " 'cue_sub4',\n",
       " 'cue_sub5',\n",
       " 't_sub1',\n",
       " 't_sub2',\n",
       " 't_sub3',\n",
       " 't_sub4',\n",
       " 't_sub5',\n",
       " 'rh_sub1',\n",
       " 'rh_sub2',\n",
       " 'rh_sub3',\n",
       " 'rh_sub4',\n",
       " 'rh_sub5',\n",
       " 'rf_sub1',\n",
       " 'rf_sub2',\n",
       " 'rf_sub3',\n",
       " 'rf_sub4',\n",
       " 'rf_sub5',\n",
       " 'rest_sub1',\n",
       " 'rest_sub2',\n",
       " 'rest_sub3',\n",
       " 'rest_sub4',\n",
       " 'rest_sub5',\n",
       " 'lf_sub1',\n",
       " 'lf_sub2',\n",
       " 'lf_sub3',\n",
       " 'lf_sub4',\n",
       " 'lf_sub5',\n",
       " 'Handedness',\n",
       " 'BMI',\n",
       " 'FD',\n",
       " 'FD_scrubbed']"
      ]
     },
     "execution_count": 23,
     "metadata": {},
     "output_type": "execute_result"
    }
   ],
   "source": [
    "## build trait file\n",
    "# Remove not neaded traits\n",
    "list_trait = merged_weight_pheno.columns.tolist()\n",
    "new_list = [trait for trait in list_trait if trait not in ['ID','Age_in_Yrs','Gender']]\n",
    "new_list"
   ]
  },
  {
   "cell_type": "code",
   "execution_count": 24,
   "metadata": {
    "collapsed": false
   },
   "outputs": [],
   "source": [
    "# Save trait file\n",
    "file_out = open(os.path.join(out_path,\"trait_file\"), 'w')\n",
    "for item in new_list:\n",
    "    file_out.write(\"%s\\n\" % item)\n",
    "file_out.close()"
   ]
  },
  {
   "cell_type": "markdown",
   "metadata": {
    "collapsed": false
   },
   "source": [
    "## Build Pedigree file"
   ]
  },
  {
   "cell_type": "code",
   "execution_count": 25,
   "metadata": {
    "collapsed": false
   },
   "outputs": [
    {
     "data": {
      "text/html": [
       "<div>\n",
       "<table border=\"1\" class=\"dataframe\">\n",
       "  <thead>\n",
       "    <tr style=\"text-align: right;\">\n",
       "      <th></th>\n",
       "      <th>Subject</th>\n",
       "      <th>Twin_Stat</th>\n",
       "      <th>Zygosity</th>\n",
       "      <th>Mother_ID</th>\n",
       "      <th>Gender</th>\n",
       "    </tr>\n",
       "  </thead>\n",
       "  <tbody>\n",
       "    <tr>\n",
       "      <th>0</th>\n",
       "      <td>HCP100206</td>\n",
       "      <td>NotTwin</td>\n",
       "      <td>NotTwin</td>\n",
       "      <td>56037</td>\n",
       "      <td>M</td>\n",
       "    </tr>\n",
       "    <tr>\n",
       "      <th>1</th>\n",
       "      <td>HCP100307</td>\n",
       "      <td>Twin</td>\n",
       "      <td>NotMZ</td>\n",
       "      <td>51488</td>\n",
       "      <td>F</td>\n",
       "    </tr>\n",
       "    <tr>\n",
       "      <th>2</th>\n",
       "      <td>HCP100408</td>\n",
       "      <td>Twin</td>\n",
       "      <td>MZ</td>\n",
       "      <td>51730</td>\n",
       "      <td>M</td>\n",
       "    </tr>\n",
       "    <tr>\n",
       "      <th>3</th>\n",
       "      <td>HCP100610</td>\n",
       "      <td>Twin</td>\n",
       "      <td>NotMZ</td>\n",
       "      <td>52813</td>\n",
       "      <td>M</td>\n",
       "    </tr>\n",
       "    <tr>\n",
       "      <th>4</th>\n",
       "      <td>HCP101006</td>\n",
       "      <td>Twin</td>\n",
       "      <td>MZ</td>\n",
       "      <td>51283</td>\n",
       "      <td>F</td>\n",
       "    </tr>\n",
       "  </tbody>\n",
       "</table>\n",
       "</div>"
      ],
      "text/plain": [
       "     Subject Twin_Stat Zygosity  Mother_ID Gender\n",
       "0  HCP100206   NotTwin  NotTwin      56037      M\n",
       "1  HCP100307      Twin    NotMZ      51488      F\n",
       "2  HCP100408      Twin       MZ      51730      M\n",
       "3  HCP100610      Twin    NotMZ      52813      M\n",
       "4  HCP101006      Twin       MZ      51283      F"
      ]
     },
     "execution_count": 25,
     "metadata": {},
     "output_type": "execute_result"
    }
   ],
   "source": [
    "# Select a subset of variable from pheno file\n",
    "file_pheno_pedig = file_pheno[[\"Subject\",\"Twin_Stat\",\"Zygosity\",\"Mother_ID\",\"Gender\"]]\n",
    "file_pheno_pedig.head()"
   ]
  },
  {
   "cell_type": "code",
   "execution_count": 26,
   "metadata": {
    "collapsed": false
   },
   "outputs": [
    {
     "data": {
      "text/plain": [
       "count           831\n",
       "unique          831\n",
       "top       HCP979984\n",
       "freq              1\n",
       "Name: Subject, dtype: object"
      ]
     },
     "execution_count": 26,
     "metadata": {},
     "output_type": "execute_result"
    }
   ],
   "source": [
    "file_pheno_pedig.Subject.describe()"
   ]
  },
  {
   "cell_type": "code",
   "execution_count": 27,
   "metadata": {
    "collapsed": false
   },
   "outputs": [],
   "source": [
    "# Build pedigre : ID , mo, fo, hhID, mztwins,sex\n",
    "mother_id = [\"mo_{}\".format(row.Mother_ID) for ind, row in file_pheno_pedig.iterrows()]\n",
    "father_id = [\"fa_{}\".format(row.Mother_ID) for ind, row in file_pheno_pedig.iterrows()]\n",
    "household_id = [\"hh_{}\".format(row.Mother_ID) for ind, row in file_pheno_pedig.iterrows()]\n",
    "twin_id = [\"pair_{}\".format(row.Mother_ID) if row.Zygosity == \"MZ\" else \"\" for ind, row in file_pheno_pedig.iterrows()]"
   ]
  },
  {
   "cell_type": "code",
   "execution_count": 28,
   "metadata": {
    "collapsed": false
   },
   "outputs": [
    {
     "name": "stdout",
     "output_type": "stream",
     "text": [
      "head\n"
     ]
    },
    {
     "data": {
      "text/html": [
       "<div>\n",
       "<table border=\"1\" class=\"dataframe\">\n",
       "  <thead>\n",
       "    <tr style=\"text-align: right;\">\n",
       "      <th></th>\n",
       "      <th>ID</th>\n",
       "      <th>fa</th>\n",
       "      <th>mo</th>\n",
       "      <th>sex</th>\n",
       "      <th>mztwin</th>\n",
       "      <th>hhID</th>\n",
       "    </tr>\n",
       "  </thead>\n",
       "  <tbody>\n",
       "    <tr>\n",
       "      <th>0</th>\n",
       "      <td>HCP100206</td>\n",
       "      <td>fa_56037</td>\n",
       "      <td>mo_56037</td>\n",
       "      <td>1</td>\n",
       "      <td></td>\n",
       "      <td>hh_56037</td>\n",
       "    </tr>\n",
       "    <tr>\n",
       "      <th>1</th>\n",
       "      <td>HCP100307</td>\n",
       "      <td>fa_51488</td>\n",
       "      <td>mo_51488</td>\n",
       "      <td>2</td>\n",
       "      <td></td>\n",
       "      <td>hh_51488</td>\n",
       "    </tr>\n",
       "    <tr>\n",
       "      <th>2</th>\n",
       "      <td>HCP100408</td>\n",
       "      <td>fa_51730</td>\n",
       "      <td>mo_51730</td>\n",
       "      <td>1</td>\n",
       "      <td>pair_51730</td>\n",
       "      <td>hh_51730</td>\n",
       "    </tr>\n",
       "    <tr>\n",
       "      <th>3</th>\n",
       "      <td>HCP100610</td>\n",
       "      <td>fa_52813</td>\n",
       "      <td>mo_52813</td>\n",
       "      <td>1</td>\n",
       "      <td></td>\n",
       "      <td>hh_52813</td>\n",
       "    </tr>\n",
       "    <tr>\n",
       "      <th>4</th>\n",
       "      <td>HCP101006</td>\n",
       "      <td>fa_51283</td>\n",
       "      <td>mo_51283</td>\n",
       "      <td>2</td>\n",
       "      <td>pair_51283</td>\n",
       "      <td>hh_51283</td>\n",
       "    </tr>\n",
       "  </tbody>\n",
       "</table>\n",
       "</div>"
      ],
      "text/plain": [
       "          ID        fa        mo  sex      mztwin      hhID\n",
       "0  HCP100206  fa_56037  mo_56037    1              hh_56037\n",
       "1  HCP100307  fa_51488  mo_51488    2              hh_51488\n",
       "2  HCP100408  fa_51730  mo_51730    1  pair_51730  hh_51730\n",
       "3  HCP100610  fa_52813  mo_52813    1              hh_52813\n",
       "4  HCP101006  fa_51283  mo_51283    2  pair_51283  hh_51283"
      ]
     },
     "metadata": {},
     "output_type": "display_data"
    },
    {
     "name": "stdout",
     "output_type": "stream",
     "text": [
      "tail\n"
     ]
    },
    {
     "data": {
      "text/html": [
       "<div>\n",
       "<table border=\"1\" class=\"dataframe\">\n",
       "  <thead>\n",
       "    <tr style=\"text-align: right;\">\n",
       "      <th></th>\n",
       "      <th>ID</th>\n",
       "      <th>fa</th>\n",
       "      <th>mo</th>\n",
       "      <th>sex</th>\n",
       "      <th>mztwin</th>\n",
       "      <th>hhID</th>\n",
       "    </tr>\n",
       "  </thead>\n",
       "  <tbody>\n",
       "    <tr>\n",
       "      <th>826</th>\n",
       "      <td>HCP992673</td>\n",
       "      <td>fa_56143</td>\n",
       "      <td>mo_56143</td>\n",
       "      <td>2</td>\n",
       "      <td></td>\n",
       "      <td>hh_56143</td>\n",
       "    </tr>\n",
       "    <tr>\n",
       "      <th>827</th>\n",
       "      <td>HCP992774</td>\n",
       "      <td>fa_51345</td>\n",
       "      <td>mo_51345</td>\n",
       "      <td>1</td>\n",
       "      <td></td>\n",
       "      <td>hh_51345</td>\n",
       "    </tr>\n",
       "    <tr>\n",
       "      <th>828</th>\n",
       "      <td>HCP993675</td>\n",
       "      <td>fa_55800</td>\n",
       "      <td>mo_55800</td>\n",
       "      <td>2</td>\n",
       "      <td></td>\n",
       "      <td>hh_55800</td>\n",
       "    </tr>\n",
       "    <tr>\n",
       "      <th>829</th>\n",
       "      <td>HCP994273</td>\n",
       "      <td>fa_52364</td>\n",
       "      <td>mo_52364</td>\n",
       "      <td>1</td>\n",
       "      <td></td>\n",
       "      <td>hh_52364</td>\n",
       "    </tr>\n",
       "    <tr>\n",
       "      <th>830</th>\n",
       "      <td>HCP996782</td>\n",
       "      <td>fa_51541</td>\n",
       "      <td>mo_51541</td>\n",
       "      <td>2</td>\n",
       "      <td></td>\n",
       "      <td>hh_51541</td>\n",
       "    </tr>\n",
       "  </tbody>\n",
       "</table>\n",
       "</div>"
      ],
      "text/plain": [
       "            ID        fa        mo  sex mztwin      hhID\n",
       "826  HCP992673  fa_56143  mo_56143    2         hh_56143\n",
       "827  HCP992774  fa_51345  mo_51345    1         hh_51345\n",
       "828  HCP993675  fa_55800  mo_55800    2         hh_55800\n",
       "829  HCP994273  fa_52364  mo_52364    1         hh_52364\n",
       "830  HCP996782  fa_51541  mo_51541    2         hh_51541"
      ]
     },
     "metadata": {},
     "output_type": "display_data"
    },
    {
     "data": {
      "text/plain": [
       "ID        831\n",
       "fa        831\n",
       "mo        831\n",
       "sex       831\n",
       "mztwin    831\n",
       "hhID      831\n",
       "dtype: int64"
      ]
     },
     "execution_count": 28,
     "metadata": {},
     "output_type": "execute_result"
    }
   ],
   "source": [
    "# write into new data frame\n",
    "df_pedig = pd.DataFrame()\n",
    "df_pedig[\"ID\"] = file_pheno_pedig.Subject\n",
    "df_pedig[\"fa\"] = father_id\n",
    "df_pedig[\"mo\"] = mother_id\n",
    "df_pedig[\"sex\"] = file_pheno_pedig.Gender.replace(to_replace={\"M\":1, \"F\":2})\n",
    "df_pedig[\"mztwin\"] = twin_id\n",
    "df_pedig[\"hhID\"] = household_id\n",
    "\n",
    "\n",
    "print(\"head\")\n",
    "display(df_pedig.head())\n",
    "print(\"tail\")\n",
    "display(df_pedig.tail())\n",
    "df_pedig.count()"
   ]
  },
  {
   "cell_type": "code",
   "execution_count": 29,
   "metadata": {
    "collapsed": false,
    "scrolled": false
   },
   "outputs": [],
   "source": [
    "# Look for MZ twins missing their co-twin\n",
    "uniques = list(df_pedig.mztwin.unique())\n",
    "uniques.pop(0)\n",
    "twin_counts = [np.sum(df_pedig.mztwin==twin) for twin in uniques]\n",
    "# for idx, twin in enumerate(uniques):\n",
    "#     print(\"{} occurs {} times\".format(twin, twin_counts[idx]))"
   ]
  },
  {
   "cell_type": "code",
   "execution_count": 30,
   "metadata": {
    "collapsed": true
   },
   "outputs": [],
   "source": [
    "# create a mask that will kepp only MZ twins missing their co-twin\n",
    "singles = [True if np.sum(df_pedig.mztwin==row.mztwin)==1 else False for ind, row in df_pedig.iterrows()]"
   ]
  },
  {
   "cell_type": "code",
   "execution_count": 31,
   "metadata": {
    "collapsed": true
   },
   "outputs": [],
   "source": [
    "# Make a copy of the pedigre to avoid missing up with the original data\n",
    "copy_df_pedig = df_pedig.copy()"
   ]
  },
  {
   "cell_type": "code",
   "execution_count": 32,
   "metadata": {
    "collapsed": false,
    "scrolled": true
   },
   "outputs": [
    {
     "data": {
      "text/html": [
       "<div>\n",
       "<table border=\"1\" class=\"dataframe\">\n",
       "  <thead>\n",
       "    <tr style=\"text-align: right;\">\n",
       "      <th></th>\n",
       "      <th>ID</th>\n",
       "      <th>fa</th>\n",
       "      <th>mo</th>\n",
       "      <th>sex</th>\n",
       "      <th>mztwin</th>\n",
       "      <th>hhID</th>\n",
       "    </tr>\n",
       "  </thead>\n",
       "  <tbody>\n",
       "    <tr>\n",
       "      <th>38</th>\n",
       "      <td>M_HCP110007</td>\n",
       "      <td>fa_54572</td>\n",
       "      <td>mo_54572</td>\n",
       "      <td>2</td>\n",
       "      <td>pair_54572</td>\n",
       "      <td>hh_54572</td>\n",
       "    </tr>\n",
       "    <tr>\n",
       "      <th>57</th>\n",
       "      <td>M_HCP114823</td>\n",
       "      <td>fa_52925</td>\n",
       "      <td>mo_52925</td>\n",
       "      <td>2</td>\n",
       "      <td>pair_52925</td>\n",
       "      <td>hh_52925</td>\n",
       "    </tr>\n",
       "    <tr>\n",
       "      <th>84</th>\n",
       "      <td>M_HCP121820</td>\n",
       "      <td>fa_51421</td>\n",
       "      <td>mo_51421</td>\n",
       "      <td>2</td>\n",
       "      <td>pair_51421</td>\n",
       "      <td>hh_51421</td>\n",
       "    </tr>\n",
       "    <tr>\n",
       "      <th>86</th>\n",
       "      <td>M_HCP122317</td>\n",
       "      <td>fa_51802</td>\n",
       "      <td>mo_51802</td>\n",
       "      <td>1</td>\n",
       "      <td>pair_51802</td>\n",
       "      <td>hh_51802</td>\n",
       "    </tr>\n",
       "    <tr>\n",
       "      <th>91</th>\n",
       "      <td>M_HCP123824</td>\n",
       "      <td>fa_56022</td>\n",
       "      <td>mo_56022</td>\n",
       "      <td>1</td>\n",
       "      <td>pair_56022</td>\n",
       "      <td>hh_56022</td>\n",
       "    </tr>\n",
       "  </tbody>\n",
       "</table>\n",
       "</div>"
      ],
      "text/plain": [
       "             ID        fa        mo  sex      mztwin      hhID\n",
       "38  M_HCP110007  fa_54572  mo_54572    2  pair_54572  hh_54572\n",
       "57  M_HCP114823  fa_52925  mo_52925    2  pair_52925  hh_52925\n",
       "84  M_HCP121820  fa_51421  mo_51421    2  pair_51421  hh_51421\n",
       "86  M_HCP122317  fa_51802  mo_51802    1  pair_51802  hh_51802\n",
       "91  M_HCP123824  fa_56022  mo_56022    1  pair_56022  hh_56022"
      ]
     },
     "metadata": {},
     "output_type": "display_data"
    },
    {
     "data": {
      "text/plain": [
       "ID        34\n",
       "fa        34\n",
       "mo        34\n",
       "sex       34\n",
       "mztwin    34\n",
       "hhID      34\n",
       "dtype: int64"
      ]
     },
     "execution_count": 32,
     "metadata": {},
     "output_type": "execute_result"
    }
   ],
   "source": [
    "# Select only MZ twins missing their co-twin\n",
    "df_single_pedig = copy_df_pedig[singles]\n",
    "\n",
    "# Add \"M_\" (for missing) to a the single MZ twins\n",
    "for i, row in df_single_pedig.iterrows():\n",
    "    df_single_pedig.set_value(i,\"ID\",\"M_{}\".format(row.ID))\n",
    "display(df_single_pedig.head())\n",
    "df_single_pedig.count()"
   ]
  },
  {
   "cell_type": "code",
   "execution_count": 33,
   "metadata": {
    "collapsed": false,
    "scrolled": true
   },
   "outputs": [
    {
     "data": {
      "text/html": [
       "<div>\n",
       "<table border=\"1\" class=\"dataframe\">\n",
       "  <thead>\n",
       "    <tr style=\"text-align: right;\">\n",
       "      <th></th>\n",
       "      <th>ID</th>\n",
       "      <th>fa</th>\n",
       "      <th>mo</th>\n",
       "      <th>sex</th>\n",
       "      <th>mztwin</th>\n",
       "      <th>hhID</th>\n",
       "    </tr>\n",
       "  </thead>\n",
       "  <tbody>\n",
       "    <tr>\n",
       "      <th>0</th>\n",
       "      <td>HCP100206</td>\n",
       "      <td>fa_56037</td>\n",
       "      <td>mo_56037</td>\n",
       "      <td>1</td>\n",
       "      <td></td>\n",
       "      <td>hh_56037</td>\n",
       "    </tr>\n",
       "    <tr>\n",
       "      <th>1</th>\n",
       "      <td>HCP100307</td>\n",
       "      <td>fa_51488</td>\n",
       "      <td>mo_51488</td>\n",
       "      <td>2</td>\n",
       "      <td></td>\n",
       "      <td>hh_51488</td>\n",
       "    </tr>\n",
       "    <tr>\n",
       "      <th>2</th>\n",
       "      <td>HCP100408</td>\n",
       "      <td>fa_51730</td>\n",
       "      <td>mo_51730</td>\n",
       "      <td>1</td>\n",
       "      <td>pair_51730</td>\n",
       "      <td>hh_51730</td>\n",
       "    </tr>\n",
       "    <tr>\n",
       "      <th>3</th>\n",
       "      <td>HCP100610</td>\n",
       "      <td>fa_52813</td>\n",
       "      <td>mo_52813</td>\n",
       "      <td>1</td>\n",
       "      <td></td>\n",
       "      <td>hh_52813</td>\n",
       "    </tr>\n",
       "    <tr>\n",
       "      <th>4</th>\n",
       "      <td>HCP101006</td>\n",
       "      <td>fa_51283</td>\n",
       "      <td>mo_51283</td>\n",
       "      <td>2</td>\n",
       "      <td>pair_51283</td>\n",
       "      <td>hh_51283</td>\n",
       "    </tr>\n",
       "  </tbody>\n",
       "</table>\n",
       "</div>"
      ],
      "text/plain": [
       "          ID        fa        mo  sex      mztwin      hhID\n",
       "0  HCP100206  fa_56037  mo_56037    1              hh_56037\n",
       "1  HCP100307  fa_51488  mo_51488    2              hh_51488\n",
       "2  HCP100408  fa_51730  mo_51730    1  pair_51730  hh_51730\n",
       "3  HCP100610  fa_52813  mo_52813    1              hh_52813\n",
       "4  HCP101006  fa_51283  mo_51283    2  pair_51283  hh_51283"
      ]
     },
     "execution_count": 33,
     "metadata": {},
     "output_type": "execute_result"
    }
   ],
   "source": [
    "# Append pedgree with fake co-twin for the missing one\n",
    "df_pedig_final = copy_df_pedig.append(df_single_pedig)\n",
    "df_pedig_final.head()"
   ]
  },
  {
   "cell_type": "code",
   "execution_count": 34,
   "metadata": {
    "collapsed": false,
    "scrolled": true
   },
   "outputs": [
    {
     "data": {
      "text/html": [
       "<div>\n",
       "<table border=\"1\" class=\"dataframe\">\n",
       "  <thead>\n",
       "    <tr style=\"text-align: right;\">\n",
       "      <th></th>\n",
       "      <th>ID</th>\n",
       "      <th>fa</th>\n",
       "      <th>mo</th>\n",
       "      <th>sex</th>\n",
       "      <th>mztwin</th>\n",
       "      <th>hhID</th>\n",
       "    </tr>\n",
       "  </thead>\n",
       "  <tbody>\n",
       "    <tr>\n",
       "      <th>696</th>\n",
       "      <td>M_HCP727553</td>\n",
       "      <td>fa_51561</td>\n",
       "      <td>mo_51561</td>\n",
       "      <td>2</td>\n",
       "      <td>pair_51561</td>\n",
       "      <td>hh_51561</td>\n",
       "    </tr>\n",
       "    <tr>\n",
       "      <th>722</th>\n",
       "      <td>M_HCP769064</td>\n",
       "      <td>fa_52803</td>\n",
       "      <td>mo_52803</td>\n",
       "      <td>1</td>\n",
       "      <td>pair_52803</td>\n",
       "      <td>hh_52803</td>\n",
       "    </tr>\n",
       "    <tr>\n",
       "      <th>748</th>\n",
       "      <td>M_HCP835657</td>\n",
       "      <td>fa_52137</td>\n",
       "      <td>mo_52137</td>\n",
       "      <td>2</td>\n",
       "      <td>pair_52137</td>\n",
       "      <td>hh_52137</td>\n",
       "    </tr>\n",
       "    <tr>\n",
       "      <th>792</th>\n",
       "      <td>M_HCP904044</td>\n",
       "      <td>fa_51290</td>\n",
       "      <td>mo_51290</td>\n",
       "      <td>2</td>\n",
       "      <td>pair_51290</td>\n",
       "      <td>hh_51290</td>\n",
       "    </tr>\n",
       "    <tr>\n",
       "      <th>818</th>\n",
       "      <td>M_HCP972566</td>\n",
       "      <td>fa_56077</td>\n",
       "      <td>mo_56077</td>\n",
       "      <td>2</td>\n",
       "      <td>pair_56077</td>\n",
       "      <td>hh_56077</td>\n",
       "    </tr>\n",
       "  </tbody>\n",
       "</table>\n",
       "</div>"
      ],
      "text/plain": [
       "              ID        fa        mo  sex      mztwin      hhID\n",
       "696  M_HCP727553  fa_51561  mo_51561    2  pair_51561  hh_51561\n",
       "722  M_HCP769064  fa_52803  mo_52803    1  pair_52803  hh_52803\n",
       "748  M_HCP835657  fa_52137  mo_52137    2  pair_52137  hh_52137\n",
       "792  M_HCP904044  fa_51290  mo_51290    2  pair_51290  hh_51290\n",
       "818  M_HCP972566  fa_56077  mo_56077    2  pair_56077  hh_56077"
      ]
     },
     "execution_count": 34,
     "metadata": {},
     "output_type": "execute_result"
    }
   ],
   "source": [
    "df_pedig_final.tail()"
   ]
  },
  {
   "cell_type": "code",
   "execution_count": 35,
   "metadata": {
    "collapsed": false
   },
   "outputs": [
    {
     "data": {
      "text/plain": [
       "ID        865\n",
       "fa        865\n",
       "mo        865\n",
       "sex       865\n",
       "mztwin    865\n",
       "hhID      865\n",
       "dtype: int64"
      ]
     },
     "execution_count": 35,
     "metadata": {},
     "output_type": "execute_result"
    }
   ],
   "source": [
    "df_pedig_final.count()"
   ]
  },
  {
   "cell_type": "code",
   "execution_count": 36,
   "metadata": {
    "collapsed": true
   },
   "outputs": [],
   "source": [
    "# Save the pedigree file\n",
    "df_pedig_final.to_csv(os.path.join(out_path,pedig_save), index=False)"
   ]
  },
  {
   "cell_type": "code",
   "execution_count": 37,
   "metadata": {
    "collapsed": true
   },
   "outputs": [],
   "source": [
    "import sys\n",
    "\n",
    "def query_yes_no(question, default=\"yes\"):\n",
    "    \"\"\"Ask a yes/no question via input() and return their answer.\n",
    "\n",
    "    \"question\" is a string that is presented to the user.\n",
    "    \"default\" is the presumed answer if the user just hits <Enter>.\n",
    "        It must be \"yes\" (the default), \"no\" or None (meaning\n",
    "        an answer is required of the user).\n",
    "\n",
    "    The \"answer\" return value is True for \"yes\" or False for \"no\".\n",
    "    \"\"\"\n",
    "    valid = {\"yes\": True, \"y\": True, \"ye\": True,\n",
    "             \"no\": False, \"n\": False}\n",
    "    if default is None:\n",
    "        prompt = \" [y/n] \"\n",
    "    elif default == \"yes\":\n",
    "        prompt = \" [Y/n] \"\n",
    "    elif default == \"no\":\n",
    "        prompt = \" [y/N] \"\n",
    "    else:\n",
    "        raise ValueError(\"invalid default answer: '%s'\" % default)\n",
    "\n",
    "    while True:\n",
    "        sys.stdout.write(question + prompt)\n",
    "        choice = input().lower()\n",
    "        if default is not None and choice == '':\n",
    "            return valid[default]\n",
    "        elif choice in valid:\n",
    "            return valid[choice]\n",
    "        else:\n",
    "            sys.stdout.write(\"Please respond with 'yes' or 'no' \"\n",
    "                             \"(or 'y' or 'n').\\n\")\n",
    "    return choice"
   ]
  },
  {
   "cell_type": "markdown",
   "metadata": {
    "collapsed": false
   },
   "source": [
    "## Run SOLAR heritability estimate "
   ]
  },
  {
   "cell_type": "code",
   "execution_count": 38,
   "metadata": {
    "collapsed": false,
    "scrolled": true
   },
   "outputs": [
    {
     "name": "stdout",
     "output_type": "stream",
     "text": [
      "HALT, you are about to run heritability pipline, would you like to continue? [Y/n] \n"
     ]
    },
    {
     "data": {
      "text/plain": [
       "True"
      ]
     },
     "execution_count": 38,
     "metadata": {},
     "output_type": "execute_result"
    }
   ],
   "source": [
    "query_yes_no('HALT, you are about to run heritability pipline, would you like to continue?')"
   ]
  },
  {
   "cell_type": "code",
   "execution_count": 59,
   "metadata": {
    "collapsed": false
   },
   "outputs": [],
   "source": [
    "%%bash -s \"$out_path\" \"$solar_cov\" \"$solar_script\"\n",
    "cd $1 #cd to out_path\n",
    "#sufix=$(echo $2 | sed -e 's/ /_/g') # add a suffix of covariate\n",
    "sed -i \"104s/.*/$2/\" $3 # feed the covariate to solar script\n",
    "sed -i \"52s~.*~$1phi2.gz~\" $3 # put the right path for the simlink\n",
    "sed -i \"53s~.*~$1pedindex.out~\" $3\n",
    "sed -i \"54s~.*~$1pedindex.cde~\" $3\n",
    "sed -i \"55s~.*~$1se_univ_polygen.tcl~\" $3"
   ]
  },
  {
   "cell_type": "code",
   "execution_count": 60,
   "metadata": {
    "collapsed": false
   },
   "outputs": [
    {
     "name": "stdout",
     "output_type": "stream",
     "text": [
      "\n",
      "SOLAR Eclipse version 8.1.1 (General), last updated on December 15, 2016\n",
      "Copyright (c) 1995-2016 Texas Biomedical Research Institute\n",
      "Enter help for help, exit to exit, doc to browse documentation.\n",
      "\n",
      "Loading pedigree data from the file solar_motor_RL_pedigre.csv ...\n",
      "Running mibd relate ...                                                 \r",
      "Reading classes.tab ...                                                 \r",
      "Reading mibdrel.ped ...                                                 \r",
      "Writing output file ...                                                 \r",
      "                                                                        \r",
      "::::::::::::::\n",
      "mibdrel.tab\n",
      "::::::::::::::\n",
      "\n",
      "    NPairs  Relationship\n",
      "  ========  ===========================================\n",
      "      1611  Self\n",
      "       118  Identical sib pair\n",
      "      1730  Parent-offspring\n",
      "       618  Siblings\n",
      "       373  Unrelated\n",
      "\n"
     ]
    }
   ],
   "source": [
    "%%bash -s \"$out_path\" \"$pedig_save\"\n",
    "cd $1\n",
    "solar <<INTERNAL_SOLAR_SCRIPT  \n",
    "load pedi $2\n",
    "pedigree classes -full\n",
    "INTERNAL_SOLAR_SCRIPT"
   ]
  },
  {
   "cell_type": "code",
   "execution_count": 63,
   "metadata": {
    "collapsed": false
   },
   "outputs": [
    {
     "name": "stdout",
     "output_type": "stream",
     "text": [
      "\n",
      "SOLAR Eclipse version 8.1.1 (General), last updated on December 15, 2016\n",
      "Copyright (c) 1995-2016 Texas Biomedical Research Institute\n",
      "Enter help for help, exit to exit, doc to browse documentation.\n",
      "\n",
      "Creating output directories...\n",
      "00000 : Set-0 : lh_sub1                                                  \r",
      "00001 : Set-1 : lh_sub2                                                  \r",
      "00002 : Set-2 : lh_sub3                                                  \r",
      "00003 : Set-3 : lh_sub4                                                  \r",
      "00004 : Set-4 : lh_sub5                                                  \r",
      "00005 : Set-5 : cue_sub1                                                  \r",
      "00006 : Set-6 : cue_sub2                                                  \r",
      "00007 : Set-7 : cue_sub3                                                  \r",
      "00008 : Set-8 : cue_sub4                                                  \r",
      "00009 : Set-9 : cue_sub5                                                  \r",
      "00010 : Set-10 : t_sub1                                                  \r",
      "00011 : Set-11 : t_sub2                                                  \r",
      "00012 : Set-12 : t_sub3                                                  \r",
      "00013 : Set-13 : t_sub4                                                  \r",
      "00014 : Set-14 : t_sub5                                                  \r",
      "00015 : Set-15 : rh_sub1                                                  \r",
      "00016 : Set-16 : rh_sub2                                                  \r",
      "00017 : Set-17 : rh_sub3                                                  \r",
      "00018 : Set-18 : rh_sub4                                                  \r",
      "00019 : Set-19 : rh_sub5                                                  \r",
      "00020 : Set-20 : rf_sub1                                                  \r",
      "00021 : Set-21 : rf_sub2                                                  \r",
      "00022 : Set-22 : rf_sub3                                                  \r",
      "00023 : Set-23 : rf_sub4                                                  \r",
      "00024 : Set-24 : rf_sub5                                                  \r",
      "00025 : Set-25 : rest_sub1                                                  \r",
      "00026 : Set-26 : rest_sub2                                                  \r",
      "00027 : Set-27 : rest_sub3                                                  \r",
      "00028 : Set-28 : rest_sub4                                                  \r",
      "00029 : Set-29 : rest_sub5                                                  \r",
      "00030 : Set-30 : lf_sub1                                                  \r",
      "00031 : Set-31 : lf_sub2                                                  \r",
      "00032 : Set-32 : lf_sub3                                                  \r",
      "00033 : Set-33 : lf_sub4                                                  \r",
      "00034 : Set-34 : lf_sub5                                                  \r",
      "00035 : Set-35 : Handedness                                                  \r",
      "00036 : Set-36 : BMI                                                  \r",
      "00037 : Set-37 : FD                                                  \r",
      "00038 : Set-38 : FD_scrubbed                                                  \r\n",
      "All done.\n"
     ]
    }
   ],
   "source": [
    "%%bash -s \"$out_path\" \"$pheno_save\" \"$solar_out\"\n",
    "cd $1\n",
    "solar <<INTERNAL_SOLAR_SCRIPT \n",
    "load pheno $2\n",
    "INTERNAL_SOLAR_SCRIPT\n",
    "bash fcd_solar_h2r.sh trait_file $3 $1$2\n",
    "for i in $3/Set-*; do bash $i/run_all.sh ; done"
   ]
  },
  {
   "cell_type": "markdown",
   "metadata": {},
   "source": [
    "## Results"
   ]
  },
  {
   "cell_type": "code",
   "execution_count": 64,
   "metadata": {
    "collapsed": false
   },
   "outputs": [
    {
     "data": {
      "text/html": [
       "<div>\n",
       "<table border=\"1\" class=\"dataframe\">\n",
       "  <thead>\n",
       "    <tr style=\"text-align: right;\">\n",
       "      <th></th>\n",
       "      <th>Trait</th>\n",
       "      <th>H2r</th>\n",
       "      <th>P</th>\n",
       "      <th>CovVarianceExpl</th>\n",
       "    </tr>\n",
       "  </thead>\n",
       "  <tbody>\n",
       "    <tr>\n",
       "      <th>27</th>\n",
       "      <td>BMI_norm</td>\n",
       "      <td>0.594688</td>\n",
       "      <td>1.589420e-17</td>\n",
       "      <td>0.327635</td>\n",
       "    </tr>\n",
       "    <tr>\n",
       "      <th>28</th>\n",
       "      <td>FD_norm</td>\n",
       "      <td>0.227423</td>\n",
       "      <td>1.654700e-03</td>\n",
       "      <td>0.802745</td>\n",
       "    </tr>\n",
       "    <tr>\n",
       "      <th>29</th>\n",
       "      <td>FD_scrubbed_norm</td>\n",
       "      <td>0.071011</td>\n",
       "      <td>1.687829e-01</td>\n",
       "      <td>0.948590</td>\n",
       "    </tr>\n",
       "    <tr>\n",
       "      <th>31</th>\n",
       "      <td>cue_sub1_norm</td>\n",
       "      <td>0.383060</td>\n",
       "      <td>8.366034e-10</td>\n",
       "      <td>0.002947</td>\n",
       "    </tr>\n",
       "    <tr>\n",
       "      <th>32</th>\n",
       "      <td>cue_sub2_norm</td>\n",
       "      <td>0.333529</td>\n",
       "      <td>2.000000e-07</td>\n",
       "      <td>0.006773</td>\n",
       "    </tr>\n",
       "    <tr>\n",
       "      <th>33</th>\n",
       "      <td>cue_sub3_norm</td>\n",
       "      <td>0.516900</td>\n",
       "      <td>1.501981e-17</td>\n",
       "      <td>0.008783</td>\n",
       "    </tr>\n",
       "    <tr>\n",
       "      <th>34</th>\n",
       "      <td>cue_sub4_norm</td>\n",
       "      <td>0.540758</td>\n",
       "      <td>1.187358e-19</td>\n",
       "      <td>0.009093</td>\n",
       "    </tr>\n",
       "    <tr>\n",
       "      <th>35</th>\n",
       "      <td>cue_sub5_norm</td>\n",
       "      <td>0.144933</td>\n",
       "      <td>2.080540e-02</td>\n",
       "      <td>0.000588</td>\n",
       "    </tr>\n",
       "    <tr>\n",
       "      <th>22</th>\n",
       "      <td>lf_sub1_norm</td>\n",
       "      <td>0.184929</td>\n",
       "      <td>3.968600e-03</td>\n",
       "      <td>0.018123</td>\n",
       "    </tr>\n",
       "    <tr>\n",
       "      <th>23</th>\n",
       "      <td>lf_sub2_norm</td>\n",
       "      <td>0.026986</td>\n",
       "      <td>3.435084e-01</td>\n",
       "      <td>0.014920</td>\n",
       "    </tr>\n",
       "    <tr>\n",
       "      <th>24</th>\n",
       "      <td>lf_sub3_norm</td>\n",
       "      <td>0.225273</td>\n",
       "      <td>8.823000e-04</td>\n",
       "      <td>0.017152</td>\n",
       "    </tr>\n",
       "    <tr>\n",
       "      <th>25</th>\n",
       "      <td>lf_sub4_norm</td>\n",
       "      <td>0.384555</td>\n",
       "      <td>4.130760e-10</td>\n",
       "      <td>0.018762</td>\n",
       "    </tr>\n",
       "    <tr>\n",
       "      <th>26</th>\n",
       "      <td>lf_sub5_norm</td>\n",
       "      <td>0.016268</td>\n",
       "      <td>4.076586e-01</td>\n",
       "      <td>0.009645</td>\n",
       "    </tr>\n",
       "    <tr>\n",
       "      <th>0</th>\n",
       "      <td>lh_sub1_norm</td>\n",
       "      <td>0.502760</td>\n",
       "      <td>8.442859e-16</td>\n",
       "      <td>0.012802</td>\n",
       "    </tr>\n",
       "    <tr>\n",
       "      <th>1</th>\n",
       "      <td>lh_sub2_norm</td>\n",
       "      <td>0.370899</td>\n",
       "      <td>6.019788e-09</td>\n",
       "      <td>0.010583</td>\n",
       "    </tr>\n",
       "    <tr>\n",
       "      <th>11</th>\n",
       "      <td>lh_sub3_norm</td>\n",
       "      <td>0.128935</td>\n",
       "      <td>3.926720e-02</td>\n",
       "      <td>0.000224</td>\n",
       "    </tr>\n",
       "    <tr>\n",
       "      <th>21</th>\n",
       "      <td>lh_sub4_norm</td>\n",
       "      <td>0.107761</td>\n",
       "      <td>5.905390e-02</td>\n",
       "      <td>0.000156</td>\n",
       "    </tr>\n",
       "    <tr>\n",
       "      <th>30</th>\n",
       "      <td>lh_sub5_norm</td>\n",
       "      <td>0.034020</td>\n",
       "      <td>3.146225e-01</td>\n",
       "      <td>0.002211</td>\n",
       "    </tr>\n",
       "    <tr>\n",
       "      <th>17</th>\n",
       "      <td>rest_sub2_norm</td>\n",
       "      <td>0.112423</td>\n",
       "      <td>5.617580e-02</td>\n",
       "      <td>0.004562</td>\n",
       "    </tr>\n",
       "    <tr>\n",
       "      <th>18</th>\n",
       "      <td>rest_sub3_norm</td>\n",
       "      <td>0.227849</td>\n",
       "      <td>1.790000e-04</td>\n",
       "      <td>0.009054</td>\n",
       "    </tr>\n",
       "    <tr>\n",
       "      <th>19</th>\n",
       "      <td>rest_sub4_norm</td>\n",
       "      <td>0.244404</td>\n",
       "      <td>9.550000e-05</td>\n",
       "      <td>0.002436</td>\n",
       "    </tr>\n",
       "    <tr>\n",
       "      <th>20</th>\n",
       "      <td>rest_sub5_norm</td>\n",
       "      <td>0.129067</td>\n",
       "      <td>3.213110e-02</td>\n",
       "      <td>0.000336</td>\n",
       "    </tr>\n",
       "    <tr>\n",
       "      <th>12</th>\n",
       "      <td>rf_sub1_norm</td>\n",
       "      <td>0.093583</td>\n",
       "      <td>6.620370e-02</td>\n",
       "      <td>0.014372</td>\n",
       "    </tr>\n",
       "    <tr>\n",
       "      <th>13</th>\n",
       "      <td>rf_sub2_norm</td>\n",
       "      <td>0.209396</td>\n",
       "      <td>8.021000e-04</td>\n",
       "      <td>0.034304</td>\n",
       "    </tr>\n",
       "    <tr>\n",
       "      <th>14</th>\n",
       "      <td>rf_sub3_norm</td>\n",
       "      <td>0.164880</td>\n",
       "      <td>7.510200e-03</td>\n",
       "      <td>0.024838</td>\n",
       "    </tr>\n",
       "    <tr>\n",
       "      <th>15</th>\n",
       "      <td>rf_sub4_norm</td>\n",
       "      <td>0.245595</td>\n",
       "      <td>2.850000e-05</td>\n",
       "      <td>0.022186</td>\n",
       "    </tr>\n",
       "    <tr>\n",
       "      <th>16</th>\n",
       "      <td>rf_sub5_norm</td>\n",
       "      <td>0.310989</td>\n",
       "      <td>4.000000e-07</td>\n",
       "      <td>0.032090</td>\n",
       "    </tr>\n",
       "    <tr>\n",
       "      <th>7</th>\n",
       "      <td>rh_sub1_norm</td>\n",
       "      <td>0.006591</td>\n",
       "      <td>4.607198e-01</td>\n",
       "      <td>0.003688</td>\n",
       "    </tr>\n",
       "    <tr>\n",
       "      <th>8</th>\n",
       "      <td>rh_sub2_norm</td>\n",
       "      <td>0.320592</td>\n",
       "      <td>1.400000e-06</td>\n",
       "      <td>0.023947</td>\n",
       "    </tr>\n",
       "    <tr>\n",
       "      <th>9</th>\n",
       "      <td>rh_sub4_norm</td>\n",
       "      <td>0.048354</td>\n",
       "      <td>2.378970e-01</td>\n",
       "      <td>0.001176</td>\n",
       "    </tr>\n",
       "    <tr>\n",
       "      <th>10</th>\n",
       "      <td>rh_sub5_norm</td>\n",
       "      <td>0.070747</td>\n",
       "      <td>1.304090e-01</td>\n",
       "      <td>0.001145</td>\n",
       "    </tr>\n",
       "    <tr>\n",
       "      <th>2</th>\n",
       "      <td>t_sub1_norm</td>\n",
       "      <td>0.120434</td>\n",
       "      <td>3.899160e-02</td>\n",
       "      <td>0.010071</td>\n",
       "    </tr>\n",
       "    <tr>\n",
       "      <th>3</th>\n",
       "      <td>t_sub2_norm</td>\n",
       "      <td>0.232696</td>\n",
       "      <td>5.313000e-04</td>\n",
       "      <td>0.000672</td>\n",
       "    </tr>\n",
       "    <tr>\n",
       "      <th>4</th>\n",
       "      <td>t_sub3_norm</td>\n",
       "      <td>0.210774</td>\n",
       "      <td>1.995000e-03</td>\n",
       "      <td>0.001193</td>\n",
       "    </tr>\n",
       "    <tr>\n",
       "      <th>5</th>\n",
       "      <td>t_sub4_norm</td>\n",
       "      <td>0.244850</td>\n",
       "      <td>1.735000e-04</td>\n",
       "      <td>0.012224</td>\n",
       "    </tr>\n",
       "    <tr>\n",
       "      <th>6</th>\n",
       "      <td>t_sub5_norm</td>\n",
       "      <td>0.509588</td>\n",
       "      <td>8.285208e-16</td>\n",
       "      <td>0.014257</td>\n",
       "    </tr>\n",
       "  </tbody>\n",
       "</table>\n",
       "</div>"
      ],
      "text/plain": [
       "                   Trait       H2r             P  CovVarianceExpl\n",
       "27  BMI_norm              0.594688  1.589420e-17         0.327635\n",
       "28  FD_norm               0.227423  1.654700e-03         0.802745\n",
       "29  FD_scrubbed_norm      0.071011  1.687829e-01         0.948590\n",
       "31  cue_sub1_norm         0.383060  8.366034e-10         0.002947\n",
       "32  cue_sub2_norm         0.333529  2.000000e-07         0.006773\n",
       "33  cue_sub3_norm         0.516900  1.501981e-17         0.008783\n",
       "34  cue_sub4_norm         0.540758  1.187358e-19         0.009093\n",
       "35  cue_sub5_norm         0.144933  2.080540e-02         0.000588\n",
       "22  lf_sub1_norm          0.184929  3.968600e-03         0.018123\n",
       "23  lf_sub2_norm          0.026986  3.435084e-01         0.014920\n",
       "24  lf_sub3_norm          0.225273  8.823000e-04         0.017152\n",
       "25  lf_sub4_norm          0.384555  4.130760e-10         0.018762\n",
       "26  lf_sub5_norm          0.016268  4.076586e-01         0.009645\n",
       "0   lh_sub1_norm          0.502760  8.442859e-16         0.012802\n",
       "1   lh_sub2_norm          0.370899  6.019788e-09         0.010583\n",
       "11  lh_sub3_norm          0.128935  3.926720e-02         0.000224\n",
       "21  lh_sub4_norm          0.107761  5.905390e-02         0.000156\n",
       "30  lh_sub5_norm          0.034020  3.146225e-01         0.002211\n",
       "17  rest_sub2_norm        0.112423  5.617580e-02         0.004562\n",
       "18  rest_sub3_norm        0.227849  1.790000e-04         0.009054\n",
       "19  rest_sub4_norm        0.244404  9.550000e-05         0.002436\n",
       "20  rest_sub5_norm        0.129067  3.213110e-02         0.000336\n",
       "12  rf_sub1_norm          0.093583  6.620370e-02         0.014372\n",
       "13  rf_sub2_norm          0.209396  8.021000e-04         0.034304\n",
       "14  rf_sub3_norm          0.164880  7.510200e-03         0.024838\n",
       "15  rf_sub4_norm          0.245595  2.850000e-05         0.022186\n",
       "16  rf_sub5_norm          0.310989  4.000000e-07         0.032090\n",
       "7   rh_sub1_norm          0.006591  4.607198e-01         0.003688\n",
       "8   rh_sub2_norm          0.320592  1.400000e-06         0.023947\n",
       "9   rh_sub4_norm          0.048354  2.378970e-01         0.001176\n",
       "10  rh_sub5_norm          0.070747  1.304090e-01         0.001145\n",
       "2   t_sub1_norm           0.120434  3.899160e-02         0.010071\n",
       "3   t_sub2_norm           0.232696  5.313000e-04         0.000672\n",
       "4   t_sub3_norm           0.210774  1.995000e-03         0.001193\n",
       "5   t_sub4_norm           0.244850  1.735000e-04         0.012224\n",
       "6   t_sub5_norm           0.509588  8.285208e-16         0.014257"
      ]
     },
     "execution_count": 64,
     "metadata": {},
     "output_type": "execute_result"
    }
   ],
   "source": [
    "out_herit = pd.read_csv(os.path.join(out_path,solar_out,\"se_out.out\"),sep=\"\\t\",header=None)\n",
    "out_herit_df =  pd.DataFrame()\n",
    "data = pd.DataFrame({\"Trait\": out_herit[2],\"H2r\": out_herit[4],\"P\": out_herit[7],\"CovVarianceExpl\": out_herit[9]})\n",
    "out_herit_df = data[[\"Trait\",\"H2r\",\"P\",\"CovVarianceExpl\"]].sort_values(['Trait'], ascending=[True])\n",
    "out_herit_df"
   ]
  },
  {
   "cell_type": "code",
   "execution_count": 65,
   "metadata": {
    "collapsed": false
   },
   "outputs": [
    {
     "data": {
      "image/png": "[encoded data removed]",
      "text/plain": [
       "<matplotlib.figure.Figure at 0x7f5d33de3208>"
      ]
     },
     "metadata": {},
     "output_type": "display_data"
    }
   ],
   "source": [
    "import numpy as np\n",
    "import pandas as pd\n",
    "import seaborn as sns\n",
    "import matplotlib.pyplot as plt\n",
    "%matplotlib inline\n",
    "sns.set(style=\"ticks\")\n",
    "\n",
    "# Create a dataset with many short random walks\n",
    "rs = np.random.RandomState(4)\n",
    "pos = rs.randint(-1, 2, (20, 5)).cumsum(axis=1)\n",
    "pos -= pos[:, 0, np.newaxis]\n",
    "step = np.tile(range(5), 20)\n",
    "walk = np.repeat(range(20), 5)\n",
    "df = pd.DataFrame(np.c_[pos.flat, step, walk],\n",
    "                  columns=[\"position\", \"step\", \"walk\"])\n",
    "# Initialize a grid of plots with an Axes for each walk\n",
    "grid = sns.FacetGrid(out_herit_df, col=\"Trait\", hue=\"Trait\", col_wrap=7, size=3)\n",
    "\n",
    "# Draw a horizontal line to show the starting point\n",
    "grid.map(plt.axhline, y=0, ls=\":\", c=\".0005\")\n",
    "\n",
    "# Draw a line plot to show the trajectory of each random walk\n",
    "grid.map(plt.plot, \"H2r\", \"P\", marker=\"o\", ms=4)\n",
    "\n",
    "# Adjust the tick positions and labels\n",
    "grid.set(xticks=np.arange(5), yticks=[0.00001, 0.01],\n",
    "         xlim=(0, 0.8), ylim=(0.00001, 0.01))\n",
    "\n",
    "# Adjust the arrangement of the plots\n",
    "grid.fig.tight_layout(w_pad=1)"
   ]
  }
 ],
 "metadata": {
  "anaconda-cloud": {},
  "kernelspec": {
   "display_name": "Python 3",
   "language": "python",
   "name": "python3"
  },
  "language_info": {
   "codemirror_mode": {
    "name": "ipython",
    "version": 3
   },
   "file_extension": ".py",
   "mimetype": "text/x-python",
   "name": "python",
   "nbconvert_exporter": "python",
   "pygments_lexer": "ipython3",
   "version": "3.4.3"
  },
  "widgets": {
   "state": {},
   "version": "1.1.2"
  }
 },
 "nbformat": 4,
 "nbformat_minor": 1
}
