{
 "cells": [
  {
   "cell_type": "markdown",
   "metadata": {
    "deletable": true,
    "editable": true
   },
   "source": [
    "# Heritability estimate on subtype from relational activation maps"
   ]
  },
  {
   "cell_type": "markdown",
   "metadata": {
    "collapsed": true,
    "deletable": true,
    "editable": true
   },
   "source": [
    "##### Subtype:\n",
    "- Niak preprocessed RELATIONAL task (new scrub method)\n",
    "- 5 subtype\n",
    "- **FD_scrubbed_mean regressed out befor building subtypes**\n",
    "\n",
    "##### Heritability:\n",
    "- Regress \"FD_scrubbed_mean\" \"Age_in_Yrs\" \"Gender\" as covariate\n",
    "\n",
    "\n",
    "## Build Pheno file"
   ]
  },
  {
   "cell_type": "markdown",
   "metadata": {
    "deletable": true,
    "editable": true
   },
   "source": [
    "### Merge behavioral variables with subtypes weights"
   ]
  },
  {
   "cell_type": "code",
   "execution_count": 16,
   "metadata": {
    "collapsed": false,
    "deletable": true,
    "editable": true
   },
   "outputs": [],
   "source": [
    "# Import pandas\n",
    "import os\n",
    "import pandas as pd\n",
    "import numpy as np\n",
    "from IPython.display import display\n",
    "import time"
   ]
  },
  {
   "cell_type": "code",
   "execution_count": 17,
   "metadata": {
    "collapsed": false,
    "deletable": true,
    "editable": true
   },
   "outputs": [
    {
     "name": "stdout",
     "output_type": "stream",
     "text": [
      "The rpy2.ipython extension is already loaded. To reload it, use:\n",
      "  %reload_ext rpy2.ipython\n"
     ]
    }
   ],
   "source": [
    "%matplotlib inline\n",
    "%load_ext rpy2.ipython"
   ]
  },
  {
   "cell_type": "code",
   "execution_count": 18,
   "metadata": {
    "collapsed": true,
    "deletable": true,
    "editable": true
   },
   "outputs": [],
   "source": [
    "task_name = 'relational'"
   ]
  },
  {
   "cell_type": "code",
   "execution_count": 19,
   "metadata": {
    "collapsed": true,
    "deletable": true,
    "editable": true
   },
   "outputs": [],
   "source": [
    "# Set up the paths \n",
    "path_root = \"/home/yassinebha/Drive/HCP/\"\n",
    "net_path = os.path.join(path_root,\"subtypes_scores/26-10-2016/subtype_5_spm_RELATIONAL_18-Jun-2017/networks/\")\n",
    "out_path = os.path.join(path_root,\"Solar_heritability/HCP_subtype/\")"
   ]
  },
  {
   "cell_type": "code",
   "execution_count": 20,
   "metadata": {
    "collapsed": false,
    "deletable": true,
    "editable": true
   },
   "outputs": [],
   "source": [
    "# Set up files name\n",
    "sbt_name_pattern = \"sbt_weights_net_{}.csv\"\n",
    "pheno_path = os.path.join(path_root,\"subtypes_scores/26-10-2016/pheno/hcp_pheno_{}_raw.csv\".format(task_name))\n",
    "solar_script = 'fcd_solar_h2r_test.sh'\n",
    "pheno_save = 'solar_relational_spm_pheno.csv'.format(task_name)\n",
    "pedig_save = 'solar_relational_spm_pedigre.csv'.format(task_name)\n",
    "solar_out = 'subtype_5_{}_{}'.format(task_name,time.strftime(\"%d-%m-%Y\"))\n",
    "h2r_out_file = 'h2r_solar_{}_spm_{}.csv'\n",
    "## Solar covariates\n",
    "solar_cov = '    cov FD_scrubbed_mean Gender'"
   ]
  },
  {
   "cell_type": "code",
   "execution_count": 21,
   "metadata": {
    "collapsed": false,
    "deletable": true,
    "editable": true
   },
   "outputs": [
    {
     "data": {
      "text/plain": [
       "['contrast_relation_vs_match', 'relation', 'match']"
      ]
     },
     "execution_count": 21,
     "metadata": {},
     "output_type": "execute_result"
    }
   ],
   "source": [
    "# List of network names\n",
    "list_trial = os.listdir(net_path)\n",
    "list_trial"
   ]
  },
  {
   "cell_type": "code",
   "execution_count": 22,
   "metadata": {
    "collapsed": false,
    "deletable": true,
    "editable": true
   },
   "outputs": [],
   "source": [
    "# Loop over each network and build weight file\n",
    "for index, trial_name in enumerate(list_trial):\n",
    "    file_path = os.path.join(net_path, trial_name, sbt_name_pattern.format(trial_name))\n",
    "    if not os.path.exists(file_path):\n",
    "        print(\"Hello, {} does not exist\".format(file_path))\n",
    "    \n",
    "    tmp_weights = pd.read_csv(file_path)\n",
    "    # Rename first column\n",
    "    tmp_weights.rename(columns={\" \":\"Subject\"}, inplace=True)\n",
    "    tmp_weights.Subject = tmp_weights.Subject.str.strip(\" \")\n",
    "    \n",
    "    rename_dict = dict()\n",
    "    for colname in tmp_weights.columns:\n",
    "        if colname == \"Subject\":\n",
    "            continue\n",
    "        else:\n",
    "            new_name = \"{}_{}\".format(trial_name, colname)\n",
    "            # Get rid of trailing whitespace\n",
    "            new_name = new_name.strip(\" \")\n",
    "            rename_dict[colname] = new_name\n",
    "\n",
    "    tmp_weights.rename(columns=rename_dict, inplace=True)\n",
    "    \n",
    "    if index==0:\n",
    "        dataframe = tmp_weights\n",
    "    else:\n",
    "        dataframe = pd.merge(dataframe, tmp_weights, on=\"Subject\", how=\"inner\")"
   ]
  },
  {
   "cell_type": "code",
   "execution_count": 23,
   "metadata": {
    "collapsed": false,
    "deletable": true,
    "editable": true
   },
   "outputs": [
    {
     "data": {
      "text/html": [
       "<div>\n",
       "<table border=\"1\" class=\"dataframe\">\n",
       "  <thead>\n",
       "    <tr style=\"text-align: right;\">\n",
       "      <th></th>\n",
       "      <th>Subject</th>\n",
       "      <th>contrast_relation_vs_match_sub1</th>\n",
       "      <th>contrast_relation_vs_match_sub2</th>\n",
       "      <th>contrast_relation_vs_match_sub3</th>\n",
       "      <th>contrast_relation_vs_match_sub4</th>\n",
       "      <th>contrast_relation_vs_match_sub5</th>\n",
       "      <th>relation_sub1</th>\n",
       "      <th>relation_sub2</th>\n",
       "      <th>relation_sub3</th>\n",
       "      <th>relation_sub4</th>\n",
       "      <th>relation_sub5</th>\n",
       "      <th>match_sub1</th>\n",
       "      <th>match_sub2</th>\n",
       "      <th>match_sub3</th>\n",
       "      <th>match_sub4</th>\n",
       "      <th>match_sub5</th>\n",
       "    </tr>\n",
       "  </thead>\n",
       "  <tbody>\n",
       "    <tr>\n",
       "      <th>0</th>\n",
       "      <td>HCP100206</td>\n",
       "      <td>0.092</td>\n",
       "      <td>-0.098</td>\n",
       "      <td>-0.261</td>\n",
       "      <td>0.009</td>\n",
       "      <td>0.155</td>\n",
       "      <td>0.234</td>\n",
       "      <td>-0.360</td>\n",
       "      <td>0.339</td>\n",
       "      <td>0.269</td>\n",
       "      <td>-0.326</td>\n",
       "      <td>-0.236</td>\n",
       "      <td>-0.146</td>\n",
       "      <td>-0.188</td>\n",
       "      <td>0.239</td>\n",
       "      <td>0.233</td>\n",
       "    </tr>\n",
       "    <tr>\n",
       "      <th>1</th>\n",
       "      <td>HCP100307</td>\n",
       "      <td>-0.043</td>\n",
       "      <td>0.154</td>\n",
       "      <td>-0.070</td>\n",
       "      <td>0.190</td>\n",
       "      <td>-0.226</td>\n",
       "      <td>-0.071</td>\n",
       "      <td>0.734</td>\n",
       "      <td>-0.724</td>\n",
       "      <td>-0.687</td>\n",
       "      <td>0.660</td>\n",
       "      <td>0.724</td>\n",
       "      <td>0.348</td>\n",
       "      <td>0.593</td>\n",
       "      <td>-0.644</td>\n",
       "      <td>-0.720</td>\n",
       "    </tr>\n",
       "    <tr>\n",
       "      <th>2</th>\n",
       "      <td>HCP100408</td>\n",
       "      <td>0.063</td>\n",
       "      <td>-0.215</td>\n",
       "      <td>0.219</td>\n",
       "      <td>-0.276</td>\n",
       "      <td>0.263</td>\n",
       "      <td>-0.060</td>\n",
       "      <td>-0.652</td>\n",
       "      <td>0.701</td>\n",
       "      <td>0.686</td>\n",
       "      <td>-0.692</td>\n",
       "      <td>-0.536</td>\n",
       "      <td>-0.205</td>\n",
       "      <td>-0.529</td>\n",
       "      <td>0.402</td>\n",
       "      <td>0.575</td>\n",
       "    </tr>\n",
       "    <tr>\n",
       "      <th>3</th>\n",
       "      <td>HCP100610</td>\n",
       "      <td>0.383</td>\n",
       "      <td>-0.161</td>\n",
       "      <td>0.209</td>\n",
       "      <td>-0.524</td>\n",
       "      <td>0.334</td>\n",
       "      <td>-0.287</td>\n",
       "      <td>-0.239</td>\n",
       "      <td>0.305</td>\n",
       "      <td>0.428</td>\n",
       "      <td>-0.361</td>\n",
       "      <td>-0.155</td>\n",
       "      <td>-0.188</td>\n",
       "      <td>-0.085</td>\n",
       "      <td>0.246</td>\n",
       "      <td>0.138</td>\n",
       "    </tr>\n",
       "    <tr>\n",
       "      <th>4</th>\n",
       "      <td>HCP101006</td>\n",
       "      <td>0.022</td>\n",
       "      <td>-0.169</td>\n",
       "      <td>-0.053</td>\n",
       "      <td>-0.125</td>\n",
       "      <td>0.247</td>\n",
       "      <td>0.011</td>\n",
       "      <td>-0.561</td>\n",
       "      <td>0.587</td>\n",
       "      <td>0.560</td>\n",
       "      <td>-0.571</td>\n",
       "      <td>-0.307</td>\n",
       "      <td>-0.131</td>\n",
       "      <td>-0.291</td>\n",
       "      <td>0.283</td>\n",
       "      <td>0.313</td>\n",
       "    </tr>\n",
       "  </tbody>\n",
       "</table>\n",
       "</div>"
      ],
      "text/plain": [
       "     Subject  contrast_relation_vs_match_sub1  \\\n",
       "0  HCP100206                            0.092   \n",
       "1  HCP100307                           -0.043   \n",
       "2  HCP100408                            0.063   \n",
       "3  HCP100610                            0.383   \n",
       "4  HCP101006                            0.022   \n",
       "\n",
       "   contrast_relation_vs_match_sub2  contrast_relation_vs_match_sub3  \\\n",
       "0                           -0.098                           -0.261   \n",
       "1                            0.154                           -0.070   \n",
       "2                           -0.215                            0.219   \n",
       "3                           -0.161                            0.209   \n",
       "4                           -0.169                           -0.053   \n",
       "\n",
       "   contrast_relation_vs_match_sub4  contrast_relation_vs_match_sub5  \\\n",
       "0                            0.009                            0.155   \n",
       "1                            0.190                           -0.226   \n",
       "2                           -0.276                            0.263   \n",
       "3                           -0.524                            0.334   \n",
       "4                           -0.125                            0.247   \n",
       "\n",
       "   relation_sub1  relation_sub2  relation_sub3  relation_sub4  relation_sub5  \\\n",
       "0          0.234         -0.360          0.339          0.269         -0.326   \n",
       "1         -0.071          0.734         -0.724         -0.687          0.660   \n",
       "2         -0.060         -0.652          0.701          0.686         -0.692   \n",
       "3         -0.287         -0.239          0.305          0.428         -0.361   \n",
       "4          0.011         -0.561          0.587          0.560         -0.571   \n",
       "\n",
       "   match_sub1  match_sub2  match_sub3  match_sub4  match_sub5  \n",
       "0      -0.236      -0.146      -0.188       0.239       0.233  \n",
       "1       0.724       0.348       0.593      -0.644      -0.720  \n",
       "2      -0.536      -0.205      -0.529       0.402       0.575  \n",
       "3      -0.155      -0.188      -0.085       0.246       0.138  \n",
       "4      -0.307      -0.131      -0.291       0.283       0.313  "
      ]
     },
     "execution_count": 23,
     "metadata": {},
     "output_type": "execute_result"
    }
   ],
   "source": [
    "dataframe.head()"
   ]
  },
  {
   "cell_type": "code",
   "execution_count": 24,
   "metadata": {
    "collapsed": false,
    "deletable": true,
    "editable": true,
    "scrolled": true
   },
   "outputs": [
    {
     "data": {
      "text/plain": [
       "count           768\n",
       "unique          768\n",
       "top       HCP857263\n",
       "freq              1\n",
       "Name: Subject, dtype: object"
      ]
     },
     "execution_count": 24,
     "metadata": {},
     "output_type": "execute_result"
    }
   ],
   "source": [
    "dataframe.Subject.describe()"
   ]
  },
  {
   "cell_type": "code",
   "execution_count": 25,
   "metadata": {
    "collapsed": false,
    "deletable": true,
    "editable": true
   },
   "outputs": [],
   "source": [
    "# Load pheno file\n",
    "file_weight = dataframe\n",
    "file_pheno = pd.read_csv(pheno_path)"
   ]
  },
  {
   "cell_type": "code",
   "execution_count": 26,
   "metadata": {
    "collapsed": false,
    "deletable": true,
    "editable": true
   },
   "outputs": [
    {
     "data": {
      "text/html": [
       "<div>\n",
       "<table border=\"1\" class=\"dataframe\">\n",
       "  <thead>\n",
       "    <tr style=\"text-align: right;\">\n",
       "      <th></th>\n",
       "      <th>Unnamed: 0</th>\n",
       "      <th>FD_RL</th>\n",
       "      <th>FD_scrubbed_RL</th>\n",
       "      <th>FD_LR</th>\n",
       "      <th>FD_scrubbed_LR</th>\n",
       "      <th>FD_scrubbed_mean</th>\n",
       "      <th>FD_mean</th>\n",
       "      <th>Subject</th>\n",
       "      <th>Age_in_Yrs</th>\n",
       "      <th>Gender</th>\n",
       "      <th>...</th>\n",
       "      <th>BMI</th>\n",
       "      <th>cluster_1</th>\n",
       "      <th>cluster_2</th>\n",
       "      <th>cluster_3</th>\n",
       "      <th>cluster_4</th>\n",
       "      <th>cluster_5</th>\n",
       "      <th>cluster_6</th>\n",
       "      <th>cluster_7</th>\n",
       "      <th>cluster_8</th>\n",
       "      <th>cluster_9</th>\n",
       "    </tr>\n",
       "  </thead>\n",
       "  <tbody>\n",
       "    <tr>\n",
       "      <th>0</th>\n",
       "      <td>HCP100206</td>\n",
       "      <td>0.098646</td>\n",
       "      <td>0.091387</td>\n",
       "      <td>0.118289</td>\n",
       "      <td>0.118289</td>\n",
       "      <td>0.104838</td>\n",
       "      <td>0.108467</td>\n",
       "      <td>HCP100206</td>\n",
       "      <td>27.0</td>\n",
       "      <td>1.0</td>\n",
       "      <td>...</td>\n",
       "      <td>26.64</td>\n",
       "      <td>-1.143794</td>\n",
       "      <td>1.304835</td>\n",
       "      <td>1.285918</td>\n",
       "      <td>-0.034336</td>\n",
       "      <td>0.205086</td>\n",
       "      <td>0.053396</td>\n",
       "      <td>0.090798</td>\n",
       "      <td>-0.512524</td>\n",
       "      <td>-0.118881</td>\n",
       "    </tr>\n",
       "    <tr>\n",
       "      <th>1</th>\n",
       "      <td>HCP100307</td>\n",
       "      <td>0.108372</td>\n",
       "      <td>0.108372</td>\n",
       "      <td>0.098514</td>\n",
       "      <td>0.098514</td>\n",
       "      <td>0.103443</td>\n",
       "      <td>0.103443</td>\n",
       "      <td>HCP100307</td>\n",
       "      <td>27.0</td>\n",
       "      <td>2.0</td>\n",
       "      <td>...</td>\n",
       "      <td>22.96</td>\n",
       "      <td>-0.528411</td>\n",
       "      <td>0.493464</td>\n",
       "      <td>0.523816</td>\n",
       "      <td>-0.600763</td>\n",
       "      <td>0.386336</td>\n",
       "      <td>-0.953060</td>\n",
       "      <td>-0.958070</td>\n",
       "      <td>-0.143309</td>\n",
       "      <td>-0.722473</td>\n",
       "    </tr>\n",
       "    <tr>\n",
       "      <th>2</th>\n",
       "      <td>HCP100408</td>\n",
       "      <td>0.113633</td>\n",
       "      <td>0.113633</td>\n",
       "      <td>0.145309</td>\n",
       "      <td>0.145309</td>\n",
       "      <td>0.129471</td>\n",
       "      <td>0.129471</td>\n",
       "      <td>HCP100408</td>\n",
       "      <td>33.0</td>\n",
       "      <td>1.0</td>\n",
       "      <td>...</td>\n",
       "      <td>27.75</td>\n",
       "      <td>-0.236296</td>\n",
       "      <td>0.020266</td>\n",
       "      <td>0.092588</td>\n",
       "      <td>0.114286</td>\n",
       "      <td>-0.084017</td>\n",
       "      <td>-0.522003</td>\n",
       "      <td>0.619392</td>\n",
       "      <td>0.219196</td>\n",
       "      <td>1.037169</td>\n",
       "    </tr>\n",
       "    <tr>\n",
       "      <th>3</th>\n",
       "      <td>HCP100610</td>\n",
       "      <td>0.184109</td>\n",
       "      <td>0.184109</td>\n",
       "      <td>0.170573</td>\n",
       "      <td>0.160610</td>\n",
       "      <td>0.172360</td>\n",
       "      <td>0.177341</td>\n",
       "      <td>HCP100610</td>\n",
       "      <td>27.0</td>\n",
       "      <td>1.0</td>\n",
       "      <td>...</td>\n",
       "      <td>36.91</td>\n",
       "      <td>2.022214</td>\n",
       "      <td>0.895451</td>\n",
       "      <td>-0.361691</td>\n",
       "      <td>1.234488</td>\n",
       "      <td>0.709151</td>\n",
       "      <td>-0.882736</td>\n",
       "      <td>-0.323026</td>\n",
       "      <td>-0.199254</td>\n",
       "      <td>0.459399</td>\n",
       "    </tr>\n",
       "    <tr>\n",
       "      <th>4</th>\n",
       "      <td>HCP101006</td>\n",
       "      <td>0.146478</td>\n",
       "      <td>0.146478</td>\n",
       "      <td>0.152041</td>\n",
       "      <td>0.148402</td>\n",
       "      <td>0.147440</td>\n",
       "      <td>0.149260</td>\n",
       "      <td>HCP101006</td>\n",
       "      <td>35.0</td>\n",
       "      <td>2.0</td>\n",
       "      <td>...</td>\n",
       "      <td>30.27</td>\n",
       "      <td>0.591952</td>\n",
       "      <td>-1.191472</td>\n",
       "      <td>0.037988</td>\n",
       "      <td>-0.682910</td>\n",
       "      <td>-0.516141</td>\n",
       "      <td>0.056823</td>\n",
       "      <td>-0.275139</td>\n",
       "      <td>-0.310782</td>\n",
       "      <td>0.308365</td>\n",
       "    </tr>\n",
       "  </tbody>\n",
       "</table>\n",
       "<p>5 rows × 24 columns</p>\n",
       "</div>"
      ],
      "text/plain": [
       "  Unnamed: 0     FD_RL  FD_scrubbed_RL     FD_LR  FD_scrubbed_LR  \\\n",
       "0  HCP100206  0.098646        0.091387  0.118289        0.118289   \n",
       "1  HCP100307  0.108372        0.108372  0.098514        0.098514   \n",
       "2  HCP100408  0.113633        0.113633  0.145309        0.145309   \n",
       "3  HCP100610  0.184109        0.184109  0.170573        0.160610   \n",
       "4  HCP101006  0.146478        0.146478  0.152041        0.148402   \n",
       "\n",
       "   FD_scrubbed_mean   FD_mean    Subject  Age_in_Yrs  Gender    ...      \\\n",
       "0          0.104838  0.108467  HCP100206        27.0     1.0    ...       \n",
       "1          0.103443  0.103443  HCP100307        27.0     2.0    ...       \n",
       "2          0.129471  0.129471  HCP100408        33.0     1.0    ...       \n",
       "3          0.172360  0.177341  HCP100610        27.0     1.0    ...       \n",
       "4          0.147440  0.149260  HCP101006        35.0     2.0    ...       \n",
       "\n",
       "     BMI cluster_1 cluster_2  cluster_3  cluster_4  cluster_5  cluster_6  \\\n",
       "0  26.64 -1.143794  1.304835   1.285918  -0.034336   0.205086   0.053396   \n",
       "1  22.96 -0.528411  0.493464   0.523816  -0.600763   0.386336  -0.953060   \n",
       "2  27.75 -0.236296  0.020266   0.092588   0.114286  -0.084017  -0.522003   \n",
       "3  36.91  2.022214  0.895451  -0.361691   1.234488   0.709151  -0.882736   \n",
       "4  30.27  0.591952 -1.191472   0.037988  -0.682910  -0.516141   0.056823   \n",
       "\n",
       "   cluster_7  cluster_8  cluster_9  \n",
       "0   0.090798  -0.512524  -0.118881  \n",
       "1  -0.958070  -0.143309  -0.722473  \n",
       "2   0.619392   0.219196   1.037169  \n",
       "3  -0.323026  -0.199254   0.459399  \n",
       "4  -0.275139  -0.310782   0.308365  \n",
       "\n",
       "[5 rows x 24 columns]"
      ]
     },
     "execution_count": 26,
     "metadata": {},
     "output_type": "execute_result"
    }
   ],
   "source": [
    "file_pheno.head()"
   ]
  },
  {
   "cell_type": "code",
   "execution_count": 27,
   "metadata": {
    "collapsed": false,
    "deletable": true,
    "editable": true
   },
   "outputs": [
    {
     "data": {
      "text/plain": [
       "count           802\n",
       "unique          802\n",
       "top       HCP773257\n",
       "freq              1\n",
       "Name: Subject, dtype: object"
      ]
     },
     "execution_count": 27,
     "metadata": {},
     "output_type": "execute_result"
    }
   ],
   "source": [
    "file_pheno.Subject.describe()"
   ]
  },
  {
   "cell_type": "code",
   "execution_count": 28,
   "metadata": {
    "collapsed": false,
    "deletable": true,
    "editable": true,
    "scrolled": true
   },
   "outputs": [
    {
     "data": {
      "text/html": [
       "<div>\n",
       "<table border=\"1\" class=\"dataframe\">\n",
       "  <thead>\n",
       "    <tr style=\"text-align: right;\">\n",
       "      <th></th>\n",
       "      <th>Subject</th>\n",
       "      <th>Age_in_Yrs</th>\n",
       "      <th>Handedness</th>\n",
       "      <th>Gender</th>\n",
       "      <th>BMI</th>\n",
       "      <th>FD_mean</th>\n",
       "      <th>FD_scrubbed_mean</th>\n",
       "    </tr>\n",
       "  </thead>\n",
       "  <tbody>\n",
       "    <tr>\n",
       "      <th>0</th>\n",
       "      <td>HCP100206</td>\n",
       "      <td>27.0</td>\n",
       "      <td>65.0</td>\n",
       "      <td>1.0</td>\n",
       "      <td>26.64</td>\n",
       "      <td>0.108467</td>\n",
       "      <td>0.104838</td>\n",
       "    </tr>\n",
       "    <tr>\n",
       "      <th>1</th>\n",
       "      <td>HCP100307</td>\n",
       "      <td>27.0</td>\n",
       "      <td>95.0</td>\n",
       "      <td>2.0</td>\n",
       "      <td>22.96</td>\n",
       "      <td>0.103443</td>\n",
       "      <td>0.103443</td>\n",
       "    </tr>\n",
       "    <tr>\n",
       "      <th>2</th>\n",
       "      <td>HCP100408</td>\n",
       "      <td>33.0</td>\n",
       "      <td>55.0</td>\n",
       "      <td>1.0</td>\n",
       "      <td>27.75</td>\n",
       "      <td>0.129471</td>\n",
       "      <td>0.129471</td>\n",
       "    </tr>\n",
       "    <tr>\n",
       "      <th>3</th>\n",
       "      <td>HCP100610</td>\n",
       "      <td>27.0</td>\n",
       "      <td>85.0</td>\n",
       "      <td>1.0</td>\n",
       "      <td>36.91</td>\n",
       "      <td>0.177341</td>\n",
       "      <td>0.172360</td>\n",
       "    </tr>\n",
       "    <tr>\n",
       "      <th>4</th>\n",
       "      <td>HCP101006</td>\n",
       "      <td>35.0</td>\n",
       "      <td>90.0</td>\n",
       "      <td>2.0</td>\n",
       "      <td>30.27</td>\n",
       "      <td>0.149260</td>\n",
       "      <td>0.147440</td>\n",
       "    </tr>\n",
       "  </tbody>\n",
       "</table>\n",
       "</div>"
      ],
      "text/plain": [
       "     Subject  Age_in_Yrs  Handedness  Gender    BMI   FD_mean  \\\n",
       "0  HCP100206        27.0        65.0     1.0  26.64  0.108467   \n",
       "1  HCP100307        27.0        95.0     2.0  22.96  0.103443   \n",
       "2  HCP100408        33.0        55.0     1.0  27.75  0.129471   \n",
       "3  HCP100610        27.0        85.0     1.0  36.91  0.177341   \n",
       "4  HCP101006        35.0        90.0     2.0  30.27  0.149260   \n",
       "\n",
       "   FD_scrubbed_mean  \n",
       "0          0.104838  \n",
       "1          0.103443  \n",
       "2          0.129471  \n",
       "3          0.172360  \n",
       "4          0.147440  "
      ]
     },
     "execution_count": 28,
     "metadata": {},
     "output_type": "execute_result"
    }
   ],
   "source": [
    "# Select a subset of variable\n",
    "file_pheno_subset = file_pheno[[\"Subject\",\"Age_in_Yrs\",\"Handedness\",\"Gender\",\"BMI\",\"FD_mean\",\"FD_scrubbed_mean\"]]\n",
    "file_pheno_subset.head()"
   ]
  },
  {
   "cell_type": "code",
   "execution_count": 29,
   "metadata": {
    "collapsed": false,
    "deletable": true,
    "editable": true
   },
   "outputs": [],
   "source": [
    "# Replace gender M=1 and F=2\n",
    "#file_pheno_subset.Gender.replace({'M':1,'F':2}, inplace=True)\n",
    "#file_pheno_subset.head()"
   ]
  },
  {
   "cell_type": "code",
   "execution_count": 30,
   "metadata": {
    "collapsed": false,
    "deletable": true,
    "editable": true
   },
   "outputs": [
    {
     "data": {
      "text/html": [
       "<div>\n",
       "<table border=\"1\" class=\"dataframe\">\n",
       "  <thead>\n",
       "    <tr style=\"text-align: right;\">\n",
       "      <th></th>\n",
       "      <th>Subject</th>\n",
       "    </tr>\n",
       "  </thead>\n",
       "  <tbody>\n",
       "    <tr>\n",
       "      <th>count</th>\n",
       "      <td>802</td>\n",
       "    </tr>\n",
       "    <tr>\n",
       "      <th>unique</th>\n",
       "      <td>802</td>\n",
       "    </tr>\n",
       "    <tr>\n",
       "      <th>top</th>\n",
       "      <td>HCP773257</td>\n",
       "    </tr>\n",
       "    <tr>\n",
       "      <th>freq</th>\n",
       "      <td>1</td>\n",
       "    </tr>\n",
       "  </tbody>\n",
       "</table>\n",
       "</div>"
      ],
      "text/plain": [
       "          Subject\n",
       "count         802\n",
       "unique        802\n",
       "top     HCP773257\n",
       "freq            1"
      ]
     },
     "execution_count": 30,
     "metadata": {},
     "output_type": "execute_result"
    }
   ],
   "source": [
    "file_pheno_subset[[\"Subject\"]].describe()"
   ]
  },
  {
   "cell_type": "code",
   "execution_count": 31,
   "metadata": {
    "collapsed": false,
    "deletable": true,
    "editable": true
   },
   "outputs": [
    {
     "data": {
      "text/html": [
       "<div>\n",
       "<table border=\"1\" class=\"dataframe\">\n",
       "  <thead>\n",
       "    <tr style=\"text-align: right;\">\n",
       "      <th></th>\n",
       "      <th>Subject</th>\n",
       "    </tr>\n",
       "  </thead>\n",
       "  <tbody>\n",
       "    <tr>\n",
       "      <th>count</th>\n",
       "      <td>768</td>\n",
       "    </tr>\n",
       "    <tr>\n",
       "      <th>unique</th>\n",
       "      <td>768</td>\n",
       "    </tr>\n",
       "    <tr>\n",
       "      <th>top</th>\n",
       "      <td>HCP857263</td>\n",
       "    </tr>\n",
       "    <tr>\n",
       "      <th>freq</th>\n",
       "      <td>1</td>\n",
       "    </tr>\n",
       "  </tbody>\n",
       "</table>\n",
       "</div>"
      ],
      "text/plain": [
       "          Subject\n",
       "count         768\n",
       "unique        768\n",
       "top     HCP857263\n",
       "freq            1"
      ]
     },
     "execution_count": 31,
     "metadata": {},
     "output_type": "execute_result"
    }
   ],
   "source": [
    "file_weight[[\"Subject\"]].describe()"
   ]
  },
  {
   "cell_type": "code",
   "execution_count": 32,
   "metadata": {
    "collapsed": false,
    "deletable": true,
    "editable": true
   },
   "outputs": [
    {
     "data": {
      "text/html": [
       "<div>\n",
       "<table border=\"1\" class=\"dataframe\">\n",
       "  <thead>\n",
       "    <tr style=\"text-align: right;\">\n",
       "      <th></th>\n",
       "      <th>ID</th>\n",
       "      <th>contrast_relation_vs_match_sub1</th>\n",
       "      <th>contrast_relation_vs_match_sub2</th>\n",
       "      <th>contrast_relation_vs_match_sub3</th>\n",
       "      <th>contrast_relation_vs_match_sub4</th>\n",
       "      <th>contrast_relation_vs_match_sub5</th>\n",
       "      <th>relation_sub1</th>\n",
       "      <th>relation_sub2</th>\n",
       "      <th>relation_sub3</th>\n",
       "      <th>relation_sub4</th>\n",
       "      <th>...</th>\n",
       "      <th>match_sub2</th>\n",
       "      <th>match_sub3</th>\n",
       "      <th>match_sub4</th>\n",
       "      <th>match_sub5</th>\n",
       "      <th>Age_in_Yrs</th>\n",
       "      <th>Handedness</th>\n",
       "      <th>Gender</th>\n",
       "      <th>BMI</th>\n",
       "      <th>FD_mean</th>\n",
       "      <th>FD_scrubbed_mean</th>\n",
       "    </tr>\n",
       "  </thead>\n",
       "  <tbody>\n",
       "    <tr>\n",
       "      <th>0</th>\n",
       "      <td>HCP100206</td>\n",
       "      <td>0.092</td>\n",
       "      <td>-0.098</td>\n",
       "      <td>-0.261</td>\n",
       "      <td>0.009</td>\n",
       "      <td>0.155</td>\n",
       "      <td>0.234</td>\n",
       "      <td>-0.360</td>\n",
       "      <td>0.339</td>\n",
       "      <td>0.269</td>\n",
       "      <td>...</td>\n",
       "      <td>-0.146</td>\n",
       "      <td>-0.188</td>\n",
       "      <td>0.239</td>\n",
       "      <td>0.233</td>\n",
       "      <td>27.0</td>\n",
       "      <td>65.0</td>\n",
       "      <td>1.0</td>\n",
       "      <td>26.64</td>\n",
       "      <td>0.108467</td>\n",
       "      <td>0.104838</td>\n",
       "    </tr>\n",
       "    <tr>\n",
       "      <th>1</th>\n",
       "      <td>HCP100307</td>\n",
       "      <td>-0.043</td>\n",
       "      <td>0.154</td>\n",
       "      <td>-0.070</td>\n",
       "      <td>0.190</td>\n",
       "      <td>-0.226</td>\n",
       "      <td>-0.071</td>\n",
       "      <td>0.734</td>\n",
       "      <td>-0.724</td>\n",
       "      <td>-0.687</td>\n",
       "      <td>...</td>\n",
       "      <td>0.348</td>\n",
       "      <td>0.593</td>\n",
       "      <td>-0.644</td>\n",
       "      <td>-0.720</td>\n",
       "      <td>27.0</td>\n",
       "      <td>95.0</td>\n",
       "      <td>2.0</td>\n",
       "      <td>22.96</td>\n",
       "      <td>0.103443</td>\n",
       "      <td>0.103443</td>\n",
       "    </tr>\n",
       "    <tr>\n",
       "      <th>2</th>\n",
       "      <td>HCP100408</td>\n",
       "      <td>0.063</td>\n",
       "      <td>-0.215</td>\n",
       "      <td>0.219</td>\n",
       "      <td>-0.276</td>\n",
       "      <td>0.263</td>\n",
       "      <td>-0.060</td>\n",
       "      <td>-0.652</td>\n",
       "      <td>0.701</td>\n",
       "      <td>0.686</td>\n",
       "      <td>...</td>\n",
       "      <td>-0.205</td>\n",
       "      <td>-0.529</td>\n",
       "      <td>0.402</td>\n",
       "      <td>0.575</td>\n",
       "      <td>33.0</td>\n",
       "      <td>55.0</td>\n",
       "      <td>1.0</td>\n",
       "      <td>27.75</td>\n",
       "      <td>0.129471</td>\n",
       "      <td>0.129471</td>\n",
       "    </tr>\n",
       "    <tr>\n",
       "      <th>3</th>\n",
       "      <td>HCP100610</td>\n",
       "      <td>0.383</td>\n",
       "      <td>-0.161</td>\n",
       "      <td>0.209</td>\n",
       "      <td>-0.524</td>\n",
       "      <td>0.334</td>\n",
       "      <td>-0.287</td>\n",
       "      <td>-0.239</td>\n",
       "      <td>0.305</td>\n",
       "      <td>0.428</td>\n",
       "      <td>...</td>\n",
       "      <td>-0.188</td>\n",
       "      <td>-0.085</td>\n",
       "      <td>0.246</td>\n",
       "      <td>0.138</td>\n",
       "      <td>27.0</td>\n",
       "      <td>85.0</td>\n",
       "      <td>1.0</td>\n",
       "      <td>36.91</td>\n",
       "      <td>0.177341</td>\n",
       "      <td>0.172360</td>\n",
       "    </tr>\n",
       "    <tr>\n",
       "      <th>4</th>\n",
       "      <td>HCP101006</td>\n",
       "      <td>0.022</td>\n",
       "      <td>-0.169</td>\n",
       "      <td>-0.053</td>\n",
       "      <td>-0.125</td>\n",
       "      <td>0.247</td>\n",
       "      <td>0.011</td>\n",
       "      <td>-0.561</td>\n",
       "      <td>0.587</td>\n",
       "      <td>0.560</td>\n",
       "      <td>...</td>\n",
       "      <td>-0.131</td>\n",
       "      <td>-0.291</td>\n",
       "      <td>0.283</td>\n",
       "      <td>0.313</td>\n",
       "      <td>35.0</td>\n",
       "      <td>90.0</td>\n",
       "      <td>2.0</td>\n",
       "      <td>30.27</td>\n",
       "      <td>0.149260</td>\n",
       "      <td>0.147440</td>\n",
       "    </tr>\n",
       "  </tbody>\n",
       "</table>\n",
       "<p>5 rows × 22 columns</p>\n",
       "</div>"
      ],
      "text/plain": [
       "          ID  contrast_relation_vs_match_sub1  \\\n",
       "0  HCP100206                            0.092   \n",
       "1  HCP100307                           -0.043   \n",
       "2  HCP100408                            0.063   \n",
       "3  HCP100610                            0.383   \n",
       "4  HCP101006                            0.022   \n",
       "\n",
       "   contrast_relation_vs_match_sub2  contrast_relation_vs_match_sub3  \\\n",
       "0                           -0.098                           -0.261   \n",
       "1                            0.154                           -0.070   \n",
       "2                           -0.215                            0.219   \n",
       "3                           -0.161                            0.209   \n",
       "4                           -0.169                           -0.053   \n",
       "\n",
       "   contrast_relation_vs_match_sub4  contrast_relation_vs_match_sub5  \\\n",
       "0                            0.009                            0.155   \n",
       "1                            0.190                           -0.226   \n",
       "2                           -0.276                            0.263   \n",
       "3                           -0.524                            0.334   \n",
       "4                           -0.125                            0.247   \n",
       "\n",
       "   relation_sub1  relation_sub2  relation_sub3  relation_sub4  \\\n",
       "0          0.234         -0.360          0.339          0.269   \n",
       "1         -0.071          0.734         -0.724         -0.687   \n",
       "2         -0.060         -0.652          0.701          0.686   \n",
       "3         -0.287         -0.239          0.305          0.428   \n",
       "4          0.011         -0.561          0.587          0.560   \n",
       "\n",
       "         ...         match_sub2  match_sub3  match_sub4  match_sub5  \\\n",
       "0        ...             -0.146      -0.188       0.239       0.233   \n",
       "1        ...              0.348       0.593      -0.644      -0.720   \n",
       "2        ...             -0.205      -0.529       0.402       0.575   \n",
       "3        ...             -0.188      -0.085       0.246       0.138   \n",
       "4        ...             -0.131      -0.291       0.283       0.313   \n",
       "\n",
       "   Age_in_Yrs  Handedness  Gender    BMI   FD_mean  FD_scrubbed_mean  \n",
       "0        27.0        65.0     1.0  26.64  0.108467          0.104838  \n",
       "1        27.0        95.0     2.0  22.96  0.103443          0.103443  \n",
       "2        33.0        55.0     1.0  27.75  0.129471          0.129471  \n",
       "3        27.0        85.0     1.0  36.91  0.177341          0.172360  \n",
       "4        35.0        90.0     2.0  30.27  0.149260          0.147440  \n",
       "\n",
       "[5 rows x 22 columns]"
      ]
     },
     "execution_count": 32,
     "metadata": {},
     "output_type": "execute_result"
    }
   ],
   "source": [
    "# Merge weight with subset of pheno variables\n",
    "merged_weight_pheno = pd.merge(file_weight, file_pheno_subset, on='Subject', how='left')\n",
    "# Replace 'Subject' by 'ID'\n",
    "merged_weight_pheno.rename(columns={'Subject':'ID'},inplace=True)\n",
    "merged_weight_pheno.head()"
   ]
  },
  {
   "cell_type": "code",
   "execution_count": 33,
   "metadata": {
    "collapsed": false,
    "deletable": true,
    "editable": true
   },
   "outputs": [
    {
     "data": {
      "text/plain": [
       "count           768\n",
       "unique          768\n",
       "top       HCP857263\n",
       "freq              1\n",
       "Name: ID, dtype: object"
      ]
     },
     "execution_count": 33,
     "metadata": {},
     "output_type": "execute_result"
    }
   ],
   "source": [
    "merged_weight_pheno.ID.describe()"
   ]
  },
  {
   "cell_type": "code",
   "execution_count": 34,
   "metadata": {
    "collapsed": false,
    "deletable": true,
    "editable": true
   },
   "outputs": [
    {
     "data": {
      "text/plain": [
       "0"
      ]
     },
     "execution_count": 34,
     "metadata": {},
     "output_type": "execute_result"
    }
   ],
   "source": [
    "# Check if there is empty value in BMI\n",
    "sum(merged_weight_pheno.BMI.isnull())"
   ]
  },
  {
   "cell_type": "code",
   "execution_count": 35,
   "metadata": {
    "collapsed": false,
    "deletable": true,
    "editable": true
   },
   "outputs": [],
   "source": [
    "# Save the merged file\n",
    "merged_weight_pheno.to_csv(os.path.join(out_path,pheno_save), index=False)"
   ]
  },
  {
   "cell_type": "code",
   "execution_count": 36,
   "metadata": {
    "collapsed": false,
    "deletable": true,
    "editable": true
   },
   "outputs": [
    {
     "data": {
      "text/plain": [
       "'/home/yassinebha/Drive/HCP/Solar_heritability/HCP_subtype/solar_relational_spm_pheno.csv'"
      ]
     },
     "execution_count": 36,
     "metadata": {},
     "output_type": "execute_result"
    }
   ],
   "source": [
    "os.path.join(out_path,pheno_save)"
   ]
  },
  {
   "cell_type": "markdown",
   "metadata": {
    "deletable": true,
    "editable": true
   },
   "source": [
    "## Build trait file"
   ]
  },
  {
   "cell_type": "code",
   "execution_count": 37,
   "metadata": {
    "collapsed": false,
    "deletable": true,
    "editable": true
   },
   "outputs": [
    {
     "data": {
      "text/plain": [
       "['contrast_relation_vs_match_sub1',\n",
       " 'contrast_relation_vs_match_sub2',\n",
       " 'contrast_relation_vs_match_sub3',\n",
       " 'contrast_relation_vs_match_sub4',\n",
       " 'contrast_relation_vs_match_sub5',\n",
       " 'relation_sub1',\n",
       " 'relation_sub2',\n",
       " 'relation_sub3',\n",
       " 'relation_sub4',\n",
       " 'relation_sub5',\n",
       " 'match_sub1',\n",
       " 'match_sub2',\n",
       " 'match_sub3',\n",
       " 'match_sub4',\n",
       " 'match_sub5',\n",
       " 'Handedness',\n",
       " 'BMI',\n",
       " 'FD_mean',\n",
       " 'FD_scrubbed_mean']"
      ]
     },
     "execution_count": 37,
     "metadata": {},
     "output_type": "execute_result"
    }
   ],
   "source": [
    "## build trait file\n",
    "# Remove not neaded traits\n",
    "list_trait = merged_weight_pheno.columns.tolist()\n",
    "new_list = [trait for trait in list_trait if trait not in ['ID','Age_in_Yrs','Gender']]\n",
    "new_list"
   ]
  },
  {
   "cell_type": "code",
   "execution_count": 38,
   "metadata": {
    "collapsed": false,
    "deletable": true,
    "editable": true
   },
   "outputs": [],
   "source": [
    "# Save trait file\n",
    "file_out = open(os.path.join(out_path,\"trait_file\"), 'w')\n",
    "for item in new_list:\n",
    "    file_out.write(\"%s\\n\" % item)\n",
    "file_out.close()"
   ]
  },
  {
   "cell_type": "markdown",
   "metadata": {
    "collapsed": false,
    "deletable": true,
    "editable": true
   },
   "source": [
    "## Build Pedigree file"
   ]
  },
  {
   "cell_type": "code",
   "execution_count": 39,
   "metadata": {
    "collapsed": false,
    "deletable": true,
    "editable": true
   },
   "outputs": [
    {
     "data": {
      "text/html": [
       "<div>\n",
       "<table border=\"1\" class=\"dataframe\">\n",
       "  <thead>\n",
       "    <tr style=\"text-align: right;\">\n",
       "      <th></th>\n",
       "      <th>Subject</th>\n",
       "      <th>Twin_Stat</th>\n",
       "      <th>Zygosity</th>\n",
       "      <th>Mother_ID</th>\n",
       "      <th>Gender</th>\n",
       "    </tr>\n",
       "  </thead>\n",
       "  <tbody>\n",
       "    <tr>\n",
       "      <th>0</th>\n",
       "      <td>HCP100206</td>\n",
       "      <td>NotTwin</td>\n",
       "      <td>NotTwin</td>\n",
       "      <td>56037.0</td>\n",
       "      <td>1.0</td>\n",
       "    </tr>\n",
       "    <tr>\n",
       "      <th>1</th>\n",
       "      <td>HCP100307</td>\n",
       "      <td>Twin</td>\n",
       "      <td>NotMZ</td>\n",
       "      <td>51488.0</td>\n",
       "      <td>2.0</td>\n",
       "    </tr>\n",
       "    <tr>\n",
       "      <th>2</th>\n",
       "      <td>HCP100408</td>\n",
       "      <td>Twin</td>\n",
       "      <td>MZ</td>\n",
       "      <td>51730.0</td>\n",
       "      <td>1.0</td>\n",
       "    </tr>\n",
       "    <tr>\n",
       "      <th>3</th>\n",
       "      <td>HCP100610</td>\n",
       "      <td>Twin</td>\n",
       "      <td>NotMZ</td>\n",
       "      <td>52813.0</td>\n",
       "      <td>1.0</td>\n",
       "    </tr>\n",
       "    <tr>\n",
       "      <th>4</th>\n",
       "      <td>HCP101006</td>\n",
       "      <td>Twin</td>\n",
       "      <td>MZ</td>\n",
       "      <td>51283.0</td>\n",
       "      <td>2.0</td>\n",
       "    </tr>\n",
       "  </tbody>\n",
       "</table>\n",
       "</div>"
      ],
      "text/plain": [
       "     Subject Twin_Stat Zygosity  Mother_ID  Gender\n",
       "0  HCP100206   NotTwin  NotTwin    56037.0     1.0\n",
       "1  HCP100307      Twin    NotMZ    51488.0     2.0\n",
       "2  HCP100408      Twin       MZ    51730.0     1.0\n",
       "3  HCP100610      Twin    NotMZ    52813.0     1.0\n",
       "4  HCP101006      Twin       MZ    51283.0     2.0"
      ]
     },
     "execution_count": 39,
     "metadata": {},
     "output_type": "execute_result"
    }
   ],
   "source": [
    "# Select a subset of variable from pheno file\n",
    "file_pheno_pedig = file_pheno[[\"Subject\",\"Twin_Stat\",\"Zygosity\",\"Mother_ID\",\"Gender\"]]\n",
    "file_pheno_pedig.head()"
   ]
  },
  {
   "cell_type": "code",
   "execution_count": 40,
   "metadata": {
    "collapsed": false,
    "deletable": true,
    "editable": true
   },
   "outputs": [
    {
     "data": {
      "text/plain": [
       "count           802\n",
       "unique          802\n",
       "top       HCP773257\n",
       "freq              1\n",
       "Name: Subject, dtype: object"
      ]
     },
     "execution_count": 40,
     "metadata": {},
     "output_type": "execute_result"
    }
   ],
   "source": [
    "file_pheno_pedig.Subject.describe()"
   ]
  },
  {
   "cell_type": "code",
   "execution_count": 41,
   "metadata": {
    "collapsed": false,
    "deletable": true,
    "editable": true
   },
   "outputs": [],
   "source": [
    "# Build pedigre : ID , mo, fo, hhID, mztwins,sex\n",
    "mother_id = [\"mo_{}\".format(row.Mother_ID) for ind, row in file_pheno_pedig.iterrows()]\n",
    "father_id = [\"fa_{}\".format(row.Mother_ID) for ind, row in file_pheno_pedig.iterrows()]\n",
    "household_id = [\"hh_{}\".format(row.Mother_ID) for ind, row in file_pheno_pedig.iterrows()]\n",
    "twin_id = [\"pair_{}\".format(row.Mother_ID) if row.Zygosity == \"MZ\" else \"\" for ind, row in file_pheno_pedig.iterrows()]"
   ]
  },
  {
   "cell_type": "code",
   "execution_count": 42,
   "metadata": {
    "collapsed": false,
    "deletable": true,
    "editable": true
   },
   "outputs": [
    {
     "name": "stdout",
     "output_type": "stream",
     "text": [
      "head\n"
     ]
    },
    {
     "data": {
      "text/html": [
       "<div>\n",
       "<table border=\"1\" class=\"dataframe\">\n",
       "  <thead>\n",
       "    <tr style=\"text-align: right;\">\n",
       "      <th></th>\n",
       "      <th>ID</th>\n",
       "      <th>fa</th>\n",
       "      <th>mo</th>\n",
       "      <th>sex</th>\n",
       "      <th>mztwin</th>\n",
       "      <th>hhID</th>\n",
       "    </tr>\n",
       "  </thead>\n",
       "  <tbody>\n",
       "    <tr>\n",
       "      <th>0</th>\n",
       "      <td>HCP100206</td>\n",
       "      <td>fa_56037.0</td>\n",
       "      <td>mo_56037.0</td>\n",
       "      <td>1</td>\n",
       "      <td></td>\n",
       "      <td>hh_56037.0</td>\n",
       "    </tr>\n",
       "    <tr>\n",
       "      <th>1</th>\n",
       "      <td>HCP100307</td>\n",
       "      <td>fa_51488.0</td>\n",
       "      <td>mo_51488.0</td>\n",
       "      <td>2</td>\n",
       "      <td></td>\n",
       "      <td>hh_51488.0</td>\n",
       "    </tr>\n",
       "    <tr>\n",
       "      <th>2</th>\n",
       "      <td>HCP100408</td>\n",
       "      <td>fa_51730.0</td>\n",
       "      <td>mo_51730.0</td>\n",
       "      <td>1</td>\n",
       "      <td>pair_51730.0</td>\n",
       "      <td>hh_51730.0</td>\n",
       "    </tr>\n",
       "    <tr>\n",
       "      <th>3</th>\n",
       "      <td>HCP100610</td>\n",
       "      <td>fa_52813.0</td>\n",
       "      <td>mo_52813.0</td>\n",
       "      <td>1</td>\n",
       "      <td></td>\n",
       "      <td>hh_52813.0</td>\n",
       "    </tr>\n",
       "    <tr>\n",
       "      <th>4</th>\n",
       "      <td>HCP101006</td>\n",
       "      <td>fa_51283.0</td>\n",
       "      <td>mo_51283.0</td>\n",
       "      <td>2</td>\n",
       "      <td>pair_51283.0</td>\n",
       "      <td>hh_51283.0</td>\n",
       "    </tr>\n",
       "  </tbody>\n",
       "</table>\n",
       "</div>"
      ],
      "text/plain": [
       "          ID          fa          mo  sex        mztwin        hhID\n",
       "0  HCP100206  fa_56037.0  mo_56037.0    1                hh_56037.0\n",
       "1  HCP100307  fa_51488.0  mo_51488.0    2                hh_51488.0\n",
       "2  HCP100408  fa_51730.0  mo_51730.0    1  pair_51730.0  hh_51730.0\n",
       "3  HCP100610  fa_52813.0  mo_52813.0    1                hh_52813.0\n",
       "4  HCP101006  fa_51283.0  mo_51283.0    2  pair_51283.0  hh_51283.0"
      ]
     },
     "metadata": {},
     "output_type": "display_data"
    },
    {
     "name": "stdout",
     "output_type": "stream",
     "text": [
      "tail\n"
     ]
    },
    {
     "data": {
      "text/html": [
       "<div>\n",
       "<table border=\"1\" class=\"dataframe\">\n",
       "  <thead>\n",
       "    <tr style=\"text-align: right;\">\n",
       "      <th></th>\n",
       "      <th>ID</th>\n",
       "      <th>fa</th>\n",
       "      <th>mo</th>\n",
       "      <th>sex</th>\n",
       "      <th>mztwin</th>\n",
       "      <th>hhID</th>\n",
       "    </tr>\n",
       "  </thead>\n",
       "  <tbody>\n",
       "    <tr>\n",
       "      <th>797</th>\n",
       "      <td>HCP992673</td>\n",
       "      <td>fa_56143.0</td>\n",
       "      <td>mo_56143.0</td>\n",
       "      <td>2</td>\n",
       "      <td></td>\n",
       "      <td>hh_56143.0</td>\n",
       "    </tr>\n",
       "    <tr>\n",
       "      <th>798</th>\n",
       "      <td>HCP992774</td>\n",
       "      <td>fa_51345.0</td>\n",
       "      <td>mo_51345.0</td>\n",
       "      <td>1</td>\n",
       "      <td></td>\n",
       "      <td>hh_51345.0</td>\n",
       "    </tr>\n",
       "    <tr>\n",
       "      <th>799</th>\n",
       "      <td>HCP993675</td>\n",
       "      <td>fa_55800.0</td>\n",
       "      <td>mo_55800.0</td>\n",
       "      <td>2</td>\n",
       "      <td></td>\n",
       "      <td>hh_55800.0</td>\n",
       "    </tr>\n",
       "    <tr>\n",
       "      <th>800</th>\n",
       "      <td>HCP994273</td>\n",
       "      <td>fa_52364.0</td>\n",
       "      <td>mo_52364.0</td>\n",
       "      <td>1</td>\n",
       "      <td></td>\n",
       "      <td>hh_52364.0</td>\n",
       "    </tr>\n",
       "    <tr>\n",
       "      <th>801</th>\n",
       "      <td>HCP996782</td>\n",
       "      <td>fa_51541.0</td>\n",
       "      <td>mo_51541.0</td>\n",
       "      <td>2</td>\n",
       "      <td></td>\n",
       "      <td>hh_51541.0</td>\n",
       "    </tr>\n",
       "  </tbody>\n",
       "</table>\n",
       "</div>"
      ],
      "text/plain": [
       "            ID          fa          mo  sex mztwin        hhID\n",
       "797  HCP992673  fa_56143.0  mo_56143.0    2         hh_56143.0\n",
       "798  HCP992774  fa_51345.0  mo_51345.0    1         hh_51345.0\n",
       "799  HCP993675  fa_55800.0  mo_55800.0    2         hh_55800.0\n",
       "800  HCP994273  fa_52364.0  mo_52364.0    1         hh_52364.0\n",
       "801  HCP996782  fa_51541.0  mo_51541.0    2         hh_51541.0"
      ]
     },
     "metadata": {},
     "output_type": "display_data"
    },
    {
     "data": {
      "text/plain": [
       "ID        802\n",
       "fa        802\n",
       "mo        802\n",
       "sex       802\n",
       "mztwin    802\n",
       "hhID      802\n",
       "dtype: int64"
      ]
     },
     "execution_count": 42,
     "metadata": {},
     "output_type": "execute_result"
    }
   ],
   "source": [
    "# write into new data frame\n",
    "df_pedig = pd.DataFrame()\n",
    "df_pedig[\"ID\"] = file_pheno_pedig.Subject\n",
    "df_pedig[\"fa\"] = father_id\n",
    "df_pedig[\"mo\"] = mother_id\n",
    "df_pedig[\"sex\"] = file_pheno_pedig.Gender.astype(int)\n",
    "df_pedig[\"mztwin\"] = twin_id\n",
    "df_pedig[\"hhID\"] = household_id\n",
    "\n",
    "\n",
    "print(\"head\")\n",
    "display(df_pedig.head())\n",
    "print(\"tail\")\n",
    "display(df_pedig.tail())\n",
    "df_pedig.count()"
   ]
  },
  {
   "cell_type": "code",
   "execution_count": 43,
   "metadata": {
    "collapsed": false,
    "deletable": true,
    "editable": true,
    "scrolled": false
   },
   "outputs": [],
   "source": [
    "# Look for MZ twins missing their co-twin\n",
    "uniques = list(df_pedig.mztwin.unique())\n",
    "uniques.pop(0)\n",
    "twin_counts = [np.sum(df_pedig.mztwin==twin) for twin in uniques]\n",
    "#for idx, twin in enumerate(uniques):\n",
    "    #print(\"{} occurs {} times\".format(twin, twin_counts[idx]))"
   ]
  },
  {
   "cell_type": "code",
   "execution_count": 44,
   "metadata": {
    "collapsed": true,
    "deletable": true,
    "editable": true
   },
   "outputs": [],
   "source": [
    "# create a mask that will kepp only MZ twins missing their co-twin\n",
    "singles = [True if np.sum(df_pedig.mztwin==row.mztwin)==1 else False for ind, row in df_pedig.iterrows()]"
   ]
  },
  {
   "cell_type": "code",
   "execution_count": 45,
   "metadata": {
    "collapsed": true,
    "deletable": true,
    "editable": true
   },
   "outputs": [],
   "source": [
    "# Make a copy of the pedigre to avoid missing up with the original data\n",
    "copy_df_pedig = df_pedig.copy()"
   ]
  },
  {
   "cell_type": "code",
   "execution_count": 46,
   "metadata": {
    "collapsed": false,
    "deletable": true,
    "editable": true,
    "scrolled": true
   },
   "outputs": [
    {
     "data": {
      "text/html": [
       "<div>\n",
       "<table border=\"1\" class=\"dataframe\">\n",
       "  <thead>\n",
       "    <tr style=\"text-align: right;\">\n",
       "      <th></th>\n",
       "      <th>ID</th>\n",
       "      <th>fa</th>\n",
       "      <th>mo</th>\n",
       "      <th>sex</th>\n",
       "      <th>mztwin</th>\n",
       "      <th>hhID</th>\n",
       "    </tr>\n",
       "  </thead>\n",
       "  <tbody>\n",
       "    <tr>\n",
       "      <th>37</th>\n",
       "      <td>M_HCP110007</td>\n",
       "      <td>fa_54572.0</td>\n",
       "      <td>mo_54572.0</td>\n",
       "      <td>2</td>\n",
       "      <td>pair_54572.0</td>\n",
       "      <td>hh_54572.0</td>\n",
       "    </tr>\n",
       "    <tr>\n",
       "      <th>55</th>\n",
       "      <td>M_HCP114823</td>\n",
       "      <td>fa_52925.0</td>\n",
       "      <td>mo_52925.0</td>\n",
       "      <td>2</td>\n",
       "      <td>pair_52925.0</td>\n",
       "      <td>hh_52925.0</td>\n",
       "    </tr>\n",
       "    <tr>\n",
       "      <th>82</th>\n",
       "      <td>M_HCP122317</td>\n",
       "      <td>fa_51802.0</td>\n",
       "      <td>mo_51802.0</td>\n",
       "      <td>1</td>\n",
       "      <td>pair_51802.0</td>\n",
       "      <td>hh_51802.0</td>\n",
       "    </tr>\n",
       "    <tr>\n",
       "      <th>88</th>\n",
       "      <td>M_HCP123824</td>\n",
       "      <td>fa_56022.0</td>\n",
       "      <td>mo_56022.0</td>\n",
       "      <td>1</td>\n",
       "      <td>pair_56022.0</td>\n",
       "      <td>hh_56022.0</td>\n",
       "    </tr>\n",
       "    <tr>\n",
       "      <th>91</th>\n",
       "      <td>M_HCP124422</td>\n",
       "      <td>fa_51529.0</td>\n",
       "      <td>mo_51529.0</td>\n",
       "      <td>2</td>\n",
       "      <td>pair_51529.0</td>\n",
       "      <td>hh_51529.0</td>\n",
       "    </tr>\n",
       "  </tbody>\n",
       "</table>\n",
       "</div>"
      ],
      "text/plain": [
       "             ID          fa          mo  sex        mztwin        hhID\n",
       "37  M_HCP110007  fa_54572.0  mo_54572.0    2  pair_54572.0  hh_54572.0\n",
       "55  M_HCP114823  fa_52925.0  mo_52925.0    2  pair_52925.0  hh_52925.0\n",
       "82  M_HCP122317  fa_51802.0  mo_51802.0    1  pair_51802.0  hh_51802.0\n",
       "88  M_HCP123824  fa_56022.0  mo_56022.0    1  pair_56022.0  hh_56022.0\n",
       "91  M_HCP124422  fa_51529.0  mo_51529.0    2  pair_51529.0  hh_51529.0"
      ]
     },
     "metadata": {},
     "output_type": "display_data"
    },
    {
     "data": {
      "text/plain": [
       "ID        41\n",
       "fa        41\n",
       "mo        41\n",
       "sex       41\n",
       "mztwin    41\n",
       "hhID      41\n",
       "dtype: int64"
      ]
     },
     "execution_count": 46,
     "metadata": {},
     "output_type": "execute_result"
    }
   ],
   "source": [
    "# Select only MZ twins missing their co-twin\n",
    "df_single_pedig = copy_df_pedig[singles]\n",
    "\n",
    "# Add \"M_\" (for missing) to a the single MZ twins\n",
    "for i, row in df_single_pedig.iterrows():\n",
    "    df_single_pedig.set_value(i,\"ID\",\"M_{}\".format(row.ID))\n",
    "display(df_single_pedig.head())\n",
    "df_single_pedig.count()"
   ]
  },
  {
   "cell_type": "code",
   "execution_count": 47,
   "metadata": {
    "collapsed": false,
    "deletable": true,
    "editable": true,
    "scrolled": true
   },
   "outputs": [
    {
     "data": {
      "text/html": [
       "<div>\n",
       "<table border=\"1\" class=\"dataframe\">\n",
       "  <thead>\n",
       "    <tr style=\"text-align: right;\">\n",
       "      <th></th>\n",
       "      <th>ID</th>\n",
       "      <th>fa</th>\n",
       "      <th>mo</th>\n",
       "      <th>sex</th>\n",
       "      <th>mztwin</th>\n",
       "      <th>hhID</th>\n",
       "    </tr>\n",
       "  </thead>\n",
       "  <tbody>\n",
       "    <tr>\n",
       "      <th>0</th>\n",
       "      <td>HCP100206</td>\n",
       "      <td>fa_56037.0</td>\n",
       "      <td>mo_56037.0</td>\n",
       "      <td>1</td>\n",
       "      <td></td>\n",
       "      <td>hh_56037.0</td>\n",
       "    </tr>\n",
       "    <tr>\n",
       "      <th>1</th>\n",
       "      <td>HCP100307</td>\n",
       "      <td>fa_51488.0</td>\n",
       "      <td>mo_51488.0</td>\n",
       "      <td>2</td>\n",
       "      <td></td>\n",
       "      <td>hh_51488.0</td>\n",
       "    </tr>\n",
       "    <tr>\n",
       "      <th>2</th>\n",
       "      <td>HCP100408</td>\n",
       "      <td>fa_51730.0</td>\n",
       "      <td>mo_51730.0</td>\n",
       "      <td>1</td>\n",
       "      <td>pair_51730.0</td>\n",
       "      <td>hh_51730.0</td>\n",
       "    </tr>\n",
       "    <tr>\n",
       "      <th>3</th>\n",
       "      <td>HCP100610</td>\n",
       "      <td>fa_52813.0</td>\n",
       "      <td>mo_52813.0</td>\n",
       "      <td>1</td>\n",
       "      <td></td>\n",
       "      <td>hh_52813.0</td>\n",
       "    </tr>\n",
       "    <tr>\n",
       "      <th>4</th>\n",
       "      <td>HCP101006</td>\n",
       "      <td>fa_51283.0</td>\n",
       "      <td>mo_51283.0</td>\n",
       "      <td>2</td>\n",
       "      <td>pair_51283.0</td>\n",
       "      <td>hh_51283.0</td>\n",
       "    </tr>\n",
       "  </tbody>\n",
       "</table>\n",
       "</div>"
      ],
      "text/plain": [
       "          ID          fa          mo  sex        mztwin        hhID\n",
       "0  HCP100206  fa_56037.0  mo_56037.0    1                hh_56037.0\n",
       "1  HCP100307  fa_51488.0  mo_51488.0    2                hh_51488.0\n",
       "2  HCP100408  fa_51730.0  mo_51730.0    1  pair_51730.0  hh_51730.0\n",
       "3  HCP100610  fa_52813.0  mo_52813.0    1                hh_52813.0\n",
       "4  HCP101006  fa_51283.0  mo_51283.0    2  pair_51283.0  hh_51283.0"
      ]
     },
     "execution_count": 47,
     "metadata": {},
     "output_type": "execute_result"
    }
   ],
   "source": [
    "# Append pedgree with fake co-twin for the missing one\n",
    "df_pedig_final = copy_df_pedig.append(df_single_pedig)\n",
    "df_pedig_final.head()"
   ]
  },
  {
   "cell_type": "code",
   "execution_count": 48,
   "metadata": {
    "collapsed": false,
    "deletable": true,
    "editable": true,
    "scrolled": true
   },
   "outputs": [
    {
     "data": {
      "text/html": [
       "<div>\n",
       "<table border=\"1\" class=\"dataframe\">\n",
       "  <thead>\n",
       "    <tr style=\"text-align: right;\">\n",
       "      <th></th>\n",
       "      <th>ID</th>\n",
       "      <th>fa</th>\n",
       "      <th>mo</th>\n",
       "      <th>sex</th>\n",
       "      <th>mztwin</th>\n",
       "      <th>hhID</th>\n",
       "    </tr>\n",
       "  </thead>\n",
       "  <tbody>\n",
       "    <tr>\n",
       "      <th>694</th>\n",
       "      <td>M_HCP769064</td>\n",
       "      <td>fa_52803.0</td>\n",
       "      <td>mo_52803.0</td>\n",
       "      <td>1</td>\n",
       "      <td>pair_52803.0</td>\n",
       "      <td>hh_52803.0</td>\n",
       "    </tr>\n",
       "    <tr>\n",
       "      <th>721</th>\n",
       "      <td>M_HCP835657</td>\n",
       "      <td>fa_52137.0</td>\n",
       "      <td>mo_52137.0</td>\n",
       "      <td>2</td>\n",
       "      <td>pair_52137.0</td>\n",
       "      <td>hh_52137.0</td>\n",
       "    </tr>\n",
       "    <tr>\n",
       "      <th>723</th>\n",
       "      <td>M_HCP837964</td>\n",
       "      <td>fa_52875.0</td>\n",
       "      <td>mo_52875.0</td>\n",
       "      <td>2</td>\n",
       "      <td>pair_52875.0</td>\n",
       "      <td>hh_52875.0</td>\n",
       "    </tr>\n",
       "    <tr>\n",
       "      <th>765</th>\n",
       "      <td>M_HCP904044</td>\n",
       "      <td>fa_51290.0</td>\n",
       "      <td>mo_51290.0</td>\n",
       "      <td>2</td>\n",
       "      <td>pair_51290.0</td>\n",
       "      <td>hh_51290.0</td>\n",
       "    </tr>\n",
       "    <tr>\n",
       "      <th>789</th>\n",
       "      <td>M_HCP972566</td>\n",
       "      <td>fa_56077.0</td>\n",
       "      <td>mo_56077.0</td>\n",
       "      <td>2</td>\n",
       "      <td>pair_56077.0</td>\n",
       "      <td>hh_56077.0</td>\n",
       "    </tr>\n",
       "  </tbody>\n",
       "</table>\n",
       "</div>"
      ],
      "text/plain": [
       "              ID          fa          mo  sex        mztwin        hhID\n",
       "694  M_HCP769064  fa_52803.0  mo_52803.0    1  pair_52803.0  hh_52803.0\n",
       "721  M_HCP835657  fa_52137.0  mo_52137.0    2  pair_52137.0  hh_52137.0\n",
       "723  M_HCP837964  fa_52875.0  mo_52875.0    2  pair_52875.0  hh_52875.0\n",
       "765  M_HCP904044  fa_51290.0  mo_51290.0    2  pair_51290.0  hh_51290.0\n",
       "789  M_HCP972566  fa_56077.0  mo_56077.0    2  pair_56077.0  hh_56077.0"
      ]
     },
     "execution_count": 48,
     "metadata": {},
     "output_type": "execute_result"
    }
   ],
   "source": [
    "df_pedig_final.tail()"
   ]
  },
  {
   "cell_type": "code",
   "execution_count": 49,
   "metadata": {
    "collapsed": false,
    "deletable": true,
    "editable": true
   },
   "outputs": [
    {
     "data": {
      "text/plain": [
       "ID        843\n",
       "fa        843\n",
       "mo        843\n",
       "sex       843\n",
       "mztwin    843\n",
       "hhID      843\n",
       "dtype: int64"
      ]
     },
     "execution_count": 49,
     "metadata": {},
     "output_type": "execute_result"
    }
   ],
   "source": [
    "df_pedig_final.count()"
   ]
  },
  {
   "cell_type": "code",
   "execution_count": 50,
   "metadata": {
    "collapsed": true,
    "deletable": true,
    "editable": true
   },
   "outputs": [],
   "source": [
    "# Save the pedigree file\n",
    "df_pedig_final.to_csv(os.path.join(out_path,pedig_save), index=False)"
   ]
  },
  {
   "cell_type": "markdown",
   "metadata": {
    "collapsed": false,
    "deletable": true,
    "editable": true
   },
   "source": [
    "## Run SOLAR heritability estimate "
   ]
  },
  {
   "cell_type": "code",
   "execution_count": 51,
   "metadata": {
    "collapsed": false,
    "deletable": true,
    "editable": true
   },
   "outputs": [],
   "source": [
    "%%bash -s \"$out_path\" \"$solar_cov\" \"$solar_script\" \n",
    "cd $1 #cd to out_path\n",
    "#sufix=$(echo $2 | sed -e 's/ /_/g') # add a suffix of covariate\n",
    "sed -i \"104s/.*/$2/\" $3 # feed the covariate to solar script\n",
    "sed -i \"52s~.*~$1phi2.gz~\" $3 # put the right path for the simlink\n",
    "sed -i \"53s~.*~$1pedindex.out~\" $3\n",
    "sed -i \"54s~.*~$1pedindex.cde~\" $3\n",
    "sed -i \"55s~.*~$1se_univ_polygen.tcl~\" $3"
   ]
  },
  {
   "cell_type": "code",
   "execution_count": 52,
   "metadata": {
    "collapsed": false,
    "deletable": true,
    "editable": true
   },
   "outputs": [
    {
     "name": "stdout",
     "output_type": "stream",
     "text": [
      "\n",
      "SOLAR Eclipse version 8.1.1 (General), last updated on December 10, 2016\n",
      "Copyright (c) 1995-2016 Texas Biomedical Research Institute\n",
      "Enter help for help, exit to exit, doc to browse documentation.\n",
      "\n",
      "Unloading current pedigree data ...\n",
      "Loading pedigree data from the file solar_relational_spm_pedigre.csv ...\n",
      "Running mibd relate ...                                                 \r",
      "Reading classes.tab ...                                                 \r",
      "Reading mibdrel.ped ...                                                 \r",
      "Writing output file ...                                                 \r",
      "                                                                        \r",
      "::::::::::::::\n",
      "mibdrel.tab\n",
      "::::::::::::::\n",
      "\n",
      "    NPairs  Relationship\n",
      "  ========  ===========================================\n",
      "      1573  Self\n",
      "       117  Identical sib pair\n",
      "      1686  Parent-offspring\n",
      "       591  Siblings\n",
      "       365  Unrelated\n",
      "\n"
     ]
    }
   ],
   "source": [
    "%%bash -s \"$out_path\" \"$pedig_save\"\n",
    "cd $1\n",
    "solar <<INTERNAL_SOLAR_SCRIPT  \n",
    "load pedi $2\n",
    "pedigree classes -full\n",
    "INTERNAL_SOLAR_SCRIPT"
   ]
  },
  {
   "cell_type": "code",
   "execution_count": 53,
   "metadata": {
    "collapsed": false,
    "deletable": true,
    "editable": true
   },
   "outputs": [
    {
     "name": "stdout",
     "output_type": "stream",
     "text": [
      "\n",
      "SOLAR Eclipse version 8.1.1 (General), last updated on December 10, 2016\n",
      "Copyright (c) 1995-2016 Texas Biomedical Research Institute\n",
      "Enter help for help, exit to exit, doc to browse documentation.\n",
      "\n",
      "Creating output directories...\n",
      "00000 : Set-0 : contrast_relation_vs_match_sub1                                                  \r",
      "00001 : Set-1 : contrast_relation_vs_match_sub2                                                  \r",
      "00002 : Set-2 : contrast_relation_vs_match_sub3                                                  \r",
      "00003 : Set-3 : contrast_relation_vs_match_sub4                                                  \r",
      "00004 : Set-4 : contrast_relation_vs_match_sub5                                                  \r",
      "00005 : Set-5 : relation_sub1                                                  \r",
      "00006 : Set-6 : relation_sub2                                                  \r",
      "00007 : Set-7 : relation_sub3                                                  \r",
      "00008 : Set-8 : relation_sub4                                                  \r",
      "00009 : Set-9 : relation_sub5                                                  \r",
      "00010 : Set-10 : match_sub1                                                  \r",
      "00011 : Set-11 : match_sub2                                                  \r",
      "00012 : Set-12 : match_sub3                                                  \r",
      "00013 : Set-13 : match_sub4                                                  \r",
      "00014 : Set-14 : match_sub5                                                  \r",
      "00015 : Set-15 : Handedness                                                  \r",
      "00016 : Set-16 : BMI                                                  \r",
      "00017 : Set-17 : FD_mean                                                  \r",
      "00018 : Set-18 : FD_scrubbed_mean                                                  \r\n",
      "All done.\n"
     ]
    }
   ],
   "source": [
    "%%bash -s \"$out_path\" \"$pheno_save\" \"$solar_out\"\n",
    "cd $1\n",
    "#if [ ! -d $3 ]; then\n",
    "#   mkdir $3\n",
    "#fi\n",
    "solar <<INTERNAL_SOLAR_SCRIPT \n",
    "load pheno $2\n",
    "INTERNAL_SOLAR_SCRIPT\n",
    "bash fcd_solar_h2r_test.sh trait_file $3 $1$2\n",
    "for i in $3/Set-*; do bash $i/run_all.sh ; done"
   ]
  },
  {
   "cell_type": "markdown",
   "metadata": {
    "deletable": true,
    "editable": true
   },
   "source": [
    "## Results"
   ]
  },
  {
   "cell_type": "code",
   "execution_count": 54,
   "metadata": {
    "collapsed": false,
    "deletable": true,
    "editable": true
   },
   "outputs": [
    {
     "data": {
      "text/html": [
       "<div>\n",
       "<table border=\"1\" class=\"dataframe\">\n",
       "  <thead>\n",
       "    <tr style=\"text-align: right;\">\n",
       "      <th></th>\n",
       "      <th>Trait</th>\n",
       "      <th>H2r</th>\n",
       "      <th>P</th>\n",
       "      <th>CovVarianceExpl</th>\n",
       "    </tr>\n",
       "  </thead>\n",
       "  <tbody>\n",
       "    <tr>\n",
       "      <th>0</th>\n",
       "      <td>BMI_norm</td>\n",
       "      <td>0.600970</td>\n",
       "      <td>8.200038e-14</td>\n",
       "      <td>0.296178</td>\n",
       "    </tr>\n",
       "    <tr>\n",
       "      <th>1</th>\n",
       "      <td>FD_mean_norm</td>\n",
       "      <td>0.252487</td>\n",
       "      <td>1.020810e-02</td>\n",
       "      <td>0.850713</td>\n",
       "    </tr>\n",
       "    <tr>\n",
       "      <th>2</th>\n",
       "      <td>contrast_relation_vs_match_sub1_norm</td>\n",
       "      <td>0.108081</td>\n",
       "      <td>7.936100e-02</td>\n",
       "      <td>0.000369</td>\n",
       "    </tr>\n",
       "    <tr>\n",
       "      <th>3</th>\n",
       "      <td>contrast_relation_vs_match_sub2_norm</td>\n",
       "      <td>0.060637</td>\n",
       "      <td>1.886733e-01</td>\n",
       "      <td>0.000894</td>\n",
       "    </tr>\n",
       "    <tr>\n",
       "      <th>4</th>\n",
       "      <td>contrast_relation_vs_match_sub3_norm</td>\n",
       "      <td>0.042576</td>\n",
       "      <td>2.827860e-01</td>\n",
       "      <td>0.000308</td>\n",
       "    </tr>\n",
       "    <tr>\n",
       "      <th>5</th>\n",
       "      <td>contrast_relation_vs_match_sub4_norm</td>\n",
       "      <td>0.195697</td>\n",
       "      <td>4.111200e-03</td>\n",
       "      <td>0.000380</td>\n",
       "    </tr>\n",
       "    <tr>\n",
       "      <th>6</th>\n",
       "      <td>contrast_relation_vs_match_sub5_norm</td>\n",
       "      <td>0.114687</td>\n",
       "      <td>4.550950e-02</td>\n",
       "      <td>0.000730</td>\n",
       "    </tr>\n",
       "    <tr>\n",
       "      <th>7</th>\n",
       "      <td>match_sub1_norm</td>\n",
       "      <td>0.503857</td>\n",
       "      <td>5.864471e-16</td>\n",
       "      <td>0.000921</td>\n",
       "    </tr>\n",
       "    <tr>\n",
       "      <th>8</th>\n",
       "      <td>match_sub2_norm</td>\n",
       "      <td>0.534697</td>\n",
       "      <td>1.291376e-17</td>\n",
       "      <td>0.010806</td>\n",
       "    </tr>\n",
       "    <tr>\n",
       "      <th>9</th>\n",
       "      <td>match_sub3_norm</td>\n",
       "      <td>0.441040</td>\n",
       "      <td>1.037988e-11</td>\n",
       "      <td>0.001057</td>\n",
       "    </tr>\n",
       "    <tr>\n",
       "      <th>10</th>\n",
       "      <td>match_sub4_norm</td>\n",
       "      <td>0.506186</td>\n",
       "      <td>1.253704e-15</td>\n",
       "      <td>0.002993</td>\n",
       "    </tr>\n",
       "    <tr>\n",
       "      <th>11</th>\n",
       "      <td>match_sub5_norm</td>\n",
       "      <td>0.493260</td>\n",
       "      <td>3.217633e-15</td>\n",
       "      <td>0.000405</td>\n",
       "    </tr>\n",
       "    <tr>\n",
       "      <th>12</th>\n",
       "      <td>relation_sub1_norm</td>\n",
       "      <td>0.359206</td>\n",
       "      <td>6.000000e-07</td>\n",
       "      <td>0.035262</td>\n",
       "    </tr>\n",
       "    <tr>\n",
       "      <th>13</th>\n",
       "      <td>relation_sub2_norm</td>\n",
       "      <td>0.557965</td>\n",
       "      <td>5.023654e-19</td>\n",
       "      <td>0.001070</td>\n",
       "    </tr>\n",
       "    <tr>\n",
       "      <th>14</th>\n",
       "      <td>relation_sub3_norm</td>\n",
       "      <td>0.551846</td>\n",
       "      <td>1.311568e-18</td>\n",
       "      <td>0.000352</td>\n",
       "    </tr>\n",
       "    <tr>\n",
       "      <th>15</th>\n",
       "      <td>relation_sub4_norm</td>\n",
       "      <td>0.528356</td>\n",
       "      <td>6.706441e-17</td>\n",
       "      <td>-0.000116</td>\n",
       "    </tr>\n",
       "    <tr>\n",
       "      <th>16</th>\n",
       "      <td>relation_sub5_norm</td>\n",
       "      <td>0.543096</td>\n",
       "      <td>6.547647e-18</td>\n",
       "      <td>0.000014</td>\n",
       "    </tr>\n",
       "  </tbody>\n",
       "</table>\n",
       "</div>"
      ],
      "text/plain": [
       "                                   Trait       H2r             P  \\\n",
       "0                   BMI_norm              0.600970  8.200038e-14   \n",
       "1                   FD_mean_norm          0.252487  1.020810e-02   \n",
       "2   contrast_relation_vs_match_sub1_norm  0.108081  7.936100e-02   \n",
       "3   contrast_relation_vs_match_sub2_norm  0.060637  1.886733e-01   \n",
       "4   contrast_relation_vs_match_sub3_norm  0.042576  2.827860e-01   \n",
       "5   contrast_relation_vs_match_sub4_norm  0.195697  4.111200e-03   \n",
       "6   contrast_relation_vs_match_sub5_norm  0.114687  4.550950e-02   \n",
       "7                   match_sub1_norm       0.503857  5.864471e-16   \n",
       "8                   match_sub2_norm       0.534697  1.291376e-17   \n",
       "9                   match_sub3_norm       0.441040  1.037988e-11   \n",
       "10                  match_sub4_norm       0.506186  1.253704e-15   \n",
       "11                  match_sub5_norm       0.493260  3.217633e-15   \n",
       "12                  relation_sub1_norm    0.359206  6.000000e-07   \n",
       "13                  relation_sub2_norm    0.557965  5.023654e-19   \n",
       "14                  relation_sub3_norm    0.551846  1.311568e-18   \n",
       "15                  relation_sub4_norm    0.528356  6.706441e-17   \n",
       "16                  relation_sub5_norm    0.543096  6.547647e-18   \n",
       "\n",
       "    CovVarianceExpl  \n",
       "0          0.296178  \n",
       "1          0.850713  \n",
       "2          0.000369  \n",
       "3          0.000894  \n",
       "4          0.000308  \n",
       "5          0.000380  \n",
       "6          0.000730  \n",
       "7          0.000921  \n",
       "8          0.010806  \n",
       "9          0.001057  \n",
       "10         0.002993  \n",
       "11         0.000405  \n",
       "12         0.035262  \n",
       "13         0.001070  \n",
       "14         0.000352  \n",
       "15        -0.000116  \n",
       "16         0.000014  "
      ]
     },
     "execution_count": 54,
     "metadata": {},
     "output_type": "execute_result"
    }
   ],
   "source": [
    "out_herit = pd.read_csv(os.path.join(out_path,solar_out,\"se_out.out\"),sep=\"\\t\",header=None)\n",
    "out_herit_df =  pd.DataFrame()\n",
    "\n",
    "data = pd.DataFrame({\"Trait\": out_herit[2],\"H2r\": out_herit[4],\"P\": out_herit[7],\"CovVarianceExpl\": out_herit[9]})\n",
    "out_herit_df = data[[\"Trait\",\"H2r\",\"P\",\"CovVarianceExpl\"]].sort_values(['Trait'], ascending=[True]).reset_index(drop=True)\n",
    "out_herit_df"
   ]
  },
  {
   "cell_type": "code",
   "execution_count": 55,
   "metadata": {
    "collapsed": true,
    "deletable": true,
    "editable": true
   },
   "outputs": [],
   "source": [
    "# remove unwanted Variables\n",
    "out_herit_df_clean = out_herit_df[~out_herit_df['Trait'].str.strip().isin(['BMI_norm','FD_mean_norm','FD_scrubbed_mean_norm'])]"
   ]
  },
  {
   "cell_type": "code",
   "execution_count": 56,
   "metadata": {
    "collapsed": false,
    "deletable": true,
    "editable": true
   },
   "outputs": [],
   "source": [
    "# FDR\n",
    "from statsmodels.sandbox.stats import multicomp as smi\n",
    "pcorr_vec = smi.multipletests(out_herit_df_clean['P'], alpha=0.05, method='fdr_bh')\n",
    "out_herit_df_clean.insert(3,'FDR',pcorr_vec[1])\n",
    "out_herit_df_clean.insert(4,'FDR_log10',-np.log10(pcorr_vec[1]))"
   ]
  },
  {
   "cell_type": "code",
   "execution_count": 57,
   "metadata": {
    "collapsed": false,
    "deletable": true,
    "editable": true
   },
   "outputs": [
    {
     "data": {
      "text/html": [
       "<div>\n",
       "<table border=\"1\" class=\"dataframe\">\n",
       "  <thead>\n",
       "    <tr style=\"text-align: right;\">\n",
       "      <th></th>\n",
       "      <th>Trait</th>\n",
       "      <th>H2r</th>\n",
       "      <th>P</th>\n",
       "      <th>FDR</th>\n",
       "      <th>FDR_log10</th>\n",
       "      <th>CovVarianceExpl</th>\n",
       "    </tr>\n",
       "  </thead>\n",
       "  <tbody>\n",
       "    <tr>\n",
       "      <th>2</th>\n",
       "      <td>contrast_relation_vs_match_sub1_norm</td>\n",
       "      <td>0.108081</td>\n",
       "      <td>7.936100e-02</td>\n",
       "      <td>9.157038e-02</td>\n",
       "      <td>1.038245</td>\n",
       "      <td>0.000369</td>\n",
       "    </tr>\n",
       "    <tr>\n",
       "      <th>3</th>\n",
       "      <td>contrast_relation_vs_match_sub2_norm</td>\n",
       "      <td>0.060637</td>\n",
       "      <td>1.886733e-01</td>\n",
       "      <td>2.021500e-01</td>\n",
       "      <td>0.694326</td>\n",
       "      <td>0.000894</td>\n",
       "    </tr>\n",
       "    <tr>\n",
       "      <th>4</th>\n",
       "      <td>contrast_relation_vs_match_sub3_norm</td>\n",
       "      <td>0.042576</td>\n",
       "      <td>2.827860e-01</td>\n",
       "      <td>2.827860e-01</td>\n",
       "      <td>0.548542</td>\n",
       "      <td>0.000308</td>\n",
       "    </tr>\n",
       "    <tr>\n",
       "      <th>5</th>\n",
       "      <td>contrast_relation_vs_match_sub4_norm</td>\n",
       "      <td>0.195697</td>\n",
       "      <td>4.111200e-03</td>\n",
       "      <td>5.606182e-03</td>\n",
       "      <td>2.251333</td>\n",
       "      <td>0.000380</td>\n",
       "    </tr>\n",
       "    <tr>\n",
       "      <th>6</th>\n",
       "      <td>contrast_relation_vs_match_sub5_norm</td>\n",
       "      <td>0.114687</td>\n",
       "      <td>4.550950e-02</td>\n",
       "      <td>5.688687e-02</td>\n",
       "      <td>1.244988</td>\n",
       "      <td>0.000730</td>\n",
       "    </tr>\n",
       "    <tr>\n",
       "      <th>7</th>\n",
       "      <td>match_sub1_norm</td>\n",
       "      <td>0.503857</td>\n",
       "      <td>5.864471e-16</td>\n",
       "      <td>1.466118e-15</td>\n",
       "      <td>14.833831</td>\n",
       "      <td>0.000921</td>\n",
       "    </tr>\n",
       "    <tr>\n",
       "      <th>8</th>\n",
       "      <td>match_sub2_norm</td>\n",
       "      <td>0.534697</td>\n",
       "      <td>1.291376e-17</td>\n",
       "      <td>4.842661e-17</td>\n",
       "      <td>16.314916</td>\n",
       "      <td>0.010806</td>\n",
       "    </tr>\n",
       "    <tr>\n",
       "      <th>9</th>\n",
       "      <td>match_sub3_norm</td>\n",
       "      <td>0.441040</td>\n",
       "      <td>1.037988e-11</td>\n",
       "      <td>1.729980e-11</td>\n",
       "      <td>10.761959</td>\n",
       "      <td>0.001057</td>\n",
       "    </tr>\n",
       "    <tr>\n",
       "      <th>10</th>\n",
       "      <td>match_sub4_norm</td>\n",
       "      <td>0.506186</td>\n",
       "      <td>1.253704e-15</td>\n",
       "      <td>2.686508e-15</td>\n",
       "      <td>14.570812</td>\n",
       "      <td>0.002993</td>\n",
       "    </tr>\n",
       "    <tr>\n",
       "      <th>11</th>\n",
       "      <td>match_sub5_norm</td>\n",
       "      <td>0.493260</td>\n",
       "      <td>3.217633e-15</td>\n",
       "      <td>6.033061e-15</td>\n",
       "      <td>14.219462</td>\n",
       "      <td>0.000405</td>\n",
       "    </tr>\n",
       "    <tr>\n",
       "      <th>12</th>\n",
       "      <td>relation_sub1_norm</td>\n",
       "      <td>0.359206</td>\n",
       "      <td>6.000000e-07</td>\n",
       "      <td>9.000000e-07</td>\n",
       "      <td>6.045757</td>\n",
       "      <td>0.035262</td>\n",
       "    </tr>\n",
       "    <tr>\n",
       "      <th>13</th>\n",
       "      <td>relation_sub2_norm</td>\n",
       "      <td>0.557965</td>\n",
       "      <td>5.023654e-19</td>\n",
       "      <td>7.535482e-18</td>\n",
       "      <td>17.122889</td>\n",
       "      <td>0.001070</td>\n",
       "    </tr>\n",
       "    <tr>\n",
       "      <th>14</th>\n",
       "      <td>relation_sub3_norm</td>\n",
       "      <td>0.551846</td>\n",
       "      <td>1.311568e-18</td>\n",
       "      <td>9.836758e-18</td>\n",
       "      <td>17.007148</td>\n",
       "      <td>0.000352</td>\n",
       "    </tr>\n",
       "    <tr>\n",
       "      <th>15</th>\n",
       "      <td>relation_sub4_norm</td>\n",
       "      <td>0.528356</td>\n",
       "      <td>6.706441e-17</td>\n",
       "      <td>2.011932e-16</td>\n",
       "      <td>15.696387</td>\n",
       "      <td>-0.000116</td>\n",
       "    </tr>\n",
       "    <tr>\n",
       "      <th>16</th>\n",
       "      <td>relation_sub5_norm</td>\n",
       "      <td>0.543096</td>\n",
       "      <td>6.547647e-18</td>\n",
       "      <td>3.273823e-17</td>\n",
       "      <td>16.484945</td>\n",
       "      <td>0.000014</td>\n",
       "    </tr>\n",
       "  </tbody>\n",
       "</table>\n",
       "</div>"
      ],
      "text/plain": [
       "                                   Trait       H2r             P  \\\n",
       "2   contrast_relation_vs_match_sub1_norm  0.108081  7.936100e-02   \n",
       "3   contrast_relation_vs_match_sub2_norm  0.060637  1.886733e-01   \n",
       "4   contrast_relation_vs_match_sub3_norm  0.042576  2.827860e-01   \n",
       "5   contrast_relation_vs_match_sub4_norm  0.195697  4.111200e-03   \n",
       "6   contrast_relation_vs_match_sub5_norm  0.114687  4.550950e-02   \n",
       "7                   match_sub1_norm       0.503857  5.864471e-16   \n",
       "8                   match_sub2_norm       0.534697  1.291376e-17   \n",
       "9                   match_sub3_norm       0.441040  1.037988e-11   \n",
       "10                  match_sub4_norm       0.506186  1.253704e-15   \n",
       "11                  match_sub5_norm       0.493260  3.217633e-15   \n",
       "12                  relation_sub1_norm    0.359206  6.000000e-07   \n",
       "13                  relation_sub2_norm    0.557965  5.023654e-19   \n",
       "14                  relation_sub3_norm    0.551846  1.311568e-18   \n",
       "15                  relation_sub4_norm    0.528356  6.706441e-17   \n",
       "16                  relation_sub5_norm    0.543096  6.547647e-18   \n",
       "\n",
       "             FDR  FDR_log10  CovVarianceExpl  \n",
       "2   9.157038e-02   1.038245         0.000369  \n",
       "3   2.021500e-01   0.694326         0.000894  \n",
       "4   2.827860e-01   0.548542         0.000308  \n",
       "5   5.606182e-03   2.251333         0.000380  \n",
       "6   5.688687e-02   1.244988         0.000730  \n",
       "7   1.466118e-15  14.833831         0.000921  \n",
       "8   4.842661e-17  16.314916         0.010806  \n",
       "9   1.729980e-11  10.761959         0.001057  \n",
       "10  2.686508e-15  14.570812         0.002993  \n",
       "11  6.033061e-15  14.219462         0.000405  \n",
       "12  9.000000e-07   6.045757         0.035262  \n",
       "13  7.535482e-18  17.122889         0.001070  \n",
       "14  9.836758e-18  17.007148         0.000352  \n",
       "15  2.011932e-16  15.696387        -0.000116  \n",
       "16  3.273823e-17  16.484945         0.000014  "
      ]
     },
     "execution_count": 57,
     "metadata": {},
     "output_type": "execute_result"
    }
   ],
   "source": [
    "out_herit_df_clean"
   ]
  },
  {
   "cell_type": "code",
   "execution_count": 58,
   "metadata": {
    "collapsed": true,
    "deletable": true,
    "editable": true
   },
   "outputs": [],
   "source": [
    "# Loop over trait and create heritability table for radar plot\n",
    "#drop_list = ['BMI','FD_mean','FD_scrubbed_mean','Handedness']\n",
    "#list_new = [x for x in new_list if x not in drop_list ]"
   ]
  },
  {
   "cell_type": "code",
   "execution_count": 59,
   "metadata": {
    "collapsed": true,
    "deletable": true,
    "editable": true
   },
   "outputs": [],
   "source": [
    "## Loop over trait and create heritability table for radar plot\n",
    "#list_trial = [xx.replace('-','_') for xx in list_trial]\n",
    "for trait_herit in list_trial:\n",
    "    mask_df = [x[:-10] == trait_herit for x in out_herit_df_clean.Trait.str.strip()]\n",
    "    out_herit_select = out_herit_df_clean[['Trait','H2r']][mask_df]\n",
    "    # extract trial\n",
    "    column_net = [''.join(row['Trait'].split('_')[0:-2]) for ind,row in out_herit_select[['Trait']].iterrows()]\n",
    "    out_herit_select.loc[:,'Trial'] = column_net\n",
    "    # extract subtype\n",
    "    column_subt = [row['Trait'].split('_')[-2].strip() for ind,row in out_herit_select[['Trait']].iterrows()]\n",
    "    out_herit_select.loc[:,'Subt'] = column_subt\n",
    "    out_herit_clean = out_herit_select[['Trial','Subt','H2r']]\n",
    "    # Pivot table\n",
    "    out_herit_final = out_herit_clean.pivot(index='Trial',columns='Subt',values='H2r')\n",
    "    out_herit_final.index.name=None\n",
    "    out_herit_final.to_csv(os.path.join(out_path,solar_out,h2r_out_file.format(task_name,trait_herit)))"
   ]
  },
  {
   "cell_type": "code",
   "execution_count": 60,
   "metadata": {
    "collapsed": false,
    "deletable": true,
    "editable": true
   },
   "outputs": [
    {
     "data": {
      "text/html": [
       "<div>\n",
       "<table border=\"1\" class=\"dataframe\">\n",
       "  <thead>\n",
       "    <tr style=\"text-align: right;\">\n",
       "      <th>Subt</th>\n",
       "      <th>sub1</th>\n",
       "      <th>sub2</th>\n",
       "      <th>sub3</th>\n",
       "      <th>sub4</th>\n",
       "      <th>sub5</th>\n",
       "    </tr>\n",
       "  </thead>\n",
       "  <tbody>\n",
       "    <tr>\n",
       "      <th>match</th>\n",
       "      <td>0.503857</td>\n",
       "      <td>0.534697</td>\n",
       "      <td>0.44104</td>\n",
       "      <td>0.506186</td>\n",
       "      <td>0.49326</td>\n",
       "    </tr>\n",
       "  </tbody>\n",
       "</table>\n",
       "</div>"
      ],
      "text/plain": [
       "Subt       sub1      sub2     sub3      sub4     sub5\n",
       "match  0.503857  0.534697  0.44104  0.506186  0.49326"
      ]
     },
     "execution_count": 60,
     "metadata": {},
     "output_type": "execute_result"
    }
   ],
   "source": [
    "out_herit_final"
   ]
  },
  {
   "cell_type": "code",
   "execution_count": 61,
   "metadata": {
    "collapsed": true,
    "deletable": true,
    "editable": true
   },
   "outputs": [],
   "source": [
    "##### R section #########"
   ]
  },
  {
   "cell_type": "code",
   "execution_count": 62,
   "metadata": {
    "collapsed": true,
    "deletable": true,
    "editable": true
   },
   "outputs": [],
   "source": [
    "# first on terminal install cairo : \"sudo apt install libcairo2-dev\"\n",
    "# devtools::install_github(\"hadley/svglite\")\n",
    "# devtools::install_github(\"ricardo-bion/ggradar\", dependencies=TRUE)\n",
    "import warnings\n",
    "warnings.filterwarnings('ignore')"
   ]
  },
  {
   "cell_type": "code",
   "execution_count": 65,
   "metadata": {
    "collapsed": false,
    "deletable": true,
    "editable": true
   },
   "outputs": [],
   "source": [
    "%%R\n",
    "library(ggradar)\n",
    "suppressPackageStartupMessages(library(dplyr))\n",
    "library(scales)\n",
    "require(\"ggplot2\")"
   ]
  },
  {
   "cell_type": "code",
   "execution_count": 67,
   "metadata": {
    "collapsed": false,
    "deletable": true,
    "editable": true
   },
   "outputs": [
    {
     "data": {
      "image/png": "[encoded data removed]"
     },
     "metadata": {},
     "output_type": "display_data"
    },
    {
     "data": {
      "image/png": "[encoded data removed]"
     },
     "metadata": {},
     "output_type": "display_data"
    },
    {
     "data": {
      "image/png": "[encoded data removed]"
     },
     "metadata": {},
     "output_type": "display_data"
    }
   ],
   "source": [
    "%%R -i out_path,solar_out,task_name,list_trial,path_root\n",
    "for (ii in list_trial) {\n",
    "    MyData <- read.csv(file=paste(out_path,solar_out,\"/h2r_solar_\",task_name,'_spm_',ii,'.csv',sep = ''))\n",
    "    # plot radar \n",
    "    image=ggradar(MyData, grid.min = 0,\n",
    "                  grid.mid = 0.5, grid.max = 1, axis.label.size = 5, grid.label.size = 5 ,legend.text.size =5) +\n",
    "    theme(legend.text = element_text(size = 14))\n",
    "    ggsave(file=paste(path_root,\"subtypes_scores/26-10-2016/subtype_5_spm_RELATIONAL_18-Jun-2017/\" ,ii,\"_heritability.svg\",sep = ''), plot=image, width=10, height=8)\n",
    "    print(image)\n",
    "    }"
   ]
  },
  {
   "cell_type": "code",
   "execution_count": null,
   "metadata": {
    "collapsed": true
   },
   "outputs": [],
   "source": []
  }
 ],
 "metadata": {
  "anaconda-cloud": {},
  "kernelspec": {
   "display_name": "Python 3",
   "language": "python",
   "name": "python3"
  },
  "language_info": {
   "codemirror_mode": {
    "name": "ipython",
    "version": 3
   },
   "file_extension": ".py",
   "mimetype": "text/x-python",
   "name": "python",
   "nbconvert_exporter": "python",
   "pygments_lexer": "ipython3",
   "version": "3.4.3"
  },
  "widgets": {
   "state": {},
   "version": "1.1.2"
  }
 },
 "nbformat": 4,
 "nbformat_minor": 1
}
