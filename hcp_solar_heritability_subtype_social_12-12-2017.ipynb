{
 "cells": [
  {
   "cell_type": "markdown",
   "metadata": {},
   "source": [
    "# Heritability estimate on subtype from social activation maps"
   ]
  },
  {
   "cell_type": "markdown",
   "metadata": {
    "collapsed": true
   },
   "source": [
    "##### Subtype:\n",
    "- Niak preprocessed SOCIAL task (new scrub method)\n",
    "- 5 subtype\n",
    "- **FD_scrubbed_mean regressed out befor building subtypes**\n",
    "\n",
    "##### Heritability:\n",
    "- Regress \"FD_scrubbed_mean\" \"Age_in_Yrs\" \"Gender\" as covariate\n",
    "\n",
    "\n",
    "## Build Pheno file"
   ]
  },
  {
   "cell_type": "markdown",
   "metadata": {},
   "source": [
    "### Merge behavioral variables with subtypes weights"
   ]
  },
  {
   "cell_type": "code",
   "execution_count": 160,
   "metadata": {},
   "outputs": [],
   "source": [
    "# Import pandas\n",
    "import os\n",
    "import pandas as pd\n",
    "import numpy as np\n",
    "from IPython.display import display\n",
    "import matplotlib.pyplot as plt\n",
    "import time\n",
    "import seaborn as sns"
   ]
  },
  {
   "cell_type": "code",
   "execution_count": 161,
   "metadata": {},
   "outputs": [
    {
     "name": "stdout",
     "output_type": "stream",
     "text": [
      "The rpy2.ipython extension is already loaded. To reload it, use:\n",
      "  %reload_ext rpy2.ipython\n"
     ]
    }
   ],
   "source": [
    "%matplotlib inline\n",
    "%load_ext rpy2.ipython\n",
    "sns.set_style(\"whitegrid\")"
   ]
  },
  {
   "cell_type": "code",
   "execution_count": 123,
   "metadata": {},
   "outputs": [],
   "source": [
    "#custom function for key sorting element\n",
    "import re\n",
    "\n",
    "def atoi(text):\n",
    "    return int(text) if text.isdigit() else text\n",
    "\n",
    "def natural_keys(text):\n",
    "    '''\n",
    "    alist.sort(key=natural_keys) sorts in human order\n",
    "    http://nedbatchelder.com/blog/200712/human_sorting.html\n",
    "    (See Toothy's implementation in the comments)\n",
    "    '''\n",
    "    return [ atoi(c) for c in re.split('(\\d+)', text) ]"
   ]
  },
  {
   "cell_type": "code",
   "execution_count": 124,
   "metadata": {},
   "outputs": [],
   "source": [
    "# Set up the paths \n",
    "path_root = '/media/yassine/data_disk/Drive/HCP2/'\n",
    "#path_root = \"/home/yassinebha/Drive/HCP/\"\n",
    "subt_path = os.path.join(path_root,\"subtypes_scores/26-10-2016/subtype_5_spm_SOCIAL_18-Oct-2017/\")\n",
    "net_path = os.path.join(path_root,\"subtypes_scores/26-10-2016/subtype_5_spm_SOCIAL_18-Oct-2017/networks/\")\n",
    "out_path = os.path.join(path_root,\"Solar_heritability/HCP_subtype/\")"
   ]
  },
  {
   "cell_type": "code",
   "execution_count": 129,
   "metadata": {},
   "outputs": [],
   "source": [
    "nb_sbt = natural_keys(subt_path)[9]\n",
    "# task name\n",
    "task_name = natural_keys(subt_path)[10][5:-1].lower()"
   ]
  },
  {
   "cell_type": "code",
   "execution_count": 130,
   "metadata": {},
   "outputs": [
    {
     "data": {
      "text/plain": [
       "'social'"
      ]
     },
     "execution_count": 130,
     "metadata": {},
     "output_type": "execute_result"
    }
   ],
   "source": [
    "task_name"
   ]
  },
  {
   "cell_type": "code",
   "execution_count": 145,
   "metadata": {},
   "outputs": [],
   "source": [
    "# Set up files name\n",
    "sbt_name_pattern = \"sbt_weights_net_{}.csv\"\n",
    "pheno_path = os.path.join(path_root,\"subtypes_scores/26-10-2016/pheno/hcp_pheno_{}_raw.csv\".format(task_name))\n",
    "solar_script = 'fcd_solar_h2r_test.sh'\n",
    "pheno_save = 'solar_social_spm_pheno.csv'.format(task_name)\n",
    "pedig_save = 'solar_social_spm_pedigre.csv'.format(task_name)\n",
    "solar_out = 'subtype_5_{}_{}'.format(task_name,time.strftime(\"%d-%m-%Y\"))\n",
    "h2r_out_file = 'h2r_solar_{}_spm_{}.csv'\n",
    "## Solar covariates\n",
    "solar_cov = '    cov FD_scrubbed_mean Gender'"
   ]
  },
  {
   "cell_type": "code",
   "execution_count": 146,
   "metadata": {},
   "outputs": [
    {
     "data": {
      "text/plain": [
       "['mental', 'contrast_mental_vs_rnd']"
      ]
     },
     "execution_count": 146,
     "metadata": {},
     "output_type": "execute_result"
    }
   ],
   "source": [
    "# List of network names\n",
    "list_trial = os.listdir(net_path)\n",
    "list_trial"
   ]
  },
  {
   "cell_type": "code",
   "execution_count": 24,
   "metadata": {},
   "outputs": [],
   "source": [
    "# Loop over each network and build weight file\n",
    "for index, trial_name in enumerate(list_trial):\n",
    "    file_path = os.path.join(net_path, trial_name, sbt_name_pattern.format(trial_name))\n",
    "    if not os.path.exists(file_path):\n",
    "        print(\"Hello, {} does not exist\".format(file_path))\n",
    "    \n",
    "    tmp_weights = pd.read_csv(file_path)\n",
    "    # Rename first column\n",
    "    tmp_weights.rename(columns={\" \":\"Subject\"}, inplace=True)\n",
    "    tmp_weights.Subject = tmp_weights.Subject.str.strip(\" \")\n",
    "    \n",
    "    rename_dict = dict()\n",
    "    for colname in tmp_weights.columns:\n",
    "        if colname == \"Subject\":\n",
    "            continue\n",
    "        else:\n",
    "            new_name = \"{}_{}\".format(trial_name, colname)\n",
    "            # Get rid of trailing whitespace\n",
    "            new_name = new_name.strip(\" \")\n",
    "            rename_dict[colname] = new_name\n",
    "\n",
    "    tmp_weights.rename(columns=rename_dict, inplace=True)\n",
    "    \n",
    "    if index==0:\n",
    "        dataframe = tmp_weights\n",
    "    else:\n",
    "        dataframe = pd.merge(dataframe, tmp_weights, on=\"Subject\", how=\"inner\")"
   ]
  },
  {
   "cell_type": "code",
   "execution_count": 25,
   "metadata": {},
   "outputs": [
    {
     "data": {
      "text/html": [
       "<div>\n",
       "<style>\n",
       "    .dataframe thead tr:only-child th {\n",
       "        text-align: right;\n",
       "    }\n",
       "\n",
       "    .dataframe thead th {\n",
       "        text-align: left;\n",
       "    }\n",
       "\n",
       "    .dataframe tbody tr th {\n",
       "        vertical-align: top;\n",
       "    }\n",
       "</style>\n",
       "<table border=\"1\" class=\"dataframe\">\n",
       "  <thead>\n",
       "    <tr style=\"text-align: right;\">\n",
       "      <th></th>\n",
       "      <th>Subject</th>\n",
       "      <th>mental_sub1</th>\n",
       "      <th>mental_sub2</th>\n",
       "      <th>mental_sub3</th>\n",
       "      <th>mental_sub4</th>\n",
       "      <th>mental_sub5</th>\n",
       "      <th>contrast_mental_vs_rnd_sub1</th>\n",
       "      <th>contrast_mental_vs_rnd_sub2</th>\n",
       "      <th>contrast_mental_vs_rnd_sub3</th>\n",
       "      <th>contrast_mental_vs_rnd_sub4</th>\n",
       "      <th>contrast_mental_vs_rnd_sub5</th>\n",
       "    </tr>\n",
       "  </thead>\n",
       "  <tbody>\n",
       "    <tr>\n",
       "      <th>0</th>\n",
       "      <td>HCP100206</td>\n",
       "      <td>-0.140</td>\n",
       "      <td>-0.093</td>\n",
       "      <td>-0.241</td>\n",
       "      <td>0.138</td>\n",
       "      <td>0.261</td>\n",
       "      <td>-0.181</td>\n",
       "      <td>0.183</td>\n",
       "      <td>0.201</td>\n",
       "      <td>-0.124</td>\n",
       "      <td>-0.067</td>\n",
       "    </tr>\n",
       "    <tr>\n",
       "      <th>1</th>\n",
       "      <td>HCP100307</td>\n",
       "      <td>0.385</td>\n",
       "      <td>0.049</td>\n",
       "      <td>0.621</td>\n",
       "      <td>-0.466</td>\n",
       "      <td>-0.612</td>\n",
       "      <td>0.456</td>\n",
       "      <td>-0.015</td>\n",
       "      <td>-0.391</td>\n",
       "      <td>0.123</td>\n",
       "      <td>-0.328</td>\n",
       "    </tr>\n",
       "    <tr>\n",
       "      <th>2</th>\n",
       "      <td>HCP100408</td>\n",
       "      <td>-0.141</td>\n",
       "      <td>0.110</td>\n",
       "      <td>-0.154</td>\n",
       "      <td>0.076</td>\n",
       "      <td>0.157</td>\n",
       "      <td>-0.286</td>\n",
       "      <td>0.120</td>\n",
       "      <td>0.288</td>\n",
       "      <td>-0.153</td>\n",
       "      <td>0.112</td>\n",
       "    </tr>\n",
       "    <tr>\n",
       "      <th>3</th>\n",
       "      <td>HCP100610</td>\n",
       "      <td>0.273</td>\n",
       "      <td>0.180</td>\n",
       "      <td>0.196</td>\n",
       "      <td>-0.318</td>\n",
       "      <td>-0.244</td>\n",
       "      <td>-0.014</td>\n",
       "      <td>-0.110</td>\n",
       "      <td>-0.104</td>\n",
       "      <td>0.257</td>\n",
       "      <td>-0.104</td>\n",
       "    </tr>\n",
       "    <tr>\n",
       "      <th>4</th>\n",
       "      <td>HCP101006</td>\n",
       "      <td>0.307</td>\n",
       "      <td>0.046</td>\n",
       "      <td>0.189</td>\n",
       "      <td>-0.226</td>\n",
       "      <td>-0.251</td>\n",
       "      <td>0.022</td>\n",
       "      <td>0.156</td>\n",
       "      <td>0.033</td>\n",
       "      <td>-0.177</td>\n",
       "      <td>-0.013</td>\n",
       "    </tr>\n",
       "  </tbody>\n",
       "</table>\n",
       "</div>"
      ],
      "text/plain": [
       "     Subject  mental_sub1  mental_sub2  mental_sub3  mental_sub4  mental_sub5  \\\n",
       "0  HCP100206       -0.140       -0.093       -0.241        0.138        0.261   \n",
       "1  HCP100307        0.385        0.049        0.621       -0.466       -0.612   \n",
       "2  HCP100408       -0.141        0.110       -0.154        0.076        0.157   \n",
       "3  HCP100610        0.273        0.180        0.196       -0.318       -0.244   \n",
       "4  HCP101006        0.307        0.046        0.189       -0.226       -0.251   \n",
       "\n",
       "   contrast_mental_vs_rnd_sub1  contrast_mental_vs_rnd_sub2  \\\n",
       "0                       -0.181                        0.183   \n",
       "1                        0.456                       -0.015   \n",
       "2                       -0.286                        0.120   \n",
       "3                       -0.014                       -0.110   \n",
       "4                        0.022                        0.156   \n",
       "\n",
       "   contrast_mental_vs_rnd_sub3  contrast_mental_vs_rnd_sub4  \\\n",
       "0                        0.201                       -0.124   \n",
       "1                       -0.391                        0.123   \n",
       "2                        0.288                       -0.153   \n",
       "3                       -0.104                        0.257   \n",
       "4                        0.033                       -0.177   \n",
       "\n",
       "   contrast_mental_vs_rnd_sub5  \n",
       "0                       -0.067  \n",
       "1                       -0.328  \n",
       "2                        0.112  \n",
       "3                       -0.104  \n",
       "4                       -0.013  "
      ]
     },
     "execution_count": 25,
     "metadata": {},
     "output_type": "execute_result"
    }
   ],
   "source": [
    "dataframe.head()"
   ]
  },
  {
   "cell_type": "code",
   "execution_count": 26,
   "metadata": {
    "scrolled": true
   },
   "outputs": [
    {
     "data": {
      "text/plain": [
       "count           784\n",
       "unique          784\n",
       "top       HCP211720\n",
       "freq              1\n",
       "Name: Subject, dtype: object"
      ]
     },
     "execution_count": 26,
     "metadata": {},
     "output_type": "execute_result"
    }
   ],
   "source": [
    "dataframe.Subject.describe()"
   ]
  },
  {
   "cell_type": "code",
   "execution_count": 27,
   "metadata": {},
   "outputs": [],
   "source": [
    "# Load pheno file\n",
    "file_weight = dataframe\n",
    "file_pheno = pd.read_csv(pheno_path)"
   ]
  },
  {
   "cell_type": "code",
   "execution_count": 28,
   "metadata": {
    "scrolled": true
   },
   "outputs": [
    {
     "data": {
      "text/html": [
       "<div>\n",
       "<style>\n",
       "    .dataframe thead tr:only-child th {\n",
       "        text-align: right;\n",
       "    }\n",
       "\n",
       "    .dataframe thead th {\n",
       "        text-align: left;\n",
       "    }\n",
       "\n",
       "    .dataframe tbody tr th {\n",
       "        vertical-align: top;\n",
       "    }\n",
       "</style>\n",
       "<table border=\"1\" class=\"dataframe\">\n",
       "  <thead>\n",
       "    <tr style=\"text-align: right;\">\n",
       "      <th></th>\n",
       "      <th>Unnamed: 0</th>\n",
       "      <th>FD_RL</th>\n",
       "      <th>FD_scrubbed_RL</th>\n",
       "      <th>FD_LR</th>\n",
       "      <th>FD_scrubbed_LR</th>\n",
       "      <th>FD_scrubbed_mean</th>\n",
       "      <th>FD_mean</th>\n",
       "      <th>Subject</th>\n",
       "      <th>Age_in_Yrs</th>\n",
       "      <th>Gender</th>\n",
       "      <th>...</th>\n",
       "      <th>Cluster_1</th>\n",
       "      <th>Cluster_2</th>\n",
       "      <th>Cluster_3</th>\n",
       "      <th>Cluster_4</th>\n",
       "      <th>Cluster_5</th>\n",
       "      <th>Cluster_6</th>\n",
       "      <th>Cluster_7</th>\n",
       "      <th>Cluster_8</th>\n",
       "      <th>Cluster_9</th>\n",
       "      <th>Cluster_10</th>\n",
       "    </tr>\n",
       "  </thead>\n",
       "  <tbody>\n",
       "    <tr>\n",
       "      <th>0</th>\n",
       "      <td>HCP100206</td>\n",
       "      <td>0.084949</td>\n",
       "      <td>0.084949</td>\n",
       "      <td>0.096656</td>\n",
       "      <td>0.096656</td>\n",
       "      <td>0.090803</td>\n",
       "      <td>0.090803</td>\n",
       "      <td>HCP100206</td>\n",
       "      <td>27.0</td>\n",
       "      <td>1.0</td>\n",
       "      <td>...</td>\n",
       "      <td>-0.344595</td>\n",
       "      <td>1.283574</td>\n",
       "      <td>0.052662</td>\n",
       "      <td>1.436342</td>\n",
       "      <td>0.706008</td>\n",
       "      <td>-0.510366</td>\n",
       "      <td>1.975280</td>\n",
       "      <td>1.294323</td>\n",
       "      <td>-0.025888</td>\n",
       "      <td>-0.203825</td>\n",
       "    </tr>\n",
       "    <tr>\n",
       "      <th>1</th>\n",
       "      <td>HCP100307</td>\n",
       "      <td>0.098119</td>\n",
       "      <td>0.098119</td>\n",
       "      <td>0.087372</td>\n",
       "      <td>0.087372</td>\n",
       "      <td>0.092746</td>\n",
       "      <td>0.092746</td>\n",
       "      <td>HCP100307</td>\n",
       "      <td>27.0</td>\n",
       "      <td>2.0</td>\n",
       "      <td>...</td>\n",
       "      <td>-0.639736</td>\n",
       "      <td>0.522789</td>\n",
       "      <td>-0.952467</td>\n",
       "      <td>-0.713226</td>\n",
       "      <td>-0.559144</td>\n",
       "      <td>-0.140952</td>\n",
       "      <td>-0.703027</td>\n",
       "      <td>0.229112</td>\n",
       "      <td>0.097581</td>\n",
       "      <td>-0.444702</td>\n",
       "    </tr>\n",
       "    <tr>\n",
       "      <th>2</th>\n",
       "      <td>HCP100408</td>\n",
       "      <td>0.103292</td>\n",
       "      <td>0.103292</td>\n",
       "      <td>0.135210</td>\n",
       "      <td>0.135210</td>\n",
       "      <td>0.119251</td>\n",
       "      <td>0.119251</td>\n",
       "      <td>HCP100408</td>\n",
       "      <td>33.0</td>\n",
       "      <td>1.0</td>\n",
       "      <td>...</td>\n",
       "      <td>1.173656</td>\n",
       "      <td>0.092160</td>\n",
       "      <td>-0.521888</td>\n",
       "      <td>-0.034026</td>\n",
       "      <td>-0.109229</td>\n",
       "      <td>0.221359</td>\n",
       "      <td>-0.589268</td>\n",
       "      <td>0.357483</td>\n",
       "      <td>-0.039443</td>\n",
       "      <td>0.095913</td>\n",
       "    </tr>\n",
       "    <tr>\n",
       "      <th>3</th>\n",
       "      <td>HCP100610</td>\n",
       "      <td>0.179657</td>\n",
       "      <td>0.179657</td>\n",
       "      <td>0.189551</td>\n",
       "      <td>0.189551</td>\n",
       "      <td>0.184604</td>\n",
       "      <td>0.184604</td>\n",
       "      <td>HCP100610</td>\n",
       "      <td>27.0</td>\n",
       "      <td>1.0</td>\n",
       "      <td>...</td>\n",
       "      <td>0.891096</td>\n",
       "      <td>-0.361182</td>\n",
       "      <td>-0.881930</td>\n",
       "      <td>-0.386394</td>\n",
       "      <td>-0.575076</td>\n",
       "      <td>-0.197974</td>\n",
       "      <td>0.203063</td>\n",
       "      <td>0.618868</td>\n",
       "      <td>0.491618</td>\n",
       "      <td>1.343114</td>\n",
       "    </tr>\n",
       "    <tr>\n",
       "      <th>4</th>\n",
       "      <td>HCP101006</td>\n",
       "      <td>0.145925</td>\n",
       "      <td>0.145925</td>\n",
       "      <td>0.124287</td>\n",
       "      <td>0.124287</td>\n",
       "      <td>0.135106</td>\n",
       "      <td>0.135106</td>\n",
       "      <td>HCP101006</td>\n",
       "      <td>35.0</td>\n",
       "      <td>2.0</td>\n",
       "      <td>...</td>\n",
       "      <td>0.608381</td>\n",
       "      <td>0.037740</td>\n",
       "      <td>0.055531</td>\n",
       "      <td>-0.883482</td>\n",
       "      <td>-0.383174</td>\n",
       "      <td>-0.309221</td>\n",
       "      <td>-0.753780</td>\n",
       "      <td>-1.183212</td>\n",
       "      <td>0.031989</td>\n",
       "      <td>-0.494022</td>\n",
       "    </tr>\n",
       "  </tbody>\n",
       "</table>\n",
       "<p>5 rows × 26 columns</p>\n",
       "</div>"
      ],
      "text/plain": [
       "  Unnamed: 0     FD_RL  FD_scrubbed_RL     FD_LR  FD_scrubbed_LR  \\\n",
       "0  HCP100206  0.084949        0.084949  0.096656        0.096656   \n",
       "1  HCP100307  0.098119        0.098119  0.087372        0.087372   \n",
       "2  HCP100408  0.103292        0.103292  0.135210        0.135210   \n",
       "3  HCP100610  0.179657        0.179657  0.189551        0.189551   \n",
       "4  HCP101006  0.145925        0.145925  0.124287        0.124287   \n",
       "\n",
       "   FD_scrubbed_mean   FD_mean    Subject  Age_in_Yrs  Gender     ...      \\\n",
       "0          0.090803  0.090803  HCP100206        27.0     1.0     ...       \n",
       "1          0.092746  0.092746  HCP100307        27.0     2.0     ...       \n",
       "2          0.119251  0.119251  HCP100408        33.0     1.0     ...       \n",
       "3          0.184604  0.184604  HCP100610        27.0     1.0     ...       \n",
       "4          0.135106  0.135106  HCP101006        35.0     2.0     ...       \n",
       "\n",
       "  Cluster_1 Cluster_2  Cluster_3  Cluster_4  Cluster_5  Cluster_6  Cluster_7  \\\n",
       "0 -0.344595  1.283574   0.052662   1.436342   0.706008  -0.510366   1.975280   \n",
       "1 -0.639736  0.522789  -0.952467  -0.713226  -0.559144  -0.140952  -0.703027   \n",
       "2  1.173656  0.092160  -0.521888  -0.034026  -0.109229   0.221359  -0.589268   \n",
       "3  0.891096 -0.361182  -0.881930  -0.386394  -0.575076  -0.197974   0.203063   \n",
       "4  0.608381  0.037740   0.055531  -0.883482  -0.383174  -0.309221  -0.753780   \n",
       "\n",
       "   Cluster_8  Cluster_9  Cluster_10  \n",
       "0   1.294323  -0.025888   -0.203825  \n",
       "1   0.229112   0.097581   -0.444702  \n",
       "2   0.357483  -0.039443    0.095913  \n",
       "3   0.618868   0.491618    1.343114  \n",
       "4  -1.183212   0.031989   -0.494022  \n",
       "\n",
       "[5 rows x 26 columns]"
      ]
     },
     "execution_count": 28,
     "metadata": {},
     "output_type": "execute_result"
    }
   ],
   "source": [
    "file_pheno.head()"
   ]
  },
  {
   "cell_type": "code",
   "execution_count": 29,
   "metadata": {
    "scrolled": true
   },
   "outputs": [
    {
     "data": {
      "text/plain": [
       "count           803\n",
       "unique          803\n",
       "top       HCP211720\n",
       "freq              1\n",
       "Name: Subject, dtype: object"
      ]
     },
     "execution_count": 29,
     "metadata": {},
     "output_type": "execute_result"
    }
   ],
   "source": [
    "file_pheno.Subject.describe()"
   ]
  },
  {
   "cell_type": "code",
   "execution_count": 30,
   "metadata": {
    "scrolled": true
   },
   "outputs": [
    {
     "data": {
      "text/html": [
       "<div>\n",
       "<style>\n",
       "    .dataframe thead tr:only-child th {\n",
       "        text-align: right;\n",
       "    }\n",
       "\n",
       "    .dataframe thead th {\n",
       "        text-align: left;\n",
       "    }\n",
       "\n",
       "    .dataframe tbody tr th {\n",
       "        vertical-align: top;\n",
       "    }\n",
       "</style>\n",
       "<table border=\"1\" class=\"dataframe\">\n",
       "  <thead>\n",
       "    <tr style=\"text-align: right;\">\n",
       "      <th></th>\n",
       "      <th>Subject</th>\n",
       "      <th>Age_in_Yrs</th>\n",
       "      <th>Gender</th>\n",
       "      <th>BMI</th>\n",
       "      <th>FD_mean</th>\n",
       "      <th>FD_scrubbed_mean</th>\n",
       "    </tr>\n",
       "  </thead>\n",
       "  <tbody>\n",
       "    <tr>\n",
       "      <th>0</th>\n",
       "      <td>HCP100206</td>\n",
       "      <td>27.0</td>\n",
       "      <td>1.0</td>\n",
       "      <td>26.64</td>\n",
       "      <td>0.090803</td>\n",
       "      <td>0.090803</td>\n",
       "    </tr>\n",
       "    <tr>\n",
       "      <th>1</th>\n",
       "      <td>HCP100307</td>\n",
       "      <td>27.0</td>\n",
       "      <td>2.0</td>\n",
       "      <td>22.96</td>\n",
       "      <td>0.092746</td>\n",
       "      <td>0.092746</td>\n",
       "    </tr>\n",
       "    <tr>\n",
       "      <th>2</th>\n",
       "      <td>HCP100408</td>\n",
       "      <td>33.0</td>\n",
       "      <td>1.0</td>\n",
       "      <td>27.75</td>\n",
       "      <td>0.119251</td>\n",
       "      <td>0.119251</td>\n",
       "    </tr>\n",
       "    <tr>\n",
       "      <th>3</th>\n",
       "      <td>HCP100610</td>\n",
       "      <td>27.0</td>\n",
       "      <td>1.0</td>\n",
       "      <td>36.91</td>\n",
       "      <td>0.184604</td>\n",
       "      <td>0.184604</td>\n",
       "    </tr>\n",
       "    <tr>\n",
       "      <th>4</th>\n",
       "      <td>HCP101006</td>\n",
       "      <td>35.0</td>\n",
       "      <td>2.0</td>\n",
       "      <td>30.27</td>\n",
       "      <td>0.135106</td>\n",
       "      <td>0.135106</td>\n",
       "    </tr>\n",
       "  </tbody>\n",
       "</table>\n",
       "</div>"
      ],
      "text/plain": [
       "     Subject  Age_in_Yrs  Gender    BMI   FD_mean  FD_scrubbed_mean\n",
       "0  HCP100206        27.0     1.0  26.64  0.090803          0.090803\n",
       "1  HCP100307        27.0     2.0  22.96  0.092746          0.092746\n",
       "2  HCP100408        33.0     1.0  27.75  0.119251          0.119251\n",
       "3  HCP100610        27.0     1.0  36.91  0.184604          0.184604\n",
       "4  HCP101006        35.0     2.0  30.27  0.135106          0.135106"
      ]
     },
     "execution_count": 30,
     "metadata": {},
     "output_type": "execute_result"
    }
   ],
   "source": [
    "# Select a subset of variable\n",
    "file_pheno_subset = file_pheno[[\"Subject\",\"Age_in_Yrs\",\"Gender\",\"BMI\",\"FD_mean\",\"FD_scrubbed_mean\"]]\n",
    "file_pheno_subset.head()"
   ]
  },
  {
   "cell_type": "code",
   "execution_count": 31,
   "metadata": {},
   "outputs": [],
   "source": [
    "# Replace gender M=1 and F=2\n",
    "#file_pheno_subset.Gender.replace({'M':1,'F':2}, inplace=True)\n",
    "#file_pheno_subset.head()"
   ]
  },
  {
   "cell_type": "code",
   "execution_count": 32,
   "metadata": {},
   "outputs": [
    {
     "data": {
      "text/html": [
       "<div>\n",
       "<style>\n",
       "    .dataframe thead tr:only-child th {\n",
       "        text-align: right;\n",
       "    }\n",
       "\n",
       "    .dataframe thead th {\n",
       "        text-align: left;\n",
       "    }\n",
       "\n",
       "    .dataframe tbody tr th {\n",
       "        vertical-align: top;\n",
       "    }\n",
       "</style>\n",
       "<table border=\"1\" class=\"dataframe\">\n",
       "  <thead>\n",
       "    <tr style=\"text-align: right;\">\n",
       "      <th></th>\n",
       "      <th>Subject</th>\n",
       "    </tr>\n",
       "  </thead>\n",
       "  <tbody>\n",
       "    <tr>\n",
       "      <th>count</th>\n",
       "      <td>803</td>\n",
       "    </tr>\n",
       "    <tr>\n",
       "      <th>unique</th>\n",
       "      <td>803</td>\n",
       "    </tr>\n",
       "    <tr>\n",
       "      <th>top</th>\n",
       "      <td>HCP211720</td>\n",
       "    </tr>\n",
       "    <tr>\n",
       "      <th>freq</th>\n",
       "      <td>1</td>\n",
       "    </tr>\n",
       "  </tbody>\n",
       "</table>\n",
       "</div>"
      ],
      "text/plain": [
       "          Subject\n",
       "count         803\n",
       "unique        803\n",
       "top     HCP211720\n",
       "freq            1"
      ]
     },
     "execution_count": 32,
     "metadata": {},
     "output_type": "execute_result"
    }
   ],
   "source": [
    "file_pheno_subset[[\"Subject\"]].describe()"
   ]
  },
  {
   "cell_type": "code",
   "execution_count": 33,
   "metadata": {},
   "outputs": [
    {
     "data": {
      "text/html": [
       "<div>\n",
       "<style>\n",
       "    .dataframe thead tr:only-child th {\n",
       "        text-align: right;\n",
       "    }\n",
       "\n",
       "    .dataframe thead th {\n",
       "        text-align: left;\n",
       "    }\n",
       "\n",
       "    .dataframe tbody tr th {\n",
       "        vertical-align: top;\n",
       "    }\n",
       "</style>\n",
       "<table border=\"1\" class=\"dataframe\">\n",
       "  <thead>\n",
       "    <tr style=\"text-align: right;\">\n",
       "      <th></th>\n",
       "      <th>Subject</th>\n",
       "    </tr>\n",
       "  </thead>\n",
       "  <tbody>\n",
       "    <tr>\n",
       "      <th>count</th>\n",
       "      <td>784</td>\n",
       "    </tr>\n",
       "    <tr>\n",
       "      <th>unique</th>\n",
       "      <td>784</td>\n",
       "    </tr>\n",
       "    <tr>\n",
       "      <th>top</th>\n",
       "      <td>HCP211720</td>\n",
       "    </tr>\n",
       "    <tr>\n",
       "      <th>freq</th>\n",
       "      <td>1</td>\n",
       "    </tr>\n",
       "  </tbody>\n",
       "</table>\n",
       "</div>"
      ],
      "text/plain": [
       "          Subject\n",
       "count         784\n",
       "unique        784\n",
       "top     HCP211720\n",
       "freq            1"
      ]
     },
     "execution_count": 33,
     "metadata": {},
     "output_type": "execute_result"
    }
   ],
   "source": [
    "file_weight[[\"Subject\"]].describe()"
   ]
  },
  {
   "cell_type": "code",
   "execution_count": 34,
   "metadata": {},
   "outputs": [
    {
     "data": {
      "text/html": [
       "<div>\n",
       "<style>\n",
       "    .dataframe thead tr:only-child th {\n",
       "        text-align: right;\n",
       "    }\n",
       "\n",
       "    .dataframe thead th {\n",
       "        text-align: left;\n",
       "    }\n",
       "\n",
       "    .dataframe tbody tr th {\n",
       "        vertical-align: top;\n",
       "    }\n",
       "</style>\n",
       "<table border=\"1\" class=\"dataframe\">\n",
       "  <thead>\n",
       "    <tr style=\"text-align: right;\">\n",
       "      <th></th>\n",
       "      <th>ID</th>\n",
       "      <th>mental_sub1</th>\n",
       "      <th>mental_sub2</th>\n",
       "      <th>mental_sub3</th>\n",
       "      <th>mental_sub4</th>\n",
       "      <th>mental_sub5</th>\n",
       "      <th>contrast_mental_vs_rnd_sub1</th>\n",
       "      <th>contrast_mental_vs_rnd_sub2</th>\n",
       "      <th>contrast_mental_vs_rnd_sub3</th>\n",
       "      <th>contrast_mental_vs_rnd_sub4</th>\n",
       "      <th>contrast_mental_vs_rnd_sub5</th>\n",
       "      <th>Age_in_Yrs</th>\n",
       "      <th>Gender</th>\n",
       "      <th>BMI</th>\n",
       "      <th>FD_mean</th>\n",
       "      <th>FD_scrubbed_mean</th>\n",
       "    </tr>\n",
       "  </thead>\n",
       "  <tbody>\n",
       "    <tr>\n",
       "      <th>0</th>\n",
       "      <td>HCP100206</td>\n",
       "      <td>-0.140</td>\n",
       "      <td>-0.093</td>\n",
       "      <td>-0.241</td>\n",
       "      <td>0.138</td>\n",
       "      <td>0.261</td>\n",
       "      <td>-0.181</td>\n",
       "      <td>0.183</td>\n",
       "      <td>0.201</td>\n",
       "      <td>-0.124</td>\n",
       "      <td>-0.067</td>\n",
       "      <td>27.0</td>\n",
       "      <td>1.0</td>\n",
       "      <td>26.64</td>\n",
       "      <td>0.090803</td>\n",
       "      <td>0.090803</td>\n",
       "    </tr>\n",
       "    <tr>\n",
       "      <th>1</th>\n",
       "      <td>HCP100307</td>\n",
       "      <td>0.385</td>\n",
       "      <td>0.049</td>\n",
       "      <td>0.621</td>\n",
       "      <td>-0.466</td>\n",
       "      <td>-0.612</td>\n",
       "      <td>0.456</td>\n",
       "      <td>-0.015</td>\n",
       "      <td>-0.391</td>\n",
       "      <td>0.123</td>\n",
       "      <td>-0.328</td>\n",
       "      <td>27.0</td>\n",
       "      <td>2.0</td>\n",
       "      <td>22.96</td>\n",
       "      <td>0.092746</td>\n",
       "      <td>0.092746</td>\n",
       "    </tr>\n",
       "    <tr>\n",
       "      <th>2</th>\n",
       "      <td>HCP100408</td>\n",
       "      <td>-0.141</td>\n",
       "      <td>0.110</td>\n",
       "      <td>-0.154</td>\n",
       "      <td>0.076</td>\n",
       "      <td>0.157</td>\n",
       "      <td>-0.286</td>\n",
       "      <td>0.120</td>\n",
       "      <td>0.288</td>\n",
       "      <td>-0.153</td>\n",
       "      <td>0.112</td>\n",
       "      <td>33.0</td>\n",
       "      <td>1.0</td>\n",
       "      <td>27.75</td>\n",
       "      <td>0.119251</td>\n",
       "      <td>0.119251</td>\n",
       "    </tr>\n",
       "    <tr>\n",
       "      <th>3</th>\n",
       "      <td>HCP100610</td>\n",
       "      <td>0.273</td>\n",
       "      <td>0.180</td>\n",
       "      <td>0.196</td>\n",
       "      <td>-0.318</td>\n",
       "      <td>-0.244</td>\n",
       "      <td>-0.014</td>\n",
       "      <td>-0.110</td>\n",
       "      <td>-0.104</td>\n",
       "      <td>0.257</td>\n",
       "      <td>-0.104</td>\n",
       "      <td>27.0</td>\n",
       "      <td>1.0</td>\n",
       "      <td>36.91</td>\n",
       "      <td>0.184604</td>\n",
       "      <td>0.184604</td>\n",
       "    </tr>\n",
       "    <tr>\n",
       "      <th>4</th>\n",
       "      <td>HCP101006</td>\n",
       "      <td>0.307</td>\n",
       "      <td>0.046</td>\n",
       "      <td>0.189</td>\n",
       "      <td>-0.226</td>\n",
       "      <td>-0.251</td>\n",
       "      <td>0.022</td>\n",
       "      <td>0.156</td>\n",
       "      <td>0.033</td>\n",
       "      <td>-0.177</td>\n",
       "      <td>-0.013</td>\n",
       "      <td>35.0</td>\n",
       "      <td>2.0</td>\n",
       "      <td>30.27</td>\n",
       "      <td>0.135106</td>\n",
       "      <td>0.135106</td>\n",
       "    </tr>\n",
       "  </tbody>\n",
       "</table>\n",
       "</div>"
      ],
      "text/plain": [
       "          ID  mental_sub1  mental_sub2  mental_sub3  mental_sub4  mental_sub5  \\\n",
       "0  HCP100206       -0.140       -0.093       -0.241        0.138        0.261   \n",
       "1  HCP100307        0.385        0.049        0.621       -0.466       -0.612   \n",
       "2  HCP100408       -0.141        0.110       -0.154        0.076        0.157   \n",
       "3  HCP100610        0.273        0.180        0.196       -0.318       -0.244   \n",
       "4  HCP101006        0.307        0.046        0.189       -0.226       -0.251   \n",
       "\n",
       "   contrast_mental_vs_rnd_sub1  contrast_mental_vs_rnd_sub2  \\\n",
       "0                       -0.181                        0.183   \n",
       "1                        0.456                       -0.015   \n",
       "2                       -0.286                        0.120   \n",
       "3                       -0.014                       -0.110   \n",
       "4                        0.022                        0.156   \n",
       "\n",
       "   contrast_mental_vs_rnd_sub3  contrast_mental_vs_rnd_sub4  \\\n",
       "0                        0.201                       -0.124   \n",
       "1                       -0.391                        0.123   \n",
       "2                        0.288                       -0.153   \n",
       "3                       -0.104                        0.257   \n",
       "4                        0.033                       -0.177   \n",
       "\n",
       "   contrast_mental_vs_rnd_sub5  Age_in_Yrs  Gender    BMI   FD_mean  \\\n",
       "0                       -0.067        27.0     1.0  26.64  0.090803   \n",
       "1                       -0.328        27.0     2.0  22.96  0.092746   \n",
       "2                        0.112        33.0     1.0  27.75  0.119251   \n",
       "3                       -0.104        27.0     1.0  36.91  0.184604   \n",
       "4                       -0.013        35.0     2.0  30.27  0.135106   \n",
       "\n",
       "   FD_scrubbed_mean  \n",
       "0          0.090803  \n",
       "1          0.092746  \n",
       "2          0.119251  \n",
       "3          0.184604  \n",
       "4          0.135106  "
      ]
     },
     "execution_count": 34,
     "metadata": {},
     "output_type": "execute_result"
    }
   ],
   "source": [
    "# Merge weight with subset of pheno variables\n",
    "merged_weight_pheno = pd.merge(file_weight, file_pheno_subset, on='Subject', how='left')\n",
    "# Replace 'Subject' by 'ID'\n",
    "merged_weight_pheno.rename(columns={'Subject':'ID'},inplace=True)\n",
    "merged_weight_pheno.head()"
   ]
  },
  {
   "cell_type": "code",
   "execution_count": 35,
   "metadata": {},
   "outputs": [
    {
     "data": {
      "text/plain": [
       "count           784\n",
       "unique          784\n",
       "top       HCP211720\n",
       "freq              1\n",
       "Name: ID, dtype: object"
      ]
     },
     "execution_count": 35,
     "metadata": {},
     "output_type": "execute_result"
    }
   ],
   "source": [
    "merged_weight_pheno.ID.describe()"
   ]
  },
  {
   "cell_type": "code",
   "execution_count": 36,
   "metadata": {},
   "outputs": [
    {
     "data": {
      "text/plain": [
       "0"
      ]
     },
     "execution_count": 36,
     "metadata": {},
     "output_type": "execute_result"
    }
   ],
   "source": [
    "# Check if there is empty value in BMI\n",
    "sum(merged_weight_pheno.BMI.isnull())"
   ]
  },
  {
   "cell_type": "code",
   "execution_count": 37,
   "metadata": {},
   "outputs": [],
   "source": [
    "# Save the merged file\n",
    "merged_weight_pheno.to_csv(os.path.join(out_path,pheno_save), index=False)"
   ]
  },
  {
   "cell_type": "code",
   "execution_count": 38,
   "metadata": {},
   "outputs": [
    {
     "data": {
      "text/plain": [
       "'/media/yassine/data_disk/Drive/HCP2/Solar_heritability/HCP_subtype/solar_social_spm_pheno.csv'"
      ]
     },
     "execution_count": 38,
     "metadata": {},
     "output_type": "execute_result"
    }
   ],
   "source": [
    "os.path.join(out_path,pheno_save)"
   ]
  },
  {
   "cell_type": "markdown",
   "metadata": {},
   "source": [
    "## Build trait file"
   ]
  },
  {
   "cell_type": "code",
   "execution_count": 39,
   "metadata": {},
   "outputs": [
    {
     "data": {
      "text/plain": [
       "['mental_sub1',\n",
       " 'mental_sub2',\n",
       " 'mental_sub3',\n",
       " 'mental_sub4',\n",
       " 'mental_sub5',\n",
       " 'contrast_mental_vs_rnd_sub1',\n",
       " 'contrast_mental_vs_rnd_sub2',\n",
       " 'contrast_mental_vs_rnd_sub3',\n",
       " 'contrast_mental_vs_rnd_sub4',\n",
       " 'contrast_mental_vs_rnd_sub5',\n",
       " 'BMI',\n",
       " 'FD_mean',\n",
       " 'FD_scrubbed_mean']"
      ]
     },
     "execution_count": 39,
     "metadata": {},
     "output_type": "execute_result"
    }
   ],
   "source": [
    "## build trait file\n",
    "# Remove not neaded traits\n",
    "list_trait = merged_weight_pheno.columns.tolist()\n",
    "new_list = [trait for trait in list_trait if trait not in ['ID','Age_in_Yrs','Gender']]\n",
    "new_list"
   ]
  },
  {
   "cell_type": "code",
   "execution_count": 40,
   "metadata": {},
   "outputs": [],
   "source": [
    "# Save trait file\n",
    "file_out = open(os.path.join(out_path,\"trait_file\"), 'w')\n",
    "for item in new_list:\n",
    "    file_out.write(\"%s\\n\" % item)\n",
    "file_out.close()"
   ]
  },
  {
   "cell_type": "markdown",
   "metadata": {},
   "source": [
    "## Build Pedigree file"
   ]
  },
  {
   "cell_type": "code",
   "execution_count": 41,
   "metadata": {},
   "outputs": [
    {
     "data": {
      "text/html": [
       "<div>\n",
       "<style>\n",
       "    .dataframe thead tr:only-child th {\n",
       "        text-align: right;\n",
       "    }\n",
       "\n",
       "    .dataframe thead th {\n",
       "        text-align: left;\n",
       "    }\n",
       "\n",
       "    .dataframe tbody tr th {\n",
       "        vertical-align: top;\n",
       "    }\n",
       "</style>\n",
       "<table border=\"1\" class=\"dataframe\">\n",
       "  <thead>\n",
       "    <tr style=\"text-align: right;\">\n",
       "      <th></th>\n",
       "      <th>Subject</th>\n",
       "      <th>Twin_Stat</th>\n",
       "      <th>Zygosity</th>\n",
       "      <th>Mother_ID</th>\n",
       "      <th>Gender</th>\n",
       "    </tr>\n",
       "  </thead>\n",
       "  <tbody>\n",
       "    <tr>\n",
       "      <th>0</th>\n",
       "      <td>HCP100206</td>\n",
       "      <td>NotTwin</td>\n",
       "      <td>NotTwin</td>\n",
       "      <td>56037.0</td>\n",
       "      <td>1.0</td>\n",
       "    </tr>\n",
       "    <tr>\n",
       "      <th>1</th>\n",
       "      <td>HCP100307</td>\n",
       "      <td>Twin</td>\n",
       "      <td>NotMZ</td>\n",
       "      <td>51488.0</td>\n",
       "      <td>2.0</td>\n",
       "    </tr>\n",
       "    <tr>\n",
       "      <th>2</th>\n",
       "      <td>HCP100408</td>\n",
       "      <td>Twin</td>\n",
       "      <td>MZ</td>\n",
       "      <td>51730.0</td>\n",
       "      <td>1.0</td>\n",
       "    </tr>\n",
       "    <tr>\n",
       "      <th>3</th>\n",
       "      <td>HCP100610</td>\n",
       "      <td>Twin</td>\n",
       "      <td>NotMZ</td>\n",
       "      <td>52813.0</td>\n",
       "      <td>1.0</td>\n",
       "    </tr>\n",
       "    <tr>\n",
       "      <th>4</th>\n",
       "      <td>HCP101006</td>\n",
       "      <td>Twin</td>\n",
       "      <td>MZ</td>\n",
       "      <td>51283.0</td>\n",
       "      <td>2.0</td>\n",
       "    </tr>\n",
       "  </tbody>\n",
       "</table>\n",
       "</div>"
      ],
      "text/plain": [
       "     Subject Twin_Stat Zygosity  Mother_ID  Gender\n",
       "0  HCP100206   NotTwin  NotTwin    56037.0     1.0\n",
       "1  HCP100307      Twin    NotMZ    51488.0     2.0\n",
       "2  HCP100408      Twin       MZ    51730.0     1.0\n",
       "3  HCP100610      Twin    NotMZ    52813.0     1.0\n",
       "4  HCP101006      Twin       MZ    51283.0     2.0"
      ]
     },
     "execution_count": 41,
     "metadata": {},
     "output_type": "execute_result"
    }
   ],
   "source": [
    "# Select a subset of variable from pheno file\n",
    "file_pheno_pedig = file_pheno[[\"Subject\",\"Twin_Stat\",\"Zygosity\",\"Mother_ID\",\"Gender\"]]\n",
    "file_pheno_pedig.head()"
   ]
  },
  {
   "cell_type": "code",
   "execution_count": 42,
   "metadata": {},
   "outputs": [
    {
     "data": {
      "text/plain": [
       "count           803\n",
       "unique          803\n",
       "top       HCP211720\n",
       "freq              1\n",
       "Name: Subject, dtype: object"
      ]
     },
     "execution_count": 42,
     "metadata": {},
     "output_type": "execute_result"
    }
   ],
   "source": [
    "file_pheno_pedig.Subject.describe()"
   ]
  },
  {
   "cell_type": "code",
   "execution_count": 43,
   "metadata": {},
   "outputs": [],
   "source": [
    "# Build pedigre : ID , mo, fo, hhID, mztwins,sex\n",
    "mother_id = [\"mo_{}\".format(row.Mother_ID) for ind, row in file_pheno_pedig.iterrows()]\n",
    "father_id = [\"fa_{}\".format(row.Mother_ID) for ind, row in file_pheno_pedig.iterrows()]\n",
    "household_id = [\"hh_{}\".format(row.Mother_ID) for ind, row in file_pheno_pedig.iterrows()]\n",
    "twin_id = [\"pair_{}\".format(row.Mother_ID) if row.Zygosity == \"MZ\" else \"\" for ind, row in file_pheno_pedig.iterrows()]"
   ]
  },
  {
   "cell_type": "code",
   "execution_count": 44,
   "metadata": {},
   "outputs": [
    {
     "name": "stdout",
     "output_type": "stream",
     "text": [
      "head\n"
     ]
    },
    {
     "data": {
      "text/html": [
       "<div>\n",
       "<style>\n",
       "    .dataframe thead tr:only-child th {\n",
       "        text-align: right;\n",
       "    }\n",
       "\n",
       "    .dataframe thead th {\n",
       "        text-align: left;\n",
       "    }\n",
       "\n",
       "    .dataframe tbody tr th {\n",
       "        vertical-align: top;\n",
       "    }\n",
       "</style>\n",
       "<table border=\"1\" class=\"dataframe\">\n",
       "  <thead>\n",
       "    <tr style=\"text-align: right;\">\n",
       "      <th></th>\n",
       "      <th>ID</th>\n",
       "      <th>fa</th>\n",
       "      <th>mo</th>\n",
       "      <th>sex</th>\n",
       "      <th>mztwin</th>\n",
       "      <th>hhID</th>\n",
       "    </tr>\n",
       "  </thead>\n",
       "  <tbody>\n",
       "    <tr>\n",
       "      <th>0</th>\n",
       "      <td>HCP100206</td>\n",
       "      <td>fa_56037.0</td>\n",
       "      <td>mo_56037.0</td>\n",
       "      <td>1</td>\n",
       "      <td></td>\n",
       "      <td>hh_56037.0</td>\n",
       "    </tr>\n",
       "    <tr>\n",
       "      <th>1</th>\n",
       "      <td>HCP100307</td>\n",
       "      <td>fa_51488.0</td>\n",
       "      <td>mo_51488.0</td>\n",
       "      <td>2</td>\n",
       "      <td></td>\n",
       "      <td>hh_51488.0</td>\n",
       "    </tr>\n",
       "    <tr>\n",
       "      <th>2</th>\n",
       "      <td>HCP100408</td>\n",
       "      <td>fa_51730.0</td>\n",
       "      <td>mo_51730.0</td>\n",
       "      <td>1</td>\n",
       "      <td>pair_51730.0</td>\n",
       "      <td>hh_51730.0</td>\n",
       "    </tr>\n",
       "    <tr>\n",
       "      <th>3</th>\n",
       "      <td>HCP100610</td>\n",
       "      <td>fa_52813.0</td>\n",
       "      <td>mo_52813.0</td>\n",
       "      <td>1</td>\n",
       "      <td></td>\n",
       "      <td>hh_52813.0</td>\n",
       "    </tr>\n",
       "    <tr>\n",
       "      <th>4</th>\n",
       "      <td>HCP101006</td>\n",
       "      <td>fa_51283.0</td>\n",
       "      <td>mo_51283.0</td>\n",
       "      <td>2</td>\n",
       "      <td>pair_51283.0</td>\n",
       "      <td>hh_51283.0</td>\n",
       "    </tr>\n",
       "  </tbody>\n",
       "</table>\n",
       "</div>"
      ],
      "text/plain": [
       "          ID          fa          mo  sex        mztwin        hhID\n",
       "0  HCP100206  fa_56037.0  mo_56037.0    1                hh_56037.0\n",
       "1  HCP100307  fa_51488.0  mo_51488.0    2                hh_51488.0\n",
       "2  HCP100408  fa_51730.0  mo_51730.0    1  pair_51730.0  hh_51730.0\n",
       "3  HCP100610  fa_52813.0  mo_52813.0    1                hh_52813.0\n",
       "4  HCP101006  fa_51283.0  mo_51283.0    2  pair_51283.0  hh_51283.0"
      ]
     },
     "metadata": {},
     "output_type": "display_data"
    },
    {
     "name": "stdout",
     "output_type": "stream",
     "text": [
      "tail\n"
     ]
    },
    {
     "data": {
      "text/html": [
       "<div>\n",
       "<style>\n",
       "    .dataframe thead tr:only-child th {\n",
       "        text-align: right;\n",
       "    }\n",
       "\n",
       "    .dataframe thead th {\n",
       "        text-align: left;\n",
       "    }\n",
       "\n",
       "    .dataframe tbody tr th {\n",
       "        vertical-align: top;\n",
       "    }\n",
       "</style>\n",
       "<table border=\"1\" class=\"dataframe\">\n",
       "  <thead>\n",
       "    <tr style=\"text-align: right;\">\n",
       "      <th></th>\n",
       "      <th>ID</th>\n",
       "      <th>fa</th>\n",
       "      <th>mo</th>\n",
       "      <th>sex</th>\n",
       "      <th>mztwin</th>\n",
       "      <th>hhID</th>\n",
       "    </tr>\n",
       "  </thead>\n",
       "  <tbody>\n",
       "    <tr>\n",
       "      <th>798</th>\n",
       "      <td>HCP992673</td>\n",
       "      <td>fa_56143.0</td>\n",
       "      <td>mo_56143.0</td>\n",
       "      <td>2</td>\n",
       "      <td></td>\n",
       "      <td>hh_56143.0</td>\n",
       "    </tr>\n",
       "    <tr>\n",
       "      <th>799</th>\n",
       "      <td>HCP992774</td>\n",
       "      <td>fa_51345.0</td>\n",
       "      <td>mo_51345.0</td>\n",
       "      <td>1</td>\n",
       "      <td></td>\n",
       "      <td>hh_51345.0</td>\n",
       "    </tr>\n",
       "    <tr>\n",
       "      <th>800</th>\n",
       "      <td>HCP993675</td>\n",
       "      <td>fa_55800.0</td>\n",
       "      <td>mo_55800.0</td>\n",
       "      <td>2</td>\n",
       "      <td></td>\n",
       "      <td>hh_55800.0</td>\n",
       "    </tr>\n",
       "    <tr>\n",
       "      <th>801</th>\n",
       "      <td>HCP994273</td>\n",
       "      <td>fa_52364.0</td>\n",
       "      <td>mo_52364.0</td>\n",
       "      <td>1</td>\n",
       "      <td></td>\n",
       "      <td>hh_52364.0</td>\n",
       "    </tr>\n",
       "    <tr>\n",
       "      <th>802</th>\n",
       "      <td>HCP996782</td>\n",
       "      <td>fa_51541.0</td>\n",
       "      <td>mo_51541.0</td>\n",
       "      <td>2</td>\n",
       "      <td></td>\n",
       "      <td>hh_51541.0</td>\n",
       "    </tr>\n",
       "  </tbody>\n",
       "</table>\n",
       "</div>"
      ],
      "text/plain": [
       "            ID          fa          mo  sex mztwin        hhID\n",
       "798  HCP992673  fa_56143.0  mo_56143.0    2         hh_56143.0\n",
       "799  HCP992774  fa_51345.0  mo_51345.0    1         hh_51345.0\n",
       "800  HCP993675  fa_55800.0  mo_55800.0    2         hh_55800.0\n",
       "801  HCP994273  fa_52364.0  mo_52364.0    1         hh_52364.0\n",
       "802  HCP996782  fa_51541.0  mo_51541.0    2         hh_51541.0"
      ]
     },
     "metadata": {},
     "output_type": "display_data"
    },
    {
     "data": {
      "text/plain": [
       "ID        803\n",
       "fa        803\n",
       "mo        803\n",
       "sex       803\n",
       "mztwin    803\n",
       "hhID      803\n",
       "dtype: int64"
      ]
     },
     "execution_count": 44,
     "metadata": {},
     "output_type": "execute_result"
    }
   ],
   "source": [
    "# write into new data frame\n",
    "df_pedig = pd.DataFrame()\n",
    "df_pedig[\"ID\"] = file_pheno_pedig.Subject\n",
    "df_pedig[\"fa\"] = father_id\n",
    "df_pedig[\"mo\"] = mother_id\n",
    "df_pedig[\"sex\"] = file_pheno_pedig.Gender.astype(int)\n",
    "df_pedig[\"mztwin\"] = twin_id\n",
    "df_pedig[\"hhID\"] = household_id\n",
    "\n",
    "\n",
    "print(\"head\")\n",
    "display(df_pedig.head())\n",
    "print(\"tail\")\n",
    "display(df_pedig.tail())\n",
    "df_pedig.count()"
   ]
  },
  {
   "cell_type": "code",
   "execution_count": 45,
   "metadata": {
    "scrolled": false
   },
   "outputs": [],
   "source": [
    "# Look for MZ twins missing their co-twin\n",
    "uniques = list(df_pedig.mztwin.unique())\n",
    "uniques.pop(0)\n",
    "twin_counts = [np.sum(df_pedig.mztwin==twin) for twin in uniques]\n",
    "#for idx, twin in enumerate(uniques):\n",
    "    #print(\"{} occurs {} times\".format(twin, twin_counts[idx]))"
   ]
  },
  {
   "cell_type": "code",
   "execution_count": 46,
   "metadata": {},
   "outputs": [],
   "source": [
    "# create a mask that will kepp only MZ twins missing their co-twin\n",
    "singles = [True if np.sum(df_pedig.mztwin==row.mztwin)==1 else False for ind, row in df_pedig.iterrows()]"
   ]
  },
  {
   "cell_type": "code",
   "execution_count": 47,
   "metadata": {},
   "outputs": [],
   "source": [
    "# Make a copy of the pedigre to avoid missing up with the original data\n",
    "copy_df_pedig = df_pedig.copy()"
   ]
  },
  {
   "cell_type": "code",
   "execution_count": 48,
   "metadata": {
    "scrolled": true
   },
   "outputs": [
    {
     "data": {
      "text/html": [
       "<div>\n",
       "<style>\n",
       "    .dataframe thead tr:only-child th {\n",
       "        text-align: right;\n",
       "    }\n",
       "\n",
       "    .dataframe thead th {\n",
       "        text-align: left;\n",
       "    }\n",
       "\n",
       "    .dataframe tbody tr th {\n",
       "        vertical-align: top;\n",
       "    }\n",
       "</style>\n",
       "<table border=\"1\" class=\"dataframe\">\n",
       "  <thead>\n",
       "    <tr style=\"text-align: right;\">\n",
       "      <th></th>\n",
       "      <th>ID</th>\n",
       "      <th>fa</th>\n",
       "      <th>mo</th>\n",
       "      <th>sex</th>\n",
       "      <th>mztwin</th>\n",
       "      <th>hhID</th>\n",
       "    </tr>\n",
       "  </thead>\n",
       "  <tbody>\n",
       "    <tr>\n",
       "      <th>37</th>\n",
       "      <td>M_HCP110007</td>\n",
       "      <td>fa_54572.0</td>\n",
       "      <td>mo_54572.0</td>\n",
       "      <td>2</td>\n",
       "      <td>pair_54572.0</td>\n",
       "      <td>hh_54572.0</td>\n",
       "    </tr>\n",
       "    <tr>\n",
       "      <th>55</th>\n",
       "      <td>M_HCP114823</td>\n",
       "      <td>fa_52925.0</td>\n",
       "      <td>mo_52925.0</td>\n",
       "      <td>2</td>\n",
       "      <td>pair_52925.0</td>\n",
       "      <td>hh_52925.0</td>\n",
       "    </tr>\n",
       "    <tr>\n",
       "      <th>82</th>\n",
       "      <td>M_HCP122317</td>\n",
       "      <td>fa_51802.0</td>\n",
       "      <td>mo_51802.0</td>\n",
       "      <td>1</td>\n",
       "      <td>pair_51802.0</td>\n",
       "      <td>hh_51802.0</td>\n",
       "    </tr>\n",
       "    <tr>\n",
       "      <th>87</th>\n",
       "      <td>M_HCP123824</td>\n",
       "      <td>fa_56022.0</td>\n",
       "      <td>mo_56022.0</td>\n",
       "      <td>1</td>\n",
       "      <td>pair_56022.0</td>\n",
       "      <td>hh_56022.0</td>\n",
       "    </tr>\n",
       "    <tr>\n",
       "      <th>90</th>\n",
       "      <td>M_HCP124422</td>\n",
       "      <td>fa_51529.0</td>\n",
       "      <td>mo_51529.0</td>\n",
       "      <td>2</td>\n",
       "      <td>pair_51529.0</td>\n",
       "      <td>hh_51529.0</td>\n",
       "    </tr>\n",
       "  </tbody>\n",
       "</table>\n",
       "</div>"
      ],
      "text/plain": [
       "             ID          fa          mo  sex        mztwin        hhID\n",
       "37  M_HCP110007  fa_54572.0  mo_54572.0    2  pair_54572.0  hh_54572.0\n",
       "55  M_HCP114823  fa_52925.0  mo_52925.0    2  pair_52925.0  hh_52925.0\n",
       "82  M_HCP122317  fa_51802.0  mo_51802.0    1  pair_51802.0  hh_51802.0\n",
       "87  M_HCP123824  fa_56022.0  mo_56022.0    1  pair_56022.0  hh_56022.0\n",
       "90  M_HCP124422  fa_51529.0  mo_51529.0    2  pair_51529.0  hh_51529.0"
      ]
     },
     "metadata": {},
     "output_type": "display_data"
    },
    {
     "data": {
      "text/plain": [
       "ID        40\n",
       "fa        40\n",
       "mo        40\n",
       "sex       40\n",
       "mztwin    40\n",
       "hhID      40\n",
       "dtype: int64"
      ]
     },
     "execution_count": 48,
     "metadata": {},
     "output_type": "execute_result"
    }
   ],
   "source": [
    "# Select only MZ twins missing their co-twin\n",
    "df_single_pedig = copy_df_pedig[singles]\n",
    "\n",
    "# Add \"M_\" (for missing) to a the single MZ twins\n",
    "for i, row in df_single_pedig.iterrows():\n",
    "    df_single_pedig.set_value(i,\"ID\",\"M_{}\".format(row.ID))\n",
    "display(df_single_pedig.head())\n",
    "df_single_pedig.count()"
   ]
  },
  {
   "cell_type": "code",
   "execution_count": 49,
   "metadata": {
    "scrolled": true
   },
   "outputs": [
    {
     "data": {
      "text/html": [
       "<div>\n",
       "<style>\n",
       "    .dataframe thead tr:only-child th {\n",
       "        text-align: right;\n",
       "    }\n",
       "\n",
       "    .dataframe thead th {\n",
       "        text-align: left;\n",
       "    }\n",
       "\n",
       "    .dataframe tbody tr th {\n",
       "        vertical-align: top;\n",
       "    }\n",
       "</style>\n",
       "<table border=\"1\" class=\"dataframe\">\n",
       "  <thead>\n",
       "    <tr style=\"text-align: right;\">\n",
       "      <th></th>\n",
       "      <th>ID</th>\n",
       "      <th>fa</th>\n",
       "      <th>mo</th>\n",
       "      <th>sex</th>\n",
       "      <th>mztwin</th>\n",
       "      <th>hhID</th>\n",
       "    </tr>\n",
       "  </thead>\n",
       "  <tbody>\n",
       "    <tr>\n",
       "      <th>0</th>\n",
       "      <td>HCP100206</td>\n",
       "      <td>fa_56037.0</td>\n",
       "      <td>mo_56037.0</td>\n",
       "      <td>1</td>\n",
       "      <td></td>\n",
       "      <td>hh_56037.0</td>\n",
       "    </tr>\n",
       "    <tr>\n",
       "      <th>1</th>\n",
       "      <td>HCP100307</td>\n",
       "      <td>fa_51488.0</td>\n",
       "      <td>mo_51488.0</td>\n",
       "      <td>2</td>\n",
       "      <td></td>\n",
       "      <td>hh_51488.0</td>\n",
       "    </tr>\n",
       "    <tr>\n",
       "      <th>2</th>\n",
       "      <td>HCP100408</td>\n",
       "      <td>fa_51730.0</td>\n",
       "      <td>mo_51730.0</td>\n",
       "      <td>1</td>\n",
       "      <td>pair_51730.0</td>\n",
       "      <td>hh_51730.0</td>\n",
       "    </tr>\n",
       "    <tr>\n",
       "      <th>3</th>\n",
       "      <td>HCP100610</td>\n",
       "      <td>fa_52813.0</td>\n",
       "      <td>mo_52813.0</td>\n",
       "      <td>1</td>\n",
       "      <td></td>\n",
       "      <td>hh_52813.0</td>\n",
       "    </tr>\n",
       "    <tr>\n",
       "      <th>4</th>\n",
       "      <td>HCP101006</td>\n",
       "      <td>fa_51283.0</td>\n",
       "      <td>mo_51283.0</td>\n",
       "      <td>2</td>\n",
       "      <td>pair_51283.0</td>\n",
       "      <td>hh_51283.0</td>\n",
       "    </tr>\n",
       "  </tbody>\n",
       "</table>\n",
       "</div>"
      ],
      "text/plain": [
       "          ID          fa          mo  sex        mztwin        hhID\n",
       "0  HCP100206  fa_56037.0  mo_56037.0    1                hh_56037.0\n",
       "1  HCP100307  fa_51488.0  mo_51488.0    2                hh_51488.0\n",
       "2  HCP100408  fa_51730.0  mo_51730.0    1  pair_51730.0  hh_51730.0\n",
       "3  HCP100610  fa_52813.0  mo_52813.0    1                hh_52813.0\n",
       "4  HCP101006  fa_51283.0  mo_51283.0    2  pair_51283.0  hh_51283.0"
      ]
     },
     "execution_count": 49,
     "metadata": {},
     "output_type": "execute_result"
    }
   ],
   "source": [
    "# Append pedgree with fake co-twin for the missing one\n",
    "df_pedig_final = copy_df_pedig.append(df_single_pedig)\n",
    "df_pedig_final.head()"
   ]
  },
  {
   "cell_type": "code",
   "execution_count": 50,
   "metadata": {
    "scrolled": true
   },
   "outputs": [
    {
     "data": {
      "text/html": [
       "<div>\n",
       "<style>\n",
       "    .dataframe thead tr:only-child th {\n",
       "        text-align: right;\n",
       "    }\n",
       "\n",
       "    .dataframe thead th {\n",
       "        text-align: left;\n",
       "    }\n",
       "\n",
       "    .dataframe tbody tr th {\n",
       "        vertical-align: top;\n",
       "    }\n",
       "</style>\n",
       "<table border=\"1\" class=\"dataframe\">\n",
       "  <thead>\n",
       "    <tr style=\"text-align: right;\">\n",
       "      <th></th>\n",
       "      <th>ID</th>\n",
       "      <th>fa</th>\n",
       "      <th>mo</th>\n",
       "      <th>sex</th>\n",
       "      <th>mztwin</th>\n",
       "      <th>hhID</th>\n",
       "    </tr>\n",
       "  </thead>\n",
       "  <tbody>\n",
       "    <tr>\n",
       "      <th>695</th>\n",
       "      <td>M_HCP769064</td>\n",
       "      <td>fa_52803.0</td>\n",
       "      <td>mo_52803.0</td>\n",
       "      <td>1</td>\n",
       "      <td>pair_52803.0</td>\n",
       "      <td>hh_52803.0</td>\n",
       "    </tr>\n",
       "    <tr>\n",
       "      <th>722</th>\n",
       "      <td>M_HCP835657</td>\n",
       "      <td>fa_52137.0</td>\n",
       "      <td>mo_52137.0</td>\n",
       "      <td>2</td>\n",
       "      <td>pair_52137.0</td>\n",
       "      <td>hh_52137.0</td>\n",
       "    </tr>\n",
       "    <tr>\n",
       "      <th>724</th>\n",
       "      <td>M_HCP837964</td>\n",
       "      <td>fa_52875.0</td>\n",
       "      <td>mo_52875.0</td>\n",
       "      <td>2</td>\n",
       "      <td>pair_52875.0</td>\n",
       "      <td>hh_52875.0</td>\n",
       "    </tr>\n",
       "    <tr>\n",
       "      <th>766</th>\n",
       "      <td>M_HCP904044</td>\n",
       "      <td>fa_51290.0</td>\n",
       "      <td>mo_51290.0</td>\n",
       "      <td>2</td>\n",
       "      <td>pair_51290.0</td>\n",
       "      <td>hh_51290.0</td>\n",
       "    </tr>\n",
       "    <tr>\n",
       "      <th>790</th>\n",
       "      <td>M_HCP972566</td>\n",
       "      <td>fa_56077.0</td>\n",
       "      <td>mo_56077.0</td>\n",
       "      <td>2</td>\n",
       "      <td>pair_56077.0</td>\n",
       "      <td>hh_56077.0</td>\n",
       "    </tr>\n",
       "  </tbody>\n",
       "</table>\n",
       "</div>"
      ],
      "text/plain": [
       "              ID          fa          mo  sex        mztwin        hhID\n",
       "695  M_HCP769064  fa_52803.0  mo_52803.0    1  pair_52803.0  hh_52803.0\n",
       "722  M_HCP835657  fa_52137.0  mo_52137.0    2  pair_52137.0  hh_52137.0\n",
       "724  M_HCP837964  fa_52875.0  mo_52875.0    2  pair_52875.0  hh_52875.0\n",
       "766  M_HCP904044  fa_51290.0  mo_51290.0    2  pair_51290.0  hh_51290.0\n",
       "790  M_HCP972566  fa_56077.0  mo_56077.0    2  pair_56077.0  hh_56077.0"
      ]
     },
     "execution_count": 50,
     "metadata": {},
     "output_type": "execute_result"
    }
   ],
   "source": [
    "df_pedig_final.tail()"
   ]
  },
  {
   "cell_type": "code",
   "execution_count": 51,
   "metadata": {},
   "outputs": [
    {
     "data": {
      "text/plain": [
       "ID        843\n",
       "fa        843\n",
       "mo        843\n",
       "sex       843\n",
       "mztwin    843\n",
       "hhID      843\n",
       "dtype: int64"
      ]
     },
     "execution_count": 51,
     "metadata": {},
     "output_type": "execute_result"
    }
   ],
   "source": [
    "df_pedig_final.count()"
   ]
  },
  {
   "cell_type": "code",
   "execution_count": 52,
   "metadata": {},
   "outputs": [],
   "source": [
    "# Save the pedigree file\n",
    "df_pedig_final.to_csv(os.path.join(out_path,pedig_save), index=False)"
   ]
  },
  {
   "cell_type": "markdown",
   "metadata": {},
   "source": [
    "## Run SOLAR heritability estimate "
   ]
  },
  {
   "cell_type": "code",
   "execution_count": 53,
   "metadata": {},
   "outputs": [],
   "source": [
    "%%bash -s \"$out_path\" \"$solar_cov\" \"$solar_script\" \n",
    "cd $1 #cd to out_path\n",
    "#sufix=$(echo $2 | sed -e 's/ /_/g') # add a suffix of covariate\n",
    "sed -i \"104s/.*/$2/\" $3 # feed the covariate to solar script\n",
    "sed -i \"52s~.*~$1phi2.gz~\" $3 # put the right path for the simlink\n",
    "sed -i \"53s~.*~$1pedindex.out~\" $3\n",
    "sed -i \"54s~.*~$1pedindex.cde~\" $3\n",
    "sed -i \"55s~.*~$1se_univ_polygen.tcl~\" $3"
   ]
  },
  {
   "cell_type": "code",
   "execution_count": 54,
   "metadata": {},
   "outputs": [
    {
     "name": "stdout",
     "output_type": "stream",
     "text": [
      "\n",
      "SOLAR Eclipse version 8.1.1 (General), last updated on December 12, 2017\n",
      "Copyright (c) 1995-2017 Texas Biomedical Research Institute\n",
      "Enter help for help, exit to exit, doc to browse documentation.\n",
      "\n",
      "Unloading current pedigree data ...\n",
      "Loading pedigree data from the file solar_social_spm_pedigre.csv ...\n",
      "Running mibd relate ...                                                 \r",
      "Reading classes.tab ...                                                 \r",
      "Reading mibdrel.ped ...                                                 \r",
      "Writing output file ...                                                 \r",
      "                                                                        \r",
      "::::::::::::::\n",
      "mibdrel.tab\n",
      "::::::::::::::\n",
      "\n",
      "    NPairs  Relationship\n",
      "  ========  ===========================================\n",
      "      1571  Self\n",
      "       116  Identical sib pair\n",
      "      1686  Parent-offspring\n",
      "       592  Siblings\n",
      "       364  Unrelated\n",
      "\n"
     ]
    }
   ],
   "source": [
    "%%bash -s \"$out_path\" \"$pedig_save\"\n",
    "cd $1\n",
    "solar <<INTERNAL_SOLAR_SCRIPT  \n",
    "load pedi $2\n",
    "pedigree classes -full\n",
    "INTERNAL_SOLAR_SCRIPT"
   ]
  },
  {
   "cell_type": "code",
   "execution_count": 55,
   "metadata": {},
   "outputs": [
    {
     "name": "stdout",
     "output_type": "stream",
     "text": [
      "\n",
      "SOLAR Eclipse version 8.1.1 (General), last updated on December 12, 2017\n",
      "Copyright (c) 1995-2017 Texas Biomedical Research Institute\n",
      "Enter help for help, exit to exit, doc to browse documentation.\n",
      "\n",
      "Creating output directories...\n",
      "00000 : Set-0 : mental_sub1                                                  \r",
      "00001 : Set-1 : mental_sub2                                                  \r",
      "00002 : Set-2 : mental_sub3                                                  \r",
      "00003 : Set-3 : mental_sub4                                                  \r",
      "00004 : Set-4 : mental_sub5                                                  \r",
      "00005 : Set-5 : contrast_mental_vs_rnd_sub1                                                  \r",
      "00006 : Set-6 : contrast_mental_vs_rnd_sub2                                                  \r",
      "00007 : Set-7 : contrast_mental_vs_rnd_sub3                                                  \r",
      "00008 : Set-8 : contrast_mental_vs_rnd_sub4                                                  \r",
      "00009 : Set-9 : contrast_mental_vs_rnd_sub5                                                  \r",
      "00010 : Set-10 : BMI                                                  \r",
      "00011 : Set-11 : FD_mean                                                  \r",
      "00012 : Set-12 : FD_scrubbed_mean                                                  \r\n",
      "All done.\n"
     ]
    }
   ],
   "source": [
    "%%bash -s \"$out_path\" \"$pheno_save\" \"$solar_out\"\n",
    "cd $1\n",
    "#if [ ! -d $3 ]; then\n",
    "#   mkdir $3\n",
    "#fi\n",
    "solar <<INTERNAL_SOLAR_SCRIPT \n",
    "load pheno $2\n",
    "INTERNAL_SOLAR_SCRIPT\n",
    "bash fcd_solar_h2r_test.sh trait_file $3 $1$2\n",
    "for i in $3/Set-*; do bash $i/run_all.sh ; done"
   ]
  },
  {
   "cell_type": "markdown",
   "metadata": {},
   "source": [
    "## Results"
   ]
  },
  {
   "cell_type": "code",
   "execution_count": 56,
   "metadata": {},
   "outputs": [
    {
     "data": {
      "text/html": [
       "<div>\n",
       "<style>\n",
       "    .dataframe thead tr:only-child th {\n",
       "        text-align: right;\n",
       "    }\n",
       "\n",
       "    .dataframe thead th {\n",
       "        text-align: left;\n",
       "    }\n",
       "\n",
       "    .dataframe tbody tr th {\n",
       "        vertical-align: top;\n",
       "    }\n",
       "</style>\n",
       "<table border=\"1\" class=\"dataframe\">\n",
       "  <thead>\n",
       "    <tr style=\"text-align: right;\">\n",
       "      <th></th>\n",
       "      <th>Trait</th>\n",
       "      <th>H2r</th>\n",
       "      <th>P</th>\n",
       "      <th>CovVarianceExpl</th>\n",
       "    </tr>\n",
       "  </thead>\n",
       "  <tbody>\n",
       "    <tr>\n",
       "      <th>0</th>\n",
       "      <td>BMI_norm</td>\n",
       "      <td>0.542517</td>\n",
       "      <td>1.209626e-12</td>\n",
       "      <td>0.393134</td>\n",
       "    </tr>\n",
       "    <tr>\n",
       "      <th>1</th>\n",
       "      <td>FD_mean_norm</td>\n",
       "      <td>0.303006</td>\n",
       "      <td>6.490000e-05</td>\n",
       "      <td>0.790161</td>\n",
       "    </tr>\n",
       "    <tr>\n",
       "      <th>2</th>\n",
       "      <td>FD_scrubbed_mean_norm</td>\n",
       "      <td>0.053441</td>\n",
       "      <td>2.178340e-01</td>\n",
       "      <td>0.935168</td>\n",
       "    </tr>\n",
       "    <tr>\n",
       "      <th>3</th>\n",
       "      <td>contrast_mental_vs_rnd_sub1_norm</td>\n",
       "      <td>0.390694</td>\n",
       "      <td>1.399991e-08</td>\n",
       "      <td>0.002414</td>\n",
       "    </tr>\n",
       "    <tr>\n",
       "      <th>4</th>\n",
       "      <td>contrast_mental_vs_rnd_sub2_norm</td>\n",
       "      <td>0.202039</td>\n",
       "      <td>1.698000e-03</td>\n",
       "      <td>0.000456</td>\n",
       "    </tr>\n",
       "    <tr>\n",
       "      <th>5</th>\n",
       "      <td>contrast_mental_vs_rnd_sub3_norm</td>\n",
       "      <td>0.289739</td>\n",
       "      <td>3.860000e-05</td>\n",
       "      <td>0.000869</td>\n",
       "    </tr>\n",
       "    <tr>\n",
       "      <th>6</th>\n",
       "      <td>contrast_mental_vs_rnd_sub4_norm</td>\n",
       "      <td>0.108292</td>\n",
       "      <td>5.952560e-02</td>\n",
       "      <td>0.000282</td>\n",
       "    </tr>\n",
       "    <tr>\n",
       "      <th>7</th>\n",
       "      <td>contrast_mental_vs_rnd_sub5_norm</td>\n",
       "      <td>0.565559</td>\n",
       "      <td>7.771668e-19</td>\n",
       "      <td>0.001359</td>\n",
       "    </tr>\n",
       "    <tr>\n",
       "      <th>8</th>\n",
       "      <td>mental_sub1_norm</td>\n",
       "      <td>0.575279</td>\n",
       "      <td>1.224577e-17</td>\n",
       "      <td>0.000035</td>\n",
       "    </tr>\n",
       "    <tr>\n",
       "      <th>9</th>\n",
       "      <td>mental_sub2_norm</td>\n",
       "      <td>0.440498</td>\n",
       "      <td>2.848080e-09</td>\n",
       "      <td>0.011343</td>\n",
       "    </tr>\n",
       "    <tr>\n",
       "      <th>10</th>\n",
       "      <td>mental_sub3_norm</td>\n",
       "      <td>0.513230</td>\n",
       "      <td>2.918813e-13</td>\n",
       "      <td>0.001185</td>\n",
       "    </tr>\n",
       "    <tr>\n",
       "      <th>11</th>\n",
       "      <td>mental_sub4_norm</td>\n",
       "      <td>0.545709</td>\n",
       "      <td>2.409166e-15</td>\n",
       "      <td>0.002615</td>\n",
       "    </tr>\n",
       "    <tr>\n",
       "      <th>12</th>\n",
       "      <td>mental_sub5_norm</td>\n",
       "      <td>0.516459</td>\n",
       "      <td>1.462121e-13</td>\n",
       "      <td>0.000750</td>\n",
       "    </tr>\n",
       "  </tbody>\n",
       "</table>\n",
       "</div>"
      ],
      "text/plain": [
       "                               Trait       H2r             P  CovVarianceExpl\n",
       "0               BMI_norm              0.542517  1.209626e-12         0.393134\n",
       "1               FD_mean_norm          0.303006  6.490000e-05         0.790161\n",
       "2              FD_scrubbed_mean_norm  0.053441  2.178340e-01         0.935168\n",
       "3   contrast_mental_vs_rnd_sub1_norm  0.390694  1.399991e-08         0.002414\n",
       "4   contrast_mental_vs_rnd_sub2_norm  0.202039  1.698000e-03         0.000456\n",
       "5   contrast_mental_vs_rnd_sub3_norm  0.289739  3.860000e-05         0.000869\n",
       "6   contrast_mental_vs_rnd_sub4_norm  0.108292  5.952560e-02         0.000282\n",
       "7   contrast_mental_vs_rnd_sub5_norm  0.565559  7.771668e-19         0.001359\n",
       "8               mental_sub1_norm      0.575279  1.224577e-17         0.000035\n",
       "9               mental_sub2_norm      0.440498  2.848080e-09         0.011343\n",
       "10              mental_sub3_norm      0.513230  2.918813e-13         0.001185\n",
       "11              mental_sub4_norm      0.545709  2.409166e-15         0.002615\n",
       "12              mental_sub5_norm      0.516459  1.462121e-13         0.000750"
      ]
     },
     "execution_count": 56,
     "metadata": {},
     "output_type": "execute_result"
    }
   ],
   "source": [
    "out_herit = pd.read_csv(os.path.join(out_path,solar_out,\"se_out.out\"),sep=\"\\t\",header=None)\n",
    "out_herit_df =  pd.DataFrame()\n",
    "\n",
    "data = pd.DataFrame({\"Trait\": out_herit[2],\"H2r\": out_herit[4],\"P\": out_herit[7],\"CovVarianceExpl\": out_herit[9]})\n",
    "out_herit_df = data[[\"Trait\",\"H2r\",\"P\",\"CovVarianceExpl\"]].sort_values(['Trait'], ascending=[True]).reset_index(drop=True)\n",
    "out_herit_df"
   ]
  },
  {
   "cell_type": "code",
   "execution_count": 57,
   "metadata": {},
   "outputs": [],
   "source": [
    "# remove unwanted Variables\n",
    "out_herit_df_clean = out_herit_df[~out_herit_df['Trait'].str.strip().isin(['BMI_norm','FD_mean_norm','FD_scrubbed_mean_norm'])]"
   ]
  },
  {
   "cell_type": "code",
   "execution_count": 58,
   "metadata": {},
   "outputs": [],
   "source": [
    "# FDR\n",
    "from statsmodels.sandbox.stats import multicomp as smi\n",
    "pcorr_vec = smi.multipletests(out_herit_df_clean['P'], alpha=0.05, method='fdr_bh')\n",
    "out_herit_df_clean.insert(3,'FDR',pcorr_vec[1])\n",
    "out_herit_df_clean.insert(4,'FDR_log10',-np.log10(pcorr_vec[1]))"
   ]
  },
  {
   "cell_type": "code",
   "execution_count": 59,
   "metadata": {},
   "outputs": [
    {
     "data": {
      "text/html": [
       "<div>\n",
       "<style>\n",
       "    .dataframe thead tr:only-child th {\n",
       "        text-align: right;\n",
       "    }\n",
       "\n",
       "    .dataframe thead th {\n",
       "        text-align: left;\n",
       "    }\n",
       "\n",
       "    .dataframe tbody tr th {\n",
       "        vertical-align: top;\n",
       "    }\n",
       "</style>\n",
       "<table border=\"1\" class=\"dataframe\">\n",
       "  <thead>\n",
       "    <tr style=\"text-align: right;\">\n",
       "      <th></th>\n",
       "      <th>Trait</th>\n",
       "      <th>H2r</th>\n",
       "      <th>P</th>\n",
       "      <th>FDR</th>\n",
       "      <th>FDR_log10</th>\n",
       "      <th>CovVarianceExpl</th>\n",
       "    </tr>\n",
       "  </thead>\n",
       "  <tbody>\n",
       "    <tr>\n",
       "      <th>3</th>\n",
       "      <td>contrast_mental_vs_rnd_sub1_norm</td>\n",
       "      <td>0.390694</td>\n",
       "      <td>1.399991e-08</td>\n",
       "      <td>1.999987e-08</td>\n",
       "      <td>7.698973</td>\n",
       "      <td>0.002414</td>\n",
       "    </tr>\n",
       "    <tr>\n",
       "      <th>4</th>\n",
       "      <td>contrast_mental_vs_rnd_sub2_norm</td>\n",
       "      <td>0.202039</td>\n",
       "      <td>1.698000e-03</td>\n",
       "      <td>1.886667e-03</td>\n",
       "      <td>2.724305</td>\n",
       "      <td>0.000456</td>\n",
       "    </tr>\n",
       "    <tr>\n",
       "      <th>5</th>\n",
       "      <td>contrast_mental_vs_rnd_sub3_norm</td>\n",
       "      <td>0.289739</td>\n",
       "      <td>3.860000e-05</td>\n",
       "      <td>4.825000e-05</td>\n",
       "      <td>4.316503</td>\n",
       "      <td>0.000869</td>\n",
       "    </tr>\n",
       "    <tr>\n",
       "      <th>6</th>\n",
       "      <td>contrast_mental_vs_rnd_sub4_norm</td>\n",
       "      <td>0.108292</td>\n",
       "      <td>5.952560e-02</td>\n",
       "      <td>5.952560e-02</td>\n",
       "      <td>1.225296</td>\n",
       "      <td>0.000282</td>\n",
       "    </tr>\n",
       "    <tr>\n",
       "      <th>7</th>\n",
       "      <td>contrast_mental_vs_rnd_sub5_norm</td>\n",
       "      <td>0.565559</td>\n",
       "      <td>7.771668e-19</td>\n",
       "      <td>7.771667e-18</td>\n",
       "      <td>17.109486</td>\n",
       "      <td>0.001359</td>\n",
       "    </tr>\n",
       "    <tr>\n",
       "      <th>8</th>\n",
       "      <td>mental_sub1_norm</td>\n",
       "      <td>0.575279</td>\n",
       "      <td>1.224577e-17</td>\n",
       "      <td>6.122887e-17</td>\n",
       "      <td>16.213044</td>\n",
       "      <td>0.000035</td>\n",
       "    </tr>\n",
       "    <tr>\n",
       "      <th>9</th>\n",
       "      <td>mental_sub2_norm</td>\n",
       "      <td>0.440498</td>\n",
       "      <td>2.848080e-09</td>\n",
       "      <td>4.746800e-09</td>\n",
       "      <td>8.323599</td>\n",
       "      <td>0.011343</td>\n",
       "    </tr>\n",
       "    <tr>\n",
       "      <th>10</th>\n",
       "      <td>mental_sub3_norm</td>\n",
       "      <td>0.513230</td>\n",
       "      <td>2.918813e-13</td>\n",
       "      <td>5.837627e-13</td>\n",
       "      <td>12.233764</td>\n",
       "      <td>0.001185</td>\n",
       "    </tr>\n",
       "    <tr>\n",
       "      <th>11</th>\n",
       "      <td>mental_sub4_norm</td>\n",
       "      <td>0.545709</td>\n",
       "      <td>2.409166e-15</td>\n",
       "      <td>8.030554e-15</td>\n",
       "      <td>14.095254</td>\n",
       "      <td>0.002615</td>\n",
       "    </tr>\n",
       "    <tr>\n",
       "      <th>12</th>\n",
       "      <td>mental_sub5_norm</td>\n",
       "      <td>0.516459</td>\n",
       "      <td>1.462121e-13</td>\n",
       "      <td>3.655302e-13</td>\n",
       "      <td>12.437077</td>\n",
       "      <td>0.000750</td>\n",
       "    </tr>\n",
       "  </tbody>\n",
       "</table>\n",
       "</div>"
      ],
      "text/plain": [
       "                               Trait       H2r             P           FDR  \\\n",
       "3   contrast_mental_vs_rnd_sub1_norm  0.390694  1.399991e-08  1.999987e-08   \n",
       "4   contrast_mental_vs_rnd_sub2_norm  0.202039  1.698000e-03  1.886667e-03   \n",
       "5   contrast_mental_vs_rnd_sub3_norm  0.289739  3.860000e-05  4.825000e-05   \n",
       "6   contrast_mental_vs_rnd_sub4_norm  0.108292  5.952560e-02  5.952560e-02   \n",
       "7   contrast_mental_vs_rnd_sub5_norm  0.565559  7.771668e-19  7.771667e-18   \n",
       "8               mental_sub1_norm      0.575279  1.224577e-17  6.122887e-17   \n",
       "9               mental_sub2_norm      0.440498  2.848080e-09  4.746800e-09   \n",
       "10              mental_sub3_norm      0.513230  2.918813e-13  5.837627e-13   \n",
       "11              mental_sub4_norm      0.545709  2.409166e-15  8.030554e-15   \n",
       "12              mental_sub5_norm      0.516459  1.462121e-13  3.655302e-13   \n",
       "\n",
       "    FDR_log10  CovVarianceExpl  \n",
       "3    7.698973         0.002414  \n",
       "4    2.724305         0.000456  \n",
       "5    4.316503         0.000869  \n",
       "6    1.225296         0.000282  \n",
       "7   17.109486         0.001359  \n",
       "8   16.213044         0.000035  \n",
       "9    8.323599         0.011343  \n",
       "10  12.233764         0.001185  \n",
       "11  14.095254         0.002615  \n",
       "12  12.437077         0.000750  "
      ]
     },
     "execution_count": 59,
     "metadata": {},
     "output_type": "execute_result"
    }
   ],
   "source": [
    "out_herit_df_clean"
   ]
  },
  {
   "cell_type": "code",
   "execution_count": 60,
   "metadata": {},
   "outputs": [],
   "source": [
    "# Loop over trait and create heritability table for radar plot\n",
    "#drop_list = ['BMI','FD_mean','FD_scrubbed_mean','Handedness']\n",
    "#list_new = [x for x in new_list if x not in drop_list ]"
   ]
  },
  {
   "cell_type": "code",
   "execution_count": 147,
   "metadata": {},
   "outputs": [
    {
     "data": {
      "text/plain": [
       "'contrast_mental_vs_rnd'"
      ]
     },
     "execution_count": 147,
     "metadata": {},
     "output_type": "execute_result"
    }
   ],
   "source": [
    "trait_herit"
   ]
  },
  {
   "cell_type": "code",
   "execution_count": 180,
   "metadata": {},
   "outputs": [
    {
     "data": {
      "image/png": "[encoded data removed]",
      "text/plain": [
       "<matplotlib.figure.Figure at 0x7f36aa4d3fd0>"
      ]
     },
     "metadata": {},
     "output_type": "display_data"
    },
    {
     "data": {
      "text/html": [
       "<div>\n",
       "<style>\n",
       "    .dataframe thead tr:only-child th {\n",
       "        text-align: right;\n",
       "    }\n",
       "\n",
       "    .dataframe thead th {\n",
       "        text-align: left;\n",
       "    }\n",
       "\n",
       "    .dataframe tbody tr th {\n",
       "        vertical-align: top;\n",
       "    }\n",
       "</style>\n",
       "<table border=\"1\" class=\"dataframe\">\n",
       "  <thead>\n",
       "    <tr style=\"text-align: right;\">\n",
       "      <th>Subt</th>\n",
       "      <th>sub1</th>\n",
       "      <th>sub2</th>\n",
       "      <th>sub3</th>\n",
       "      <th>sub4</th>\n",
       "      <th>sub5</th>\n",
       "    </tr>\n",
       "  </thead>\n",
       "  <tbody>\n",
       "    <tr>\n",
       "      <th>H2R</th>\n",
       "      <td>0.575279</td>\n",
       "      <td>0.440498</td>\n",
       "      <td>0.51323</td>\n",
       "      <td>0.545709</td>\n",
       "      <td>0.516459</td>\n",
       "    </tr>\n",
       "  </tbody>\n",
       "</table>\n",
       "</div>"
      ],
      "text/plain": [
       "Subt      sub1      sub2     sub3      sub4      sub5\n",
       "H2R   0.575279  0.440498  0.51323  0.545709  0.516459"
      ]
     },
     "metadata": {},
     "output_type": "display_data"
    },
    {
     "data": {
      "image/png": "[encoded data removed]",
      "text/plain": [
       "<matplotlib.figure.Figure at 0x7f36aa1e8b38>"
      ]
     },
     "metadata": {},
     "output_type": "display_data"
    },
    {
     "data": {
      "text/html": [
       "<div>\n",
       "<style>\n",
       "    .dataframe thead tr:only-child th {\n",
       "        text-align: right;\n",
       "    }\n",
       "\n",
       "    .dataframe thead th {\n",
       "        text-align: left;\n",
       "    }\n",
       "\n",
       "    .dataframe tbody tr th {\n",
       "        vertical-align: top;\n",
       "    }\n",
       "</style>\n",
       "<table border=\"1\" class=\"dataframe\">\n",
       "  <thead>\n",
       "    <tr style=\"text-align: right;\">\n",
       "      <th>Subt</th>\n",
       "      <th>sub1</th>\n",
       "      <th>sub2</th>\n",
       "      <th>sub3</th>\n",
       "      <th>sub4</th>\n",
       "      <th>sub5</th>\n",
       "    </tr>\n",
       "  </thead>\n",
       "  <tbody>\n",
       "    <tr>\n",
       "      <th>H2R</th>\n",
       "      <td>0.390694</td>\n",
       "      <td>0.202039</td>\n",
       "      <td>0.289739</td>\n",
       "      <td>0.108292</td>\n",
       "      <td>0.565559</td>\n",
       "    </tr>\n",
       "  </tbody>\n",
       "</table>\n",
       "</div>"
      ],
      "text/plain": [
       "Subt      sub1      sub2      sub3      sub4      sub5\n",
       "H2R   0.390694  0.202039  0.289739  0.108292  0.565559"
      ]
     },
     "metadata": {},
     "output_type": "display_data"
    }
   ],
   "source": [
    "## Loop over trait and create heritability table for radar plot\n",
    "#list_trial = [xx.replace('-','_') for xx in list_trial]\n",
    "list_sbt = ['sub1','sub2','sub3','sub4','sub5']\n",
    "for trait_herit in list_trial:\n",
    "    mask_df = [x[:-10] == trait_herit for x in out_herit_df_clean.Trait.str.strip()]\n",
    "    out_herit_select = out_herit_df_clean[['Trait','H2r']][mask_df]\n",
    "    # extract trial\n",
    "    column_net = [' '.join(row['Trait'].split('_')[0:-2]) for ind,row in out_herit_select[['Trait']].iterrows()]\n",
    "    out_herit_select.loc[:,'Trial'] = column_net\n",
    "    # extract subtype\n",
    "    column_subt = [row['Trait'].split('_')[-2].strip() for ind,row in out_herit_select[['Trait']].iterrows()]\n",
    "    out_herit_select.loc[:,'Subt'] = column_subt\n",
    "    out_herit_clean = out_herit_select[['Trial','Subt','H2r']]\n",
    "    # Pivot table\n",
    "    out_herit_final = out_herit_clean.pivot(index='Trial',columns='Subt',values='H2r')\n",
    "    out_herit_final.index.name=None\n",
    "    out_herit_final.rename(index={column_net[1]: 'H2R'},inplace= True)\n",
    "    #put 0 for non for empty heritabity\n",
    "    for ii in list_sbt:\n",
    "        if ii not in out_herit_final.columns.get_values():\n",
    "            out_herit_final.loc[:,ii]=0\n",
    "    out_herit_final=out_herit_final[list_sbt]\n",
    "    out_herit_final.to_csv(os.path.join(out_path,solar_out,h2r_out_file.format(task_name,trait_herit)))\n",
    "    # H2R bar plot\n",
    "    fig,ax = plt.subplots(figsize=(5, 4))\n",
    "    y_pos = np.arange(len(out_herit_final.columns))\n",
    "    ax.bar(y_pos,out_herit_final.ix['H2R'],color=\"#c18c41\",alpha=0.4,align = 'center',width=0.85)\n",
    "    ax.set_xticks(y_pos)\n",
    "    ax.set_xticklabels(list_sbt)\n",
    "    ax.set_ylim(0,1)\n",
    "    ax.set_ylabel('H2R')\n",
    "    #ax.grid(False)\n",
    "    plt.title('{} task {}'.format(task_name,trait_herit))\n",
    "    plt.show()\n",
    "    fig.savefig(os.path.join(subt_path,\"{}_barplot_heritability.svg\".format(trait_herit)))\n",
    "    display(out_herit_final)"
   ]
  },
  {
   "cell_type": "code",
   "execution_count": 149,
   "metadata": {},
   "outputs": [],
   "source": [
    "##### R section #########"
   ]
  },
  {
   "cell_type": "code",
   "execution_count": 150,
   "metadata": {},
   "outputs": [],
   "source": [
    "# first on terminal install cairo : \"sudo apt install libcairo2-dev\"\n",
    "# devtools::install_github(\"hadley/svglite\")\n",
    "# devtools::install_github(\"ricardo-bion/ggradar\", dependencies=TRUE)\n",
    "import warnings\n",
    "warnings.filterwarnings('ignore')"
   ]
  },
  {
   "cell_type": "code",
   "execution_count": 151,
   "metadata": {},
   "outputs": [],
   "source": [
    "%%R\n",
    "library(ggradar)\n",
    "suppressPackageStartupMessages(library(dplyr))\n",
    "library(scales)\n",
    "require(\"ggplot2\")"
   ]
  },
  {
   "cell_type": "code",
   "execution_count": 152,
   "metadata": {
    "scrolled": false
   },
   "outputs": [
    {
     "data": {
      "image/png": "[encoded data removed]"
     },
     "metadata": {},
     "output_type": "display_data"
    },
    {
     "data": {
      "image/png": "[encoded data removed]"
     },
     "metadata": {},
     "output_type": "display_data"
    }
   ],
   "source": [
    "%%R -i out_path,solar_out,task_name,list_trial,path_root\n",
    "for (ii in list_trial) {\n",
    "    MyData <- read.csv(file=paste(out_path,solar_out,\"/h2r_solar_\",task_name,'_spm_',ii,'.csv',sep = ''))\n",
    "    # plot radar \n",
    "    image=ggradar(MyData, grid.min = 0,\n",
    "                  grid.mid = 0.5, \n",
    "                  grid.max = 1, \n",
    "                  axis.label.size = 4, \n",
    "                  grid.label.size = 5 ,\n",
    "                  legend.text.size =5) +\n",
    "    theme(legend.text = element_text(size = 12),plot.title = element_text( face=\"bold\",size = 12)) + \n",
    "    ggtitle(paste(' \\n  ',toupper(ii),sep = ''))\n",
    "    ggsave(file=paste(path_root,\"subtypes_scores/26-10-2016/subtype_5_spm_SOCIAL_18-Oct-2017/\" ,ii,\"_heritability.svg\",sep = ''), plot=image, width=10, height=8)\n",
    "    print(image)\n",
    "     }"
   ]
  },
  {
   "cell_type": "code",
   "execution_count": null,
   "metadata": {
    "collapsed": true
   },
   "outputs": [],
   "source": []
  }
 ],
 "metadata": {
  "anaconda-cloud": {},
  "kernelspec": {
   "display_name": "Python 3",
   "language": "python",
   "name": "python3"
  },
  "language_info": {
   "codemirror_mode": {
    "name": "ipython",
    "version": 3
   },
   "file_extension": ".py",
   "mimetype": "text/x-python",
   "name": "python",
   "nbconvert_exporter": "python",
   "pygments_lexer": "ipython3",
   "version": "3.5.2"
  },
  "varInspector": {
   "cols": {
    "lenName": 16,
    "lenType": 16,
    "lenVar": 40
   },
   "kernels_config": {
    "python": {
     "delete_cmd_postfix": "",
     "delete_cmd_prefix": "del ",
     "library": "var_list.py",
     "varRefreshCmd": "print(var_dic_list())"
    },
    "r": {
     "delete_cmd_postfix": ") ",
     "delete_cmd_prefix": "rm(",
     "library": "var_list.r",
     "varRefreshCmd": "cat(var_dic_list()) "
    }
   },
   "types_to_exclude": [
    "module",
    "function",
    "builtin_function_or_method",
    "instance",
    "_Feature"
   ],
   "window_display": false
  },
  "widgets": {
   "state": {},
   "version": "1.1.2"
  }
 },
 "nbformat": 4,
 "nbformat_minor": 1
}
