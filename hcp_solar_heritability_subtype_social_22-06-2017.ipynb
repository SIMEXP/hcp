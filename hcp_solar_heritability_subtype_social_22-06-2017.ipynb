{
 "cells": [
  {
   "cell_type": "markdown",
   "metadata": {},
   "source": [
    "# Heritability estimate on subtype from social activation maps"
   ]
  },
  {
   "cell_type": "markdown",
   "metadata": {
    "collapsed": true
   },
   "source": [
    "##### Subtype:\n",
    "- Niak preprocessed SOCIAL task (new scrub method)\n",
    "- 5 subtype\n",
    "- **FD_scrubbed_mean regressed out befor building subtypes**\n",
    "\n",
    "##### Heritability:\n",
    "- Regress \"FD_scrubbed_mean\" \"Age_in_Yrs\" \"Gender\" as covariate\n",
    "\n",
    "\n",
    "## Build Pheno file"
   ]
  },
  {
   "cell_type": "markdown",
   "metadata": {},
   "source": [
    "### Merge behavioral variables with subtypes weights"
   ]
  },
  {
   "cell_type": "code",
   "execution_count": 1,
   "metadata": {},
   "outputs": [],
   "source": [
    "# Import pandas\n",
    "import os\n",
    "import pandas as pd\n",
    "import numpy as np\n",
    "from IPython.display import display\n",
    "import time"
   ]
  },
  {
   "cell_type": "code",
   "execution_count": 2,
   "metadata": {},
   "outputs": [],
   "source": [
    "%matplotlib inline\n",
    "%load_ext rpy2.ipython"
   ]
  },
  {
   "cell_type": "code",
   "execution_count": 3,
   "metadata": {
    "collapsed": true
   },
   "outputs": [],
   "source": [
    "task_name = 'social'"
   ]
  },
  {
   "cell_type": "code",
   "execution_count": 4,
   "metadata": {
    "collapsed": true
   },
   "outputs": [],
   "source": [
    "# Set up the paths \n",
    "path_root = \"/home/yassinebha/Drive/HCP/\"\n",
    "net_path = os.path.join(path_root,\"subtypes_scores/26-10-2016/subtype_5_spm_SOCIAL_18-Jun-2017/networks/\")\n",
    "out_path = os.path.join(path_root,\"Solar_heritability/HCP_subtype/\")"
   ]
  },
  {
   "cell_type": "code",
   "execution_count": 5,
   "metadata": {},
   "outputs": [],
   "source": [
    "# Set up files name\n",
    "sbt_name_pattern = \"sbt_weights_net_{}.csv\"\n",
    "pheno_path = os.path.join(path_root,\"subtypes_scores/26-10-2016/pheno/hcp_pheno_{}_raw.csv\".format(task_name))\n",
    "solar_script = 'fcd_solar_h2r_test.sh'\n",
    "pheno_save = 'solar_social_spm_pheno.csv'.format(task_name)\n",
    "pedig_save = 'solar_social_spm_pedigre.csv'.format(task_name)\n",
    "solar_out = 'subtype_5_{}_{}'.format(task_name,time.strftime(\"%d-%m-%Y\"))\n",
    "h2r_out_file = 'h2r_solar_{}_spm_{}.csv'\n",
    "## Solar covariates\n",
    "solar_cov = '    cov FD_scrubbed_mean Gender'"
   ]
  },
  {
   "cell_type": "code",
   "execution_count": 6,
   "metadata": {},
   "outputs": [
    {
     "data": {
      "text/plain": [
       "['contrast_mental_vs_rnd', 'mental', 'rnd']"
      ]
     },
     "execution_count": 6,
     "metadata": {},
     "output_type": "execute_result"
    }
   ],
   "source": [
    "# List of network names\n",
    "list_trial = os.listdir(net_path)\n",
    "list_trial"
   ]
  },
  {
   "cell_type": "code",
   "execution_count": 7,
   "metadata": {},
   "outputs": [],
   "source": [
    "# Loop over each network and build weight file\n",
    "for index, trial_name in enumerate(list_trial):\n",
    "    file_path = os.path.join(net_path, trial_name, sbt_name_pattern.format(trial_name))\n",
    "    if not os.path.exists(file_path):\n",
    "        print(\"Hello, {} does not exist\".format(file_path))\n",
    "    \n",
    "    tmp_weights = pd.read_csv(file_path)\n",
    "    # Rename first column\n",
    "    tmp_weights.rename(columns={\" \":\"Subject\"}, inplace=True)\n",
    "    tmp_weights.Subject = tmp_weights.Subject.str.strip(\" \")\n",
    "    \n",
    "    rename_dict = dict()\n",
    "    for colname in tmp_weights.columns:\n",
    "        if colname == \"Subject\":\n",
    "            continue\n",
    "        else:\n",
    "            new_name = \"{}_{}\".format(trial_name, colname)\n",
    "            # Get rid of trailing whitespace\n",
    "            new_name = new_name.strip(\" \")\n",
    "            rename_dict[colname] = new_name\n",
    "\n",
    "    tmp_weights.rename(columns=rename_dict, inplace=True)\n",
    "    \n",
    "    if index==0:\n",
    "        dataframe = tmp_weights\n",
    "    else:\n",
    "        dataframe = pd.merge(dataframe, tmp_weights, on=\"Subject\", how=\"inner\")"
   ]
  },
  {
   "cell_type": "code",
   "execution_count": 8,
   "metadata": {},
   "outputs": [
    {
     "data": {
      "text/html": [
       "<div>\n",
       "<table border=\"1\" class=\"dataframe\">\n",
       "  <thead>\n",
       "    <tr style=\"text-align: right;\">\n",
       "      <th></th>\n",
       "      <th>Subject</th>\n",
       "      <th>contrast_mental_vs_rnd_sub1</th>\n",
       "      <th>contrast_mental_vs_rnd_sub2</th>\n",
       "      <th>contrast_mental_vs_rnd_sub3</th>\n",
       "      <th>contrast_mental_vs_rnd_sub4</th>\n",
       "      <th>contrast_mental_vs_rnd_sub5</th>\n",
       "      <th>mental_sub1</th>\n",
       "      <th>mental_sub2</th>\n",
       "      <th>mental_sub3</th>\n",
       "      <th>mental_sub4</th>\n",
       "      <th>mental_sub5</th>\n",
       "      <th>rnd_sub1</th>\n",
       "      <th>rnd_sub2</th>\n",
       "      <th>rnd_sub3</th>\n",
       "      <th>rnd_sub4</th>\n",
       "      <th>rnd_sub5</th>\n",
       "    </tr>\n",
       "  </thead>\n",
       "  <tbody>\n",
       "    <tr>\n",
       "      <th>0</th>\n",
       "      <td>HCP100206</td>\n",
       "      <td>0.022</td>\n",
       "      <td>-0.170</td>\n",
       "      <td>0.153</td>\n",
       "      <td>0.189</td>\n",
       "      <td>-0.181</td>\n",
       "      <td>-0.174</td>\n",
       "      <td>0.273</td>\n",
       "      <td>0.241</td>\n",
       "      <td>-0.228</td>\n",
       "      <td>-0.190</td>\n",
       "      <td>0.356</td>\n",
       "      <td>-0.158</td>\n",
       "      <td>-0.438</td>\n",
       "      <td>-0.030</td>\n",
       "      <td>0.468</td>\n",
       "    </tr>\n",
       "    <tr>\n",
       "      <th>1</th>\n",
       "      <td>HCP100307</td>\n",
       "      <td>-0.370</td>\n",
       "      <td>0.279</td>\n",
       "      <td>0.023</td>\n",
       "      <td>-0.439</td>\n",
       "      <td>0.228</td>\n",
       "      <td>0.285</td>\n",
       "      <td>-0.612</td>\n",
       "      <td>-0.613</td>\n",
       "      <td>0.599</td>\n",
       "      <td>0.264</td>\n",
       "      <td>-0.493</td>\n",
       "      <td>0.257</td>\n",
       "      <td>0.658</td>\n",
       "      <td>-0.133</td>\n",
       "      <td>-0.672</td>\n",
       "    </tr>\n",
       "    <tr>\n",
       "      <th>2</th>\n",
       "      <td>HCP100408</td>\n",
       "      <td>0.262</td>\n",
       "      <td>-0.249</td>\n",
       "      <td>0.008</td>\n",
       "      <td>0.310</td>\n",
       "      <td>-0.154</td>\n",
       "      <td>-0.057</td>\n",
       "      <td>0.302</td>\n",
       "      <td>0.236</td>\n",
       "      <td>-0.281</td>\n",
       "      <td>-0.228</td>\n",
       "      <td>0.431</td>\n",
       "      <td>-0.003</td>\n",
       "      <td>-0.386</td>\n",
       "      <td>-0.283</td>\n",
       "      <td>0.403</td>\n",
       "    </tr>\n",
       "    <tr>\n",
       "      <th>3</th>\n",
       "      <td>HCP100610</td>\n",
       "      <td>0.006</td>\n",
       "      <td>-0.096</td>\n",
       "      <td>-0.115</td>\n",
       "      <td>-0.106</td>\n",
       "      <td>0.230</td>\n",
       "      <td>-0.008</td>\n",
       "      <td>-0.236</td>\n",
       "      <td>-0.246</td>\n",
       "      <td>0.243</td>\n",
       "      <td>0.246</td>\n",
       "      <td>-0.197</td>\n",
       "      <td>0.014</td>\n",
       "      <td>0.341</td>\n",
       "      <td>-0.097</td>\n",
       "      <td>-0.308</td>\n",
       "    </tr>\n",
       "    <tr>\n",
       "      <th>4</th>\n",
       "      <td>HCP101006</td>\n",
       "      <td>-0.001</td>\n",
       "      <td>0.005</td>\n",
       "      <td>0.134</td>\n",
       "      <td>-0.036</td>\n",
       "      <td>-0.098</td>\n",
       "      <td>-0.129</td>\n",
       "      <td>-0.200</td>\n",
       "      <td>-0.182</td>\n",
       "      <td>0.251</td>\n",
       "      <td>0.129</td>\n",
       "      <td>-0.254</td>\n",
       "      <td>-0.197</td>\n",
       "      <td>0.227</td>\n",
       "      <td>0.314</td>\n",
       "      <td>-0.201</td>\n",
       "    </tr>\n",
       "  </tbody>\n",
       "</table>\n",
       "</div>"
      ],
      "text/plain": [
       "     Subject  contrast_mental_vs_rnd_sub1  contrast_mental_vs_rnd_sub2  \\\n",
       "0  HCP100206                        0.022                       -0.170   \n",
       "1  HCP100307                       -0.370                        0.279   \n",
       "2  HCP100408                        0.262                       -0.249   \n",
       "3  HCP100610                        0.006                       -0.096   \n",
       "4  HCP101006                       -0.001                        0.005   \n",
       "\n",
       "   contrast_mental_vs_rnd_sub3  contrast_mental_vs_rnd_sub4  \\\n",
       "0                        0.153                        0.189   \n",
       "1                        0.023                       -0.439   \n",
       "2                        0.008                        0.310   \n",
       "3                       -0.115                       -0.106   \n",
       "4                        0.134                       -0.036   \n",
       "\n",
       "   contrast_mental_vs_rnd_sub5  mental_sub1  mental_sub2  mental_sub3  \\\n",
       "0                       -0.181       -0.174        0.273        0.241   \n",
       "1                        0.228        0.285       -0.612       -0.613   \n",
       "2                       -0.154       -0.057        0.302        0.236   \n",
       "3                        0.230       -0.008       -0.236       -0.246   \n",
       "4                       -0.098       -0.129       -0.200       -0.182   \n",
       "\n",
       "   mental_sub4  mental_sub5  rnd_sub1  rnd_sub2  rnd_sub3  rnd_sub4  rnd_sub5  \n",
       "0       -0.228       -0.190     0.356    -0.158    -0.438    -0.030     0.468  \n",
       "1        0.599        0.264    -0.493     0.257     0.658    -0.133    -0.672  \n",
       "2       -0.281       -0.228     0.431    -0.003    -0.386    -0.283     0.403  \n",
       "3        0.243        0.246    -0.197     0.014     0.341    -0.097    -0.308  \n",
       "4        0.251        0.129    -0.254    -0.197     0.227     0.314    -0.201  "
      ]
     },
     "execution_count": 8,
     "metadata": {},
     "output_type": "execute_result"
    }
   ],
   "source": [
    "dataframe.head()"
   ]
  },
  {
   "cell_type": "code",
   "execution_count": 9,
   "metadata": {
    "scrolled": true
   },
   "outputs": [
    {
     "data": {
      "text/plain": [
       "count           788\n",
       "unique          788\n",
       "top       HCP759869\n",
       "freq              1\n",
       "Name: Subject, dtype: object"
      ]
     },
     "execution_count": 9,
     "metadata": {},
     "output_type": "execute_result"
    }
   ],
   "source": [
    "dataframe.Subject.describe()"
   ]
  },
  {
   "cell_type": "code",
   "execution_count": 10,
   "metadata": {},
   "outputs": [],
   "source": [
    "# Load pheno file\n",
    "file_weight = dataframe\n",
    "file_pheno = pd.read_csv(pheno_path)"
   ]
  },
  {
   "cell_type": "code",
   "execution_count": 11,
   "metadata": {},
   "outputs": [
    {
     "data": {
      "text/html": [
       "<div>\n",
       "<table border=\"1\" class=\"dataframe\">\n",
       "  <thead>\n",
       "    <tr style=\"text-align: right;\">\n",
       "      <th></th>\n",
       "      <th>Unnamed: 0</th>\n",
       "      <th>FD_RL</th>\n",
       "      <th>FD_scrubbed_RL</th>\n",
       "      <th>FD_LR</th>\n",
       "      <th>FD_scrubbed_LR</th>\n",
       "      <th>FD_scrubbed_mean</th>\n",
       "      <th>FD_mean</th>\n",
       "      <th>Subject</th>\n",
       "      <th>Age_in_Yrs</th>\n",
       "      <th>Gender</th>\n",
       "      <th>...</th>\n",
       "      <th>BMI</th>\n",
       "      <th>cluster_1</th>\n",
       "      <th>cluster_2</th>\n",
       "      <th>cluster_3</th>\n",
       "      <th>cluster_4</th>\n",
       "      <th>cluster_5</th>\n",
       "      <th>cluster_6</th>\n",
       "      <th>cluster_7</th>\n",
       "      <th>cluster_8</th>\n",
       "      <th>cluster_9</th>\n",
       "    </tr>\n",
       "  </thead>\n",
       "  <tbody>\n",
       "    <tr>\n",
       "      <th>0</th>\n",
       "      <td>HCP100206</td>\n",
       "      <td>0.084949</td>\n",
       "      <td>0.084949</td>\n",
       "      <td>0.096656</td>\n",
       "      <td>0.096656</td>\n",
       "      <td>0.090803</td>\n",
       "      <td>0.090803</td>\n",
       "      <td>HCP100206</td>\n",
       "      <td>27.0</td>\n",
       "      <td>1.0</td>\n",
       "      <td>...</td>\n",
       "      <td>26.64</td>\n",
       "      <td>-1.143794</td>\n",
       "      <td>1.304835</td>\n",
       "      <td>1.285918</td>\n",
       "      <td>-0.034336</td>\n",
       "      <td>0.205086</td>\n",
       "      <td>0.053396</td>\n",
       "      <td>0.090798</td>\n",
       "      <td>-0.512524</td>\n",
       "      <td>-0.118881</td>\n",
       "    </tr>\n",
       "    <tr>\n",
       "      <th>1</th>\n",
       "      <td>HCP100307</td>\n",
       "      <td>0.098119</td>\n",
       "      <td>0.098119</td>\n",
       "      <td>0.087372</td>\n",
       "      <td>0.087372</td>\n",
       "      <td>0.092746</td>\n",
       "      <td>0.092746</td>\n",
       "      <td>HCP100307</td>\n",
       "      <td>27.0</td>\n",
       "      <td>2.0</td>\n",
       "      <td>...</td>\n",
       "      <td>22.96</td>\n",
       "      <td>-0.528411</td>\n",
       "      <td>0.493464</td>\n",
       "      <td>0.523816</td>\n",
       "      <td>-0.600763</td>\n",
       "      <td>0.386336</td>\n",
       "      <td>-0.953060</td>\n",
       "      <td>-0.958070</td>\n",
       "      <td>-0.143309</td>\n",
       "      <td>-0.722473</td>\n",
       "    </tr>\n",
       "    <tr>\n",
       "      <th>2</th>\n",
       "      <td>HCP100408</td>\n",
       "      <td>0.103292</td>\n",
       "      <td>0.103292</td>\n",
       "      <td>0.135210</td>\n",
       "      <td>0.135210</td>\n",
       "      <td>0.119251</td>\n",
       "      <td>0.119251</td>\n",
       "      <td>HCP100408</td>\n",
       "      <td>33.0</td>\n",
       "      <td>1.0</td>\n",
       "      <td>...</td>\n",
       "      <td>27.75</td>\n",
       "      <td>-0.236296</td>\n",
       "      <td>0.020266</td>\n",
       "      <td>0.092588</td>\n",
       "      <td>0.114286</td>\n",
       "      <td>-0.084017</td>\n",
       "      <td>-0.522003</td>\n",
       "      <td>0.619392</td>\n",
       "      <td>0.219196</td>\n",
       "      <td>1.037169</td>\n",
       "    </tr>\n",
       "    <tr>\n",
       "      <th>3</th>\n",
       "      <td>HCP100610</td>\n",
       "      <td>0.179657</td>\n",
       "      <td>0.179657</td>\n",
       "      <td>0.189551</td>\n",
       "      <td>0.189551</td>\n",
       "      <td>0.184604</td>\n",
       "      <td>0.184604</td>\n",
       "      <td>HCP100610</td>\n",
       "      <td>27.0</td>\n",
       "      <td>1.0</td>\n",
       "      <td>...</td>\n",
       "      <td>36.91</td>\n",
       "      <td>2.022214</td>\n",
       "      <td>0.895451</td>\n",
       "      <td>-0.361691</td>\n",
       "      <td>1.234488</td>\n",
       "      <td>0.709151</td>\n",
       "      <td>-0.882736</td>\n",
       "      <td>-0.323026</td>\n",
       "      <td>-0.199254</td>\n",
       "      <td>0.459399</td>\n",
       "    </tr>\n",
       "    <tr>\n",
       "      <th>4</th>\n",
       "      <td>HCP101006</td>\n",
       "      <td>0.145925</td>\n",
       "      <td>0.145925</td>\n",
       "      <td>0.124287</td>\n",
       "      <td>0.124287</td>\n",
       "      <td>0.135106</td>\n",
       "      <td>0.135106</td>\n",
       "      <td>HCP101006</td>\n",
       "      <td>35.0</td>\n",
       "      <td>2.0</td>\n",
       "      <td>...</td>\n",
       "      <td>30.27</td>\n",
       "      <td>0.591952</td>\n",
       "      <td>-1.191472</td>\n",
       "      <td>0.037988</td>\n",
       "      <td>-0.682910</td>\n",
       "      <td>-0.516141</td>\n",
       "      <td>0.056823</td>\n",
       "      <td>-0.275139</td>\n",
       "      <td>-0.310782</td>\n",
       "      <td>0.308365</td>\n",
       "    </tr>\n",
       "  </tbody>\n",
       "</table>\n",
       "<p>5 rows × 24 columns</p>\n",
       "</div>"
      ],
      "text/plain": [
       "  Unnamed: 0     FD_RL  FD_scrubbed_RL     FD_LR  FD_scrubbed_LR  \\\n",
       "0  HCP100206  0.084949        0.084949  0.096656        0.096656   \n",
       "1  HCP100307  0.098119        0.098119  0.087372        0.087372   \n",
       "2  HCP100408  0.103292        0.103292  0.135210        0.135210   \n",
       "3  HCP100610  0.179657        0.179657  0.189551        0.189551   \n",
       "4  HCP101006  0.145925        0.145925  0.124287        0.124287   \n",
       "\n",
       "   FD_scrubbed_mean   FD_mean    Subject  Age_in_Yrs  Gender    ...      \\\n",
       "0          0.090803  0.090803  HCP100206        27.0     1.0    ...       \n",
       "1          0.092746  0.092746  HCP100307        27.0     2.0    ...       \n",
       "2          0.119251  0.119251  HCP100408        33.0     1.0    ...       \n",
       "3          0.184604  0.184604  HCP100610        27.0     1.0    ...       \n",
       "4          0.135106  0.135106  HCP101006        35.0     2.0    ...       \n",
       "\n",
       "     BMI cluster_1 cluster_2  cluster_3  cluster_4  cluster_5  cluster_6  \\\n",
       "0  26.64 -1.143794  1.304835   1.285918  -0.034336   0.205086   0.053396   \n",
       "1  22.96 -0.528411  0.493464   0.523816  -0.600763   0.386336  -0.953060   \n",
       "2  27.75 -0.236296  0.020266   0.092588   0.114286  -0.084017  -0.522003   \n",
       "3  36.91  2.022214  0.895451  -0.361691   1.234488   0.709151  -0.882736   \n",
       "4  30.27  0.591952 -1.191472   0.037988  -0.682910  -0.516141   0.056823   \n",
       "\n",
       "   cluster_7  cluster_8  cluster_9  \n",
       "0   0.090798  -0.512524  -0.118881  \n",
       "1  -0.958070  -0.143309  -0.722473  \n",
       "2   0.619392   0.219196   1.037169  \n",
       "3  -0.323026  -0.199254   0.459399  \n",
       "4  -0.275139  -0.310782   0.308365  \n",
       "\n",
       "[5 rows x 24 columns]"
      ]
     },
     "execution_count": 11,
     "metadata": {},
     "output_type": "execute_result"
    }
   ],
   "source": [
    "file_pheno.head()"
   ]
  },
  {
   "cell_type": "code",
   "execution_count": 12,
   "metadata": {},
   "outputs": [
    {
     "data": {
      "text/plain": [
       "count           808\n",
       "unique          808\n",
       "top       HCP170934\n",
       "freq              1\n",
       "Name: Subject, dtype: object"
      ]
     },
     "execution_count": 12,
     "metadata": {},
     "output_type": "execute_result"
    }
   ],
   "source": [
    "file_pheno.Subject.describe()"
   ]
  },
  {
   "cell_type": "code",
   "execution_count": 13,
   "metadata": {
    "scrolled": true
   },
   "outputs": [
    {
     "data": {
      "text/html": [
       "<div>\n",
       "<table border=\"1\" class=\"dataframe\">\n",
       "  <thead>\n",
       "    <tr style=\"text-align: right;\">\n",
       "      <th></th>\n",
       "      <th>Subject</th>\n",
       "      <th>Age_in_Yrs</th>\n",
       "      <th>Handedness</th>\n",
       "      <th>Gender</th>\n",
       "      <th>BMI</th>\n",
       "      <th>FD_mean</th>\n",
       "      <th>FD_scrubbed_mean</th>\n",
       "    </tr>\n",
       "  </thead>\n",
       "  <tbody>\n",
       "    <tr>\n",
       "      <th>0</th>\n",
       "      <td>HCP100206</td>\n",
       "      <td>27.0</td>\n",
       "      <td>65.0</td>\n",
       "      <td>1.0</td>\n",
       "      <td>26.64</td>\n",
       "      <td>0.090803</td>\n",
       "      <td>0.090803</td>\n",
       "    </tr>\n",
       "    <tr>\n",
       "      <th>1</th>\n",
       "      <td>HCP100307</td>\n",
       "      <td>27.0</td>\n",
       "      <td>95.0</td>\n",
       "      <td>2.0</td>\n",
       "      <td>22.96</td>\n",
       "      <td>0.092746</td>\n",
       "      <td>0.092746</td>\n",
       "    </tr>\n",
       "    <tr>\n",
       "      <th>2</th>\n",
       "      <td>HCP100408</td>\n",
       "      <td>33.0</td>\n",
       "      <td>55.0</td>\n",
       "      <td>1.0</td>\n",
       "      <td>27.75</td>\n",
       "      <td>0.119251</td>\n",
       "      <td>0.119251</td>\n",
       "    </tr>\n",
       "    <tr>\n",
       "      <th>3</th>\n",
       "      <td>HCP100610</td>\n",
       "      <td>27.0</td>\n",
       "      <td>85.0</td>\n",
       "      <td>1.0</td>\n",
       "      <td>36.91</td>\n",
       "      <td>0.184604</td>\n",
       "      <td>0.184604</td>\n",
       "    </tr>\n",
       "    <tr>\n",
       "      <th>4</th>\n",
       "      <td>HCP101006</td>\n",
       "      <td>35.0</td>\n",
       "      <td>90.0</td>\n",
       "      <td>2.0</td>\n",
       "      <td>30.27</td>\n",
       "      <td>0.135106</td>\n",
       "      <td>0.135106</td>\n",
       "    </tr>\n",
       "  </tbody>\n",
       "</table>\n",
       "</div>"
      ],
      "text/plain": [
       "     Subject  Age_in_Yrs  Handedness  Gender    BMI   FD_mean  \\\n",
       "0  HCP100206        27.0        65.0     1.0  26.64  0.090803   \n",
       "1  HCP100307        27.0        95.0     2.0  22.96  0.092746   \n",
       "2  HCP100408        33.0        55.0     1.0  27.75  0.119251   \n",
       "3  HCP100610        27.0        85.0     1.0  36.91  0.184604   \n",
       "4  HCP101006        35.0        90.0     2.0  30.27  0.135106   \n",
       "\n",
       "   FD_scrubbed_mean  \n",
       "0          0.090803  \n",
       "1          0.092746  \n",
       "2          0.119251  \n",
       "3          0.184604  \n",
       "4          0.135106  "
      ]
     },
     "execution_count": 13,
     "metadata": {},
     "output_type": "execute_result"
    }
   ],
   "source": [
    "# Select a subset of variable\n",
    "file_pheno_subset = file_pheno[[\"Subject\",\"Age_in_Yrs\",\"Handedness\",\"Gender\",\"BMI\",\"FD_mean\",\"FD_scrubbed_mean\"]]\n",
    "file_pheno_subset.head()"
   ]
  },
  {
   "cell_type": "code",
   "execution_count": 14,
   "metadata": {},
   "outputs": [],
   "source": [
    "# Replace gender M=1 and F=2\n",
    "#file_pheno_subset.Gender.replace({'M':1,'F':2}, inplace=True)\n",
    "#file_pheno_subset.head()"
   ]
  },
  {
   "cell_type": "code",
   "execution_count": 15,
   "metadata": {},
   "outputs": [
    {
     "data": {
      "text/html": [
       "<div>\n",
       "<table border=\"1\" class=\"dataframe\">\n",
       "  <thead>\n",
       "    <tr style=\"text-align: right;\">\n",
       "      <th></th>\n",
       "      <th>Subject</th>\n",
       "    </tr>\n",
       "  </thead>\n",
       "  <tbody>\n",
       "    <tr>\n",
       "      <th>count</th>\n",
       "      <td>808</td>\n",
       "    </tr>\n",
       "    <tr>\n",
       "      <th>unique</th>\n",
       "      <td>808</td>\n",
       "    </tr>\n",
       "    <tr>\n",
       "      <th>top</th>\n",
       "      <td>HCP170934</td>\n",
       "    </tr>\n",
       "    <tr>\n",
       "      <th>freq</th>\n",
       "      <td>1</td>\n",
       "    </tr>\n",
       "  </tbody>\n",
       "</table>\n",
       "</div>"
      ],
      "text/plain": [
       "          Subject\n",
       "count         808\n",
       "unique        808\n",
       "top     HCP170934\n",
       "freq            1"
      ]
     },
     "execution_count": 15,
     "metadata": {},
     "output_type": "execute_result"
    }
   ],
   "source": [
    "file_pheno_subset[[\"Subject\"]].describe()"
   ]
  },
  {
   "cell_type": "code",
   "execution_count": 16,
   "metadata": {},
   "outputs": [
    {
     "data": {
      "text/html": [
       "<div>\n",
       "<table border=\"1\" class=\"dataframe\">\n",
       "  <thead>\n",
       "    <tr style=\"text-align: right;\">\n",
       "      <th></th>\n",
       "      <th>Subject</th>\n",
       "    </tr>\n",
       "  </thead>\n",
       "  <tbody>\n",
       "    <tr>\n",
       "      <th>count</th>\n",
       "      <td>788</td>\n",
       "    </tr>\n",
       "    <tr>\n",
       "      <th>unique</th>\n",
       "      <td>788</td>\n",
       "    </tr>\n",
       "    <tr>\n",
       "      <th>top</th>\n",
       "      <td>HCP759869</td>\n",
       "    </tr>\n",
       "    <tr>\n",
       "      <th>freq</th>\n",
       "      <td>1</td>\n",
       "    </tr>\n",
       "  </tbody>\n",
       "</table>\n",
       "</div>"
      ],
      "text/plain": [
       "          Subject\n",
       "count         788\n",
       "unique        788\n",
       "top     HCP759869\n",
       "freq            1"
      ]
     },
     "execution_count": 16,
     "metadata": {},
     "output_type": "execute_result"
    }
   ],
   "source": [
    "file_weight[[\"Subject\"]].describe()"
   ]
  },
  {
   "cell_type": "code",
   "execution_count": 17,
   "metadata": {},
   "outputs": [
    {
     "data": {
      "text/html": [
       "<div>\n",
       "<table border=\"1\" class=\"dataframe\">\n",
       "  <thead>\n",
       "    <tr style=\"text-align: right;\">\n",
       "      <th></th>\n",
       "      <th>ID</th>\n",
       "      <th>contrast_mental_vs_rnd_sub1</th>\n",
       "      <th>contrast_mental_vs_rnd_sub2</th>\n",
       "      <th>contrast_mental_vs_rnd_sub3</th>\n",
       "      <th>contrast_mental_vs_rnd_sub4</th>\n",
       "      <th>contrast_mental_vs_rnd_sub5</th>\n",
       "      <th>mental_sub1</th>\n",
       "      <th>mental_sub2</th>\n",
       "      <th>mental_sub3</th>\n",
       "      <th>mental_sub4</th>\n",
       "      <th>...</th>\n",
       "      <th>rnd_sub2</th>\n",
       "      <th>rnd_sub3</th>\n",
       "      <th>rnd_sub4</th>\n",
       "      <th>rnd_sub5</th>\n",
       "      <th>Age_in_Yrs</th>\n",
       "      <th>Handedness</th>\n",
       "      <th>Gender</th>\n",
       "      <th>BMI</th>\n",
       "      <th>FD_mean</th>\n",
       "      <th>FD_scrubbed_mean</th>\n",
       "    </tr>\n",
       "  </thead>\n",
       "  <tbody>\n",
       "    <tr>\n",
       "      <th>0</th>\n",
       "      <td>HCP100206</td>\n",
       "      <td>0.022</td>\n",
       "      <td>-0.170</td>\n",
       "      <td>0.153</td>\n",
       "      <td>0.189</td>\n",
       "      <td>-0.181</td>\n",
       "      <td>-0.174</td>\n",
       "      <td>0.273</td>\n",
       "      <td>0.241</td>\n",
       "      <td>-0.228</td>\n",
       "      <td>...</td>\n",
       "      <td>-0.158</td>\n",
       "      <td>-0.438</td>\n",
       "      <td>-0.030</td>\n",
       "      <td>0.468</td>\n",
       "      <td>27.0</td>\n",
       "      <td>65.0</td>\n",
       "      <td>1.0</td>\n",
       "      <td>26.64</td>\n",
       "      <td>0.090803</td>\n",
       "      <td>0.090803</td>\n",
       "    </tr>\n",
       "    <tr>\n",
       "      <th>1</th>\n",
       "      <td>HCP100307</td>\n",
       "      <td>-0.370</td>\n",
       "      <td>0.279</td>\n",
       "      <td>0.023</td>\n",
       "      <td>-0.439</td>\n",
       "      <td>0.228</td>\n",
       "      <td>0.285</td>\n",
       "      <td>-0.612</td>\n",
       "      <td>-0.613</td>\n",
       "      <td>0.599</td>\n",
       "      <td>...</td>\n",
       "      <td>0.257</td>\n",
       "      <td>0.658</td>\n",
       "      <td>-0.133</td>\n",
       "      <td>-0.672</td>\n",
       "      <td>27.0</td>\n",
       "      <td>95.0</td>\n",
       "      <td>2.0</td>\n",
       "      <td>22.96</td>\n",
       "      <td>0.092746</td>\n",
       "      <td>0.092746</td>\n",
       "    </tr>\n",
       "    <tr>\n",
       "      <th>2</th>\n",
       "      <td>HCP100408</td>\n",
       "      <td>0.262</td>\n",
       "      <td>-0.249</td>\n",
       "      <td>0.008</td>\n",
       "      <td>0.310</td>\n",
       "      <td>-0.154</td>\n",
       "      <td>-0.057</td>\n",
       "      <td>0.302</td>\n",
       "      <td>0.236</td>\n",
       "      <td>-0.281</td>\n",
       "      <td>...</td>\n",
       "      <td>-0.003</td>\n",
       "      <td>-0.386</td>\n",
       "      <td>-0.283</td>\n",
       "      <td>0.403</td>\n",
       "      <td>33.0</td>\n",
       "      <td>55.0</td>\n",
       "      <td>1.0</td>\n",
       "      <td>27.75</td>\n",
       "      <td>0.119251</td>\n",
       "      <td>0.119251</td>\n",
       "    </tr>\n",
       "    <tr>\n",
       "      <th>3</th>\n",
       "      <td>HCP100610</td>\n",
       "      <td>0.006</td>\n",
       "      <td>-0.096</td>\n",
       "      <td>-0.115</td>\n",
       "      <td>-0.106</td>\n",
       "      <td>0.230</td>\n",
       "      <td>-0.008</td>\n",
       "      <td>-0.236</td>\n",
       "      <td>-0.246</td>\n",
       "      <td>0.243</td>\n",
       "      <td>...</td>\n",
       "      <td>0.014</td>\n",
       "      <td>0.341</td>\n",
       "      <td>-0.097</td>\n",
       "      <td>-0.308</td>\n",
       "      <td>27.0</td>\n",
       "      <td>85.0</td>\n",
       "      <td>1.0</td>\n",
       "      <td>36.91</td>\n",
       "      <td>0.184604</td>\n",
       "      <td>0.184604</td>\n",
       "    </tr>\n",
       "    <tr>\n",
       "      <th>4</th>\n",
       "      <td>HCP101006</td>\n",
       "      <td>-0.001</td>\n",
       "      <td>0.005</td>\n",
       "      <td>0.134</td>\n",
       "      <td>-0.036</td>\n",
       "      <td>-0.098</td>\n",
       "      <td>-0.129</td>\n",
       "      <td>-0.200</td>\n",
       "      <td>-0.182</td>\n",
       "      <td>0.251</td>\n",
       "      <td>...</td>\n",
       "      <td>-0.197</td>\n",
       "      <td>0.227</td>\n",
       "      <td>0.314</td>\n",
       "      <td>-0.201</td>\n",
       "      <td>35.0</td>\n",
       "      <td>90.0</td>\n",
       "      <td>2.0</td>\n",
       "      <td>30.27</td>\n",
       "      <td>0.135106</td>\n",
       "      <td>0.135106</td>\n",
       "    </tr>\n",
       "  </tbody>\n",
       "</table>\n",
       "<p>5 rows × 22 columns</p>\n",
       "</div>"
      ],
      "text/plain": [
       "          ID  contrast_mental_vs_rnd_sub1  contrast_mental_vs_rnd_sub2  \\\n",
       "0  HCP100206                        0.022                       -0.170   \n",
       "1  HCP100307                       -0.370                        0.279   \n",
       "2  HCP100408                        0.262                       -0.249   \n",
       "3  HCP100610                        0.006                       -0.096   \n",
       "4  HCP101006                       -0.001                        0.005   \n",
       "\n",
       "   contrast_mental_vs_rnd_sub3  contrast_mental_vs_rnd_sub4  \\\n",
       "0                        0.153                        0.189   \n",
       "1                        0.023                       -0.439   \n",
       "2                        0.008                        0.310   \n",
       "3                       -0.115                       -0.106   \n",
       "4                        0.134                       -0.036   \n",
       "\n",
       "   contrast_mental_vs_rnd_sub5  mental_sub1  mental_sub2  mental_sub3  \\\n",
       "0                       -0.181       -0.174        0.273        0.241   \n",
       "1                        0.228        0.285       -0.612       -0.613   \n",
       "2                       -0.154       -0.057        0.302        0.236   \n",
       "3                        0.230       -0.008       -0.236       -0.246   \n",
       "4                       -0.098       -0.129       -0.200       -0.182   \n",
       "\n",
       "   mental_sub4        ...         rnd_sub2  rnd_sub3  rnd_sub4  rnd_sub5  \\\n",
       "0       -0.228        ...           -0.158    -0.438    -0.030     0.468   \n",
       "1        0.599        ...            0.257     0.658    -0.133    -0.672   \n",
       "2       -0.281        ...           -0.003    -0.386    -0.283     0.403   \n",
       "3        0.243        ...            0.014     0.341    -0.097    -0.308   \n",
       "4        0.251        ...           -0.197     0.227     0.314    -0.201   \n",
       "\n",
       "   Age_in_Yrs  Handedness  Gender    BMI   FD_mean  FD_scrubbed_mean  \n",
       "0        27.0        65.0     1.0  26.64  0.090803          0.090803  \n",
       "1        27.0        95.0     2.0  22.96  0.092746          0.092746  \n",
       "2        33.0        55.0     1.0  27.75  0.119251          0.119251  \n",
       "3        27.0        85.0     1.0  36.91  0.184604          0.184604  \n",
       "4        35.0        90.0     2.0  30.27  0.135106          0.135106  \n",
       "\n",
       "[5 rows x 22 columns]"
      ]
     },
     "execution_count": 17,
     "metadata": {},
     "output_type": "execute_result"
    }
   ],
   "source": [
    "# Merge weight with subset of pheno variables\n",
    "merged_weight_pheno = pd.merge(file_weight, file_pheno_subset, on='Subject', how='left')\n",
    "# Replace 'Subject' by 'ID'\n",
    "merged_weight_pheno.rename(columns={'Subject':'ID'},inplace=True)\n",
    "merged_weight_pheno.head()"
   ]
  },
  {
   "cell_type": "code",
   "execution_count": 18,
   "metadata": {},
   "outputs": [
    {
     "data": {
      "text/plain": [
       "count           788\n",
       "unique          788\n",
       "top       HCP759869\n",
       "freq              1\n",
       "Name: ID, dtype: object"
      ]
     },
     "execution_count": 18,
     "metadata": {},
     "output_type": "execute_result"
    }
   ],
   "source": [
    "merged_weight_pheno.ID.describe()"
   ]
  },
  {
   "cell_type": "code",
   "execution_count": 19,
   "metadata": {},
   "outputs": [
    {
     "data": {
      "text/plain": [
       "0"
      ]
     },
     "execution_count": 19,
     "metadata": {},
     "output_type": "execute_result"
    }
   ],
   "source": [
    "# Check if there is empty value in BMI\n",
    "sum(merged_weight_pheno.BMI.isnull())"
   ]
  },
  {
   "cell_type": "code",
   "execution_count": 20,
   "metadata": {},
   "outputs": [],
   "source": [
    "# Save the merged file\n",
    "merged_weight_pheno.to_csv(os.path.join(out_path,pheno_save), index=False)"
   ]
  },
  {
   "cell_type": "code",
   "execution_count": 21,
   "metadata": {},
   "outputs": [
    {
     "data": {
      "text/plain": [
       "'/home/yassinebha/Drive/HCP/Solar_heritability/HCP_subtype/solar_social_spm_pheno.csv'"
      ]
     },
     "execution_count": 21,
     "metadata": {},
     "output_type": "execute_result"
    }
   ],
   "source": [
    "os.path.join(out_path,pheno_save)"
   ]
  },
  {
   "cell_type": "markdown",
   "metadata": {},
   "source": [
    "## Build trait file"
   ]
  },
  {
   "cell_type": "code",
   "execution_count": 22,
   "metadata": {},
   "outputs": [
    {
     "data": {
      "text/plain": [
       "['contrast_mental_vs_rnd_sub1',\n",
       " 'contrast_mental_vs_rnd_sub2',\n",
       " 'contrast_mental_vs_rnd_sub3',\n",
       " 'contrast_mental_vs_rnd_sub4',\n",
       " 'contrast_mental_vs_rnd_sub5',\n",
       " 'mental_sub1',\n",
       " 'mental_sub2',\n",
       " 'mental_sub3',\n",
       " 'mental_sub4',\n",
       " 'mental_sub5',\n",
       " 'rnd_sub1',\n",
       " 'rnd_sub2',\n",
       " 'rnd_sub3',\n",
       " 'rnd_sub4',\n",
       " 'rnd_sub5',\n",
       " 'Handedness',\n",
       " 'BMI',\n",
       " 'FD_mean',\n",
       " 'FD_scrubbed_mean']"
      ]
     },
     "execution_count": 22,
     "metadata": {},
     "output_type": "execute_result"
    }
   ],
   "source": [
    "## build trait file\n",
    "# Remove not neaded traits\n",
    "list_trait = merged_weight_pheno.columns.tolist()\n",
    "new_list = [trait for trait in list_trait if trait not in ['ID','Age_in_Yrs','Gender']]\n",
    "new_list"
   ]
  },
  {
   "cell_type": "code",
   "execution_count": 23,
   "metadata": {},
   "outputs": [],
   "source": [
    "# Save trait file\n",
    "file_out = open(os.path.join(out_path,\"trait_file\"), 'w')\n",
    "for item in new_list:\n",
    "    file_out.write(\"%s\\n\" % item)\n",
    "file_out.close()"
   ]
  },
  {
   "cell_type": "markdown",
   "metadata": {},
   "source": [
    "## Build Pedigree file"
   ]
  },
  {
   "cell_type": "code",
   "execution_count": 24,
   "metadata": {},
   "outputs": [
    {
     "data": {
      "text/html": [
       "<div>\n",
       "<table border=\"1\" class=\"dataframe\">\n",
       "  <thead>\n",
       "    <tr style=\"text-align: right;\">\n",
       "      <th></th>\n",
       "      <th>Subject</th>\n",
       "      <th>Twin_Stat</th>\n",
       "      <th>Zygosity</th>\n",
       "      <th>Mother_ID</th>\n",
       "      <th>Gender</th>\n",
       "    </tr>\n",
       "  </thead>\n",
       "  <tbody>\n",
       "    <tr>\n",
       "      <th>0</th>\n",
       "      <td>HCP100206</td>\n",
       "      <td>NotTwin</td>\n",
       "      <td>NotTwin</td>\n",
       "      <td>56037.0</td>\n",
       "      <td>1.0</td>\n",
       "    </tr>\n",
       "    <tr>\n",
       "      <th>1</th>\n",
       "      <td>HCP100307</td>\n",
       "      <td>Twin</td>\n",
       "      <td>NotMZ</td>\n",
       "      <td>51488.0</td>\n",
       "      <td>2.0</td>\n",
       "    </tr>\n",
       "    <tr>\n",
       "      <th>2</th>\n",
       "      <td>HCP100408</td>\n",
       "      <td>Twin</td>\n",
       "      <td>MZ</td>\n",
       "      <td>51730.0</td>\n",
       "      <td>1.0</td>\n",
       "    </tr>\n",
       "    <tr>\n",
       "      <th>3</th>\n",
       "      <td>HCP100610</td>\n",
       "      <td>Twin</td>\n",
       "      <td>NotMZ</td>\n",
       "      <td>52813.0</td>\n",
       "      <td>1.0</td>\n",
       "    </tr>\n",
       "    <tr>\n",
       "      <th>4</th>\n",
       "      <td>HCP101006</td>\n",
       "      <td>Twin</td>\n",
       "      <td>MZ</td>\n",
       "      <td>51283.0</td>\n",
       "      <td>2.0</td>\n",
       "    </tr>\n",
       "  </tbody>\n",
       "</table>\n",
       "</div>"
      ],
      "text/plain": [
       "     Subject Twin_Stat Zygosity  Mother_ID  Gender\n",
       "0  HCP100206   NotTwin  NotTwin    56037.0     1.0\n",
       "1  HCP100307      Twin    NotMZ    51488.0     2.0\n",
       "2  HCP100408      Twin       MZ    51730.0     1.0\n",
       "3  HCP100610      Twin    NotMZ    52813.0     1.0\n",
       "4  HCP101006      Twin       MZ    51283.0     2.0"
      ]
     },
     "execution_count": 24,
     "metadata": {},
     "output_type": "execute_result"
    }
   ],
   "source": [
    "# Select a subset of variable from pheno file\n",
    "file_pheno_pedig = file_pheno[[\"Subject\",\"Twin_Stat\",\"Zygosity\",\"Mother_ID\",\"Gender\"]]\n",
    "file_pheno_pedig.head()"
   ]
  },
  {
   "cell_type": "code",
   "execution_count": 25,
   "metadata": {},
   "outputs": [
    {
     "data": {
      "text/plain": [
       "count           808\n",
       "unique          808\n",
       "top       HCP170934\n",
       "freq              1\n",
       "Name: Subject, dtype: object"
      ]
     },
     "execution_count": 25,
     "metadata": {},
     "output_type": "execute_result"
    }
   ],
   "source": [
    "file_pheno_pedig.Subject.describe()"
   ]
  },
  {
   "cell_type": "code",
   "execution_count": 26,
   "metadata": {},
   "outputs": [],
   "source": [
    "# Build pedigre : ID , mo, fo, hhID, mztwins,sex\n",
    "mother_id = [\"mo_{}\".format(row.Mother_ID) for ind, row in file_pheno_pedig.iterrows()]\n",
    "father_id = [\"fa_{}\".format(row.Mother_ID) for ind, row in file_pheno_pedig.iterrows()]\n",
    "household_id = [\"hh_{}\".format(row.Mother_ID) for ind, row in file_pheno_pedig.iterrows()]\n",
    "twin_id = [\"pair_{}\".format(row.Mother_ID) if row.Zygosity == \"MZ\" else \"\" for ind, row in file_pheno_pedig.iterrows()]"
   ]
  },
  {
   "cell_type": "code",
   "execution_count": 27,
   "metadata": {},
   "outputs": [
    {
     "name": "stdout",
     "output_type": "stream",
     "text": [
      "head\n"
     ]
    },
    {
     "data": {
      "text/html": [
       "<div>\n",
       "<table border=\"1\" class=\"dataframe\">\n",
       "  <thead>\n",
       "    <tr style=\"text-align: right;\">\n",
       "      <th></th>\n",
       "      <th>ID</th>\n",
       "      <th>fa</th>\n",
       "      <th>mo</th>\n",
       "      <th>sex</th>\n",
       "      <th>mztwin</th>\n",
       "      <th>hhID</th>\n",
       "    </tr>\n",
       "  </thead>\n",
       "  <tbody>\n",
       "    <tr>\n",
       "      <th>0</th>\n",
       "      <td>HCP100206</td>\n",
       "      <td>fa_56037.0</td>\n",
       "      <td>mo_56037.0</td>\n",
       "      <td>1</td>\n",
       "      <td></td>\n",
       "      <td>hh_56037.0</td>\n",
       "    </tr>\n",
       "    <tr>\n",
       "      <th>1</th>\n",
       "      <td>HCP100307</td>\n",
       "      <td>fa_51488.0</td>\n",
       "      <td>mo_51488.0</td>\n",
       "      <td>2</td>\n",
       "      <td></td>\n",
       "      <td>hh_51488.0</td>\n",
       "    </tr>\n",
       "    <tr>\n",
       "      <th>2</th>\n",
       "      <td>HCP100408</td>\n",
       "      <td>fa_51730.0</td>\n",
       "      <td>mo_51730.0</td>\n",
       "      <td>1</td>\n",
       "      <td>pair_51730.0</td>\n",
       "      <td>hh_51730.0</td>\n",
       "    </tr>\n",
       "    <tr>\n",
       "      <th>3</th>\n",
       "      <td>HCP100610</td>\n",
       "      <td>fa_52813.0</td>\n",
       "      <td>mo_52813.0</td>\n",
       "      <td>1</td>\n",
       "      <td></td>\n",
       "      <td>hh_52813.0</td>\n",
       "    </tr>\n",
       "    <tr>\n",
       "      <th>4</th>\n",
       "      <td>HCP101006</td>\n",
       "      <td>fa_51283.0</td>\n",
       "      <td>mo_51283.0</td>\n",
       "      <td>2</td>\n",
       "      <td>pair_51283.0</td>\n",
       "      <td>hh_51283.0</td>\n",
       "    </tr>\n",
       "  </tbody>\n",
       "</table>\n",
       "</div>"
      ],
      "text/plain": [
       "          ID          fa          mo  sex        mztwin        hhID\n",
       "0  HCP100206  fa_56037.0  mo_56037.0    1                hh_56037.0\n",
       "1  HCP100307  fa_51488.0  mo_51488.0    2                hh_51488.0\n",
       "2  HCP100408  fa_51730.0  mo_51730.0    1  pair_51730.0  hh_51730.0\n",
       "3  HCP100610  fa_52813.0  mo_52813.0    1                hh_52813.0\n",
       "4  HCP101006  fa_51283.0  mo_51283.0    2  pair_51283.0  hh_51283.0"
      ]
     },
     "metadata": {},
     "output_type": "display_data"
    },
    {
     "name": "stdout",
     "output_type": "stream",
     "text": [
      "tail\n"
     ]
    },
    {
     "data": {
      "text/html": [
       "<div>\n",
       "<table border=\"1\" class=\"dataframe\">\n",
       "  <thead>\n",
       "    <tr style=\"text-align: right;\">\n",
       "      <th></th>\n",
       "      <th>ID</th>\n",
       "      <th>fa</th>\n",
       "      <th>mo</th>\n",
       "      <th>sex</th>\n",
       "      <th>mztwin</th>\n",
       "      <th>hhID</th>\n",
       "    </tr>\n",
       "  </thead>\n",
       "  <tbody>\n",
       "    <tr>\n",
       "      <th>803</th>\n",
       "      <td>HCP992673</td>\n",
       "      <td>fa_56143.0</td>\n",
       "      <td>mo_56143.0</td>\n",
       "      <td>2</td>\n",
       "      <td></td>\n",
       "      <td>hh_56143.0</td>\n",
       "    </tr>\n",
       "    <tr>\n",
       "      <th>804</th>\n",
       "      <td>HCP992774</td>\n",
       "      <td>fa_51345.0</td>\n",
       "      <td>mo_51345.0</td>\n",
       "      <td>1</td>\n",
       "      <td></td>\n",
       "      <td>hh_51345.0</td>\n",
       "    </tr>\n",
       "    <tr>\n",
       "      <th>805</th>\n",
       "      <td>HCP993675</td>\n",
       "      <td>fa_55800.0</td>\n",
       "      <td>mo_55800.0</td>\n",
       "      <td>2</td>\n",
       "      <td></td>\n",
       "      <td>hh_55800.0</td>\n",
       "    </tr>\n",
       "    <tr>\n",
       "      <th>806</th>\n",
       "      <td>HCP994273</td>\n",
       "      <td>fa_52364.0</td>\n",
       "      <td>mo_52364.0</td>\n",
       "      <td>1</td>\n",
       "      <td></td>\n",
       "      <td>hh_52364.0</td>\n",
       "    </tr>\n",
       "    <tr>\n",
       "      <th>807</th>\n",
       "      <td>HCP996782</td>\n",
       "      <td>fa_51541.0</td>\n",
       "      <td>mo_51541.0</td>\n",
       "      <td>2</td>\n",
       "      <td></td>\n",
       "      <td>hh_51541.0</td>\n",
       "    </tr>\n",
       "  </tbody>\n",
       "</table>\n",
       "</div>"
      ],
      "text/plain": [
       "            ID          fa          mo  sex mztwin        hhID\n",
       "803  HCP992673  fa_56143.0  mo_56143.0    2         hh_56143.0\n",
       "804  HCP992774  fa_51345.0  mo_51345.0    1         hh_51345.0\n",
       "805  HCP993675  fa_55800.0  mo_55800.0    2         hh_55800.0\n",
       "806  HCP994273  fa_52364.0  mo_52364.0    1         hh_52364.0\n",
       "807  HCP996782  fa_51541.0  mo_51541.0    2         hh_51541.0"
      ]
     },
     "metadata": {},
     "output_type": "display_data"
    },
    {
     "data": {
      "text/plain": [
       "ID        808\n",
       "fa        808\n",
       "mo        808\n",
       "sex       808\n",
       "mztwin    808\n",
       "hhID      808\n",
       "dtype: int64"
      ]
     },
     "execution_count": 27,
     "metadata": {},
     "output_type": "execute_result"
    }
   ],
   "source": [
    "# write into new data frame\n",
    "df_pedig = pd.DataFrame()\n",
    "df_pedig[\"ID\"] = file_pheno_pedig.Subject\n",
    "df_pedig[\"fa\"] = father_id\n",
    "df_pedig[\"mo\"] = mother_id\n",
    "df_pedig[\"sex\"] = file_pheno_pedig.Gender.astype(int)\n",
    "df_pedig[\"mztwin\"] = twin_id\n",
    "df_pedig[\"hhID\"] = household_id\n",
    "\n",
    "\n",
    "print(\"head\")\n",
    "display(df_pedig.head())\n",
    "print(\"tail\")\n",
    "display(df_pedig.tail())\n",
    "df_pedig.count()"
   ]
  },
  {
   "cell_type": "code",
   "execution_count": 28,
   "metadata": {
    "scrolled": false
   },
   "outputs": [],
   "source": [
    "# Look for MZ twins missing their co-twin\n",
    "uniques = list(df_pedig.mztwin.unique())\n",
    "uniques.pop(0)\n",
    "twin_counts = [np.sum(df_pedig.mztwin==twin) for twin in uniques]\n",
    "#for idx, twin in enumerate(uniques):\n",
    "    #print(\"{} occurs {} times\".format(twin, twin_counts[idx]))"
   ]
  },
  {
   "cell_type": "code",
   "execution_count": 29,
   "metadata": {
    "collapsed": true
   },
   "outputs": [],
   "source": [
    "# create a mask that will kepp only MZ twins missing their co-twin\n",
    "singles = [True if np.sum(df_pedig.mztwin==row.mztwin)==1 else False for ind, row in df_pedig.iterrows()]"
   ]
  },
  {
   "cell_type": "code",
   "execution_count": 30,
   "metadata": {
    "collapsed": true
   },
   "outputs": [],
   "source": [
    "# Make a copy of the pedigre to avoid missing up with the original data\n",
    "copy_df_pedig = df_pedig.copy()"
   ]
  },
  {
   "cell_type": "code",
   "execution_count": 31,
   "metadata": {
    "scrolled": true
   },
   "outputs": [
    {
     "data": {
      "text/html": [
       "<div>\n",
       "<table border=\"1\" class=\"dataframe\">\n",
       "  <thead>\n",
       "    <tr style=\"text-align: right;\">\n",
       "      <th></th>\n",
       "      <th>ID</th>\n",
       "      <th>fa</th>\n",
       "      <th>mo</th>\n",
       "      <th>sex</th>\n",
       "      <th>mztwin</th>\n",
       "      <th>hhID</th>\n",
       "    </tr>\n",
       "  </thead>\n",
       "  <tbody>\n",
       "    <tr>\n",
       "      <th>37</th>\n",
       "      <td>M_HCP110007</td>\n",
       "      <td>fa_54572.0</td>\n",
       "      <td>mo_54572.0</td>\n",
       "      <td>2</td>\n",
       "      <td>pair_54572.0</td>\n",
       "      <td>hh_54572.0</td>\n",
       "    </tr>\n",
       "    <tr>\n",
       "      <th>55</th>\n",
       "      <td>M_HCP114823</td>\n",
       "      <td>fa_52925.0</td>\n",
       "      <td>mo_52925.0</td>\n",
       "      <td>2</td>\n",
       "      <td>pair_52925.0</td>\n",
       "      <td>hh_52925.0</td>\n",
       "    </tr>\n",
       "    <tr>\n",
       "      <th>82</th>\n",
       "      <td>M_HCP122317</td>\n",
       "      <td>fa_51802.0</td>\n",
       "      <td>mo_51802.0</td>\n",
       "      <td>1</td>\n",
       "      <td>pair_51802.0</td>\n",
       "      <td>hh_51802.0</td>\n",
       "    </tr>\n",
       "    <tr>\n",
       "      <th>88</th>\n",
       "      <td>M_HCP123824</td>\n",
       "      <td>fa_56022.0</td>\n",
       "      <td>mo_56022.0</td>\n",
       "      <td>1</td>\n",
       "      <td>pair_56022.0</td>\n",
       "      <td>hh_56022.0</td>\n",
       "    </tr>\n",
       "    <tr>\n",
       "      <th>91</th>\n",
       "      <td>M_HCP124422</td>\n",
       "      <td>fa_51529.0</td>\n",
       "      <td>mo_51529.0</td>\n",
       "      <td>2</td>\n",
       "      <td>pair_51529.0</td>\n",
       "      <td>hh_51529.0</td>\n",
       "    </tr>\n",
       "  </tbody>\n",
       "</table>\n",
       "</div>"
      ],
      "text/plain": [
       "             ID          fa          mo  sex        mztwin        hhID\n",
       "37  M_HCP110007  fa_54572.0  mo_54572.0    2  pair_54572.0  hh_54572.0\n",
       "55  M_HCP114823  fa_52925.0  mo_52925.0    2  pair_52925.0  hh_52925.0\n",
       "82  M_HCP122317  fa_51802.0  mo_51802.0    1  pair_51802.0  hh_51802.0\n",
       "88  M_HCP123824  fa_56022.0  mo_56022.0    1  pair_56022.0  hh_56022.0\n",
       "91  M_HCP124422  fa_51529.0  mo_51529.0    2  pair_51529.0  hh_51529.0"
      ]
     },
     "metadata": {},
     "output_type": "display_data"
    },
    {
     "data": {
      "text/plain": [
       "ID        38\n",
       "fa        38\n",
       "mo        38\n",
       "sex       38\n",
       "mztwin    38\n",
       "hhID      38\n",
       "dtype: int64"
      ]
     },
     "execution_count": 31,
     "metadata": {},
     "output_type": "execute_result"
    }
   ],
   "source": [
    "# Select only MZ twins missing their co-twin\n",
    "df_single_pedig = copy_df_pedig[singles]\n",
    "\n",
    "# Add \"M_\" (for missing) to a the single MZ twins\n",
    "for i, row in df_single_pedig.iterrows():\n",
    "    df_single_pedig.set_value(i,\"ID\",\"M_{}\".format(row.ID))\n",
    "display(df_single_pedig.head())\n",
    "df_single_pedig.count()"
   ]
  },
  {
   "cell_type": "code",
   "execution_count": 32,
   "metadata": {
    "scrolled": true
   },
   "outputs": [
    {
     "data": {
      "text/html": [
       "<div>\n",
       "<table border=\"1\" class=\"dataframe\">\n",
       "  <thead>\n",
       "    <tr style=\"text-align: right;\">\n",
       "      <th></th>\n",
       "      <th>ID</th>\n",
       "      <th>fa</th>\n",
       "      <th>mo</th>\n",
       "      <th>sex</th>\n",
       "      <th>mztwin</th>\n",
       "      <th>hhID</th>\n",
       "    </tr>\n",
       "  </thead>\n",
       "  <tbody>\n",
       "    <tr>\n",
       "      <th>0</th>\n",
       "      <td>HCP100206</td>\n",
       "      <td>fa_56037.0</td>\n",
       "      <td>mo_56037.0</td>\n",
       "      <td>1</td>\n",
       "      <td></td>\n",
       "      <td>hh_56037.0</td>\n",
       "    </tr>\n",
       "    <tr>\n",
       "      <th>1</th>\n",
       "      <td>HCP100307</td>\n",
       "      <td>fa_51488.0</td>\n",
       "      <td>mo_51488.0</td>\n",
       "      <td>2</td>\n",
       "      <td></td>\n",
       "      <td>hh_51488.0</td>\n",
       "    </tr>\n",
       "    <tr>\n",
       "      <th>2</th>\n",
       "      <td>HCP100408</td>\n",
       "      <td>fa_51730.0</td>\n",
       "      <td>mo_51730.0</td>\n",
       "      <td>1</td>\n",
       "      <td>pair_51730.0</td>\n",
       "      <td>hh_51730.0</td>\n",
       "    </tr>\n",
       "    <tr>\n",
       "      <th>3</th>\n",
       "      <td>HCP100610</td>\n",
       "      <td>fa_52813.0</td>\n",
       "      <td>mo_52813.0</td>\n",
       "      <td>1</td>\n",
       "      <td></td>\n",
       "      <td>hh_52813.0</td>\n",
       "    </tr>\n",
       "    <tr>\n",
       "      <th>4</th>\n",
       "      <td>HCP101006</td>\n",
       "      <td>fa_51283.0</td>\n",
       "      <td>mo_51283.0</td>\n",
       "      <td>2</td>\n",
       "      <td>pair_51283.0</td>\n",
       "      <td>hh_51283.0</td>\n",
       "    </tr>\n",
       "  </tbody>\n",
       "</table>\n",
       "</div>"
      ],
      "text/plain": [
       "          ID          fa          mo  sex        mztwin        hhID\n",
       "0  HCP100206  fa_56037.0  mo_56037.0    1                hh_56037.0\n",
       "1  HCP100307  fa_51488.0  mo_51488.0    2                hh_51488.0\n",
       "2  HCP100408  fa_51730.0  mo_51730.0    1  pair_51730.0  hh_51730.0\n",
       "3  HCP100610  fa_52813.0  mo_52813.0    1                hh_52813.0\n",
       "4  HCP101006  fa_51283.0  mo_51283.0    2  pair_51283.0  hh_51283.0"
      ]
     },
     "execution_count": 32,
     "metadata": {},
     "output_type": "execute_result"
    }
   ],
   "source": [
    "# Append pedgree with fake co-twin for the missing one\n",
    "df_pedig_final = copy_df_pedig.append(df_single_pedig)\n",
    "df_pedig_final.head()"
   ]
  },
  {
   "cell_type": "code",
   "execution_count": 33,
   "metadata": {
    "scrolled": true
   },
   "outputs": [
    {
     "data": {
      "text/html": [
       "<div>\n",
       "<table border=\"1\" class=\"dataframe\">\n",
       "  <thead>\n",
       "    <tr style=\"text-align: right;\">\n",
       "      <th></th>\n",
       "      <th>ID</th>\n",
       "      <th>fa</th>\n",
       "      <th>mo</th>\n",
       "      <th>sex</th>\n",
       "      <th>mztwin</th>\n",
       "      <th>hhID</th>\n",
       "    </tr>\n",
       "  </thead>\n",
       "  <tbody>\n",
       "    <tr>\n",
       "      <th>700</th>\n",
       "      <td>M_HCP769064</td>\n",
       "      <td>fa_52803.0</td>\n",
       "      <td>mo_52803.0</td>\n",
       "      <td>1</td>\n",
       "      <td>pair_52803.0</td>\n",
       "      <td>hh_52803.0</td>\n",
       "    </tr>\n",
       "    <tr>\n",
       "      <th>727</th>\n",
       "      <td>M_HCP835657</td>\n",
       "      <td>fa_52137.0</td>\n",
       "      <td>mo_52137.0</td>\n",
       "      <td>2</td>\n",
       "      <td>pair_52137.0</td>\n",
       "      <td>hh_52137.0</td>\n",
       "    </tr>\n",
       "    <tr>\n",
       "      <th>729</th>\n",
       "      <td>M_HCP837964</td>\n",
       "      <td>fa_52875.0</td>\n",
       "      <td>mo_52875.0</td>\n",
       "      <td>2</td>\n",
       "      <td>pair_52875.0</td>\n",
       "      <td>hh_52875.0</td>\n",
       "    </tr>\n",
       "    <tr>\n",
       "      <th>771</th>\n",
       "      <td>M_HCP904044</td>\n",
       "      <td>fa_51290.0</td>\n",
       "      <td>mo_51290.0</td>\n",
       "      <td>2</td>\n",
       "      <td>pair_51290.0</td>\n",
       "      <td>hh_51290.0</td>\n",
       "    </tr>\n",
       "    <tr>\n",
       "      <th>795</th>\n",
       "      <td>M_HCP972566</td>\n",
       "      <td>fa_56077.0</td>\n",
       "      <td>mo_56077.0</td>\n",
       "      <td>2</td>\n",
       "      <td>pair_56077.0</td>\n",
       "      <td>hh_56077.0</td>\n",
       "    </tr>\n",
       "  </tbody>\n",
       "</table>\n",
       "</div>"
      ],
      "text/plain": [
       "              ID          fa          mo  sex        mztwin        hhID\n",
       "700  M_HCP769064  fa_52803.0  mo_52803.0    1  pair_52803.0  hh_52803.0\n",
       "727  M_HCP835657  fa_52137.0  mo_52137.0    2  pair_52137.0  hh_52137.0\n",
       "729  M_HCP837964  fa_52875.0  mo_52875.0    2  pair_52875.0  hh_52875.0\n",
       "771  M_HCP904044  fa_51290.0  mo_51290.0    2  pair_51290.0  hh_51290.0\n",
       "795  M_HCP972566  fa_56077.0  mo_56077.0    2  pair_56077.0  hh_56077.0"
      ]
     },
     "execution_count": 33,
     "metadata": {},
     "output_type": "execute_result"
    }
   ],
   "source": [
    "df_pedig_final.tail()"
   ]
  },
  {
   "cell_type": "code",
   "execution_count": 34,
   "metadata": {},
   "outputs": [
    {
     "data": {
      "text/plain": [
       "ID        846\n",
       "fa        846\n",
       "mo        846\n",
       "sex       846\n",
       "mztwin    846\n",
       "hhID      846\n",
       "dtype: int64"
      ]
     },
     "execution_count": 34,
     "metadata": {},
     "output_type": "execute_result"
    }
   ],
   "source": [
    "df_pedig_final.count()"
   ]
  },
  {
   "cell_type": "code",
   "execution_count": 35,
   "metadata": {
    "collapsed": true
   },
   "outputs": [],
   "source": [
    "# Save the pedigree file\n",
    "df_pedig_final.to_csv(os.path.join(out_path,pedig_save), index=False)"
   ]
  },
  {
   "cell_type": "markdown",
   "metadata": {},
   "source": [
    "## Run SOLAR heritability estimate "
   ]
  },
  {
   "cell_type": "code",
   "execution_count": 36,
   "metadata": {},
   "outputs": [],
   "source": [
    "%%bash -s \"$out_path\" \"$solar_cov\" \"$solar_script\" \n",
    "cd $1 #cd to out_path\n",
    "#sufix=$(echo $2 | sed -e 's/ /_/g') # add a suffix of covariate\n",
    "sed -i \"104s/.*/$2/\" $3 # feed the covariate to solar script\n",
    "sed -i \"52s~.*~$1phi2.gz~\" $3 # put the right path for the simlink\n",
    "sed -i \"53s~.*~$1pedindex.out~\" $3\n",
    "sed -i \"54s~.*~$1pedindex.cde~\" $3\n",
    "sed -i \"55s~.*~$1se_univ_polygen.tcl~\" $3"
   ]
  },
  {
   "cell_type": "code",
   "execution_count": 37,
   "metadata": {},
   "outputs": [
    {
     "name": "stdout",
     "output_type": "stream",
     "text": [
      "\n",
      "SOLAR Eclipse version 8.1.1 (General), last updated on December 10, 2016\n",
      "Copyright (c) 1995-2016 Texas Biomedical Research Institute\n",
      "Enter help for help, exit to exit, doc to browse documentation.\n",
      "\n",
      "Unloading current pedigree data ...\n",
      "Loading pedigree data from the file solar_social_spm_pedigre.csv ...\n",
      "Running mibd relate ...                                                 \r",
      "Reading classes.tab ...                                                 \r",
      "Reading mibdrel.ped ...                                                 \r",
      "Writing output file ...                                                 \r",
      "                                                                        \r",
      "::::::::::::::\n",
      "mibdrel.tab\n",
      "::::::::::::::\n",
      "\n",
      "    NPairs  Relationship\n",
      "  ========  ===========================================\n",
      "      1576  Self\n",
      "       116  Identical sib pair\n",
      "      1692  Parent-offspring\n",
      "       597  Siblings\n",
      "       365  Unrelated\n",
      "\n"
     ]
    }
   ],
   "source": [
    "%%bash -s \"$out_path\" \"$pedig_save\"\n",
    "cd $1\n",
    "solar <<INTERNAL_SOLAR_SCRIPT  \n",
    "load pedi $2\n",
    "pedigree classes -full\n",
    "INTERNAL_SOLAR_SCRIPT"
   ]
  },
  {
   "cell_type": "code",
   "execution_count": 38,
   "metadata": {},
   "outputs": [
    {
     "name": "stdout",
     "output_type": "stream",
     "text": [
      "\n",
      "SOLAR Eclipse version 8.1.1 (General), last updated on December 10, 2016\n",
      "Copyright (c) 1995-2016 Texas Biomedical Research Institute\n",
      "Enter help for help, exit to exit, doc to browse documentation.\n",
      "\n",
      "Creating output directories...\n",
      "00000 : Set-0 : contrast_mental_vs_rnd_sub1                                                  \r",
      "00001 : Set-1 : contrast_mental_vs_rnd_sub2                                                  \r",
      "00002 : Set-2 : contrast_mental_vs_rnd_sub3                                                  \r",
      "00003 : Set-3 : contrast_mental_vs_rnd_sub4                                                  \r",
      "00004 : Set-4 : contrast_mental_vs_rnd_sub5                                                  \r",
      "00005 : Set-5 : mental_sub1                                                  \r",
      "00006 : Set-6 : mental_sub2                                                  \r",
      "00007 : Set-7 : mental_sub3                                                  \r",
      "00008 : Set-8 : mental_sub4                                                  \r",
      "00009 : Set-9 : mental_sub5                                                  \r",
      "00010 : Set-10 : rnd_sub1                                                  \r",
      "00011 : Set-11 : rnd_sub2                                                  \r",
      "00012 : Set-12 : rnd_sub3                                                  \r",
      "00013 : Set-13 : rnd_sub4                                                  \r",
      "00014 : Set-14 : rnd_sub5                                                  \r",
      "00015 : Set-15 : Handedness                                                  \r",
      "00016 : Set-16 : BMI                                                  \r",
      "00017 : Set-17 : FD_mean                                                  \r",
      "00018 : Set-18 : FD_scrubbed_mean                                                  \r\n",
      "All done.\n"
     ]
    }
   ],
   "source": [
    "%%bash -s \"$out_path\" \"$pheno_save\" \"$solar_out\"\n",
    "cd $1\n",
    "#if [ ! -d $3 ]; then\n",
    "#   mkdir $3\n",
    "#fi\n",
    "solar <<INTERNAL_SOLAR_SCRIPT \n",
    "load pheno $2\n",
    "INTERNAL_SOLAR_SCRIPT\n",
    "bash fcd_solar_h2r_test.sh trait_file $3 $1$2\n",
    "for i in $3/Set-*; do bash $i/run_all.sh ; done"
   ]
  },
  {
   "cell_type": "markdown",
   "metadata": {},
   "source": [
    "## Results"
   ]
  },
  {
   "cell_type": "code",
   "execution_count": 39,
   "metadata": {},
   "outputs": [
    {
     "data": {
      "text/html": [
       "<div>\n",
       "<table border=\"1\" class=\"dataframe\">\n",
       "  <thead>\n",
       "    <tr style=\"text-align: right;\">\n",
       "      <th></th>\n",
       "      <th>Trait</th>\n",
       "      <th>H2r</th>\n",
       "      <th>P</th>\n",
       "      <th>CovVarianceExpl</th>\n",
       "    </tr>\n",
       "  </thead>\n",
       "  <tbody>\n",
       "    <tr>\n",
       "      <th>0</th>\n",
       "      <td>BMI_norm</td>\n",
       "      <td>0.544387</td>\n",
       "      <td>8.997975e-13</td>\n",
       "      <td>0.392872</td>\n",
       "    </tr>\n",
       "    <tr>\n",
       "      <th>1</th>\n",
       "      <td>FD_mean_norm</td>\n",
       "      <td>0.298550</td>\n",
       "      <td>7.330000e-05</td>\n",
       "      <td>0.790017</td>\n",
       "    </tr>\n",
       "    <tr>\n",
       "      <th>2</th>\n",
       "      <td>FD_scrubbed_mean_norm</td>\n",
       "      <td>0.058525</td>\n",
       "      <td>1.965901e-01</td>\n",
       "      <td>0.935564</td>\n",
       "    </tr>\n",
       "    <tr>\n",
       "      <th>3</th>\n",
       "      <td>contrast_mental_vs_rnd_sub1_norm</td>\n",
       "      <td>0.519153</td>\n",
       "      <td>1.289367e-16</td>\n",
       "      <td>0.000285</td>\n",
       "    </tr>\n",
       "    <tr>\n",
       "      <th>4</th>\n",
       "      <td>contrast_mental_vs_rnd_sub2_norm</td>\n",
       "      <td>0.293762</td>\n",
       "      <td>1.700000e-05</td>\n",
       "      <td>0.005722</td>\n",
       "    </tr>\n",
       "    <tr>\n",
       "      <th>5</th>\n",
       "      <td>contrast_mental_vs_rnd_sub3_norm</td>\n",
       "      <td>0.245443</td>\n",
       "      <td>1.849000e-04</td>\n",
       "      <td>0.000848</td>\n",
       "    </tr>\n",
       "    <tr>\n",
       "      <th>6</th>\n",
       "      <td>contrast_mental_vs_rnd_sub4_norm</td>\n",
       "      <td>0.338329</td>\n",
       "      <td>7.000000e-07</td>\n",
       "      <td>0.000111</td>\n",
       "    </tr>\n",
       "    <tr>\n",
       "      <th>7</th>\n",
       "      <td>contrast_mental_vs_rnd_sub5_norm</td>\n",
       "      <td>0.122024</td>\n",
       "      <td>4.425070e-02</td>\n",
       "      <td>0.000008</td>\n",
       "    </tr>\n",
       "    <tr>\n",
       "      <th>8</th>\n",
       "      <td>mental_sub1_norm</td>\n",
       "      <td>0.615725</td>\n",
       "      <td>4.261339e-21</td>\n",
       "      <td>0.002175</td>\n",
       "    </tr>\n",
       "    <tr>\n",
       "      <th>9</th>\n",
       "      <td>mental_sub2_norm</td>\n",
       "      <td>0.546158</td>\n",
       "      <td>4.274352e-15</td>\n",
       "      <td>-0.001045</td>\n",
       "    </tr>\n",
       "    <tr>\n",
       "      <th>10</th>\n",
       "      <td>mental_sub3_norm</td>\n",
       "      <td>0.547843</td>\n",
       "      <td>3.457221e-15</td>\n",
       "      <td>-0.000889</td>\n",
       "    </tr>\n",
       "    <tr>\n",
       "      <th>11</th>\n",
       "      <td>mental_sub4_norm</td>\n",
       "      <td>0.552264</td>\n",
       "      <td>9.959768e-16</td>\n",
       "      <td>-0.000738</td>\n",
       "    </tr>\n",
       "    <tr>\n",
       "      <th>12</th>\n",
       "      <td>mental_sub5_norm</td>\n",
       "      <td>0.573592</td>\n",
       "      <td>4.734264e-17</td>\n",
       "      <td>0.001377</td>\n",
       "    </tr>\n",
       "    <tr>\n",
       "      <th>13</th>\n",
       "      <td>rnd_sub1_norm</td>\n",
       "      <td>0.604011</td>\n",
       "      <td>1.799351e-21</td>\n",
       "      <td>0.000947</td>\n",
       "    </tr>\n",
       "    <tr>\n",
       "      <th>14</th>\n",
       "      <td>rnd_sub2_norm</td>\n",
       "      <td>0.605879</td>\n",
       "      <td>4.110335e-18</td>\n",
       "      <td>0.000930</td>\n",
       "    </tr>\n",
       "    <tr>\n",
       "      <th>15</th>\n",
       "      <td>rnd_sub3_norm</td>\n",
       "      <td>0.605911</td>\n",
       "      <td>2.562427e-20</td>\n",
       "      <td>-0.000917</td>\n",
       "    </tr>\n",
       "    <tr>\n",
       "      <th>16</th>\n",
       "      <td>rnd_sub4_norm</td>\n",
       "      <td>0.554219</td>\n",
       "      <td>1.053448e-15</td>\n",
       "      <td>0.012446</td>\n",
       "    </tr>\n",
       "    <tr>\n",
       "      <th>17</th>\n",
       "      <td>rnd_sub5_norm</td>\n",
       "      <td>0.592912</td>\n",
       "      <td>6.716782e-19</td>\n",
       "      <td>-0.001315</td>\n",
       "    </tr>\n",
       "  </tbody>\n",
       "</table>\n",
       "</div>"
      ],
      "text/plain": [
       "                               Trait       H2r             P  CovVarianceExpl\n",
       "0               BMI_norm              0.544387  8.997975e-13         0.392872\n",
       "1               FD_mean_norm          0.298550  7.330000e-05         0.790017\n",
       "2              FD_scrubbed_mean_norm  0.058525  1.965901e-01         0.935564\n",
       "3   contrast_mental_vs_rnd_sub1_norm  0.519153  1.289367e-16         0.000285\n",
       "4   contrast_mental_vs_rnd_sub2_norm  0.293762  1.700000e-05         0.005722\n",
       "5   contrast_mental_vs_rnd_sub3_norm  0.245443  1.849000e-04         0.000848\n",
       "6   contrast_mental_vs_rnd_sub4_norm  0.338329  7.000000e-07         0.000111\n",
       "7   contrast_mental_vs_rnd_sub5_norm  0.122024  4.425070e-02         0.000008\n",
       "8               mental_sub1_norm      0.615725  4.261339e-21         0.002175\n",
       "9               mental_sub2_norm      0.546158  4.274352e-15        -0.001045\n",
       "10              mental_sub3_norm      0.547843  3.457221e-15        -0.000889\n",
       "11              mental_sub4_norm      0.552264  9.959768e-16        -0.000738\n",
       "12              mental_sub5_norm      0.573592  4.734264e-17         0.001377\n",
       "13              rnd_sub1_norm         0.604011  1.799351e-21         0.000947\n",
       "14              rnd_sub2_norm         0.605879  4.110335e-18         0.000930\n",
       "15              rnd_sub3_norm         0.605911  2.562427e-20        -0.000917\n",
       "16              rnd_sub4_norm         0.554219  1.053448e-15         0.012446\n",
       "17              rnd_sub5_norm         0.592912  6.716782e-19        -0.001315"
      ]
     },
     "execution_count": 39,
     "metadata": {},
     "output_type": "execute_result"
    }
   ],
   "source": [
    "out_herit = pd.read_csv(os.path.join(out_path,solar_out,\"se_out.out\"),sep=\"\\t\",header=None)\n",
    "out_herit_df =  pd.DataFrame()\n",
    "\n",
    "data = pd.DataFrame({\"Trait\": out_herit[2],\"H2r\": out_herit[4],\"P\": out_herit[7],\"CovVarianceExpl\": out_herit[9]})\n",
    "out_herit_df = data[[\"Trait\",\"H2r\",\"P\",\"CovVarianceExpl\"]].sort_values(['Trait'], ascending=[True]).reset_index(drop=True)\n",
    "out_herit_df"
   ]
  },
  {
   "cell_type": "code",
   "execution_count": 40,
   "metadata": {
    "collapsed": true
   },
   "outputs": [],
   "source": [
    "# remove unwanted Variables\n",
    "out_herit_df_clean = out_herit_df[~out_herit_df['Trait'].str.strip().isin(['BMI_norm','FD_mean_norm','FD_scrubbed_mean_norm'])]"
   ]
  },
  {
   "cell_type": "code",
   "execution_count": 41,
   "metadata": {},
   "outputs": [],
   "source": [
    "# FDR\n",
    "from statsmodels.sandbox.stats import multicomp as smi\n",
    "pcorr_vec = smi.multipletests(out_herit_df_clean['P'], alpha=0.05, method='fdr_bh')\n",
    "out_herit_df_clean.insert(3,'FDR',pcorr_vec[1])\n",
    "out_herit_df_clean.insert(4,'FDR_log10',-np.log10(pcorr_vec[1]))"
   ]
  },
  {
   "cell_type": "code",
   "execution_count": 42,
   "metadata": {},
   "outputs": [
    {
     "data": {
      "text/html": [
       "<div>\n",
       "<table border=\"1\" class=\"dataframe\">\n",
       "  <thead>\n",
       "    <tr style=\"text-align: right;\">\n",
       "      <th></th>\n",
       "      <th>Trait</th>\n",
       "      <th>H2r</th>\n",
       "      <th>P</th>\n",
       "      <th>FDR</th>\n",
       "      <th>FDR_log10</th>\n",
       "      <th>CovVarianceExpl</th>\n",
       "    </tr>\n",
       "  </thead>\n",
       "  <tbody>\n",
       "    <tr>\n",
       "      <th>3</th>\n",
       "      <td>contrast_mental_vs_rnd_sub1_norm</td>\n",
       "      <td>0.519153</td>\n",
       "      <td>1.289367e-16</td>\n",
       "      <td>2.762930e-16</td>\n",
       "      <td>15.558630</td>\n",
       "      <td>0.000285</td>\n",
       "    </tr>\n",
       "    <tr>\n",
       "      <th>4</th>\n",
       "      <td>contrast_mental_vs_rnd_sub2_norm</td>\n",
       "      <td>0.293762</td>\n",
       "      <td>1.700000e-05</td>\n",
       "      <td>1.961538e-05</td>\n",
       "      <td>4.707403</td>\n",
       "      <td>0.005722</td>\n",
       "    </tr>\n",
       "    <tr>\n",
       "      <th>5</th>\n",
       "      <td>contrast_mental_vs_rnd_sub3_norm</td>\n",
       "      <td>0.245443</td>\n",
       "      <td>1.849000e-04</td>\n",
       "      <td>1.981071e-04</td>\n",
       "      <td>3.703100</td>\n",
       "      <td>0.000848</td>\n",
       "    </tr>\n",
       "    <tr>\n",
       "      <th>6</th>\n",
       "      <td>contrast_mental_vs_rnd_sub4_norm</td>\n",
       "      <td>0.338329</td>\n",
       "      <td>7.000000e-07</td>\n",
       "      <td>8.750000e-07</td>\n",
       "      <td>6.057992</td>\n",
       "      <td>0.000111</td>\n",
       "    </tr>\n",
       "    <tr>\n",
       "      <th>7</th>\n",
       "      <td>contrast_mental_vs_rnd_sub5_norm</td>\n",
       "      <td>0.122024</td>\n",
       "      <td>4.425070e-02</td>\n",
       "      <td>4.425070e-02</td>\n",
       "      <td>1.354080</td>\n",
       "      <td>0.000008</td>\n",
       "    </tr>\n",
       "    <tr>\n",
       "      <th>8</th>\n",
       "      <td>mental_sub1_norm</td>\n",
       "      <td>0.615725</td>\n",
       "      <td>4.261339e-21</td>\n",
       "      <td>3.196004e-20</td>\n",
       "      <td>19.495393</td>\n",
       "      <td>0.002175</td>\n",
       "    </tr>\n",
       "    <tr>\n",
       "      <th>9</th>\n",
       "      <td>mental_sub2_norm</td>\n",
       "      <td>0.546158</td>\n",
       "      <td>4.274352e-15</td>\n",
       "      <td>5.828662e-15</td>\n",
       "      <td>14.234431</td>\n",
       "      <td>-0.001045</td>\n",
       "    </tr>\n",
       "    <tr>\n",
       "      <th>10</th>\n",
       "      <td>mental_sub3_norm</td>\n",
       "      <td>0.547843</td>\n",
       "      <td>3.457221e-15</td>\n",
       "      <td>5.185831e-15</td>\n",
       "      <td>14.285182</td>\n",
       "      <td>-0.000889</td>\n",
       "    </tr>\n",
       "    <tr>\n",
       "      <th>11</th>\n",
       "      <td>mental_sub4_norm</td>\n",
       "      <td>0.552264</td>\n",
       "      <td>9.959768e-16</td>\n",
       "      <td>1.755747e-15</td>\n",
       "      <td>14.755538</td>\n",
       "      <td>-0.000738</td>\n",
       "    </tr>\n",
       "    <tr>\n",
       "      <th>12</th>\n",
       "      <td>mental_sub5_norm</td>\n",
       "      <td>0.573592</td>\n",
       "      <td>4.734264e-17</td>\n",
       "      <td>1.183566e-16</td>\n",
       "      <td>15.926808</td>\n",
       "      <td>0.001377</td>\n",
       "    </tr>\n",
       "    <tr>\n",
       "      <th>13</th>\n",
       "      <td>rnd_sub1_norm</td>\n",
       "      <td>0.604011</td>\n",
       "      <td>1.799351e-21</td>\n",
       "      <td>2.699026e-20</td>\n",
       "      <td>19.568793</td>\n",
       "      <td>0.000947</td>\n",
       "    </tr>\n",
       "    <tr>\n",
       "      <th>14</th>\n",
       "      <td>rnd_sub2_norm</td>\n",
       "      <td>0.605879</td>\n",
       "      <td>4.110335e-18</td>\n",
       "      <td>1.233101e-17</td>\n",
       "      <td>16.909002</td>\n",
       "      <td>0.000930</td>\n",
       "    </tr>\n",
       "    <tr>\n",
       "      <th>15</th>\n",
       "      <td>rnd_sub3_norm</td>\n",
       "      <td>0.605911</td>\n",
       "      <td>2.562427e-20</td>\n",
       "      <td>1.281214e-19</td>\n",
       "      <td>18.892378</td>\n",
       "      <td>-0.000917</td>\n",
       "    </tr>\n",
       "    <tr>\n",
       "      <th>16</th>\n",
       "      <td>rnd_sub4_norm</td>\n",
       "      <td>0.554219</td>\n",
       "      <td>1.053448e-15</td>\n",
       "      <td>1.755747e-15</td>\n",
       "      <td>14.755538</td>\n",
       "      <td>0.012446</td>\n",
       "    </tr>\n",
       "    <tr>\n",
       "      <th>17</th>\n",
       "      <td>rnd_sub5_norm</td>\n",
       "      <td>0.592912</td>\n",
       "      <td>6.716782e-19</td>\n",
       "      <td>2.518793e-18</td>\n",
       "      <td>17.598807</td>\n",
       "      <td>-0.001315</td>\n",
       "    </tr>\n",
       "  </tbody>\n",
       "</table>\n",
       "</div>"
      ],
      "text/plain": [
       "                               Trait       H2r             P           FDR  \\\n",
       "3   contrast_mental_vs_rnd_sub1_norm  0.519153  1.289367e-16  2.762930e-16   \n",
       "4   contrast_mental_vs_rnd_sub2_norm  0.293762  1.700000e-05  1.961538e-05   \n",
       "5   contrast_mental_vs_rnd_sub3_norm  0.245443  1.849000e-04  1.981071e-04   \n",
       "6   contrast_mental_vs_rnd_sub4_norm  0.338329  7.000000e-07  8.750000e-07   \n",
       "7   contrast_mental_vs_rnd_sub5_norm  0.122024  4.425070e-02  4.425070e-02   \n",
       "8               mental_sub1_norm      0.615725  4.261339e-21  3.196004e-20   \n",
       "9               mental_sub2_norm      0.546158  4.274352e-15  5.828662e-15   \n",
       "10              mental_sub3_norm      0.547843  3.457221e-15  5.185831e-15   \n",
       "11              mental_sub4_norm      0.552264  9.959768e-16  1.755747e-15   \n",
       "12              mental_sub5_norm      0.573592  4.734264e-17  1.183566e-16   \n",
       "13              rnd_sub1_norm         0.604011  1.799351e-21  2.699026e-20   \n",
       "14              rnd_sub2_norm         0.605879  4.110335e-18  1.233101e-17   \n",
       "15              rnd_sub3_norm         0.605911  2.562427e-20  1.281214e-19   \n",
       "16              rnd_sub4_norm         0.554219  1.053448e-15  1.755747e-15   \n",
       "17              rnd_sub5_norm         0.592912  6.716782e-19  2.518793e-18   \n",
       "\n",
       "    FDR_log10  CovVarianceExpl  \n",
       "3   15.558630         0.000285  \n",
       "4    4.707403         0.005722  \n",
       "5    3.703100         0.000848  \n",
       "6    6.057992         0.000111  \n",
       "7    1.354080         0.000008  \n",
       "8   19.495393         0.002175  \n",
       "9   14.234431        -0.001045  \n",
       "10  14.285182        -0.000889  \n",
       "11  14.755538        -0.000738  \n",
       "12  15.926808         0.001377  \n",
       "13  19.568793         0.000947  \n",
       "14  16.909002         0.000930  \n",
       "15  18.892378        -0.000917  \n",
       "16  14.755538         0.012446  \n",
       "17  17.598807        -0.001315  "
      ]
     },
     "execution_count": 42,
     "metadata": {},
     "output_type": "execute_result"
    }
   ],
   "source": [
    "out_herit_df_clean"
   ]
  },
  {
   "cell_type": "code",
   "execution_count": 43,
   "metadata": {
    "collapsed": true
   },
   "outputs": [],
   "source": [
    "# Loop over trait and create heritability table for radar plot\n",
    "#drop_list = ['BMI','FD_mean','FD_scrubbed_mean','Handedness']\n",
    "#list_new = [x for x in new_list if x not in drop_list ]"
   ]
  },
  {
   "cell_type": "code",
   "execution_count": 44,
   "metadata": {
    "collapsed": true
   },
   "outputs": [],
   "source": [
    "## Loop over trait and create heritability table for radar plot\n",
    "#list_trial = [xx.replace('-','_') for xx in list_trial]\n",
    "for trait_herit in list_trial:\n",
    "    mask_df = [x[:-10] == trait_herit for x in out_herit_df_clean.Trait.str.strip()]\n",
    "    out_herit_select = out_herit_df_clean[['Trait','H2r']][mask_df]\n",
    "    # extract trial\n",
    "    column_net = [''.join(row['Trait'].split('_')[0:-2]) for ind,row in out_herit_select[['Trait']].iterrows()]\n",
    "    out_herit_select.loc[:,'Trial'] = column_net\n",
    "    # extract subtype\n",
    "    column_subt = [row['Trait'].split('_')[-2].strip() for ind,row in out_herit_select[['Trait']].iterrows()]\n",
    "    out_herit_select.loc[:,'Subt'] = column_subt\n",
    "    out_herit_clean = out_herit_select[['Trial','Subt','H2r']]\n",
    "    # Pivot table\n",
    "    out_herit_final = out_herit_clean.pivot(index='Trial',columns='Subt',values='H2r')\n",
    "    out_herit_final.index.name=None\n",
    "    out_herit_final.to_csv(os.path.join(out_path,solar_out,h2r_out_file.format(task_name,trait_herit)))"
   ]
  },
  {
   "cell_type": "code",
   "execution_count": 45,
   "metadata": {},
   "outputs": [
    {
     "data": {
      "text/html": [
       "<div>\n",
       "<table border=\"1\" class=\"dataframe\">\n",
       "  <thead>\n",
       "    <tr style=\"text-align: right;\">\n",
       "      <th>Subt</th>\n",
       "      <th>sub1</th>\n",
       "      <th>sub2</th>\n",
       "      <th>sub3</th>\n",
       "      <th>sub4</th>\n",
       "      <th>sub5</th>\n",
       "    </tr>\n",
       "  </thead>\n",
       "  <tbody>\n",
       "    <tr>\n",
       "      <th>rnd</th>\n",
       "      <td>0.604011</td>\n",
       "      <td>0.605879</td>\n",
       "      <td>0.605911</td>\n",
       "      <td>0.554219</td>\n",
       "      <td>0.592912</td>\n",
       "    </tr>\n",
       "  </tbody>\n",
       "</table>\n",
       "</div>"
      ],
      "text/plain": [
       "Subt      sub1      sub2      sub3      sub4      sub5\n",
       "rnd   0.604011  0.605879  0.605911  0.554219  0.592912"
      ]
     },
     "execution_count": 45,
     "metadata": {},
     "output_type": "execute_result"
    }
   ],
   "source": [
    "out_herit_final"
   ]
  },
  {
   "cell_type": "code",
   "execution_count": 46,
   "metadata": {
    "collapsed": true
   },
   "outputs": [],
   "source": [
    "##### R section #########"
   ]
  },
  {
   "cell_type": "code",
   "execution_count": 47,
   "metadata": {
    "collapsed": true
   },
   "outputs": [],
   "source": [
    "# first on terminal install cairo : \"sudo apt install libcairo2-dev\"\n",
    "# devtools::install_github(\"hadley/svglite\")\n",
    "# devtools::install_github(\"ricardo-bion/ggradar\", dependencies=TRUE)\n",
    "import warnings\n",
    "warnings.filterwarnings('ignore')"
   ]
  },
  {
   "cell_type": "code",
   "execution_count": 48,
   "metadata": {},
   "outputs": [],
   "source": [
    "%%R\n",
    "library(ggradar)\n",
    "suppressPackageStartupMessages(library(dplyr))\n",
    "library(scales)\n",
    "require(\"ggplot2\")"
   ]
  },
  {
   "cell_type": "code",
   "execution_count": 49,
   "metadata": {
    "scrolled": false
   },
   "outputs": [
    {
     "data": {
      "image/png": "[encoded data removed]"
     },
     "metadata": {},
     "output_type": "display_data"
    },
    {
     "data": {
      "image/png": "[encoded data removed]"
     },
     "metadata": {},
     "output_type": "display_data"
    },
    {
     "data": {
      "image/png": "[encoded data removed]"
     },
     "metadata": {},
     "output_type": "display_data"
    }
   ],
   "source": [
    "%%R -i out_path,solar_out,task_name,list_trial,path_root\n",
    "for (ii in list_trial) {\n",
    "    MyData <- read.csv(file=paste(out_path,solar_out,\"/h2r_solar_\",task_name,'_spm_',ii,'.csv',sep = ''))\n",
    "    # plot radar \n",
    "    image=ggradar(MyData, grid.min = 0,\n",
    "                  grid.mid = 0.5, grid.max = 1, axis.label.size = 5, grid.label.size = 5 ,legend.text.size =5) +\n",
    "    theme(legend.text = element_text(size = 14))\n",
    "    ggsave(file=paste(path_root,\"subtypes_scores/26-10-2016/subtype_5_spm_SOCIAL_18-Jun-2017/\" ,ii,\"_heritability.svg\",sep = ''), plot=image, width=10, height=8)\n",
    "    print(image)\n",
    "    }"
   ]
  },
  {
   "cell_type": "code",
   "execution_count": null,
   "metadata": {
    "collapsed": true
   },
   "outputs": [],
   "source": []
  }
 ],
 "metadata": {
  "anaconda-cloud": {},
  "kernelspec": {
   "display_name": "Python 3",
   "language": "python",
   "name": "python3"
  },
  "language_info": {
   "codemirror_mode": {
    "name": "ipython",
    "version": 3
   },
   "file_extension": ".py",
   "mimetype": "text/x-python",
   "name": "python",
   "nbconvert_exporter": "python",
   "pygments_lexer": "ipython3",
   "version": "3.5.2"
  },
  "varInspector": {
   "cols": {
    "lenName": 16,
    "lenType": 16,
    "lenVar": 40
   },
   "kernels_config": {
    "python": {
     "delete_cmd_postfix": "",
     "delete_cmd_prefix": "del ",
     "library": "var_list.py",
     "varRefreshCmd": "print(var_dic_list())"
    },
    "r": {
     "delete_cmd_postfix": ") ",
     "delete_cmd_prefix": "rm(",
     "library": "var_list.r",
     "varRefreshCmd": "cat(var_dic_list()) "
    }
   },
   "types_to_exclude": [
    "module",
    "function",
    "builtin_function_or_method",
    "instance",
    "_Feature"
   ],
   "window_display": false
  },
  "widgets": {
   "state": {},
   "version": "1.1.2"
  }
 },
 "nbformat": 4,
 "nbformat_minor": 1
}
