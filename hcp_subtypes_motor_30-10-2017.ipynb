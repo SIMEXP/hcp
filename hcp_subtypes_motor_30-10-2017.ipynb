{
 "cells": [
  {
   "cell_type": "markdown",
   "metadata": {},
   "source": [
    "## Subtypes motor task"
   ]
  },
  {
   "cell_type": "code",
   "execution_count": 11,
   "metadata": {},
   "outputs": [],
   "source": [
    "import os, glob\n",
    "import numpy as np\n",
    "import pandas as pd\n",
    "import matplotlib.pyplot as plt\n",
    "import nibabel as nib"
   ]
  },
  {
   "cell_type": "code",
   "execution_count": 12,
   "metadata": {},
   "outputs": [
    {
     "name": "stdout",
     "output_type": "stream",
     "text": [
      "The rpy2.ipython extension is already loaded. To reload it, use:\n",
      "  %reload_ext rpy2.ipython\n",
      "The oct2py.ipython extension is already loaded. To reload it, use:\n",
      "  %reload_ext oct2py.ipython\n"
     ]
    }
   ],
   "source": [
    "# load good stuff\n",
    "%matplotlib inline\n",
    "%load_ext rpy2.ipython\n",
    "%load_ext oct2py.ipython\n",
    "#sns.set(color_codes=True)"
   ]
  },
  {
   "cell_type": "code",
   "execution_count": 13,
   "metadata": {},
   "outputs": [],
   "source": [
    "import warnings\n",
    "warnings.filterwarnings('ignore')"
   ]
  },
  {
   "cell_type": "code",
   "execution_count": 14,
   "metadata": {},
   "outputs": [
    {
     "data": {
      "text/plain": [
       "Adding library hcp to the search path."
      ]
     },
     "metadata": {},
     "output_type": "display_data"
    },
    {
     "data": {
      "text/plain": []
     },
     "metadata": {},
     "output_type": "display_data"
    },
    {
     "data": {
      "text/plain": [
       "Adding library niak to the search path."
      ]
     },
     "metadata": {},
     "output_type": "display_data"
    },
    {
     "data": {
      "text/plain": []
     },
     "metadata": {},
     "output_type": "display_data"
    },
    {
     "data": {
      "text/plain": [
       "Adding library psom to the search path."
      ]
     },
     "metadata": {},
     "output_type": "display_data"
    },
    {
     "data": {
      "text/plain": []
     },
     "metadata": {},
     "output_type": "display_data"
    }
   ],
   "source": [
    "# Add niak hcp and psomm to oactve path\n",
    "%octave addpath(genpath('~/git/Misc'));\n",
    "%octave build_path hcp niak psom"
   ]
  },
  {
   "cell_type": "code",
   "execution_count": 15,
   "metadata": {
    "scrolled": true
   },
   "outputs": [],
   "source": [
    "#custom function for key sorting element\n",
    "import re\n",
    "\n",
    "def atoi(text):\n",
    "    return int(text) if text.isdigit() else text\n",
    "\n",
    "def natural_keys(text):\n",
    "    '''\n",
    "    alist.sort(key=natural_keys) sorts in human order\n",
    "    http://nedbatchelder.com/blog/200712/human_sorting.html\n",
    "    (See Toothy's implementation in the comments)\n",
    "    '''\n",
    "    return [ atoi(c) for c in re.split('(\\d+)', text) ]"
   ]
  },
  {
   "cell_type": "code",
   "execution_count": 16,
   "metadata": {},
   "outputs": [
    {
     "data": {
      "text/plain": [
       "5"
      ]
     },
     "execution_count": 16,
     "metadata": {},
     "output_type": "execute_result"
    }
   ],
   "source": [
    "#  Set path\n",
    "#path_root = '/home/yassinebha/Drive/HCP/subtypes_scores/26-10-2016/subtype_5_spm_LANGUAGE_03-Oct-2017/';\n",
    "path_root = '/home/yassinebha/data/data_disk/Drive/HCP2/subtypes_scores/26-10-2016/';\n",
    "path_subtype = os.path.join(path_root,'subtype_5_spm_MOTOR_18-Oct-2017/');\n",
    "path_association =  os.path.join(path_subtype,'associations/');\n",
    "path_networks =  os.path.join(path_subtype,'networks/');\n",
    "nb_sbt = natural_keys(path_subtype)[9]\n",
    "nb_sbt"
   ]
  },
  {
   "cell_type": "code",
   "execution_count": 17,
   "metadata": {},
   "outputs": [
    {
     "data": {
      "text/plain": [
       "['rf', 'lh', 't', 'lf', 'rh']"
      ]
     },
     "execution_count": 17,
     "metadata": {},
     "output_type": "execute_result"
    }
   ],
   "source": [
    "# List trials\n",
    "list_trial  = [f for f in os.listdir(path_networks)]\n",
    "list_trial "
   ]
  },
  {
   "cell_type": "code",
   "execution_count": 18,
   "metadata": {},
   "outputs": [
    {
     "data": {
      "text/plain": [
       "['sub1', 'sub2', 'sub3', 'sub4', 'sub5']"
      ]
     },
     "execution_count": 18,
     "metadata": {},
     "output_type": "execute_result"
    }
   ],
   "source": [
    "list_subtype = ['sub{}'.format(ii) for ii in range(1,nb_sbt+1)]\n",
    "list_subtype"
   ]
  },
  {
   "cell_type": "code",
   "execution_count": 19,
   "metadata": {},
   "outputs": [
    {
     "name": "stdout",
     "output_type": "stream",
     "text": [
      "Mask NVoxels = 76611\n"
     ]
    }
   ],
   "source": [
    "mask_file  =  os.path.join(path_root,'templates/mask.nii.gz')\n",
    "mask_data = nib.load(mask_file).get_data()\n",
    "mask = mask_data != 0\n",
    "header_mask = nib.load(mask_file).get_header()\n",
    "affine_mask = nib.load(mask_file).get_affine()\n",
    "print('Mask NVoxels = {}'.format(np.sum(mask)))"
   ]
  },
  {
   "cell_type": "code",
   "execution_count": 20,
   "metadata": {
    "scrolled": true
   },
   "outputs": [],
   "source": [
    "for idx,trial_name in enumerate(list_trial):\n",
    "    ## Copy spec template\n",
    "    command = ' '.join(['scp', os.path.join(path_root,'templates/template_spec.spec'),\n",
    "                        os.path.join(path_networks,trial_name,'{}_spec.spec'.format(trial_name))])\n",
    "    os.system(command)\n",
    "    # Load subtypes volume\n",
    "    file_subtype =glob.glob(os.path.join(path_networks,trial_name)+'/mean_subtype.*')\n",
    "    file_subtype =''.join(file_subtype)\n",
    "    tmp = nib.load(file_subtype).get_data()\n",
    "    tmp = np.swapaxes(np.swapaxes(tmp, 0, 3), 1, 2)\n",
    "    for subt_id in range(tmp.shape[3]):\n",
    "        subt_net = tmp[..., subt_id]\n",
    "        subt_img = nib.Nifti1Image(subt_net, affine=affine_mask,header=header_mask)\n",
    "        subt_img_file = os.path.join(path_networks,trial_name,'sub{}_mean_subtype.nii.gz'.format(subt_id+1))\n",
    "        subt_img.to_filename(subt_img_file)\n",
    "        \n",
    "        # volume to surface mapping\n",
    "        file_in = subt_img_file\n",
    "        list_templates =['lh','rh','cerebellum']\n",
    "        for template in list_templates:\n",
    "            template_file = os.path.join(path_root,'templates/{}.surf.gii'.format(template))\n",
    "            file_out =  os.path.join(path_networks,trial_name,'sub{}_mean_subtype_{}.surf.gii'.format(subt_id+1,\n",
    "                                                                                                      template))\n",
    "            command = ' '.join(['wb_command -volume-to-surface-mapping',\n",
    "                                file_in , template_file , file_out ,'-enclosing'])\n",
    "            os.system(command)\n",
    "            # Fill spec file\n",
    "            with open(os.path.join(path_networks,trial_name,'{}_spec.spec'.format(trial_name)),\"a\") as f:\n",
    "                if template == 'cerebellum':\n",
    "                    print('   <DataFile Structure=\"Cerebellum\"\\n\\\n",
    "             DataFileType=\"METRIC\"\\n\\\n",
    "             Selected=\"true\">\\n\\\n",
    "     {}\\n\\\n",
    "   </DataFile>'.format(file_out), file=f)\n",
    "                elif template == 'rh':\n",
    "                    print('   <DataFile Structure=\"CortexRight\"\\n\\\n",
    "             DataFileType=\"METRIC\"\\n\\\n",
    "             Selected=\"true\">\\n\\\n",
    "     {}\\n\\\n",
    "   </DataFile>'.format(file_out), file=f)\n",
    "                elif template == 'lh':\n",
    "                    print('   <DataFile Structure=\"CortexLeft\"\\n\\\n",
    "             DataFileType=\"METRIC\"\\n\\\n",
    "             Selected=\"true\">\\n\\\n",
    "     {}\\n\\\n",
    "   </DataFile>'.format(file_out), file=f)\n",
    "                f.close\n",
    "    with open(os.path.join(path_networks,trial_name,'{}_spec.spec'.format(trial_name)),\"a\") as f:\n",
    "        print('</CaretSpecFile>',file=f)\n",
    "        f.close"
   ]
  },
  {
   "cell_type": "code",
   "execution_count": 13,
   "metadata": {},
   "outputs": [],
   "source": [
    "# %%octave -i path_root,path_subtype,path_networks,list_trial\n",
    "# #split subtype to individual volume\n",
    "# for nn = 1:size(list_trial)\n",
    "#     trial_name = list_trial{nn};\n",
    "#     subtype_folder = [path_networks filesep trial_name ];\n",
    "#     file_subtype = dir([subtype_folder filesep 'mean_subtype.*']).name;\n",
    "#     file_in = [subtype_folder filesep file_subtype];\n",
    "#     [hdr,vol] = niak_read_vol(file_in);\n",
    "#     for ii  = 1:size(vol)(4)\n",
    "#         file_n = sprintf('sub%i_mean_subtype.nii.gz',ii);\n",
    "#         hdr.file_name = [subtype_folder filesep file_n];\n",
    "#         niak_write_vol(hdr,vol(:,:,:,1));\n",
    "#         cd ([path_root filesep 'templates/'])\n",
    "#         system(['sh ' path_root filesep 'templates/volume_to_surface_mapping.sh ' hdr.file_name]);\n",
    "#     end\n",
    "# end"
   ]
  },
  {
   "cell_type": "code",
   "execution_count": null,
   "metadata": {},
   "outputs": [],
   "source": []
  },
  {
   "cell_type": "code",
   "execution_count": null,
   "metadata": {},
   "outputs": [],
   "source": []
  }
 ],
 "metadata": {
  "kernelspec": {
   "display_name": "Python 3",
   "language": "python",
   "name": "python3"
  },
  "language_info": {
   "codemirror_mode": {
    "name": "ipython",
    "version": 2
   },
   "file_extension": ".py",
   "mimetype": "text/x-python",
   "name": "python",
   "nbconvert_exporter": "python",
   "pygments_lexer": "ipython2",
   "version": "2.7.17"
  },
  "varInspector": {
   "cols": {
    "lenName": 16,
    "lenType": 16,
    "lenVar": 40
   },
   "kernels_config": {
    "python": {
     "delete_cmd_postfix": "",
     "delete_cmd_prefix": "del ",
     "library": "var_list.py",
     "varRefreshCmd": "print(var_dic_list())"
    },
    "r": {
     "delete_cmd_postfix": ") ",
     "delete_cmd_prefix": "rm(",
     "library": "var_list.r",
     "varRefreshCmd": "cat(var_dic_list()) "
    }
   },
   "types_to_exclude": [
    "module",
    "function",
    "builtin_function_or_method",
    "instance",
    "_Feature"
   ],
   "window_display": false
  },
  "widgets": {
   "state": {},
   "version": "1.1.2"
  }
 },
 "nbformat": 4,
 "nbformat_minor": 2
}
