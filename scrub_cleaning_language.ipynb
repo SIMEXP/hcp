{
 "cells": [
  {
   "cell_type": "markdown",
   "metadata": {},
   "source": [
    "### Clean Scrubbing file for language task"
   ]
  },
  {
   "cell_type": "markdown",
   "metadata": {},
   "source": [
    "- Build a scrubbing file to be used on subtype analysis for language task\n",
    "- Add mean run1 and run1 for FD an FD_scrubbed\n",
    "- Visualize correlation between run 1 and 2 for FD and FD scrubbed"
   ]
  },
  {
   "cell_type": "code",
   "execution_count": 92,
   "metadata": {
    "collapsed": true
   },
   "outputs": [],
   "source": [
    "# Import pandas\n",
    "import os\n",
    "import pandas as pd\n",
    "import numpy as np\n",
    "import seaborn as sns\n",
    "import matplotlib.pyplot as plt\n",
    "from IPython.display import display"
   ]
  },
  {
   "cell_type": "code",
   "execution_count": 93,
   "metadata": {
    "collapsed": true
   },
   "outputs": [],
   "source": [
    "%matplotlib inline"
   ]
  },
  {
   "cell_type": "code",
   "execution_count": 69,
   "metadata": {
    "collapsed": false
   },
   "outputs": [
    {
     "data": {
      "text/html": [
       "<div>\n",
       "<table border=\"1\" class=\"dataframe\">\n",
       "  <thead>\n",
       "    <tr style=\"text-align: right;\">\n",
       "      <th></th>\n",
       "      <th></th>\n",
       "      <th>frames_scrubbed</th>\n",
       "      <th>frames_OK</th>\n",
       "      <th>FD</th>\n",
       "      <th>FD_scrubbed</th>\n",
       "    </tr>\n",
       "  </thead>\n",
       "  <tbody>\n",
       "    <tr>\n",
       "      <th>0</th>\n",
       "      <td>HCP100206_sess1_wmRL</td>\n",
       "      <td>0.0</td>\n",
       "      <td>405.0</td>\n",
       "      <td>0.083342</td>\n",
       "      <td>0.083342</td>\n",
       "    </tr>\n",
       "    <tr>\n",
       "      <th>1</th>\n",
       "      <td>HCP100206_sess1_wmLR</td>\n",
       "      <td>0.0</td>\n",
       "      <td>405.0</td>\n",
       "      <td>0.082368</td>\n",
       "      <td>0.082368</td>\n",
       "    </tr>\n",
       "    <tr>\n",
       "      <th>2</th>\n",
       "      <td>HCP100206_sess1_gambRL</td>\n",
       "      <td>0.0</td>\n",
       "      <td>253.0</td>\n",
       "      <td>0.081728</td>\n",
       "      <td>0.081728</td>\n",
       "    </tr>\n",
       "    <tr>\n",
       "      <th>3</th>\n",
       "      <td>HCP100206_sess1_gambLR</td>\n",
       "      <td>0.0</td>\n",
       "      <td>253.0</td>\n",
       "      <td>0.098565</td>\n",
       "      <td>0.098565</td>\n",
       "    </tr>\n",
       "    <tr>\n",
       "      <th>4</th>\n",
       "      <td>HCP100206_sess1_motRL</td>\n",
       "      <td>0.0</td>\n",
       "      <td>284.0</td>\n",
       "      <td>0.090883</td>\n",
       "      <td>0.090883</td>\n",
       "    </tr>\n",
       "  </tbody>\n",
       "</table>\n",
       "</div>"
      ],
      "text/plain": [
       "                            frames_scrubbed   frames_OK        FD   \\\n",
       "0    HCP100206_sess1_wmRL                0.0       405.0  0.083342   \n",
       "1    HCP100206_sess1_wmLR                0.0       405.0  0.082368   \n",
       "2  HCP100206_sess1_gambRL                0.0       253.0  0.081728   \n",
       "3  HCP100206_sess1_gambLR                0.0       253.0  0.098565   \n",
       "4   HCP100206_sess1_motRL                0.0       284.0  0.090883   \n",
       "\n",
       "   FD_scrubbed  \n",
       "0     0.083342  \n",
       "1     0.082368  \n",
       "2     0.081728  \n",
       "3     0.098565  \n",
       "4     0.090883  "
      ]
     },
     "execution_count": 69,
     "metadata": {},
     "output_type": "execute_result"
    }
   ],
   "source": [
    "# Set path\n",
    "path_root = \"/media/yassinebha/database27/Drive/HCP/\"\n",
    "path_scrub = os.path.join(path_root,\"subtypes_scores/26-10-2016/pheno/qc_scrubbing_group.csv\")\n",
    "# Read scrubbing file\n",
    "scrub_raw = pd.read_csv(path_scrub)\n",
    "scrub_raw.head()"
   ]
  },
  {
   "cell_type": "code",
   "execution_count": 70,
   "metadata": {
    "collapsed": false
   },
   "outputs": [
    {
     "name": "stderr",
     "output_type": "stream",
     "text": [
      "/usr/local/lib/python3.4/dist-packages/pandas/core/frame.py:2834: SettingWithCopyWarning: \n",
      "A value is trying to be set on a copy of a slice from a DataFrame\n",
      "\n",
      "See the caveats in the documentation: http://pandas.pydata.org/pandas-docs/stable/indexing.html#indexing-view-versus-copy\n",
      "  **kwargs)\n",
      "/usr/local/lib/python3.4/dist-packages/ipykernel/__main__.py:5: SettingWithCopyWarning: \n",
      "A value is trying to be set on a copy of a slice from a DataFrame.\n",
      "Try using .loc[row_indexer,col_indexer] = value instead\n",
      "\n",
      "See the caveats in the documentation: http://pandas.pydata.org/pandas-docs/stable/indexing.html#indexing-view-versus-copy\n",
      "/usr/local/lib/python3.4/dist-packages/ipykernel/__main__.py:10: SettingWithCopyWarning: \n",
      "A value is trying to be set on a copy of a slice from a DataFrame.\n",
      "Try using .loc[row_indexer,col_indexer] = value instead\n",
      "\n",
      "See the caveats in the documentation: http://pandas.pydata.org/pandas-docs/stable/indexing.html#indexing-view-versus-copy\n"
     ]
    },
    {
     "data": {
      "text/html": [
       "<div>\n",
       "<table border=\"1\" class=\"dataframe\">\n",
       "  <thead>\n",
       "    <tr style=\"text-align: right;\">\n",
       "      <th></th>\n",
       "      <th></th>\n",
       "      <th>frames_scrubbed</th>\n",
       "      <th>frames_OK</th>\n",
       "      <th>FD_RL</th>\n",
       "      <th>FD_scrubbed_RL</th>\n",
       "      <th>ID</th>\n",
       "    </tr>\n",
       "  </thead>\n",
       "  <tbody>\n",
       "    <tr>\n",
       "      <th>6</th>\n",
       "      <td>HCP100206_sess2_langRL</td>\n",
       "      <td>0.0</td>\n",
       "      <td>316.0</td>\n",
       "      <td>0.088456</td>\n",
       "      <td>0.088456</td>\n",
       "      <td>HCP100206</td>\n",
       "    </tr>\n",
       "    <tr>\n",
       "      <th>20</th>\n",
       "      <td>HCP100307_sess2_langRL</td>\n",
       "      <td>0.0</td>\n",
       "      <td>316.0</td>\n",
       "      <td>0.101970</td>\n",
       "      <td>0.101970</td>\n",
       "      <td>HCP100307</td>\n",
       "    </tr>\n",
       "    <tr>\n",
       "      <th>34</th>\n",
       "      <td>HCP100408_sess2_langRL</td>\n",
       "      <td>0.0</td>\n",
       "      <td>316.0</td>\n",
       "      <td>0.128052</td>\n",
       "      <td>0.128052</td>\n",
       "      <td>HCP100408</td>\n",
       "    </tr>\n",
       "    <tr>\n",
       "      <th>48</th>\n",
       "      <td>HCP100610_sess2_langRL</td>\n",
       "      <td>0.0</td>\n",
       "      <td>316.0</td>\n",
       "      <td>0.189474</td>\n",
       "      <td>0.189474</td>\n",
       "      <td>HCP100610</td>\n",
       "    </tr>\n",
       "    <tr>\n",
       "      <th>62</th>\n",
       "      <td>HCP101006_sess2_langRL</td>\n",
       "      <td>0.0</td>\n",
       "      <td>316.0</td>\n",
       "      <td>0.156877</td>\n",
       "      <td>0.156877</td>\n",
       "      <td>HCP101006</td>\n",
       "    </tr>\n",
       "  </tbody>\n",
       "</table>\n",
       "</div>"
      ],
      "text/plain": [
       "                             frames_scrubbed   frames_OK      FD_RL  \\\n",
       "6   HCP100206_sess2_langRL                0.0       316.0  0.088456   \n",
       "20  HCP100307_sess2_langRL                0.0       316.0  0.101970   \n",
       "34  HCP100408_sess2_langRL                0.0       316.0  0.128052   \n",
       "48  HCP100610_sess2_langRL                0.0       316.0  0.189474   \n",
       "62  HCP101006_sess2_langRL                0.0       316.0  0.156877   \n",
       "\n",
       "    FD_scrubbed_RL         ID  \n",
       "6         0.088456  HCP100206  \n",
       "20        0.101970  HCP100307  \n",
       "34        0.128052  HCP100408  \n",
       "48        0.189474  HCP100610  \n",
       "62        0.156877  HCP101006  "
      ]
     },
     "metadata": {},
     "output_type": "display_data"
    },
    {
     "data": {
      "text/html": [
       "<div>\n",
       "<table border=\"1\" class=\"dataframe\">\n",
       "  <thead>\n",
       "    <tr style=\"text-align: right;\">\n",
       "      <th></th>\n",
       "      <th></th>\n",
       "      <th>frames_scrubbed</th>\n",
       "      <th>frames_OK</th>\n",
       "      <th>FD_LR</th>\n",
       "      <th>FD_scrubbed_LR</th>\n",
       "      <th>ID</th>\n",
       "    </tr>\n",
       "  </thead>\n",
       "  <tbody>\n",
       "    <tr>\n",
       "      <th>7</th>\n",
       "      <td>HCP100206_sess2_langLR</td>\n",
       "      <td>0.0</td>\n",
       "      <td>316.0</td>\n",
       "      <td>0.099963</td>\n",
       "      <td>0.099963</td>\n",
       "      <td>HCP100206</td>\n",
       "    </tr>\n",
       "    <tr>\n",
       "      <th>21</th>\n",
       "      <td>HCP100307_sess2_langLR</td>\n",
       "      <td>0.0</td>\n",
       "      <td>316.0</td>\n",
       "      <td>0.119331</td>\n",
       "      <td>0.119331</td>\n",
       "      <td>HCP100307</td>\n",
       "    </tr>\n",
       "    <tr>\n",
       "      <th>35</th>\n",
       "      <td>HCP100408_sess2_langLR</td>\n",
       "      <td>0.0</td>\n",
       "      <td>316.0</td>\n",
       "      <td>0.140232</td>\n",
       "      <td>0.140232</td>\n",
       "      <td>HCP100408</td>\n",
       "    </tr>\n",
       "    <tr>\n",
       "      <th>49</th>\n",
       "      <td>HCP100610_sess2_langLR</td>\n",
       "      <td>0.0</td>\n",
       "      <td>316.0</td>\n",
       "      <td>0.179002</td>\n",
       "      <td>0.179002</td>\n",
       "      <td>HCP100610</td>\n",
       "    </tr>\n",
       "    <tr>\n",
       "      <th>63</th>\n",
       "      <td>HCP101006_sess2_langLR</td>\n",
       "      <td>0.0</td>\n",
       "      <td>316.0</td>\n",
       "      <td>0.131924</td>\n",
       "      <td>0.131924</td>\n",
       "      <td>HCP101006</td>\n",
       "    </tr>\n",
       "  </tbody>\n",
       "</table>\n",
       "</div>"
      ],
      "text/plain": [
       "                             frames_scrubbed   frames_OK      FD_LR  \\\n",
       "7   HCP100206_sess2_langLR                0.0       316.0  0.099963   \n",
       "21  HCP100307_sess2_langLR                0.0       316.0  0.119331   \n",
       "35  HCP100408_sess2_langLR                0.0       316.0  0.140232   \n",
       "49  HCP100610_sess2_langLR                0.0       316.0  0.179002   \n",
       "63  HCP101006_sess2_langLR                0.0       316.0  0.131924   \n",
       "\n",
       "    FD_scrubbed_LR         ID  \n",
       "7         0.099963  HCP100206  \n",
       "21        0.119331  HCP100307  \n",
       "35        0.140232  HCP100408  \n",
       "49        0.179002  HCP100610  \n",
       "63        0.131924  HCP101006  "
      ]
     },
     "metadata": {},
     "output_type": "display_data"
    }
   ],
   "source": [
    "# Select specific task\n",
    "# run1\n",
    "scrub_select_RL = scrub_raw[scrub_raw[' '].str.contains(\"langRL\")]\n",
    "scrub_select_RL.rename(columns={'FD_scrubbed':'FD_scrubbed_RL','FD ':'FD_RL'},inplace=True)\n",
    "scrub_select_RL['ID'] = scrub_select_RL[' '].str.strip('_sess2_langRL ')\n",
    "\n",
    "# run2 \n",
    "scrub_select_LR = scrub_raw[scrub_raw[' '].str.contains(\"langLR\")]\n",
    "scrub_select_LR.rename(columns={'FD_scrubbed':'FD_scrubbed_LR','FD ':'FD_LR'},inplace=True)\n",
    "scrub_select_LR['ID'] = scrub_select_LR[' '].str.strip('_sess2_langLR ')\n",
    "\n",
    "display(scrub_select_RL.head())\n",
    "display(scrub_select_LR.head())"
   ]
  },
  {
   "cell_type": "code",
   "execution_count": 71,
   "metadata": {
    "collapsed": false
   },
   "outputs": [
    {
     "data": {
      "text/html": [
       "<div>\n",
       "<table border=\"1\" class=\"dataframe\">\n",
       "  <thead>\n",
       "    <tr style=\"text-align: right;\">\n",
       "      <th></th>\n",
       "      <th></th>\n",
       "      <th>FD_RL</th>\n",
       "      <th>FD_scrubbed_RL</th>\n",
       "      <th>ID</th>\n",
       "    </tr>\n",
       "  </thead>\n",
       "  <tbody>\n",
       "    <tr>\n",
       "      <th>6</th>\n",
       "      <td>HCP100206_sess2_langRL</td>\n",
       "      <td>0.088456</td>\n",
       "      <td>0.088456</td>\n",
       "      <td>HCP100206</td>\n",
       "    </tr>\n",
       "    <tr>\n",
       "      <th>20</th>\n",
       "      <td>HCP100307_sess2_langRL</td>\n",
       "      <td>0.101970</td>\n",
       "      <td>0.101970</td>\n",
       "      <td>HCP100307</td>\n",
       "    </tr>\n",
       "    <tr>\n",
       "      <th>34</th>\n",
       "      <td>HCP100408_sess2_langRL</td>\n",
       "      <td>0.128052</td>\n",
       "      <td>0.128052</td>\n",
       "      <td>HCP100408</td>\n",
       "    </tr>\n",
       "    <tr>\n",
       "      <th>48</th>\n",
       "      <td>HCP100610_sess2_langRL</td>\n",
       "      <td>0.189474</td>\n",
       "      <td>0.189474</td>\n",
       "      <td>HCP100610</td>\n",
       "    </tr>\n",
       "    <tr>\n",
       "      <th>62</th>\n",
       "      <td>HCP101006_sess2_langRL</td>\n",
       "      <td>0.156877</td>\n",
       "      <td>0.156877</td>\n",
       "      <td>HCP101006</td>\n",
       "    </tr>\n",
       "  </tbody>\n",
       "</table>\n",
       "</div>"
      ],
      "text/plain": [
       "                                FD_RL  FD_scrubbed_RL         ID\n",
       "6   HCP100206_sess2_langRL   0.088456        0.088456  HCP100206\n",
       "20  HCP100307_sess2_langRL   0.101970        0.101970  HCP100307\n",
       "34  HCP100408_sess2_langRL   0.128052        0.128052  HCP100408\n",
       "48  HCP100610_sess2_langRL   0.189474        0.189474  HCP100610\n",
       "62  HCP101006_sess2_langRL   0.156877        0.156877  HCP101006"
      ]
     },
     "metadata": {},
     "output_type": "display_data"
    },
    {
     "data": {
      "text/html": [
       "<div>\n",
       "<table border=\"1\" class=\"dataframe\">\n",
       "  <thead>\n",
       "    <tr style=\"text-align: right;\">\n",
       "      <th></th>\n",
       "      <th></th>\n",
       "      <th>FD_LR</th>\n",
       "      <th>FD_scrubbed_LR</th>\n",
       "      <th>ID</th>\n",
       "    </tr>\n",
       "  </thead>\n",
       "  <tbody>\n",
       "    <tr>\n",
       "      <th>7</th>\n",
       "      <td>HCP100206_sess2_langLR</td>\n",
       "      <td>0.099963</td>\n",
       "      <td>0.099963</td>\n",
       "      <td>HCP100206</td>\n",
       "    </tr>\n",
       "    <tr>\n",
       "      <th>21</th>\n",
       "      <td>HCP100307_sess2_langLR</td>\n",
       "      <td>0.119331</td>\n",
       "      <td>0.119331</td>\n",
       "      <td>HCP100307</td>\n",
       "    </tr>\n",
       "    <tr>\n",
       "      <th>35</th>\n",
       "      <td>HCP100408_sess2_langLR</td>\n",
       "      <td>0.140232</td>\n",
       "      <td>0.140232</td>\n",
       "      <td>HCP100408</td>\n",
       "    </tr>\n",
       "    <tr>\n",
       "      <th>49</th>\n",
       "      <td>HCP100610_sess2_langLR</td>\n",
       "      <td>0.179002</td>\n",
       "      <td>0.179002</td>\n",
       "      <td>HCP100610</td>\n",
       "    </tr>\n",
       "    <tr>\n",
       "      <th>63</th>\n",
       "      <td>HCP101006_sess2_langLR</td>\n",
       "      <td>0.131924</td>\n",
       "      <td>0.131924</td>\n",
       "      <td>HCP101006</td>\n",
       "    </tr>\n",
       "  </tbody>\n",
       "</table>\n",
       "</div>"
      ],
      "text/plain": [
       "                                FD_LR  FD_scrubbed_LR         ID\n",
       "7   HCP100206_sess2_langLR   0.099963        0.099963  HCP100206\n",
       "21  HCP100307_sess2_langLR   0.119331        0.119331  HCP100307\n",
       "35  HCP100408_sess2_langLR   0.140232        0.140232  HCP100408\n",
       "49  HCP100610_sess2_langLR   0.179002        0.179002  HCP100610\n",
       "63  HCP101006_sess2_langLR   0.131924        0.131924  HCP101006"
      ]
     },
     "metadata": {},
     "output_type": "display_data"
    }
   ],
   "source": [
    "# Select interest variables\n",
    "scrub_select_LR_merge = scrub_select_LR [[' ','FD_LR','FD_scrubbed_LR','ID']]\n",
    "scrub_select_RL_merge = scrub_select_RL [[' ','FD_RL','FD_scrubbed_RL','ID']]\n",
    "display(scrub_select_RL_merge.head())\n",
    "display(scrub_select_LR_merge.head())"
   ]
  },
  {
   "cell_type": "code",
   "execution_count": 72,
   "metadata": {
    "collapsed": false
   },
   "outputs": [],
   "source": [
    "# Merge the tow table \n",
    "if np.shape(scrub_select_RL_merge)[0] >= np.shape(scrub_select_LR_merge)[0]:\n",
    "    merged_scrub_RL_LR = pd.merge(scrub_select_RL_merge, scrub_select_LR_merge, on='ID'.strip('_sess2_langRL'), how='left')\n",
    "else:\n",
    "    merged_scrub_RL_LR = pd.merge(scrub_select_RL_merge, scrub_select_LR_merge, on='ID'.strip('_sess2_langRL'), how='right')\n",
    "\n"
   ]
  },
  {
   "cell_type": "code",
   "execution_count": 73,
   "metadata": {
    "collapsed": false
   },
   "outputs": [
    {
     "data": {
      "text/html": [
       "<div>\n",
       "<table border=\"1\" class=\"dataframe\">\n",
       "  <thead>\n",
       "    <tr style=\"text-align: right;\">\n",
       "      <th></th>\n",
       "      <th>_x</th>\n",
       "      <th>FD_RL</th>\n",
       "      <th>FD_scrubbed_RL</th>\n",
       "      <th>ID</th>\n",
       "      <th>_y</th>\n",
       "      <th>FD_LR</th>\n",
       "      <th>FD_scrubbed_LR</th>\n",
       "    </tr>\n",
       "  </thead>\n",
       "  <tbody>\n",
       "    <tr>\n",
       "      <th>0</th>\n",
       "      <td>HCP100206_sess2_langRL</td>\n",
       "      <td>0.088456</td>\n",
       "      <td>0.088456</td>\n",
       "      <td>HCP100206</td>\n",
       "      <td>HCP100206_sess2_langLR</td>\n",
       "      <td>0.099963</td>\n",
       "      <td>0.099963</td>\n",
       "    </tr>\n",
       "    <tr>\n",
       "      <th>1</th>\n",
       "      <td>HCP100307_sess2_langRL</td>\n",
       "      <td>0.101970</td>\n",
       "      <td>0.101970</td>\n",
       "      <td>HCP100307</td>\n",
       "      <td>HCP100307_sess2_langLR</td>\n",
       "      <td>0.119331</td>\n",
       "      <td>0.119331</td>\n",
       "    </tr>\n",
       "    <tr>\n",
       "      <th>2</th>\n",
       "      <td>HCP100408_sess2_langRL</td>\n",
       "      <td>0.128052</td>\n",
       "      <td>0.128052</td>\n",
       "      <td>HCP100408</td>\n",
       "      <td>HCP100408_sess2_langLR</td>\n",
       "      <td>0.140232</td>\n",
       "      <td>0.140232</td>\n",
       "    </tr>\n",
       "    <tr>\n",
       "      <th>3</th>\n",
       "      <td>HCP100610_sess2_langRL</td>\n",
       "      <td>0.189474</td>\n",
       "      <td>0.189474</td>\n",
       "      <td>HCP100610</td>\n",
       "      <td>HCP100610_sess2_langLR</td>\n",
       "      <td>0.179002</td>\n",
       "      <td>0.179002</td>\n",
       "    </tr>\n",
       "    <tr>\n",
       "      <th>4</th>\n",
       "      <td>HCP101006_sess2_langRL</td>\n",
       "      <td>0.156877</td>\n",
       "      <td>0.156877</td>\n",
       "      <td>HCP101006</td>\n",
       "      <td>HCP101006_sess2_langLR</td>\n",
       "      <td>0.131924</td>\n",
       "      <td>0.131924</td>\n",
       "    </tr>\n",
       "  </tbody>\n",
       "</table>\n",
       "</div>"
      ],
      "text/plain": [
       "                        _x     FD_RL  FD_scrubbed_RL         ID  \\\n",
       "0  HCP100206_sess2_langRL   0.088456        0.088456  HCP100206   \n",
       "1  HCP100307_sess2_langRL   0.101970        0.101970  HCP100307   \n",
       "2  HCP100408_sess2_langRL   0.128052        0.128052  HCP100408   \n",
       "3  HCP100610_sess2_langRL   0.189474        0.189474  HCP100610   \n",
       "4  HCP101006_sess2_langRL   0.156877        0.156877  HCP101006   \n",
       "\n",
       "                        _y     FD_LR  FD_scrubbed_LR  \n",
       "0  HCP100206_sess2_langLR   0.099963        0.099963  \n",
       "1  HCP100307_sess2_langLR   0.119331        0.119331  \n",
       "2  HCP100408_sess2_langLR   0.140232        0.140232  \n",
       "3  HCP100610_sess2_langLR   0.179002        0.179002  \n",
       "4  HCP101006_sess2_langLR   0.131924        0.131924  "
      ]
     },
     "execution_count": 73,
     "metadata": {},
     "output_type": "execute_result"
    }
   ],
   "source": [
    "merged_scrub_RL_LR.head()"
   ]
  },
  {
   "cell_type": "code",
   "execution_count": 74,
   "metadata": {
    "collapsed": true
   },
   "outputs": [],
   "source": [
    "merged_scrub_RL_LR_subset = merged_scrub_RL_LR[['ID','FD_RL','FD_scrubbed_RL','FD_LR','FD_scrubbed_LR']]"
   ]
  },
  {
   "cell_type": "code",
   "execution_count": 75,
   "metadata": {
    "collapsed": false
   },
   "outputs": [
    {
     "data": {
      "text/html": [
       "<div>\n",
       "<table border=\"1\" class=\"dataframe\">\n",
       "  <thead>\n",
       "    <tr style=\"text-align: right;\">\n",
       "      <th></th>\n",
       "      <th>ID</th>\n",
       "      <th>FD_RL</th>\n",
       "      <th>FD_scrubbed_RL</th>\n",
       "      <th>FD_LR</th>\n",
       "      <th>FD_scrubbed_LR</th>\n",
       "    </tr>\n",
       "  </thead>\n",
       "  <tbody>\n",
       "    <tr>\n",
       "      <th>0</th>\n",
       "      <td>HCP100206</td>\n",
       "      <td>0.088456</td>\n",
       "      <td>0.088456</td>\n",
       "      <td>0.099963</td>\n",
       "      <td>0.099963</td>\n",
       "    </tr>\n",
       "    <tr>\n",
       "      <th>1</th>\n",
       "      <td>HCP100307</td>\n",
       "      <td>0.101970</td>\n",
       "      <td>0.101970</td>\n",
       "      <td>0.119331</td>\n",
       "      <td>0.119331</td>\n",
       "    </tr>\n",
       "    <tr>\n",
       "      <th>2</th>\n",
       "      <td>HCP100408</td>\n",
       "      <td>0.128052</td>\n",
       "      <td>0.128052</td>\n",
       "      <td>0.140232</td>\n",
       "      <td>0.140232</td>\n",
       "    </tr>\n",
       "    <tr>\n",
       "      <th>3</th>\n",
       "      <td>HCP100610</td>\n",
       "      <td>0.189474</td>\n",
       "      <td>0.189474</td>\n",
       "      <td>0.179002</td>\n",
       "      <td>0.179002</td>\n",
       "    </tr>\n",
       "    <tr>\n",
       "      <th>4</th>\n",
       "      <td>HCP101006</td>\n",
       "      <td>0.156877</td>\n",
       "      <td>0.156877</td>\n",
       "      <td>0.131924</td>\n",
       "      <td>0.131924</td>\n",
       "    </tr>\n",
       "  </tbody>\n",
       "</table>\n",
       "</div>"
      ],
      "text/plain": [
       "          ID     FD_RL  FD_scrubbed_RL     FD_LR  FD_scrubbed_LR\n",
       "0  HCP100206  0.088456        0.088456  0.099963        0.099963\n",
       "1  HCP100307  0.101970        0.101970  0.119331        0.119331\n",
       "2  HCP100408  0.128052        0.128052  0.140232        0.140232\n",
       "3  HCP100610  0.189474        0.189474  0.179002        0.179002\n",
       "4  HCP101006  0.156877        0.156877  0.131924        0.131924"
      ]
     },
     "execution_count": 75,
     "metadata": {},
     "output_type": "execute_result"
    }
   ],
   "source": [
    "merged_scrub_RL_LR_subset.head()"
   ]
  },
  {
   "cell_type": "code",
   "execution_count": 100,
   "metadata": {
    "collapsed": false
   },
   "outputs": [],
   "source": [
    "# calculate the mean FD and FD scrubbed\n",
    "merged_scrub_RL_LR_subset['FD_scrubbed_mean'] = merged_scrub_RL_LR_subset[['FD_scrubbed_RL','FD_scrubbed_LR']].mean(axis=1)\n",
    "merged_scrub_RL_LR_subset['FD_mean'] = merged_scrub_RL_LR_subset[['FD_RL','FD_LR']].mean(axis=1)\n",
    "# Save the file\n",
    "merged_scrub_RL_LR_subset.to_csv(os.path.join(path_root,\"subtypes_scores/26-10-2016/pheno/qc_scrubbing_group_language.csv\"), index=False)"
   ]
  },
  {
   "cell_type": "code",
   "execution_count": 101,
   "metadata": {
    "collapsed": false
   },
   "outputs": [
    {
     "data": {
      "text/html": [
       "<div>\n",
       "<table border=\"1\" class=\"dataframe\">\n",
       "  <thead>\n",
       "    <tr style=\"text-align: right;\">\n",
       "      <th></th>\n",
       "      <th>ID</th>\n",
       "      <th>FD_RL</th>\n",
       "      <th>FD_scrubbed_RL</th>\n",
       "      <th>FD_LR</th>\n",
       "      <th>FD_scrubbed_LR</th>\n",
       "      <th>FD_scrubbed_mean</th>\n",
       "      <th>FD_mean</th>\n",
       "    </tr>\n",
       "  </thead>\n",
       "  <tbody>\n",
       "    <tr>\n",
       "      <th>828</th>\n",
       "      <td>HCP992673</td>\n",
       "      <td>0.194723</td>\n",
       "      <td>0.126714</td>\n",
       "      <td>0.120183</td>\n",
       "      <td>0.116500</td>\n",
       "      <td>0.121607</td>\n",
       "      <td>0.157453</td>\n",
       "    </tr>\n",
       "    <tr>\n",
       "      <th>829</th>\n",
       "      <td>HCP992774</td>\n",
       "      <td>0.107888</td>\n",
       "      <td>0.107888</td>\n",
       "      <td>0.094298</td>\n",
       "      <td>0.094298</td>\n",
       "      <td>0.101093</td>\n",
       "      <td>0.101093</td>\n",
       "    </tr>\n",
       "    <tr>\n",
       "      <th>830</th>\n",
       "      <td>HCP993675</td>\n",
       "      <td>0.122257</td>\n",
       "      <td>0.122257</td>\n",
       "      <td>0.122313</td>\n",
       "      <td>0.122313</td>\n",
       "      <td>0.122285</td>\n",
       "      <td>0.122285</td>\n",
       "    </tr>\n",
       "    <tr>\n",
       "      <th>831</th>\n",
       "      <td>HCP994273</td>\n",
       "      <td>0.091318</td>\n",
       "      <td>0.091318</td>\n",
       "      <td>0.098940</td>\n",
       "      <td>0.086720</td>\n",
       "      <td>0.089019</td>\n",
       "      <td>0.095129</td>\n",
       "    </tr>\n",
       "    <tr>\n",
       "      <th>832</th>\n",
       "      <td>HCP99678</td>\n",
       "      <td>0.164816</td>\n",
       "      <td>0.151918</td>\n",
       "      <td>0.164841</td>\n",
       "      <td>0.164841</td>\n",
       "      <td>0.158380</td>\n",
       "      <td>0.164829</td>\n",
       "    </tr>\n",
       "  </tbody>\n",
       "</table>\n",
       "</div>"
      ],
      "text/plain": [
       "            ID     FD_RL  FD_scrubbed_RL     FD_LR  FD_scrubbed_LR  \\\n",
       "828  HCP992673  0.194723        0.126714  0.120183        0.116500   \n",
       "829  HCP992774  0.107888        0.107888  0.094298        0.094298   \n",
       "830  HCP993675  0.122257        0.122257  0.122313        0.122313   \n",
       "831  HCP994273  0.091318        0.091318  0.098940        0.086720   \n",
       "832   HCP99678  0.164816        0.151918  0.164841        0.164841   \n",
       "\n",
       "     FD_scrubbed_mean   FD_mean  \n",
       "828          0.121607  0.157453  \n",
       "829          0.101093  0.101093  \n",
       "830          0.122285  0.122285  \n",
       "831          0.089019  0.095129  \n",
       "832          0.158380  0.164829  "
      ]
     },
     "execution_count": 101,
     "metadata": {},
     "output_type": "execute_result"
    }
   ],
   "source": [
    "# Show final table\n",
    "merged_scrub_RL_LR_subset.tail()"
   ]
  },
  {
   "cell_type": "code",
   "execution_count": 81,
   "metadata": {
    "collapsed": false
   },
   "outputs": [],
   "source": [
    "# look if variables are correlated\n",
    "corr= merged_scrub_RL_LR_subset.corr()"
   ]
  },
  {
   "cell_type": "code",
   "execution_count": 91,
   "metadata": {
    "collapsed": false
   },
   "outputs": [
    {
     "name": "stderr",
     "output_type": "stream",
     "text": [
      "/usr/lib/python3/dist-packages/matplotlib/collections.py:549: FutureWarning: elementwise comparison failed; returning scalar instead, but in the future will perform elementwise comparison\n",
      "  if self._edgecolors == 'face':\n"
     ]
    },
    {
     "data": {
      "text/plain": [
       "<matplotlib.axes.AxesSubplot at 0x7fdf1dbdb630>"
      ]
     },
     "execution_count": 91,
     "metadata": {},
     "output_type": "execute_result"
    },
    {
     "data": {
      "image/png": "[encoded data removed]",
      "text/plain": [
       "<matplotlib.figure.Figure at 0x7fdf1e229400>"
      ]
     },
     "metadata": {},
     "output_type": "display_data"
    }
   ],
   "source": [
    "sns.set(style=\"white\")\n",
    "# Generate a mask for the upper triangle\n",
    "mask = np.zeros_like(corr, dtype=np.bool)\n",
    "mask[np.triu_indices_from(mask)] = True\n",
    "\n",
    "# Set up the matplotlib figure\n",
    "f, ax = plt.subplots(figsize=(11, 9))\n",
    "\n",
    "# Generate a custom diverging colormap\n",
    "cmap = sns.diverging_palette(220, 10, as_cmap=True)\n",
    "\n",
    "# Draw the heatmap with the mask and correct aspect ratio\n",
    "sns.heatmap(corr, cmap=cmap,vmax=0.9,vmin=0.7,\n",
    "            square=True,mask=mask,\n",
    "            linewidths=.5, cbar_kws={\"shrink\": .8}, ax=ax)"
   ]
  },
  {
   "cell_type": "code",
   "execution_count": 96,
   "metadata": {
    "collapsed": false
   },
   "outputs": [
    {
     "name": "stderr",
     "output_type": "stream",
     "text": [
      "/usr/lib/python3/dist-packages/matplotlib/collections.py:549: FutureWarning: elementwise comparison failed; returning scalar instead, but in the future will perform elementwise comparison\n",
      "  if self._edgecolors == 'face':\n"
     ]
    },
    {
     "data": {
      "image/png": "[encoded data removed]",
      "text/plain": [
       "<matplotlib.figure.Figure at 0x7fdf1dc80898>"
      ]
     },
     "metadata": {},
     "output_type": "display_data"
    }
   ],
   "source": [
    "# FD_scrubbed correlation between runs\n",
    "sns.set(color_codes=True)\n",
    "sns.jointplot(x=\"FD_scrubbed_RL\", y=\"FD_scrubbed_LR\", data=merged_scrub_RL_LR_subset,kind=\"reg\");"
   ]
  },
  {
   "cell_type": "code",
   "execution_count": 97,
   "metadata": {
    "collapsed": false
   },
   "outputs": [
    {
     "name": "stderr",
     "output_type": "stream",
     "text": [
      "/usr/lib/python3/dist-packages/matplotlib/collections.py:549: FutureWarning: elementwise comparison failed; returning scalar instead, but in the future will perform elementwise comparison\n",
      "  if self._edgecolors == 'face':\n"
     ]
    },
    {
     "data": {
      "image/png": "[encoded data removed]",
      "text/plain": [
       "<matplotlib.figure.Figure at 0x7fdf1d9b9f28>"
      ]
     },
     "metadata": {},
     "output_type": "display_data"
    }
   ],
   "source": [
    "# FD correlation between runs\n",
    "sns.set(color_codes=True)\n",
    "sns.jointplot(x=\"FD_RL\", y=\"FD_LR\", data=merged_scrub_RL_LR_subset,kind=\"reg\");"
   ]
  }
 ],
 "metadata": {
  "kernelspec": {
   "display_name": "Python 3",
   "language": "python",
   "name": "python3"
  },
  "language_info": {
   "codemirror_mode": {
    "name": "ipython",
    "version": 3
   },
   "file_extension": ".py",
   "mimetype": "text/x-python",
   "name": "python",
   "nbconvert_exporter": "python",
   "pygments_lexer": "ipython3",
   "version": "3.4.3"
  },
  "widgets": {
   "state": {},
   "version": "1.1.2"
  }
 },
 "nbformat": 4,
 "nbformat_minor": 0
}
